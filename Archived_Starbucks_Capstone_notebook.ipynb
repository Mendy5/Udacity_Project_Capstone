{
 "cells": [
  {
   "cell_type": "markdown",
   "metadata": {},
   "source": [
    "# Starbucks Capstone Challenge\n",
    "\n",
    "### Introduction\n",
    "\n",
    "This data set contains simulated data that mimics customer behavior on the Starbucks rewards mobile app. Once every few days, Starbucks sends out an offer to users of the mobile app. An offer can be merely an advertisement for a drink or an actual offer such as a discount or BOGO (buy one get one free). Some users might not receive any offer during certain weeks. \n",
    "\n",
    "Not all users receive the same offer, and that is the challenge to solve with this data set.\n",
    "\n",
    "Your task is to combine transaction, demographic and offer data to determine which demographic groups respond best to which offer type. This data set is a simplified version of the real Starbucks app because the underlying simulator only has one product whereas Starbucks actually sells dozens of products.\n",
    "\n",
    "Every offer has a validity period before the offer expires. As an example, a BOGO offer might be valid for only 5 days. You'll see in the data set that informational offers have a validity period even though these ads are merely providing information about a product; for example, if an informational offer has 7 days of validity, you can assume the customer is feeling the influence of the offer for 7 days after receiving the advertisement.\n",
    "\n",
    "You'll be given transactional data showing user purchases made on the app including the timestamp of purchase and the amount of money spent on a purchase. This transactional data also has a record for each offer that a user receives as well as a record for when a user actually views the offer. There are also records for when a user completes an offer. \n",
    "\n",
    "Keep in mind as well that someone using the app might make a purchase through the app without having received an offer or seen an offer.\n",
    "\n",
    "### Example\n",
    "\n",
    "To give an example, a user could receive a discount offer buy 10 dollars get 2 off on Monday. The offer is valid for 10 days from receipt. If the customer accumulates at least 10 dollars in purchases during the validity period, the customer completes the offer.\n",
    "\n",
    "However, there are a few things to watch out for in this data set. Customers do not opt into the offers that they receive; in other words, a user can receive an offer, never actually view the offer, and still complete the offer. For example, a user might receive the \"buy 10 dollars get 2 dollars off offer\", but the user never opens the offer during the 10 day validity period. The customer spends 15 dollars during those ten days. There will be an offer completion record in the data set; however, the customer was not influenced by the offer because the customer never viewed the offer.\n",
    "\n",
    "### Cleaning\n",
    "\n",
    "This makes data cleaning especially important and tricky.\n",
    "\n",
    "You'll also want to take into account that some demographic groups will make purchases even if they don't receive an offer. From a business perspective, if a customer is going to make a 10 dollar purchase without an offer anyway, you wouldn't want to send a buy 10 dollars get 2 dollars off offer. You'll want to try to assess what a certain demographic group will buy when not receiving any offers.\n",
    "\n",
    "### Final Advice\n",
    "\n",
    "Because this is a capstone project, you are free to analyze the data any way you see fit. For example, you could build a machine learning model that predicts how much someone will spend based on demographics and offer type. Or you could build a model that predicts whether or not someone will respond to an offer. Or, you don't need to build a machine learning model at all. You could develop a set of heuristics that determine what offer you should send to each customer (i.e., 75 percent of women customers who were 35 years old responded to offer A vs 40 percent from the same demographic to offer B, so send offer A)."
   ]
  },
  {
   "cell_type": "markdown",
   "metadata": {},
   "source": [
    "# Data Sets\n",
    "\n",
    "The data is contained in three files:\n",
    "\n",
    "* portfolio.json - containing offer ids and meta data about each offer (duration, type, etc.)\n",
    "* profile.json - demographic data for each customer\n",
    "* transcript.json - records for transactions, offers received, offers viewed, and offers completed\n",
    "\n",
    "Here is the schema and explanation of each variable in the files:\n",
    "\n",
    "**portfolio.json**\n",
    "* id (string) - offer id\n",
    "* offer_type (string) - type of offer ie BOGO, discount, informational\n",
    "* difficulty (int) - minimum required spend to complete an offer\n",
    "* reward (int) - reward given for completing an offer\n",
    "* duration (int) - time for offer to be open, in days\n",
    "* channels (list of strings)\n",
    "\n",
    "**profile.json**\n",
    "* age (int) - age of the customer \n",
    "* became_member_on (int) - date when customer created an app account\n",
    "* gender (str) - gender of the customer (note some entries contain 'O' for other rather than M or F)\n",
    "* id (str) - customer id\n",
    "* income (float) - customer's income\n",
    "\n",
    "**transcript.json**\n",
    "* event (str) - record description (ie transaction, offer received, offer viewed, etc.)\n",
    "* person (str) - customer id\n",
    "* time (int) - time in hours since start of test. The data begins at time t=0\n",
    "* value - (dict of strings) - either an offer id or transaction amount depending on the record\n",
    "\n",
    "**Note:** If you are using the workspace, you will need to go to the terminal and run the command `conda update pandas` before reading in the files. This is because the version of pandas in the workspace cannot read in the transcript.json file correctly, but the newest version of pandas can. You can access the termnal from the orange icon in the top left of this notebook.  \n",
    "\n",
    "You can see how to access the terminal and how the install works using the two images below.  First you need to access the terminal:\n",
    "\n",
    "<img src=\"pic1.png\"/>\n",
    "\n",
    "Then you will want to run the above command:\n",
    "\n",
    "<img src=\"pic2.png\"/>\n",
    "\n",
    "Finally, when you enter back into the notebook (use the jupyter icon again), you should be able to run the below cell without any errors."
   ]
  },
  {
   "cell_type": "markdown",
   "metadata": {},
   "source": [
    "# Dev & archived Codes"
   ]
  },
  {
   "cell_type": "code",
   "execution_count": null,
   "metadata": {},
   "outputs": [],
   "source": [
    "offer_trans_final_kmeans_df = offer_trans_final_df[[\"amount\", \"offer_type\"]]"
   ]
  },
  {
   "cell_type": "code",
   "execution_count": null,
   "metadata": {},
   "outputs": [],
   "source": [
    "final_df = pd.concat([offer_trans_final_kmeans_df, pd.get_dummies(offer_trans_final_kmeans_df[\"offer_type\"])], axis=1)"
   ]
  },
  {
   "cell_type": "code",
   "execution_count": null,
   "metadata": {},
   "outputs": [],
   "source": [
    "offer_trans_final_kmeans_final_df.head()"
   ]
  },
  {
   "cell_type": "code",
   "execution_count": null,
   "metadata": {},
   "outputs": [],
   "source": [
    "offer_trans_final_kmeans_final_df.drop(columns=[\"offer_type\"], inplace=True)"
   ]
  },
  {
   "cell_type": "code",
   "execution_count": null,
   "metadata": {},
   "outputs": [],
   "source": [
    "offer_trans_final_kmeans_final_df.head()"
   ]
  },
  {
   "cell_type": "code",
   "execution_count": null,
   "metadata": {},
   "outputs": [],
   "source": [
    "offer_trans_final_kmeans_final_norm_df = offer_trans_final_kmeans_final_df.copy()"
   ]
  },
  {
   "cell_type": "code",
   "execution_count": null,
   "metadata": {},
   "outputs": [],
   "source": [
    "offer_trans_final_kmeans_final_norm_df[\"amount\"] = whiten(offer_trans_final_kmeans_final_df[\"amount\"])"
   ]
  },
  {
   "cell_type": "code",
   "execution_count": null,
   "metadata": {},
   "outputs": [],
   "source": [
    "offer_trans_final_kmeans_final_norm_df.head()"
   ]
  },
  {
   "cell_type": "code",
   "execution_count": null,
   "metadata": {},
   "outputs": [],
   "source": [
    "distortions = []\n",
    "num_clusters = range(1, 7)\n",
    "\n",
    "# Create a list of distortions from the kmeans function\n",
    "for i in num_clusters:\n",
    "    cluster_centers, distortion = kmeans(offer_trans_final_kmeans_final_norm_df, i)\n",
    "    distortions.append(distortion)\n",
    "\n",
    "# Create a data frame with two lists - num_clusters, distortions\n",
    "elbow_plot = pd.DataFrame({'num_clusters': num_clusters, 'distortions': distortions})\n",
    "\n",
    "# Creat a line plot of num_clusters and distortions\n",
    "plt.plot(elbow_plot[\"num_clusters\"], elbow_plot[\"distortions\"])\n",
    "plt.xticks(elbow_plot[\"num_clusters\"])"
   ]
  },
  {
   "cell_type": "markdown",
   "metadata": {},
   "source": [
    "Try 2 clusters"
   ]
  },
  {
   "cell_type": "code",
   "execution_count": null,
   "metadata": {},
   "outputs": [],
   "source": [
    "cluster_centers, distortion = kmeans(offer_trans_final_kmeans_final_norm_df, 2)"
   ]
  },
  {
   "cell_type": "code",
   "execution_count": null,
   "metadata": {},
   "outputs": [],
   "source": [
    "offer_trans_final_kmeans_final_norm_df['cluster_labels'], distortion_list = vq(offer_trans_final_kmeans_final_norm_df, cluster_centers)"
   ]
  },
  {
   "cell_type": "code",
   "execution_count": null,
   "metadata": {},
   "outputs": [],
   "source": [
    "offer_trans_final_kmeans_final_norm_df.groupby('cluster_labels').count()"
   ]
  },
  {
   "cell_type": "code",
   "execution_count": null,
   "metadata": {},
   "outputs": [],
   "source": [
    "offer_trans_final_kmeans_final_norm_df.groupby('cluster_labels').agg({\"bogo\":sum, \"discount\":sum, \"informational\":sum, \"amount\":sum})"
   ]
  },
  {
   "cell_type": "code",
   "execution_count": null,
   "metadata": {},
   "outputs": [],
   "source": [
    "offer_trans_final_kmeans_final_norm_df.groupby('cluster_labels').agg({\"bogo\":sum, \"discount\":sum, \"informational\":sum, \"amount\":sum})"
   ]
  },
  {
   "cell_type": "markdown",
   "metadata": {},
   "source": [
    "Try 3 clusters"
   ]
  },
  {
   "cell_type": "code",
   "execution_count": null,
   "metadata": {},
   "outputs": [],
   "source": [
    "cluster_centers, distortion = kmeans(offer_trans_final_kmeans_final_norm_df, 3)"
   ]
  },
  {
   "cell_type": "code",
   "execution_count": null,
   "metadata": {},
   "outputs": [],
   "source": [
    "offer_trans_final_kmeans_final_norm_df['cluster_labels'], distortion_list = vq(offer_trans_final_kmeans_final_norm_df, cluster_centers)"
   ]
  },
  {
   "cell_type": "code",
   "execution_count": null,
   "metadata": {},
   "outputs": [],
   "source": [
    "offer_trans_final_kmeans_final_norm_df.groupby('cluster_labels').count()"
   ]
  },
  {
   "cell_type": "code",
   "execution_count": null,
   "metadata": {},
   "outputs": [],
   "source": [
    "offer_trans_final_kmeans_final_norm_df.groupby('cluster_labels').agg({\"bogo\":sum, \"discount\":sum, \"informational\":sum, \"amount\":sum})"
   ]
  },
  {
   "cell_type": "code",
   "execution_count": null,
   "metadata": {},
   "outputs": [],
   "source": []
  },
  {
   "cell_type": "markdown",
   "metadata": {},
   "source": [
    "Validate trans_info_full_final_df_temp df"
   ]
  },
  {
   "cell_type": "code",
   "execution_count": 303,
   "metadata": {
    "scrolled": false
   },
   "outputs": [
    {
     "data": {
      "text/html": [
       "<div>\n",
       "<style scoped>\n",
       "    .dataframe tbody tr th:only-of-type {\n",
       "        vertical-align: middle;\n",
       "    }\n",
       "\n",
       "    .dataframe tbody tr th {\n",
       "        vertical-align: top;\n",
       "    }\n",
       "\n",
       "    .dataframe thead th {\n",
       "        text-align: right;\n",
       "    }\n",
       "</style>\n",
       "<table border=\"1\" class=\"dataframe\">\n",
       "  <thead>\n",
       "    <tr style=\"text-align: right;\">\n",
       "      <th></th>\n",
       "      <th>customer_id</th>\n",
       "      <th>portfolio_id</th>\n",
       "      <th>amount</th>\n",
       "    </tr>\n",
       "  </thead>\n",
       "  <tbody>\n",
       "  </tbody>\n",
       "</table>\n",
       "</div>"
      ],
      "text/plain": [
       "Empty DataFrame\n",
       "Columns: [customer_id, portfolio_id, amount]\n",
       "Index: []"
      ]
     },
     "execution_count": 303,
     "metadata": {},
     "output_type": "execute_result"
    }
   ],
   "source": [
    "trans_info_full_final_df[trans_info_full_final_df[[\"customer_id\", \"portfolio_id\"]].duplicated()]"
   ]
  },
  {
   "cell_type": "code",
   "execution_count": 304,
   "metadata": {
    "scrolled": true
   },
   "outputs": [
    {
     "data": {
      "text/html": [
       "<div>\n",
       "<style scoped>\n",
       "    .dataframe tbody tr th:only-of-type {\n",
       "        vertical-align: middle;\n",
       "    }\n",
       "\n",
       "    .dataframe tbody tr th {\n",
       "        vertical-align: top;\n",
       "    }\n",
       "\n",
       "    .dataframe thead th {\n",
       "        text-align: right;\n",
       "    }\n",
       "</style>\n",
       "<table border=\"1\" class=\"dataframe\">\n",
       "  <thead>\n",
       "    <tr style=\"text-align: right;\">\n",
       "      <th></th>\n",
       "      <th>customer_id</th>\n",
       "      <th>portfolio_id</th>\n",
       "      <th>amount</th>\n",
       "    </tr>\n",
       "  </thead>\n",
       "  <tbody>\n",
       "    <tr>\n",
       "      <th>2</th>\n",
       "      <td>0020c2b971eb4e9188eac86d93036a77</td>\n",
       "      <td>5a8bc65990b245e5a138643cd4eb9837</td>\n",
       "      <td>51.1</td>\n",
       "    </tr>\n",
       "  </tbody>\n",
       "</table>\n",
       "</div>"
      ],
      "text/plain": [
       "                        customer_id                      portfolio_id  amount\n",
       "2  0020c2b971eb4e9188eac86d93036a77  5a8bc65990b245e5a138643cd4eb9837    51.1"
      ]
     },
     "execution_count": 304,
     "metadata": {},
     "output_type": "execute_result"
    }
   ],
   "source": [
    "trans_info_full_final_df[(trans_info_full_final_df[\"customer_id\"] == \"0020c2b971eb4e9188eac86d93036a77\") &\\\n",
    "                             (trans_info_full_final_df[\"portfolio_id\"] == \"5a8bc65990b245e5a138643cd4eb9837\")\n",
    "                             ]"
   ]
  },
  {
   "cell_type": "markdown",
   "metadata": {},
   "source": [
    "Need to validate the data quality in transcript_disc_clean_df"
   ]
  },
  {
   "cell_type": "markdown",
   "metadata": {},
   "source": [
    "ffecb1f8543f4bf7bade023de366d6bf\t576.0\t336\t0b1e1539f2cc45b7b9fa7c272da2e1d7\t510.0\t3.49\n",
    "ffecb1f8543f4bf7bade023de366d6bf\t744.0\t504\t0b1e1539f2cc45b7b9fa7c272da2e1d7\t510.0\t3.49"
   ]
  },
  {
   "cell_type": "code",
   "execution_count": 287,
   "metadata": {
    "scrolled": true
   },
   "outputs": [
    {
     "data": {
      "text/html": [
       "<div>\n",
       "<style scoped>\n",
       "    .dataframe tbody tr th:only-of-type {\n",
       "        vertical-align: middle;\n",
       "    }\n",
       "\n",
       "    .dataframe tbody tr th {\n",
       "        vertical-align: top;\n",
       "    }\n",
       "\n",
       "    .dataframe thead th {\n",
       "        text-align: right;\n",
       "    }\n",
       "</style>\n",
       "<table border=\"1\" class=\"dataframe\">\n",
       "  <thead>\n",
       "    <tr style=\"text-align: right;\">\n",
       "      <th></th>\n",
       "      <th>event</th>\n",
       "      <th>customer_id</th>\n",
       "      <th>time</th>\n",
       "      <th>reward</th>\n",
       "      <th>amount</th>\n",
       "      <th>portfolio_id</th>\n",
       "      <th>datetime</th>\n",
       "    </tr>\n",
       "  </thead>\n",
       "  <tbody>\n",
       "    <tr>\n",
       "      <th>122827</th>\n",
       "      <td>offer received</td>\n",
       "      <td>ffecb1f8543f4bf7bade023de366d6bf</td>\n",
       "      <td>336</td>\n",
       "      <td>0</td>\n",
       "      <td>0.0</td>\n",
       "      <td>0b1e1539f2cc45b7b9fa7c272da2e1d7</td>\n",
       "      <td>2020-05-15 00:00:00</td>\n",
       "    </tr>\n",
       "    <tr>\n",
       "      <th>137306</th>\n",
       "      <td>offer viewed</td>\n",
       "      <td>ffecb1f8543f4bf7bade023de366d6bf</td>\n",
       "      <td>360</td>\n",
       "      <td>0</td>\n",
       "      <td>0.0</td>\n",
       "      <td>0b1e1539f2cc45b7b9fa7c272da2e1d7</td>\n",
       "      <td>2020-05-16 00:00:00</td>\n",
       "    </tr>\n",
       "    <tr>\n",
       "      <th>213575</th>\n",
       "      <td>offer received</td>\n",
       "      <td>ffecb1f8543f4bf7bade023de366d6bf</td>\n",
       "      <td>504</td>\n",
       "      <td>0</td>\n",
       "      <td>0.0</td>\n",
       "      <td>0b1e1539f2cc45b7b9fa7c272da2e1d7</td>\n",
       "      <td>2020-05-22 00:00:00</td>\n",
       "    </tr>\n",
       "    <tr>\n",
       "      <th>305343</th>\n",
       "      <td>offer viewed</td>\n",
       "      <td>ffecb1f8543f4bf7bade023de366d6bf</td>\n",
       "      <td>708</td>\n",
       "      <td>0</td>\n",
       "      <td>0.0</td>\n",
       "      <td>0b1e1539f2cc45b7b9fa7c272da2e1d7</td>\n",
       "      <td>2020-05-30 12:00:00</td>\n",
       "    </tr>\n",
       "  </tbody>\n",
       "</table>\n",
       "</div>"
      ],
      "text/plain": [
       "                 event                       customer_id  time  reward  \\\n",
       "122827  offer received  ffecb1f8543f4bf7bade023de366d6bf   336       0   \n",
       "137306    offer viewed  ffecb1f8543f4bf7bade023de366d6bf   360       0   \n",
       "213575  offer received  ffecb1f8543f4bf7bade023de366d6bf   504       0   \n",
       "305343    offer viewed  ffecb1f8543f4bf7bade023de366d6bf   708       0   \n",
       "\n",
       "        amount                      portfolio_id            datetime  \n",
       "122827     0.0  0b1e1539f2cc45b7b9fa7c272da2e1d7 2020-05-15 00:00:00  \n",
       "137306     0.0  0b1e1539f2cc45b7b9fa7c272da2e1d7 2020-05-16 00:00:00  \n",
       "213575     0.0  0b1e1539f2cc45b7b9fa7c272da2e1d7 2020-05-22 00:00:00  \n",
       "305343     0.0  0b1e1539f2cc45b7b9fa7c272da2e1d7 2020-05-30 12:00:00  "
      ]
     },
     "execution_count": 287,
     "metadata": {},
     "output_type": "execute_result"
    }
   ],
   "source": [
    "transcript[(transcript[\"customer_id\"] == \"ffecb1f8543f4bf7bade023de366d6bf\")\\\n",
    "          & (transcript[\"portfolio_id\"] == \"0b1e1539f2cc45b7b9fa7c272da2e1d7\")\n",
    "          ]"
   ]
  },
  {
   "cell_type": "code",
   "execution_count": 288,
   "metadata": {},
   "outputs": [
    {
     "data": {
      "text/html": [
       "<div>\n",
       "<style scoped>\n",
       "    .dataframe tbody tr th:only-of-type {\n",
       "        vertical-align: middle;\n",
       "    }\n",
       "\n",
       "    .dataframe tbody tr th {\n",
       "        vertical-align: top;\n",
       "    }\n",
       "\n",
       "    .dataframe thead th {\n",
       "        text-align: right;\n",
       "    }\n",
       "</style>\n",
       "<table border=\"1\" class=\"dataframe\">\n",
       "  <thead>\n",
       "    <tr style=\"text-align: right;\">\n",
       "      <th></th>\n",
       "      <th>customer_id</th>\n",
       "      <th>portfolio_id</th>\n",
       "      <th>offer_received_time</th>\n",
       "      <th>offer_end_time</th>\n",
       "    </tr>\n",
       "  </thead>\n",
       "  <tbody>\n",
       "  </tbody>\n",
       "</table>\n",
       "</div>"
      ],
      "text/plain": [
       "Empty DataFrame\n",
       "Columns: [customer_id, portfolio_id, offer_received_time, offer_end_time]\n",
       "Index: []"
      ]
     },
     "execution_count": 288,
     "metadata": {},
     "output_type": "execute_result"
    }
   ],
   "source": [
    "transcript_disc_pro_cleaned_df[(transcript_disc_pro_cleaned_df[\"customer_id\"] == \"ffecb1f8543f4bf7bade023de366d6bf\")\\\n",
    "          & (transcript_disc_pro_cleaned_df[\"portfolio_id\"] == \"0b1e1539f2cc45b7b9fa7c272da2e1d7\")\n",
    "          ]"
   ]
  },
  {
   "cell_type": "code",
   "execution_count": 289,
   "metadata": {
    "scrolled": true
   },
   "outputs": [
    {
     "data": {
      "text/html": [
       "<div>\n",
       "<style scoped>\n",
       "    .dataframe tbody tr th:only-of-type {\n",
       "        vertical-align: middle;\n",
       "    }\n",
       "\n",
       "    .dataframe tbody tr th {\n",
       "        vertical-align: top;\n",
       "    }\n",
       "\n",
       "    .dataframe thead th {\n",
       "        text-align: right;\n",
       "    }\n",
       "</style>\n",
       "<table border=\"1\" class=\"dataframe\">\n",
       "  <thead>\n",
       "    <tr style=\"text-align: right;\">\n",
       "      <th></th>\n",
       "      <th>customer_id</th>\n",
       "      <th>portfolio_id</th>\n",
       "      <th>offer_received_time</th>\n",
       "      <th>duration</th>\n",
       "      <th>offer_end_time</th>\n",
       "    </tr>\n",
       "  </thead>\n",
       "  <tbody>\n",
       "    <tr>\n",
       "      <th>17646</th>\n",
       "      <td>ffecb1f8543f4bf7bade023de366d6bf</td>\n",
       "      <td>0b1e1539f2cc45b7b9fa7c272da2e1d7</td>\n",
       "      <td>336</td>\n",
       "      <td>240.0</td>\n",
       "      <td>576.0</td>\n",
       "    </tr>\n",
       "    <tr>\n",
       "      <th>29791</th>\n",
       "      <td>ffecb1f8543f4bf7bade023de366d6bf</td>\n",
       "      <td>0b1e1539f2cc45b7b9fa7c272da2e1d7</td>\n",
       "      <td>504</td>\n",
       "      <td>240.0</td>\n",
       "      <td>744.0</td>\n",
       "    </tr>\n",
       "  </tbody>\n",
       "</table>\n",
       "</div>"
      ],
      "text/plain": [
       "                            customer_id                      portfolio_id  \\\n",
       "17646  ffecb1f8543f4bf7bade023de366d6bf  0b1e1539f2cc45b7b9fa7c272da2e1d7   \n",
       "29791  ffecb1f8543f4bf7bade023de366d6bf  0b1e1539f2cc45b7b9fa7c272da2e1d7   \n",
       "\n",
       "       offer_received_time  duration  offer_end_time  \n",
       "17646                  336     240.0           576.0  \n",
       "29791                  504     240.0           744.0  "
      ]
     },
     "execution_count": 289,
     "metadata": {},
     "output_type": "execute_result"
    }
   ],
   "source": [
    "transcript_disc_clean_df[(transcript_disc_clean_df[\"customer_id\"] == \"ffecb1f8543f4bf7bade023de366d6bf\")\\\n",
    "          & (transcript_disc_clean_df[\"portfolio_id\"] == \"0b1e1539f2cc45b7b9fa7c272da2e1d7\")\n",
    "          ]"
   ]
  },
  {
   "cell_type": "code",
   "execution_count": 295,
   "metadata": {},
   "outputs": [],
   "source": [
    "trans_disc_full_final_df_test = trans_disc_full_final_df_temp[((trans_disc_full_final_df_temp[\"time\"] >= \\\n",
    "                              trans_disc_full_final_df_temp[\"offer_received_time\"]) \\\n",
    "                             & (trans_disc_full_final_df_temp[\"time\"] <= \\\n",
    "                              trans_disc_full_final_df_temp[\"offer_end_time\"])) \\\n",
    "                              | (trans_disc_full_final_df_temp[\"time\"].isnull())\n",
    "                             ].sort_values([\"customer_id\", \"portfolio_id\", \"time\"])"
   ]
  },
  {
   "cell_type": "code",
   "execution_count": 297,
   "metadata": {},
   "outputs": [
    {
     "data": {
      "text/plain": [
       "1084"
      ]
     },
     "execution_count": 297,
     "metadata": {},
     "output_type": "execute_result"
    }
   ],
   "source": [
    "trans_disc_full_final_df_test[[\"customer_id\", \"portfolio_id\", \"amount\"]].duplicated().sum()"
   ]
  },
  {
   "cell_type": "code",
   "execution_count": 298,
   "metadata": {},
   "outputs": [
    {
     "data": {
      "text/plain": [
       "(46242, 6)"
      ]
     },
     "execution_count": 298,
     "metadata": {},
     "output_type": "execute_result"
    }
   ],
   "source": [
    "trans_disc_full_final_df_test.shape"
   ]
  },
  {
   "cell_type": "code",
   "execution_count": 299,
   "metadata": {},
   "outputs": [
    {
     "data": {
      "text/plain": [
       "0.023441892651701917"
      ]
     },
     "execution_count": 299,
     "metadata": {},
     "output_type": "execute_result"
    }
   ],
   "source": [
    "1084/46242"
   ]
  },
  {
   "cell_type": "code",
   "execution_count": 290,
   "metadata": {},
   "outputs": [
    {
     "data": {
      "text/plain": [
       "array([False,  True], dtype=bool)"
      ]
     },
     "execution_count": 290,
     "metadata": {},
     "output_type": "execute_result"
    }
   ],
   "source": [
    "(transcript_disc_clean_df.groupby([\"customer_id\", \"portfolio_id\"])\\\n",
    "['offer_end_time'].count().reset_index()[\"offer_end_time\"] > 1).unique()"
   ]
  },
  {
   "cell_type": "code",
   "execution_count": 281,
   "metadata": {},
   "outputs": [
    {
     "data": {
      "text/plain": [
       "796"
      ]
     },
     "execution_count": 281,
     "metadata": {},
     "output_type": "execute_result"
    }
   ],
   "source": [
    "trans_disc_full_final_df_temp[\"time\"].isnull().sum()"
   ]
  },
  {
   "cell_type": "code",
   "execution_count": 283,
   "metadata": {
    "scrolled": true
   },
   "outputs": [
    {
     "data": {
      "text/html": [
       "<div>\n",
       "<style scoped>\n",
       "    .dataframe tbody tr th:only-of-type {\n",
       "        vertical-align: middle;\n",
       "    }\n",
       "\n",
       "    .dataframe tbody tr th {\n",
       "        vertical-align: top;\n",
       "    }\n",
       "\n",
       "    .dataframe thead th {\n",
       "        text-align: right;\n",
       "    }\n",
       "</style>\n",
       "<table border=\"1\" class=\"dataframe\">\n",
       "  <thead>\n",
       "    <tr style=\"text-align: right;\">\n",
       "      <th></th>\n",
       "      <th>customer_id</th>\n",
       "      <th>portfolio_id</th>\n",
       "      <th>offer_received_time</th>\n",
       "      <th>offer_end_time</th>\n",
       "    </tr>\n",
       "  </thead>\n",
       "  <tbody>\n",
       "    <tr>\n",
       "      <th>0</th>\n",
       "      <td>00e20b4ca129458aaab0f4727ef3513a</td>\n",
       "      <td>fafdcd668e3743c1bb461111dcafc2a4</td>\n",
       "      <td>408</td>\n",
       "      <td>618.0</td>\n",
       "    </tr>\n",
       "  </tbody>\n",
       "</table>\n",
       "</div>"
      ],
      "text/plain": [
       "                        customer_id                      portfolio_id  \\\n",
       "0  00e20b4ca129458aaab0f4727ef3513a  fafdcd668e3743c1bb461111dcafc2a4   \n",
       "\n",
       "   offer_received_time  offer_end_time  \n",
       "0                  408           618.0  "
      ]
     },
     "execution_count": 283,
     "metadata": {},
     "output_type": "execute_result"
    }
   ],
   "source": [
    "transcript_disc_pro_cleaned_df[(transcript_disc_pro_cleaned_df[\"customer_id\"] == \"00e20b4ca129458aaab0f4727ef3513a\") &\\\n",
    "(transcript_disc_pro_cleaned_df[\"portfolio_id\"] == \"fafdcd668e3743c1bb461111dcafc2a4\")]"
   ]
  },
  {
   "cell_type": "code",
   "execution_count": 291,
   "metadata": {},
   "outputs": [],
   "source": [
    "transcript_disc_val_df = transcript_disc_final_df.groupby([\"customer_id\", \"portfolio_id\", \"offer_received_time\"]).\\\n",
    "agg({\"offer_end_time\":pd.Series.nunique}).reset_index()"
   ]
  },
  {
   "cell_type": "code",
   "execution_count": 293,
   "metadata": {},
   "outputs": [
    {
     "data": {
      "text/html": [
       "<div>\n",
       "<style scoped>\n",
       "    .dataframe tbody tr th:only-of-type {\n",
       "        vertical-align: middle;\n",
       "    }\n",
       "\n",
       "    .dataframe tbody tr th {\n",
       "        vertical-align: top;\n",
       "    }\n",
       "\n",
       "    .dataframe thead th {\n",
       "        text-align: right;\n",
       "    }\n",
       "</style>\n",
       "<table border=\"1\" class=\"dataframe\">\n",
       "  <thead>\n",
       "    <tr style=\"text-align: right;\">\n",
       "      <th></th>\n",
       "      <th>customer_id</th>\n",
       "      <th>portfolio_id</th>\n",
       "      <th>offer_received_time</th>\n",
       "      <th>offer_end_time</th>\n",
       "    </tr>\n",
       "  </thead>\n",
       "  <tbody>\n",
       "    <tr>\n",
       "      <th>0</th>\n",
       "      <td>0009655768c64bdeb2e877511632db8f</td>\n",
       "      <td>2906b810c7d4411798c6938adc9daaa5</td>\n",
       "      <td>576</td>\n",
       "      <td>1.0</td>\n",
       "    </tr>\n",
       "    <tr>\n",
       "      <th>1</th>\n",
       "      <td>0009655768c64bdeb2e877511632db8f</td>\n",
       "      <td>fafdcd668e3743c1bb461111dcafc2a4</td>\n",
       "      <td>504</td>\n",
       "      <td>1.0</td>\n",
       "    </tr>\n",
       "    <tr>\n",
       "      <th>2</th>\n",
       "      <td>0011e0d4e6b944f998e987f904e8c1e5</td>\n",
       "      <td>0b1e1539f2cc45b7b9fa7c272da2e1d7</td>\n",
       "      <td>408</td>\n",
       "      <td>1.0</td>\n",
       "    </tr>\n",
       "    <tr>\n",
       "      <th>3</th>\n",
       "      <td>0011e0d4e6b944f998e987f904e8c1e5</td>\n",
       "      <td>2298d6c36e964ae4a3e7e9706d1fb8c2</td>\n",
       "      <td>168</td>\n",
       "      <td>1.0</td>\n",
       "    </tr>\n",
       "    <tr>\n",
       "      <th>4</th>\n",
       "      <td>0020c2b971eb4e9188eac86d93036a77</td>\n",
       "      <td>fafdcd668e3743c1bb461111dcafc2a4</td>\n",
       "      <td>0</td>\n",
       "      <td>1.0</td>\n",
       "    </tr>\n",
       "  </tbody>\n",
       "</table>\n",
       "</div>"
      ],
      "text/plain": [
       "                        customer_id                      portfolio_id  \\\n",
       "0  0009655768c64bdeb2e877511632db8f  2906b810c7d4411798c6938adc9daaa5   \n",
       "1  0009655768c64bdeb2e877511632db8f  fafdcd668e3743c1bb461111dcafc2a4   \n",
       "2  0011e0d4e6b944f998e987f904e8c1e5  0b1e1539f2cc45b7b9fa7c272da2e1d7   \n",
       "3  0011e0d4e6b944f998e987f904e8c1e5  2298d6c36e964ae4a3e7e9706d1fb8c2   \n",
       "4  0020c2b971eb4e9188eac86d93036a77  fafdcd668e3743c1bb461111dcafc2a4   \n",
       "\n",
       "   offer_received_time  offer_end_time  \n",
       "0                  576             1.0  \n",
       "1                  504             1.0  \n",
       "2                  408             1.0  \n",
       "3                  168             1.0  \n",
       "4                    0             1.0  "
      ]
     },
     "execution_count": 293,
     "metadata": {},
     "output_type": "execute_result"
    }
   ],
   "source": [
    "transcript_disc_val_df.head()"
   ]
  },
  {
   "cell_type": "code",
   "execution_count": 292,
   "metadata": {},
   "outputs": [
    {
     "data": {
      "text/plain": [
       "array([ 2.,  3.])"
      ]
     },
     "execution_count": 292,
     "metadata": {},
     "output_type": "execute_result"
    }
   ],
   "source": [
    "transcript_disc_val_df.loc[transcript_disc_val_df[\"offer_end_time\"]>1, \"offer_end_time\"].unique()"
   ]
  },
  {
   "cell_type": "markdown",
   "metadata": {},
   "source": [
    "Check the data have 3 end times"
   ]
  },
  {
   "cell_type": "code",
   "execution_count": 290,
   "metadata": {
    "scrolled": true
   },
   "outputs": [
    {
     "data": {
      "text/html": [
       "<div>\n",
       "<style scoped>\n",
       "    .dataframe tbody tr th:only-of-type {\n",
       "        vertical-align: middle;\n",
       "    }\n",
       "\n",
       "    .dataframe tbody tr th {\n",
       "        vertical-align: top;\n",
       "    }\n",
       "\n",
       "    .dataframe thead th {\n",
       "        text-align: right;\n",
       "    }\n",
       "</style>\n",
       "<table border=\"1\" class=\"dataframe\">\n",
       "  <thead>\n",
       "    <tr style=\"text-align: right;\">\n",
       "      <th></th>\n",
       "      <th>customer_id</th>\n",
       "      <th>portfolio_id</th>\n",
       "      <th>duration</th>\n",
       "      <th>offer_received_time</th>\n",
       "      <th>offer_end_time</th>\n",
       "    </tr>\n",
       "  </thead>\n",
       "  <tbody>\n",
       "    <tr>\n",
       "      <th>5025</th>\n",
       "      <td>2c5c63e5124e417b8504f76c868a4190</td>\n",
       "      <td>fafdcd668e3743c1bb461111dcafc2a4</td>\n",
       "      <td>240.0</td>\n",
       "      <td>336</td>\n",
       "      <td>3.0</td>\n",
       "    </tr>\n",
       "    <tr>\n",
       "      <th>10742</th>\n",
       "      <td>5ccc9ec750834277812d9a81d44debb7</td>\n",
       "      <td>fafdcd668e3743c1bb461111dcafc2a4</td>\n",
       "      <td>240.0</td>\n",
       "      <td>336</td>\n",
       "      <td>3.0</td>\n",
       "    </tr>\n",
       "    <tr>\n",
       "      <th>17429</th>\n",
       "      <td>96ae94b7eb5e404bbe7a5fe07a7d7035</td>\n",
       "      <td>fafdcd668e3743c1bb461111dcafc2a4</td>\n",
       "      <td>240.0</td>\n",
       "      <td>336</td>\n",
       "      <td>3.0</td>\n",
       "    </tr>\n",
       "    <tr>\n",
       "      <th>25721</th>\n",
       "      <td>df3abdb6b90840eeaed0934c453d6dc5</td>\n",
       "      <td>2906b810c7d4411798c6938adc9daaa5</td>\n",
       "      <td>168.0</td>\n",
       "      <td>336</td>\n",
       "      <td>3.0</td>\n",
       "    </tr>\n",
       "    <tr>\n",
       "      <th>25879</th>\n",
       "      <td>e0af91a9e5b041f59c6ff8f6df50bcd7</td>\n",
       "      <td>fafdcd668e3743c1bb461111dcafc2a4</td>\n",
       "      <td>240.0</td>\n",
       "      <td>408</td>\n",
       "      <td>3.0</td>\n",
       "    </tr>\n",
       "    <tr>\n",
       "      <th>26995</th>\n",
       "      <td>ea54840ba8a54a098de60d39fc533d51</td>\n",
       "      <td>2298d6c36e964ae4a3e7e9706d1fb8c2</td>\n",
       "      <td>168.0</td>\n",
       "      <td>336</td>\n",
       "      <td>3.0</td>\n",
       "    </tr>\n",
       "    <tr>\n",
       "      <th>27382</th>\n",
       "      <td>edc7b04392144da9979f3077095f268a</td>\n",
       "      <td>fafdcd668e3743c1bb461111dcafc2a4</td>\n",
       "      <td>240.0</td>\n",
       "      <td>336</td>\n",
       "      <td>3.0</td>\n",
       "    </tr>\n",
       "    <tr>\n",
       "      <th>27383</th>\n",
       "      <td>edc7b04392144da9979f3077095f268a</td>\n",
       "      <td>fafdcd668e3743c1bb461111dcafc2a4</td>\n",
       "      <td>240.0</td>\n",
       "      <td>408</td>\n",
       "      <td>3.0</td>\n",
       "    </tr>\n",
       "    <tr>\n",
       "      <th>27642</th>\n",
       "      <td>f017b77d373f480299a8035d844286ff</td>\n",
       "      <td>fafdcd668e3743c1bb461111dcafc2a4</td>\n",
       "      <td>240.0</td>\n",
       "      <td>408</td>\n",
       "      <td>3.0</td>\n",
       "    </tr>\n",
       "  </tbody>\n",
       "</table>\n",
       "</div>"
      ],
      "text/plain": [
       "                            customer_id                      portfolio_id  \\\n",
       "5025   2c5c63e5124e417b8504f76c868a4190  fafdcd668e3743c1bb461111dcafc2a4   \n",
       "10742  5ccc9ec750834277812d9a81d44debb7  fafdcd668e3743c1bb461111dcafc2a4   \n",
       "17429  96ae94b7eb5e404bbe7a5fe07a7d7035  fafdcd668e3743c1bb461111dcafc2a4   \n",
       "25721  df3abdb6b90840eeaed0934c453d6dc5  2906b810c7d4411798c6938adc9daaa5   \n",
       "25879  e0af91a9e5b041f59c6ff8f6df50bcd7  fafdcd668e3743c1bb461111dcafc2a4   \n",
       "26995  ea54840ba8a54a098de60d39fc533d51  2298d6c36e964ae4a3e7e9706d1fb8c2   \n",
       "27382  edc7b04392144da9979f3077095f268a  fafdcd668e3743c1bb461111dcafc2a4   \n",
       "27383  edc7b04392144da9979f3077095f268a  fafdcd668e3743c1bb461111dcafc2a4   \n",
       "27642  f017b77d373f480299a8035d844286ff  fafdcd668e3743c1bb461111dcafc2a4   \n",
       "\n",
       "       duration  offer_received_time  offer_end_time  \n",
       "5025      240.0                  336             3.0  \n",
       "10742     240.0                  336             3.0  \n",
       "17429     240.0                  336             3.0  \n",
       "25721     168.0                  336             3.0  \n",
       "25879     240.0                  408             3.0  \n",
       "26995     168.0                  336             3.0  \n",
       "27382     240.0                  336             3.0  \n",
       "27383     240.0                  408             3.0  \n",
       "27642     240.0                  408             3.0  "
      ]
     },
     "execution_count": 290,
     "metadata": {},
     "output_type": "execute_result"
    }
   ],
   "source": [
    "transcript_disc_val_df.loc[transcript_disc_val_df[\"offer_end_time\"]==3, :]"
   ]
  },
  {
   "cell_type": "markdown",
   "metadata": {},
   "source": [
    "Example: 2c5c63e5124e417b8504f76c868a4190\tfafdcd668e3743c1bb461111dcafc2a4"
   ]
  },
  {
   "cell_type": "code",
   "execution_count": 273,
   "metadata": {
    "scrolled": true
   },
   "outputs": [
    {
     "data": {
      "text/html": [
       "<div>\n",
       "<style scoped>\n",
       "    .dataframe tbody tr th:only-of-type {\n",
       "        vertical-align: middle;\n",
       "    }\n",
       "\n",
       "    .dataframe tbody tr th {\n",
       "        vertical-align: top;\n",
       "    }\n",
       "\n",
       "    .dataframe thead th {\n",
       "        text-align: right;\n",
       "    }\n",
       "</style>\n",
       "<table border=\"1\" class=\"dataframe\">\n",
       "  <thead>\n",
       "    <tr style=\"text-align: right;\">\n",
       "      <th></th>\n",
       "      <th>customer_id</th>\n",
       "      <th>portfolio_id</th>\n",
       "      <th>offer_received_time</th>\n",
       "      <th>duration</th>\n",
       "      <th>offer_end_time</th>\n",
       "    </tr>\n",
       "  </thead>\n",
       "  <tbody>\n",
       "    <tr>\n",
       "      <th>11894</th>\n",
       "      <td>2c5c63e5124e417b8504f76c868a4190</td>\n",
       "      <td>fafdcd668e3743c1bb461111dcafc2a4</td>\n",
       "      <td>336</td>\n",
       "      <td>240.0</td>\n",
       "      <td>366.0</td>\n",
       "    </tr>\n",
       "    <tr>\n",
       "      <th>11895</th>\n",
       "      <td>2c5c63e5124e417b8504f76c868a4190</td>\n",
       "      <td>fafdcd668e3743c1bb461111dcafc2a4</td>\n",
       "      <td>336</td>\n",
       "      <td>240.0</td>\n",
       "      <td>444.0</td>\n",
       "    </tr>\n",
       "    <tr>\n",
       "      <th>11896</th>\n",
       "      <td>2c5c63e5124e417b8504f76c868a4190</td>\n",
       "      <td>fafdcd668e3743c1bb461111dcafc2a4</td>\n",
       "      <td>336</td>\n",
       "      <td>240.0</td>\n",
       "      <td>564.0</td>\n",
       "    </tr>\n",
       "  </tbody>\n",
       "</table>\n",
       "</div>"
      ],
      "text/plain": [
       "                            customer_id                      portfolio_id  \\\n",
       "11894  2c5c63e5124e417b8504f76c868a4190  fafdcd668e3743c1bb461111dcafc2a4   \n",
       "11895  2c5c63e5124e417b8504f76c868a4190  fafdcd668e3743c1bb461111dcafc2a4   \n",
       "11896  2c5c63e5124e417b8504f76c868a4190  fafdcd668e3743c1bb461111dcafc2a4   \n",
       "\n",
       "       offer_received_time  duration  offer_end_time  \n",
       "11894                  336     240.0           366.0  \n",
       "11895                  336     240.0           444.0  \n",
       "11896                  336     240.0           564.0  "
      ]
     },
     "execution_count": 273,
     "metadata": {},
     "output_type": "execute_result"
    }
   ],
   "source": [
    "transcript_disc_final_df[(transcript_disc_final_df[\"customer_id\"] == \"2c5c63e5124e417b8504f76c868a4190\") \\\n",
    "                         & (transcript_disc_final_df[\"portfolio_id\"] == \"fafdcd668e3743c1bb461111dcafc2a4\") \\\n",
    "                        & (transcript_disc_final_df[\"offer_received_time\"] == 336)\n",
    "                        ]"
   ]
  },
  {
   "cell_type": "code",
   "execution_count": 275,
   "metadata": {
    "scrolled": true
   },
   "outputs": [
    {
     "data": {
      "text/html": [
       "<div>\n",
       "<style scoped>\n",
       "    .dataframe tbody tr th:only-of-type {\n",
       "        vertical-align: middle;\n",
       "    }\n",
       "\n",
       "    .dataframe tbody tr th {\n",
       "        vertical-align: top;\n",
       "    }\n",
       "\n",
       "    .dataframe thead th {\n",
       "        text-align: right;\n",
       "    }\n",
       "</style>\n",
       "<table border=\"1\" class=\"dataframe\">\n",
       "  <thead>\n",
       "    <tr style=\"text-align: right;\">\n",
       "      <th></th>\n",
       "      <th>customer_id</th>\n",
       "      <th>portfolio_id</th>\n",
       "      <th>event_x</th>\n",
       "      <th>offer_received_time</th>\n",
       "      <th>amount_x</th>\n",
       "      <th>duration_x</th>\n",
       "      <th>offer_type_x</th>\n",
       "      <th>offer_end_time</th>\n",
       "      <th>event_y</th>\n",
       "      <th>offer_completed_time</th>\n",
       "      <th>amount_y</th>\n",
       "      <th>duration_y</th>\n",
       "      <th>offer_type_y</th>\n",
       "    </tr>\n",
       "  </thead>\n",
       "  <tbody>\n",
       "    <tr>\n",
       "      <th>11894</th>\n",
       "      <td>2c5c63e5124e417b8504f76c868a4190</td>\n",
       "      <td>fafdcd668e3743c1bb461111dcafc2a4</td>\n",
       "      <td>offer received</td>\n",
       "      <td>336</td>\n",
       "      <td>0.0</td>\n",
       "      <td>240.0</td>\n",
       "      <td>discount</td>\n",
       "      <td>576.0</td>\n",
       "      <td>offer completed</td>\n",
       "      <td>366.0</td>\n",
       "      <td>0.0</td>\n",
       "      <td>240.0</td>\n",
       "      <td>discount</td>\n",
       "    </tr>\n",
       "    <tr>\n",
       "      <th>11895</th>\n",
       "      <td>2c5c63e5124e417b8504f76c868a4190</td>\n",
       "      <td>fafdcd668e3743c1bb461111dcafc2a4</td>\n",
       "      <td>offer received</td>\n",
       "      <td>336</td>\n",
       "      <td>0.0</td>\n",
       "      <td>240.0</td>\n",
       "      <td>discount</td>\n",
       "      <td>576.0</td>\n",
       "      <td>offer completed</td>\n",
       "      <td>444.0</td>\n",
       "      <td>0.0</td>\n",
       "      <td>240.0</td>\n",
       "      <td>discount</td>\n",
       "    </tr>\n",
       "    <tr>\n",
       "      <th>11896</th>\n",
       "      <td>2c5c63e5124e417b8504f76c868a4190</td>\n",
       "      <td>fafdcd668e3743c1bb461111dcafc2a4</td>\n",
       "      <td>offer received</td>\n",
       "      <td>336</td>\n",
       "      <td>0.0</td>\n",
       "      <td>240.0</td>\n",
       "      <td>discount</td>\n",
       "      <td>576.0</td>\n",
       "      <td>offer completed</td>\n",
       "      <td>564.0</td>\n",
       "      <td>0.0</td>\n",
       "      <td>240.0</td>\n",
       "      <td>discount</td>\n",
       "    </tr>\n",
       "  </tbody>\n",
       "</table>\n",
       "</div>"
      ],
      "text/plain": [
       "                            customer_id                      portfolio_id  \\\n",
       "11894  2c5c63e5124e417b8504f76c868a4190  fafdcd668e3743c1bb461111dcafc2a4   \n",
       "11895  2c5c63e5124e417b8504f76c868a4190  fafdcd668e3743c1bb461111dcafc2a4   \n",
       "11896  2c5c63e5124e417b8504f76c868a4190  fafdcd668e3743c1bb461111dcafc2a4   \n",
       "\n",
       "              event_x  offer_received_time  amount_x  duration_x offer_type_x  \\\n",
       "11894  offer received                  336       0.0       240.0     discount   \n",
       "11895  offer received                  336       0.0       240.0     discount   \n",
       "11896  offer received                  336       0.0       240.0     discount   \n",
       "\n",
       "       offer_end_time          event_y  offer_completed_time  amount_y  \\\n",
       "11894           576.0  offer completed                 366.0       0.0   \n",
       "11895           576.0  offer completed                 444.0       0.0   \n",
       "11896           576.0  offer completed                 564.0       0.0   \n",
       "\n",
       "       duration_y offer_type_y  \n",
       "11894       240.0     discount  \n",
       "11895       240.0     discount  \n",
       "11896       240.0     discount  "
      ]
     },
     "execution_count": 275,
     "metadata": {},
     "output_type": "execute_result"
    }
   ],
   "source": [
    "transcript_disc_final_df_temp[(transcript_disc_final_df_temp[\"customer_id\"] == \"2c5c63e5124e417b8504f76c868a4190\") &\\\n",
    "                              (transcript_disc_final_df_temp[\"portfolio_id\"] == \"fafdcd668e3743c1bb461111dcafc2a4\") &\\\n",
    "                              (transcript_disc_final_df_temp[\"offer_received_time\"] == 336)\n",
    "                             ]"
   ]
  },
  {
   "cell_type": "markdown",
   "metadata": {},
   "source": [
    "Check data with 2 end times"
   ]
  },
  {
   "cell_type": "code",
   "execution_count": 277,
   "metadata": {
    "scrolled": true
   },
   "outputs": [
    {
     "data": {
      "text/html": [
       "<div>\n",
       "<style scoped>\n",
       "    .dataframe tbody tr th:only-of-type {\n",
       "        vertical-align: middle;\n",
       "    }\n",
       "\n",
       "    .dataframe tbody tr th {\n",
       "        vertical-align: top;\n",
       "    }\n",
       "\n",
       "    .dataframe thead th {\n",
       "        text-align: right;\n",
       "    }\n",
       "</style>\n",
       "<table border=\"1\" class=\"dataframe\">\n",
       "  <thead>\n",
       "    <tr style=\"text-align: right;\">\n",
       "      <th></th>\n",
       "      <th>customer_id</th>\n",
       "      <th>portfolio_id</th>\n",
       "      <th>offer_received_time</th>\n",
       "      <th>offer_end_time</th>\n",
       "    </tr>\n",
       "  </thead>\n",
       "  <tbody>\n",
       "    <tr>\n",
       "      <th>94</th>\n",
       "      <td>00e20b4ca129458aaab0f4727ef3513a</td>\n",
       "      <td>fafdcd668e3743c1bb461111dcafc2a4</td>\n",
       "      <td>408</td>\n",
       "      <td>2.0</td>\n",
       "    </tr>\n",
       "    <tr>\n",
       "      <th>100</th>\n",
       "      <td>00e9f403afa641889cd034ee7c7ca6e9</td>\n",
       "      <td>0b1e1539f2cc45b7b9fa7c272da2e1d7</td>\n",
       "      <td>408</td>\n",
       "      <td>2.0</td>\n",
       "    </tr>\n",
       "    <tr>\n",
       "      <th>143</th>\n",
       "      <td>015c3d28c67e46aa95e9ec97c27220e8</td>\n",
       "      <td>fafdcd668e3743c1bb461111dcafc2a4</td>\n",
       "      <td>168</td>\n",
       "      <td>2.0</td>\n",
       "    </tr>\n",
       "    <tr>\n",
       "      <th>267</th>\n",
       "      <td>0246e7cc7a3d4a98a940cb13776b5b55</td>\n",
       "      <td>fafdcd668e3743c1bb461111dcafc2a4</td>\n",
       "      <td>504</td>\n",
       "      <td>2.0</td>\n",
       "    </tr>\n",
       "    <tr>\n",
       "      <th>268</th>\n",
       "      <td>0246e7cc7a3d4a98a940cb13776b5b55</td>\n",
       "      <td>fafdcd668e3743c1bb461111dcafc2a4</td>\n",
       "      <td>576</td>\n",
       "      <td>2.0</td>\n",
       "    </tr>\n",
       "  </tbody>\n",
       "</table>\n",
       "</div>"
      ],
      "text/plain": [
       "                          customer_id                      portfolio_id  \\\n",
       "94   00e20b4ca129458aaab0f4727ef3513a  fafdcd668e3743c1bb461111dcafc2a4   \n",
       "100  00e9f403afa641889cd034ee7c7ca6e9  0b1e1539f2cc45b7b9fa7c272da2e1d7   \n",
       "143  015c3d28c67e46aa95e9ec97c27220e8  fafdcd668e3743c1bb461111dcafc2a4   \n",
       "267  0246e7cc7a3d4a98a940cb13776b5b55  fafdcd668e3743c1bb461111dcafc2a4   \n",
       "268  0246e7cc7a3d4a98a940cb13776b5b55  fafdcd668e3743c1bb461111dcafc2a4   \n",
       "\n",
       "     offer_received_time  offer_end_time  \n",
       "94                   408             2.0  \n",
       "100                  408             2.0  \n",
       "143                  168             2.0  \n",
       "267                  504             2.0  \n",
       "268                  576             2.0  "
      ]
     },
     "execution_count": 277,
     "metadata": {},
     "output_type": "execute_result"
    }
   ],
   "source": [
    "transcript_disc_val_df.loc[transcript_disc_val_df[\"offer_end_time\"]== 2, :].head()"
   ]
  },
  {
   "cell_type": "markdown",
   "metadata": {},
   "source": [
    "Example: 00e20b4ca129458aaab0f4727ef3513a\tfafdcd668e3743c1bb461111dcafc2a4\t408"
   ]
  },
  {
   "cell_type": "code",
   "execution_count": 278,
   "metadata": {
    "scrolled": true
   },
   "outputs": [
    {
     "data": {
      "text/html": [
       "<div>\n",
       "<style scoped>\n",
       "    .dataframe tbody tr th:only-of-type {\n",
       "        vertical-align: middle;\n",
       "    }\n",
       "\n",
       "    .dataframe tbody tr th {\n",
       "        vertical-align: top;\n",
       "    }\n",
       "\n",
       "    .dataframe thead th {\n",
       "        text-align: right;\n",
       "    }\n",
       "</style>\n",
       "<table border=\"1\" class=\"dataframe\">\n",
       "  <thead>\n",
       "    <tr style=\"text-align: right;\">\n",
       "      <th></th>\n",
       "      <th>customer_id</th>\n",
       "      <th>portfolio_id</th>\n",
       "      <th>offer_received_time</th>\n",
       "      <th>duration</th>\n",
       "      <th>offer_end_time</th>\n",
       "    </tr>\n",
       "  </thead>\n",
       "  <tbody>\n",
       "    <tr>\n",
       "      <th>21879</th>\n",
       "      <td>00e20b4ca129458aaab0f4727ef3513a</td>\n",
       "      <td>fafdcd668e3743c1bb461111dcafc2a4</td>\n",
       "      <td>408</td>\n",
       "      <td>240.0</td>\n",
       "      <td>426.0</td>\n",
       "    </tr>\n",
       "    <tr>\n",
       "      <th>21880</th>\n",
       "      <td>00e20b4ca129458aaab0f4727ef3513a</td>\n",
       "      <td>fafdcd668e3743c1bb461111dcafc2a4</td>\n",
       "      <td>408</td>\n",
       "      <td>240.0</td>\n",
       "      <td>618.0</td>\n",
       "    </tr>\n",
       "  </tbody>\n",
       "</table>\n",
       "</div>"
      ],
      "text/plain": [
       "                            customer_id                      portfolio_id  \\\n",
       "21879  00e20b4ca129458aaab0f4727ef3513a  fafdcd668e3743c1bb461111dcafc2a4   \n",
       "21880  00e20b4ca129458aaab0f4727ef3513a  fafdcd668e3743c1bb461111dcafc2a4   \n",
       "\n",
       "       offer_received_time  duration  offer_end_time  \n",
       "21879                  408     240.0           426.0  \n",
       "21880                  408     240.0           618.0  "
      ]
     },
     "execution_count": 278,
     "metadata": {},
     "output_type": "execute_result"
    }
   ],
   "source": [
    "transcript_disc_final_df[(transcript_disc_final_df[\"customer_id\"] == \"00e20b4ca129458aaab0f4727ef3513a\") \\\n",
    "                         & (transcript_disc_final_df[\"portfolio_id\"] == \"fafdcd668e3743c1bb461111dcafc2a4\") \\\n",
    "                        & (transcript_disc_final_df[\"offer_received_time\"] == 408)\n",
    "                        ]"
   ]
  },
  {
   "cell_type": "code",
   "execution_count": 280,
   "metadata": {
    "scrolled": true
   },
   "outputs": [
    {
     "data": {
      "text/html": [
       "<div>\n",
       "<style scoped>\n",
       "    .dataframe tbody tr th:only-of-type {\n",
       "        vertical-align: middle;\n",
       "    }\n",
       "\n",
       "    .dataframe tbody tr th {\n",
       "        vertical-align: top;\n",
       "    }\n",
       "\n",
       "    .dataframe thead th {\n",
       "        text-align: right;\n",
       "    }\n",
       "</style>\n",
       "<table border=\"1\" class=\"dataframe\">\n",
       "  <thead>\n",
       "    <tr style=\"text-align: right;\">\n",
       "      <th></th>\n",
       "      <th>customer_id</th>\n",
       "      <th>portfolio_id</th>\n",
       "      <th>event_x</th>\n",
       "      <th>offer_received_time</th>\n",
       "      <th>amount_x</th>\n",
       "      <th>duration_x</th>\n",
       "      <th>offer_type_x</th>\n",
       "      <th>offer_end_time</th>\n",
       "      <th>event_y</th>\n",
       "      <th>offer_completed_time</th>\n",
       "      <th>amount_y</th>\n",
       "      <th>duration_y</th>\n",
       "      <th>offer_type_y</th>\n",
       "    </tr>\n",
       "  </thead>\n",
       "  <tbody>\n",
       "    <tr>\n",
       "      <th>21879</th>\n",
       "      <td>00e20b4ca129458aaab0f4727ef3513a</td>\n",
       "      <td>fafdcd668e3743c1bb461111dcafc2a4</td>\n",
       "      <td>offer received</td>\n",
       "      <td>408</td>\n",
       "      <td>0.0</td>\n",
       "      <td>240.0</td>\n",
       "      <td>discount</td>\n",
       "      <td>648.0</td>\n",
       "      <td>offer completed</td>\n",
       "      <td>426.0</td>\n",
       "      <td>0.0</td>\n",
       "      <td>240.0</td>\n",
       "      <td>discount</td>\n",
       "    </tr>\n",
       "    <tr>\n",
       "      <th>21880</th>\n",
       "      <td>00e20b4ca129458aaab0f4727ef3513a</td>\n",
       "      <td>fafdcd668e3743c1bb461111dcafc2a4</td>\n",
       "      <td>offer received</td>\n",
       "      <td>408</td>\n",
       "      <td>0.0</td>\n",
       "      <td>240.0</td>\n",
       "      <td>discount</td>\n",
       "      <td>648.0</td>\n",
       "      <td>offer completed</td>\n",
       "      <td>618.0</td>\n",
       "      <td>0.0</td>\n",
       "      <td>240.0</td>\n",
       "      <td>discount</td>\n",
       "    </tr>\n",
       "    <tr>\n",
       "      <th>33876</th>\n",
       "      <td>00e20b4ca129458aaab0f4727ef3513a</td>\n",
       "      <td>fafdcd668e3743c1bb461111dcafc2a4</td>\n",
       "      <td>offer received</td>\n",
       "      <td>576</td>\n",
       "      <td>0.0</td>\n",
       "      <td>240.0</td>\n",
       "      <td>discount</td>\n",
       "      <td>816.0</td>\n",
       "      <td>offer completed</td>\n",
       "      <td>618.0</td>\n",
       "      <td>0.0</td>\n",
       "      <td>240.0</td>\n",
       "      <td>discount</td>\n",
       "    </tr>\n",
       "  </tbody>\n",
       "</table>\n",
       "</div>"
      ],
      "text/plain": [
       "                            customer_id                      portfolio_id  \\\n",
       "21879  00e20b4ca129458aaab0f4727ef3513a  fafdcd668e3743c1bb461111dcafc2a4   \n",
       "21880  00e20b4ca129458aaab0f4727ef3513a  fafdcd668e3743c1bb461111dcafc2a4   \n",
       "33876  00e20b4ca129458aaab0f4727ef3513a  fafdcd668e3743c1bb461111dcafc2a4   \n",
       "\n",
       "              event_x  offer_received_time  amount_x  duration_x offer_type_x  \\\n",
       "21879  offer received                  408       0.0       240.0     discount   \n",
       "21880  offer received                  408       0.0       240.0     discount   \n",
       "33876  offer received                  576       0.0       240.0     discount   \n",
       "\n",
       "       offer_end_time          event_y  offer_completed_time  amount_y  \\\n",
       "21879           648.0  offer completed                 426.0       0.0   \n",
       "21880           648.0  offer completed                 618.0       0.0   \n",
       "33876           816.0  offer completed                 618.0       0.0   \n",
       "\n",
       "       duration_y offer_type_y  \n",
       "21879       240.0     discount  \n",
       "21880       240.0     discount  \n",
       "33876       240.0     discount  "
      ]
     },
     "execution_count": 280,
     "metadata": {},
     "output_type": "execute_result"
    }
   ],
   "source": [
    "transcript_disc_final_df_temp[(transcript_disc_final_df_temp[\"customer_id\"] == \"00e20b4ca129458aaab0f4727ef3513a\") \\\n",
    "                              & (transcript_disc_final_df_temp[\"portfolio_id\"] == \"fafdcd668e3743c1bb461111dcafc2a4\") \\\n",
    "#                               & (transcript_disc_final_df_temp[\"offer_received_time\"] == 408)\n",
    "                             ]"
   ]
  },
  {
   "cell_type": "markdown",
   "metadata": {},
   "source": [
    "00e9f403afa641889cd034ee7c7ca6e9\t0b1e1539f2cc45b7b9fa7c272da2e1d7"
   ]
  },
  {
   "cell_type": "code",
   "execution_count": 281,
   "metadata": {
    "scrolled": true
   },
   "outputs": [
    {
     "data": {
      "text/html": [
       "<div>\n",
       "<style scoped>\n",
       "    .dataframe tbody tr th:only-of-type {\n",
       "        vertical-align: middle;\n",
       "    }\n",
       "\n",
       "    .dataframe tbody tr th {\n",
       "        vertical-align: top;\n",
       "    }\n",
       "\n",
       "    .dataframe thead th {\n",
       "        text-align: right;\n",
       "    }\n",
       "</style>\n",
       "<table border=\"1\" class=\"dataframe\">\n",
       "  <thead>\n",
       "    <tr style=\"text-align: right;\">\n",
       "      <th></th>\n",
       "      <th>customer_id</th>\n",
       "      <th>portfolio_id</th>\n",
       "      <th>offer_received_time</th>\n",
       "      <th>duration</th>\n",
       "      <th>offer_end_time</th>\n",
       "    </tr>\n",
       "  </thead>\n",
       "  <tbody>\n",
       "    <tr>\n",
       "      <th>22885</th>\n",
       "      <td>00e9f403afa641889cd034ee7c7ca6e9</td>\n",
       "      <td>0b1e1539f2cc45b7b9fa7c272da2e1d7</td>\n",
       "      <td>408</td>\n",
       "      <td>240.0</td>\n",
       "      <td>432.0</td>\n",
       "    </tr>\n",
       "    <tr>\n",
       "      <th>22886</th>\n",
       "      <td>00e9f403afa641889cd034ee7c7ca6e9</td>\n",
       "      <td>0b1e1539f2cc45b7b9fa7c272da2e1d7</td>\n",
       "      <td>408</td>\n",
       "      <td>240.0</td>\n",
       "      <td>540.0</td>\n",
       "    </tr>\n",
       "  </tbody>\n",
       "</table>\n",
       "</div>"
      ],
      "text/plain": [
       "                            customer_id                      portfolio_id  \\\n",
       "22885  00e9f403afa641889cd034ee7c7ca6e9  0b1e1539f2cc45b7b9fa7c272da2e1d7   \n",
       "22886  00e9f403afa641889cd034ee7c7ca6e9  0b1e1539f2cc45b7b9fa7c272da2e1d7   \n",
       "\n",
       "       offer_received_time  duration  offer_end_time  \n",
       "22885                  408     240.0           432.0  \n",
       "22886                  408     240.0           540.0  "
      ]
     },
     "execution_count": 281,
     "metadata": {},
     "output_type": "execute_result"
    }
   ],
   "source": [
    "transcript_disc_final_df[(transcript_disc_final_df[\"customer_id\"] == \"00e9f403afa641889cd034ee7c7ca6e9\") \\\n",
    "                         & (transcript_disc_final_df[\"portfolio_id\"] == \"0b1e1539f2cc45b7b9fa7c272da2e1d7\") \\\n",
    "                        & (transcript_disc_final_df[\"offer_received_time\"] == 408)\n",
    "                        ]"
   ]
  },
  {
   "cell_type": "code",
   "execution_count": 282,
   "metadata": {
    "scrolled": true
   },
   "outputs": [
    {
     "data": {
      "text/html": [
       "<div>\n",
       "<style scoped>\n",
       "    .dataframe tbody tr th:only-of-type {\n",
       "        vertical-align: middle;\n",
       "    }\n",
       "\n",
       "    .dataframe tbody tr th {\n",
       "        vertical-align: top;\n",
       "    }\n",
       "\n",
       "    .dataframe thead th {\n",
       "        text-align: right;\n",
       "    }\n",
       "</style>\n",
       "<table border=\"1\" class=\"dataframe\">\n",
       "  <thead>\n",
       "    <tr style=\"text-align: right;\">\n",
       "      <th></th>\n",
       "      <th>customer_id</th>\n",
       "      <th>portfolio_id</th>\n",
       "      <th>event_x</th>\n",
       "      <th>offer_received_time</th>\n",
       "      <th>amount_x</th>\n",
       "      <th>duration_x</th>\n",
       "      <th>offer_type_x</th>\n",
       "      <th>offer_end_time</th>\n",
       "      <th>event_y</th>\n",
       "      <th>offer_completed_time</th>\n",
       "      <th>amount_y</th>\n",
       "      <th>duration_y</th>\n",
       "      <th>offer_type_y</th>\n",
       "    </tr>\n",
       "  </thead>\n",
       "  <tbody>\n",
       "    <tr>\n",
       "      <th>22885</th>\n",
       "      <td>00e9f403afa641889cd034ee7c7ca6e9</td>\n",
       "      <td>0b1e1539f2cc45b7b9fa7c272da2e1d7</td>\n",
       "      <td>offer received</td>\n",
       "      <td>408</td>\n",
       "      <td>0.0</td>\n",
       "      <td>240.0</td>\n",
       "      <td>discount</td>\n",
       "      <td>648.0</td>\n",
       "      <td>offer completed</td>\n",
       "      <td>432.0</td>\n",
       "      <td>0.0</td>\n",
       "      <td>240.0</td>\n",
       "      <td>discount</td>\n",
       "    </tr>\n",
       "    <tr>\n",
       "      <th>22886</th>\n",
       "      <td>00e9f403afa641889cd034ee7c7ca6e9</td>\n",
       "      <td>0b1e1539f2cc45b7b9fa7c272da2e1d7</td>\n",
       "      <td>offer received</td>\n",
       "      <td>408</td>\n",
       "      <td>0.0</td>\n",
       "      <td>240.0</td>\n",
       "      <td>discount</td>\n",
       "      <td>648.0</td>\n",
       "      <td>offer completed</td>\n",
       "      <td>540.0</td>\n",
       "      <td>0.0</td>\n",
       "      <td>240.0</td>\n",
       "      <td>discount</td>\n",
       "    </tr>\n",
       "    <tr>\n",
       "      <th>28929</th>\n",
       "      <td>00e9f403afa641889cd034ee7c7ca6e9</td>\n",
       "      <td>0b1e1539f2cc45b7b9fa7c272da2e1d7</td>\n",
       "      <td>offer received</td>\n",
       "      <td>504</td>\n",
       "      <td>0.0</td>\n",
       "      <td>240.0</td>\n",
       "      <td>discount</td>\n",
       "      <td>744.0</td>\n",
       "      <td>offer completed</td>\n",
       "      <td>540.0</td>\n",
       "      <td>0.0</td>\n",
       "      <td>240.0</td>\n",
       "      <td>discount</td>\n",
       "    </tr>\n",
       "  </tbody>\n",
       "</table>\n",
       "</div>"
      ],
      "text/plain": [
       "                            customer_id                      portfolio_id  \\\n",
       "22885  00e9f403afa641889cd034ee7c7ca6e9  0b1e1539f2cc45b7b9fa7c272da2e1d7   \n",
       "22886  00e9f403afa641889cd034ee7c7ca6e9  0b1e1539f2cc45b7b9fa7c272da2e1d7   \n",
       "28929  00e9f403afa641889cd034ee7c7ca6e9  0b1e1539f2cc45b7b9fa7c272da2e1d7   \n",
       "\n",
       "              event_x  offer_received_time  amount_x  duration_x offer_type_x  \\\n",
       "22885  offer received                  408       0.0       240.0     discount   \n",
       "22886  offer received                  408       0.0       240.0     discount   \n",
       "28929  offer received                  504       0.0       240.0     discount   \n",
       "\n",
       "       offer_end_time          event_y  offer_completed_time  amount_y  \\\n",
       "22885           648.0  offer completed                 432.0       0.0   \n",
       "22886           648.0  offer completed                 540.0       0.0   \n",
       "28929           744.0  offer completed                 540.0       0.0   \n",
       "\n",
       "       duration_y offer_type_y  \n",
       "22885       240.0     discount  \n",
       "22886       240.0     discount  \n",
       "28929       240.0     discount  "
      ]
     },
     "execution_count": 282,
     "metadata": {},
     "output_type": "execute_result"
    }
   ],
   "source": [
    "transcript_disc_final_df_temp[(transcript_disc_final_df_temp[\"customer_id\"] == \"00e9f403afa641889cd034ee7c7ca6e9\") \\\n",
    "                              & (transcript_disc_final_df_temp[\"portfolio_id\"] == \"0b1e1539f2cc45b7b9fa7c272da2e1d7\") \\\n",
    "#                               & (transcript_disc_final_df_temp[\"offer_received_time\"] == 408)\n",
    "                             ]"
   ]
  },
  {
   "cell_type": "code",
   "execution_count": 252,
   "metadata": {},
   "outputs": [],
   "source": [
    "test_df = transcript_disc_received_df.groupby([\"customer_id\", \"portfolio_id\"])[\"offer_received_time\"].count().reset_index()"
   ]
  },
  {
   "cell_type": "code",
   "execution_count": 253,
   "metadata": {},
   "outputs": [],
   "source": [
    "test_final_df = test_df.loc[test_df[\"offer_received_time\"]> 1, [\"customer_id\", \"portfolio_id\"]].drop_duplicates()"
   ]
  },
  {
   "cell_type": "code",
   "execution_count": 254,
   "metadata": {},
   "outputs": [
    {
     "data": {
      "text/plain": [
       "array([2, 3, 4, 5])"
      ]
     },
     "execution_count": 254,
     "metadata": {},
     "output_type": "execute_result"
    }
   ],
   "source": [
    "test_df.loc[test_df[\"offer_received_time\"]> 1, ].drop_duplicates()[\"offer_received_time\"].unique()"
   ]
  },
  {
   "cell_type": "code",
   "execution_count": 255,
   "metadata": {
    "scrolled": true
   },
   "outputs": [
    {
     "data": {
      "text/html": [
       "<div>\n",
       "<style scoped>\n",
       "    .dataframe tbody tr th:only-of-type {\n",
       "        vertical-align: middle;\n",
       "    }\n",
       "\n",
       "    .dataframe tbody tr th {\n",
       "        vertical-align: top;\n",
       "    }\n",
       "\n",
       "    .dataframe thead th {\n",
       "        text-align: right;\n",
       "    }\n",
       "</style>\n",
       "<table border=\"1\" class=\"dataframe\">\n",
       "  <thead>\n",
       "    <tr style=\"text-align: right;\">\n",
       "      <th></th>\n",
       "      <th>customer_id</th>\n",
       "      <th>portfolio_id</th>\n",
       "      <th>offer_received_time</th>\n",
       "    </tr>\n",
       "  </thead>\n",
       "  <tbody>\n",
       "    <tr>\n",
       "      <th>4549</th>\n",
       "      <td>2ea50de315514ccaa5079db4c1ecbc0b</td>\n",
       "      <td>fafdcd668e3743c1bb461111dcafc2a4</td>\n",
       "      <td>5</td>\n",
       "    </tr>\n",
       "    <tr>\n",
       "      <th>6722</th>\n",
       "      <td>43a50d7e5c8547a9aa1ec31291b9fc30</td>\n",
       "      <td>0b1e1539f2cc45b7b9fa7c272da2e1d7</td>\n",
       "      <td>5</td>\n",
       "    </tr>\n",
       "  </tbody>\n",
       "</table>\n",
       "</div>"
      ],
      "text/plain": [
       "                           customer_id                      portfolio_id  \\\n",
       "4549  2ea50de315514ccaa5079db4c1ecbc0b  fafdcd668e3743c1bb461111dcafc2a4   \n",
       "6722  43a50d7e5c8547a9aa1ec31291b9fc30  0b1e1539f2cc45b7b9fa7c272da2e1d7   \n",
       "\n",
       "      offer_received_time  \n",
       "4549                    5  \n",
       "6722                    5  "
      ]
     },
     "execution_count": 255,
     "metadata": {},
     "output_type": "execute_result"
    }
   ],
   "source": [
    "test_df[test_df[\"offer_received_time\"]==5]"
   ]
  },
  {
   "cell_type": "code",
   "execution_count": 256,
   "metadata": {},
   "outputs": [
    {
     "data": {
      "text/plain": [
       "customer_id     25316\n",
       "portfolio_id    25316\n",
       "dtype: int64"
      ]
     },
     "execution_count": 256,
     "metadata": {},
     "output_type": "execute_result"
    }
   ],
   "source": [
    "transcript_disc_received_df[[\"customer_id\", \"portfolio_id\"]].drop_duplicates().count()"
   ]
  },
  {
   "cell_type": "code",
   "execution_count": 257,
   "metadata": {},
   "outputs": [
    {
     "data": {
      "text/html": [
       "<div>\n",
       "<style scoped>\n",
       "    .dataframe tbody tr th:only-of-type {\n",
       "        vertical-align: middle;\n",
       "    }\n",
       "\n",
       "    .dataframe tbody tr th {\n",
       "        vertical-align: top;\n",
       "    }\n",
       "\n",
       "    .dataframe thead th {\n",
       "        text-align: right;\n",
       "    }\n",
       "</style>\n",
       "<table border=\"1\" class=\"dataframe\">\n",
       "  <thead>\n",
       "    <tr style=\"text-align: right;\">\n",
       "      <th></th>\n",
       "      <th>customer_id</th>\n",
       "      <th>portfolio_id</th>\n",
       "    </tr>\n",
       "  </thead>\n",
       "  <tbody>\n",
       "    <tr>\n",
       "      <th>4</th>\n",
       "      <td>0020c2b971eb4e9188eac86d93036a77</td>\n",
       "      <td>fafdcd668e3743c1bb461111dcafc2a4</td>\n",
       "    </tr>\n",
       "    <tr>\n",
       "      <th>7</th>\n",
       "      <td>003d66b6608740288d6cc97a6903f4f0</td>\n",
       "      <td>fafdcd668e3743c1bb461111dcafc2a4</td>\n",
       "    </tr>\n",
       "    <tr>\n",
       "      <th>9</th>\n",
       "      <td>00426fe3ffde4c6b9cb9ad6d077a13ea</td>\n",
       "      <td>2906b810c7d4411798c6938adc9daaa5</td>\n",
       "    </tr>\n",
       "    <tr>\n",
       "      <th>12</th>\n",
       "      <td>004c5799adbf42868b9cff0396190900</td>\n",
       "      <td>fafdcd668e3743c1bb461111dcafc2a4</td>\n",
       "    </tr>\n",
       "    <tr>\n",
       "      <th>19</th>\n",
       "      <td>0069a50874d846438e58acff5e594725</td>\n",
       "      <td>2906b810c7d4411798c6938adc9daaa5</td>\n",
       "    </tr>\n",
       "  </tbody>\n",
       "</table>\n",
       "</div>"
      ],
      "text/plain": [
       "                         customer_id                      portfolio_id\n",
       "4   0020c2b971eb4e9188eac86d93036a77  fafdcd668e3743c1bb461111dcafc2a4\n",
       "7   003d66b6608740288d6cc97a6903f4f0  fafdcd668e3743c1bb461111dcafc2a4\n",
       "9   00426fe3ffde4c6b9cb9ad6d077a13ea  2906b810c7d4411798c6938adc9daaa5\n",
       "12  004c5799adbf42868b9cff0396190900  fafdcd668e3743c1bb461111dcafc2a4\n",
       "19  0069a50874d846438e58acff5e594725  2906b810c7d4411798c6938adc9daaa5"
      ]
     },
     "execution_count": 257,
     "metadata": {},
     "output_type": "execute_result"
    }
   ],
   "source": [
    "test_final_df.head()"
   ]
  },
  {
   "cell_type": "code",
   "execution_count": 258,
   "metadata": {},
   "outputs": [
    {
     "data": {
      "text/plain": [
       "customer_id     4721\n",
       "portfolio_id    4721\n",
       "dtype: int64"
      ]
     },
     "execution_count": 258,
     "metadata": {},
     "output_type": "execute_result"
    }
   ],
   "source": [
    "test_final_df.count()"
   ]
  },
  {
   "cell_type": "code",
   "execution_count": 259,
   "metadata": {},
   "outputs": [
    {
     "data": {
      "text/plain": [
       "0.18648285669142045"
      ]
     },
     "execution_count": 259,
     "metadata": {},
     "output_type": "execute_result"
    }
   ],
   "source": [
    "4721/25316"
   ]
  },
  {
   "cell_type": "code",
   "execution_count": 260,
   "metadata": {
    "scrolled": true
   },
   "outputs": [
    {
     "data": {
      "text/html": [
       "<div>\n",
       "<style scoped>\n",
       "    .dataframe tbody tr th:only-of-type {\n",
       "        vertical-align: middle;\n",
       "    }\n",
       "\n",
       "    .dataframe tbody tr th {\n",
       "        vertical-align: top;\n",
       "    }\n",
       "\n",
       "    .dataframe thead th {\n",
       "        text-align: right;\n",
       "    }\n",
       "</style>\n",
       "<table border=\"1\" class=\"dataframe\">\n",
       "  <thead>\n",
       "    <tr style=\"text-align: right;\">\n",
       "      <th></th>\n",
       "      <th>customer_id</th>\n",
       "      <th>portfolio_id</th>\n",
       "      <th>event</th>\n",
       "      <th>offer_received_time</th>\n",
       "      <th>amount</th>\n",
       "      <th>duration</th>\n",
       "      <th>offer_type</th>\n",
       "      <th>offer_end_time</th>\n",
       "    </tr>\n",
       "  </thead>\n",
       "  <tbody>\n",
       "    <tr>\n",
       "      <th>1889</th>\n",
       "      <td>0020c2b971eb4e9188eac86d93036a77</td>\n",
       "      <td>fafdcd668e3743c1bb461111dcafc2a4</td>\n",
       "      <td>offer received</td>\n",
       "      <td>0</td>\n",
       "      <td>0.0</td>\n",
       "      <td>240.0</td>\n",
       "      <td>discount</td>\n",
       "      <td>240.0</td>\n",
       "    </tr>\n",
       "    <tr>\n",
       "      <th>92651</th>\n",
       "      <td>0020c2b971eb4e9188eac86d93036a77</td>\n",
       "      <td>fafdcd668e3743c1bb461111dcafc2a4</td>\n",
       "      <td>offer received</td>\n",
       "      <td>336</td>\n",
       "      <td>0.0</td>\n",
       "      <td>240.0</td>\n",
       "      <td>discount</td>\n",
       "      <td>576.0</td>\n",
       "    </tr>\n",
       "  </tbody>\n",
       "</table>\n",
       "</div>"
      ],
      "text/plain": [
       "                            customer_id                      portfolio_id  \\\n",
       "1889   0020c2b971eb4e9188eac86d93036a77  fafdcd668e3743c1bb461111dcafc2a4   \n",
       "92651  0020c2b971eb4e9188eac86d93036a77  fafdcd668e3743c1bb461111dcafc2a4   \n",
       "\n",
       "                event  offer_received_time  amount  duration offer_type  \\\n",
       "1889   offer received                    0     0.0     240.0   discount   \n",
       "92651  offer received                  336     0.0     240.0   discount   \n",
       "\n",
       "       offer_end_time  \n",
       "1889            240.0  \n",
       "92651           576.0  "
      ]
     },
     "execution_count": 260,
     "metadata": {},
     "output_type": "execute_result"
    }
   ],
   "source": [
    "transcript_disc_received_df[(transcript_disc_received_df[\"customer_id\"] == \"0020c2b971eb4e9188eac86d93036a77\") \\\n",
    "                            & (transcript_disc_received_df[\"portfolio_id\"] == \"fafdcd668e3743c1bb461111dcafc2a4\")] "
   ]
  },
  {
   "cell_type": "code",
   "execution_count": 261,
   "metadata": {},
   "outputs": [],
   "source": [
    "test_final_df_v2 = transcript_disc_received_df[(transcript_disc_received_df[\"customer_id\"].isin(test_final_df[\"customer_id\"]))\\\n",
    "                           & (transcript_disc_received_df[\"portfolio_id\"].isin(test_final_df[\"portfolio_id\"]))\n",
    "                           ].sort_values(by=[\"customer_id\", \"portfolio_id\"])"
   ]
  },
  {
   "cell_type": "code",
   "execution_count": 262,
   "metadata": {},
   "outputs": [],
   "source": [
    "test_final_df_v2_shifted = test_final_df_v2.shift(1)"
   ]
  },
  {
   "cell_type": "code",
   "execution_count": 263,
   "metadata": {},
   "outputs": [
    {
     "data": {
      "text/html": [
       "<div>\n",
       "<style scoped>\n",
       "    .dataframe tbody tr th:only-of-type {\n",
       "        vertical-align: middle;\n",
       "    }\n",
       "\n",
       "    .dataframe tbody tr th {\n",
       "        vertical-align: top;\n",
       "    }\n",
       "\n",
       "    .dataframe thead th {\n",
       "        text-align: right;\n",
       "    }\n",
       "</style>\n",
       "<table border=\"1\" class=\"dataframe\">\n",
       "  <thead>\n",
       "    <tr style=\"text-align: right;\">\n",
       "      <th></th>\n",
       "      <th>customer_id</th>\n",
       "      <th>portfolio_id</th>\n",
       "      <th>event</th>\n",
       "      <th>offer_received_time</th>\n",
       "      <th>amount</th>\n",
       "      <th>duration</th>\n",
       "      <th>offer_type</th>\n",
       "      <th>offer_end_time</th>\n",
       "    </tr>\n",
       "  </thead>\n",
       "  <tbody>\n",
       "    <tr>\n",
       "      <th>1889</th>\n",
       "      <td>NaN</td>\n",
       "      <td>NaN</td>\n",
       "      <td>NaN</td>\n",
       "      <td>NaN</td>\n",
       "      <td>NaN</td>\n",
       "      <td>NaN</td>\n",
       "      <td>NaN</td>\n",
       "      <td>NaN</td>\n",
       "    </tr>\n",
       "    <tr>\n",
       "      <th>92651</th>\n",
       "      <td>0020c2b971eb4e9188eac86d93036a77</td>\n",
       "      <td>fafdcd668e3743c1bb461111dcafc2a4</td>\n",
       "      <td>offer received</td>\n",
       "      <td>0.0</td>\n",
       "      <td>0.0</td>\n",
       "      <td>240.0</td>\n",
       "      <td>discount</td>\n",
       "      <td>240.0</td>\n",
       "    </tr>\n",
       "    <tr>\n",
       "      <th>174891</th>\n",
       "      <td>0020c2b971eb4e9188eac86d93036a77</td>\n",
       "      <td>fafdcd668e3743c1bb461111dcafc2a4</td>\n",
       "      <td>offer received</td>\n",
       "      <td>336.0</td>\n",
       "      <td>0.0</td>\n",
       "      <td>240.0</td>\n",
       "      <td>discount</td>\n",
       "      <td>576.0</td>\n",
       "    </tr>\n",
       "    <tr>\n",
       "      <th>45914</th>\n",
       "      <td>003d66b6608740288d6cc97a6903f4f0</td>\n",
       "      <td>0b1e1539f2cc45b7b9fa7c272da2e1d7</td>\n",
       "      <td>offer received</td>\n",
       "      <td>504.0</td>\n",
       "      <td>0.0</td>\n",
       "      <td>240.0</td>\n",
       "      <td>discount</td>\n",
       "      <td>744.0</td>\n",
       "    </tr>\n",
       "    <tr>\n",
       "      <th>129271</th>\n",
       "      <td>003d66b6608740288d6cc97a6903f4f0</td>\n",
       "      <td>fafdcd668e3743c1bb461111dcafc2a4</td>\n",
       "      <td>offer received</td>\n",
       "      <td>168.0</td>\n",
       "      <td>0.0</td>\n",
       "      <td>240.0</td>\n",
       "      <td>discount</td>\n",
       "      <td>408.0</td>\n",
       "    </tr>\n",
       "  </tbody>\n",
       "</table>\n",
       "</div>"
      ],
      "text/plain": [
       "                             customer_id                      portfolio_id  \\\n",
       "1889                                 NaN                               NaN   \n",
       "92651   0020c2b971eb4e9188eac86d93036a77  fafdcd668e3743c1bb461111dcafc2a4   \n",
       "174891  0020c2b971eb4e9188eac86d93036a77  fafdcd668e3743c1bb461111dcafc2a4   \n",
       "45914   003d66b6608740288d6cc97a6903f4f0  0b1e1539f2cc45b7b9fa7c272da2e1d7   \n",
       "129271  003d66b6608740288d6cc97a6903f4f0  fafdcd668e3743c1bb461111dcafc2a4   \n",
       "\n",
       "                 event  offer_received_time  amount  duration offer_type  \\\n",
       "1889               NaN                  NaN     NaN       NaN        NaN   \n",
       "92651   offer received                  0.0     0.0     240.0   discount   \n",
       "174891  offer received                336.0     0.0     240.0   discount   \n",
       "45914   offer received                504.0     0.0     240.0   discount   \n",
       "129271  offer received                168.0     0.0     240.0   discount   \n",
       "\n",
       "        offer_end_time  \n",
       "1889               NaN  \n",
       "92651            240.0  \n",
       "174891           576.0  \n",
       "45914            744.0  \n",
       "129271           408.0  "
      ]
     },
     "execution_count": 263,
     "metadata": {},
     "output_type": "execute_result"
    }
   ],
   "source": [
    "test_final_df_v2_shifted.head()"
   ]
  },
  {
   "cell_type": "code",
   "execution_count": 264,
   "metadata": {},
   "outputs": [],
   "source": [
    "test_final_df_v2_shifted = test_final_df_v2_shifted.drop(1889)"
   ]
  },
  {
   "cell_type": "code",
   "execution_count": 265,
   "metadata": {},
   "outputs": [],
   "source": [
    "test_final_new_df = test_final_df_v2.merge(test_final_df_v2_shifted, how = \"inner\", on = [\"customer_id\", \"portfolio_id\"])"
   ]
  },
  {
   "cell_type": "code",
   "execution_count": 266,
   "metadata": {
    "scrolled": true
   },
   "outputs": [],
   "source": [
    "test_final_new_overlap_df = test_final_new_df.loc[(test_final_new_df[\"offer_received_time_x\"]<=test_final_new_df[\"offer_received_time_y\"]) &\n",
    "                 (test_final_new_df[\"offer_received_time_y\"] <= test_final_new_df[\"offer_end_time_x\"]) &\\\n",
    "                (test_final_new_df[\"offer_received_time_y\"] != test_final_new_df[\"offer_received_time_x\"])                                , \\\n",
    "                 ]"
   ]
  },
  {
   "cell_type": "code",
   "execution_count": 267,
   "metadata": {},
   "outputs": [
    {
     "data": {
      "text/plain": [
       "0.3636941325990256"
      ]
     },
     "execution_count": 267,
     "metadata": {},
     "output_type": "execute_result"
    }
   ],
   "source": [
    "1717/4721"
   ]
  },
  {
   "cell_type": "code",
   "execution_count": 268,
   "metadata": {},
   "outputs": [],
   "source": [
    "# transcript[transcript[\"person\"] == \"0069a50874d846438e58acff5e594725\"]"
   ]
  },
  {
   "cell_type": "code",
   "execution_count": 269,
   "metadata": {},
   "outputs": [
    {
     "data": {
      "text/html": [
       "<div>\n",
       "<style scoped>\n",
       "    .dataframe tbody tr th:only-of-type {\n",
       "        vertical-align: middle;\n",
       "    }\n",
       "\n",
       "    .dataframe tbody tr th {\n",
       "        vertical-align: top;\n",
       "    }\n",
       "\n",
       "    .dataframe thead th {\n",
       "        text-align: right;\n",
       "    }\n",
       "</style>\n",
       "<table border=\"1\" class=\"dataframe\">\n",
       "  <thead>\n",
       "    <tr style=\"text-align: right;\">\n",
       "      <th></th>\n",
       "      <th>customer_id</th>\n",
       "      <th>portfolio_id</th>\n",
       "      <th>event</th>\n",
       "      <th>offer_received_time</th>\n",
       "      <th>amount</th>\n",
       "      <th>duration</th>\n",
       "      <th>offer_type</th>\n",
       "      <th>offer_end_time</th>\n",
       "    </tr>\n",
       "  </thead>\n",
       "  <tbody>\n",
       "    <tr>\n",
       "      <th>165455</th>\n",
       "      <td>0069a50874d846438e58acff5e594725</td>\n",
       "      <td>2906b810c7d4411798c6938adc9daaa5</td>\n",
       "      <td>offer received</td>\n",
       "      <td>504</td>\n",
       "      <td>0.0</td>\n",
       "      <td>168.0</td>\n",
       "      <td>discount</td>\n",
       "      <td>672.0</td>\n",
       "    </tr>\n",
       "    <tr>\n",
       "      <th>200043</th>\n",
       "      <td>0069a50874d846438e58acff5e594725</td>\n",
       "      <td>2906b810c7d4411798c6938adc9daaa5</td>\n",
       "      <td>offer received</td>\n",
       "      <td>576</td>\n",
       "      <td>0.0</td>\n",
       "      <td>168.0</td>\n",
       "      <td>discount</td>\n",
       "      <td>744.0</td>\n",
       "    </tr>\n",
       "  </tbody>\n",
       "</table>\n",
       "</div>"
      ],
      "text/plain": [
       "                             customer_id                      portfolio_id  \\\n",
       "165455  0069a50874d846438e58acff5e594725  2906b810c7d4411798c6938adc9daaa5   \n",
       "200043  0069a50874d846438e58acff5e594725  2906b810c7d4411798c6938adc9daaa5   \n",
       "\n",
       "                 event  offer_received_time  amount  duration offer_type  \\\n",
       "165455  offer received                  504     0.0     168.0   discount   \n",
       "200043  offer received                  576     0.0     168.0   discount   \n",
       "\n",
       "        offer_end_time  \n",
       "165455           672.0  \n",
       "200043           744.0  "
      ]
     },
     "execution_count": 269,
     "metadata": {},
     "output_type": "execute_result"
    }
   ],
   "source": [
    "transcript_disc_received_df[(transcript_disc_received_df[\"customer_id\"] == \"0069a50874d846438e58acff5e594725\") \\\n",
    "                            & (transcript_disc_received_df[\"portfolio_id\"] == \"2906b810c7d4411798c6938adc9daaa5\")] "
   ]
  },
  {
   "cell_type": "code",
   "execution_count": 270,
   "metadata": {},
   "outputs": [
    {
     "data": {
      "text/html": [
       "<div>\n",
       "<style scoped>\n",
       "    .dataframe tbody tr th:only-of-type {\n",
       "        vertical-align: middle;\n",
       "    }\n",
       "\n",
       "    .dataframe tbody tr th {\n",
       "        vertical-align: top;\n",
       "    }\n",
       "\n",
       "    .dataframe thead th {\n",
       "        text-align: right;\n",
       "    }\n",
       "</style>\n",
       "<table border=\"1\" class=\"dataframe\">\n",
       "  <thead>\n",
       "    <tr style=\"text-align: right;\">\n",
       "      <th></th>\n",
       "      <th>customer_id</th>\n",
       "      <th>portfolio_id</th>\n",
       "      <th>event</th>\n",
       "      <th>offer_completed_time</th>\n",
       "      <th>amount</th>\n",
       "      <th>duration</th>\n",
       "      <th>offer_type</th>\n",
       "    </tr>\n",
       "  </thead>\n",
       "  <tbody>\n",
       "    <tr>\n",
       "      <th>244675</th>\n",
       "      <td>0069a50874d846438e58acff5e594725</td>\n",
       "      <td>2906b810c7d4411798c6938adc9daaa5</td>\n",
       "      <td>offer completed</td>\n",
       "      <td>696</td>\n",
       "      <td>0.0</td>\n",
       "      <td>168.0</td>\n",
       "      <td>discount</td>\n",
       "    </tr>\n",
       "  </tbody>\n",
       "</table>\n",
       "</div>"
      ],
      "text/plain": [
       "                             customer_id                      portfolio_id  \\\n",
       "244675  0069a50874d846438e58acff5e594725  2906b810c7d4411798c6938adc9daaa5   \n",
       "\n",
       "                  event  offer_completed_time  amount  duration offer_type  \n",
       "244675  offer completed                   696     0.0     168.0   discount  "
      ]
     },
     "execution_count": 270,
     "metadata": {},
     "output_type": "execute_result"
    }
   ],
   "source": [
    "transcript_disc_completed_df[(transcript_disc_completed_df[\"customer_id\"] == \"0069a50874d846438e58acff5e594725\") \\\n",
    "                            & (transcript_disc_completed_df[\"portfolio_id\"] == \"2906b810c7d4411798c6938adc9daaa5\")]"
   ]
  },
  {
   "cell_type": "code",
   "execution_count": 271,
   "metadata": {
    "scrolled": false
   },
   "outputs": [
    {
     "data": {
      "text/html": [
       "<div>\n",
       "<style scoped>\n",
       "    .dataframe tbody tr th:only-of-type {\n",
       "        vertical-align: middle;\n",
       "    }\n",
       "\n",
       "    .dataframe tbody tr th {\n",
       "        vertical-align: top;\n",
       "    }\n",
       "\n",
       "    .dataframe thead th {\n",
       "        text-align: right;\n",
       "    }\n",
       "</style>\n",
       "<table border=\"1\" class=\"dataframe\">\n",
       "  <thead>\n",
       "    <tr style=\"text-align: right;\">\n",
       "      <th></th>\n",
       "      <th>event</th>\n",
       "      <th>customer_id</th>\n",
       "      <th>time</th>\n",
       "      <th>amount</th>\n",
       "      <th>reward</th>\n",
       "      <th>portfolio_id</th>\n",
       "      <th>datetime</th>\n",
       "    </tr>\n",
       "  </thead>\n",
       "  <tbody>\n",
       "    <tr>\n",
       "      <th>279923</th>\n",
       "      <td>transaction</td>\n",
       "      <td>0069a50874d846438e58acff5e594725</td>\n",
       "      <td>618</td>\n",
       "      <td>5.12</td>\n",
       "      <td>0</td>\n",
       "      <td>0</td>\n",
       "      <td>2020-05-26 18:00:00</td>\n",
       "    </tr>\n",
       "    <tr>\n",
       "      <th>302172</th>\n",
       "      <td>transaction</td>\n",
       "      <td>0069a50874d846438e58acff5e594725</td>\n",
       "      <td>696</td>\n",
       "      <td>7.97</td>\n",
       "      <td>0</td>\n",
       "      <td>0</td>\n",
       "      <td>2020-05-30 00:00:00</td>\n",
       "    </tr>\n",
       "  </tbody>\n",
       "</table>\n",
       "</div>"
      ],
      "text/plain": [
       "              event                       customer_id  time  amount  reward  \\\n",
       "279923  transaction  0069a50874d846438e58acff5e594725   618    5.12       0   \n",
       "302172  transaction  0069a50874d846438e58acff5e594725   696    7.97       0   \n",
       "\n",
       "       portfolio_id            datetime  \n",
       "279923            0 2020-05-26 18:00:00  \n",
       "302172            0 2020-05-30 00:00:00  "
      ]
     },
     "execution_count": 271,
     "metadata": {},
     "output_type": "execute_result"
    }
   ],
   "source": [
    "transcript[(transcript[\"event\"] == \"transaction\") & \\\n",
    "          (transcript[\"customer_id\"] == \"0069a50874d846438e58acff5e594725\") & \\\n",
    "          (transcript[\"time\"] >= 504) &\\\n",
    "           (transcript[\"time\"]<= 744)\n",
    "          ]"
   ]
  },
  {
   "cell_type": "code",
   "execution_count": 272,
   "metadata": {
    "scrolled": true
   },
   "outputs": [
    {
     "data": {
      "text/html": [
       "<div>\n",
       "<style scoped>\n",
       "    .dataframe tbody tr th:only-of-type {\n",
       "        vertical-align: middle;\n",
       "    }\n",
       "\n",
       "    .dataframe tbody tr th {\n",
       "        vertical-align: top;\n",
       "    }\n",
       "\n",
       "    .dataframe thead th {\n",
       "        text-align: right;\n",
       "    }\n",
       "</style>\n",
       "<table border=\"1\" class=\"dataframe\">\n",
       "  <thead>\n",
       "    <tr style=\"text-align: right;\">\n",
       "      <th></th>\n",
       "      <th>customer_id</th>\n",
       "      <th>portfolio_id</th>\n",
       "      <th>offer_received_time</th>\n",
       "    </tr>\n",
       "  </thead>\n",
       "  <tbody>\n",
       "    <tr>\n",
       "      <th>4549</th>\n",
       "      <td>2ea50de315514ccaa5079db4c1ecbc0b</td>\n",
       "      <td>fafdcd668e3743c1bb461111dcafc2a4</td>\n",
       "      <td>5</td>\n",
       "    </tr>\n",
       "    <tr>\n",
       "      <th>6722</th>\n",
       "      <td>43a50d7e5c8547a9aa1ec31291b9fc30</td>\n",
       "      <td>0b1e1539f2cc45b7b9fa7c272da2e1d7</td>\n",
       "      <td>5</td>\n",
       "    </tr>\n",
       "  </tbody>\n",
       "</table>\n",
       "</div>"
      ],
      "text/plain": [
       "                           customer_id                      portfolio_id  \\\n",
       "4549  2ea50de315514ccaa5079db4c1ecbc0b  fafdcd668e3743c1bb461111dcafc2a4   \n",
       "6722  43a50d7e5c8547a9aa1ec31291b9fc30  0b1e1539f2cc45b7b9fa7c272da2e1d7   \n",
       "\n",
       "      offer_received_time  \n",
       "4549                    5  \n",
       "6722                    5  "
      ]
     },
     "execution_count": 272,
     "metadata": {},
     "output_type": "execute_result"
    }
   ],
   "source": [
    "test_df[test_df[\"offer_received_time\"]==5]"
   ]
  },
  {
   "cell_type": "code",
   "execution_count": 273,
   "metadata": {
    "scrolled": true
   },
   "outputs": [
    {
     "data": {
      "text/html": [
       "<div>\n",
       "<style scoped>\n",
       "    .dataframe tbody tr th:only-of-type {\n",
       "        vertical-align: middle;\n",
       "    }\n",
       "\n",
       "    .dataframe tbody tr th {\n",
       "        vertical-align: top;\n",
       "    }\n",
       "\n",
       "    .dataframe thead th {\n",
       "        text-align: right;\n",
       "    }\n",
       "</style>\n",
       "<table border=\"1\" class=\"dataframe\">\n",
       "  <thead>\n",
       "    <tr style=\"text-align: right;\">\n",
       "      <th></th>\n",
       "      <th>customer_id</th>\n",
       "      <th>portfolio_id</th>\n",
       "      <th>event</th>\n",
       "      <th>time</th>\n",
       "      <th>amount</th>\n",
       "      <th>duration</th>\n",
       "      <th>offer_type</th>\n",
       "    </tr>\n",
       "  </thead>\n",
       "  <tbody>\n",
       "    <tr>\n",
       "      <th>48886</th>\n",
       "      <td>2ea50de315514ccaa5079db4c1ecbc0b</td>\n",
       "      <td>fafdcd668e3743c1bb461111dcafc2a4</td>\n",
       "      <td>offer received</td>\n",
       "      <td>168</td>\n",
       "      <td>0.0</td>\n",
       "      <td>240.0</td>\n",
       "      <td>discount</td>\n",
       "    </tr>\n",
       "    <tr>\n",
       "      <th>96441</th>\n",
       "      <td>2ea50de315514ccaa5079db4c1ecbc0b</td>\n",
       "      <td>fafdcd668e3743c1bb461111dcafc2a4</td>\n",
       "      <td>offer received</td>\n",
       "      <td>336</td>\n",
       "      <td>0.0</td>\n",
       "      <td>240.0</td>\n",
       "      <td>discount</td>\n",
       "    </tr>\n",
       "    <tr>\n",
       "      <th>127478</th>\n",
       "      <td>2ea50de315514ccaa5079db4c1ecbc0b</td>\n",
       "      <td>fafdcd668e3743c1bb461111dcafc2a4</td>\n",
       "      <td>offer received</td>\n",
       "      <td>408</td>\n",
       "      <td>0.0</td>\n",
       "      <td>240.0</td>\n",
       "      <td>discount</td>\n",
       "    </tr>\n",
       "    <tr>\n",
       "      <th>168713</th>\n",
       "      <td>2ea50de315514ccaa5079db4c1ecbc0b</td>\n",
       "      <td>fafdcd668e3743c1bb461111dcafc2a4</td>\n",
       "      <td>offer received</td>\n",
       "      <td>504</td>\n",
       "      <td>0.0</td>\n",
       "      <td>240.0</td>\n",
       "      <td>discount</td>\n",
       "    </tr>\n",
       "    <tr>\n",
       "      <th>184435</th>\n",
       "      <td>2ea50de315514ccaa5079db4c1ecbc0b</td>\n",
       "      <td>fafdcd668e3743c1bb461111dcafc2a4</td>\n",
       "      <td>offer completed</td>\n",
       "      <td>528</td>\n",
       "      <td>0.0</td>\n",
       "      <td>240.0</td>\n",
       "      <td>discount</td>\n",
       "    </tr>\n",
       "    <tr>\n",
       "      <th>184436</th>\n",
       "      <td>2ea50de315514ccaa5079db4c1ecbc0b</td>\n",
       "      <td>fafdcd668e3743c1bb461111dcafc2a4</td>\n",
       "      <td>offer completed</td>\n",
       "      <td>528</td>\n",
       "      <td>0.0</td>\n",
       "      <td>240.0</td>\n",
       "      <td>discount</td>\n",
       "    </tr>\n",
       "    <tr>\n",
       "      <th>203330</th>\n",
       "      <td>2ea50de315514ccaa5079db4c1ecbc0b</td>\n",
       "      <td>fafdcd668e3743c1bb461111dcafc2a4</td>\n",
       "      <td>offer received</td>\n",
       "      <td>576</td>\n",
       "      <td>0.0</td>\n",
       "      <td>240.0</td>\n",
       "      <td>discount</td>\n",
       "    </tr>\n",
       "    <tr>\n",
       "      <th>238454</th>\n",
       "      <td>2ea50de315514ccaa5079db4c1ecbc0b</td>\n",
       "      <td>fafdcd668e3743c1bb461111dcafc2a4</td>\n",
       "      <td>offer completed</td>\n",
       "      <td>666</td>\n",
       "      <td>0.0</td>\n",
       "      <td>240.0</td>\n",
       "      <td>discount</td>\n",
       "    </tr>\n",
       "  </tbody>\n",
       "</table>\n",
       "</div>"
      ],
      "text/plain": [
       "                             customer_id                      portfolio_id  \\\n",
       "48886   2ea50de315514ccaa5079db4c1ecbc0b  fafdcd668e3743c1bb461111dcafc2a4   \n",
       "96441   2ea50de315514ccaa5079db4c1ecbc0b  fafdcd668e3743c1bb461111dcafc2a4   \n",
       "127478  2ea50de315514ccaa5079db4c1ecbc0b  fafdcd668e3743c1bb461111dcafc2a4   \n",
       "168713  2ea50de315514ccaa5079db4c1ecbc0b  fafdcd668e3743c1bb461111dcafc2a4   \n",
       "184435  2ea50de315514ccaa5079db4c1ecbc0b  fafdcd668e3743c1bb461111dcafc2a4   \n",
       "184436  2ea50de315514ccaa5079db4c1ecbc0b  fafdcd668e3743c1bb461111dcafc2a4   \n",
       "203330  2ea50de315514ccaa5079db4c1ecbc0b  fafdcd668e3743c1bb461111dcafc2a4   \n",
       "238454  2ea50de315514ccaa5079db4c1ecbc0b  fafdcd668e3743c1bb461111dcafc2a4   \n",
       "\n",
       "                  event  time  amount  duration offer_type  \n",
       "48886    offer received   168     0.0     240.0   discount  \n",
       "96441    offer received   336     0.0     240.0   discount  \n",
       "127478   offer received   408     0.0     240.0   discount  \n",
       "168713   offer received   504     0.0     240.0   discount  \n",
       "184435  offer completed   528     0.0     240.0   discount  \n",
       "184436  offer completed   528     0.0     240.0   discount  \n",
       "203330   offer received   576     0.0     240.0   discount  \n",
       "238454  offer completed   666     0.0     240.0   discount  "
      ]
     },
     "execution_count": 273,
     "metadata": {},
     "output_type": "execute_result"
    }
   ],
   "source": [
    "transcript_disc_df[(transcript_disc_df[\"customer_id\"] == \"2ea50de315514ccaa5079db4c1ecbc0b\") & \\\n",
    "                  (transcript_disc_df[\"portfolio_id\"] == \"fafdcd668e3743c1bb461111dcafc2a4\")\n",
    "                  ]"
   ]
  },
  {
   "cell_type": "code",
   "execution_count": 274,
   "metadata": {},
   "outputs": [
    {
     "data": {
      "text/html": [
       "<div>\n",
       "<style scoped>\n",
       "    .dataframe tbody tr th:only-of-type {\n",
       "        vertical-align: middle;\n",
       "    }\n",
       "\n",
       "    .dataframe tbody tr th {\n",
       "        vertical-align: top;\n",
       "    }\n",
       "\n",
       "    .dataframe thead th {\n",
       "        text-align: right;\n",
       "    }\n",
       "</style>\n",
       "<table border=\"1\" class=\"dataframe\">\n",
       "  <thead>\n",
       "    <tr style=\"text-align: right;\">\n",
       "      <th></th>\n",
       "      <th>customer_id</th>\n",
       "      <th>portfolio_id</th>\n",
       "      <th>event</th>\n",
       "      <th>offer_received_time</th>\n",
       "      <th>amount</th>\n",
       "      <th>duration</th>\n",
       "      <th>offer_type</th>\n",
       "      <th>offer_end_time</th>\n",
       "    </tr>\n",
       "  </thead>\n",
       "  <tbody>\n",
       "    <tr>\n",
       "      <th>48886</th>\n",
       "      <td>2ea50de315514ccaa5079db4c1ecbc0b</td>\n",
       "      <td>fafdcd668e3743c1bb461111dcafc2a4</td>\n",
       "      <td>offer received</td>\n",
       "      <td>168</td>\n",
       "      <td>0.0</td>\n",
       "      <td>240.0</td>\n",
       "      <td>discount</td>\n",
       "      <td>408.0</td>\n",
       "    </tr>\n",
       "    <tr>\n",
       "      <th>96441</th>\n",
       "      <td>2ea50de315514ccaa5079db4c1ecbc0b</td>\n",
       "      <td>fafdcd668e3743c1bb461111dcafc2a4</td>\n",
       "      <td>offer received</td>\n",
       "      <td>336</td>\n",
       "      <td>0.0</td>\n",
       "      <td>240.0</td>\n",
       "      <td>discount</td>\n",
       "      <td>576.0</td>\n",
       "    </tr>\n",
       "    <tr>\n",
       "      <th>127478</th>\n",
       "      <td>2ea50de315514ccaa5079db4c1ecbc0b</td>\n",
       "      <td>fafdcd668e3743c1bb461111dcafc2a4</td>\n",
       "      <td>offer received</td>\n",
       "      <td>408</td>\n",
       "      <td>0.0</td>\n",
       "      <td>240.0</td>\n",
       "      <td>discount</td>\n",
       "      <td>648.0</td>\n",
       "    </tr>\n",
       "    <tr>\n",
       "      <th>168713</th>\n",
       "      <td>2ea50de315514ccaa5079db4c1ecbc0b</td>\n",
       "      <td>fafdcd668e3743c1bb461111dcafc2a4</td>\n",
       "      <td>offer received</td>\n",
       "      <td>504</td>\n",
       "      <td>0.0</td>\n",
       "      <td>240.0</td>\n",
       "      <td>discount</td>\n",
       "      <td>744.0</td>\n",
       "    </tr>\n",
       "    <tr>\n",
       "      <th>203330</th>\n",
       "      <td>2ea50de315514ccaa5079db4c1ecbc0b</td>\n",
       "      <td>fafdcd668e3743c1bb461111dcafc2a4</td>\n",
       "      <td>offer received</td>\n",
       "      <td>576</td>\n",
       "      <td>0.0</td>\n",
       "      <td>240.0</td>\n",
       "      <td>discount</td>\n",
       "      <td>816.0</td>\n",
       "    </tr>\n",
       "  </tbody>\n",
       "</table>\n",
       "</div>"
      ],
      "text/plain": [
       "                             customer_id                      portfolio_id  \\\n",
       "48886   2ea50de315514ccaa5079db4c1ecbc0b  fafdcd668e3743c1bb461111dcafc2a4   \n",
       "96441   2ea50de315514ccaa5079db4c1ecbc0b  fafdcd668e3743c1bb461111dcafc2a4   \n",
       "127478  2ea50de315514ccaa5079db4c1ecbc0b  fafdcd668e3743c1bb461111dcafc2a4   \n",
       "168713  2ea50de315514ccaa5079db4c1ecbc0b  fafdcd668e3743c1bb461111dcafc2a4   \n",
       "203330  2ea50de315514ccaa5079db4c1ecbc0b  fafdcd668e3743c1bb461111dcafc2a4   \n",
       "\n",
       "                 event  offer_received_time  amount  duration offer_type  \\\n",
       "48886   offer received                  168     0.0     240.0   discount   \n",
       "96441   offer received                  336     0.0     240.0   discount   \n",
       "127478  offer received                  408     0.0     240.0   discount   \n",
       "168713  offer received                  504     0.0     240.0   discount   \n",
       "203330  offer received                  576     0.0     240.0   discount   \n",
       "\n",
       "        offer_end_time  \n",
       "48886            408.0  \n",
       "96441            576.0  \n",
       "127478           648.0  \n",
       "168713           744.0  \n",
       "203330           816.0  "
      ]
     },
     "execution_count": 274,
     "metadata": {},
     "output_type": "execute_result"
    }
   ],
   "source": [
    "transcript_disc_received_df[(transcript_disc_received_df[\"customer_id\"] == \"2ea50de315514ccaa5079db4c1ecbc0b\") & \\\n",
    "                  (transcript_disc_received_df[\"portfolio_id\"] == \"fafdcd668e3743c1bb461111dcafc2a4\")\n",
    "                  ]"
   ]
  },
  {
   "cell_type": "code",
   "execution_count": 275,
   "metadata": {},
   "outputs": [
    {
     "data": {
      "text/html": [
       "<div>\n",
       "<style scoped>\n",
       "    .dataframe tbody tr th:only-of-type {\n",
       "        vertical-align: middle;\n",
       "    }\n",
       "\n",
       "    .dataframe tbody tr th {\n",
       "        vertical-align: top;\n",
       "    }\n",
       "\n",
       "    .dataframe thead th {\n",
       "        text-align: right;\n",
       "    }\n",
       "</style>\n",
       "<table border=\"1\" class=\"dataframe\">\n",
       "  <thead>\n",
       "    <tr style=\"text-align: right;\">\n",
       "      <th></th>\n",
       "      <th>customer_id</th>\n",
       "      <th>portfolio_id</th>\n",
       "      <th>event</th>\n",
       "      <th>time</th>\n",
       "      <th>amount</th>\n",
       "      <th>duration</th>\n",
       "      <th>offer_type</th>\n",
       "    </tr>\n",
       "  </thead>\n",
       "  <tbody>\n",
       "    <tr>\n",
       "      <th>5619</th>\n",
       "      <td>43a50d7e5c8547a9aa1ec31291b9fc30</td>\n",
       "      <td>0b1e1539f2cc45b7b9fa7c272da2e1d7</td>\n",
       "      <td>offer received</td>\n",
       "      <td>0</td>\n",
       "      <td>0.0</td>\n",
       "      <td>240.0</td>\n",
       "      <td>discount</td>\n",
       "    </tr>\n",
       "    <tr>\n",
       "      <th>48894</th>\n",
       "      <td>43a50d7e5c8547a9aa1ec31291b9fc30</td>\n",
       "      <td>0b1e1539f2cc45b7b9fa7c272da2e1d7</td>\n",
       "      <td>offer received</td>\n",
       "      <td>168</td>\n",
       "      <td>0.0</td>\n",
       "      <td>240.0</td>\n",
       "      <td>discount</td>\n",
       "    </tr>\n",
       "    <tr>\n",
       "      <th>57831</th>\n",
       "      <td>43a50d7e5c8547a9aa1ec31291b9fc30</td>\n",
       "      <td>0b1e1539f2cc45b7b9fa7c272da2e1d7</td>\n",
       "      <td>offer completed</td>\n",
       "      <td>174</td>\n",
       "      <td>0.0</td>\n",
       "      <td>240.0</td>\n",
       "      <td>discount</td>\n",
       "    </tr>\n",
       "    <tr>\n",
       "      <th>97985</th>\n",
       "      <td>43a50d7e5c8547a9aa1ec31291b9fc30</td>\n",
       "      <td>0b1e1539f2cc45b7b9fa7c272da2e1d7</td>\n",
       "      <td>offer received</td>\n",
       "      <td>336</td>\n",
       "      <td>0.0</td>\n",
       "      <td>240.0</td>\n",
       "      <td>discount</td>\n",
       "    </tr>\n",
       "    <tr>\n",
       "      <th>126872</th>\n",
       "      <td>43a50d7e5c8547a9aa1ec31291b9fc30</td>\n",
       "      <td>0b1e1539f2cc45b7b9fa7c272da2e1d7</td>\n",
       "      <td>offer received</td>\n",
       "      <td>408</td>\n",
       "      <td>0.0</td>\n",
       "      <td>240.0</td>\n",
       "      <td>discount</td>\n",
       "    </tr>\n",
       "    <tr>\n",
       "      <th>203340</th>\n",
       "      <td>43a50d7e5c8547a9aa1ec31291b9fc30</td>\n",
       "      <td>0b1e1539f2cc45b7b9fa7c272da2e1d7</td>\n",
       "      <td>offer received</td>\n",
       "      <td>576</td>\n",
       "      <td>0.0</td>\n",
       "      <td>240.0</td>\n",
       "      <td>discount</td>\n",
       "    </tr>\n",
       "  </tbody>\n",
       "</table>\n",
       "</div>"
      ],
      "text/plain": [
       "                             customer_id                      portfolio_id  \\\n",
       "5619    43a50d7e5c8547a9aa1ec31291b9fc30  0b1e1539f2cc45b7b9fa7c272da2e1d7   \n",
       "48894   43a50d7e5c8547a9aa1ec31291b9fc30  0b1e1539f2cc45b7b9fa7c272da2e1d7   \n",
       "57831   43a50d7e5c8547a9aa1ec31291b9fc30  0b1e1539f2cc45b7b9fa7c272da2e1d7   \n",
       "97985   43a50d7e5c8547a9aa1ec31291b9fc30  0b1e1539f2cc45b7b9fa7c272da2e1d7   \n",
       "126872  43a50d7e5c8547a9aa1ec31291b9fc30  0b1e1539f2cc45b7b9fa7c272da2e1d7   \n",
       "203340  43a50d7e5c8547a9aa1ec31291b9fc30  0b1e1539f2cc45b7b9fa7c272da2e1d7   \n",
       "\n",
       "                  event  time  amount  duration offer_type  \n",
       "5619     offer received     0     0.0     240.0   discount  \n",
       "48894    offer received   168     0.0     240.0   discount  \n",
       "57831   offer completed   174     0.0     240.0   discount  \n",
       "97985    offer received   336     0.0     240.0   discount  \n",
       "126872   offer received   408     0.0     240.0   discount  \n",
       "203340   offer received   576     0.0     240.0   discount  "
      ]
     },
     "execution_count": 275,
     "metadata": {},
     "output_type": "execute_result"
    }
   ],
   "source": [
    "transcript_disc_df[(transcript_disc_df[\"customer_id\"] == \"43a50d7e5c8547a9aa1ec31291b9fc30\") & \\\n",
    "                  (transcript_disc_df[\"portfolio_id\"] == \"0b1e1539f2cc45b7b9fa7c272da2e1d7\")\n",
    "                  ]"
   ]
  },
  {
   "cell_type": "code",
   "execution_count": 276,
   "metadata": {
    "scrolled": true
   },
   "outputs": [
    {
     "data": {
      "text/html": [
       "<div>\n",
       "<style scoped>\n",
       "    .dataframe tbody tr th:only-of-type {\n",
       "        vertical-align: middle;\n",
       "    }\n",
       "\n",
       "    .dataframe tbody tr th {\n",
       "        vertical-align: top;\n",
       "    }\n",
       "\n",
       "    .dataframe thead th {\n",
       "        text-align: right;\n",
       "    }\n",
       "</style>\n",
       "<table border=\"1\" class=\"dataframe\">\n",
       "  <thead>\n",
       "    <tr style=\"text-align: right;\">\n",
       "      <th></th>\n",
       "      <th>customer_id</th>\n",
       "      <th>portfolio_id</th>\n",
       "      <th>event</th>\n",
       "      <th>offer_received_time</th>\n",
       "      <th>amount</th>\n",
       "      <th>duration</th>\n",
       "      <th>offer_type</th>\n",
       "      <th>offer_end_time</th>\n",
       "    </tr>\n",
       "  </thead>\n",
       "  <tbody>\n",
       "    <tr>\n",
       "      <th>5619</th>\n",
       "      <td>43a50d7e5c8547a9aa1ec31291b9fc30</td>\n",
       "      <td>0b1e1539f2cc45b7b9fa7c272da2e1d7</td>\n",
       "      <td>offer received</td>\n",
       "      <td>0</td>\n",
       "      <td>0.0</td>\n",
       "      <td>240.0</td>\n",
       "      <td>discount</td>\n",
       "      <td>240.0</td>\n",
       "    </tr>\n",
       "    <tr>\n",
       "      <th>48894</th>\n",
       "      <td>43a50d7e5c8547a9aa1ec31291b9fc30</td>\n",
       "      <td>0b1e1539f2cc45b7b9fa7c272da2e1d7</td>\n",
       "      <td>offer received</td>\n",
       "      <td>168</td>\n",
       "      <td>0.0</td>\n",
       "      <td>240.0</td>\n",
       "      <td>discount</td>\n",
       "      <td>408.0</td>\n",
       "    </tr>\n",
       "    <tr>\n",
       "      <th>97985</th>\n",
       "      <td>43a50d7e5c8547a9aa1ec31291b9fc30</td>\n",
       "      <td>0b1e1539f2cc45b7b9fa7c272da2e1d7</td>\n",
       "      <td>offer received</td>\n",
       "      <td>336</td>\n",
       "      <td>0.0</td>\n",
       "      <td>240.0</td>\n",
       "      <td>discount</td>\n",
       "      <td>576.0</td>\n",
       "    </tr>\n",
       "    <tr>\n",
       "      <th>126872</th>\n",
       "      <td>43a50d7e5c8547a9aa1ec31291b9fc30</td>\n",
       "      <td>0b1e1539f2cc45b7b9fa7c272da2e1d7</td>\n",
       "      <td>offer received</td>\n",
       "      <td>408</td>\n",
       "      <td>0.0</td>\n",
       "      <td>240.0</td>\n",
       "      <td>discount</td>\n",
       "      <td>648.0</td>\n",
       "    </tr>\n",
       "    <tr>\n",
       "      <th>203340</th>\n",
       "      <td>43a50d7e5c8547a9aa1ec31291b9fc30</td>\n",
       "      <td>0b1e1539f2cc45b7b9fa7c272da2e1d7</td>\n",
       "      <td>offer received</td>\n",
       "      <td>576</td>\n",
       "      <td>0.0</td>\n",
       "      <td>240.0</td>\n",
       "      <td>discount</td>\n",
       "      <td>816.0</td>\n",
       "    </tr>\n",
       "  </tbody>\n",
       "</table>\n",
       "</div>"
      ],
      "text/plain": [
       "                             customer_id                      portfolio_id  \\\n",
       "5619    43a50d7e5c8547a9aa1ec31291b9fc30  0b1e1539f2cc45b7b9fa7c272da2e1d7   \n",
       "48894   43a50d7e5c8547a9aa1ec31291b9fc30  0b1e1539f2cc45b7b9fa7c272da2e1d7   \n",
       "97985   43a50d7e5c8547a9aa1ec31291b9fc30  0b1e1539f2cc45b7b9fa7c272da2e1d7   \n",
       "126872  43a50d7e5c8547a9aa1ec31291b9fc30  0b1e1539f2cc45b7b9fa7c272da2e1d7   \n",
       "203340  43a50d7e5c8547a9aa1ec31291b9fc30  0b1e1539f2cc45b7b9fa7c272da2e1d7   \n",
       "\n",
       "                 event  offer_received_time  amount  duration offer_type  \\\n",
       "5619    offer received                    0     0.0     240.0   discount   \n",
       "48894   offer received                  168     0.0     240.0   discount   \n",
       "97985   offer received                  336     0.0     240.0   discount   \n",
       "126872  offer received                  408     0.0     240.0   discount   \n",
       "203340  offer received                  576     0.0     240.0   discount   \n",
       "\n",
       "        offer_end_time  \n",
       "5619             240.0  \n",
       "48894            408.0  \n",
       "97985            576.0  \n",
       "126872           648.0  \n",
       "203340           816.0  "
      ]
     },
     "execution_count": 276,
     "metadata": {},
     "output_type": "execute_result"
    }
   ],
   "source": [
    "transcript_disc_received_df[(transcript_disc_received_df[\"customer_id\"] == \"43a50d7e5c8547a9aa1ec31291b9fc30\") & \\\n",
    "                  (transcript_disc_received_df[\"portfolio_id\"] == \"0b1e1539f2cc45b7b9fa7c272da2e1d7\")\n",
    "                  ]"
   ]
  },
  {
   "cell_type": "code",
   "execution_count": 277,
   "metadata": {
    "scrolled": true
   },
   "outputs": [
    {
     "data": {
      "text/html": [
       "<div>\n",
       "<style scoped>\n",
       "    .dataframe tbody tr th:only-of-type {\n",
       "        vertical-align: middle;\n",
       "    }\n",
       "\n",
       "    .dataframe tbody tr th {\n",
       "        vertical-align: top;\n",
       "    }\n",
       "\n",
       "    .dataframe thead th {\n",
       "        text-align: right;\n",
       "    }\n",
       "</style>\n",
       "<table border=\"1\" class=\"dataframe\">\n",
       "  <thead>\n",
       "    <tr style=\"text-align: right;\">\n",
       "      <th></th>\n",
       "      <th>customer_id</th>\n",
       "      <th>portfolio_id</th>\n",
       "    </tr>\n",
       "    <tr>\n",
       "      <th>offer_received_time</th>\n",
       "      <th></th>\n",
       "      <th></th>\n",
       "    </tr>\n",
       "  </thead>\n",
       "  <tbody>\n",
       "    <tr>\n",
       "      <th>1</th>\n",
       "      <td>0.813517</td>\n",
       "      <td>0.813517</td>\n",
       "    </tr>\n",
       "    <tr>\n",
       "      <th>2</th>\n",
       "      <td>0.167760</td>\n",
       "      <td>0.167760</td>\n",
       "    </tr>\n",
       "    <tr>\n",
       "      <th>3</th>\n",
       "      <td>0.017538</td>\n",
       "      <td>0.017538</td>\n",
       "    </tr>\n",
       "    <tr>\n",
       "      <th>4</th>\n",
       "      <td>0.001106</td>\n",
       "      <td>0.001106</td>\n",
       "    </tr>\n",
       "    <tr>\n",
       "      <th>5</th>\n",
       "      <td>0.000079</td>\n",
       "      <td>0.000079</td>\n",
       "    </tr>\n",
       "  </tbody>\n",
       "</table>\n",
       "</div>"
      ],
      "text/plain": [
       "                     customer_id  portfolio_id\n",
       "offer_received_time                           \n",
       "1                       0.813517      0.813517\n",
       "2                       0.167760      0.167760\n",
       "3                       0.017538      0.017538\n",
       "4                       0.001106      0.001106\n",
       "5                       0.000079      0.000079"
      ]
     },
     "execution_count": 277,
     "metadata": {},
     "output_type": "execute_result"
    }
   ],
   "source": [
    "test_df.groupby(\"offer_received_time\").count()/test_df.shape[0]"
   ]
  },
  {
   "cell_type": "code",
   "execution_count": 278,
   "metadata": {
    "scrolled": true
   },
   "outputs": [
    {
     "data": {
      "text/html": [
       "<div>\n",
       "<style scoped>\n",
       "    .dataframe tbody tr th:only-of-type {\n",
       "        vertical-align: middle;\n",
       "    }\n",
       "\n",
       "    .dataframe tbody tr th {\n",
       "        vertical-align: top;\n",
       "    }\n",
       "\n",
       "    .dataframe thead th {\n",
       "        text-align: right;\n",
       "    }\n",
       "</style>\n",
       "<table border=\"1\" class=\"dataframe\">\n",
       "  <thead>\n",
       "    <tr style=\"text-align: right;\">\n",
       "      <th></th>\n",
       "      <th>customer_id</th>\n",
       "      <th>portfolio_id</th>\n",
       "      <th>offer_received_time</th>\n",
       "    </tr>\n",
       "  </thead>\n",
       "  <tbody>\n",
       "    <tr>\n",
       "      <th>494</th>\n",
       "      <td>04fa747cd2d841bcaf08f0a64e82bbef</td>\n",
       "      <td>2906b810c7d4411798c6938adc9daaa5</td>\n",
       "      <td>4</td>\n",
       "    </tr>\n",
       "    <tr>\n",
       "      <th>1439</th>\n",
       "      <td>0ea1f0bb1ba245abbf709b962d326dd7</td>\n",
       "      <td>2906b810c7d4411798c6938adc9daaa5</td>\n",
       "      <td>4</td>\n",
       "    </tr>\n",
       "    <tr>\n",
       "      <th>2232</th>\n",
       "      <td>1679b7af5a294c6d9ae961232318ad55</td>\n",
       "      <td>0b1e1539f2cc45b7b9fa7c272da2e1d7</td>\n",
       "      <td>4</td>\n",
       "    </tr>\n",
       "    <tr>\n",
       "      <th>2767</th>\n",
       "      <td>1c8cf4af93464dcaa971cfcffc2cc1e5</td>\n",
       "      <td>2298d6c36e964ae4a3e7e9706d1fb8c2</td>\n",
       "      <td>4</td>\n",
       "    </tr>\n",
       "    <tr>\n",
       "      <th>3843</th>\n",
       "      <td>281d463f31e74ecaa4451d169868c5d7</td>\n",
       "      <td>2298d6c36e964ae4a3e7e9706d1fb8c2</td>\n",
       "      <td>4</td>\n",
       "    </tr>\n",
       "    <tr>\n",
       "      <th>4442</th>\n",
       "      <td>2dab8c385a2440b78b432ecb72d68787</td>\n",
       "      <td>2298d6c36e964ae4a3e7e9706d1fb8c2</td>\n",
       "      <td>4</td>\n",
       "    </tr>\n",
       "    <tr>\n",
       "      <th>4530</th>\n",
       "      <td>2e7dd52a1b9b49dd90f5cd3cd8ad9636</td>\n",
       "      <td>fafdcd668e3743c1bb461111dcafc2a4</td>\n",
       "      <td>4</td>\n",
       "    </tr>\n",
       "    <tr>\n",
       "      <th>5199</th>\n",
       "      <td>3526938fb466470190a504a751ec07b0</td>\n",
       "      <td>0b1e1539f2cc45b7b9fa7c272da2e1d7</td>\n",
       "      <td>4</td>\n",
       "    </tr>\n",
       "    <tr>\n",
       "      <th>6114</th>\n",
       "      <td>3db080837a5f4137aeb5cab01f739866</td>\n",
       "      <td>2906b810c7d4411798c6938adc9daaa5</td>\n",
       "      <td>4</td>\n",
       "    </tr>\n",
       "    <tr>\n",
       "      <th>7198</th>\n",
       "      <td>487ad048c0e248a8bf6eb1545f5be4c6</td>\n",
       "      <td>2906b810c7d4411798c6938adc9daaa5</td>\n",
       "      <td>4</td>\n",
       "    </tr>\n",
       "    <tr>\n",
       "      <th>8760</th>\n",
       "      <td>58820704150d4a71b3a343a148794141</td>\n",
       "      <td>0b1e1539f2cc45b7b9fa7c272da2e1d7</td>\n",
       "      <td>4</td>\n",
       "    </tr>\n",
       "    <tr>\n",
       "      <th>9699</th>\n",
       "      <td>61f661b7070c4063880a85b22f1fe0e4</td>\n",
       "      <td>2906b810c7d4411798c6938adc9daaa5</td>\n",
       "      <td>4</td>\n",
       "    </tr>\n",
       "    <tr>\n",
       "      <th>11218</th>\n",
       "      <td>70ad38ba603b4703a521c46554fda1c5</td>\n",
       "      <td>2906b810c7d4411798c6938adc9daaa5</td>\n",
       "      <td>4</td>\n",
       "    </tr>\n",
       "    <tr>\n",
       "      <th>11311</th>\n",
       "      <td>71ce0f1aa7174e96bf1ddf16aa05bd30</td>\n",
       "      <td>2298d6c36e964ae4a3e7e9706d1fb8c2</td>\n",
       "      <td>4</td>\n",
       "    </tr>\n",
       "    <tr>\n",
       "      <th>11347</th>\n",
       "      <td>72412f41d944472dbba2183ae9af8a8e</td>\n",
       "      <td>2298d6c36e964ae4a3e7e9706d1fb8c2</td>\n",
       "      <td>4</td>\n",
       "    </tr>\n",
       "    <tr>\n",
       "      <th>11690</th>\n",
       "      <td>75c6aaed068b47968b4916342184b0dd</td>\n",
       "      <td>fafdcd668e3743c1bb461111dcafc2a4</td>\n",
       "      <td>4</td>\n",
       "    </tr>\n",
       "    <tr>\n",
       "      <th>11702</th>\n",
       "      <td>75e8dd3225aa47908891329611068ae7</td>\n",
       "      <td>2298d6c36e964ae4a3e7e9706d1fb8c2</td>\n",
       "      <td>4</td>\n",
       "    </tr>\n",
       "    <tr>\n",
       "      <th>12124</th>\n",
       "      <td>7a25184a373140418490fb812f520902</td>\n",
       "      <td>0b1e1539f2cc45b7b9fa7c272da2e1d7</td>\n",
       "      <td>4</td>\n",
       "    </tr>\n",
       "    <tr>\n",
       "      <th>12127</th>\n",
       "      <td>7a30763c05734cb3bd14123e1b6b9d63</td>\n",
       "      <td>0b1e1539f2cc45b7b9fa7c272da2e1d7</td>\n",
       "      <td>4</td>\n",
       "    </tr>\n",
       "    <tr>\n",
       "      <th>15339</th>\n",
       "      <td>9a2c1fcc65814401a845b9b82de26d97</td>\n",
       "      <td>2906b810c7d4411798c6938adc9daaa5</td>\n",
       "      <td>4</td>\n",
       "    </tr>\n",
       "    <tr>\n",
       "      <th>15918</th>\n",
       "      <td>9f53a01bf9874fc98e062a90a04d8504</td>\n",
       "      <td>2906b810c7d4411798c6938adc9daaa5</td>\n",
       "      <td>4</td>\n",
       "    </tr>\n",
       "    <tr>\n",
       "      <th>16940</th>\n",
       "      <td>a94178cd671648eeb9dc60dc8a972dff</td>\n",
       "      <td>0b1e1539f2cc45b7b9fa7c272da2e1d7</td>\n",
       "      <td>4</td>\n",
       "    </tr>\n",
       "    <tr>\n",
       "      <th>17246</th>\n",
       "      <td>ac3b8c9879304a9db841fa510d931ea7</td>\n",
       "      <td>2906b810c7d4411798c6938adc9daaa5</td>\n",
       "      <td>4</td>\n",
       "    </tr>\n",
       "    <tr>\n",
       "      <th>18871</th>\n",
       "      <td>bd2cdd691aca4bb0a0e039979ee5de5c</td>\n",
       "      <td>2298d6c36e964ae4a3e7e9706d1fb8c2</td>\n",
       "      <td>4</td>\n",
       "    </tr>\n",
       "    <tr>\n",
       "      <th>22233</th>\n",
       "      <td>e008262ad24e46af98a928342e303c3e</td>\n",
       "      <td>2298d6c36e964ae4a3e7e9706d1fb8c2</td>\n",
       "      <td>4</td>\n",
       "    </tr>\n",
       "    <tr>\n",
       "      <th>23237</th>\n",
       "      <td>ea54840ba8a54a098de60d39fc533d51</td>\n",
       "      <td>2298d6c36e964ae4a3e7e9706d1fb8c2</td>\n",
       "      <td>4</td>\n",
       "    </tr>\n",
       "    <tr>\n",
       "      <th>23396</th>\n",
       "      <td>ebf0ac82b55d436bb6a53ccf910cd759</td>\n",
       "      <td>2298d6c36e964ae4a3e7e9706d1fb8c2</td>\n",
       "      <td>4</td>\n",
       "    </tr>\n",
       "    <tr>\n",
       "      <th>23558</th>\n",
       "      <td>edc7b04392144da9979f3077095f268a</td>\n",
       "      <td>fafdcd668e3743c1bb461111dcafc2a4</td>\n",
       "      <td>4</td>\n",
       "    </tr>\n",
       "  </tbody>\n",
       "</table>\n",
       "</div>"
      ],
      "text/plain": [
       "                            customer_id                      portfolio_id  \\\n",
       "494    04fa747cd2d841bcaf08f0a64e82bbef  2906b810c7d4411798c6938adc9daaa5   \n",
       "1439   0ea1f0bb1ba245abbf709b962d326dd7  2906b810c7d4411798c6938adc9daaa5   \n",
       "2232   1679b7af5a294c6d9ae961232318ad55  0b1e1539f2cc45b7b9fa7c272da2e1d7   \n",
       "2767   1c8cf4af93464dcaa971cfcffc2cc1e5  2298d6c36e964ae4a3e7e9706d1fb8c2   \n",
       "3843   281d463f31e74ecaa4451d169868c5d7  2298d6c36e964ae4a3e7e9706d1fb8c2   \n",
       "4442   2dab8c385a2440b78b432ecb72d68787  2298d6c36e964ae4a3e7e9706d1fb8c2   \n",
       "4530   2e7dd52a1b9b49dd90f5cd3cd8ad9636  fafdcd668e3743c1bb461111dcafc2a4   \n",
       "5199   3526938fb466470190a504a751ec07b0  0b1e1539f2cc45b7b9fa7c272da2e1d7   \n",
       "6114   3db080837a5f4137aeb5cab01f739866  2906b810c7d4411798c6938adc9daaa5   \n",
       "7198   487ad048c0e248a8bf6eb1545f5be4c6  2906b810c7d4411798c6938adc9daaa5   \n",
       "8760   58820704150d4a71b3a343a148794141  0b1e1539f2cc45b7b9fa7c272da2e1d7   \n",
       "9699   61f661b7070c4063880a85b22f1fe0e4  2906b810c7d4411798c6938adc9daaa5   \n",
       "11218  70ad38ba603b4703a521c46554fda1c5  2906b810c7d4411798c6938adc9daaa5   \n",
       "11311  71ce0f1aa7174e96bf1ddf16aa05bd30  2298d6c36e964ae4a3e7e9706d1fb8c2   \n",
       "11347  72412f41d944472dbba2183ae9af8a8e  2298d6c36e964ae4a3e7e9706d1fb8c2   \n",
       "11690  75c6aaed068b47968b4916342184b0dd  fafdcd668e3743c1bb461111dcafc2a4   \n",
       "11702  75e8dd3225aa47908891329611068ae7  2298d6c36e964ae4a3e7e9706d1fb8c2   \n",
       "12124  7a25184a373140418490fb812f520902  0b1e1539f2cc45b7b9fa7c272da2e1d7   \n",
       "12127  7a30763c05734cb3bd14123e1b6b9d63  0b1e1539f2cc45b7b9fa7c272da2e1d7   \n",
       "15339  9a2c1fcc65814401a845b9b82de26d97  2906b810c7d4411798c6938adc9daaa5   \n",
       "15918  9f53a01bf9874fc98e062a90a04d8504  2906b810c7d4411798c6938adc9daaa5   \n",
       "16940  a94178cd671648eeb9dc60dc8a972dff  0b1e1539f2cc45b7b9fa7c272da2e1d7   \n",
       "17246  ac3b8c9879304a9db841fa510d931ea7  2906b810c7d4411798c6938adc9daaa5   \n",
       "18871  bd2cdd691aca4bb0a0e039979ee5de5c  2298d6c36e964ae4a3e7e9706d1fb8c2   \n",
       "22233  e008262ad24e46af98a928342e303c3e  2298d6c36e964ae4a3e7e9706d1fb8c2   \n",
       "23237  ea54840ba8a54a098de60d39fc533d51  2298d6c36e964ae4a3e7e9706d1fb8c2   \n",
       "23396  ebf0ac82b55d436bb6a53ccf910cd759  2298d6c36e964ae4a3e7e9706d1fb8c2   \n",
       "23558  edc7b04392144da9979f3077095f268a  fafdcd668e3743c1bb461111dcafc2a4   \n",
       "\n",
       "       offer_received_time  \n",
       "494                      4  \n",
       "1439                     4  \n",
       "2232                     4  \n",
       "2767                     4  \n",
       "3843                     4  \n",
       "4442                     4  \n",
       "4530                     4  \n",
       "5199                     4  \n",
       "6114                     4  \n",
       "7198                     4  \n",
       "8760                     4  \n",
       "9699                     4  \n",
       "11218                    4  \n",
       "11311                    4  \n",
       "11347                    4  \n",
       "11690                    4  \n",
       "11702                    4  \n",
       "12124                    4  \n",
       "12127                    4  \n",
       "15339                    4  \n",
       "15918                    4  \n",
       "16940                    4  \n",
       "17246                    4  \n",
       "18871                    4  \n",
       "22233                    4  \n",
       "23237                    4  \n",
       "23396                    4  \n",
       "23558                    4  "
      ]
     },
     "execution_count": 278,
     "metadata": {},
     "output_type": "execute_result"
    }
   ],
   "source": [
    "test_df[test_df[\"offer_received_time\"]==4]"
   ]
  },
  {
   "cell_type": "code",
   "execution_count": 279,
   "metadata": {
    "scrolled": true
   },
   "outputs": [
    {
     "data": {
      "text/plain": [
       "714"
      ]
     },
     "execution_count": 279,
     "metadata": {},
     "output_type": "execute_result"
    }
   ],
   "source": [
    "transcript_disc_df[\"time\"].max()"
   ]
  },
  {
   "cell_type": "code",
   "execution_count": 280,
   "metadata": {},
   "outputs": [
    {
     "data": {
      "text/plain": [
       "4.25"
      ]
     },
     "execution_count": 280,
     "metadata": {},
     "output_type": "execute_result"
    }
   ],
   "source": [
    "714/168"
   ]
  },
  {
   "cell_type": "code",
   "execution_count": 281,
   "metadata": {
    "scrolled": false
   },
   "outputs": [
    {
     "data": {
      "text/plain": [
       "array([ 240.,  168.])"
      ]
     },
     "execution_count": 281,
     "metadata": {},
     "output_type": "execute_result"
    }
   ],
   "source": [
    "transcript_disc_df[\"duration\"].unique()"
   ]
  },
  {
   "cell_type": "code",
   "execution_count": 282,
   "metadata": {
    "scrolled": true
   },
   "outputs": [
    {
     "data": {
      "text/html": [
       "<div>\n",
       "<style scoped>\n",
       "    .dataframe tbody tr th:only-of-type {\n",
       "        vertical-align: middle;\n",
       "    }\n",
       "\n",
       "    .dataframe tbody tr th {\n",
       "        vertical-align: top;\n",
       "    }\n",
       "\n",
       "    .dataframe thead th {\n",
       "        text-align: right;\n",
       "    }\n",
       "</style>\n",
       "<table border=\"1\" class=\"dataframe\">\n",
       "  <thead>\n",
       "    <tr style=\"text-align: right;\">\n",
       "      <th></th>\n",
       "      <th>portfolio_id</th>\n",
       "      <th>duration</th>\n",
       "    </tr>\n",
       "  </thead>\n",
       "  <tbody>\n",
       "    <tr>\n",
       "      <th>1</th>\n",
       "      <td>0b1e1539f2cc45b7b9fa7c272da2e1d7</td>\n",
       "      <td>240.0</td>\n",
       "    </tr>\n",
       "    <tr>\n",
       "      <th>2</th>\n",
       "      <td>2906b810c7d4411798c6938adc9daaa5</td>\n",
       "      <td>168.0</td>\n",
       "    </tr>\n",
       "    <tr>\n",
       "      <th>3</th>\n",
       "      <td>fafdcd668e3743c1bb461111dcafc2a4</td>\n",
       "      <td>240.0</td>\n",
       "    </tr>\n",
       "    <tr>\n",
       "      <th>6</th>\n",
       "      <td>2298d6c36e964ae4a3e7e9706d1fb8c2</td>\n",
       "      <td>168.0</td>\n",
       "    </tr>\n",
       "  </tbody>\n",
       "</table>\n",
       "</div>"
      ],
      "text/plain": [
       "                       portfolio_id  duration\n",
       "1  0b1e1539f2cc45b7b9fa7c272da2e1d7     240.0\n",
       "2  2906b810c7d4411798c6938adc9daaa5     168.0\n",
       "3  fafdcd668e3743c1bb461111dcafc2a4     240.0\n",
       "6  2298d6c36e964ae4a3e7e9706d1fb8c2     168.0"
      ]
     },
     "execution_count": 282,
     "metadata": {},
     "output_type": "execute_result"
    }
   ],
   "source": [
    "transcript_disc_df[[\"portfolio_id\", \"duration\"]].drop_duplicates()"
   ]
  },
  {
   "cell_type": "code",
   "execution_count": 283,
   "metadata": {},
   "outputs": [
    {
     "data": {
      "text/plain": [
       "4.25"
      ]
     },
     "execution_count": 283,
     "metadata": {},
     "output_type": "execute_result"
    }
   ],
   "source": [
    "714/168"
   ]
  },
  {
   "cell_type": "code",
   "execution_count": 284,
   "metadata": {},
   "outputs": [
    {
     "data": {
      "text/html": [
       "<div>\n",
       "<style scoped>\n",
       "    .dataframe tbody tr th:only-of-type {\n",
       "        vertical-align: middle;\n",
       "    }\n",
       "\n",
       "    .dataframe tbody tr th {\n",
       "        vertical-align: top;\n",
       "    }\n",
       "\n",
       "    .dataframe thead th {\n",
       "        text-align: right;\n",
       "    }\n",
       "</style>\n",
       "<table border=\"1\" class=\"dataframe\">\n",
       "  <thead>\n",
       "    <tr style=\"text-align: right;\">\n",
       "      <th></th>\n",
       "      <th>customer_id</th>\n",
       "      <th>portfolio_id</th>\n",
       "      <th>offer_received_time</th>\n",
       "    </tr>\n",
       "  </thead>\n",
       "  <tbody>\n",
       "    <tr>\n",
       "      <th>9</th>\n",
       "      <td>00426fe3ffde4c6b9cb9ad6d077a13ea</td>\n",
       "      <td>2906b810c7d4411798c6938adc9daaa5</td>\n",
       "      <td>2</td>\n",
       "    </tr>\n",
       "    <tr>\n",
       "      <th>19</th>\n",
       "      <td>0069a50874d846438e58acff5e594725</td>\n",
       "      <td>2906b810c7d4411798c6938adc9daaa5</td>\n",
       "      <td>2</td>\n",
       "    </tr>\n",
       "    <tr>\n",
       "      <th>23</th>\n",
       "      <td>00840a2ca5d2408e982d56544dc14ffd</td>\n",
       "      <td>2906b810c7d4411798c6938adc9daaa5</td>\n",
       "      <td>2</td>\n",
       "    </tr>\n",
       "    <tr>\n",
       "      <th>31</th>\n",
       "      <td>0099bf30e4cb4265875266eb3eb25eab</td>\n",
       "      <td>2906b810c7d4411798c6938adc9daaa5</td>\n",
       "      <td>2</td>\n",
       "    </tr>\n",
       "    <tr>\n",
       "      <th>34</th>\n",
       "      <td>009d10c2c38a4fd795a7bc6ddbbddb78</td>\n",
       "      <td>2298d6c36e964ae4a3e7e9706d1fb8c2</td>\n",
       "      <td>2</td>\n",
       "    </tr>\n",
       "    <tr>\n",
       "      <th>37</th>\n",
       "      <td>00ae03011f9f49b8a4b3e6d416678b0b</td>\n",
       "      <td>2298d6c36e964ae4a3e7e9706d1fb8c2</td>\n",
       "      <td>2</td>\n",
       "    </tr>\n",
       "    <tr>\n",
       "      <th>40</th>\n",
       "      <td>00b18b535d6d4f779dea4dc9ac451478</td>\n",
       "      <td>2298d6c36e964ae4a3e7e9706d1fb8c2</td>\n",
       "      <td>2</td>\n",
       "    </tr>\n",
       "    <tr>\n",
       "      <th>51</th>\n",
       "      <td>00bc42a62f884b41a13cc595856cf7c3</td>\n",
       "      <td>2906b810c7d4411798c6938adc9daaa5</td>\n",
       "      <td>2</td>\n",
       "    </tr>\n",
       "    <tr>\n",
       "      <th>67</th>\n",
       "      <td>00c91f31f5f74e769fa7a359b63e1a9f</td>\n",
       "      <td>2298d6c36e964ae4a3e7e9706d1fb8c2</td>\n",
       "      <td>2</td>\n",
       "    </tr>\n",
       "    <tr>\n",
       "      <th>78</th>\n",
       "      <td>00d7c95f793a4212af44e632fdc1e431</td>\n",
       "      <td>2906b810c7d4411798c6938adc9daaa5</td>\n",
       "      <td>2</td>\n",
       "    </tr>\n",
       "    <tr>\n",
       "      <th>99</th>\n",
       "      <td>01162252405b4524a8fa1bf8e6d5f04b</td>\n",
       "      <td>2298d6c36e964ae4a3e7e9706d1fb8c2</td>\n",
       "      <td>2</td>\n",
       "    </tr>\n",
       "    <tr>\n",
       "      <th>100</th>\n",
       "      <td>01176ee7289b48e39ee6261d5c071a07</td>\n",
       "      <td>2298d6c36e964ae4a3e7e9706d1fb8c2</td>\n",
       "      <td>2</td>\n",
       "    </tr>\n",
       "    <tr>\n",
       "      <th>112</th>\n",
       "      <td>0141d3870a424c03a20390040efad826</td>\n",
       "      <td>2298d6c36e964ae4a3e7e9706d1fb8c2</td>\n",
       "      <td>2</td>\n",
       "    </tr>\n",
       "    <tr>\n",
       "      <th>125</th>\n",
       "      <td>015ef929e016415098eeae8ce59da721</td>\n",
       "      <td>2906b810c7d4411798c6938adc9daaa5</td>\n",
       "      <td>2</td>\n",
       "    </tr>\n",
       "    <tr>\n",
       "      <th>134</th>\n",
       "      <td>016b37032984457fb33ba2767fcc8c9f</td>\n",
       "      <td>2906b810c7d4411798c6938adc9daaa5</td>\n",
       "      <td>2</td>\n",
       "    </tr>\n",
       "    <tr>\n",
       "      <th>151</th>\n",
       "      <td>01956670cf414b309675aa73368b94a9</td>\n",
       "      <td>2906b810c7d4411798c6938adc9daaa5</td>\n",
       "      <td>2</td>\n",
       "    </tr>\n",
       "    <tr>\n",
       "      <th>158</th>\n",
       "      <td>019cc78d8fed432ca6df71c132c72a99</td>\n",
       "      <td>2906b810c7d4411798c6938adc9daaa5</td>\n",
       "      <td>2</td>\n",
       "    </tr>\n",
       "    <tr>\n",
       "      <th>166</th>\n",
       "      <td>01b6d7e8f0884deb936a8a7f15dba895</td>\n",
       "      <td>2906b810c7d4411798c6938adc9daaa5</td>\n",
       "      <td>2</td>\n",
       "    </tr>\n",
       "    <tr>\n",
       "      <th>171</th>\n",
       "      <td>01de69b5edab4b89859ea8a7214ba35a</td>\n",
       "      <td>2298d6c36e964ae4a3e7e9706d1fb8c2</td>\n",
       "      <td>2</td>\n",
       "    </tr>\n",
       "    <tr>\n",
       "      <th>196</th>\n",
       "      <td>020be8b0fafa446ebcce6449b20bc92c</td>\n",
       "      <td>2906b810c7d4411798c6938adc9daaa5</td>\n",
       "      <td>2</td>\n",
       "    </tr>\n",
       "    <tr>\n",
       "      <th>218</th>\n",
       "      <td>022f5553a0704b53ba26f2d23cb1234d</td>\n",
       "      <td>2906b810c7d4411798c6938adc9daaa5</td>\n",
       "      <td>2</td>\n",
       "    </tr>\n",
       "    <tr>\n",
       "      <th>220</th>\n",
       "      <td>0231c913a51e420783be6bdeb75aa842</td>\n",
       "      <td>2298d6c36e964ae4a3e7e9706d1fb8c2</td>\n",
       "      <td>2</td>\n",
       "    </tr>\n",
       "    <tr>\n",
       "      <th>225</th>\n",
       "      <td>024218e67fa549a4a0a99b32b7b6fbf9</td>\n",
       "      <td>2298d6c36e964ae4a3e7e9706d1fb8c2</td>\n",
       "      <td>2</td>\n",
       "    </tr>\n",
       "    <tr>\n",
       "      <th>230</th>\n",
       "      <td>0251876076024444864473545adce065</td>\n",
       "      <td>2298d6c36e964ae4a3e7e9706d1fb8c2</td>\n",
       "      <td>2</td>\n",
       "    </tr>\n",
       "    <tr>\n",
       "      <th>236</th>\n",
       "      <td>02557fafcf334c30a22c312c5647f71a</td>\n",
       "      <td>2906b810c7d4411798c6938adc9daaa5</td>\n",
       "      <td>2</td>\n",
       "    </tr>\n",
       "    <tr>\n",
       "      <th>245</th>\n",
       "      <td>0276c9a3092d4f79a29d61a1462f9b4d</td>\n",
       "      <td>2906b810c7d4411798c6938adc9daaa5</td>\n",
       "      <td>2</td>\n",
       "    </tr>\n",
       "    <tr>\n",
       "      <th>252</th>\n",
       "      <td>028c88a958e54c36a31c4800fd6e887b</td>\n",
       "      <td>2298d6c36e964ae4a3e7e9706d1fb8c2</td>\n",
       "      <td>2</td>\n",
       "    </tr>\n",
       "    <tr>\n",
       "      <th>300</th>\n",
       "      <td>030c30c1955f4a17be09b692caf5ec5f</td>\n",
       "      <td>2906b810c7d4411798c6938adc9daaa5</td>\n",
       "      <td>2</td>\n",
       "    </tr>\n",
       "    <tr>\n",
       "      <th>325</th>\n",
       "      <td>034ce97360c6485ab990d903343f9f08</td>\n",
       "      <td>2298d6c36e964ae4a3e7e9706d1fb8c2</td>\n",
       "      <td>2</td>\n",
       "    </tr>\n",
       "    <tr>\n",
       "      <th>336</th>\n",
       "      <td>03637e48ffda4bf9b73b079d03c0bbe3</td>\n",
       "      <td>2298d6c36e964ae4a3e7e9706d1fb8c2</td>\n",
       "      <td>2</td>\n",
       "    </tr>\n",
       "    <tr>\n",
       "      <th>...</th>\n",
       "      <td>...</td>\n",
       "      <td>...</td>\n",
       "      <td>...</td>\n",
       "    </tr>\n",
       "    <tr>\n",
       "      <th>24897</th>\n",
       "      <td>fb94c0d3247b41adb00d6a46b4603fe8</td>\n",
       "      <td>2298d6c36e964ae4a3e7e9706d1fb8c2</td>\n",
       "      <td>2</td>\n",
       "    </tr>\n",
       "    <tr>\n",
       "      <th>24903</th>\n",
       "      <td>fba9a75c4d534c0a9a1d87f2900a4b2d</td>\n",
       "      <td>2906b810c7d4411798c6938adc9daaa5</td>\n",
       "      <td>2</td>\n",
       "    </tr>\n",
       "    <tr>\n",
       "      <th>24905</th>\n",
       "      <td>fbabf9ba24f24771b8ff9b5af24a6364</td>\n",
       "      <td>2298d6c36e964ae4a3e7e9706d1fb8c2</td>\n",
       "      <td>2</td>\n",
       "    </tr>\n",
       "    <tr>\n",
       "      <th>24918</th>\n",
       "      <td>fbbd60d747d642928c0d73ea54e34892</td>\n",
       "      <td>2906b810c7d4411798c6938adc9daaa5</td>\n",
       "      <td>2</td>\n",
       "    </tr>\n",
       "    <tr>\n",
       "      <th>24930</th>\n",
       "      <td>fbded35ba79e4b898f5fc7faee6ff44f</td>\n",
       "      <td>2298d6c36e964ae4a3e7e9706d1fb8c2</td>\n",
       "      <td>2</td>\n",
       "    </tr>\n",
       "    <tr>\n",
       "      <th>24961</th>\n",
       "      <td>fc3d0f06f8f04765b9f8e148bac39c0e</td>\n",
       "      <td>2906b810c7d4411798c6938adc9daaa5</td>\n",
       "      <td>2</td>\n",
       "    </tr>\n",
       "    <tr>\n",
       "      <th>24964</th>\n",
       "      <td>fc461f072d524298a4bba5550841e92b</td>\n",
       "      <td>2906b810c7d4411798c6938adc9daaa5</td>\n",
       "      <td>2</td>\n",
       "    </tr>\n",
       "    <tr>\n",
       "      <th>24975</th>\n",
       "      <td>fc58860830e648c9b54785967b67434c</td>\n",
       "      <td>2298d6c36e964ae4a3e7e9706d1fb8c2</td>\n",
       "      <td>2</td>\n",
       "    </tr>\n",
       "    <tr>\n",
       "      <th>24980</th>\n",
       "      <td>fc6da58cb232469b8edfca9b688f8343</td>\n",
       "      <td>2298d6c36e964ae4a3e7e9706d1fb8c2</td>\n",
       "      <td>2</td>\n",
       "    </tr>\n",
       "    <tr>\n",
       "      <th>24998</th>\n",
       "      <td>fc94ff52a1994fe98977365a830aafb1</td>\n",
       "      <td>2906b810c7d4411798c6938adc9daaa5</td>\n",
       "      <td>2</td>\n",
       "    </tr>\n",
       "    <tr>\n",
       "      <th>25005</th>\n",
       "      <td>fca0cfd25f0f4d489137d3e4bd863e20</td>\n",
       "      <td>2906b810c7d4411798c6938adc9daaa5</td>\n",
       "      <td>2</td>\n",
       "    </tr>\n",
       "    <tr>\n",
       "      <th>25016</th>\n",
       "      <td>fcbb8fcc95bb4e2eaf2b3db20dd7e86e</td>\n",
       "      <td>2906b810c7d4411798c6938adc9daaa5</td>\n",
       "      <td>2</td>\n",
       "    </tr>\n",
       "    <tr>\n",
       "      <th>25018</th>\n",
       "      <td>fcbcb57364614efc94f1f0410300cb1f</td>\n",
       "      <td>2906b810c7d4411798c6938adc9daaa5</td>\n",
       "      <td>2</td>\n",
       "    </tr>\n",
       "    <tr>\n",
       "      <th>25028</th>\n",
       "      <td>fccd11b940f64f2ea0408127a2d19f9a</td>\n",
       "      <td>2906b810c7d4411798c6938adc9daaa5</td>\n",
       "      <td>2</td>\n",
       "    </tr>\n",
       "    <tr>\n",
       "      <th>25066</th>\n",
       "      <td>fd64a3758d0b49549df03a5c25ba89c9</td>\n",
       "      <td>2906b810c7d4411798c6938adc9daaa5</td>\n",
       "      <td>2</td>\n",
       "    </tr>\n",
       "    <tr>\n",
       "      <th>25079</th>\n",
       "      <td>fd7ed8ba5ae84ceba227970f2243fad3</td>\n",
       "      <td>2906b810c7d4411798c6938adc9daaa5</td>\n",
       "      <td>2</td>\n",
       "    </tr>\n",
       "    <tr>\n",
       "      <th>25087</th>\n",
       "      <td>fd98c46aa9c742b1a5369c1cf18b5705</td>\n",
       "      <td>2298d6c36e964ae4a3e7e9706d1fb8c2</td>\n",
       "      <td>2</td>\n",
       "    </tr>\n",
       "    <tr>\n",
       "      <th>25099</th>\n",
       "      <td>fdaf338377c145bfb8bebf62ca2304d3</td>\n",
       "      <td>2298d6c36e964ae4a3e7e9706d1fb8c2</td>\n",
       "      <td>2</td>\n",
       "    </tr>\n",
       "    <tr>\n",
       "      <th>25117</th>\n",
       "      <td>fdea2f3817d74cd9a4b2ce819e62c824</td>\n",
       "      <td>2906b810c7d4411798c6938adc9daaa5</td>\n",
       "      <td>2</td>\n",
       "    </tr>\n",
       "    <tr>\n",
       "      <th>25190</th>\n",
       "      <td>fea7f0873bb046ea90e6afdf963f8679</td>\n",
       "      <td>2906b810c7d4411798c6938adc9daaa5</td>\n",
       "      <td>2</td>\n",
       "    </tr>\n",
       "    <tr>\n",
       "      <th>25192</th>\n",
       "      <td>feb31e39c1e3407b9fdc7e79db9274b7</td>\n",
       "      <td>2906b810c7d4411798c6938adc9daaa5</td>\n",
       "      <td>2</td>\n",
       "    </tr>\n",
       "    <tr>\n",
       "      <th>25199</th>\n",
       "      <td>fec978ba6c9b4c719dd401cba3a077cb</td>\n",
       "      <td>2298d6c36e964ae4a3e7e9706d1fb8c2</td>\n",
       "      <td>2</td>\n",
       "    </tr>\n",
       "    <tr>\n",
       "      <th>25220</th>\n",
       "      <td>ff0c71628d3f4a4099062a36431452fe</td>\n",
       "      <td>2298d6c36e964ae4a3e7e9706d1fb8c2</td>\n",
       "      <td>2</td>\n",
       "    </tr>\n",
       "    <tr>\n",
       "      <th>25228</th>\n",
       "      <td>ff2113310abe4c6687569bdd8f028fe3</td>\n",
       "      <td>2906b810c7d4411798c6938adc9daaa5</td>\n",
       "      <td>2</td>\n",
       "    </tr>\n",
       "    <tr>\n",
       "      <th>25230</th>\n",
       "      <td>ff23416f1f724ece8b81bae7acb279ed</td>\n",
       "      <td>2906b810c7d4411798c6938adc9daaa5</td>\n",
       "      <td>2</td>\n",
       "    </tr>\n",
       "    <tr>\n",
       "      <th>25234</th>\n",
       "      <td>ff32850d18294e8281866662bea65858</td>\n",
       "      <td>2906b810c7d4411798c6938adc9daaa5</td>\n",
       "      <td>2</td>\n",
       "    </tr>\n",
       "    <tr>\n",
       "      <th>25241</th>\n",
       "      <td>ff40374e1ece425ea5ced2a3531bbe1c</td>\n",
       "      <td>2906b810c7d4411798c6938adc9daaa5</td>\n",
       "      <td>2</td>\n",
       "    </tr>\n",
       "    <tr>\n",
       "      <th>25246</th>\n",
       "      <td>ff4e747db62441979fbbc18d871c42b1</td>\n",
       "      <td>2298d6c36e964ae4a3e7e9706d1fb8c2</td>\n",
       "      <td>2</td>\n",
       "    </tr>\n",
       "    <tr>\n",
       "      <th>25303</th>\n",
       "      <td>ffeaa02452ef451082a0361c3ca62ef5</td>\n",
       "      <td>2906b810c7d4411798c6938adc9daaa5</td>\n",
       "      <td>2</td>\n",
       "    </tr>\n",
       "    <tr>\n",
       "      <th>25309</th>\n",
       "      <td>fff3ba4757bd42088c044ca26d73817a</td>\n",
       "      <td>2906b810c7d4411798c6938adc9daaa5</td>\n",
       "      <td>2</td>\n",
       "    </tr>\n",
       "  </tbody>\n",
       "</table>\n",
       "<p>2153 rows × 3 columns</p>\n",
       "</div>"
      ],
      "text/plain": [
       "                            customer_id                      portfolio_id  \\\n",
       "9      00426fe3ffde4c6b9cb9ad6d077a13ea  2906b810c7d4411798c6938adc9daaa5   \n",
       "19     0069a50874d846438e58acff5e594725  2906b810c7d4411798c6938adc9daaa5   \n",
       "23     00840a2ca5d2408e982d56544dc14ffd  2906b810c7d4411798c6938adc9daaa5   \n",
       "31     0099bf30e4cb4265875266eb3eb25eab  2906b810c7d4411798c6938adc9daaa5   \n",
       "34     009d10c2c38a4fd795a7bc6ddbbddb78  2298d6c36e964ae4a3e7e9706d1fb8c2   \n",
       "37     00ae03011f9f49b8a4b3e6d416678b0b  2298d6c36e964ae4a3e7e9706d1fb8c2   \n",
       "40     00b18b535d6d4f779dea4dc9ac451478  2298d6c36e964ae4a3e7e9706d1fb8c2   \n",
       "51     00bc42a62f884b41a13cc595856cf7c3  2906b810c7d4411798c6938adc9daaa5   \n",
       "67     00c91f31f5f74e769fa7a359b63e1a9f  2298d6c36e964ae4a3e7e9706d1fb8c2   \n",
       "78     00d7c95f793a4212af44e632fdc1e431  2906b810c7d4411798c6938adc9daaa5   \n",
       "99     01162252405b4524a8fa1bf8e6d5f04b  2298d6c36e964ae4a3e7e9706d1fb8c2   \n",
       "100    01176ee7289b48e39ee6261d5c071a07  2298d6c36e964ae4a3e7e9706d1fb8c2   \n",
       "112    0141d3870a424c03a20390040efad826  2298d6c36e964ae4a3e7e9706d1fb8c2   \n",
       "125    015ef929e016415098eeae8ce59da721  2906b810c7d4411798c6938adc9daaa5   \n",
       "134    016b37032984457fb33ba2767fcc8c9f  2906b810c7d4411798c6938adc9daaa5   \n",
       "151    01956670cf414b309675aa73368b94a9  2906b810c7d4411798c6938adc9daaa5   \n",
       "158    019cc78d8fed432ca6df71c132c72a99  2906b810c7d4411798c6938adc9daaa5   \n",
       "166    01b6d7e8f0884deb936a8a7f15dba895  2906b810c7d4411798c6938adc9daaa5   \n",
       "171    01de69b5edab4b89859ea8a7214ba35a  2298d6c36e964ae4a3e7e9706d1fb8c2   \n",
       "196    020be8b0fafa446ebcce6449b20bc92c  2906b810c7d4411798c6938adc9daaa5   \n",
       "218    022f5553a0704b53ba26f2d23cb1234d  2906b810c7d4411798c6938adc9daaa5   \n",
       "220    0231c913a51e420783be6bdeb75aa842  2298d6c36e964ae4a3e7e9706d1fb8c2   \n",
       "225    024218e67fa549a4a0a99b32b7b6fbf9  2298d6c36e964ae4a3e7e9706d1fb8c2   \n",
       "230    0251876076024444864473545adce065  2298d6c36e964ae4a3e7e9706d1fb8c2   \n",
       "236    02557fafcf334c30a22c312c5647f71a  2906b810c7d4411798c6938adc9daaa5   \n",
       "245    0276c9a3092d4f79a29d61a1462f9b4d  2906b810c7d4411798c6938adc9daaa5   \n",
       "252    028c88a958e54c36a31c4800fd6e887b  2298d6c36e964ae4a3e7e9706d1fb8c2   \n",
       "300    030c30c1955f4a17be09b692caf5ec5f  2906b810c7d4411798c6938adc9daaa5   \n",
       "325    034ce97360c6485ab990d903343f9f08  2298d6c36e964ae4a3e7e9706d1fb8c2   \n",
       "336    03637e48ffda4bf9b73b079d03c0bbe3  2298d6c36e964ae4a3e7e9706d1fb8c2   \n",
       "...                                 ...                               ...   \n",
       "24897  fb94c0d3247b41adb00d6a46b4603fe8  2298d6c36e964ae4a3e7e9706d1fb8c2   \n",
       "24903  fba9a75c4d534c0a9a1d87f2900a4b2d  2906b810c7d4411798c6938adc9daaa5   \n",
       "24905  fbabf9ba24f24771b8ff9b5af24a6364  2298d6c36e964ae4a3e7e9706d1fb8c2   \n",
       "24918  fbbd60d747d642928c0d73ea54e34892  2906b810c7d4411798c6938adc9daaa5   \n",
       "24930  fbded35ba79e4b898f5fc7faee6ff44f  2298d6c36e964ae4a3e7e9706d1fb8c2   \n",
       "24961  fc3d0f06f8f04765b9f8e148bac39c0e  2906b810c7d4411798c6938adc9daaa5   \n",
       "24964  fc461f072d524298a4bba5550841e92b  2906b810c7d4411798c6938adc9daaa5   \n",
       "24975  fc58860830e648c9b54785967b67434c  2298d6c36e964ae4a3e7e9706d1fb8c2   \n",
       "24980  fc6da58cb232469b8edfca9b688f8343  2298d6c36e964ae4a3e7e9706d1fb8c2   \n",
       "24998  fc94ff52a1994fe98977365a830aafb1  2906b810c7d4411798c6938adc9daaa5   \n",
       "25005  fca0cfd25f0f4d489137d3e4bd863e20  2906b810c7d4411798c6938adc9daaa5   \n",
       "25016  fcbb8fcc95bb4e2eaf2b3db20dd7e86e  2906b810c7d4411798c6938adc9daaa5   \n",
       "25018  fcbcb57364614efc94f1f0410300cb1f  2906b810c7d4411798c6938adc9daaa5   \n",
       "25028  fccd11b940f64f2ea0408127a2d19f9a  2906b810c7d4411798c6938adc9daaa5   \n",
       "25066  fd64a3758d0b49549df03a5c25ba89c9  2906b810c7d4411798c6938adc9daaa5   \n",
       "25079  fd7ed8ba5ae84ceba227970f2243fad3  2906b810c7d4411798c6938adc9daaa5   \n",
       "25087  fd98c46aa9c742b1a5369c1cf18b5705  2298d6c36e964ae4a3e7e9706d1fb8c2   \n",
       "25099  fdaf338377c145bfb8bebf62ca2304d3  2298d6c36e964ae4a3e7e9706d1fb8c2   \n",
       "25117  fdea2f3817d74cd9a4b2ce819e62c824  2906b810c7d4411798c6938adc9daaa5   \n",
       "25190  fea7f0873bb046ea90e6afdf963f8679  2906b810c7d4411798c6938adc9daaa5   \n",
       "25192  feb31e39c1e3407b9fdc7e79db9274b7  2906b810c7d4411798c6938adc9daaa5   \n",
       "25199  fec978ba6c9b4c719dd401cba3a077cb  2298d6c36e964ae4a3e7e9706d1fb8c2   \n",
       "25220  ff0c71628d3f4a4099062a36431452fe  2298d6c36e964ae4a3e7e9706d1fb8c2   \n",
       "25228  ff2113310abe4c6687569bdd8f028fe3  2906b810c7d4411798c6938adc9daaa5   \n",
       "25230  ff23416f1f724ece8b81bae7acb279ed  2906b810c7d4411798c6938adc9daaa5   \n",
       "25234  ff32850d18294e8281866662bea65858  2906b810c7d4411798c6938adc9daaa5   \n",
       "25241  ff40374e1ece425ea5ced2a3531bbe1c  2906b810c7d4411798c6938adc9daaa5   \n",
       "25246  ff4e747db62441979fbbc18d871c42b1  2298d6c36e964ae4a3e7e9706d1fb8c2   \n",
       "25303  ffeaa02452ef451082a0361c3ca62ef5  2906b810c7d4411798c6938adc9daaa5   \n",
       "25309  fff3ba4757bd42088c044ca26d73817a  2906b810c7d4411798c6938adc9daaa5   \n",
       "\n",
       "       offer_received_time  \n",
       "9                        2  \n",
       "19                       2  \n",
       "23                       2  \n",
       "31                       2  \n",
       "34                       2  \n",
       "37                       2  \n",
       "40                       2  \n",
       "51                       2  \n",
       "67                       2  \n",
       "78                       2  \n",
       "99                       2  \n",
       "100                      2  \n",
       "112                      2  \n",
       "125                      2  \n",
       "134                      2  \n",
       "151                      2  \n",
       "158                      2  \n",
       "166                      2  \n",
       "171                      2  \n",
       "196                      2  \n",
       "218                      2  \n",
       "220                      2  \n",
       "225                      2  \n",
       "230                      2  \n",
       "236                      2  \n",
       "245                      2  \n",
       "252                      2  \n",
       "300                      2  \n",
       "325                      2  \n",
       "336                      2  \n",
       "...                    ...  \n",
       "24897                    2  \n",
       "24903                    2  \n",
       "24905                    2  \n",
       "24918                    2  \n",
       "24930                    2  \n",
       "24961                    2  \n",
       "24964                    2  \n",
       "24975                    2  \n",
       "24980                    2  \n",
       "24998                    2  \n",
       "25005                    2  \n",
       "25016                    2  \n",
       "25018                    2  \n",
       "25028                    2  \n",
       "25066                    2  \n",
       "25079                    2  \n",
       "25087                    2  \n",
       "25099                    2  \n",
       "25117                    2  \n",
       "25190                    2  \n",
       "25192                    2  \n",
       "25199                    2  \n",
       "25220                    2  \n",
       "25228                    2  \n",
       "25230                    2  \n",
       "25234                    2  \n",
       "25241                    2  \n",
       "25246                    2  \n",
       "25303                    2  \n",
       "25309                    2  \n",
       "\n",
       "[2153 rows x 3 columns]"
      ]
     },
     "execution_count": 284,
     "metadata": {},
     "output_type": "execute_result"
    }
   ],
   "source": [
    "test_df[(test_df[\"portfolio_id\"].isin([\"2906b810c7d4411798c6938adc9daaa5\", \"2298d6c36e964ae4a3e7e9706d1fb8c2\"])) \\\n",
    "        & (test_df[\"offer_received_time\"] == 2)]"
   ]
  },
  {
   "cell_type": "code",
   "execution_count": 285,
   "metadata": {
    "scrolled": true
   },
   "outputs": [
    {
     "data": {
      "text/html": [
       "<div>\n",
       "<style scoped>\n",
       "    .dataframe tbody tr th:only-of-type {\n",
       "        vertical-align: middle;\n",
       "    }\n",
       "\n",
       "    .dataframe tbody tr th {\n",
       "        vertical-align: top;\n",
       "    }\n",
       "\n",
       "    .dataframe thead th {\n",
       "        text-align: right;\n",
       "    }\n",
       "</style>\n",
       "<table border=\"1\" class=\"dataframe\">\n",
       "  <thead>\n",
       "    <tr style=\"text-align: right;\">\n",
       "      <th></th>\n",
       "      <th>customer_id</th>\n",
       "      <th>portfolio_id</th>\n",
       "      <th>event</th>\n",
       "      <th>time</th>\n",
       "      <th>amount</th>\n",
       "      <th>duration</th>\n",
       "      <th>offer_type</th>\n",
       "    </tr>\n",
       "  </thead>\n",
       "  <tbody>\n",
       "    <tr>\n",
       "      <th>9962</th>\n",
       "      <td>fee2d799672d4f81bfa3237207290f79</td>\n",
       "      <td>fafdcd668e3743c1bb461111dcafc2a4</td>\n",
       "      <td>offer received</td>\n",
       "      <td>0</td>\n",
       "      <td>0.0</td>\n",
       "      <td>240.0</td>\n",
       "      <td>discount</td>\n",
       "    </tr>\n",
       "    <tr>\n",
       "      <th>13626</th>\n",
       "      <td>fee2d799672d4f81bfa3237207290f79</td>\n",
       "      <td>fafdcd668e3743c1bb461111dcafc2a4</td>\n",
       "      <td>offer completed</td>\n",
       "      <td>6</td>\n",
       "      <td>0.0</td>\n",
       "      <td>240.0</td>\n",
       "      <td>discount</td>\n",
       "    </tr>\n",
       "    <tr>\n",
       "      <th>44920</th>\n",
       "      <td>fee2d799672d4f81bfa3237207290f79</td>\n",
       "      <td>fafdcd668e3743c1bb461111dcafc2a4</td>\n",
       "      <td>offer received</td>\n",
       "      <td>168</td>\n",
       "      <td>0.0</td>\n",
       "      <td>240.0</td>\n",
       "      <td>discount</td>\n",
       "    </tr>\n",
       "    <tr>\n",
       "      <th>58777</th>\n",
       "      <td>fee2d799672d4f81bfa3237207290f79</td>\n",
       "      <td>fafdcd668e3743c1bb461111dcafc2a4</td>\n",
       "      <td>offer completed</td>\n",
       "      <td>180</td>\n",
       "      <td>0.0</td>\n",
       "      <td>240.0</td>\n",
       "      <td>discount</td>\n",
       "    </tr>\n",
       "    <tr>\n",
       "      <th>123488</th>\n",
       "      <td>fee2d799672d4f81bfa3237207290f79</td>\n",
       "      <td>fafdcd668e3743c1bb461111dcafc2a4</td>\n",
       "      <td>offer received</td>\n",
       "      <td>408</td>\n",
       "      <td>0.0</td>\n",
       "      <td>240.0</td>\n",
       "      <td>discount</td>\n",
       "    </tr>\n",
       "    <tr>\n",
       "      <th>134844</th>\n",
       "      <td>fee2d799672d4f81bfa3237207290f79</td>\n",
       "      <td>fafdcd668e3743c1bb461111dcafc2a4</td>\n",
       "      <td>offer completed</td>\n",
       "      <td>408</td>\n",
       "      <td>0.0</td>\n",
       "      <td>240.0</td>\n",
       "      <td>discount</td>\n",
       "    </tr>\n",
       "  </tbody>\n",
       "</table>\n",
       "</div>"
      ],
      "text/plain": [
       "                             customer_id                      portfolio_id  \\\n",
       "9962    fee2d799672d4f81bfa3237207290f79  fafdcd668e3743c1bb461111dcafc2a4   \n",
       "13626   fee2d799672d4f81bfa3237207290f79  fafdcd668e3743c1bb461111dcafc2a4   \n",
       "44920   fee2d799672d4f81bfa3237207290f79  fafdcd668e3743c1bb461111dcafc2a4   \n",
       "58777   fee2d799672d4f81bfa3237207290f79  fafdcd668e3743c1bb461111dcafc2a4   \n",
       "123488  fee2d799672d4f81bfa3237207290f79  fafdcd668e3743c1bb461111dcafc2a4   \n",
       "134844  fee2d799672d4f81bfa3237207290f79  fafdcd668e3743c1bb461111dcafc2a4   \n",
       "\n",
       "                  event  time  amount  duration offer_type  \n",
       "9962     offer received     0     0.0     240.0   discount  \n",
       "13626   offer completed     6     0.0     240.0   discount  \n",
       "44920    offer received   168     0.0     240.0   discount  \n",
       "58777   offer completed   180     0.0     240.0   discount  \n",
       "123488   offer received   408     0.0     240.0   discount  \n",
       "134844  offer completed   408     0.0     240.0   discount  "
      ]
     },
     "execution_count": 285,
     "metadata": {},
     "output_type": "execute_result"
    }
   ],
   "source": [
    "transcript_disc_df[(transcript_disc_df[\"customer_id\"] == \"fee2d799672d4f81bfa3237207290f79\") & \\\n",
    "                  (transcript_disc_df[\"portfolio_id\"] == \"fafdcd668e3743c1bb461111dcafc2a4\")\n",
    "                  ]"
   ]
  },
  {
   "cell_type": "code",
   "execution_count": 286,
   "metadata": {
    "scrolled": true
   },
   "outputs": [
    {
     "data": {
      "text/html": [
       "<div>\n",
       "<style scoped>\n",
       "    .dataframe tbody tr th:only-of-type {\n",
       "        vertical-align: middle;\n",
       "    }\n",
       "\n",
       "    .dataframe tbody tr th {\n",
       "        vertical-align: top;\n",
       "    }\n",
       "\n",
       "    .dataframe thead th {\n",
       "        text-align: right;\n",
       "    }\n",
       "</style>\n",
       "<table border=\"1\" class=\"dataframe\">\n",
       "  <thead>\n",
       "    <tr style=\"text-align: right;\">\n",
       "      <th></th>\n",
       "      <th>customer_id</th>\n",
       "      <th>portfolio_id</th>\n",
       "      <th>event</th>\n",
       "      <th>offer_received_time</th>\n",
       "      <th>amount</th>\n",
       "      <th>duration</th>\n",
       "      <th>offer_type</th>\n",
       "      <th>offer_end_time</th>\n",
       "    </tr>\n",
       "  </thead>\n",
       "  <tbody>\n",
       "    <tr>\n",
       "      <th>125643</th>\n",
       "      <td>fff3ba4757bd42088c044ca26d73817a</td>\n",
       "      <td>2906b810c7d4411798c6938adc9daaa5</td>\n",
       "      <td>offer received</td>\n",
       "      <td>408</td>\n",
       "      <td>0.0</td>\n",
       "      <td>168.0</td>\n",
       "      <td>discount</td>\n",
       "      <td>576.0</td>\n",
       "    </tr>\n",
       "    <tr>\n",
       "      <th>201537</th>\n",
       "      <td>fff3ba4757bd42088c044ca26d73817a</td>\n",
       "      <td>2906b810c7d4411798c6938adc9daaa5</td>\n",
       "      <td>offer received</td>\n",
       "      <td>576</td>\n",
       "      <td>0.0</td>\n",
       "      <td>168.0</td>\n",
       "      <td>discount</td>\n",
       "      <td>744.0</td>\n",
       "    </tr>\n",
       "  </tbody>\n",
       "</table>\n",
       "</div>"
      ],
      "text/plain": [
       "                             customer_id                      portfolio_id  \\\n",
       "125643  fff3ba4757bd42088c044ca26d73817a  2906b810c7d4411798c6938adc9daaa5   \n",
       "201537  fff3ba4757bd42088c044ca26d73817a  2906b810c7d4411798c6938adc9daaa5   \n",
       "\n",
       "                 event  offer_received_time  amount  duration offer_type  \\\n",
       "125643  offer received                  408     0.0     168.0   discount   \n",
       "201537  offer received                  576     0.0     168.0   discount   \n",
       "\n",
       "        offer_end_time  \n",
       "125643           576.0  \n",
       "201537           744.0  "
      ]
     },
     "execution_count": 286,
     "metadata": {},
     "output_type": "execute_result"
    }
   ],
   "source": [
    "transcript_disc_received_df[(transcript_disc_received_df[\"customer_id\"] == \"fff3ba4757bd42088c044ca26d73817a\") & \\\n",
    "                  (transcript_disc_received_df[\"portfolio_id\"] == \"2906b810c7d4411798c6938adc9daaa5\")\n",
    "                  ]"
   ]
  },
  {
   "cell_type": "code",
   "execution_count": 287,
   "metadata": {},
   "outputs": [
    {
     "data": {
      "text/html": [
       "<div>\n",
       "<style scoped>\n",
       "    .dataframe tbody tr th:only-of-type {\n",
       "        vertical-align: middle;\n",
       "    }\n",
       "\n",
       "    .dataframe tbody tr th {\n",
       "        vertical-align: top;\n",
       "    }\n",
       "\n",
       "    .dataframe thead th {\n",
       "        text-align: right;\n",
       "    }\n",
       "</style>\n",
       "<table border=\"1\" class=\"dataframe\">\n",
       "  <thead>\n",
       "    <tr style=\"text-align: right;\">\n",
       "      <th></th>\n",
       "      <th>customer_id</th>\n",
       "      <th>portfolio_id</th>\n",
       "      <th>event</th>\n",
       "      <th>time</th>\n",
       "      <th>amount</th>\n",
       "      <th>duration</th>\n",
       "      <th>offer_type</th>\n",
       "    </tr>\n",
       "  </thead>\n",
       "  <tbody>\n",
       "    <tr>\n",
       "      <th>125643</th>\n",
       "      <td>fff3ba4757bd42088c044ca26d73817a</td>\n",
       "      <td>2906b810c7d4411798c6938adc9daaa5</td>\n",
       "      <td>offer received</td>\n",
       "      <td>408</td>\n",
       "      <td>0.0</td>\n",
       "      <td>168.0</td>\n",
       "      <td>discount</td>\n",
       "    </tr>\n",
       "    <tr>\n",
       "      <th>184168</th>\n",
       "      <td>fff3ba4757bd42088c044ca26d73817a</td>\n",
       "      <td>2906b810c7d4411798c6938adc9daaa5</td>\n",
       "      <td>offer completed</td>\n",
       "      <td>528</td>\n",
       "      <td>0.0</td>\n",
       "      <td>168.0</td>\n",
       "      <td>discount</td>\n",
       "    </tr>\n",
       "    <tr>\n",
       "      <th>201537</th>\n",
       "      <td>fff3ba4757bd42088c044ca26d73817a</td>\n",
       "      <td>2906b810c7d4411798c6938adc9daaa5</td>\n",
       "      <td>offer received</td>\n",
       "      <td>576</td>\n",
       "      <td>0.0</td>\n",
       "      <td>168.0</td>\n",
       "      <td>discount</td>\n",
       "    </tr>\n",
       "  </tbody>\n",
       "</table>\n",
       "</div>"
      ],
      "text/plain": [
       "                             customer_id                      portfolio_id  \\\n",
       "125643  fff3ba4757bd42088c044ca26d73817a  2906b810c7d4411798c6938adc9daaa5   \n",
       "184168  fff3ba4757bd42088c044ca26d73817a  2906b810c7d4411798c6938adc9daaa5   \n",
       "201537  fff3ba4757bd42088c044ca26d73817a  2906b810c7d4411798c6938adc9daaa5   \n",
       "\n",
       "                  event  time  amount  duration offer_type  \n",
       "125643   offer received   408     0.0     168.0   discount  \n",
       "184168  offer completed   528     0.0     168.0   discount  \n",
       "201537   offer received   576     0.0     168.0   discount  "
      ]
     },
     "execution_count": 287,
     "metadata": {},
     "output_type": "execute_result"
    }
   ],
   "source": [
    "transcript_disc_df[(transcript_disc_df[\"customer_id\"] == \"fff3ba4757bd42088c044ca26d73817a\") \\\n",
    "                   & (transcript_disc_df[\"portfolio_id\"] == \"2906b810c7d4411798c6938adc9daaa5\")]"
   ]
  },
  {
   "cell_type": "code",
   "execution_count": 288,
   "metadata": {},
   "outputs": [
    {
     "data": {
      "text/html": [
       "<div>\n",
       "<style scoped>\n",
       "    .dataframe tbody tr th:only-of-type {\n",
       "        vertical-align: middle;\n",
       "    }\n",
       "\n",
       "    .dataframe tbody tr th {\n",
       "        vertical-align: top;\n",
       "    }\n",
       "\n",
       "    .dataframe thead th {\n",
       "        text-align: right;\n",
       "    }\n",
       "</style>\n",
       "<table border=\"1\" class=\"dataframe\">\n",
       "  <thead>\n",
       "    <tr style=\"text-align: right;\">\n",
       "      <th></th>\n",
       "      <th>customer_id</th>\n",
       "      <th>portfolio_id</th>\n",
       "      <th>event</th>\n",
       "      <th>offer_received_time</th>\n",
       "      <th>amount</th>\n",
       "      <th>duration</th>\n",
       "      <th>offer_type</th>\n",
       "      <th>offer_end_time</th>\n",
       "    </tr>\n",
       "  </thead>\n",
       "  <tbody>\n",
       "    <tr>\n",
       "      <th>133965</th>\n",
       "      <td>f017b77d373f480299a8035d844286ff</td>\n",
       "      <td>fafdcd668e3743c1bb461111dcafc2a4</td>\n",
       "      <td>offer received</td>\n",
       "      <td>408</td>\n",
       "      <td>0.0</td>\n",
       "      <td>240.0</td>\n",
       "      <td>discount</td>\n",
       "      <td>648.0</td>\n",
       "    </tr>\n",
       "    <tr>\n",
       "      <th>175224</th>\n",
       "      <td>f017b77d373f480299a8035d844286ff</td>\n",
       "      <td>fafdcd668e3743c1bb461111dcafc2a4</td>\n",
       "      <td>offer received</td>\n",
       "      <td>504</td>\n",
       "      <td>0.0</td>\n",
       "      <td>240.0</td>\n",
       "      <td>discount</td>\n",
       "      <td>744.0</td>\n",
       "    </tr>\n",
       "    <tr>\n",
       "      <th>209881</th>\n",
       "      <td>f017b77d373f480299a8035d844286ff</td>\n",
       "      <td>fafdcd668e3743c1bb461111dcafc2a4</td>\n",
       "      <td>offer received</td>\n",
       "      <td>576</td>\n",
       "      <td>0.0</td>\n",
       "      <td>240.0</td>\n",
       "      <td>discount</td>\n",
       "      <td>816.0</td>\n",
       "    </tr>\n",
       "  </tbody>\n",
       "</table>\n",
       "</div>"
      ],
      "text/plain": [
       "                             customer_id                      portfolio_id  \\\n",
       "133965  f017b77d373f480299a8035d844286ff  fafdcd668e3743c1bb461111dcafc2a4   \n",
       "175224  f017b77d373f480299a8035d844286ff  fafdcd668e3743c1bb461111dcafc2a4   \n",
       "209881  f017b77d373f480299a8035d844286ff  fafdcd668e3743c1bb461111dcafc2a4   \n",
       "\n",
       "                 event  offer_received_time  amount  duration offer_type  \\\n",
       "133965  offer received                  408     0.0     240.0   discount   \n",
       "175224  offer received                  504     0.0     240.0   discount   \n",
       "209881  offer received                  576     0.0     240.0   discount   \n",
       "\n",
       "        offer_end_time  \n",
       "133965           648.0  \n",
       "175224           744.0  \n",
       "209881           816.0  "
      ]
     },
     "execution_count": 288,
     "metadata": {},
     "output_type": "execute_result"
    }
   ],
   "source": [
    "transcript_disc_received_df[(transcript_disc_received_df[\"customer_id\"] == \"f017b77d373f480299a8035d844286ff\") & \\\n",
    "                  (transcript_disc_received_df[\"portfolio_id\"] == \"fafdcd668e3743c1bb461111dcafc2a4\")\n",
    "                  ]"
   ]
  },
  {
   "cell_type": "code",
   "execution_count": 289,
   "metadata": {},
   "outputs": [
    {
     "data": {
      "text/html": [
       "<div>\n",
       "<style scoped>\n",
       "    .dataframe tbody tr th:only-of-type {\n",
       "        vertical-align: middle;\n",
       "    }\n",
       "\n",
       "    .dataframe tbody tr th {\n",
       "        vertical-align: top;\n",
       "    }\n",
       "\n",
       "    .dataframe thead th {\n",
       "        text-align: right;\n",
       "    }\n",
       "</style>\n",
       "<table border=\"1\" class=\"dataframe\">\n",
       "  <thead>\n",
       "    <tr style=\"text-align: right;\">\n",
       "      <th></th>\n",
       "      <th>customer_id</th>\n",
       "      <th>portfolio_id</th>\n",
       "      <th>event_x</th>\n",
       "      <th>offer_received_time_x</th>\n",
       "      <th>amount_x</th>\n",
       "      <th>duration_x</th>\n",
       "      <th>offer_type_x</th>\n",
       "      <th>offer_end_time_x</th>\n",
       "      <th>event_y</th>\n",
       "      <th>offer_received_time_y</th>\n",
       "      <th>amount_y</th>\n",
       "      <th>duration_y</th>\n",
       "      <th>offer_type_y</th>\n",
       "      <th>offer_end_time_y</th>\n",
       "    </tr>\n",
       "  </thead>\n",
       "  <tbody>\n",
       "    <tr>\n",
       "      <th>12332</th>\n",
       "      <td>7a30763c05734cb3bd14123e1b6b9d63</td>\n",
       "      <td>0b1e1539f2cc45b7b9fa7c272da2e1d7</td>\n",
       "      <td>offer received</td>\n",
       "      <td>336</td>\n",
       "      <td>0.0</td>\n",
       "      <td>240.0</td>\n",
       "      <td>discount</td>\n",
       "      <td>576.0</td>\n",
       "      <td>offer received</td>\n",
       "      <td>336.0</td>\n",
       "      <td>0.0</td>\n",
       "      <td>240.0</td>\n",
       "      <td>discount</td>\n",
       "      <td>576.0</td>\n",
       "    </tr>\n",
       "    <tr>\n",
       "      <th>12333</th>\n",
       "      <td>7a30763c05734cb3bd14123e1b6b9d63</td>\n",
       "      <td>0b1e1539f2cc45b7b9fa7c272da2e1d7</td>\n",
       "      <td>offer received</td>\n",
       "      <td>336</td>\n",
       "      <td>0.0</td>\n",
       "      <td>240.0</td>\n",
       "      <td>discount</td>\n",
       "      <td>576.0</td>\n",
       "      <td>offer received</td>\n",
       "      <td>408.0</td>\n",
       "      <td>0.0</td>\n",
       "      <td>240.0</td>\n",
       "      <td>discount</td>\n",
       "      <td>648.0</td>\n",
       "    </tr>\n",
       "    <tr>\n",
       "      <th>12334</th>\n",
       "      <td>7a30763c05734cb3bd14123e1b6b9d63</td>\n",
       "      <td>0b1e1539f2cc45b7b9fa7c272da2e1d7</td>\n",
       "      <td>offer received</td>\n",
       "      <td>336</td>\n",
       "      <td>0.0</td>\n",
       "      <td>240.0</td>\n",
       "      <td>discount</td>\n",
       "      <td>576.0</td>\n",
       "      <td>offer received</td>\n",
       "      <td>504.0</td>\n",
       "      <td>0.0</td>\n",
       "      <td>240.0</td>\n",
       "      <td>discount</td>\n",
       "      <td>744.0</td>\n",
       "    </tr>\n",
       "    <tr>\n",
       "      <th>12335</th>\n",
       "      <td>7a30763c05734cb3bd14123e1b6b9d63</td>\n",
       "      <td>0b1e1539f2cc45b7b9fa7c272da2e1d7</td>\n",
       "      <td>offer received</td>\n",
       "      <td>336</td>\n",
       "      <td>0.0</td>\n",
       "      <td>240.0</td>\n",
       "      <td>discount</td>\n",
       "      <td>576.0</td>\n",
       "      <td>offer received</td>\n",
       "      <td>576.0</td>\n",
       "      <td>0.0</td>\n",
       "      <td>240.0</td>\n",
       "      <td>discount</td>\n",
       "      <td>816.0</td>\n",
       "    </tr>\n",
       "    <tr>\n",
       "      <th>12336</th>\n",
       "      <td>7a30763c05734cb3bd14123e1b6b9d63</td>\n",
       "      <td>0b1e1539f2cc45b7b9fa7c272da2e1d7</td>\n",
       "      <td>offer received</td>\n",
       "      <td>408</td>\n",
       "      <td>0.0</td>\n",
       "      <td>240.0</td>\n",
       "      <td>discount</td>\n",
       "      <td>648.0</td>\n",
       "      <td>offer received</td>\n",
       "      <td>336.0</td>\n",
       "      <td>0.0</td>\n",
       "      <td>240.0</td>\n",
       "      <td>discount</td>\n",
       "      <td>576.0</td>\n",
       "    </tr>\n",
       "    <tr>\n",
       "      <th>12337</th>\n",
       "      <td>7a30763c05734cb3bd14123e1b6b9d63</td>\n",
       "      <td>0b1e1539f2cc45b7b9fa7c272da2e1d7</td>\n",
       "      <td>offer received</td>\n",
       "      <td>408</td>\n",
       "      <td>0.0</td>\n",
       "      <td>240.0</td>\n",
       "      <td>discount</td>\n",
       "      <td>648.0</td>\n",
       "      <td>offer received</td>\n",
       "      <td>408.0</td>\n",
       "      <td>0.0</td>\n",
       "      <td>240.0</td>\n",
       "      <td>discount</td>\n",
       "      <td>648.0</td>\n",
       "    </tr>\n",
       "    <tr>\n",
       "      <th>12338</th>\n",
       "      <td>7a30763c05734cb3bd14123e1b6b9d63</td>\n",
       "      <td>0b1e1539f2cc45b7b9fa7c272da2e1d7</td>\n",
       "      <td>offer received</td>\n",
       "      <td>408</td>\n",
       "      <td>0.0</td>\n",
       "      <td>240.0</td>\n",
       "      <td>discount</td>\n",
       "      <td>648.0</td>\n",
       "      <td>offer received</td>\n",
       "      <td>504.0</td>\n",
       "      <td>0.0</td>\n",
       "      <td>240.0</td>\n",
       "      <td>discount</td>\n",
       "      <td>744.0</td>\n",
       "    </tr>\n",
       "    <tr>\n",
       "      <th>12339</th>\n",
       "      <td>7a30763c05734cb3bd14123e1b6b9d63</td>\n",
       "      <td>0b1e1539f2cc45b7b9fa7c272da2e1d7</td>\n",
       "      <td>offer received</td>\n",
       "      <td>408</td>\n",
       "      <td>0.0</td>\n",
       "      <td>240.0</td>\n",
       "      <td>discount</td>\n",
       "      <td>648.0</td>\n",
       "      <td>offer received</td>\n",
       "      <td>576.0</td>\n",
       "      <td>0.0</td>\n",
       "      <td>240.0</td>\n",
       "      <td>discount</td>\n",
       "      <td>816.0</td>\n",
       "    </tr>\n",
       "    <tr>\n",
       "      <th>12340</th>\n",
       "      <td>7a30763c05734cb3bd14123e1b6b9d63</td>\n",
       "      <td>0b1e1539f2cc45b7b9fa7c272da2e1d7</td>\n",
       "      <td>offer received</td>\n",
       "      <td>504</td>\n",
       "      <td>0.0</td>\n",
       "      <td>240.0</td>\n",
       "      <td>discount</td>\n",
       "      <td>744.0</td>\n",
       "      <td>offer received</td>\n",
       "      <td>336.0</td>\n",
       "      <td>0.0</td>\n",
       "      <td>240.0</td>\n",
       "      <td>discount</td>\n",
       "      <td>576.0</td>\n",
       "    </tr>\n",
       "    <tr>\n",
       "      <th>12341</th>\n",
       "      <td>7a30763c05734cb3bd14123e1b6b9d63</td>\n",
       "      <td>0b1e1539f2cc45b7b9fa7c272da2e1d7</td>\n",
       "      <td>offer received</td>\n",
       "      <td>504</td>\n",
       "      <td>0.0</td>\n",
       "      <td>240.0</td>\n",
       "      <td>discount</td>\n",
       "      <td>744.0</td>\n",
       "      <td>offer received</td>\n",
       "      <td>408.0</td>\n",
       "      <td>0.0</td>\n",
       "      <td>240.0</td>\n",
       "      <td>discount</td>\n",
       "      <td>648.0</td>\n",
       "    </tr>\n",
       "    <tr>\n",
       "      <th>12342</th>\n",
       "      <td>7a30763c05734cb3bd14123e1b6b9d63</td>\n",
       "      <td>0b1e1539f2cc45b7b9fa7c272da2e1d7</td>\n",
       "      <td>offer received</td>\n",
       "      <td>504</td>\n",
       "      <td>0.0</td>\n",
       "      <td>240.0</td>\n",
       "      <td>discount</td>\n",
       "      <td>744.0</td>\n",
       "      <td>offer received</td>\n",
       "      <td>504.0</td>\n",
       "      <td>0.0</td>\n",
       "      <td>240.0</td>\n",
       "      <td>discount</td>\n",
       "      <td>744.0</td>\n",
       "    </tr>\n",
       "    <tr>\n",
       "      <th>12343</th>\n",
       "      <td>7a30763c05734cb3bd14123e1b6b9d63</td>\n",
       "      <td>0b1e1539f2cc45b7b9fa7c272da2e1d7</td>\n",
       "      <td>offer received</td>\n",
       "      <td>504</td>\n",
       "      <td>0.0</td>\n",
       "      <td>240.0</td>\n",
       "      <td>discount</td>\n",
       "      <td>744.0</td>\n",
       "      <td>offer received</td>\n",
       "      <td>576.0</td>\n",
       "      <td>0.0</td>\n",
       "      <td>240.0</td>\n",
       "      <td>discount</td>\n",
       "      <td>816.0</td>\n",
       "    </tr>\n",
       "    <tr>\n",
       "      <th>12344</th>\n",
       "      <td>7a30763c05734cb3bd14123e1b6b9d63</td>\n",
       "      <td>0b1e1539f2cc45b7b9fa7c272da2e1d7</td>\n",
       "      <td>offer received</td>\n",
       "      <td>576</td>\n",
       "      <td>0.0</td>\n",
       "      <td>240.0</td>\n",
       "      <td>discount</td>\n",
       "      <td>816.0</td>\n",
       "      <td>offer received</td>\n",
       "      <td>336.0</td>\n",
       "      <td>0.0</td>\n",
       "      <td>240.0</td>\n",
       "      <td>discount</td>\n",
       "      <td>576.0</td>\n",
       "    </tr>\n",
       "    <tr>\n",
       "      <th>12345</th>\n",
       "      <td>7a30763c05734cb3bd14123e1b6b9d63</td>\n",
       "      <td>0b1e1539f2cc45b7b9fa7c272da2e1d7</td>\n",
       "      <td>offer received</td>\n",
       "      <td>576</td>\n",
       "      <td>0.0</td>\n",
       "      <td>240.0</td>\n",
       "      <td>discount</td>\n",
       "      <td>816.0</td>\n",
       "      <td>offer received</td>\n",
       "      <td>408.0</td>\n",
       "      <td>0.0</td>\n",
       "      <td>240.0</td>\n",
       "      <td>discount</td>\n",
       "      <td>648.0</td>\n",
       "    </tr>\n",
       "    <tr>\n",
       "      <th>12346</th>\n",
       "      <td>7a30763c05734cb3bd14123e1b6b9d63</td>\n",
       "      <td>0b1e1539f2cc45b7b9fa7c272da2e1d7</td>\n",
       "      <td>offer received</td>\n",
       "      <td>576</td>\n",
       "      <td>0.0</td>\n",
       "      <td>240.0</td>\n",
       "      <td>discount</td>\n",
       "      <td>816.0</td>\n",
       "      <td>offer received</td>\n",
       "      <td>504.0</td>\n",
       "      <td>0.0</td>\n",
       "      <td>240.0</td>\n",
       "      <td>discount</td>\n",
       "      <td>744.0</td>\n",
       "    </tr>\n",
       "    <tr>\n",
       "      <th>12347</th>\n",
       "      <td>7a30763c05734cb3bd14123e1b6b9d63</td>\n",
       "      <td>0b1e1539f2cc45b7b9fa7c272da2e1d7</td>\n",
       "      <td>offer received</td>\n",
       "      <td>576</td>\n",
       "      <td>0.0</td>\n",
       "      <td>240.0</td>\n",
       "      <td>discount</td>\n",
       "      <td>816.0</td>\n",
       "      <td>offer received</td>\n",
       "      <td>576.0</td>\n",
       "      <td>0.0</td>\n",
       "      <td>240.0</td>\n",
       "      <td>discount</td>\n",
       "      <td>816.0</td>\n",
       "    </tr>\n",
       "  </tbody>\n",
       "</table>\n",
       "</div>"
      ],
      "text/plain": [
       "                            customer_id                      portfolio_id  \\\n",
       "12332  7a30763c05734cb3bd14123e1b6b9d63  0b1e1539f2cc45b7b9fa7c272da2e1d7   \n",
       "12333  7a30763c05734cb3bd14123e1b6b9d63  0b1e1539f2cc45b7b9fa7c272da2e1d7   \n",
       "12334  7a30763c05734cb3bd14123e1b6b9d63  0b1e1539f2cc45b7b9fa7c272da2e1d7   \n",
       "12335  7a30763c05734cb3bd14123e1b6b9d63  0b1e1539f2cc45b7b9fa7c272da2e1d7   \n",
       "12336  7a30763c05734cb3bd14123e1b6b9d63  0b1e1539f2cc45b7b9fa7c272da2e1d7   \n",
       "12337  7a30763c05734cb3bd14123e1b6b9d63  0b1e1539f2cc45b7b9fa7c272da2e1d7   \n",
       "12338  7a30763c05734cb3bd14123e1b6b9d63  0b1e1539f2cc45b7b9fa7c272da2e1d7   \n",
       "12339  7a30763c05734cb3bd14123e1b6b9d63  0b1e1539f2cc45b7b9fa7c272da2e1d7   \n",
       "12340  7a30763c05734cb3bd14123e1b6b9d63  0b1e1539f2cc45b7b9fa7c272da2e1d7   \n",
       "12341  7a30763c05734cb3bd14123e1b6b9d63  0b1e1539f2cc45b7b9fa7c272da2e1d7   \n",
       "12342  7a30763c05734cb3bd14123e1b6b9d63  0b1e1539f2cc45b7b9fa7c272da2e1d7   \n",
       "12343  7a30763c05734cb3bd14123e1b6b9d63  0b1e1539f2cc45b7b9fa7c272da2e1d7   \n",
       "12344  7a30763c05734cb3bd14123e1b6b9d63  0b1e1539f2cc45b7b9fa7c272da2e1d7   \n",
       "12345  7a30763c05734cb3bd14123e1b6b9d63  0b1e1539f2cc45b7b9fa7c272da2e1d7   \n",
       "12346  7a30763c05734cb3bd14123e1b6b9d63  0b1e1539f2cc45b7b9fa7c272da2e1d7   \n",
       "12347  7a30763c05734cb3bd14123e1b6b9d63  0b1e1539f2cc45b7b9fa7c272da2e1d7   \n",
       "\n",
       "              event_x  offer_received_time_x  amount_x  duration_x  \\\n",
       "12332  offer received                    336       0.0       240.0   \n",
       "12333  offer received                    336       0.0       240.0   \n",
       "12334  offer received                    336       0.0       240.0   \n",
       "12335  offer received                    336       0.0       240.0   \n",
       "12336  offer received                    408       0.0       240.0   \n",
       "12337  offer received                    408       0.0       240.0   \n",
       "12338  offer received                    408       0.0       240.0   \n",
       "12339  offer received                    408       0.0       240.0   \n",
       "12340  offer received                    504       0.0       240.0   \n",
       "12341  offer received                    504       0.0       240.0   \n",
       "12342  offer received                    504       0.0       240.0   \n",
       "12343  offer received                    504       0.0       240.0   \n",
       "12344  offer received                    576       0.0       240.0   \n",
       "12345  offer received                    576       0.0       240.0   \n",
       "12346  offer received                    576       0.0       240.0   \n",
       "12347  offer received                    576       0.0       240.0   \n",
       "\n",
       "      offer_type_x  offer_end_time_x         event_y  offer_received_time_y  \\\n",
       "12332     discount             576.0  offer received                  336.0   \n",
       "12333     discount             576.0  offer received                  408.0   \n",
       "12334     discount             576.0  offer received                  504.0   \n",
       "12335     discount             576.0  offer received                  576.0   \n",
       "12336     discount             648.0  offer received                  336.0   \n",
       "12337     discount             648.0  offer received                  408.0   \n",
       "12338     discount             648.0  offer received                  504.0   \n",
       "12339     discount             648.0  offer received                  576.0   \n",
       "12340     discount             744.0  offer received                  336.0   \n",
       "12341     discount             744.0  offer received                  408.0   \n",
       "12342     discount             744.0  offer received                  504.0   \n",
       "12343     discount             744.0  offer received                  576.0   \n",
       "12344     discount             816.0  offer received                  336.0   \n",
       "12345     discount             816.0  offer received                  408.0   \n",
       "12346     discount             816.0  offer received                  504.0   \n",
       "12347     discount             816.0  offer received                  576.0   \n",
       "\n",
       "       amount_y  duration_y offer_type_y  offer_end_time_y  \n",
       "12332       0.0       240.0     discount             576.0  \n",
       "12333       0.0       240.0     discount             648.0  \n",
       "12334       0.0       240.0     discount             744.0  \n",
       "12335       0.0       240.0     discount             816.0  \n",
       "12336       0.0       240.0     discount             576.0  \n",
       "12337       0.0       240.0     discount             648.0  \n",
       "12338       0.0       240.0     discount             744.0  \n",
       "12339       0.0       240.0     discount             816.0  \n",
       "12340       0.0       240.0     discount             576.0  \n",
       "12341       0.0       240.0     discount             648.0  \n",
       "12342       0.0       240.0     discount             744.0  \n",
       "12343       0.0       240.0     discount             816.0  \n",
       "12344       0.0       240.0     discount             576.0  \n",
       "12345       0.0       240.0     discount             648.0  \n",
       "12346       0.0       240.0     discount             744.0  \n",
       "12347       0.0       240.0     discount             816.0  "
      ]
     },
     "execution_count": 289,
     "metadata": {},
     "output_type": "execute_result"
    }
   ],
   "source": [
    "test_final_new_df[(test_final_new_df[\"customer_id\"] == \"7a30763c05734cb3bd14123e1b6b9d63\") & \\\n",
    "                 (test_final_new_df[\"portfolio_id\"] == \"0b1e1539f2cc45b7b9fa7c272da2e1d7\")]"
   ]
  },
  {
   "cell_type": "code",
   "execution_count": 290,
   "metadata": {},
   "outputs": [
    {
     "data": {
      "text/html": [
       "<div>\n",
       "<style scoped>\n",
       "    .dataframe tbody tr th:only-of-type {\n",
       "        vertical-align: middle;\n",
       "    }\n",
       "\n",
       "    .dataframe tbody tr th {\n",
       "        vertical-align: top;\n",
       "    }\n",
       "\n",
       "    .dataframe thead th {\n",
       "        text-align: right;\n",
       "    }\n",
       "</style>\n",
       "<table border=\"1\" class=\"dataframe\">\n",
       "  <thead>\n",
       "    <tr style=\"text-align: right;\">\n",
       "      <th></th>\n",
       "      <th>customer_id</th>\n",
       "      <th>portfolio_id</th>\n",
       "      <th>event_x</th>\n",
       "      <th>offer_received_time_x</th>\n",
       "      <th>amount_x</th>\n",
       "      <th>duration_x</th>\n",
       "      <th>offer_type_x</th>\n",
       "      <th>offer_end_time_x</th>\n",
       "      <th>event_y</th>\n",
       "      <th>offer_received_time_y</th>\n",
       "      <th>amount_y</th>\n",
       "      <th>duration_y</th>\n",
       "      <th>offer_type_y</th>\n",
       "      <th>offer_end_time_y</th>\n",
       "    </tr>\n",
       "  </thead>\n",
       "  <tbody>\n",
       "    <tr>\n",
       "      <th>566</th>\n",
       "      <td>04fa747cd2d841bcaf08f0a64e82bbef</td>\n",
       "      <td>2906b810c7d4411798c6938adc9daaa5</td>\n",
       "      <td>offer received</td>\n",
       "      <td>0</td>\n",
       "      <td>0.0</td>\n",
       "      <td>168.0</td>\n",
       "      <td>discount</td>\n",
       "      <td>168.0</td>\n",
       "      <td>offer received</td>\n",
       "      <td>168.0</td>\n",
       "      <td>0.0</td>\n",
       "      <td>168.0</td>\n",
       "      <td>discount</td>\n",
       "      <td>336.0</td>\n",
       "    </tr>\n",
       "    <tr>\n",
       "      <th>571</th>\n",
       "      <td>04fa747cd2d841bcaf08f0a64e82bbef</td>\n",
       "      <td>2906b810c7d4411798c6938adc9daaa5</td>\n",
       "      <td>offer received</td>\n",
       "      <td>168</td>\n",
       "      <td>0.0</td>\n",
       "      <td>168.0</td>\n",
       "      <td>discount</td>\n",
       "      <td>336.0</td>\n",
       "      <td>offer received</td>\n",
       "      <td>336.0</td>\n",
       "      <td>0.0</td>\n",
       "      <td>168.0</td>\n",
       "      <td>discount</td>\n",
       "      <td>504.0</td>\n",
       "    </tr>\n",
       "  </tbody>\n",
       "</table>\n",
       "</div>"
      ],
      "text/plain": [
       "                          customer_id                      portfolio_id  \\\n",
       "566  04fa747cd2d841bcaf08f0a64e82bbef  2906b810c7d4411798c6938adc9daaa5   \n",
       "571  04fa747cd2d841bcaf08f0a64e82bbef  2906b810c7d4411798c6938adc9daaa5   \n",
       "\n",
       "            event_x  offer_received_time_x  amount_x  duration_x offer_type_x  \\\n",
       "566  offer received                      0       0.0       168.0     discount   \n",
       "571  offer received                    168       0.0       168.0     discount   \n",
       "\n",
       "     offer_end_time_x         event_y  offer_received_time_y  amount_y  \\\n",
       "566             168.0  offer received                  168.0       0.0   \n",
       "571             336.0  offer received                  336.0       0.0   \n",
       "\n",
       "     duration_y offer_type_y  offer_end_time_y  \n",
       "566       168.0     discount             336.0  \n",
       "571       168.0     discount             504.0  "
      ]
     },
     "execution_count": 290,
     "metadata": {},
     "output_type": "execute_result"
    }
   ],
   "source": [
    "test_final_new_overlap_df[(test_final_new_overlap_df[\"customer_id\"] == \"04fa747cd2d841bcaf08f0a64e82bbef\") &\\\n",
    "                          (test_final_new_overlap_df[\"portfolio_id\"] == \"2906b810c7d4411798c6938adc9daaa5\")]"
   ]
  },
  {
   "cell_type": "code",
   "execution_count": 255,
   "metadata": {},
   "outputs": [],
   "source": [
    "transcript_end_df = transcript_new.loc[transcript_new[\"event\"] == \"offer received\", [\"customer_id\", \"portfolio_id\", \"time\", \"duration\"]]"
   ]
  },
  {
   "cell_type": "code",
   "execution_count": 256,
   "metadata": {},
   "outputs": [],
   "source": [
    "transcript_end_df[\"offer_end_time\"] = transcript_end_df[\"time\"] + transcript_end_df[\"duration\"]"
   ]
  },
  {
   "cell_type": "code",
   "execution_count": 257,
   "metadata": {},
   "outputs": [],
   "source": [
    "transcript_end_df = transcript_end_df.drop(columns = [\"duration\"])"
   ]
  },
  {
   "cell_type": "code",
   "execution_count": 258,
   "metadata": {},
   "outputs": [],
   "source": [
    "transcript_end_df = transcript_end_df.rename(columns={\"time\":\"offer_received_time\"})"
   ]
  },
  {
   "cell_type": "code",
   "execution_count": 259,
   "metadata": {},
   "outputs": [],
   "source": [
    "transcript_done_df = transcript_new.loc[transcript_new[\"event\"] == \"offer completed\", [\"customer_id\", \"portfolio_id\", \"time\", \"duration\"]]"
   ]
  },
  {
   "cell_type": "code",
   "execution_count": 260,
   "metadata": {
    "scrolled": true
   },
   "outputs": [
    {
     "data": {
      "text/html": [
       "<div>\n",
       "<style scoped>\n",
       "    .dataframe tbody tr th:only-of-type {\n",
       "        vertical-align: middle;\n",
       "    }\n",
       "\n",
       "    .dataframe tbody tr th {\n",
       "        vertical-align: top;\n",
       "    }\n",
       "\n",
       "    .dataframe thead th {\n",
       "        text-align: right;\n",
       "    }\n",
       "</style>\n",
       "<table border=\"1\" class=\"dataframe\">\n",
       "  <thead>\n",
       "    <tr style=\"text-align: right;\">\n",
       "      <th></th>\n",
       "      <th>customer_id</th>\n",
       "      <th>portfolio_id</th>\n",
       "      <th>time</th>\n",
       "      <th>duration</th>\n",
       "    </tr>\n",
       "  </thead>\n",
       "  <tbody>\n",
       "    <tr>\n",
       "      <th>12652</th>\n",
       "      <td>9fa9ae8f57894cc9a3b8a9bbe0fc1b2f</td>\n",
       "      <td>2906b810c7d4411798c6938adc9daaa5</td>\n",
       "      <td>0</td>\n",
       "      <td>168.0</td>\n",
       "    </tr>\n",
       "    <tr>\n",
       "      <th>12656</th>\n",
       "      <td>fe97aa22dd3e48c8b143116a8403dd52</td>\n",
       "      <td>fafdcd668e3743c1bb461111dcafc2a4</td>\n",
       "      <td>0</td>\n",
       "      <td>240.0</td>\n",
       "    </tr>\n",
       "    <tr>\n",
       "      <th>12658</th>\n",
       "      <td>629fc02d56414d91bca360decdfa9288</td>\n",
       "      <td>9b98b8c7a33c4b65b9aebfe6a799e6d9</td>\n",
       "      <td>0</td>\n",
       "      <td>168.0</td>\n",
       "    </tr>\n",
       "    <tr>\n",
       "      <th>12662</th>\n",
       "      <td>676506bad68e4161b9bbaffeb039626b</td>\n",
       "      <td>ae264e3637204a6fb9bb56bc8210ddfd</td>\n",
       "      <td>0</td>\n",
       "      <td>168.0</td>\n",
       "    </tr>\n",
       "    <tr>\n",
       "      <th>12664</th>\n",
       "      <td>8f7dd3b2afe14c078eb4f6e6fe4ba97d</td>\n",
       "      <td>4d5c57ea9a6940dd891ad53e9dbe8da0</td>\n",
       "      <td>0</td>\n",
       "      <td>120.0</td>\n",
       "    </tr>\n",
       "  </tbody>\n",
       "</table>\n",
       "</div>"
      ],
      "text/plain": [
       "                            customer_id                      portfolio_id  \\\n",
       "12652  9fa9ae8f57894cc9a3b8a9bbe0fc1b2f  2906b810c7d4411798c6938adc9daaa5   \n",
       "12656  fe97aa22dd3e48c8b143116a8403dd52  fafdcd668e3743c1bb461111dcafc2a4   \n",
       "12658  629fc02d56414d91bca360decdfa9288  9b98b8c7a33c4b65b9aebfe6a799e6d9   \n",
       "12662  676506bad68e4161b9bbaffeb039626b  ae264e3637204a6fb9bb56bc8210ddfd   \n",
       "12664  8f7dd3b2afe14c078eb4f6e6fe4ba97d  4d5c57ea9a6940dd891ad53e9dbe8da0   \n",
       "\n",
       "       time  duration  \n",
       "12652     0     168.0  \n",
       "12656     0     240.0  \n",
       "12658     0     168.0  \n",
       "12662     0     168.0  \n",
       "12664     0     120.0  "
      ]
     },
     "execution_count": 260,
     "metadata": {},
     "output_type": "execute_result"
    }
   ],
   "source": [
    "transcript_done_df.head()"
   ]
  },
  {
   "cell_type": "code",
   "execution_count": 261,
   "metadata": {},
   "outputs": [],
   "source": [
    "transcript_done_df = transcript_done_df.rename(columns = {\"time\":\"offer_completed_time\"})\n",
    "transcript_done_df = transcript_done_df.drop(columns = \"duration\")"
   ]
  },
  {
   "cell_type": "code",
   "execution_count": 262,
   "metadata": {
    "scrolled": true
   },
   "outputs": [
    {
     "data": {
      "text/html": [
       "<div>\n",
       "<style scoped>\n",
       "    .dataframe tbody tr th:only-of-type {\n",
       "        vertical-align: middle;\n",
       "    }\n",
       "\n",
       "    .dataframe tbody tr th {\n",
       "        vertical-align: top;\n",
       "    }\n",
       "\n",
       "    .dataframe thead th {\n",
       "        text-align: right;\n",
       "    }\n",
       "</style>\n",
       "<table border=\"1\" class=\"dataframe\">\n",
       "  <thead>\n",
       "    <tr style=\"text-align: right;\">\n",
       "      <th></th>\n",
       "      <th>customer_id</th>\n",
       "      <th>portfolio_id</th>\n",
       "      <th>offer_completed_time</th>\n",
       "    </tr>\n",
       "  </thead>\n",
       "  <tbody>\n",
       "    <tr>\n",
       "      <th>12652</th>\n",
       "      <td>9fa9ae8f57894cc9a3b8a9bbe0fc1b2f</td>\n",
       "      <td>2906b810c7d4411798c6938adc9daaa5</td>\n",
       "      <td>0</td>\n",
       "    </tr>\n",
       "    <tr>\n",
       "      <th>12656</th>\n",
       "      <td>fe97aa22dd3e48c8b143116a8403dd52</td>\n",
       "      <td>fafdcd668e3743c1bb461111dcafc2a4</td>\n",
       "      <td>0</td>\n",
       "    </tr>\n",
       "    <tr>\n",
       "      <th>12658</th>\n",
       "      <td>629fc02d56414d91bca360decdfa9288</td>\n",
       "      <td>9b98b8c7a33c4b65b9aebfe6a799e6d9</td>\n",
       "      <td>0</td>\n",
       "    </tr>\n",
       "    <tr>\n",
       "      <th>12662</th>\n",
       "      <td>676506bad68e4161b9bbaffeb039626b</td>\n",
       "      <td>ae264e3637204a6fb9bb56bc8210ddfd</td>\n",
       "      <td>0</td>\n",
       "    </tr>\n",
       "    <tr>\n",
       "      <th>12664</th>\n",
       "      <td>8f7dd3b2afe14c078eb4f6e6fe4ba97d</td>\n",
       "      <td>4d5c57ea9a6940dd891ad53e9dbe8da0</td>\n",
       "      <td>0</td>\n",
       "    </tr>\n",
       "  </tbody>\n",
       "</table>\n",
       "</div>"
      ],
      "text/plain": [
       "                            customer_id                      portfolio_id  \\\n",
       "12652  9fa9ae8f57894cc9a3b8a9bbe0fc1b2f  2906b810c7d4411798c6938adc9daaa5   \n",
       "12656  fe97aa22dd3e48c8b143116a8403dd52  fafdcd668e3743c1bb461111dcafc2a4   \n",
       "12658  629fc02d56414d91bca360decdfa9288  9b98b8c7a33c4b65b9aebfe6a799e6d9   \n",
       "12662  676506bad68e4161b9bbaffeb039626b  ae264e3637204a6fb9bb56bc8210ddfd   \n",
       "12664  8f7dd3b2afe14c078eb4f6e6fe4ba97d  4d5c57ea9a6940dd891ad53e9dbe8da0   \n",
       "\n",
       "       offer_completed_time  \n",
       "12652                     0  \n",
       "12656                     0  \n",
       "12658                     0  \n",
       "12662                     0  \n",
       "12664                     0  "
      ]
     },
     "execution_count": 262,
     "metadata": {},
     "output_type": "execute_result"
    }
   ],
   "source": [
    "transcript_done_df.head()"
   ]
  },
  {
   "cell_type": "code",
   "execution_count": 265,
   "metadata": {},
   "outputs": [
    {
     "data": {
      "text/plain": [
       "((76277, 4), (33579, 3))"
      ]
     },
     "execution_count": 265,
     "metadata": {},
     "output_type": "execute_result"
    }
   ],
   "source": [
    "transcript_end_df.shape, transcript_done_df.shape"
   ]
  },
  {
   "cell_type": "code",
   "execution_count": 271,
   "metadata": {},
   "outputs": [],
   "source": [
    "transcript_new_temp_df = transcript_end_df.merge(transcript_done_df, how=\"left\", on =[\"customer_id\", \"portfolio_id\"])"
   ]
  },
  {
   "cell_type": "code",
   "execution_count": 276,
   "metadata": {},
   "outputs": [
    {
     "data": {
      "text/plain": [
       "array([False], dtype=bool)"
      ]
     },
     "execution_count": 276,
     "metadata": {},
     "output_type": "execute_result"
    }
   ],
   "source": [
    "transcript_new_temp_df[transcript_new_temp_df['offer_completed_time'].isnull()].duplicated().unique()"
   ]
  },
  {
   "cell_type": "code",
   "execution_count": 280,
   "metadata": {
    "scrolled": true
   },
   "outputs": [],
   "source": [
    "transcript_not_completed_df = transcript_new_temp_df[transcript_new_temp_df['offer_completed_time'].isnull()]"
   ]
  },
  {
   "cell_type": "code",
   "execution_count": 290,
   "metadata": {
    "scrolled": true
   },
   "outputs": [
    {
     "data": {
      "text/html": [
       "<div>\n",
       "<style scoped>\n",
       "    .dataframe tbody tr th:only-of-type {\n",
       "        vertical-align: middle;\n",
       "    }\n",
       "\n",
       "    .dataframe tbody tr th {\n",
       "        vertical-align: top;\n",
       "    }\n",
       "\n",
       "    .dataframe thead th {\n",
       "        text-align: right;\n",
       "    }\n",
       "</style>\n",
       "<table border=\"1\" class=\"dataframe\">\n",
       "  <thead>\n",
       "    <tr style=\"text-align: right;\">\n",
       "      <th></th>\n",
       "      <th>customer_id</th>\n",
       "      <th>portfolio_id</th>\n",
       "      <th>offer_received_time</th>\n",
       "      <th>offer_end_time</th>\n",
       "      <th>offer_completed_time</th>\n",
       "    </tr>\n",
       "  </thead>\n",
       "  <tbody>\n",
       "  </tbody>\n",
       "</table>\n",
       "</div>"
      ],
      "text/plain": [
       "Empty DataFrame\n",
       "Columns: [customer_id, portfolio_id, offer_received_time, offer_end_time, offer_completed_time]\n",
       "Index: []"
      ]
     },
     "execution_count": 290,
     "metadata": {},
     "output_type": "execute_result"
    }
   ],
   "source": [
    "transcript_not_completed_df[(transcript_not_completed_df[\"customer_id\"] == \"fff3ba4757bd42088c044ca26d73817a\") & \\\n",
    "                           (transcript_not_completed_df[\"portfolio_id\"] == \"2906b810c7d4411798c6938adc9daaa5\")\n",
    "                           ]"
   ]
  },
  {
   "cell_type": "code",
   "execution_count": 291,
   "metadata": {},
   "outputs": [
    {
     "data": {
      "text/html": [
       "<div>\n",
       "<style scoped>\n",
       "    .dataframe tbody tr th:only-of-type {\n",
       "        vertical-align: middle;\n",
       "    }\n",
       "\n",
       "    .dataframe tbody tr th {\n",
       "        vertical-align: top;\n",
       "    }\n",
       "\n",
       "    .dataframe thead th {\n",
       "        text-align: right;\n",
       "    }\n",
       "</style>\n",
       "<table border=\"1\" class=\"dataframe\">\n",
       "  <thead>\n",
       "    <tr style=\"text-align: right;\">\n",
       "      <th></th>\n",
       "      <th>customer_id</th>\n",
       "      <th>portfolio_id</th>\n",
       "      <th>offer_received_time</th>\n",
       "      <th>offer_end_time</th>\n",
       "      <th>offer_completed_time</th>\n",
       "    </tr>\n",
       "  </thead>\n",
       "  <tbody>\n",
       "    <tr>\n",
       "      <th>47423</th>\n",
       "      <td>fff3ba4757bd42088c044ca26d73817a</td>\n",
       "      <td>2906b810c7d4411798c6938adc9daaa5</td>\n",
       "      <td>408</td>\n",
       "      <td>576.0</td>\n",
       "      <td>528.0</td>\n",
       "    </tr>\n",
       "    <tr>\n",
       "      <th>76334</th>\n",
       "      <td>fff3ba4757bd42088c044ca26d73817a</td>\n",
       "      <td>2906b810c7d4411798c6938adc9daaa5</td>\n",
       "      <td>576</td>\n",
       "      <td>744.0</td>\n",
       "      <td>528.0</td>\n",
       "    </tr>\n",
       "  </tbody>\n",
       "</table>\n",
       "</div>"
      ],
      "text/plain": [
       "                            customer_id                      portfolio_id  \\\n",
       "47423  fff3ba4757bd42088c044ca26d73817a  2906b810c7d4411798c6938adc9daaa5   \n",
       "76334  fff3ba4757bd42088c044ca26d73817a  2906b810c7d4411798c6938adc9daaa5   \n",
       "\n",
       "       offer_received_time  offer_end_time  offer_completed_time  \n",
       "47423                  408           576.0                 528.0  \n",
       "76334                  576           744.0                 528.0  "
      ]
     },
     "execution_count": 291,
     "metadata": {},
     "output_type": "execute_result"
    }
   ],
   "source": [
    "transcript_new_temp_df[(transcript_new_temp_df[\"customer_id\"] == \"fff3ba4757bd42088c044ca26d73817a\") & \\\n",
    "                       (transcript_new_temp_df[\"portfolio_id\"] == \"2906b810c7d4411798c6938adc9daaa5\")\n",
    "                      ]"
   ]
  },
  {
   "cell_type": "code",
   "execution_count": 289,
   "metadata": {
    "scrolled": true
   },
   "outputs": [
    {
     "data": {
      "text/html": [
       "<div>\n",
       "<style scoped>\n",
       "    .dataframe tbody tr th:only-of-type {\n",
       "        vertical-align: middle;\n",
       "    }\n",
       "\n",
       "    .dataframe tbody tr th {\n",
       "        vertical-align: top;\n",
       "    }\n",
       "\n",
       "    .dataframe thead th {\n",
       "        text-align: right;\n",
       "    }\n",
       "</style>\n",
       "<table border=\"1\" class=\"dataframe\">\n",
       "  <thead>\n",
       "    <tr style=\"text-align: right;\">\n",
       "      <th></th>\n",
       "      <th>event</th>\n",
       "      <th>customer_id</th>\n",
       "      <th>time</th>\n",
       "      <th>amount</th>\n",
       "      <th>reward</th>\n",
       "      <th>portfolio_id</th>\n",
       "      <th>datetime</th>\n",
       "    </tr>\n",
       "  </thead>\n",
       "  <tbody>\n",
       "    <tr>\n",
       "      <th>154453</th>\n",
       "      <td>offer received</td>\n",
       "      <td>fff3ba4757bd42088c044ca26d73817a</td>\n",
       "      <td>408</td>\n",
       "      <td>0.0</td>\n",
       "      <td>0</td>\n",
       "      <td>2906b810c7d4411798c6938adc9daaa5</td>\n",
       "      <td>2020-05-18</td>\n",
       "    </tr>\n",
       "    <tr>\n",
       "      <th>228643</th>\n",
       "      <td>offer completed</td>\n",
       "      <td>fff3ba4757bd42088c044ca26d73817a</td>\n",
       "      <td>528</td>\n",
       "      <td>0.0</td>\n",
       "      <td>2</td>\n",
       "      <td>2906b810c7d4411798c6938adc9daaa5</td>\n",
       "      <td>2020-05-23</td>\n",
       "    </tr>\n",
       "    <tr>\n",
       "      <th>248948</th>\n",
       "      <td>offer received</td>\n",
       "      <td>fff3ba4757bd42088c044ca26d73817a</td>\n",
       "      <td>576</td>\n",
       "      <td>0.0</td>\n",
       "      <td>0</td>\n",
       "      <td>2906b810c7d4411798c6938adc9daaa5</td>\n",
       "      <td>2020-05-25</td>\n",
       "    </tr>\n",
       "  </tbody>\n",
       "</table>\n",
       "</div>"
      ],
      "text/plain": [
       "                  event                       customer_id  time  amount  \\\n",
       "154453   offer received  fff3ba4757bd42088c044ca26d73817a   408     0.0   \n",
       "228643  offer completed  fff3ba4757bd42088c044ca26d73817a   528     0.0   \n",
       "248948   offer received  fff3ba4757bd42088c044ca26d73817a   576     0.0   \n",
       "\n",
       "        reward                      portfolio_id   datetime  \n",
       "154453       0  2906b810c7d4411798c6938adc9daaa5 2020-05-18  \n",
       "228643       2  2906b810c7d4411798c6938adc9daaa5 2020-05-23  \n",
       "248948       0  2906b810c7d4411798c6938adc9daaa5 2020-05-25  "
      ]
     },
     "execution_count": 289,
     "metadata": {},
     "output_type": "execute_result"
    }
   ],
   "source": [
    "transcript[(transcript[\"customer_id\"] == \"fff3ba4757bd42088c044ca26d73817a\") & \\\n",
    "          (transcript[\"portfolio_id\"] == \"2906b810c7d4411798c6938adc9daaa5\")]"
   ]
  },
  {
   "cell_type": "markdown",
   "metadata": {},
   "source": [
    "Need to think about these scenarios:\n",
    "1. users complete none offers\n",
    "2. users completed one offer out of two times\n",
    "3. users completed all the offers\n",
    "\n",
    "Also need to think about if need to split the dataframe by offer type"
   ]
  },
  {
   "cell_type": "code",
   "execution_count": 270,
   "metadata": {},
   "outputs": [],
   "source": [
    "transcript_new_temp_df = transcript_new_temp_df[(transcript_new_temp_df[\"offer_received_time\"] <= transcript_new_temp_df[\"offer_completed_time\"])&\\\n",
    "       (transcript_new_temp_df[\"offer_end_time\"] >= transcript_new_temp_df[\"offer_completed_time\"])]"
   ]
  },
  {
   "cell_type": "code",
   "execution_count": 288,
   "metadata": {},
   "outputs": [
    {
     "data": {
      "text/plain": [
       "customer_id                       portfolio_id                    \n",
       "0009655768c64bdeb2e877511632db8f  2906b810c7d4411798c6938adc9daaa5    1.0\n",
       "                                  3f207df678b143eea3cee63160fa8bed    NaN\n",
       "                                  5a8bc65990b245e5a138643cd4eb9837    NaN\n",
       "                                  f19421c1d4aa40978ebb69ca19b0e20d    1.0\n",
       "                                  fafdcd668e3743c1bb461111dcafc2a4    1.0\n",
       "00116118485d4dfda04fdbaba9a87b5c  f19421c1d4aa40978ebb69ca19b0e20d    NaN\n",
       "0011e0d4e6b944f998e987f904e8c1e5  0b1e1539f2cc45b7b9fa7c272da2e1d7    1.0\n",
       "                                  2298d6c36e964ae4a3e7e9706d1fb8c2    1.0\n",
       "                                  3f207df678b143eea3cee63160fa8bed    NaN\n",
       "                                  5a8bc65990b245e5a138643cd4eb9837    NaN\n",
       "                                  9b98b8c7a33c4b65b9aebfe6a799e6d9    1.0\n",
       "0020c2b971eb4e9188eac86d93036a77  4d5c57ea9a6940dd891ad53e9dbe8da0    1.0\n",
       "                                  5a8bc65990b245e5a138643cd4eb9837    NaN\n",
       "                                  ae264e3637204a6fb9bb56bc8210ddfd    NaN\n",
       "                                  fafdcd668e3743c1bb461111dcafc2a4    1.0\n",
       "0020ccbbb6d84e358d3414a3ff76cffd  2298d6c36e964ae4a3e7e9706d1fb8c2    1.0\n",
       "                                  5a8bc65990b245e5a138643cd4eb9837    NaN\n",
       "                                  9b98b8c7a33c4b65b9aebfe6a799e6d9    1.0\n",
       "                                  f19421c1d4aa40978ebb69ca19b0e20d    1.0\n",
       "003d66b6608740288d6cc97a6903f4f0  0b1e1539f2cc45b7b9fa7c272da2e1d7    1.0\n",
       "                                  3f207df678b143eea3cee63160fa8bed    NaN\n",
       "                                  5a8bc65990b245e5a138643cd4eb9837    NaN\n",
       "                                  fafdcd668e3743c1bb461111dcafc2a4    1.0\n",
       "00426fe3ffde4c6b9cb9ad6d077a13ea  0b1e1539f2cc45b7b9fa7c272da2e1d7    NaN\n",
       "                                  2906b810c7d4411798c6938adc9daaa5    NaN\n",
       "                                  5a8bc65990b245e5a138643cd4eb9837    NaN\n",
       "                                  fafdcd668e3743c1bb461111dcafc2a4    1.0\n",
       "004b041fbfe44859945daa2c7f79ee64  3f207df678b143eea3cee63160fa8bed    NaN\n",
       "                                  f19421c1d4aa40978ebb69ca19b0e20d    1.0\n",
       "                                  fafdcd668e3743c1bb461111dcafc2a4    1.0\n",
       "                                                                     ... \n",
       "ffed75d3abc64b488982f50ed12878b5  4d5c57ea9a6940dd891ad53e9dbe8da0    NaN\n",
       "                                  ae264e3637204a6fb9bb56bc8210ddfd    NaN\n",
       "ffede3b700ac41d6a266fa1ba74b4f16  0b1e1539f2cc45b7b9fa7c272da2e1d7    NaN\n",
       "                                  4d5c57ea9a6940dd891ad53e9dbe8da0    NaN\n",
       "                                  f19421c1d4aa40978ebb69ca19b0e20d    NaN\n",
       "                                  fafdcd668e3743c1bb461111dcafc2a4    NaN\n",
       "fff0f0aac6c547b9b263080f09a5586a  3f207df678b143eea3cee63160fa8bed    NaN\n",
       "                                  4d5c57ea9a6940dd891ad53e9dbe8da0    NaN\n",
       "fff29fb549084123bd046dbc5ceb4faa  4d5c57ea9a6940dd891ad53e9dbe8da0    1.0\n",
       "                                  ae264e3637204a6fb9bb56bc8210ddfd    1.0\n",
       "                                  f19421c1d4aa40978ebb69ca19b0e20d    1.0\n",
       "                                  fafdcd668e3743c1bb461111dcafc2a4    1.0\n",
       "fff3ba4757bd42088c044ca26d73817a  2906b810c7d4411798c6938adc9daaa5    0.5\n",
       "                                  5a8bc65990b245e5a138643cd4eb9837    NaN\n",
       "                                  9b98b8c7a33c4b65b9aebfe6a799e6d9    1.0\n",
       "                                  fafdcd668e3743c1bb461111dcafc2a4    1.0\n",
       "fff7576017104bcc8677a8d63322b5e1  4d5c57ea9a6940dd891ad53e9dbe8da0    NaN\n",
       "                                  9b98b8c7a33c4b65b9aebfe6a799e6d9    1.0\n",
       "                                  ae264e3637204a6fb9bb56bc8210ddfd    NaN\n",
       "                                  fafdcd668e3743c1bb461111dcafc2a4    1.0\n",
       "fff8957ea8b240a6b5e634b6ee8eafcf  3f207df678b143eea3cee63160fa8bed    NaN\n",
       "                                  4d5c57ea9a6940dd891ad53e9dbe8da0    NaN\n",
       "                                  fafdcd668e3743c1bb461111dcafc2a4    NaN\n",
       "fffad4f4828548d1b5583907f2e9906b  5a8bc65990b245e5a138643cd4eb9837    NaN\n",
       "                                  9b98b8c7a33c4b65b9aebfe6a799e6d9    1.0\n",
       "                                  f19421c1d4aa40978ebb69ca19b0e20d    1.0\n",
       "ffff82501cea40309d5fdd7edcca4a07  0b1e1539f2cc45b7b9fa7c272da2e1d7    1.0\n",
       "                                  2906b810c7d4411798c6938adc9daaa5    1.0\n",
       "                                  9b98b8c7a33c4b65b9aebfe6a799e6d9    1.0\n",
       "                                  fafdcd668e3743c1bb461111dcafc2a4    1.0\n",
       "Name: time, Length: 63288, dtype: float64"
      ]
     },
     "execution_count": 288,
     "metadata": {},
     "output_type": "execute_result"
    }
   ],
   "source": [
    "transcript_new[transcript_new[\"event\"] == \"offer completed\"].groupby([\"customer_id\", \"portfolio_id\"])[\"time\"].count()\\\n",
    "/transcript_new[transcript_new[\"event\"] == \"offer received\"].groupby([\"customer_id\", \"portfolio_id\"])[\"time\"].count()"
   ]
  },
  {
   "cell_type": "code",
   "execution_count": 271,
   "metadata": {},
   "outputs": [
    {
     "data": {
      "text/plain": [
       "customer_id                       portfolio_id                    \n",
       "0009655768c64bdeb2e877511632db8f  2906b810c7d4411798c6938adc9daaa5    False\n",
       "                                  3f207df678b143eea3cee63160fa8bed    False\n",
       "                                  5a8bc65990b245e5a138643cd4eb9837    False\n",
       "                                  f19421c1d4aa40978ebb69ca19b0e20d    False\n",
       "                                  fafdcd668e3743c1bb461111dcafc2a4    False\n",
       "00116118485d4dfda04fdbaba9a87b5c  f19421c1d4aa40978ebb69ca19b0e20d     True\n",
       "0011e0d4e6b944f998e987f904e8c1e5  0b1e1539f2cc45b7b9fa7c272da2e1d7    False\n",
       "                                  2298d6c36e964ae4a3e7e9706d1fb8c2    False\n",
       "                                  3f207df678b143eea3cee63160fa8bed    False\n",
       "                                  5a8bc65990b245e5a138643cd4eb9837    False\n",
       "                                  9b98b8c7a33c4b65b9aebfe6a799e6d9    False\n",
       "0020c2b971eb4e9188eac86d93036a77  4d5c57ea9a6940dd891ad53e9dbe8da0    False\n",
       "                                  5a8bc65990b245e5a138643cd4eb9837    False\n",
       "                                  ae264e3637204a6fb9bb56bc8210ddfd    False\n",
       "                                  fafdcd668e3743c1bb461111dcafc2a4     True\n",
       "0020ccbbb6d84e358d3414a3ff76cffd  2298d6c36e964ae4a3e7e9706d1fb8c2    False\n",
       "                                  5a8bc65990b245e5a138643cd4eb9837    False\n",
       "                                  9b98b8c7a33c4b65b9aebfe6a799e6d9    False\n",
       "                                  f19421c1d4aa40978ebb69ca19b0e20d    False\n",
       "003d66b6608740288d6cc97a6903f4f0  0b1e1539f2cc45b7b9fa7c272da2e1d7    False\n",
       "                                  3f207df678b143eea3cee63160fa8bed    False\n",
       "                                  5a8bc65990b245e5a138643cd4eb9837    False\n",
       "                                  fafdcd668e3743c1bb461111dcafc2a4     True\n",
       "00426fe3ffde4c6b9cb9ad6d077a13ea  0b1e1539f2cc45b7b9fa7c272da2e1d7    False\n",
       "                                  2906b810c7d4411798c6938adc9daaa5     True\n",
       "                                  5a8bc65990b245e5a138643cd4eb9837    False\n",
       "                                  fafdcd668e3743c1bb461111dcafc2a4    False\n",
       "004b041fbfe44859945daa2c7f79ee64  3f207df678b143eea3cee63160fa8bed    False\n",
       "                                  f19421c1d4aa40978ebb69ca19b0e20d    False\n",
       "                                  fafdcd668e3743c1bb461111dcafc2a4    False\n",
       "                                                                      ...  \n",
       "ffed75d3abc64b488982f50ed12878b5  4d5c57ea9a6940dd891ad53e9dbe8da0    False\n",
       "                                  ae264e3637204a6fb9bb56bc8210ddfd    False\n",
       "ffede3b700ac41d6a266fa1ba74b4f16  0b1e1539f2cc45b7b9fa7c272da2e1d7    False\n",
       "                                  4d5c57ea9a6940dd891ad53e9dbe8da0    False\n",
       "                                  f19421c1d4aa40978ebb69ca19b0e20d    False\n",
       "                                  fafdcd668e3743c1bb461111dcafc2a4    False\n",
       "fff0f0aac6c547b9b263080f09a5586a  3f207df678b143eea3cee63160fa8bed     True\n",
       "                                  4d5c57ea9a6940dd891ad53e9dbe8da0    False\n",
       "fff29fb549084123bd046dbc5ceb4faa  4d5c57ea9a6940dd891ad53e9dbe8da0     True\n",
       "                                  ae264e3637204a6fb9bb56bc8210ddfd     True\n",
       "                                  f19421c1d4aa40978ebb69ca19b0e20d    False\n",
       "                                  fafdcd668e3743c1bb461111dcafc2a4    False\n",
       "fff3ba4757bd42088c044ca26d73817a  2906b810c7d4411798c6938adc9daaa5     True\n",
       "                                  5a8bc65990b245e5a138643cd4eb9837     True\n",
       "                                  9b98b8c7a33c4b65b9aebfe6a799e6d9    False\n",
       "                                  fafdcd668e3743c1bb461111dcafc2a4    False\n",
       "fff7576017104bcc8677a8d63322b5e1  4d5c57ea9a6940dd891ad53e9dbe8da0    False\n",
       "                                  9b98b8c7a33c4b65b9aebfe6a799e6d9    False\n",
       "                                  ae264e3637204a6fb9bb56bc8210ddfd    False\n",
       "                                  fafdcd668e3743c1bb461111dcafc2a4     True\n",
       "fff8957ea8b240a6b5e634b6ee8eafcf  3f207df678b143eea3cee63160fa8bed    False\n",
       "                                  4d5c57ea9a6940dd891ad53e9dbe8da0    False\n",
       "                                  fafdcd668e3743c1bb461111dcafc2a4    False\n",
       "fffad4f4828548d1b5583907f2e9906b  5a8bc65990b245e5a138643cd4eb9837    False\n",
       "                                  9b98b8c7a33c4b65b9aebfe6a799e6d9    False\n",
       "                                  f19421c1d4aa40978ebb69ca19b0e20d     True\n",
       "ffff82501cea40309d5fdd7edcca4a07  0b1e1539f2cc45b7b9fa7c272da2e1d7    False\n",
       "                                  2906b810c7d4411798c6938adc9daaa5     True\n",
       "                                  9b98b8c7a33c4b65b9aebfe6a799e6d9    False\n",
       "                                  fafdcd668e3743c1bb461111dcafc2a4    False\n",
       "Name: time, Length: 63288, dtype: bool"
      ]
     },
     "execution_count": 271,
     "metadata": {},
     "output_type": "execute_result"
    }
   ],
   "source": [
    "transcript_new[transcript_new[\"event\"] == \"offer received\"].groupby([\"customer_id\", \"portfolio_id\"])[\"time\"].count() > 1"
   ]
  },
  {
   "cell_type": "code",
   "execution_count": 246,
   "metadata": {
    "scrolled": true
   },
   "outputs": [],
   "source": [
    "test_done_df = transcript_done_df[(transcript_done_df[\"customer_id\"] == \"0020c2b971eb4e9188eac86d93036a77\")\\\n",
    "                  & (transcript_done_df[\"portfolio_id\"] == \"fafdcd668e3743c1bb461111dcafc2a4\")]"
   ]
  },
  {
   "cell_type": "code",
   "execution_count": 247,
   "metadata": {
    "scrolled": true
   },
   "outputs": [],
   "source": [
    "test_end_df = transcript_end_df[(transcript_end_df[\"customer_id\"] == \"0020c2b971eb4e9188eac86d93036a77\")\\\n",
    "                  & (transcript_end_df[\"portfolio_id\"] == \"fafdcd668e3743c1bb461111dcafc2a4\")]"
   ]
  },
  {
   "cell_type": "code",
   "execution_count": 248,
   "metadata": {},
   "outputs": [],
   "source": [
    "test_df = test_end_df.merge(test_done_df, how = \"outer\", on = [\"customer_id\", \"portfolio_id\"])"
   ]
  },
  {
   "cell_type": "code",
   "execution_count": 251,
   "metadata": {
    "scrolled": true
   },
   "outputs": [
    {
     "data": {
      "text/html": [
       "<div>\n",
       "<style scoped>\n",
       "    .dataframe tbody tr th:only-of-type {\n",
       "        vertical-align: middle;\n",
       "    }\n",
       "\n",
       "    .dataframe tbody tr th {\n",
       "        vertical-align: top;\n",
       "    }\n",
       "\n",
       "    .dataframe thead th {\n",
       "        text-align: right;\n",
       "    }\n",
       "</style>\n",
       "<table border=\"1\" class=\"dataframe\">\n",
       "  <thead>\n",
       "    <tr style=\"text-align: right;\">\n",
       "      <th></th>\n",
       "      <th>customer_id</th>\n",
       "      <th>portfolio_id</th>\n",
       "      <th>offer_received_time_start</th>\n",
       "      <th>offer_end_time</th>\n",
       "      <th>offer_completed_time</th>\n",
       "      <th>offer_start_time_end</th>\n",
       "    </tr>\n",
       "  </thead>\n",
       "  <tbody>\n",
       "    <tr>\n",
       "      <th>0</th>\n",
       "      <td>0020c2b971eb4e9188eac86d93036a77</td>\n",
       "      <td>fafdcd668e3743c1bb461111dcafc2a4</td>\n",
       "      <td>0</td>\n",
       "      <td>240.0</td>\n",
       "      <td>54</td>\n",
       "      <td>0.0</td>\n",
       "    </tr>\n",
       "    <tr>\n",
       "      <th>1</th>\n",
       "      <td>0020c2b971eb4e9188eac86d93036a77</td>\n",
       "      <td>fafdcd668e3743c1bb461111dcafc2a4</td>\n",
       "      <td>0</td>\n",
       "      <td>240.0</td>\n",
       "      <td>510</td>\n",
       "      <td>270.0</td>\n",
       "    </tr>\n",
       "    <tr>\n",
       "      <th>2</th>\n",
       "      <td>0020c2b971eb4e9188eac86d93036a77</td>\n",
       "      <td>fafdcd668e3743c1bb461111dcafc2a4</td>\n",
       "      <td>336</td>\n",
       "      <td>576.0</td>\n",
       "      <td>54</td>\n",
       "      <td>0.0</td>\n",
       "    </tr>\n",
       "    <tr>\n",
       "      <th>3</th>\n",
       "      <td>0020c2b971eb4e9188eac86d93036a77</td>\n",
       "      <td>fafdcd668e3743c1bb461111dcafc2a4</td>\n",
       "      <td>336</td>\n",
       "      <td>576.0</td>\n",
       "      <td>510</td>\n",
       "      <td>270.0</td>\n",
       "    </tr>\n",
       "  </tbody>\n",
       "</table>\n",
       "</div>"
      ],
      "text/plain": [
       "                        customer_id                      portfolio_id  \\\n",
       "0  0020c2b971eb4e9188eac86d93036a77  fafdcd668e3743c1bb461111dcafc2a4   \n",
       "1  0020c2b971eb4e9188eac86d93036a77  fafdcd668e3743c1bb461111dcafc2a4   \n",
       "2  0020c2b971eb4e9188eac86d93036a77  fafdcd668e3743c1bb461111dcafc2a4   \n",
       "3  0020c2b971eb4e9188eac86d93036a77  fafdcd668e3743c1bb461111dcafc2a4   \n",
       "\n",
       "   offer_received_time_start  offer_end_time  offer_completed_time  \\\n",
       "0                          0           240.0                    54   \n",
       "1                          0           240.0                   510   \n",
       "2                        336           576.0                    54   \n",
       "3                        336           576.0                   510   \n",
       "\n",
       "   offer_start_time_end  \n",
       "0                   0.0  \n",
       "1                 270.0  \n",
       "2                   0.0  \n",
       "3                 270.0  "
      ]
     },
     "execution_count": 251,
     "metadata": {},
     "output_type": "execute_result"
    }
   ],
   "source": [
    "test_df"
   ]
  },
  {
   "cell_type": "code",
   "execution_count": 254,
   "metadata": {},
   "outputs": [
    {
     "data": {
      "text/html": [
       "<div>\n",
       "<style scoped>\n",
       "    .dataframe tbody tr th:only-of-type {\n",
       "        vertical-align: middle;\n",
       "    }\n",
       "\n",
       "    .dataframe tbody tr th {\n",
       "        vertical-align: top;\n",
       "    }\n",
       "\n",
       "    .dataframe thead th {\n",
       "        text-align: right;\n",
       "    }\n",
       "</style>\n",
       "<table border=\"1\" class=\"dataframe\">\n",
       "  <thead>\n",
       "    <tr style=\"text-align: right;\">\n",
       "      <th></th>\n",
       "      <th>event</th>\n",
       "      <th>customer_id</th>\n",
       "      <th>time</th>\n",
       "      <th>amount</th>\n",
       "      <th>reward</th>\n",
       "      <th>portfolio_id</th>\n",
       "      <th>datetime</th>\n",
       "    </tr>\n",
       "  </thead>\n",
       "  <tbody>\n",
       "    <tr>\n",
       "      <th>1889</th>\n",
       "      <td>offer received</td>\n",
       "      <td>0020c2b971eb4e9188eac86d93036a77</td>\n",
       "      <td>0</td>\n",
       "      <td>0.0</td>\n",
       "      <td>0</td>\n",
       "      <td>fafdcd668e3743c1bb461111dcafc2a4</td>\n",
       "      <td>2020-05-01 00:00:00</td>\n",
       "    </tr>\n",
       "    <tr>\n",
       "      <th>18431</th>\n",
       "      <td>offer viewed</td>\n",
       "      <td>0020c2b971eb4e9188eac86d93036a77</td>\n",
       "      <td>12</td>\n",
       "      <td>0.0</td>\n",
       "      <td>0</td>\n",
       "      <td>fafdcd668e3743c1bb461111dcafc2a4</td>\n",
       "      <td>2020-05-01 12:00:00</td>\n",
       "    </tr>\n",
       "    <tr>\n",
       "      <th>31327</th>\n",
       "      <td>offer completed</td>\n",
       "      <td>0020c2b971eb4e9188eac86d93036a77</td>\n",
       "      <td>54</td>\n",
       "      <td>0.0</td>\n",
       "      <td>2</td>\n",
       "      <td>fafdcd668e3743c1bb461111dcafc2a4</td>\n",
       "      <td>2020-05-03 06:00:00</td>\n",
       "    </tr>\n",
       "    <tr>\n",
       "      <th>112698</th>\n",
       "      <td>offer received</td>\n",
       "      <td>0020c2b971eb4e9188eac86d93036a77</td>\n",
       "      <td>336</td>\n",
       "      <td>0.0</td>\n",
       "      <td>0</td>\n",
       "      <td>fafdcd668e3743c1bb461111dcafc2a4</td>\n",
       "      <td>2020-05-15 00:00:00</td>\n",
       "    </tr>\n",
       "    <tr>\n",
       "      <th>218936</th>\n",
       "      <td>offer completed</td>\n",
       "      <td>0020c2b971eb4e9188eac86d93036a77</td>\n",
       "      <td>510</td>\n",
       "      <td>0.0</td>\n",
       "      <td>2</td>\n",
       "      <td>fafdcd668e3743c1bb461111dcafc2a4</td>\n",
       "      <td>2020-05-22 06:00:00</td>\n",
       "    </tr>\n",
       "  </tbody>\n",
       "</table>\n",
       "</div>"
      ],
      "text/plain": [
       "                  event                       customer_id  time  amount  \\\n",
       "1889     offer received  0020c2b971eb4e9188eac86d93036a77     0     0.0   \n",
       "18431      offer viewed  0020c2b971eb4e9188eac86d93036a77    12     0.0   \n",
       "31327   offer completed  0020c2b971eb4e9188eac86d93036a77    54     0.0   \n",
       "112698   offer received  0020c2b971eb4e9188eac86d93036a77   336     0.0   \n",
       "218936  offer completed  0020c2b971eb4e9188eac86d93036a77   510     0.0   \n",
       "\n",
       "        reward                      portfolio_id            datetime  \n",
       "1889         0  fafdcd668e3743c1bb461111dcafc2a4 2020-05-01 00:00:00  \n",
       "18431        0  fafdcd668e3743c1bb461111dcafc2a4 2020-05-01 12:00:00  \n",
       "31327        2  fafdcd668e3743c1bb461111dcafc2a4 2020-05-03 06:00:00  \n",
       "112698       0  fafdcd668e3743c1bb461111dcafc2a4 2020-05-15 00:00:00  \n",
       "218936       2  fafdcd668e3743c1bb461111dcafc2a4 2020-05-22 06:00:00  "
      ]
     },
     "execution_count": 254,
     "metadata": {},
     "output_type": "execute_result"
    }
   ],
   "source": [
    "transcript[(transcript[\"customer_id\"] == \"0020c2b971eb4e9188eac86d93036a77\") & \\\n",
    "          (transcript[\"portfolio_id\"] == \"fafdcd668e3743c1bb461111dcafc2a4\")]"
   ]
  },
  {
   "cell_type": "code",
   "execution_count": 253,
   "metadata": {},
   "outputs": [
    {
     "data": {
      "text/html": [
       "<div>\n",
       "<style scoped>\n",
       "    .dataframe tbody tr th:only-of-type {\n",
       "        vertical-align: middle;\n",
       "    }\n",
       "\n",
       "    .dataframe tbody tr th {\n",
       "        vertical-align: top;\n",
       "    }\n",
       "\n",
       "    .dataframe thead th {\n",
       "        text-align: right;\n",
       "    }\n",
       "</style>\n",
       "<table border=\"1\" class=\"dataframe\">\n",
       "  <thead>\n",
       "    <tr style=\"text-align: right;\">\n",
       "      <th></th>\n",
       "      <th>customer_id</th>\n",
       "      <th>portfolio_id</th>\n",
       "      <th>offer_received_time_start</th>\n",
       "      <th>offer_end_time</th>\n",
       "      <th>offer_completed_time</th>\n",
       "      <th>offer_start_time_end</th>\n",
       "    </tr>\n",
       "  </thead>\n",
       "  <tbody>\n",
       "    <tr>\n",
       "      <th>0</th>\n",
       "      <td>0020c2b971eb4e9188eac86d93036a77</td>\n",
       "      <td>fafdcd668e3743c1bb461111dcafc2a4</td>\n",
       "      <td>0</td>\n",
       "      <td>240.0</td>\n",
       "      <td>54</td>\n",
       "      <td>0.0</td>\n",
       "    </tr>\n",
       "    <tr>\n",
       "      <th>3</th>\n",
       "      <td>0020c2b971eb4e9188eac86d93036a77</td>\n",
       "      <td>fafdcd668e3743c1bb461111dcafc2a4</td>\n",
       "      <td>336</td>\n",
       "      <td>576.0</td>\n",
       "      <td>510</td>\n",
       "      <td>270.0</td>\n",
       "    </tr>\n",
       "  </tbody>\n",
       "</table>\n",
       "</div>"
      ],
      "text/plain": [
       "                        customer_id                      portfolio_id  \\\n",
       "0  0020c2b971eb4e9188eac86d93036a77  fafdcd668e3743c1bb461111dcafc2a4   \n",
       "3  0020c2b971eb4e9188eac86d93036a77  fafdcd668e3743c1bb461111dcafc2a4   \n",
       "\n",
       "   offer_received_time_start  offer_end_time  offer_completed_time  \\\n",
       "0                          0           240.0                    54   \n",
       "3                        336           576.0                   510   \n",
       "\n",
       "   offer_start_time_end  \n",
       "0                   0.0  \n",
       "3                 270.0  "
      ]
     },
     "execution_count": 253,
     "metadata": {},
     "output_type": "execute_result"
    }
   ],
   "source": [
    "test_df[(test_df[\"offer_received_time_start\"] <= test_df[\"offer_completed_time\"])&\\\n",
    "       (test_df[\"offer_end_time\"] >= test_df[\"offer_completed_time\"])\n",
    "       ]"
   ]
  },
  {
   "cell_type": "markdown",
   "metadata": {},
   "source": [
    "# Match transactions with offers (The Assumption is not true. Need to redo)"
   ]
  },
  {
   "cell_type": "code",
   "execution_count": 228,
   "metadata": {},
   "outputs": [],
   "source": [
    "offer_com_df = transcript.loc[(transcript[\"portfolio_id\"] != 0) & (transcript[\"event\"] == \"offer completed\"), \\\n",
    "                           [\"event\", \"customer_id\", \"portfolio_id\", \"time\"]]\n",
    "trans_df = transcript.loc[(transcript[\"portfolio_id\"] == 0), [\"customer_id\", \"time\", \"amount\"]]"
   ]
  },
  {
   "cell_type": "code",
   "execution_count": 229,
   "metadata": {},
   "outputs": [],
   "source": [
    "com_trans_df = offer_com_df.merge(trans_df, on =[\"customer_id\", \"time\"], how=\"outer\")"
   ]
  },
  {
   "cell_type": "code",
   "execution_count": 230,
   "metadata": {},
   "outputs": [
    {
     "data": {
      "text/html": [
       "<div>\n",
       "<style scoped>\n",
       "    .dataframe tbody tr th:only-of-type {\n",
       "        vertical-align: middle;\n",
       "    }\n",
       "\n",
       "    .dataframe tbody tr th {\n",
       "        vertical-align: top;\n",
       "    }\n",
       "\n",
       "    .dataframe thead th {\n",
       "        text-align: right;\n",
       "    }\n",
       "</style>\n",
       "<table border=\"1\" class=\"dataframe\">\n",
       "  <thead>\n",
       "    <tr style=\"text-align: right;\">\n",
       "      <th></th>\n",
       "      <th>event</th>\n",
       "      <th>customer_id</th>\n",
       "      <th>portfolio_id</th>\n",
       "      <th>time</th>\n",
       "      <th>amount</th>\n",
       "    </tr>\n",
       "  </thead>\n",
       "  <tbody>\n",
       "    <tr>\n",
       "      <th>0</th>\n",
       "      <td>offer completed</td>\n",
       "      <td>9fa9ae8f57894cc9a3b8a9bbe0fc1b2f</td>\n",
       "      <td>2906b810c7d4411798c6938adc9daaa5</td>\n",
       "      <td>0</td>\n",
       "      <td>34.56</td>\n",
       "    </tr>\n",
       "    <tr>\n",
       "      <th>1</th>\n",
       "      <td>offer completed</td>\n",
       "      <td>fe97aa22dd3e48c8b143116a8403dd52</td>\n",
       "      <td>fafdcd668e3743c1bb461111dcafc2a4</td>\n",
       "      <td>0</td>\n",
       "      <td>18.97</td>\n",
       "    </tr>\n",
       "    <tr>\n",
       "      <th>2</th>\n",
       "      <td>offer completed</td>\n",
       "      <td>629fc02d56414d91bca360decdfa9288</td>\n",
       "      <td>9b98b8c7a33c4b65b9aebfe6a799e6d9</td>\n",
       "      <td>0</td>\n",
       "      <td>33.90</td>\n",
       "    </tr>\n",
       "    <tr>\n",
       "      <th>3</th>\n",
       "      <td>offer completed</td>\n",
       "      <td>676506bad68e4161b9bbaffeb039626b</td>\n",
       "      <td>ae264e3637204a6fb9bb56bc8210ddfd</td>\n",
       "      <td>0</td>\n",
       "      <td>18.01</td>\n",
       "    </tr>\n",
       "    <tr>\n",
       "      <th>4</th>\n",
       "      <td>offer completed</td>\n",
       "      <td>8f7dd3b2afe14c078eb4f6e6fe4ba97d</td>\n",
       "      <td>4d5c57ea9a6940dd891ad53e9dbe8da0</td>\n",
       "      <td>0</td>\n",
       "      <td>19.11</td>\n",
       "    </tr>\n",
       "  </tbody>\n",
       "</table>\n",
       "</div>"
      ],
      "text/plain": [
       "             event                       customer_id  \\\n",
       "0  offer completed  9fa9ae8f57894cc9a3b8a9bbe0fc1b2f   \n",
       "1  offer completed  fe97aa22dd3e48c8b143116a8403dd52   \n",
       "2  offer completed  629fc02d56414d91bca360decdfa9288   \n",
       "3  offer completed  676506bad68e4161b9bbaffeb039626b   \n",
       "4  offer completed  8f7dd3b2afe14c078eb4f6e6fe4ba97d   \n",
       "\n",
       "                       portfolio_id  time  amount  \n",
       "0  2906b810c7d4411798c6938adc9daaa5     0   34.56  \n",
       "1  fafdcd668e3743c1bb461111dcafc2a4     0   18.97  \n",
       "2  9b98b8c7a33c4b65b9aebfe6a799e6d9     0   33.90  \n",
       "3  ae264e3637204a6fb9bb56bc8210ddfd     0   18.01  \n",
       "4  4d5c57ea9a6940dd891ad53e9dbe8da0     0   19.11  "
      ]
     },
     "execution_count": 230,
     "metadata": {},
     "output_type": "execute_result"
    }
   ],
   "source": [
    "com_trans_df.head()"
   ]
  },
  {
   "cell_type": "code",
   "execution_count": 231,
   "metadata": {},
   "outputs": [],
   "source": [
    "trans_w_offer_df = com_trans_df[~com_trans_df[\"event\"].isnull()]\n",
    "trans_wo_offer_df = com_trans_df[com_trans_df[\"event\"].isnull()]"
   ]
  },
  {
   "cell_type": "code",
   "execution_count": 232,
   "metadata": {},
   "outputs": [],
   "source": [
    "trans_w_offer_df = trans_w_offer_df.drop(columns = [\"event\"])"
   ]
  },
  {
   "cell_type": "code",
   "execution_count": 233,
   "metadata": {},
   "outputs": [],
   "source": [
    "trans_w_offer_matrix = trans_w_offer_df.groupby([\"customer_id\", \"portfolio_id\"])\\\n",
    ".agg({\"time\":pd.Series.nunique, \"amount\":sum}).reset_index()"
   ]
  },
  {
   "cell_type": "code",
   "execution_count": 234,
   "metadata": {
    "scrolled": true
   },
   "outputs": [
    {
     "data": {
      "text/html": [
       "<div>\n",
       "<style scoped>\n",
       "    .dataframe tbody tr th:only-of-type {\n",
       "        vertical-align: middle;\n",
       "    }\n",
       "\n",
       "    .dataframe tbody tr th {\n",
       "        vertical-align: top;\n",
       "    }\n",
       "\n",
       "    .dataframe thead th {\n",
       "        text-align: right;\n",
       "    }\n",
       "</style>\n",
       "<table border=\"1\" class=\"dataframe\">\n",
       "  <thead>\n",
       "    <tr style=\"text-align: right;\">\n",
       "      <th></th>\n",
       "      <th>customer_id</th>\n",
       "      <th>portfolio_id</th>\n",
       "      <th>time</th>\n",
       "      <th>amount</th>\n",
       "    </tr>\n",
       "  </thead>\n",
       "  <tbody>\n",
       "    <tr>\n",
       "      <th>0</th>\n",
       "      <td>0009655768c64bdeb2e877511632db8f</td>\n",
       "      <td>2906b810c7d4411798c6938adc9daaa5</td>\n",
       "      <td>1</td>\n",
       "      <td>10.27</td>\n",
       "    </tr>\n",
       "    <tr>\n",
       "      <th>1</th>\n",
       "      <td>0009655768c64bdeb2e877511632db8f</td>\n",
       "      <td>f19421c1d4aa40978ebb69ca19b0e20d</td>\n",
       "      <td>1</td>\n",
       "      <td>8.57</td>\n",
       "    </tr>\n",
       "    <tr>\n",
       "      <th>2</th>\n",
       "      <td>0009655768c64bdeb2e877511632db8f</td>\n",
       "      <td>fafdcd668e3743c1bb461111dcafc2a4</td>\n",
       "      <td>1</td>\n",
       "      <td>14.11</td>\n",
       "    </tr>\n",
       "    <tr>\n",
       "      <th>3</th>\n",
       "      <td>0011e0d4e6b944f998e987f904e8c1e5</td>\n",
       "      <td>0b1e1539f2cc45b7b9fa7c272da2e1d7</td>\n",
       "      <td>1</td>\n",
       "      <td>22.05</td>\n",
       "    </tr>\n",
       "    <tr>\n",
       "      <th>4</th>\n",
       "      <td>0011e0d4e6b944f998e987f904e8c1e5</td>\n",
       "      <td>2298d6c36e964ae4a3e7e9706d1fb8c2</td>\n",
       "      <td>1</td>\n",
       "      <td>11.93</td>\n",
       "    </tr>\n",
       "  </tbody>\n",
       "</table>\n",
       "</div>"
      ],
      "text/plain": [
       "                        customer_id                      portfolio_id  time  \\\n",
       "0  0009655768c64bdeb2e877511632db8f  2906b810c7d4411798c6938adc9daaa5     1   \n",
       "1  0009655768c64bdeb2e877511632db8f  f19421c1d4aa40978ebb69ca19b0e20d     1   \n",
       "2  0009655768c64bdeb2e877511632db8f  fafdcd668e3743c1bb461111dcafc2a4     1   \n",
       "3  0011e0d4e6b944f998e987f904e8c1e5  0b1e1539f2cc45b7b9fa7c272da2e1d7     1   \n",
       "4  0011e0d4e6b944f998e987f904e8c1e5  2298d6c36e964ae4a3e7e9706d1fb8c2     1   \n",
       "\n",
       "   amount  \n",
       "0   10.27  \n",
       "1    8.57  \n",
       "2   14.11  \n",
       "3   22.05  \n",
       "4   11.93  "
      ]
     },
     "execution_count": 234,
     "metadata": {},
     "output_type": "execute_result"
    }
   ],
   "source": [
    "trans_w_offer_matrix.head()"
   ]
  },
  {
   "cell_type": "code",
   "execution_count": 235,
   "metadata": {},
   "outputs": [],
   "source": [
    "trans_w_offer_matrix = trans_w_offer_matrix.rename(columns={\"time\":\"w_offer_shopping_times\", \\\n",
    "                                                                  \"amount\":\"w_offer_shopping_amount\"})"
   ]
  },
  {
   "cell_type": "code",
   "execution_count": 236,
   "metadata": {},
   "outputs": [
    {
     "data": {
      "text/html": [
       "<div>\n",
       "<style scoped>\n",
       "    .dataframe tbody tr th:only-of-type {\n",
       "        vertical-align: middle;\n",
       "    }\n",
       "\n",
       "    .dataframe tbody tr th {\n",
       "        vertical-align: top;\n",
       "    }\n",
       "\n",
       "    .dataframe thead th {\n",
       "        text-align: right;\n",
       "    }\n",
       "</style>\n",
       "<table border=\"1\" class=\"dataframe\">\n",
       "  <thead>\n",
       "    <tr style=\"text-align: right;\">\n",
       "      <th></th>\n",
       "      <th>customer_id</th>\n",
       "      <th>portfolio_id</th>\n",
       "      <th>w_offer_shopping_times</th>\n",
       "      <th>w_offer_shopping_amount</th>\n",
       "    </tr>\n",
       "  </thead>\n",
       "  <tbody>\n",
       "    <tr>\n",
       "      <th>9807</th>\n",
       "      <td>56630668a08842a38f32bf4f7bfa4125</td>\n",
       "      <td>2906b810c7d4411798c6938adc9daaa5</td>\n",
       "      <td>3</td>\n",
       "      <td>58.25</td>\n",
       "    </tr>\n",
       "  </tbody>\n",
       "</table>\n",
       "</div>"
      ],
      "text/plain": [
       "                           customer_id                      portfolio_id  \\\n",
       "9807  56630668a08842a38f32bf4f7bfa4125  2906b810c7d4411798c6938adc9daaa5   \n",
       "\n",
       "      w_offer_shopping_times  w_offer_shopping_amount  \n",
       "9807                       3                    58.25  "
      ]
     },
     "execution_count": 236,
     "metadata": {},
     "output_type": "execute_result"
    }
   ],
   "source": [
    "trans_w_offer_matrix[(trans_w_offer_matrix[\"customer_id\"] == \"56630668a08842a38f32bf4f7bfa4125\") & \\\n",
    "               (trans_w_offer_matrix[\"portfolio_id\"] == \"2906b810c7d4411798c6938adc9daaa5\")]"
   ]
  },
  {
   "cell_type": "code",
   "execution_count": 237,
   "metadata": {
    "scrolled": false
   },
   "outputs": [
    {
     "data": {
      "text/html": [
       "<div>\n",
       "<style scoped>\n",
       "    .dataframe tbody tr th:only-of-type {\n",
       "        vertical-align: middle;\n",
       "    }\n",
       "\n",
       "    .dataframe tbody tr th {\n",
       "        vertical-align: top;\n",
       "    }\n",
       "\n",
       "    .dataframe thead th {\n",
       "        text-align: right;\n",
       "    }\n",
       "</style>\n",
       "<table border=\"1\" class=\"dataframe\">\n",
       "  <thead>\n",
       "    <tr style=\"text-align: right;\">\n",
       "      <th></th>\n",
       "      <th>customer_id</th>\n",
       "      <th>portfolio_id</th>\n",
       "      <th>time</th>\n",
       "      <th>amount</th>\n",
       "    </tr>\n",
       "  </thead>\n",
       "  <tbody>\n",
       "    <tr>\n",
       "      <th>503</th>\n",
       "      <td>56630668a08842a38f32bf4f7bfa4125</td>\n",
       "      <td>2906b810c7d4411798c6938adc9daaa5</td>\n",
       "      <td>12</td>\n",
       "      <td>17.29</td>\n",
       "    </tr>\n",
       "    <tr>\n",
       "      <th>13282</th>\n",
       "      <td>56630668a08842a38f32bf4f7bfa4125</td>\n",
       "      <td>2906b810c7d4411798c6938adc9daaa5</td>\n",
       "      <td>390</td>\n",
       "      <td>21.24</td>\n",
       "    </tr>\n",
       "    <tr>\n",
       "      <th>29736</th>\n",
       "      <td>56630668a08842a38f32bf4f7bfa4125</td>\n",
       "      <td>2906b810c7d4411798c6938adc9daaa5</td>\n",
       "      <td>618</td>\n",
       "      <td>19.72</td>\n",
       "    </tr>\n",
       "  </tbody>\n",
       "</table>\n",
       "</div>"
      ],
      "text/plain": [
       "                            customer_id                      portfolio_id  \\\n",
       "503    56630668a08842a38f32bf4f7bfa4125  2906b810c7d4411798c6938adc9daaa5   \n",
       "13282  56630668a08842a38f32bf4f7bfa4125  2906b810c7d4411798c6938adc9daaa5   \n",
       "29736  56630668a08842a38f32bf4f7bfa4125  2906b810c7d4411798c6938adc9daaa5   \n",
       "\n",
       "       time  amount  \n",
       "503      12   17.29  \n",
       "13282   390   21.24  \n",
       "29736   618   19.72  "
      ]
     },
     "execution_count": 237,
     "metadata": {},
     "output_type": "execute_result"
    }
   ],
   "source": [
    "trans_w_offer_df[(trans_w_offer_df[\"customer_id\"] == \"56630668a08842a38f32bf4f7bfa4125\") & \\\n",
    "               (trans_w_offer_df[\"portfolio_id\"] == \"2906b810c7d4411798c6938adc9daaa5\")].sort_values(\"time\")"
   ]
  },
  {
   "cell_type": "code",
   "execution_count": 238,
   "metadata": {},
   "outputs": [
    {
     "data": {
      "text/html": [
       "<div>\n",
       "<style scoped>\n",
       "    .dataframe tbody tr th:only-of-type {\n",
       "        vertical-align: middle;\n",
       "    }\n",
       "\n",
       "    .dataframe tbody tr th {\n",
       "        vertical-align: top;\n",
       "    }\n",
       "\n",
       "    .dataframe thead th {\n",
       "        text-align: right;\n",
       "    }\n",
       "</style>\n",
       "<table border=\"1\" class=\"dataframe\">\n",
       "  <thead>\n",
       "    <tr style=\"text-align: right;\">\n",
       "      <th></th>\n",
       "      <th>event</th>\n",
       "      <th>customer_id</th>\n",
       "      <th>portfolio_id</th>\n",
       "      <th>time</th>\n",
       "      <th>amount</th>\n",
       "    </tr>\n",
       "  </thead>\n",
       "  <tbody>\n",
       "    <tr>\n",
       "      <th>33579</th>\n",
       "      <td>NaN</td>\n",
       "      <td>02c083884c7d45b39cc68e1314fec56c</td>\n",
       "      <td>NaN</td>\n",
       "      <td>0</td>\n",
       "      <td>0.83</td>\n",
       "    </tr>\n",
       "    <tr>\n",
       "      <th>33580</th>\n",
       "      <td>NaN</td>\n",
       "      <td>54890f68699049c2a04d415abc25e717</td>\n",
       "      <td>NaN</td>\n",
       "      <td>0</td>\n",
       "      <td>13.23</td>\n",
       "    </tr>\n",
       "    <tr>\n",
       "      <th>33581</th>\n",
       "      <td>NaN</td>\n",
       "      <td>b2f1cd155b864803ad8334cdf13c4bd2</td>\n",
       "      <td>NaN</td>\n",
       "      <td>0</td>\n",
       "      <td>19.51</td>\n",
       "    </tr>\n",
       "    <tr>\n",
       "      <th>33582</th>\n",
       "      <td>NaN</td>\n",
       "      <td>bbeb54e861614fc7b22a8844f72dca6c</td>\n",
       "      <td>NaN</td>\n",
       "      <td>0</td>\n",
       "      <td>0.22</td>\n",
       "    </tr>\n",
       "    <tr>\n",
       "      <th>33583</th>\n",
       "      <td>NaN</td>\n",
       "      <td>a97e6f33219c432db82acfa0d19c602d</td>\n",
       "      <td>NaN</td>\n",
       "      <td>0</td>\n",
       "      <td>18.59</td>\n",
       "    </tr>\n",
       "  </tbody>\n",
       "</table>\n",
       "</div>"
      ],
      "text/plain": [
       "      event                       customer_id portfolio_id  time  amount\n",
       "33579   NaN  02c083884c7d45b39cc68e1314fec56c          NaN     0    0.83\n",
       "33580   NaN  54890f68699049c2a04d415abc25e717          NaN     0   13.23\n",
       "33581   NaN  b2f1cd155b864803ad8334cdf13c4bd2          NaN     0   19.51\n",
       "33582   NaN  bbeb54e861614fc7b22a8844f72dca6c          NaN     0    0.22\n",
       "33583   NaN  a97e6f33219c432db82acfa0d19c602d          NaN     0   18.59"
      ]
     },
     "execution_count": 238,
     "metadata": {},
     "output_type": "execute_result"
    }
   ],
   "source": [
    "trans_wo_offer_df.head()"
   ]
  },
  {
   "cell_type": "code",
   "execution_count": 239,
   "metadata": {},
   "outputs": [],
   "source": [
    "trans_wo_offer_matrix = trans_wo_offer_df.groupby(\"customer_id\"). \\\n",
    "agg({\"time\":pd.Series.nunique, \"amount\":sum}).reset_index()"
   ]
  },
  {
   "cell_type": "code",
   "execution_count": 240,
   "metadata": {},
   "outputs": [],
   "source": [
    "trans_wo_offer_matrix = trans_wo_offer_matrix.rename(columns={\"time\":\"wo_offer_shopping_times\", \\\n",
    "                               \"amount\":\"wo_offer_shopping_amount\"})"
   ]
  },
  {
   "cell_type": "code",
   "execution_count": 241,
   "metadata": {
    "scrolled": false
   },
   "outputs": [
    {
     "data": {
      "text/html": [
       "<div>\n",
       "<style scoped>\n",
       "    .dataframe tbody tr th:only-of-type {\n",
       "        vertical-align: middle;\n",
       "    }\n",
       "\n",
       "    .dataframe tbody tr th {\n",
       "        vertical-align: top;\n",
       "    }\n",
       "\n",
       "    .dataframe thead th {\n",
       "        text-align: right;\n",
       "    }\n",
       "</style>\n",
       "<table border=\"1\" class=\"dataframe\">\n",
       "  <thead>\n",
       "    <tr style=\"text-align: right;\">\n",
       "      <th></th>\n",
       "      <th>customer_id</th>\n",
       "      <th>wo_offer_shopping_times</th>\n",
       "      <th>wo_offer_shopping_amount</th>\n",
       "    </tr>\n",
       "  </thead>\n",
       "  <tbody>\n",
       "    <tr>\n",
       "      <th>0</th>\n",
       "      <td>0009655768c64bdeb2e877511632db8f</td>\n",
       "      <td>5</td>\n",
       "      <td>94.65</td>\n",
       "    </tr>\n",
       "    <tr>\n",
       "      <th>1</th>\n",
       "      <td>00116118485d4dfda04fdbaba9a87b5c</td>\n",
       "      <td>3</td>\n",
       "      <td>4.09</td>\n",
       "    </tr>\n",
       "    <tr>\n",
       "      <th>2</th>\n",
       "      <td>0011e0d4e6b944f998e987f904e8c1e5</td>\n",
       "      <td>3</td>\n",
       "      <td>45.48</td>\n",
       "    </tr>\n",
       "    <tr>\n",
       "      <th>3</th>\n",
       "      <td>0020c2b971eb4e9188eac86d93036a77</td>\n",
       "      <td>6</td>\n",
       "      <td>161.99</td>\n",
       "    </tr>\n",
       "    <tr>\n",
       "      <th>4</th>\n",
       "      <td>0020ccbbb6d84e358d3414a3ff76cffd</td>\n",
       "      <td>9</td>\n",
       "      <td>117.55</td>\n",
       "    </tr>\n",
       "  </tbody>\n",
       "</table>\n",
       "</div>"
      ],
      "text/plain": [
       "                        customer_id  wo_offer_shopping_times  \\\n",
       "0  0009655768c64bdeb2e877511632db8f                        5   \n",
       "1  00116118485d4dfda04fdbaba9a87b5c                        3   \n",
       "2  0011e0d4e6b944f998e987f904e8c1e5                        3   \n",
       "3  0020c2b971eb4e9188eac86d93036a77                        6   \n",
       "4  0020ccbbb6d84e358d3414a3ff76cffd                        9   \n",
       "\n",
       "   wo_offer_shopping_amount  \n",
       "0                     94.65  \n",
       "1                      4.09  \n",
       "2                     45.48  \n",
       "3                    161.99  \n",
       "4                    117.55  "
      ]
     },
     "execution_count": 241,
     "metadata": {},
     "output_type": "execute_result"
    }
   ],
   "source": [
    "trans_wo_offer_matrix.head()"
   ]
  },
  {
   "cell_type": "code",
   "execution_count": 242,
   "metadata": {
    "scrolled": true
   },
   "outputs": [
    {
     "data": {
      "text/plain": [
       "array([False], dtype=bool)"
      ]
     },
     "execution_count": 242,
     "metadata": {},
     "output_type": "execute_result"
    }
   ],
   "source": [
    "trans_w_offer_matrix.duplicated().unique()"
   ]
  },
  {
   "cell_type": "code",
   "execution_count": 243,
   "metadata": {},
   "outputs": [
    {
     "data": {
      "text/plain": [
       "array([False], dtype=bool)"
      ]
     },
     "execution_count": 243,
     "metadata": {},
     "output_type": "execute_result"
    }
   ],
   "source": [
    "trans_w_offer_matrix[[\"customer_id\", \"portfolio_id\"]].duplicated().unique()"
   ]
  },
  {
   "cell_type": "code",
   "execution_count": 244,
   "metadata": {},
   "outputs": [],
   "source": [
    "trans_offer_df = transcript[transcript[\"event\"]!=\"transaction\"]"
   ]
  },
  {
   "cell_type": "code",
   "execution_count": 245,
   "metadata": {},
   "outputs": [],
   "source": [
    "trans_offer_new_matrix = pd.pivot_table(trans_offer_df, index=[\"customer_id\", \"portfolio_id\"], columns = [\"event\"], \\\n",
    "               values=\"time\", aggfunc=pd.Series.nunique, fill_value = 0).reset_index()"
   ]
  },
  {
   "cell_type": "code",
   "execution_count": 246,
   "metadata": {},
   "outputs": [],
   "source": [
    "trans_offer_new_matrix = trans_offer_new_matrix[[\"customer_id\", \"portfolio_id\", \\\n",
    "                                                 \"offer received\", \"offer viewed\", \"offer completed\"]]"
   ]
  },
  {
   "cell_type": "code",
   "execution_count": 247,
   "metadata": {},
   "outputs": [],
   "source": [
    "trans_offer_new_matrix = trans_offer_new_matrix.rename(columns = {\"offer received\": \"offer_received\", \\\n",
    "                         \"offer viewed\": \"offer_viewed\", \"offer completed\":\"offer_completed\"})"
   ]
  },
  {
   "cell_type": "code",
   "execution_count": 248,
   "metadata": {},
   "outputs": [],
   "source": [
    "trans_w_offer_final_matrix = trans_w_offer_matrix.merge(trans_offer_new_matrix, on = [\"customer_id\", \"portfolio_id\"], \\\n",
    "                          how = \"left\")"
   ]
  },
  {
   "cell_type": "code",
   "execution_count": 249,
   "metadata": {},
   "outputs": [
    {
     "data": {
      "text/html": [
       "<div>\n",
       "<style scoped>\n",
       "    .dataframe tbody tr th:only-of-type {\n",
       "        vertical-align: middle;\n",
       "    }\n",
       "\n",
       "    .dataframe tbody tr th {\n",
       "        vertical-align: top;\n",
       "    }\n",
       "\n",
       "    .dataframe thead th {\n",
       "        text-align: right;\n",
       "    }\n",
       "</style>\n",
       "<table border=\"1\" class=\"dataframe\">\n",
       "  <thead>\n",
       "    <tr style=\"text-align: right;\">\n",
       "      <th></th>\n",
       "      <th>customer_id</th>\n",
       "      <th>portfolio_id</th>\n",
       "      <th>w_offer_shopping_times</th>\n",
       "      <th>w_offer_shopping_amount</th>\n",
       "      <th>offer_received</th>\n",
       "      <th>offer_viewed</th>\n",
       "      <th>offer_completed</th>\n",
       "    </tr>\n",
       "  </thead>\n",
       "  <tbody>\n",
       "    <tr>\n",
       "      <th>0</th>\n",
       "      <td>0009655768c64bdeb2e877511632db8f</td>\n",
       "      <td>2906b810c7d4411798c6938adc9daaa5</td>\n",
       "      <td>1</td>\n",
       "      <td>10.27</td>\n",
       "      <td>1</td>\n",
       "      <td>0</td>\n",
       "      <td>1</td>\n",
       "    </tr>\n",
       "    <tr>\n",
       "      <th>1</th>\n",
       "      <td>0009655768c64bdeb2e877511632db8f</td>\n",
       "      <td>f19421c1d4aa40978ebb69ca19b0e20d</td>\n",
       "      <td>1</td>\n",
       "      <td>8.57</td>\n",
       "      <td>1</td>\n",
       "      <td>1</td>\n",
       "      <td>1</td>\n",
       "    </tr>\n",
       "    <tr>\n",
       "      <th>2</th>\n",
       "      <td>0009655768c64bdeb2e877511632db8f</td>\n",
       "      <td>fafdcd668e3743c1bb461111dcafc2a4</td>\n",
       "      <td>1</td>\n",
       "      <td>14.11</td>\n",
       "      <td>1</td>\n",
       "      <td>1</td>\n",
       "      <td>1</td>\n",
       "    </tr>\n",
       "    <tr>\n",
       "      <th>3</th>\n",
       "      <td>0011e0d4e6b944f998e987f904e8c1e5</td>\n",
       "      <td>0b1e1539f2cc45b7b9fa7c272da2e1d7</td>\n",
       "      <td>1</td>\n",
       "      <td>22.05</td>\n",
       "      <td>1</td>\n",
       "      <td>1</td>\n",
       "      <td>1</td>\n",
       "    </tr>\n",
       "    <tr>\n",
       "      <th>4</th>\n",
       "      <td>0011e0d4e6b944f998e987f904e8c1e5</td>\n",
       "      <td>2298d6c36e964ae4a3e7e9706d1fb8c2</td>\n",
       "      <td>1</td>\n",
       "      <td>11.93</td>\n",
       "      <td>1</td>\n",
       "      <td>1</td>\n",
       "      <td>1</td>\n",
       "    </tr>\n",
       "  </tbody>\n",
       "</table>\n",
       "</div>"
      ],
      "text/plain": [
       "                        customer_id                      portfolio_id  \\\n",
       "0  0009655768c64bdeb2e877511632db8f  2906b810c7d4411798c6938adc9daaa5   \n",
       "1  0009655768c64bdeb2e877511632db8f  f19421c1d4aa40978ebb69ca19b0e20d   \n",
       "2  0009655768c64bdeb2e877511632db8f  fafdcd668e3743c1bb461111dcafc2a4   \n",
       "3  0011e0d4e6b944f998e987f904e8c1e5  0b1e1539f2cc45b7b9fa7c272da2e1d7   \n",
       "4  0011e0d4e6b944f998e987f904e8c1e5  2298d6c36e964ae4a3e7e9706d1fb8c2   \n",
       "\n",
       "   w_offer_shopping_times  w_offer_shopping_amount  offer_received  \\\n",
       "0                       1                    10.27               1   \n",
       "1                       1                     8.57               1   \n",
       "2                       1                    14.11               1   \n",
       "3                       1                    22.05               1   \n",
       "4                       1                    11.93               1   \n",
       "\n",
       "   offer_viewed  offer_completed  \n",
       "0             0                1  \n",
       "1             1                1  \n",
       "2             1                1  \n",
       "3             1                1  \n",
       "4             1                1  "
      ]
     },
     "execution_count": 249,
     "metadata": {},
     "output_type": "execute_result"
    }
   ],
   "source": [
    "trans_w_offer_final_matrix.head()"
   ]
  },
  {
   "cell_type": "code",
   "execution_count": 250,
   "metadata": {},
   "outputs": [],
   "source": [
    "trans_w_offer_final_matrix = trans_w_offer_final_matrix[[\"customer_id\", \"portfolio_id\", \"offer_received\",\\\n",
    "                                                        \"offer_viewed\", \"offer_completed\", \"w_offer_shopping_times\",\\\n",
    "                                                         \"w_offer_shopping_amount\"]]"
   ]
  },
  {
   "cell_type": "code",
   "execution_count": 251,
   "metadata": {},
   "outputs": [
    {
     "data": {
      "text/html": [
       "<div>\n",
       "<style scoped>\n",
       "    .dataframe tbody tr th:only-of-type {\n",
       "        vertical-align: middle;\n",
       "    }\n",
       "\n",
       "    .dataframe tbody tr th {\n",
       "        vertical-align: top;\n",
       "    }\n",
       "\n",
       "    .dataframe thead th {\n",
       "        text-align: right;\n",
       "    }\n",
       "</style>\n",
       "<table border=\"1\" class=\"dataframe\">\n",
       "  <thead>\n",
       "    <tr style=\"text-align: right;\">\n",
       "      <th></th>\n",
       "      <th>customer_id</th>\n",
       "      <th>portfolio_id</th>\n",
       "      <th>offer_received</th>\n",
       "      <th>offer_viewed</th>\n",
       "      <th>offer_completed</th>\n",
       "      <th>w_offer_shopping_times</th>\n",
       "      <th>w_offer_shopping_amount</th>\n",
       "    </tr>\n",
       "  </thead>\n",
       "  <tbody>\n",
       "    <tr>\n",
       "      <th>0</th>\n",
       "      <td>0009655768c64bdeb2e877511632db8f</td>\n",
       "      <td>2906b810c7d4411798c6938adc9daaa5</td>\n",
       "      <td>1</td>\n",
       "      <td>0</td>\n",
       "      <td>1</td>\n",
       "      <td>1</td>\n",
       "      <td>10.27</td>\n",
       "    </tr>\n",
       "    <tr>\n",
       "      <th>1</th>\n",
       "      <td>0009655768c64bdeb2e877511632db8f</td>\n",
       "      <td>f19421c1d4aa40978ebb69ca19b0e20d</td>\n",
       "      <td>1</td>\n",
       "      <td>1</td>\n",
       "      <td>1</td>\n",
       "      <td>1</td>\n",
       "      <td>8.57</td>\n",
       "    </tr>\n",
       "    <tr>\n",
       "      <th>2</th>\n",
       "      <td>0009655768c64bdeb2e877511632db8f</td>\n",
       "      <td>fafdcd668e3743c1bb461111dcafc2a4</td>\n",
       "      <td>1</td>\n",
       "      <td>1</td>\n",
       "      <td>1</td>\n",
       "      <td>1</td>\n",
       "      <td>14.11</td>\n",
       "    </tr>\n",
       "    <tr>\n",
       "      <th>3</th>\n",
       "      <td>0011e0d4e6b944f998e987f904e8c1e5</td>\n",
       "      <td>0b1e1539f2cc45b7b9fa7c272da2e1d7</td>\n",
       "      <td>1</td>\n",
       "      <td>1</td>\n",
       "      <td>1</td>\n",
       "      <td>1</td>\n",
       "      <td>22.05</td>\n",
       "    </tr>\n",
       "    <tr>\n",
       "      <th>4</th>\n",
       "      <td>0011e0d4e6b944f998e987f904e8c1e5</td>\n",
       "      <td>2298d6c36e964ae4a3e7e9706d1fb8c2</td>\n",
       "      <td>1</td>\n",
       "      <td>1</td>\n",
       "      <td>1</td>\n",
       "      <td>1</td>\n",
       "      <td>11.93</td>\n",
       "    </tr>\n",
       "  </tbody>\n",
       "</table>\n",
       "</div>"
      ],
      "text/plain": [
       "                        customer_id                      portfolio_id  \\\n",
       "0  0009655768c64bdeb2e877511632db8f  2906b810c7d4411798c6938adc9daaa5   \n",
       "1  0009655768c64bdeb2e877511632db8f  f19421c1d4aa40978ebb69ca19b0e20d   \n",
       "2  0009655768c64bdeb2e877511632db8f  fafdcd668e3743c1bb461111dcafc2a4   \n",
       "3  0011e0d4e6b944f998e987f904e8c1e5  0b1e1539f2cc45b7b9fa7c272da2e1d7   \n",
       "4  0011e0d4e6b944f998e987f904e8c1e5  2298d6c36e964ae4a3e7e9706d1fb8c2   \n",
       "\n",
       "   offer_received  offer_viewed  offer_completed  w_offer_shopping_times  \\\n",
       "0               1             0                1                       1   \n",
       "1               1             1                1                       1   \n",
       "2               1             1                1                       1   \n",
       "3               1             1                1                       1   \n",
       "4               1             1                1                       1   \n",
       "\n",
       "   w_offer_shopping_amount  \n",
       "0                    10.27  \n",
       "1                     8.57  \n",
       "2                    14.11  \n",
       "3                    22.05  \n",
       "4                    11.93  "
      ]
     },
     "execution_count": 251,
     "metadata": {},
     "output_type": "execute_result"
    }
   ],
   "source": [
    "trans_w_offer_final_matrix.head()"
   ]
  },
  {
   "cell_type": "code",
   "execution_count": 252,
   "metadata": {},
   "outputs": [
    {
     "data": {
      "text/plain": [
       "array([False], dtype=bool)"
      ]
     },
     "execution_count": 252,
     "metadata": {},
     "output_type": "execute_result"
    }
   ],
   "source": [
    "trans_w_offer_final_matrix.duplicated().unique()"
   ]
  },
  {
   "cell_type": "code",
   "execution_count": 253,
   "metadata": {},
   "outputs": [
    {
     "data": {
      "text/plain": [
       "array([False], dtype=bool)"
      ]
     },
     "execution_count": 253,
     "metadata": {},
     "output_type": "execute_result"
    }
   ],
   "source": [
    "trans_w_offer_final_matrix[[\"customer_id\", \"portfolio_id\"]].duplicated().unique()"
   ]
  },
  {
   "cell_type": "markdown",
   "metadata": {},
   "source": [
    "## Portfolio x Transcript (w Offer)"
   ]
  },
  {
   "cell_type": "code",
   "execution_count": 254,
   "metadata": {},
   "outputs": [],
   "source": [
    "pt_df = trans_w_offer_final_matrix.merge(portfolio, how=\"left\", on=\"portfolio_id\")"
   ]
  },
  {
   "cell_type": "code",
   "execution_count": 255,
   "metadata": {
    "scrolled": true
   },
   "outputs": [],
   "source": [
    "offer_type_df = pd.get_dummies(pt_df[\"offer_type\"])"
   ]
  },
  {
   "cell_type": "code",
   "execution_count": 256,
   "metadata": {},
   "outputs": [],
   "source": [
    "pt_final_df = pt_df.join(offer_type_df).drop(columns=\"offer_type\")"
   ]
  },
  {
   "cell_type": "code",
   "execution_count": 257,
   "metadata": {},
   "outputs": [
    {
     "data": {
      "text/html": [
       "<div>\n",
       "<style scoped>\n",
       "    .dataframe tbody tr th:only-of-type {\n",
       "        vertical-align: middle;\n",
       "    }\n",
       "\n",
       "    .dataframe tbody tr th {\n",
       "        vertical-align: top;\n",
       "    }\n",
       "\n",
       "    .dataframe thead th {\n",
       "        text-align: right;\n",
       "    }\n",
       "</style>\n",
       "<table border=\"1\" class=\"dataframe\">\n",
       "  <thead>\n",
       "    <tr style=\"text-align: right;\">\n",
       "      <th></th>\n",
       "      <th>customer_id</th>\n",
       "      <th>portfolio_id</th>\n",
       "      <th>offer_received</th>\n",
       "      <th>offer_viewed</th>\n",
       "      <th>offer_completed</th>\n",
       "      <th>w_offer_shopping_times</th>\n",
       "      <th>w_offer_shopping_amount</th>\n",
       "      <th>difficulty</th>\n",
       "      <th>duration</th>\n",
       "      <th>reward</th>\n",
       "      <th>channel_web</th>\n",
       "      <th>channel_email</th>\n",
       "      <th>channel_mobile</th>\n",
       "      <th>channel_social</th>\n",
       "      <th>bogo</th>\n",
       "      <th>discount</th>\n",
       "    </tr>\n",
       "  </thead>\n",
       "  <tbody>\n",
       "    <tr>\n",
       "      <th>0</th>\n",
       "      <td>0009655768c64bdeb2e877511632db8f</td>\n",
       "      <td>2906b810c7d4411798c6938adc9daaa5</td>\n",
       "      <td>1</td>\n",
       "      <td>0</td>\n",
       "      <td>1</td>\n",
       "      <td>1</td>\n",
       "      <td>10.27</td>\n",
       "      <td>10</td>\n",
       "      <td>7</td>\n",
       "      <td>2</td>\n",
       "      <td>1</td>\n",
       "      <td>1</td>\n",
       "      <td>1</td>\n",
       "      <td>0</td>\n",
       "      <td>0</td>\n",
       "      <td>1</td>\n",
       "    </tr>\n",
       "    <tr>\n",
       "      <th>1</th>\n",
       "      <td>0009655768c64bdeb2e877511632db8f</td>\n",
       "      <td>f19421c1d4aa40978ebb69ca19b0e20d</td>\n",
       "      <td>1</td>\n",
       "      <td>1</td>\n",
       "      <td>1</td>\n",
       "      <td>1</td>\n",
       "      <td>8.57</td>\n",
       "      <td>5</td>\n",
       "      <td>5</td>\n",
       "      <td>5</td>\n",
       "      <td>1</td>\n",
       "      <td>1</td>\n",
       "      <td>1</td>\n",
       "      <td>1</td>\n",
       "      <td>1</td>\n",
       "      <td>0</td>\n",
       "    </tr>\n",
       "    <tr>\n",
       "      <th>2</th>\n",
       "      <td>0009655768c64bdeb2e877511632db8f</td>\n",
       "      <td>fafdcd668e3743c1bb461111dcafc2a4</td>\n",
       "      <td>1</td>\n",
       "      <td>1</td>\n",
       "      <td>1</td>\n",
       "      <td>1</td>\n",
       "      <td>14.11</td>\n",
       "      <td>10</td>\n",
       "      <td>10</td>\n",
       "      <td>2</td>\n",
       "      <td>1</td>\n",
       "      <td>1</td>\n",
       "      <td>1</td>\n",
       "      <td>1</td>\n",
       "      <td>0</td>\n",
       "      <td>1</td>\n",
       "    </tr>\n",
       "    <tr>\n",
       "      <th>3</th>\n",
       "      <td>0011e0d4e6b944f998e987f904e8c1e5</td>\n",
       "      <td>0b1e1539f2cc45b7b9fa7c272da2e1d7</td>\n",
       "      <td>1</td>\n",
       "      <td>1</td>\n",
       "      <td>1</td>\n",
       "      <td>1</td>\n",
       "      <td>22.05</td>\n",
       "      <td>20</td>\n",
       "      <td>10</td>\n",
       "      <td>5</td>\n",
       "      <td>1</td>\n",
       "      <td>1</td>\n",
       "      <td>0</td>\n",
       "      <td>0</td>\n",
       "      <td>0</td>\n",
       "      <td>1</td>\n",
       "    </tr>\n",
       "    <tr>\n",
       "      <th>4</th>\n",
       "      <td>0011e0d4e6b944f998e987f904e8c1e5</td>\n",
       "      <td>2298d6c36e964ae4a3e7e9706d1fb8c2</td>\n",
       "      <td>1</td>\n",
       "      <td>1</td>\n",
       "      <td>1</td>\n",
       "      <td>1</td>\n",
       "      <td>11.93</td>\n",
       "      <td>7</td>\n",
       "      <td>7</td>\n",
       "      <td>3</td>\n",
       "      <td>1</td>\n",
       "      <td>1</td>\n",
       "      <td>1</td>\n",
       "      <td>1</td>\n",
       "      <td>0</td>\n",
       "      <td>1</td>\n",
       "    </tr>\n",
       "  </tbody>\n",
       "</table>\n",
       "</div>"
      ],
      "text/plain": [
       "                        customer_id                      portfolio_id  \\\n",
       "0  0009655768c64bdeb2e877511632db8f  2906b810c7d4411798c6938adc9daaa5   \n",
       "1  0009655768c64bdeb2e877511632db8f  f19421c1d4aa40978ebb69ca19b0e20d   \n",
       "2  0009655768c64bdeb2e877511632db8f  fafdcd668e3743c1bb461111dcafc2a4   \n",
       "3  0011e0d4e6b944f998e987f904e8c1e5  0b1e1539f2cc45b7b9fa7c272da2e1d7   \n",
       "4  0011e0d4e6b944f998e987f904e8c1e5  2298d6c36e964ae4a3e7e9706d1fb8c2   \n",
       "\n",
       "   offer_received  offer_viewed  offer_completed  w_offer_shopping_times  \\\n",
       "0               1             0                1                       1   \n",
       "1               1             1                1                       1   \n",
       "2               1             1                1                       1   \n",
       "3               1             1                1                       1   \n",
       "4               1             1                1                       1   \n",
       "\n",
       "   w_offer_shopping_amount  difficulty  duration  reward  channel_web  \\\n",
       "0                    10.27          10         7       2            1   \n",
       "1                     8.57           5         5       5            1   \n",
       "2                    14.11          10        10       2            1   \n",
       "3                    22.05          20        10       5            1   \n",
       "4                    11.93           7         7       3            1   \n",
       "\n",
       "   channel_email  channel_mobile  channel_social  bogo  discount  \n",
       "0              1               1               0     0         1  \n",
       "1              1               1               1     1         0  \n",
       "2              1               1               1     0         1  \n",
       "3              1               0               0     0         1  \n",
       "4              1               1               1     0         1  "
      ]
     },
     "execution_count": 257,
     "metadata": {},
     "output_type": "execute_result"
    }
   ],
   "source": [
    "pt_final_df.head()"
   ]
  },
  {
   "cell_type": "markdown",
   "metadata": {},
   "source": [
    "# Profile X Transcript (w Offer & wo Offer)"
   ]
  },
  {
   "cell_type": "markdown",
   "metadata": {},
   "source": [
    "## PT_final_df x Profile"
   ]
  },
  {
   "cell_type": "code",
   "execution_count": 258,
   "metadata": {
    "scrolled": true
   },
   "outputs": [
    {
     "data": {
      "text/html": [
       "<div>\n",
       "<style scoped>\n",
       "    .dataframe tbody tr th:only-of-type {\n",
       "        vertical-align: middle;\n",
       "    }\n",
       "\n",
       "    .dataframe tbody tr th {\n",
       "        vertical-align: top;\n",
       "    }\n",
       "\n",
       "    .dataframe thead th {\n",
       "        text-align: right;\n",
       "    }\n",
       "</style>\n",
       "<table border=\"1\" class=\"dataframe\">\n",
       "  <thead>\n",
       "    <tr style=\"text-align: right;\">\n",
       "      <th></th>\n",
       "      <th>age</th>\n",
       "      <th>became_member_on</th>\n",
       "      <th>gender</th>\n",
       "      <th>customer_id</th>\n",
       "      <th>income</th>\n",
       "      <th>days_since_member</th>\n",
       "    </tr>\n",
       "  </thead>\n",
       "  <tbody>\n",
       "    <tr>\n",
       "      <th>0</th>\n",
       "      <td>68.0</td>\n",
       "      <td>2017-02-12</td>\n",
       "      <td>O</td>\n",
       "      <td>68be06ca386d4c31939f3a4f0e3dd783</td>\n",
       "      <td>NaN</td>\n",
       "      <td>1276</td>\n",
       "    </tr>\n",
       "    <tr>\n",
       "      <th>1</th>\n",
       "      <td>55.0</td>\n",
       "      <td>2017-07-15</td>\n",
       "      <td>F</td>\n",
       "      <td>0610b486422d4921ae7d2bf64640c50b</td>\n",
       "      <td>112000.0</td>\n",
       "      <td>1123</td>\n",
       "    </tr>\n",
       "    <tr>\n",
       "      <th>2</th>\n",
       "      <td>68.0</td>\n",
       "      <td>2018-07-12</td>\n",
       "      <td>O</td>\n",
       "      <td>38fe809add3b4fcf9315a9694bb96ff5</td>\n",
       "      <td>NaN</td>\n",
       "      <td>761</td>\n",
       "    </tr>\n",
       "    <tr>\n",
       "      <th>3</th>\n",
       "      <td>75.0</td>\n",
       "      <td>2017-05-09</td>\n",
       "      <td>F</td>\n",
       "      <td>78afa995795e4d85b5d9ceeca43f5fef</td>\n",
       "      <td>100000.0</td>\n",
       "      <td>1190</td>\n",
       "    </tr>\n",
       "    <tr>\n",
       "      <th>4</th>\n",
       "      <td>68.0</td>\n",
       "      <td>2017-08-04</td>\n",
       "      <td>O</td>\n",
       "      <td>a03223e636434f42ac4c3df47e8bac43</td>\n",
       "      <td>NaN</td>\n",
       "      <td>1103</td>\n",
       "    </tr>\n",
       "  </tbody>\n",
       "</table>\n",
       "</div>"
      ],
      "text/plain": [
       "    age became_member_on gender                       customer_id    income  \\\n",
       "0  68.0       2017-02-12      O  68be06ca386d4c31939f3a4f0e3dd783       NaN   \n",
       "1  55.0       2017-07-15      F  0610b486422d4921ae7d2bf64640c50b  112000.0   \n",
       "2  68.0       2018-07-12      O  38fe809add3b4fcf9315a9694bb96ff5       NaN   \n",
       "3  75.0       2017-05-09      F  78afa995795e4d85b5d9ceeca43f5fef  100000.0   \n",
       "4  68.0       2017-08-04      O  a03223e636434f42ac4c3df47e8bac43       NaN   \n",
       "\n",
       "   days_since_member  \n",
       "0               1276  \n",
       "1               1123  \n",
       "2                761  \n",
       "3               1190  \n",
       "4               1103  "
      ]
     },
     "execution_count": 258,
     "metadata": {},
     "output_type": "execute_result"
    }
   ],
   "source": [
    "profile.head()"
   ]
  },
  {
   "cell_type": "code",
   "execution_count": 259,
   "metadata": {},
   "outputs": [],
   "source": [
    "gender_df = pd.get_dummies(profile[\"gender\"])"
   ]
  },
  {
   "cell_type": "code",
   "execution_count": 260,
   "metadata": {},
   "outputs": [],
   "source": [
    "profile_final_df = profile.join(gender_df).drop(columns = [\"gender\", \"became_member_on\"])"
   ]
  },
  {
   "cell_type": "code",
   "execution_count": 261,
   "metadata": {
    "scrolled": true
   },
   "outputs": [
    {
     "data": {
      "text/html": [
       "<div>\n",
       "<style scoped>\n",
       "    .dataframe tbody tr th:only-of-type {\n",
       "        vertical-align: middle;\n",
       "    }\n",
       "\n",
       "    .dataframe tbody tr th {\n",
       "        vertical-align: top;\n",
       "    }\n",
       "\n",
       "    .dataframe thead th {\n",
       "        text-align: right;\n",
       "    }\n",
       "</style>\n",
       "<table border=\"1\" class=\"dataframe\">\n",
       "  <thead>\n",
       "    <tr style=\"text-align: right;\">\n",
       "      <th></th>\n",
       "      <th>age</th>\n",
       "      <th>customer_id</th>\n",
       "      <th>income</th>\n",
       "      <th>days_since_member</th>\n",
       "      <th>F</th>\n",
       "      <th>M</th>\n",
       "      <th>O</th>\n",
       "    </tr>\n",
       "  </thead>\n",
       "  <tbody>\n",
       "    <tr>\n",
       "      <th>0</th>\n",
       "      <td>68.0</td>\n",
       "      <td>68be06ca386d4c31939f3a4f0e3dd783</td>\n",
       "      <td>NaN</td>\n",
       "      <td>1276</td>\n",
       "      <td>0</td>\n",
       "      <td>0</td>\n",
       "      <td>1</td>\n",
       "    </tr>\n",
       "    <tr>\n",
       "      <th>1</th>\n",
       "      <td>55.0</td>\n",
       "      <td>0610b486422d4921ae7d2bf64640c50b</td>\n",
       "      <td>112000.0</td>\n",
       "      <td>1123</td>\n",
       "      <td>1</td>\n",
       "      <td>0</td>\n",
       "      <td>0</td>\n",
       "    </tr>\n",
       "    <tr>\n",
       "      <th>2</th>\n",
       "      <td>68.0</td>\n",
       "      <td>38fe809add3b4fcf9315a9694bb96ff5</td>\n",
       "      <td>NaN</td>\n",
       "      <td>761</td>\n",
       "      <td>0</td>\n",
       "      <td>0</td>\n",
       "      <td>1</td>\n",
       "    </tr>\n",
       "    <tr>\n",
       "      <th>3</th>\n",
       "      <td>75.0</td>\n",
       "      <td>78afa995795e4d85b5d9ceeca43f5fef</td>\n",
       "      <td>100000.0</td>\n",
       "      <td>1190</td>\n",
       "      <td>1</td>\n",
       "      <td>0</td>\n",
       "      <td>0</td>\n",
       "    </tr>\n",
       "    <tr>\n",
       "      <th>4</th>\n",
       "      <td>68.0</td>\n",
       "      <td>a03223e636434f42ac4c3df47e8bac43</td>\n",
       "      <td>NaN</td>\n",
       "      <td>1103</td>\n",
       "      <td>0</td>\n",
       "      <td>0</td>\n",
       "      <td>1</td>\n",
       "    </tr>\n",
       "  </tbody>\n",
       "</table>\n",
       "</div>"
      ],
      "text/plain": [
       "    age                       customer_id    income  days_since_member  F  M  \\\n",
       "0  68.0  68be06ca386d4c31939f3a4f0e3dd783       NaN               1276  0  0   \n",
       "1  55.0  0610b486422d4921ae7d2bf64640c50b  112000.0               1123  1  0   \n",
       "2  68.0  38fe809add3b4fcf9315a9694bb96ff5       NaN                761  0  0   \n",
       "3  75.0  78afa995795e4d85b5d9ceeca43f5fef  100000.0               1190  1  0   \n",
       "4  68.0  a03223e636434f42ac4c3df47e8bac43       NaN               1103  0  0   \n",
       "\n",
       "   O  \n",
       "0  1  \n",
       "1  0  \n",
       "2  1  \n",
       "3  0  \n",
       "4  1  "
      ]
     },
     "execution_count": 261,
     "metadata": {},
     "output_type": "execute_result"
    }
   ],
   "source": [
    "profile_final_df.head()"
   ]
  },
  {
   "cell_type": "code",
   "execution_count": 262,
   "metadata": {},
   "outputs": [
    {
     "data": {
      "text/plain": [
       "65404.991568296799"
      ]
     },
     "execution_count": 262,
     "metadata": {},
     "output_type": "execute_result"
    }
   ],
   "source": [
    "np.mean(profile_final_df[\"income\"])"
   ]
  },
  {
   "cell_type": "code",
   "execution_count": 263,
   "metadata": {},
   "outputs": [],
   "source": [
    "# This is a temp step.\n",
    "profile_final_df[\"income\"] = profile_final_df[\"income\"].fillna(np.mean(profile_final_df[\"income\"]))"
   ]
  },
  {
   "cell_type": "code",
   "execution_count": 264,
   "metadata": {},
   "outputs": [],
   "source": [
    "profile_final_df = profile_final_df.rename(columns = {\"F\":\"female\", \"M\":\"male\", \"O\":\"other_gender\"})"
   ]
  },
  {
   "cell_type": "code",
   "execution_count": 265,
   "metadata": {},
   "outputs": [],
   "source": [
    "profile_final_df = profile_final_df[[\"customer_id\", \"age\", \"income\", \"days_since_member\", \"female\", \"male\", \"other_gender\"]]"
   ]
  },
  {
   "cell_type": "code",
   "execution_count": 266,
   "metadata": {
    "scrolled": true
   },
   "outputs": [
    {
     "data": {
      "text/html": [
       "<div>\n",
       "<style scoped>\n",
       "    .dataframe tbody tr th:only-of-type {\n",
       "        vertical-align: middle;\n",
       "    }\n",
       "\n",
       "    .dataframe tbody tr th {\n",
       "        vertical-align: top;\n",
       "    }\n",
       "\n",
       "    .dataframe thead th {\n",
       "        text-align: right;\n",
       "    }\n",
       "</style>\n",
       "<table border=\"1\" class=\"dataframe\">\n",
       "  <thead>\n",
       "    <tr style=\"text-align: right;\">\n",
       "      <th></th>\n",
       "      <th>customer_id</th>\n",
       "      <th>age</th>\n",
       "      <th>income</th>\n",
       "      <th>days_since_member</th>\n",
       "      <th>female</th>\n",
       "      <th>male</th>\n",
       "      <th>other_gender</th>\n",
       "    </tr>\n",
       "  </thead>\n",
       "  <tbody>\n",
       "    <tr>\n",
       "      <th>0</th>\n",
       "      <td>68be06ca386d4c31939f3a4f0e3dd783</td>\n",
       "      <td>68.0</td>\n",
       "      <td>65404.991568</td>\n",
       "      <td>1276</td>\n",
       "      <td>0</td>\n",
       "      <td>0</td>\n",
       "      <td>1</td>\n",
       "    </tr>\n",
       "    <tr>\n",
       "      <th>1</th>\n",
       "      <td>0610b486422d4921ae7d2bf64640c50b</td>\n",
       "      <td>55.0</td>\n",
       "      <td>112000.000000</td>\n",
       "      <td>1123</td>\n",
       "      <td>1</td>\n",
       "      <td>0</td>\n",
       "      <td>0</td>\n",
       "    </tr>\n",
       "    <tr>\n",
       "      <th>2</th>\n",
       "      <td>38fe809add3b4fcf9315a9694bb96ff5</td>\n",
       "      <td>68.0</td>\n",
       "      <td>65404.991568</td>\n",
       "      <td>761</td>\n",
       "      <td>0</td>\n",
       "      <td>0</td>\n",
       "      <td>1</td>\n",
       "    </tr>\n",
       "    <tr>\n",
       "      <th>3</th>\n",
       "      <td>78afa995795e4d85b5d9ceeca43f5fef</td>\n",
       "      <td>75.0</td>\n",
       "      <td>100000.000000</td>\n",
       "      <td>1190</td>\n",
       "      <td>1</td>\n",
       "      <td>0</td>\n",
       "      <td>0</td>\n",
       "    </tr>\n",
       "    <tr>\n",
       "      <th>4</th>\n",
       "      <td>a03223e636434f42ac4c3df47e8bac43</td>\n",
       "      <td>68.0</td>\n",
       "      <td>65404.991568</td>\n",
       "      <td>1103</td>\n",
       "      <td>0</td>\n",
       "      <td>0</td>\n",
       "      <td>1</td>\n",
       "    </tr>\n",
       "  </tbody>\n",
       "</table>\n",
       "</div>"
      ],
      "text/plain": [
       "                        customer_id   age         income  days_since_member  \\\n",
       "0  68be06ca386d4c31939f3a4f0e3dd783  68.0   65404.991568               1276   \n",
       "1  0610b486422d4921ae7d2bf64640c50b  55.0  112000.000000               1123   \n",
       "2  38fe809add3b4fcf9315a9694bb96ff5  68.0   65404.991568                761   \n",
       "3  78afa995795e4d85b5d9ceeca43f5fef  75.0  100000.000000               1190   \n",
       "4  a03223e636434f42ac4c3df47e8bac43  68.0   65404.991568               1103   \n",
       "\n",
       "   female  male  other_gender  \n",
       "0       0     0             1  \n",
       "1       1     0             0  \n",
       "2       0     0             1  \n",
       "3       1     0             0  \n",
       "4       0     0             1  "
      ]
     },
     "execution_count": 266,
     "metadata": {},
     "output_type": "execute_result"
    }
   ],
   "source": [
    "profile_final_df.head()"
   ]
  },
  {
   "cell_type": "code",
   "execution_count": 267,
   "metadata": {},
   "outputs": [
    {
     "data": {
      "text/plain": [
       "array([False], dtype=bool)"
      ]
     },
     "execution_count": 267,
     "metadata": {},
     "output_type": "execute_result"
    }
   ],
   "source": [
    "(~pt_final_df[\"customer_id\"].isin(profile_final_df[\"customer_id\"])).unique()"
   ]
  },
  {
   "cell_type": "code",
   "execution_count": 268,
   "metadata": {},
   "outputs": [
    {
     "data": {
      "text/plain": [
       "array([False,  True], dtype=bool)"
      ]
     },
     "execution_count": 268,
     "metadata": {},
     "output_type": "execute_result"
    }
   ],
   "source": [
    "(~profile_final_df[\"customer_id\"].isin(pt_final_df[\"customer_id\"])).unique()"
   ]
  },
  {
   "cell_type": "code",
   "execution_count": 269,
   "metadata": {},
   "outputs": [],
   "source": [
    "full_w_offer_df = profile_final_df.merge(pt_final_df, on = \"customer_id\", how = \"left\")"
   ]
  },
  {
   "cell_type": "code",
   "execution_count": 270,
   "metadata": {
    "scrolled": false
   },
   "outputs": [
    {
     "data": {
      "text/html": [
       "<div>\n",
       "<style scoped>\n",
       "    .dataframe tbody tr th:only-of-type {\n",
       "        vertical-align: middle;\n",
       "    }\n",
       "\n",
       "    .dataframe tbody tr th {\n",
       "        vertical-align: top;\n",
       "    }\n",
       "\n",
       "    .dataframe thead th {\n",
       "        text-align: right;\n",
       "    }\n",
       "</style>\n",
       "<table border=\"1\" class=\"dataframe\">\n",
       "  <thead>\n",
       "    <tr style=\"text-align: right;\">\n",
       "      <th></th>\n",
       "      <th>customer_id</th>\n",
       "      <th>age</th>\n",
       "      <th>income</th>\n",
       "      <th>days_since_member</th>\n",
       "      <th>female</th>\n",
       "      <th>male</th>\n",
       "      <th>other_gender</th>\n",
       "      <th>portfolio_id</th>\n",
       "      <th>offer_received</th>\n",
       "      <th>offer_viewed</th>\n",
       "      <th>...</th>\n",
       "      <th>w_offer_shopping_amount</th>\n",
       "      <th>difficulty</th>\n",
       "      <th>duration</th>\n",
       "      <th>reward</th>\n",
       "      <th>channel_web</th>\n",
       "      <th>channel_email</th>\n",
       "      <th>channel_mobile</th>\n",
       "      <th>channel_social</th>\n",
       "      <th>bogo</th>\n",
       "      <th>discount</th>\n",
       "    </tr>\n",
       "  </thead>\n",
       "  <tbody>\n",
       "    <tr>\n",
       "      <th>0</th>\n",
       "      <td>68be06ca386d4c31939f3a4f0e3dd783</td>\n",
       "      <td>68.0</td>\n",
       "      <td>65404.991568</td>\n",
       "      <td>1276</td>\n",
       "      <td>0</td>\n",
       "      <td>0</td>\n",
       "      <td>1</td>\n",
       "      <td>2298d6c36e964ae4a3e7e9706d1fb8c2</td>\n",
       "      <td>1.0</td>\n",
       "      <td>1.0</td>\n",
       "      <td>...</td>\n",
       "      <td>2.12</td>\n",
       "      <td>7.0</td>\n",
       "      <td>7.0</td>\n",
       "      <td>3.0</td>\n",
       "      <td>1.0</td>\n",
       "      <td>1.0</td>\n",
       "      <td>1.0</td>\n",
       "      <td>1.0</td>\n",
       "      <td>0.0</td>\n",
       "      <td>1.0</td>\n",
       "    </tr>\n",
       "    <tr>\n",
       "      <th>1</th>\n",
       "      <td>68be06ca386d4c31939f3a4f0e3dd783</td>\n",
       "      <td>68.0</td>\n",
       "      <td>65404.991568</td>\n",
       "      <td>1276</td>\n",
       "      <td>0</td>\n",
       "      <td>0</td>\n",
       "      <td>1</td>\n",
       "      <td>fafdcd668e3743c1bb461111dcafc2a4</td>\n",
       "      <td>2.0</td>\n",
       "      <td>2.0</td>\n",
       "      <td>...</td>\n",
       "      <td>2.12</td>\n",
       "      <td>10.0</td>\n",
       "      <td>10.0</td>\n",
       "      <td>2.0</td>\n",
       "      <td>1.0</td>\n",
       "      <td>1.0</td>\n",
       "      <td>1.0</td>\n",
       "      <td>1.0</td>\n",
       "      <td>0.0</td>\n",
       "      <td>1.0</td>\n",
       "    </tr>\n",
       "    <tr>\n",
       "      <th>2</th>\n",
       "      <td>0610b486422d4921ae7d2bf64640c50b</td>\n",
       "      <td>55.0</td>\n",
       "      <td>112000.000000</td>\n",
       "      <td>1123</td>\n",
       "      <td>1</td>\n",
       "      <td>0</td>\n",
       "      <td>0</td>\n",
       "      <td>9b98b8c7a33c4b65b9aebfe6a799e6d9</td>\n",
       "      <td>1.0</td>\n",
       "      <td>0.0</td>\n",
       "      <td>...</td>\n",
       "      <td>23.22</td>\n",
       "      <td>5.0</td>\n",
       "      <td>7.0</td>\n",
       "      <td>5.0</td>\n",
       "      <td>1.0</td>\n",
       "      <td>1.0</td>\n",
       "      <td>1.0</td>\n",
       "      <td>0.0</td>\n",
       "      <td>1.0</td>\n",
       "      <td>0.0</td>\n",
       "    </tr>\n",
       "    <tr>\n",
       "      <th>3</th>\n",
       "      <td>38fe809add3b4fcf9315a9694bb96ff5</td>\n",
       "      <td>68.0</td>\n",
       "      <td>65404.991568</td>\n",
       "      <td>761</td>\n",
       "      <td>0</td>\n",
       "      <td>0</td>\n",
       "      <td>1</td>\n",
       "      <td>NaN</td>\n",
       "      <td>NaN</td>\n",
       "      <td>NaN</td>\n",
       "      <td>...</td>\n",
       "      <td>NaN</td>\n",
       "      <td>NaN</td>\n",
       "      <td>NaN</td>\n",
       "      <td>NaN</td>\n",
       "      <td>NaN</td>\n",
       "      <td>NaN</td>\n",
       "      <td>NaN</td>\n",
       "      <td>NaN</td>\n",
       "      <td>NaN</td>\n",
       "      <td>NaN</td>\n",
       "    </tr>\n",
       "    <tr>\n",
       "      <th>4</th>\n",
       "      <td>78afa995795e4d85b5d9ceeca43f5fef</td>\n",
       "      <td>75.0</td>\n",
       "      <td>100000.000000</td>\n",
       "      <td>1190</td>\n",
       "      <td>1</td>\n",
       "      <td>0</td>\n",
       "      <td>0</td>\n",
       "      <td>9b98b8c7a33c4b65b9aebfe6a799e6d9</td>\n",
       "      <td>1.0</td>\n",
       "      <td>1.0</td>\n",
       "      <td>...</td>\n",
       "      <td>19.89</td>\n",
       "      <td>5.0</td>\n",
       "      <td>7.0</td>\n",
       "      <td>5.0</td>\n",
       "      <td>1.0</td>\n",
       "      <td>1.0</td>\n",
       "      <td>1.0</td>\n",
       "      <td>0.0</td>\n",
       "      <td>1.0</td>\n",
       "      <td>0.0</td>\n",
       "    </tr>\n",
       "  </tbody>\n",
       "</table>\n",
       "<p>5 rows × 22 columns</p>\n",
       "</div>"
      ],
      "text/plain": [
       "                        customer_id   age         income  days_since_member  \\\n",
       "0  68be06ca386d4c31939f3a4f0e3dd783  68.0   65404.991568               1276   \n",
       "1  68be06ca386d4c31939f3a4f0e3dd783  68.0   65404.991568               1276   \n",
       "2  0610b486422d4921ae7d2bf64640c50b  55.0  112000.000000               1123   \n",
       "3  38fe809add3b4fcf9315a9694bb96ff5  68.0   65404.991568                761   \n",
       "4  78afa995795e4d85b5d9ceeca43f5fef  75.0  100000.000000               1190   \n",
       "\n",
       "   female  male  other_gender                      portfolio_id  \\\n",
       "0       0     0             1  2298d6c36e964ae4a3e7e9706d1fb8c2   \n",
       "1       0     0             1  fafdcd668e3743c1bb461111dcafc2a4   \n",
       "2       1     0             0  9b98b8c7a33c4b65b9aebfe6a799e6d9   \n",
       "3       0     0             1                               NaN   \n",
       "4       1     0             0  9b98b8c7a33c4b65b9aebfe6a799e6d9   \n",
       "\n",
       "   offer_received  offer_viewed    ...     w_offer_shopping_amount  \\\n",
       "0             1.0           1.0    ...                        2.12   \n",
       "1             2.0           2.0    ...                        2.12   \n",
       "2             1.0           0.0    ...                       23.22   \n",
       "3             NaN           NaN    ...                         NaN   \n",
       "4             1.0           1.0    ...                       19.89   \n",
       "\n",
       "   difficulty  duration  reward  channel_web  channel_email  channel_mobile  \\\n",
       "0         7.0       7.0     3.0          1.0            1.0             1.0   \n",
       "1        10.0      10.0     2.0          1.0            1.0             1.0   \n",
       "2         5.0       7.0     5.0          1.0            1.0             1.0   \n",
       "3         NaN       NaN     NaN          NaN            NaN             NaN   \n",
       "4         5.0       7.0     5.0          1.0            1.0             1.0   \n",
       "\n",
       "   channel_social  bogo  discount  \n",
       "0             1.0   0.0       1.0  \n",
       "1             1.0   0.0       1.0  \n",
       "2             0.0   1.0       0.0  \n",
       "3             NaN   NaN       NaN  \n",
       "4             0.0   1.0       0.0  \n",
       "\n",
       "[5 rows x 22 columns]"
      ]
     },
     "execution_count": 270,
     "metadata": {},
     "output_type": "execute_result"
    }
   ],
   "source": [
    "full_w_offer_df.head()"
   ]
  },
  {
   "cell_type": "code",
   "execution_count": 271,
   "metadata": {
    "scrolled": true
   },
   "outputs": [
    {
     "data": {
      "text/plain": [
       "customer_id                   0\n",
       "age                           0\n",
       "income                        0\n",
       "days_since_member             0\n",
       "female                        0\n",
       "male                          0\n",
       "other_gender                  0\n",
       "portfolio_id               4226\n",
       "offer_received             4226\n",
       "offer_viewed               4226\n",
       "offer_completed            4226\n",
       "w_offer_shopping_times     4226\n",
       "w_offer_shopping_amount    4226\n",
       "difficulty                 4226\n",
       "duration                   4226\n",
       "reward                     4226\n",
       "channel_web                4226\n",
       "channel_email              4226\n",
       "channel_mobile             4226\n",
       "channel_social             4226\n",
       "bogo                       4226\n",
       "discount                   4226\n",
       "dtype: int64"
      ]
     },
     "execution_count": 271,
     "metadata": {},
     "output_type": "execute_result"
    }
   ],
   "source": [
    "full_w_offer_df.isnull().sum()"
   ]
  },
  {
   "cell_type": "code",
   "execution_count": 272,
   "metadata": {},
   "outputs": [],
   "source": [
    "full_w_offer_df = full_w_offer_df.fillna(0)"
   ]
  },
  {
   "cell_type": "code",
   "execution_count": 273,
   "metadata": {},
   "outputs": [
    {
     "data": {
      "text/plain": [
       "customer_id                0\n",
       "age                        0\n",
       "income                     0\n",
       "days_since_member          0\n",
       "female                     0\n",
       "male                       0\n",
       "other_gender               0\n",
       "portfolio_id               0\n",
       "offer_received             0\n",
       "offer_viewed               0\n",
       "offer_completed            0\n",
       "w_offer_shopping_times     0\n",
       "w_offer_shopping_amount    0\n",
       "difficulty                 0\n",
       "duration                   0\n",
       "reward                     0\n",
       "channel_web                0\n",
       "channel_email              0\n",
       "channel_mobile             0\n",
       "channel_social             0\n",
       "bogo                       0\n",
       "discount                   0\n",
       "dtype: int64"
      ]
     },
     "execution_count": 273,
     "metadata": {},
     "output_type": "execute_result"
    }
   ],
   "source": [
    "full_w_offer_df.isnull().sum()"
   ]
  },
  {
   "cell_type": "code",
   "execution_count": 274,
   "metadata": {
    "scrolled": false
   },
   "outputs": [
    {
     "data": {
      "text/html": [
       "<div>\n",
       "<style scoped>\n",
       "    .dataframe tbody tr th:only-of-type {\n",
       "        vertical-align: middle;\n",
       "    }\n",
       "\n",
       "    .dataframe tbody tr th {\n",
       "        vertical-align: top;\n",
       "    }\n",
       "\n",
       "    .dataframe thead th {\n",
       "        text-align: right;\n",
       "    }\n",
       "</style>\n",
       "<table border=\"1\" class=\"dataframe\">\n",
       "  <thead>\n",
       "    <tr style=\"text-align: right;\">\n",
       "      <th></th>\n",
       "      <th>customer_id</th>\n",
       "      <th>age</th>\n",
       "      <th>income</th>\n",
       "      <th>days_since_member</th>\n",
       "      <th>female</th>\n",
       "      <th>male</th>\n",
       "      <th>other_gender</th>\n",
       "      <th>portfolio_id</th>\n",
       "      <th>offer_received</th>\n",
       "      <th>offer_viewed</th>\n",
       "      <th>...</th>\n",
       "      <th>w_offer_shopping_amount</th>\n",
       "      <th>difficulty</th>\n",
       "      <th>duration</th>\n",
       "      <th>reward</th>\n",
       "      <th>channel_web</th>\n",
       "      <th>channel_email</th>\n",
       "      <th>channel_mobile</th>\n",
       "      <th>channel_social</th>\n",
       "      <th>bogo</th>\n",
       "      <th>discount</th>\n",
       "    </tr>\n",
       "  </thead>\n",
       "  <tbody>\n",
       "    <tr>\n",
       "      <th>0</th>\n",
       "      <td>68be06ca386d4c31939f3a4f0e3dd783</td>\n",
       "      <td>68.0</td>\n",
       "      <td>65404.991568</td>\n",
       "      <td>1276</td>\n",
       "      <td>0</td>\n",
       "      <td>0</td>\n",
       "      <td>1</td>\n",
       "      <td>2298d6c36e964ae4a3e7e9706d1fb8c2</td>\n",
       "      <td>1.0</td>\n",
       "      <td>1.0</td>\n",
       "      <td>...</td>\n",
       "      <td>2.12</td>\n",
       "      <td>7.0</td>\n",
       "      <td>7.0</td>\n",
       "      <td>3.0</td>\n",
       "      <td>1.0</td>\n",
       "      <td>1.0</td>\n",
       "      <td>1.0</td>\n",
       "      <td>1.0</td>\n",
       "      <td>0.0</td>\n",
       "      <td>1.0</td>\n",
       "    </tr>\n",
       "    <tr>\n",
       "      <th>1</th>\n",
       "      <td>68be06ca386d4c31939f3a4f0e3dd783</td>\n",
       "      <td>68.0</td>\n",
       "      <td>65404.991568</td>\n",
       "      <td>1276</td>\n",
       "      <td>0</td>\n",
       "      <td>0</td>\n",
       "      <td>1</td>\n",
       "      <td>fafdcd668e3743c1bb461111dcafc2a4</td>\n",
       "      <td>2.0</td>\n",
       "      <td>2.0</td>\n",
       "      <td>...</td>\n",
       "      <td>2.12</td>\n",
       "      <td>10.0</td>\n",
       "      <td>10.0</td>\n",
       "      <td>2.0</td>\n",
       "      <td>1.0</td>\n",
       "      <td>1.0</td>\n",
       "      <td>1.0</td>\n",
       "      <td>1.0</td>\n",
       "      <td>0.0</td>\n",
       "      <td>1.0</td>\n",
       "    </tr>\n",
       "    <tr>\n",
       "      <th>2</th>\n",
       "      <td>0610b486422d4921ae7d2bf64640c50b</td>\n",
       "      <td>55.0</td>\n",
       "      <td>112000.000000</td>\n",
       "      <td>1123</td>\n",
       "      <td>1</td>\n",
       "      <td>0</td>\n",
       "      <td>0</td>\n",
       "      <td>9b98b8c7a33c4b65b9aebfe6a799e6d9</td>\n",
       "      <td>1.0</td>\n",
       "      <td>0.0</td>\n",
       "      <td>...</td>\n",
       "      <td>23.22</td>\n",
       "      <td>5.0</td>\n",
       "      <td>7.0</td>\n",
       "      <td>5.0</td>\n",
       "      <td>1.0</td>\n",
       "      <td>1.0</td>\n",
       "      <td>1.0</td>\n",
       "      <td>0.0</td>\n",
       "      <td>1.0</td>\n",
       "      <td>0.0</td>\n",
       "    </tr>\n",
       "    <tr>\n",
       "      <th>3</th>\n",
       "      <td>38fe809add3b4fcf9315a9694bb96ff5</td>\n",
       "      <td>68.0</td>\n",
       "      <td>65404.991568</td>\n",
       "      <td>761</td>\n",
       "      <td>0</td>\n",
       "      <td>0</td>\n",
       "      <td>1</td>\n",
       "      <td>0</td>\n",
       "      <td>0.0</td>\n",
       "      <td>0.0</td>\n",
       "      <td>...</td>\n",
       "      <td>0.00</td>\n",
       "      <td>0.0</td>\n",
       "      <td>0.0</td>\n",
       "      <td>0.0</td>\n",
       "      <td>0.0</td>\n",
       "      <td>0.0</td>\n",
       "      <td>0.0</td>\n",
       "      <td>0.0</td>\n",
       "      <td>0.0</td>\n",
       "      <td>0.0</td>\n",
       "    </tr>\n",
       "    <tr>\n",
       "      <th>4</th>\n",
       "      <td>78afa995795e4d85b5d9ceeca43f5fef</td>\n",
       "      <td>75.0</td>\n",
       "      <td>100000.000000</td>\n",
       "      <td>1190</td>\n",
       "      <td>1</td>\n",
       "      <td>0</td>\n",
       "      <td>0</td>\n",
       "      <td>9b98b8c7a33c4b65b9aebfe6a799e6d9</td>\n",
       "      <td>1.0</td>\n",
       "      <td>1.0</td>\n",
       "      <td>...</td>\n",
       "      <td>19.89</td>\n",
       "      <td>5.0</td>\n",
       "      <td>7.0</td>\n",
       "      <td>5.0</td>\n",
       "      <td>1.0</td>\n",
       "      <td>1.0</td>\n",
       "      <td>1.0</td>\n",
       "      <td>0.0</td>\n",
       "      <td>1.0</td>\n",
       "      <td>0.0</td>\n",
       "    </tr>\n",
       "  </tbody>\n",
       "</table>\n",
       "<p>5 rows × 22 columns</p>\n",
       "</div>"
      ],
      "text/plain": [
       "                        customer_id   age         income  days_since_member  \\\n",
       "0  68be06ca386d4c31939f3a4f0e3dd783  68.0   65404.991568               1276   \n",
       "1  68be06ca386d4c31939f3a4f0e3dd783  68.0   65404.991568               1276   \n",
       "2  0610b486422d4921ae7d2bf64640c50b  55.0  112000.000000               1123   \n",
       "3  38fe809add3b4fcf9315a9694bb96ff5  68.0   65404.991568                761   \n",
       "4  78afa995795e4d85b5d9ceeca43f5fef  75.0  100000.000000               1190   \n",
       "\n",
       "   female  male  other_gender                      portfolio_id  \\\n",
       "0       0     0             1  2298d6c36e964ae4a3e7e9706d1fb8c2   \n",
       "1       0     0             1  fafdcd668e3743c1bb461111dcafc2a4   \n",
       "2       1     0             0  9b98b8c7a33c4b65b9aebfe6a799e6d9   \n",
       "3       0     0             1                                 0   \n",
       "4       1     0             0  9b98b8c7a33c4b65b9aebfe6a799e6d9   \n",
       "\n",
       "   offer_received  offer_viewed    ...     w_offer_shopping_amount  \\\n",
       "0             1.0           1.0    ...                        2.12   \n",
       "1             2.0           2.0    ...                        2.12   \n",
       "2             1.0           0.0    ...                       23.22   \n",
       "3             0.0           0.0    ...                        0.00   \n",
       "4             1.0           1.0    ...                       19.89   \n",
       "\n",
       "   difficulty  duration  reward  channel_web  channel_email  channel_mobile  \\\n",
       "0         7.0       7.0     3.0          1.0            1.0             1.0   \n",
       "1        10.0      10.0     2.0          1.0            1.0             1.0   \n",
       "2         5.0       7.0     5.0          1.0            1.0             1.0   \n",
       "3         0.0       0.0     0.0          0.0            0.0             0.0   \n",
       "4         5.0       7.0     5.0          1.0            1.0             1.0   \n",
       "\n",
       "   channel_social  bogo  discount  \n",
       "0             1.0   0.0       1.0  \n",
       "1             1.0   0.0       1.0  \n",
       "2             0.0   1.0       0.0  \n",
       "3             0.0   0.0       0.0  \n",
       "4             0.0   1.0       0.0  \n",
       "\n",
       "[5 rows x 22 columns]"
      ]
     },
     "execution_count": 274,
     "metadata": {},
     "output_type": "execute_result"
    }
   ],
   "source": [
    "full_w_offer_df.head()"
   ]
  },
  {
   "cell_type": "code",
   "execution_count": 275,
   "metadata": {},
   "outputs": [],
   "source": [
    "full_w_offer_ml_df = full_w_offer_df.drop(columns = [\"customer_id\", \"portfolio_id\"])"
   ]
  },
  {
   "cell_type": "code",
   "execution_count": 308,
   "metadata": {
    "scrolled": true
   },
   "outputs": [
    {
     "data": {
      "text/html": [
       "<div>\n",
       "<style scoped>\n",
       "    .dataframe tbody tr th:only-of-type {\n",
       "        vertical-align: middle;\n",
       "    }\n",
       "\n",
       "    .dataframe tbody tr th {\n",
       "        vertical-align: top;\n",
       "    }\n",
       "\n",
       "    .dataframe thead th {\n",
       "        text-align: right;\n",
       "    }\n",
       "</style>\n",
       "<table border=\"1\" class=\"dataframe\">\n",
       "  <thead>\n",
       "    <tr style=\"text-align: right;\">\n",
       "      <th></th>\n",
       "      <th>age</th>\n",
       "      <th>income</th>\n",
       "      <th>days_since_member</th>\n",
       "      <th>female</th>\n",
       "      <th>male</th>\n",
       "      <th>other_gender</th>\n",
       "      <th>offer_received</th>\n",
       "      <th>offer_viewed</th>\n",
       "      <th>offer_completed</th>\n",
       "      <th>w_offer_shopping_times</th>\n",
       "      <th>w_offer_shopping_amount</th>\n",
       "      <th>difficulty</th>\n",
       "      <th>duration</th>\n",
       "      <th>reward</th>\n",
       "      <th>channel_web</th>\n",
       "      <th>channel_email</th>\n",
       "      <th>channel_mobile</th>\n",
       "      <th>channel_social</th>\n",
       "      <th>bogo</th>\n",
       "      <th>discount</th>\n",
       "    </tr>\n",
       "  </thead>\n",
       "  <tbody>\n",
       "    <tr>\n",
       "      <th>age</th>\n",
       "      <td>1.000000</td>\n",
       "      <td>0.301239</td>\n",
       "      <td>-0.000018</td>\n",
       "      <td>0.077053</td>\n",
       "      <td>-0.177899</td>\n",
       "      <td>0.180208</td>\n",
       "      <td>-0.000904</td>\n",
       "      <td>-0.000542</td>\n",
       "      <td>-0.001868</td>\n",
       "      <td>-0.001868</td>\n",
       "      <td>0.053346</td>\n",
       "      <td>0.010387</td>\n",
       "      <td>-0.004754</td>\n",
       "      <td>0.012498</td>\n",
       "      <td>-0.010474</td>\n",
       "      <td>-0.004844</td>\n",
       "      <td>-0.010843</td>\n",
       "      <td>-0.004210</td>\n",
       "      <td>0.004427</td>\n",
       "      <td>-0.007601</td>\n",
       "    </tr>\n",
       "    <tr>\n",
       "      <th>income</th>\n",
       "      <td>0.301239</td>\n",
       "      <td>1.000000</td>\n",
       "      <td>0.022939</td>\n",
       "      <td>0.193372</td>\n",
       "      <td>-0.169327</td>\n",
       "      <td>-0.038353</td>\n",
       "      <td>0.104312</td>\n",
       "      <td>0.061730</td>\n",
       "      <td>0.133268</td>\n",
       "      <td>0.133268</td>\n",
       "      <td>0.181460</td>\n",
       "      <td>0.148057</td>\n",
       "      <td>0.134940</td>\n",
       "      <td>0.149903</td>\n",
       "      <td>0.088049</td>\n",
       "      <td>0.170497</td>\n",
       "      <td>0.097864</td>\n",
       "      <td>0.062087</td>\n",
       "      <td>0.084103</td>\n",
       "      <td>0.031004</td>\n",
       "    </tr>\n",
       "    <tr>\n",
       "      <th>days_since_member</th>\n",
       "      <td>-0.000018</td>\n",
       "      <td>0.022939</td>\n",
       "      <td>1.000000</td>\n",
       "      <td>-0.023213</td>\n",
       "      <td>0.046162</td>\n",
       "      <td>-0.041132</td>\n",
       "      <td>0.124072</td>\n",
       "      <td>0.096476</td>\n",
       "      <td>0.161229</td>\n",
       "      <td>0.161229</td>\n",
       "      <td>0.022149</td>\n",
       "      <td>0.126396</td>\n",
       "      <td>0.172085</td>\n",
       "      <td>0.082749</td>\n",
       "      <td>0.152424</td>\n",
       "      <td>0.197565</td>\n",
       "      <td>0.141926</td>\n",
       "      <td>0.083927</td>\n",
       "      <td>0.042517</td>\n",
       "      <td>0.090088</td>\n",
       "    </tr>\n",
       "    <tr>\n",
       "      <th>female</th>\n",
       "      <td>0.077053</td>\n",
       "      <td>0.193372</td>\n",
       "      <td>-0.023213</td>\n",
       "      <td>1.000000</td>\n",
       "      <td>-0.838547</td>\n",
       "      <td>-0.264028</td>\n",
       "      <td>0.118253</td>\n",
       "      <td>0.071434</td>\n",
       "      <td>0.156078</td>\n",
       "      <td>0.156078</td>\n",
       "      <td>0.083710</td>\n",
       "      <td>0.142305</td>\n",
       "      <td>0.148551</td>\n",
       "      <td>0.146980</td>\n",
       "      <td>0.113676</td>\n",
       "      <td>0.190727</td>\n",
       "      <td>0.121918</td>\n",
       "      <td>0.070403</td>\n",
       "      <td>0.089965</td>\n",
       "      <td>0.038741</td>\n",
       "    </tr>\n",
       "    <tr>\n",
       "      <th>male</th>\n",
       "      <td>-0.177899</td>\n",
       "      <td>-0.169327</td>\n",
       "      <td>0.046162</td>\n",
       "      <td>-0.838547</td>\n",
       "      <td>1.000000</td>\n",
       "      <td>-0.304095</td>\n",
       "      <td>0.005257</td>\n",
       "      <td>0.010289</td>\n",
       "      <td>-0.005002</td>\n",
       "      <td>-0.005002</td>\n",
       "      <td>-0.027687</td>\n",
       "      <td>-0.007326</td>\n",
       "      <td>0.006460</td>\n",
       "      <td>-0.022886</td>\n",
       "      <td>0.011300</td>\n",
       "      <td>0.001489</td>\n",
       "      <td>0.007500</td>\n",
       "      <td>0.004267</td>\n",
       "      <td>-0.016815</td>\n",
       "      <td>0.017572</td>\n",
       "    </tr>\n",
       "    <tr>\n",
       "      <th>other_gender</th>\n",
       "      <td>0.180208</td>\n",
       "      <td>-0.038353</td>\n",
       "      <td>-0.041132</td>\n",
       "      <td>-0.264028</td>\n",
       "      <td>-0.304095</td>\n",
       "      <td>1.000000</td>\n",
       "      <td>-0.216073</td>\n",
       "      <td>-0.143117</td>\n",
       "      <td>-0.264049</td>\n",
       "      <td>-0.264049</td>\n",
       "      <td>-0.097354</td>\n",
       "      <td>-0.235853</td>\n",
       "      <td>-0.271182</td>\n",
       "      <td>-0.216482</td>\n",
       "      <td>-0.218769</td>\n",
       "      <td>-0.336124</td>\n",
       "      <td>-0.226453</td>\n",
       "      <td>-0.130655</td>\n",
       "      <td>-0.127537</td>\n",
       "      <td>-0.098848</td>\n",
       "    </tr>\n",
       "    <tr>\n",
       "      <th>offer_received</th>\n",
       "      <td>-0.000904</td>\n",
       "      <td>0.104312</td>\n",
       "      <td>0.124072</td>\n",
       "      <td>0.118253</td>\n",
       "      <td>0.005257</td>\n",
       "      <td>-0.216073</td>\n",
       "      <td>1.000000</td>\n",
       "      <td>0.744416</td>\n",
       "      <td>0.871959</td>\n",
       "      <td>0.871959</td>\n",
       "      <td>0.232705</td>\n",
       "      <td>0.414614</td>\n",
       "      <td>0.551879</td>\n",
       "      <td>0.351245</td>\n",
       "      <td>0.481304</td>\n",
       "      <td>0.673255</td>\n",
       "      <td>0.488578</td>\n",
       "      <td>0.285802</td>\n",
       "      <td>0.219233</td>\n",
       "      <td>0.233703</td>\n",
       "    </tr>\n",
       "    <tr>\n",
       "      <th>offer_viewed</th>\n",
       "      <td>-0.000542</td>\n",
       "      <td>0.061730</td>\n",
       "      <td>0.096476</td>\n",
       "      <td>0.071434</td>\n",
       "      <td>0.010289</td>\n",
       "      <td>-0.143117</td>\n",
       "      <td>0.744416</td>\n",
       "      <td>1.000000</td>\n",
       "      <td>0.693032</td>\n",
       "      <td>0.693032</td>\n",
       "      <td>0.178132</td>\n",
       "      <td>0.182187</td>\n",
       "      <td>0.359295</td>\n",
       "      <td>0.298205</td>\n",
       "      <td>0.343666</td>\n",
       "      <td>0.515331</td>\n",
       "      <td>0.526924</td>\n",
       "      <td>0.507040</td>\n",
       "      <td>0.213378</td>\n",
       "      <td>0.133958</td>\n",
       "    </tr>\n",
       "    <tr>\n",
       "      <th>offer_completed</th>\n",
       "      <td>-0.001868</td>\n",
       "      <td>0.133268</td>\n",
       "      <td>0.161229</td>\n",
       "      <td>0.156078</td>\n",
       "      <td>-0.005002</td>\n",
       "      <td>-0.264049</td>\n",
       "      <td>0.871959</td>\n",
       "      <td>0.693032</td>\n",
       "      <td>1.000000</td>\n",
       "      <td>1.000000</td>\n",
       "      <td>0.267237</td>\n",
       "      <td>0.445408</td>\n",
       "      <td>0.606146</td>\n",
       "      <td>0.373967</td>\n",
       "      <td>0.521126</td>\n",
       "      <td>0.730813</td>\n",
       "      <td>0.539723</td>\n",
       "      <td>0.330863</td>\n",
       "      <td>0.226514</td>\n",
       "      <td>0.264983</td>\n",
       "    </tr>\n",
       "    <tr>\n",
       "      <th>w_offer_shopping_times</th>\n",
       "      <td>-0.001868</td>\n",
       "      <td>0.133268</td>\n",
       "      <td>0.161229</td>\n",
       "      <td>0.156078</td>\n",
       "      <td>-0.005002</td>\n",
       "      <td>-0.264049</td>\n",
       "      <td>0.871959</td>\n",
       "      <td>0.693032</td>\n",
       "      <td>1.000000</td>\n",
       "      <td>1.000000</td>\n",
       "      <td>0.267237</td>\n",
       "      <td>0.445408</td>\n",
       "      <td>0.606146</td>\n",
       "      <td>0.373967</td>\n",
       "      <td>0.521126</td>\n",
       "      <td>0.730813</td>\n",
       "      <td>0.539723</td>\n",
       "      <td>0.330863</td>\n",
       "      <td>0.226514</td>\n",
       "      <td>0.264983</td>\n",
       "    </tr>\n",
       "    <tr>\n",
       "      <th>w_offer_shopping_amount</th>\n",
       "      <td>0.053346</td>\n",
       "      <td>0.181460</td>\n",
       "      <td>0.022149</td>\n",
       "      <td>0.083710</td>\n",
       "      <td>-0.027687</td>\n",
       "      <td>-0.097354</td>\n",
       "      <td>0.232705</td>\n",
       "      <td>0.178132</td>\n",
       "      <td>0.267237</td>\n",
       "      <td>0.267237</td>\n",
       "      <td>1.000000</td>\n",
       "      <td>0.159214</td>\n",
       "      <td>0.158080</td>\n",
       "      <td>0.137083</td>\n",
       "      <td>0.111933</td>\n",
       "      <td>0.187665</td>\n",
       "      <td>0.106249</td>\n",
       "      <td>0.073629</td>\n",
       "      <td>0.069108</td>\n",
       "      <td>0.057257</td>\n",
       "    </tr>\n",
       "    <tr>\n",
       "      <th>difficulty</th>\n",
       "      <td>0.010387</td>\n",
       "      <td>0.148057</td>\n",
       "      <td>0.126396</td>\n",
       "      <td>0.142305</td>\n",
       "      <td>-0.007326</td>\n",
       "      <td>-0.235853</td>\n",
       "      <td>0.414614</td>\n",
       "      <td>0.182187</td>\n",
       "      <td>0.445408</td>\n",
       "      <td>0.445408</td>\n",
       "      <td>0.159214</td>\n",
       "      <td>1.000000</td>\n",
       "      <td>0.785274</td>\n",
       "      <td>0.368603</td>\n",
       "      <td>0.407836</td>\n",
       "      <td>0.619051</td>\n",
       "      <td>-0.018456</td>\n",
       "      <td>0.046268</td>\n",
       "      <td>-0.143644</td>\n",
       "      <td>0.555237</td>\n",
       "    </tr>\n",
       "    <tr>\n",
       "      <th>duration</th>\n",
       "      <td>-0.004754</td>\n",
       "      <td>0.134940</td>\n",
       "      <td>0.172085</td>\n",
       "      <td>0.148551</td>\n",
       "      <td>0.006460</td>\n",
       "      <td>-0.271182</td>\n",
       "      <td>0.551879</td>\n",
       "      <td>0.359295</td>\n",
       "      <td>0.606146</td>\n",
       "      <td>0.606146</td>\n",
       "      <td>0.158080</td>\n",
       "      <td>0.785274</td>\n",
       "      <td>1.000000</td>\n",
       "      <td>0.206683</td>\n",
       "      <td>0.614761</td>\n",
       "      <td>0.827312</td>\n",
       "      <td>0.402467</td>\n",
       "      <td>0.243058</td>\n",
       "      <td>-0.102710</td>\n",
       "      <td>0.654034</td>\n",
       "    </tr>\n",
       "    <tr>\n",
       "      <th>reward</th>\n",
       "      <td>0.012498</td>\n",
       "      <td>0.149903</td>\n",
       "      <td>0.082749</td>\n",
       "      <td>0.146980</td>\n",
       "      <td>-0.022886</td>\n",
       "      <td>-0.216482</td>\n",
       "      <td>0.351245</td>\n",
       "      <td>0.298205</td>\n",
       "      <td>0.373967</td>\n",
       "      <td>0.373967</td>\n",
       "      <td>0.137083</td>\n",
       "      <td>0.368603</td>\n",
       "      <td>0.206683</td>\n",
       "      <td>1.000000</td>\n",
       "      <td>-0.000789</td>\n",
       "      <td>0.519205</td>\n",
       "      <td>0.370593</td>\n",
       "      <td>0.409316</td>\n",
       "      <td>0.776929</td>\n",
       "      <td>-0.419044</td>\n",
       "    </tr>\n",
       "    <tr>\n",
       "      <th>channel_web</th>\n",
       "      <td>-0.010474</td>\n",
       "      <td>0.088049</td>\n",
       "      <td>0.152424</td>\n",
       "      <td>0.113676</td>\n",
       "      <td>0.011300</td>\n",
       "      <td>-0.218769</td>\n",
       "      <td>0.481304</td>\n",
       "      <td>0.343666</td>\n",
       "      <td>0.521126</td>\n",
       "      <td>0.521126</td>\n",
       "      <td>0.111933</td>\n",
       "      <td>0.407836</td>\n",
       "      <td>0.614761</td>\n",
       "      <td>-0.000789</td>\n",
       "      <td>1.000000</td>\n",
       "      <td>0.712954</td>\n",
       "      <td>0.459987</td>\n",
       "      <td>0.146178</td>\n",
       "      <td>-0.021973</td>\n",
       "      <td>0.498027</td>\n",
       "    </tr>\n",
       "    <tr>\n",
       "      <th>channel_email</th>\n",
       "      <td>-0.004844</td>\n",
       "      <td>0.170497</td>\n",
       "      <td>0.197565</td>\n",
       "      <td>0.190727</td>\n",
       "      <td>0.001489</td>\n",
       "      <td>-0.336124</td>\n",
       "      <td>0.673255</td>\n",
       "      <td>0.515331</td>\n",
       "      <td>0.730813</td>\n",
       "      <td>0.730813</td>\n",
       "      <td>0.187665</td>\n",
       "      <td>0.619051</td>\n",
       "      <td>0.827312</td>\n",
       "      <td>0.519205</td>\n",
       "      <td>0.712954</td>\n",
       "      <td>1.000000</td>\n",
       "      <td>0.725514</td>\n",
       "      <td>0.434649</td>\n",
       "      <td>0.317572</td>\n",
       "      <td>0.355070</td>\n",
       "    </tr>\n",
       "    <tr>\n",
       "      <th>channel_mobile</th>\n",
       "      <td>-0.010843</td>\n",
       "      <td>0.097864</td>\n",
       "      <td>0.141926</td>\n",
       "      <td>0.121918</td>\n",
       "      <td>0.007500</td>\n",
       "      <td>-0.226453</td>\n",
       "      <td>0.488578</td>\n",
       "      <td>0.526924</td>\n",
       "      <td>0.539723</td>\n",
       "      <td>0.539723</td>\n",
       "      <td>0.106249</td>\n",
       "      <td>-0.018456</td>\n",
       "      <td>0.402467</td>\n",
       "      <td>0.370593</td>\n",
       "      <td>0.459987</td>\n",
       "      <td>0.725514</td>\n",
       "      <td>1.000000</td>\n",
       "      <td>0.599091</td>\n",
       "      <td>0.437720</td>\n",
       "      <td>0.053220</td>\n",
       "    </tr>\n",
       "    <tr>\n",
       "      <th>channel_social</th>\n",
       "      <td>-0.004210</td>\n",
       "      <td>0.062087</td>\n",
       "      <td>0.083927</td>\n",
       "      <td>0.070403</td>\n",
       "      <td>0.004267</td>\n",
       "      <td>-0.130655</td>\n",
       "      <td>0.285802</td>\n",
       "      <td>0.507040</td>\n",
       "      <td>0.330863</td>\n",
       "      <td>0.330863</td>\n",
       "      <td>0.073629</td>\n",
       "      <td>0.046268</td>\n",
       "      <td>0.243058</td>\n",
       "      <td>0.409316</td>\n",
       "      <td>0.146178</td>\n",
       "      <td>0.434649</td>\n",
       "      <td>0.599091</td>\n",
       "      <td>1.000000</td>\n",
       "      <td>0.263391</td>\n",
       "      <td>0.030743</td>\n",
       "    </tr>\n",
       "    <tr>\n",
       "      <th>bogo</th>\n",
       "      <td>0.004427</td>\n",
       "      <td>0.084103</td>\n",
       "      <td>0.042517</td>\n",
       "      <td>0.089965</td>\n",
       "      <td>-0.016815</td>\n",
       "      <td>-0.127537</td>\n",
       "      <td>0.219233</td>\n",
       "      <td>0.213378</td>\n",
       "      <td>0.226514</td>\n",
       "      <td>0.226514</td>\n",
       "      <td>0.069108</td>\n",
       "      <td>-0.143644</td>\n",
       "      <td>-0.102710</td>\n",
       "      <td>0.776929</td>\n",
       "      <td>-0.021973</td>\n",
       "      <td>0.317572</td>\n",
       "      <td>0.437720</td>\n",
       "      <td>0.263391</td>\n",
       "      <td>1.000000</td>\n",
       "      <td>-0.773687</td>\n",
       "    </tr>\n",
       "    <tr>\n",
       "      <th>discount</th>\n",
       "      <td>-0.007601</td>\n",
       "      <td>0.031004</td>\n",
       "      <td>0.090088</td>\n",
       "      <td>0.038741</td>\n",
       "      <td>0.017572</td>\n",
       "      <td>-0.098848</td>\n",
       "      <td>0.233703</td>\n",
       "      <td>0.133958</td>\n",
       "      <td>0.264983</td>\n",
       "      <td>0.264983</td>\n",
       "      <td>0.057257</td>\n",
       "      <td>0.555237</td>\n",
       "      <td>0.654034</td>\n",
       "      <td>-0.419044</td>\n",
       "      <td>0.498027</td>\n",
       "      <td>0.355070</td>\n",
       "      <td>0.053220</td>\n",
       "      <td>0.030743</td>\n",
       "      <td>-0.773687</td>\n",
       "      <td>1.000000</td>\n",
       "    </tr>\n",
       "  </tbody>\n",
       "</table>\n",
       "</div>"
      ],
      "text/plain": [
       "                              age    income  days_since_member    female  \\\n",
       "age                      1.000000  0.301239          -0.000018  0.077053   \n",
       "income                   0.301239  1.000000           0.022939  0.193372   \n",
       "days_since_member       -0.000018  0.022939           1.000000 -0.023213   \n",
       "female                   0.077053  0.193372          -0.023213  1.000000   \n",
       "male                    -0.177899 -0.169327           0.046162 -0.838547   \n",
       "other_gender             0.180208 -0.038353          -0.041132 -0.264028   \n",
       "offer_received          -0.000904  0.104312           0.124072  0.118253   \n",
       "offer_viewed            -0.000542  0.061730           0.096476  0.071434   \n",
       "offer_completed         -0.001868  0.133268           0.161229  0.156078   \n",
       "w_offer_shopping_times  -0.001868  0.133268           0.161229  0.156078   \n",
       "w_offer_shopping_amount  0.053346  0.181460           0.022149  0.083710   \n",
       "difficulty               0.010387  0.148057           0.126396  0.142305   \n",
       "duration                -0.004754  0.134940           0.172085  0.148551   \n",
       "reward                   0.012498  0.149903           0.082749  0.146980   \n",
       "channel_web             -0.010474  0.088049           0.152424  0.113676   \n",
       "channel_email           -0.004844  0.170497           0.197565  0.190727   \n",
       "channel_mobile          -0.010843  0.097864           0.141926  0.121918   \n",
       "channel_social          -0.004210  0.062087           0.083927  0.070403   \n",
       "bogo                     0.004427  0.084103           0.042517  0.089965   \n",
       "discount                -0.007601  0.031004           0.090088  0.038741   \n",
       "\n",
       "                             male  other_gender  offer_received  offer_viewed  \\\n",
       "age                     -0.177899      0.180208       -0.000904     -0.000542   \n",
       "income                  -0.169327     -0.038353        0.104312      0.061730   \n",
       "days_since_member        0.046162     -0.041132        0.124072      0.096476   \n",
       "female                  -0.838547     -0.264028        0.118253      0.071434   \n",
       "male                     1.000000     -0.304095        0.005257      0.010289   \n",
       "other_gender            -0.304095      1.000000       -0.216073     -0.143117   \n",
       "offer_received           0.005257     -0.216073        1.000000      0.744416   \n",
       "offer_viewed             0.010289     -0.143117        0.744416      1.000000   \n",
       "offer_completed         -0.005002     -0.264049        0.871959      0.693032   \n",
       "w_offer_shopping_times  -0.005002     -0.264049        0.871959      0.693032   \n",
       "w_offer_shopping_amount -0.027687     -0.097354        0.232705      0.178132   \n",
       "difficulty              -0.007326     -0.235853        0.414614      0.182187   \n",
       "duration                 0.006460     -0.271182        0.551879      0.359295   \n",
       "reward                  -0.022886     -0.216482        0.351245      0.298205   \n",
       "channel_web              0.011300     -0.218769        0.481304      0.343666   \n",
       "channel_email            0.001489     -0.336124        0.673255      0.515331   \n",
       "channel_mobile           0.007500     -0.226453        0.488578      0.526924   \n",
       "channel_social           0.004267     -0.130655        0.285802      0.507040   \n",
       "bogo                    -0.016815     -0.127537        0.219233      0.213378   \n",
       "discount                 0.017572     -0.098848        0.233703      0.133958   \n",
       "\n",
       "                         offer_completed  w_offer_shopping_times  \\\n",
       "age                            -0.001868               -0.001868   \n",
       "income                          0.133268                0.133268   \n",
       "days_since_member               0.161229                0.161229   \n",
       "female                          0.156078                0.156078   \n",
       "male                           -0.005002               -0.005002   \n",
       "other_gender                   -0.264049               -0.264049   \n",
       "offer_received                  0.871959                0.871959   \n",
       "offer_viewed                    0.693032                0.693032   \n",
       "offer_completed                 1.000000                1.000000   \n",
       "w_offer_shopping_times          1.000000                1.000000   \n",
       "w_offer_shopping_amount         0.267237                0.267237   \n",
       "difficulty                      0.445408                0.445408   \n",
       "duration                        0.606146                0.606146   \n",
       "reward                          0.373967                0.373967   \n",
       "channel_web                     0.521126                0.521126   \n",
       "channel_email                   0.730813                0.730813   \n",
       "channel_mobile                  0.539723                0.539723   \n",
       "channel_social                  0.330863                0.330863   \n",
       "bogo                            0.226514                0.226514   \n",
       "discount                        0.264983                0.264983   \n",
       "\n",
       "                         w_offer_shopping_amount  difficulty  duration  \\\n",
       "age                                     0.053346    0.010387 -0.004754   \n",
       "income                                  0.181460    0.148057  0.134940   \n",
       "days_since_member                       0.022149    0.126396  0.172085   \n",
       "female                                  0.083710    0.142305  0.148551   \n",
       "male                                   -0.027687   -0.007326  0.006460   \n",
       "other_gender                           -0.097354   -0.235853 -0.271182   \n",
       "offer_received                          0.232705    0.414614  0.551879   \n",
       "offer_viewed                            0.178132    0.182187  0.359295   \n",
       "offer_completed                         0.267237    0.445408  0.606146   \n",
       "w_offer_shopping_times                  0.267237    0.445408  0.606146   \n",
       "w_offer_shopping_amount                 1.000000    0.159214  0.158080   \n",
       "difficulty                              0.159214    1.000000  0.785274   \n",
       "duration                                0.158080    0.785274  1.000000   \n",
       "reward                                  0.137083    0.368603  0.206683   \n",
       "channel_web                             0.111933    0.407836  0.614761   \n",
       "channel_email                           0.187665    0.619051  0.827312   \n",
       "channel_mobile                          0.106249   -0.018456  0.402467   \n",
       "channel_social                          0.073629    0.046268  0.243058   \n",
       "bogo                                    0.069108   -0.143644 -0.102710   \n",
       "discount                                0.057257    0.555237  0.654034   \n",
       "\n",
       "                           reward  channel_web  channel_email  channel_mobile  \\\n",
       "age                      0.012498    -0.010474      -0.004844       -0.010843   \n",
       "income                   0.149903     0.088049       0.170497        0.097864   \n",
       "days_since_member        0.082749     0.152424       0.197565        0.141926   \n",
       "female                   0.146980     0.113676       0.190727        0.121918   \n",
       "male                    -0.022886     0.011300       0.001489        0.007500   \n",
       "other_gender            -0.216482    -0.218769      -0.336124       -0.226453   \n",
       "offer_received           0.351245     0.481304       0.673255        0.488578   \n",
       "offer_viewed             0.298205     0.343666       0.515331        0.526924   \n",
       "offer_completed          0.373967     0.521126       0.730813        0.539723   \n",
       "w_offer_shopping_times   0.373967     0.521126       0.730813        0.539723   \n",
       "w_offer_shopping_amount  0.137083     0.111933       0.187665        0.106249   \n",
       "difficulty               0.368603     0.407836       0.619051       -0.018456   \n",
       "duration                 0.206683     0.614761       0.827312        0.402467   \n",
       "reward                   1.000000    -0.000789       0.519205        0.370593   \n",
       "channel_web             -0.000789     1.000000       0.712954        0.459987   \n",
       "channel_email            0.519205     0.712954       1.000000        0.725514   \n",
       "channel_mobile           0.370593     0.459987       0.725514        1.000000   \n",
       "channel_social           0.409316     0.146178       0.434649        0.599091   \n",
       "bogo                     0.776929    -0.021973       0.317572        0.437720   \n",
       "discount                -0.419044     0.498027       0.355070        0.053220   \n",
       "\n",
       "                         channel_social      bogo  discount  \n",
       "age                           -0.004210  0.004427 -0.007601  \n",
       "income                         0.062087  0.084103  0.031004  \n",
       "days_since_member              0.083927  0.042517  0.090088  \n",
       "female                         0.070403  0.089965  0.038741  \n",
       "male                           0.004267 -0.016815  0.017572  \n",
       "other_gender                  -0.130655 -0.127537 -0.098848  \n",
       "offer_received                 0.285802  0.219233  0.233703  \n",
       "offer_viewed                   0.507040  0.213378  0.133958  \n",
       "offer_completed                0.330863  0.226514  0.264983  \n",
       "w_offer_shopping_times         0.330863  0.226514  0.264983  \n",
       "w_offer_shopping_amount        0.073629  0.069108  0.057257  \n",
       "difficulty                     0.046268 -0.143644  0.555237  \n",
       "duration                       0.243058 -0.102710  0.654034  \n",
       "reward                         0.409316  0.776929 -0.419044  \n",
       "channel_web                    0.146178 -0.021973  0.498027  \n",
       "channel_email                  0.434649  0.317572  0.355070  \n",
       "channel_mobile                 0.599091  0.437720  0.053220  \n",
       "channel_social                 1.000000  0.263391  0.030743  \n",
       "bogo                           0.263391  1.000000 -0.773687  \n",
       "discount                       0.030743 -0.773687  1.000000  "
      ]
     },
     "execution_count": 308,
     "metadata": {},
     "output_type": "execute_result"
    }
   ],
   "source": [
    "full_w_offer_ml_df.corr()"
   ]
  },
  {
   "cell_type": "markdown",
   "metadata": {},
   "source": [
    "Need to check what variables are correlated with offer completed, w_offer_shopping_times, w_offer_shipping_amount"
   ]
  },
  {
   "cell_type": "code",
   "execution_count": 307,
   "metadata": {},
   "outputs": [
    {
     "data": {
      "image/png": "[encoded data removed]",
      "text/plain": [
       "<matplotlib.figure.Figure at 0x7f60b6aa7a58>"
      ]
     },
     "metadata": {
      "needs_background": "light"
     },
     "output_type": "display_data"
    }
   ],
   "source": [
    "corr = full_w_offer_ml_df.corr()\n",
    "fig = plt.figure()\n",
    "ax = fig.add_subplot(111)\n",
    "cax = ax.matshow(corr,cmap='coolwarm', vmin=-1, vmax=1)\n",
    "fig.colorbar(cax)\n",
    "ticks = np.arange(0,len(full_w_offer_ml_df.corr().columns),1)\n",
    "ax.set_xticks(ticks)\n",
    "plt.xticks(rotation=90)\n",
    "ax.set_yticks(ticks)\n",
    "ax.set_xticklabels(full_w_offer_ml_df.corr().columns)\n",
    "ax.set_yticklabels(full_w_offer_ml_df.corr().columns)"
   ]
  },
  {
   "cell_type": "markdown",
   "metadata": {},
   "source": [
    "# Clustering Analysis"
   ]
  },
  {
   "cell_type": "markdown",
   "metadata": {},
   "source": [
    "## Use all variables in the full_w_offer_ml_df data frame"
   ]
  },
  {
   "cell_type": "code",
   "execution_count": 276,
   "metadata": {},
   "outputs": [],
   "source": [
    "from sklearn.cluster import KMeans\n",
    "# from sklearn.model_selection import train_test_split"
   ]
  },
  {
   "cell_type": "code",
   "execution_count": 277,
   "metadata": {},
   "outputs": [],
   "source": [
    "# X_train, X_test, y_train, y_test = train_test_split(X, y, test_size=0.33, random_state=42)"
   ]
  },
  {
   "cell_type": "code",
   "execution_count": 278,
   "metadata": {},
   "outputs": [],
   "source": [
    "ks = range(1, 6)\n",
    "inertias = []"
   ]
  },
  {
   "cell_type": "code",
   "execution_count": 279,
   "metadata": {},
   "outputs": [],
   "source": [
    "for k in ks:\n",
    "    # Create a KMeans instance with k clusters: model\n",
    "    model = KMeans(n_clusters=k, init='k-means++', max_iter=300, n_init=10, random_state=123)\n",
    "    \n",
    "    # Fit model to samples\n",
    "    model.fit(full_w_offer_ml_df)\n",
    "    \n",
    "    # Append the inertia to the list of inertias\n",
    "    inertias.append(model.inertia_)"
   ]
  },
  {
   "cell_type": "code",
   "execution_count": 280,
   "metadata": {
    "scrolled": true
   },
   "outputs": [
    {
     "data": {
      "image/png": "[encoded data removed]",
      "text/plain": [
       "<matplotlib.figure.Figure at 0x7f60c597f128>"
      ]
     },
     "metadata": {
      "needs_background": "light"
     },
     "output_type": "display_data"
    }
   ],
   "source": [
    "plt.plot(ks, inertias, '-o')\n",
    "plt.xlabel('number of clusters, k')\n",
    "plt.ylabel('inertia')\n",
    "plt.xticks(ks)\n",
    "plt.show()"
   ]
  },
  {
   "cell_type": "code",
   "execution_count": 281,
   "metadata": {
    "scrolled": true
   },
   "outputs": [],
   "source": [
    "# Create a KMeans model with 2 clusters: model\n",
    "model = KMeans(n_clusters=2, init='k-means++', max_iter=300, n_init=10, random_state=123)\n",
    "\n",
    "# Use fit_predict to fit model and obtain cluster labels: labels\n",
    "labels = model.fit_predict(full_w_offer_ml_df)"
   ]
  },
  {
   "cell_type": "code",
   "execution_count": 282,
   "metadata": {},
   "outputs": [],
   "source": [
    "labels = pd.Series(labels)"
   ]
  },
  {
   "cell_type": "code",
   "execution_count": 283,
   "metadata": {},
   "outputs": [
    {
     "data": {
      "text/plain": [
       "((33222, 20), (33222,))"
      ]
     },
     "execution_count": 283,
     "metadata": {},
     "output_type": "execute_result"
    }
   ],
   "source": [
    "full_w_offer_ml_df.shape, labels.shape"
   ]
  },
  {
   "cell_type": "code",
   "execution_count": 284,
   "metadata": {},
   "outputs": [],
   "source": [
    "full_w_offer_kmeans_df = pd.concat([full_w_offer_ml_df, labels], axis=1)"
   ]
  },
  {
   "cell_type": "code",
   "execution_count": 285,
   "metadata": {},
   "outputs": [],
   "source": [
    "full_w_offer_kmeans_df[\"cluster_label\"] = full_w_offer_kmeans_df[0]"
   ]
  },
  {
   "cell_type": "code",
   "execution_count": 286,
   "metadata": {},
   "outputs": [],
   "source": [
    "full_w_offer_kmeans_df = full_w_offer_kmeans_df.drop(columns = [0])"
   ]
  },
  {
   "cell_type": "code",
   "execution_count": 287,
   "metadata": {
    "scrolled": false
   },
   "outputs": [
    {
     "data": {
      "text/html": [
       "<div>\n",
       "<style scoped>\n",
       "    .dataframe tbody tr th:only-of-type {\n",
       "        vertical-align: middle;\n",
       "    }\n",
       "\n",
       "    .dataframe tbody tr th {\n",
       "        vertical-align: top;\n",
       "    }\n",
       "\n",
       "    .dataframe thead th {\n",
       "        text-align: right;\n",
       "    }\n",
       "</style>\n",
       "<table border=\"1\" class=\"dataframe\">\n",
       "  <thead>\n",
       "    <tr style=\"text-align: right;\">\n",
       "      <th></th>\n",
       "      <th>age</th>\n",
       "      <th>income</th>\n",
       "      <th>days_since_member</th>\n",
       "      <th>female</th>\n",
       "      <th>male</th>\n",
       "      <th>other_gender</th>\n",
       "      <th>offer_received</th>\n",
       "      <th>offer_viewed</th>\n",
       "      <th>offer_completed</th>\n",
       "      <th>w_offer_shopping_times</th>\n",
       "      <th>...</th>\n",
       "      <th>difficulty</th>\n",
       "      <th>duration</th>\n",
       "      <th>reward</th>\n",
       "      <th>channel_web</th>\n",
       "      <th>channel_email</th>\n",
       "      <th>channel_mobile</th>\n",
       "      <th>channel_social</th>\n",
       "      <th>bogo</th>\n",
       "      <th>discount</th>\n",
       "      <th>cluster_label</th>\n",
       "    </tr>\n",
       "  </thead>\n",
       "  <tbody>\n",
       "    <tr>\n",
       "      <th>0</th>\n",
       "      <td>68.0</td>\n",
       "      <td>65404.991568</td>\n",
       "      <td>1276</td>\n",
       "      <td>0</td>\n",
       "      <td>0</td>\n",
       "      <td>1</td>\n",
       "      <td>1.0</td>\n",
       "      <td>1.0</td>\n",
       "      <td>1.0</td>\n",
       "      <td>1.0</td>\n",
       "      <td>...</td>\n",
       "      <td>7.0</td>\n",
       "      <td>7.0</td>\n",
       "      <td>3.0</td>\n",
       "      <td>1.0</td>\n",
       "      <td>1.0</td>\n",
       "      <td>1.0</td>\n",
       "      <td>1.0</td>\n",
       "      <td>0.0</td>\n",
       "      <td>1.0</td>\n",
       "      <td>1</td>\n",
       "    </tr>\n",
       "    <tr>\n",
       "      <th>1</th>\n",
       "      <td>68.0</td>\n",
       "      <td>65404.991568</td>\n",
       "      <td>1276</td>\n",
       "      <td>0</td>\n",
       "      <td>0</td>\n",
       "      <td>1</td>\n",
       "      <td>2.0</td>\n",
       "      <td>2.0</td>\n",
       "      <td>1.0</td>\n",
       "      <td>1.0</td>\n",
       "      <td>...</td>\n",
       "      <td>10.0</td>\n",
       "      <td>10.0</td>\n",
       "      <td>2.0</td>\n",
       "      <td>1.0</td>\n",
       "      <td>1.0</td>\n",
       "      <td>1.0</td>\n",
       "      <td>1.0</td>\n",
       "      <td>0.0</td>\n",
       "      <td>1.0</td>\n",
       "      <td>1</td>\n",
       "    </tr>\n",
       "    <tr>\n",
       "      <th>2</th>\n",
       "      <td>55.0</td>\n",
       "      <td>112000.000000</td>\n",
       "      <td>1123</td>\n",
       "      <td>1</td>\n",
       "      <td>0</td>\n",
       "      <td>0</td>\n",
       "      <td>1.0</td>\n",
       "      <td>0.0</td>\n",
       "      <td>1.0</td>\n",
       "      <td>1.0</td>\n",
       "      <td>...</td>\n",
       "      <td>5.0</td>\n",
       "      <td>7.0</td>\n",
       "      <td>5.0</td>\n",
       "      <td>1.0</td>\n",
       "      <td>1.0</td>\n",
       "      <td>1.0</td>\n",
       "      <td>0.0</td>\n",
       "      <td>1.0</td>\n",
       "      <td>0.0</td>\n",
       "      <td>0</td>\n",
       "    </tr>\n",
       "    <tr>\n",
       "      <th>3</th>\n",
       "      <td>68.0</td>\n",
       "      <td>65404.991568</td>\n",
       "      <td>761</td>\n",
       "      <td>0</td>\n",
       "      <td>0</td>\n",
       "      <td>1</td>\n",
       "      <td>0.0</td>\n",
       "      <td>0.0</td>\n",
       "      <td>0.0</td>\n",
       "      <td>0.0</td>\n",
       "      <td>...</td>\n",
       "      <td>0.0</td>\n",
       "      <td>0.0</td>\n",
       "      <td>0.0</td>\n",
       "      <td>0.0</td>\n",
       "      <td>0.0</td>\n",
       "      <td>0.0</td>\n",
       "      <td>0.0</td>\n",
       "      <td>0.0</td>\n",
       "      <td>0.0</td>\n",
       "      <td>1</td>\n",
       "    </tr>\n",
       "    <tr>\n",
       "      <th>4</th>\n",
       "      <td>75.0</td>\n",
       "      <td>100000.000000</td>\n",
       "      <td>1190</td>\n",
       "      <td>1</td>\n",
       "      <td>0</td>\n",
       "      <td>0</td>\n",
       "      <td>1.0</td>\n",
       "      <td>1.0</td>\n",
       "      <td>1.0</td>\n",
       "      <td>1.0</td>\n",
       "      <td>...</td>\n",
       "      <td>5.0</td>\n",
       "      <td>7.0</td>\n",
       "      <td>5.0</td>\n",
       "      <td>1.0</td>\n",
       "      <td>1.0</td>\n",
       "      <td>1.0</td>\n",
       "      <td>0.0</td>\n",
       "      <td>1.0</td>\n",
       "      <td>0.0</td>\n",
       "      <td>0</td>\n",
       "    </tr>\n",
       "  </tbody>\n",
       "</table>\n",
       "<p>5 rows × 21 columns</p>\n",
       "</div>"
      ],
      "text/plain": [
       "    age         income  days_since_member  female  male  other_gender  \\\n",
       "0  68.0   65404.991568               1276       0     0             1   \n",
       "1  68.0   65404.991568               1276       0     0             1   \n",
       "2  55.0  112000.000000               1123       1     0             0   \n",
       "3  68.0   65404.991568                761       0     0             1   \n",
       "4  75.0  100000.000000               1190       1     0             0   \n",
       "\n",
       "   offer_received  offer_viewed  offer_completed  w_offer_shopping_times  \\\n",
       "0             1.0           1.0              1.0                     1.0   \n",
       "1             2.0           2.0              1.0                     1.0   \n",
       "2             1.0           0.0              1.0                     1.0   \n",
       "3             0.0           0.0              0.0                     0.0   \n",
       "4             1.0           1.0              1.0                     1.0   \n",
       "\n",
       "       ...        difficulty  duration  reward  channel_web  channel_email  \\\n",
       "0      ...               7.0       7.0     3.0          1.0            1.0   \n",
       "1      ...              10.0      10.0     2.0          1.0            1.0   \n",
       "2      ...               5.0       7.0     5.0          1.0            1.0   \n",
       "3      ...               0.0       0.0     0.0          0.0            0.0   \n",
       "4      ...               5.0       7.0     5.0          1.0            1.0   \n",
       "\n",
       "   channel_mobile  channel_social  bogo  discount  cluster_label  \n",
       "0             1.0             1.0   0.0       1.0              1  \n",
       "1             1.0             1.0   0.0       1.0              1  \n",
       "2             1.0             0.0   1.0       0.0              0  \n",
       "3             0.0             0.0   0.0       0.0              1  \n",
       "4             1.0             0.0   1.0       0.0              0  \n",
       "\n",
       "[5 rows x 21 columns]"
      ]
     },
     "execution_count": 287,
     "metadata": {},
     "output_type": "execute_result"
    }
   ],
   "source": [
    "full_w_offer_kmeans_df.head()"
   ]
  },
  {
   "cell_type": "code",
   "execution_count": 288,
   "metadata": {
    "scrolled": true
   },
   "outputs": [
    {
     "data": {
      "text/plain": [
       "Index(['age', 'income', 'days_since_member', 'female', 'male', 'other_gender',\n",
       "       'offer_received', 'offer_viewed', 'offer_completed',\n",
       "       'w_offer_shopping_times', 'w_offer_shopping_amount', 'difficulty',\n",
       "       'duration', 'reward', 'channel_web', 'channel_email', 'channel_mobile',\n",
       "       'channel_social', 'bogo', 'discount', 'cluster_label'],\n",
       "      dtype='object')"
      ]
     },
     "execution_count": 288,
     "metadata": {},
     "output_type": "execute_result"
    }
   ],
   "source": [
    "full_w_offer_kmeans_df.columns"
   ]
  },
  {
   "cell_type": "code",
   "execution_count": 305,
   "metadata": {},
   "outputs": [
    {
     "data": {
      "text/plain": [
       "(33222, 20914, 12308)"
      ]
     },
     "execution_count": 305,
     "metadata": {},
     "output_type": "execute_result"
    }
   ],
   "source": [
    "labels.count(), labels.sum(), labels.count()-labels.sum()"
   ]
  },
  {
   "cell_type": "code",
   "execution_count": 297,
   "metadata": {
    "scrolled": true
   },
   "outputs": [
    {
     "data": {
      "text/plain": [
       "<matplotlib.legend.Legend at 0x7f60b6acb390>"
      ]
     },
     "execution_count": 297,
     "metadata": {},
     "output_type": "execute_result"
    },
    {
     "data": {
      "image/png": "[encoded data removed]",
      "text/plain": [
       "<matplotlib.figure.Figure at 0x7f60b6acb6a0>"
      ]
     },
     "metadata": {
      "needs_background": "light"
     },
     "output_type": "display_data"
    }
   ],
   "source": [
    "plt.hist(full_w_offer_kmeans_df.loc[full_w_offer_kmeans_df[\"cluster_label\"] == 0, \"w_offer_shopping_amount\"], bins = 10, alpha=0.5, label=\"cluster 1\")\n",
    "plt.hist(full_w_offer_kmeans_df.loc[full_w_offer_kmeans_df[\"cluster_label\"] == 1, \"w_offer_shopping_amount\"], bins = 10, alpha=0.5, label=\"cluster 2\")\n",
    "plt.xlim(-5, 50)\n",
    "plt.legend(loc=\"upper right\")"
   ]
  },
  {
   "cell_type": "markdown",
   "metadata": {},
   "source": [
    "The class 1 spent almost double on the offer than the class 2"
   ]
  },
  {
   "cell_type": "code",
   "execution_count": 296,
   "metadata": {},
   "outputs": [
    {
     "data": {
      "text/plain": [
       "cluster_label\n",
       "0    30.492442\n",
       "1    14.948095\n",
       "Name: w_offer_shopping_amount, dtype: float64"
      ]
     },
     "execution_count": 296,
     "metadata": {},
     "output_type": "execute_result"
    }
   ],
   "source": [
    "full_w_offer_kmeans_df.groupby(\"cluster_label\")[\"w_offer_shopping_amount\"].mean()"
   ]
  },
  {
   "cell_type": "markdown",
   "metadata": {},
   "source": [
    "# Match transactions with offers (The Assumption is not true. Need to redo) "
   ]
  },
  {
   "cell_type": "markdown",
   "metadata": {},
   "source": [
    "# Things need to be considered. First, how to display the data. Second, how to select the data put into the cluster model."
   ]
  },
  {
   "cell_type": "code",
   "execution_count": null,
   "metadata": {},
   "outputs": [],
   "source": []
  },
  {
   "cell_type": "markdown",
   "metadata": {},
   "source": [
    "# The next 5 steps genreate two trans dfs. One is related with offer and another contains all transactions that don't related with offers. "
   ]
  },
  {
   "cell_type": "markdown",
   "metadata": {},
   "source": [
    "## The assumption of this approach is when the customers use an offer the offer completed. And the transaction time is the same as the offer completed time. There is no multiple actions needed to complete an offer."
   ]
  },
  {
   "cell_type": "code",
   "execution_count": 377,
   "metadata": {},
   "outputs": [],
   "source": [
    "pt_com_df = pt_df.loc[(pt_df[\"portfolio_id\"] != 0) & (pt_df[\"event\"] == \"offer completed\"), \\\n",
    "                           [\"event\", \"customer_id\", \"portfolio_id\", \"time\"]]\n",
    "pt_trans_df = pt_df.loc[(pt_df[\"portfolio_id\"] == 0), [\"customer_id\", \"time\", \"amount\"]]"
   ]
  },
  {
   "cell_type": "code",
   "execution_count": 378,
   "metadata": {},
   "outputs": [],
   "source": [
    "pt_com_trans_df = pt_com_df.merge(pt_trans_df, on =[\"customer_id\", \"time\"], how=\"outer\")"
   ]
  },
  {
   "cell_type": "code",
   "execution_count": 379,
   "metadata": {},
   "outputs": [
    {
     "data": {
      "text/html": [
       "<div>\n",
       "<style scoped>\n",
       "    .dataframe tbody tr th:only-of-type {\n",
       "        vertical-align: middle;\n",
       "    }\n",
       "\n",
       "    .dataframe tbody tr th {\n",
       "        vertical-align: top;\n",
       "    }\n",
       "\n",
       "    .dataframe thead th {\n",
       "        text-align: right;\n",
       "    }\n",
       "</style>\n",
       "<table border=\"1\" class=\"dataframe\">\n",
       "  <thead>\n",
       "    <tr style=\"text-align: right;\">\n",
       "      <th></th>\n",
       "      <th>event</th>\n",
       "      <th>customer_id</th>\n",
       "      <th>portfolio_id</th>\n",
       "      <th>time</th>\n",
       "      <th>amount</th>\n",
       "    </tr>\n",
       "  </thead>\n",
       "  <tbody>\n",
       "    <tr>\n",
       "      <th>0</th>\n",
       "      <td>offer completed</td>\n",
       "      <td>9fa9ae8f57894cc9a3b8a9bbe0fc1b2f</td>\n",
       "      <td>2906b810c7d4411798c6938adc9daaa5</td>\n",
       "      <td>0</td>\n",
       "      <td>34.56</td>\n",
       "    </tr>\n",
       "    <tr>\n",
       "      <th>1</th>\n",
       "      <td>offer completed</td>\n",
       "      <td>fe97aa22dd3e48c8b143116a8403dd52</td>\n",
       "      <td>fafdcd668e3743c1bb461111dcafc2a4</td>\n",
       "      <td>0</td>\n",
       "      <td>18.97</td>\n",
       "    </tr>\n",
       "    <tr>\n",
       "      <th>2</th>\n",
       "      <td>offer completed</td>\n",
       "      <td>629fc02d56414d91bca360decdfa9288</td>\n",
       "      <td>9b98b8c7a33c4b65b9aebfe6a799e6d9</td>\n",
       "      <td>0</td>\n",
       "      <td>33.90</td>\n",
       "    </tr>\n",
       "    <tr>\n",
       "      <th>3</th>\n",
       "      <td>offer completed</td>\n",
       "      <td>676506bad68e4161b9bbaffeb039626b</td>\n",
       "      <td>ae264e3637204a6fb9bb56bc8210ddfd</td>\n",
       "      <td>0</td>\n",
       "      <td>18.01</td>\n",
       "    </tr>\n",
       "    <tr>\n",
       "      <th>4</th>\n",
       "      <td>offer completed</td>\n",
       "      <td>8f7dd3b2afe14c078eb4f6e6fe4ba97d</td>\n",
       "      <td>4d5c57ea9a6940dd891ad53e9dbe8da0</td>\n",
       "      <td>0</td>\n",
       "      <td>19.11</td>\n",
       "    </tr>\n",
       "  </tbody>\n",
       "</table>\n",
       "</div>"
      ],
      "text/plain": [
       "             event                       customer_id  \\\n",
       "0  offer completed  9fa9ae8f57894cc9a3b8a9bbe0fc1b2f   \n",
       "1  offer completed  fe97aa22dd3e48c8b143116a8403dd52   \n",
       "2  offer completed  629fc02d56414d91bca360decdfa9288   \n",
       "3  offer completed  676506bad68e4161b9bbaffeb039626b   \n",
       "4  offer completed  8f7dd3b2afe14c078eb4f6e6fe4ba97d   \n",
       "\n",
       "                       portfolio_id  time  amount  \n",
       "0  2906b810c7d4411798c6938adc9daaa5     0   34.56  \n",
       "1  fafdcd668e3743c1bb461111dcafc2a4     0   18.97  \n",
       "2  9b98b8c7a33c4b65b9aebfe6a799e6d9     0   33.90  \n",
       "3  ae264e3637204a6fb9bb56bc8210ddfd     0   18.01  \n",
       "4  4d5c57ea9a6940dd891ad53e9dbe8da0     0   19.11  "
      ]
     },
     "execution_count": 379,
     "metadata": {},
     "output_type": "execute_result"
    }
   ],
   "source": [
    "pt_com_trans_df.head()"
   ]
  },
  {
   "cell_type": "code",
   "execution_count": 380,
   "metadata": {},
   "outputs": [],
   "source": [
    "pt_trans_w_offer_df = pt_com_trans_df[~pt_com_trans_df[\"event\"].isnull()]\n",
    "pt_trans_wo_offer_df = pt_com_trans_df[pt_com_trans_df[\"event\"].isnull()]"
   ]
  },
  {
   "cell_type": "code",
   "execution_count": 381,
   "metadata": {},
   "outputs": [],
   "source": [
    "pt_trans_w_offer_df = pt_trans_w_offer_df.drop(columns = [\"event\"])"
   ]
  },
  {
   "cell_type": "code",
   "execution_count": 401,
   "metadata": {},
   "outputs": [],
   "source": [
    "pt_trans_w_offer_matrix = pt_trans_w_offer_df.groupby([\"customer_id\", \"portfolio_id\"])\\\n",
    ".agg({\"time\":pd.Series.nunique, \"amount\":sum}).reset_index()"
   ]
  },
  {
   "cell_type": "code",
   "execution_count": 402,
   "metadata": {
    "scrolled": true
   },
   "outputs": [
    {
     "data": {
      "text/html": [
       "<div>\n",
       "<style scoped>\n",
       "    .dataframe tbody tr th:only-of-type {\n",
       "        vertical-align: middle;\n",
       "    }\n",
       "\n",
       "    .dataframe tbody tr th {\n",
       "        vertical-align: top;\n",
       "    }\n",
       "\n",
       "    .dataframe thead th {\n",
       "        text-align: right;\n",
       "    }\n",
       "</style>\n",
       "<table border=\"1\" class=\"dataframe\">\n",
       "  <thead>\n",
       "    <tr style=\"text-align: right;\">\n",
       "      <th></th>\n",
       "      <th>customer_id</th>\n",
       "      <th>portfolio_id</th>\n",
       "      <th>time</th>\n",
       "      <th>amount</th>\n",
       "    </tr>\n",
       "  </thead>\n",
       "  <tbody>\n",
       "    <tr>\n",
       "      <th>0</th>\n",
       "      <td>0009655768c64bdeb2e877511632db8f</td>\n",
       "      <td>2906b810c7d4411798c6938adc9daaa5</td>\n",
       "      <td>1</td>\n",
       "      <td>10.27</td>\n",
       "    </tr>\n",
       "    <tr>\n",
       "      <th>1</th>\n",
       "      <td>0009655768c64bdeb2e877511632db8f</td>\n",
       "      <td>f19421c1d4aa40978ebb69ca19b0e20d</td>\n",
       "      <td>1</td>\n",
       "      <td>8.57</td>\n",
       "    </tr>\n",
       "    <tr>\n",
       "      <th>2</th>\n",
       "      <td>0009655768c64bdeb2e877511632db8f</td>\n",
       "      <td>fafdcd668e3743c1bb461111dcafc2a4</td>\n",
       "      <td>1</td>\n",
       "      <td>14.11</td>\n",
       "    </tr>\n",
       "    <tr>\n",
       "      <th>3</th>\n",
       "      <td>0011e0d4e6b944f998e987f904e8c1e5</td>\n",
       "      <td>0b1e1539f2cc45b7b9fa7c272da2e1d7</td>\n",
       "      <td>1</td>\n",
       "      <td>22.05</td>\n",
       "    </tr>\n",
       "    <tr>\n",
       "      <th>4</th>\n",
       "      <td>0011e0d4e6b944f998e987f904e8c1e5</td>\n",
       "      <td>2298d6c36e964ae4a3e7e9706d1fb8c2</td>\n",
       "      <td>1</td>\n",
       "      <td>11.93</td>\n",
       "    </tr>\n",
       "  </tbody>\n",
       "</table>\n",
       "</div>"
      ],
      "text/plain": [
       "                        customer_id                      portfolio_id  time  \\\n",
       "0  0009655768c64bdeb2e877511632db8f  2906b810c7d4411798c6938adc9daaa5     1   \n",
       "1  0009655768c64bdeb2e877511632db8f  f19421c1d4aa40978ebb69ca19b0e20d     1   \n",
       "2  0009655768c64bdeb2e877511632db8f  fafdcd668e3743c1bb461111dcafc2a4     1   \n",
       "3  0011e0d4e6b944f998e987f904e8c1e5  0b1e1539f2cc45b7b9fa7c272da2e1d7     1   \n",
       "4  0011e0d4e6b944f998e987f904e8c1e5  2298d6c36e964ae4a3e7e9706d1fb8c2     1   \n",
       "\n",
       "   amount  \n",
       "0   10.27  \n",
       "1    8.57  \n",
       "2   14.11  \n",
       "3   22.05  \n",
       "4   11.93  "
      ]
     },
     "execution_count": 402,
     "metadata": {},
     "output_type": "execute_result"
    }
   ],
   "source": [
    "pt_trans_w_offer_matrix.head()"
   ]
  },
  {
   "cell_type": "code",
   "execution_count": 404,
   "metadata": {},
   "outputs": [],
   "source": [
    "pt_trans_w_offer_matrix = pt_trans_w_offer_matrix.rename(columns={\"time\":\"w_offer_shopping_times\", \\\n",
    "                                                                  \"amount\":\"w_offer_shopping_amount\"})"
   ]
  },
  {
   "cell_type": "code",
   "execution_count": 405,
   "metadata": {},
   "outputs": [
    {
     "data": {
      "text/html": [
       "<div>\n",
       "<style scoped>\n",
       "    .dataframe tbody tr th:only-of-type {\n",
       "        vertical-align: middle;\n",
       "    }\n",
       "\n",
       "    .dataframe tbody tr th {\n",
       "        vertical-align: top;\n",
       "    }\n",
       "\n",
       "    .dataframe thead th {\n",
       "        text-align: right;\n",
       "    }\n",
       "</style>\n",
       "<table border=\"1\" class=\"dataframe\">\n",
       "  <thead>\n",
       "    <tr style=\"text-align: right;\">\n",
       "      <th></th>\n",
       "      <th>customer_id</th>\n",
       "      <th>portfolio_id</th>\n",
       "      <th>complete_times</th>\n",
       "      <th>total_amount</th>\n",
       "    </tr>\n",
       "  </thead>\n",
       "  <tbody>\n",
       "    <tr>\n",
       "      <th>9807</th>\n",
       "      <td>56630668a08842a38f32bf4f7bfa4125</td>\n",
       "      <td>2906b810c7d4411798c6938adc9daaa5</td>\n",
       "      <td>3</td>\n",
       "      <td>58.25</td>\n",
       "    </tr>\n",
       "  </tbody>\n",
       "</table>\n",
       "</div>"
      ],
      "text/plain": [
       "                           customer_id                      portfolio_id  \\\n",
       "9807  56630668a08842a38f32bf4f7bfa4125  2906b810c7d4411798c6938adc9daaa5   \n",
       "\n",
       "      complete_times  total_amount  \n",
       "9807               3         58.25  "
      ]
     },
     "execution_count": 405,
     "metadata": {},
     "output_type": "execute_result"
    }
   ],
   "source": [
    "pt_trans_w_offer_matrix[(pt_trans_w_offer_matrix[\"customer_id\"] == \"56630668a08842a38f32bf4f7bfa4125\") & \\\n",
    "               (pt_trans_w_offer_matrix[\"portfolio_id\"] == \"2906b810c7d4411798c6938adc9daaa5\")]"
   ]
  },
  {
   "cell_type": "code",
   "execution_count": 383,
   "metadata": {
    "scrolled": false
   },
   "outputs": [
    {
     "data": {
      "text/html": [
       "<div>\n",
       "<style scoped>\n",
       "    .dataframe tbody tr th:only-of-type {\n",
       "        vertical-align: middle;\n",
       "    }\n",
       "\n",
       "    .dataframe tbody tr th {\n",
       "        vertical-align: top;\n",
       "    }\n",
       "\n",
       "    .dataframe thead th {\n",
       "        text-align: right;\n",
       "    }\n",
       "</style>\n",
       "<table border=\"1\" class=\"dataframe\">\n",
       "  <thead>\n",
       "    <tr style=\"text-align: right;\">\n",
       "      <th></th>\n",
       "      <th>customer_id</th>\n",
       "      <th>portfolio_id</th>\n",
       "      <th>time</th>\n",
       "      <th>amount</th>\n",
       "    </tr>\n",
       "  </thead>\n",
       "  <tbody>\n",
       "    <tr>\n",
       "      <th>503</th>\n",
       "      <td>56630668a08842a38f32bf4f7bfa4125</td>\n",
       "      <td>2906b810c7d4411798c6938adc9daaa5</td>\n",
       "      <td>12</td>\n",
       "      <td>17.29</td>\n",
       "    </tr>\n",
       "    <tr>\n",
       "      <th>13282</th>\n",
       "      <td>56630668a08842a38f32bf4f7bfa4125</td>\n",
       "      <td>2906b810c7d4411798c6938adc9daaa5</td>\n",
       "      <td>390</td>\n",
       "      <td>21.24</td>\n",
       "    </tr>\n",
       "    <tr>\n",
       "      <th>29736</th>\n",
       "      <td>56630668a08842a38f32bf4f7bfa4125</td>\n",
       "      <td>2906b810c7d4411798c6938adc9daaa5</td>\n",
       "      <td>618</td>\n",
       "      <td>19.72</td>\n",
       "    </tr>\n",
       "  </tbody>\n",
       "</table>\n",
       "</div>"
      ],
      "text/plain": [
       "                            customer_id                      portfolio_id  \\\n",
       "503    56630668a08842a38f32bf4f7bfa4125  2906b810c7d4411798c6938adc9daaa5   \n",
       "13282  56630668a08842a38f32bf4f7bfa4125  2906b810c7d4411798c6938adc9daaa5   \n",
       "29736  56630668a08842a38f32bf4f7bfa4125  2906b810c7d4411798c6938adc9daaa5   \n",
       "\n",
       "       time  amount  \n",
       "503      12   17.29  \n",
       "13282   390   21.24  \n",
       "29736   618   19.72  "
      ]
     },
     "execution_count": 383,
     "metadata": {},
     "output_type": "execute_result"
    }
   ],
   "source": [
    "pt_trans_w_offer_df[(pt_trans_w_offer_df[\"customer_id\"] == \"56630668a08842a38f32bf4f7bfa4125\") & \\\n",
    "               (pt_trans_w_offer_df[\"portfolio_id\"] == \"2906b810c7d4411798c6938adc9daaa5\")].sort_values(\"time\")"
   ]
  },
  {
   "cell_type": "code",
   "execution_count": 406,
   "metadata": {},
   "outputs": [
    {
     "data": {
      "text/html": [
       "<div>\n",
       "<style scoped>\n",
       "    .dataframe tbody tr th:only-of-type {\n",
       "        vertical-align: middle;\n",
       "    }\n",
       "\n",
       "    .dataframe tbody tr th {\n",
       "        vertical-align: top;\n",
       "    }\n",
       "\n",
       "    .dataframe thead th {\n",
       "        text-align: right;\n",
       "    }\n",
       "</style>\n",
       "<table border=\"1\" class=\"dataframe\">\n",
       "  <thead>\n",
       "    <tr style=\"text-align: right;\">\n",
       "      <th></th>\n",
       "      <th>event</th>\n",
       "      <th>customer_id</th>\n",
       "      <th>portfolio_id</th>\n",
       "      <th>time</th>\n",
       "      <th>amount</th>\n",
       "    </tr>\n",
       "  </thead>\n",
       "  <tbody>\n",
       "    <tr>\n",
       "      <th>33579</th>\n",
       "      <td>NaN</td>\n",
       "      <td>02c083884c7d45b39cc68e1314fec56c</td>\n",
       "      <td>NaN</td>\n",
       "      <td>0</td>\n",
       "      <td>0.83</td>\n",
       "    </tr>\n",
       "    <tr>\n",
       "      <th>33580</th>\n",
       "      <td>NaN</td>\n",
       "      <td>54890f68699049c2a04d415abc25e717</td>\n",
       "      <td>NaN</td>\n",
       "      <td>0</td>\n",
       "      <td>13.23</td>\n",
       "    </tr>\n",
       "    <tr>\n",
       "      <th>33581</th>\n",
       "      <td>NaN</td>\n",
       "      <td>b2f1cd155b864803ad8334cdf13c4bd2</td>\n",
       "      <td>NaN</td>\n",
       "      <td>0</td>\n",
       "      <td>19.51</td>\n",
       "    </tr>\n",
       "    <tr>\n",
       "      <th>33582</th>\n",
       "      <td>NaN</td>\n",
       "      <td>bbeb54e861614fc7b22a8844f72dca6c</td>\n",
       "      <td>NaN</td>\n",
       "      <td>0</td>\n",
       "      <td>0.22</td>\n",
       "    </tr>\n",
       "    <tr>\n",
       "      <th>33583</th>\n",
       "      <td>NaN</td>\n",
       "      <td>a97e6f33219c432db82acfa0d19c602d</td>\n",
       "      <td>NaN</td>\n",
       "      <td>0</td>\n",
       "      <td>18.59</td>\n",
       "    </tr>\n",
       "  </tbody>\n",
       "</table>\n",
       "</div>"
      ],
      "text/plain": [
       "      event                       customer_id portfolio_id  time  amount\n",
       "33579   NaN  02c083884c7d45b39cc68e1314fec56c          NaN     0    0.83\n",
       "33580   NaN  54890f68699049c2a04d415abc25e717          NaN     0   13.23\n",
       "33581   NaN  b2f1cd155b864803ad8334cdf13c4bd2          NaN     0   19.51\n",
       "33582   NaN  bbeb54e861614fc7b22a8844f72dca6c          NaN     0    0.22\n",
       "33583   NaN  a97e6f33219c432db82acfa0d19c602d          NaN     0   18.59"
      ]
     },
     "execution_count": 406,
     "metadata": {},
     "output_type": "execute_result"
    }
   ],
   "source": [
    "pt_trans_wo_offer_df.head()"
   ]
  },
  {
   "cell_type": "code",
   "execution_count": 408,
   "metadata": {},
   "outputs": [],
   "source": [
    "pt_trans_wo_offer_matrix = pt_trans_wo_offer_df.groupby(\"customer_id\").agg({\"time\":pd.Series.nunique, \"amount\":sum}).reset_index()"
   ]
  },
  {
   "cell_type": "code",
   "execution_count": 410,
   "metadata": {},
   "outputs": [],
   "source": [
    "pt_trans_wo_offer_matrix = pt_trans_wo_offer_matrix.rename(columns={\"time\":\"wo_offer_shopping_times\", \\\n",
    "                               \"amount\":\"wo_offer_shopping_amount\"})"
   ]
  },
  {
   "cell_type": "code",
   "execution_count": 411,
   "metadata": {
    "scrolled": false
   },
   "outputs": [
    {
     "data": {
      "text/html": [
       "<div>\n",
       "<style scoped>\n",
       "    .dataframe tbody tr th:only-of-type {\n",
       "        vertical-align: middle;\n",
       "    }\n",
       "\n",
       "    .dataframe tbody tr th {\n",
       "        vertical-align: top;\n",
       "    }\n",
       "\n",
       "    .dataframe thead th {\n",
       "        text-align: right;\n",
       "    }\n",
       "</style>\n",
       "<table border=\"1\" class=\"dataframe\">\n",
       "  <thead>\n",
       "    <tr style=\"text-align: right;\">\n",
       "      <th></th>\n",
       "      <th>customer_id</th>\n",
       "      <th>wo_offer_shopping_times</th>\n",
       "      <th>wo_offer_shopping_amount</th>\n",
       "    </tr>\n",
       "  </thead>\n",
       "  <tbody>\n",
       "    <tr>\n",
       "      <th>0</th>\n",
       "      <td>0009655768c64bdeb2e877511632db8f</td>\n",
       "      <td>5</td>\n",
       "      <td>94.65</td>\n",
       "    </tr>\n",
       "    <tr>\n",
       "      <th>1</th>\n",
       "      <td>00116118485d4dfda04fdbaba9a87b5c</td>\n",
       "      <td>3</td>\n",
       "      <td>4.09</td>\n",
       "    </tr>\n",
       "    <tr>\n",
       "      <th>2</th>\n",
       "      <td>0011e0d4e6b944f998e987f904e8c1e5</td>\n",
       "      <td>3</td>\n",
       "      <td>45.48</td>\n",
       "    </tr>\n",
       "    <tr>\n",
       "      <th>3</th>\n",
       "      <td>0020c2b971eb4e9188eac86d93036a77</td>\n",
       "      <td>6</td>\n",
       "      <td>161.99</td>\n",
       "    </tr>\n",
       "    <tr>\n",
       "      <th>4</th>\n",
       "      <td>0020ccbbb6d84e358d3414a3ff76cffd</td>\n",
       "      <td>9</td>\n",
       "      <td>117.55</td>\n",
       "    </tr>\n",
       "  </tbody>\n",
       "</table>\n",
       "</div>"
      ],
      "text/plain": [
       "                        customer_id  wo_offer_shopping_times  \\\n",
       "0  0009655768c64bdeb2e877511632db8f                        5   \n",
       "1  00116118485d4dfda04fdbaba9a87b5c                        3   \n",
       "2  0011e0d4e6b944f998e987f904e8c1e5                        3   \n",
       "3  0020c2b971eb4e9188eac86d93036a77                        6   \n",
       "4  0020ccbbb6d84e358d3414a3ff76cffd                        9   \n",
       "\n",
       "   wo_offer_shopping_amount  \n",
       "0                     94.65  \n",
       "1                      4.09  \n",
       "2                     45.48  \n",
       "3                    161.99  \n",
       "4                    117.55  "
      ]
     },
     "execution_count": 411,
     "metadata": {},
     "output_type": "execute_result"
    }
   ],
   "source": [
    "pt_trans_wo_offer_matrix.head()"
   ]
  },
  {
   "cell_type": "code",
   "execution_count": 166,
   "metadata": {},
   "outputs": [],
   "source": [
    "# cus_rfm_sum_df = cus_rfm_df.groupby(\"RFMScore\").agg({\"customer_id\": lambda x: len(x.unique()), \\\n",
    "#                                    \"frequency\": lambda x: round(x.mean(), 0), \\\n",
    "#                                    \"recency\": lambda x: round(x.mean(), 0), \\\n",
    "#                                     \"monetary\": lambda x: round(x.mean(), 0), \\\n",
    "#                                    \"R\": lambda x: round(x.mean(), 0), \\\n",
    "#                                     \"F\": lambda x: round(x.mean(), 0), \\\n",
    "#                                     \"M\": lambda x: round(x.mean(), 0)})"
   ]
  },
  {
   "cell_type": "code",
   "execution_count": 167,
   "metadata": {
    "scrolled": true
   },
   "outputs": [],
   "source": [
    "# cus_rfm_sum_df = cus_rfm_sum_df.sort_values(\"RFMScore\")"
   ]
  },
  {
   "cell_type": "code",
   "execution_count": 168,
   "metadata": {},
   "outputs": [],
   "source": [
    "# cus_rfm_sum_df"
   ]
  },
  {
   "cell_type": "code",
   "execution_count": 169,
   "metadata": {},
   "outputs": [],
   "source": [
    "# cus_rfm_sum_df.groupby([\"M\", \"R\", \"monetary\"])[\"monetary\"].count().sort_values(ascending = False)"
   ]
  },
  {
   "cell_type": "code",
   "execution_count": 170,
   "metadata": {},
   "outputs": [],
   "source": [
    "# df_RFM_M = df_RFM_SUM.pivot(index='M', columns='R', values='Monetary')\n",
    "# df_RFM_M= df_RFM_M.reset_index().sort_values(['M'], ascending = False).set_index(['M'])\n",
    "# print(df_RFM_M)"
   ]
  },
  {
   "cell_type": "code",
   "execution_count": 171,
   "metadata": {
    "scrolled": true
   },
   "outputs": [],
   "source": [
    "# cus_m_sum_df = cus_rfm_sum_df.pivot(index=\"M\", columns = \"R\", values = \"monetary\")\n",
    "# cus_m_sum_df = cus_m_sum_df.reset_index().sort_values([\"M\"], ascending = False).set_index([\"M\"])\n",
    "# cus_m_sum_df"
   ]
  },
  {
   "cell_type": "code",
   "execution_count": 172,
   "metadata": {},
   "outputs": [],
   "source": [
    "# cus_num_sum_df = cus_rfm_sum_df.pivot(index=\"M\", columns = \"R\", values = \"customer_id\")\n",
    "# cus_num_sum_df = cus_num_sum_df.reset_index().sort_values([\"M\"], ascending = False).set_index([\"M\"])\n",
    "# cus_num_sum_df"
   ]
  },
  {
   "cell_type": "code",
   "execution_count": 173,
   "metadata": {
    "scrolled": true
   },
   "outputs": [],
   "source": [
    "# cus_r_sum_df = cus_rfm_sum_df.pivot(index=\"M\", columns = \"R\", values = \"recency\")\n",
    "# cus_r_sum_df = cus_r_sum_df.reset_index().sort_values([\"M\"], ascending = False).set_index([\"M\"])\n",
    "# cus_r_sum_df"
   ]
  },
  {
   "cell_type": "code",
   "execution_count": 207,
   "metadata": {},
   "outputs": [],
   "source": [
    "# trans_offer_tm_nc_df.shape, trans_trans_matrix.shape"
   ]
  },
  {
   "cell_type": "code",
   "execution_count": 208,
   "metadata": {},
   "outputs": [],
   "source": [
    "# len(trans_offer_tm_nc_df[\"customer_id\"].unique())"
   ]
  },
  {
   "cell_type": "code",
   "execution_count": 209,
   "metadata": {},
   "outputs": [],
   "source": [
    "# trans_trans_matrix[\"purchased_yn\"].columns.unique()"
   ]
  },
  {
   "cell_type": "code",
   "execution_count": 210,
   "metadata": {},
   "outputs": [],
   "source": [
    "# trans_trans_matrix.head()"
   ]
  },
  {
   "cell_type": "code",
   "execution_count": 211,
   "metadata": {
    "scrolled": true
   },
   "outputs": [],
   "source": [
    "# for ind in inds:\n",
    "#     try:\n",
    "#         trans_offer_tm_nc_df.iloc[ind, -1] += trans_trans_matrix[\"purchased_yn\"].loc \\\n",
    "#             [(trans_trans_matrix.index >= trans_offer_tm_nc_df.iloc[ind, 1])& \\\n",
    "#              (trans_trans_matrix.index <= trans_offer_tm_nc_df.iloc[ind, 2]), \\\n",
    "#              trans_offer_tm_nc_df.iloc[ind, 0]].sum()\n",
    "#     except KeyError:\n",
    "#         pass"
   ]
  },
  {
   "cell_type": "code",
   "execution_count": 212,
   "metadata": {},
   "outputs": [],
   "source": [
    "# trans_offer_tm_nc_df"
   ]
  },
  {
   "cell_type": "code",
   "execution_count": 344,
   "metadata": {},
   "outputs": [],
   "source": [
    "pt_trans_df = pt_df[pt_df[\"event\"] == \"transaction\"] \n",
    "pt_offer_df = pt_df[pt_df[\"event\"] != \"transaction\"]"
   ]
  },
  {
   "cell_type": "code",
   "execution_count": 345,
   "metadata": {},
   "outputs": [],
   "source": [
    "pt_trans_df = pt_trans_df[[\"customer_id\", \"amount\", \"datetime\", \"time\"]]\n",
    "pt_trans_df = pt_trans_df.rename(columns = {\"datetime\":\"transaction_date\"})"
   ]
  },
  {
   "cell_type": "code",
   "execution_count": 346,
   "metadata": {},
   "outputs": [],
   "source": [
    "pt_trans_df[\"transaction_date\"] = pd.to_datetime(pt_trans_df[\"transaction_date\"])\n",
    "pt_trans_df[\"transaction_date\"] = pt_trans_df[\"transaction_date\"].dt.date"
   ]
  },
  {
   "cell_type": "code",
   "execution_count": 347,
   "metadata": {},
   "outputs": [],
   "source": [
    "offer_type_df = pd.get_dummies(pt_offer_df[\"offer_type\"])"
   ]
  },
  {
   "cell_type": "code",
   "execution_count": 348,
   "metadata": {},
   "outputs": [],
   "source": [
    "pt_offer_df = pd.concat([pt_offer_df, offer_type_df], axis = 1)"
   ]
  },
  {
   "cell_type": "code",
   "execution_count": 358,
   "metadata": {},
   "outputs": [],
   "source": [
    "pt_offer_received_df = pt_offer_df[pt_offer_df[\"event\"] == \"offer received\"]\n",
    "pt_offer_viewed_df = pt_offer_df[pt_offer_df[\"event\"] == \"offer viewed\"]\n",
    "pt_offer_completed_df = pt_offer_df[pt_offer_df[\"event\"] == \"offer completed\"]"
   ]
  },
  {
   "cell_type": "code",
   "execution_count": 350,
   "metadata": {},
   "outputs": [
    {
     "data": {
      "text/html": [
       "<div>\n",
       "<style scoped>\n",
       "    .dataframe tbody tr th:only-of-type {\n",
       "        vertical-align: middle;\n",
       "    }\n",
       "\n",
       "    .dataframe tbody tr th {\n",
       "        vertical-align: top;\n",
       "    }\n",
       "\n",
       "    .dataframe thead th {\n",
       "        text-align: right;\n",
       "    }\n",
       "</style>\n",
       "<table border=\"1\" class=\"dataframe\">\n",
       "  <thead>\n",
       "    <tr style=\"text-align: right;\">\n",
       "      <th></th>\n",
       "      <th>event</th>\n",
       "      <th>customer_id</th>\n",
       "      <th>time</th>\n",
       "      <th>reward_received</th>\n",
       "      <th>amount</th>\n",
       "      <th>portfolio_id</th>\n",
       "      <th>datetime</th>\n",
       "      <th>difficulty</th>\n",
       "      <th>duration</th>\n",
       "      <th>offer_type</th>\n",
       "      <th>reward_award</th>\n",
       "      <th>channel_web</th>\n",
       "      <th>channel_email</th>\n",
       "      <th>channel_mobile</th>\n",
       "      <th>channel_social</th>\n",
       "      <th>bogo</th>\n",
       "      <th>discount</th>\n",
       "      <th>informational</th>\n",
       "    </tr>\n",
       "  </thead>\n",
       "  <tbody>\n",
       "    <tr>\n",
       "      <th>0</th>\n",
       "      <td>offer received</td>\n",
       "      <td>78afa995795e4d85b5d9ceeca43f5fef</td>\n",
       "      <td>0</td>\n",
       "      <td>0</td>\n",
       "      <td>0.0</td>\n",
       "      <td>9b98b8c7a33c4b65b9aebfe6a799e6d9</td>\n",
       "      <td>2020-05-01</td>\n",
       "      <td>5.0</td>\n",
       "      <td>7.0</td>\n",
       "      <td>bogo</td>\n",
       "      <td>5.0</td>\n",
       "      <td>1.0</td>\n",
       "      <td>1.0</td>\n",
       "      <td>1.0</td>\n",
       "      <td>0.0</td>\n",
       "      <td>1</td>\n",
       "      <td>0</td>\n",
       "      <td>0</td>\n",
       "    </tr>\n",
       "    <tr>\n",
       "      <th>1</th>\n",
       "      <td>offer received</td>\n",
       "      <td>a03223e636434f42ac4c3df47e8bac43</td>\n",
       "      <td>0</td>\n",
       "      <td>0</td>\n",
       "      <td>0.0</td>\n",
       "      <td>0b1e1539f2cc45b7b9fa7c272da2e1d7</td>\n",
       "      <td>2020-05-01</td>\n",
       "      <td>20.0</td>\n",
       "      <td>10.0</td>\n",
       "      <td>discount</td>\n",
       "      <td>5.0</td>\n",
       "      <td>1.0</td>\n",
       "      <td>1.0</td>\n",
       "      <td>0.0</td>\n",
       "      <td>0.0</td>\n",
       "      <td>0</td>\n",
       "      <td>1</td>\n",
       "      <td>0</td>\n",
       "    </tr>\n",
       "    <tr>\n",
       "      <th>2</th>\n",
       "      <td>offer received</td>\n",
       "      <td>e2127556f4f64592b11af22de27a7932</td>\n",
       "      <td>0</td>\n",
       "      <td>0</td>\n",
       "      <td>0.0</td>\n",
       "      <td>2906b810c7d4411798c6938adc9daaa5</td>\n",
       "      <td>2020-05-01</td>\n",
       "      <td>10.0</td>\n",
       "      <td>7.0</td>\n",
       "      <td>discount</td>\n",
       "      <td>2.0</td>\n",
       "      <td>1.0</td>\n",
       "      <td>1.0</td>\n",
       "      <td>1.0</td>\n",
       "      <td>0.0</td>\n",
       "      <td>0</td>\n",
       "      <td>1</td>\n",
       "      <td>0</td>\n",
       "    </tr>\n",
       "    <tr>\n",
       "      <th>3</th>\n",
       "      <td>offer received</td>\n",
       "      <td>8ec6ce2a7e7949b1bf142def7d0e0586</td>\n",
       "      <td>0</td>\n",
       "      <td>0</td>\n",
       "      <td>0.0</td>\n",
       "      <td>fafdcd668e3743c1bb461111dcafc2a4</td>\n",
       "      <td>2020-05-01</td>\n",
       "      <td>10.0</td>\n",
       "      <td>10.0</td>\n",
       "      <td>discount</td>\n",
       "      <td>2.0</td>\n",
       "      <td>1.0</td>\n",
       "      <td>1.0</td>\n",
       "      <td>1.0</td>\n",
       "      <td>1.0</td>\n",
       "      <td>0</td>\n",
       "      <td>1</td>\n",
       "      <td>0</td>\n",
       "    </tr>\n",
       "    <tr>\n",
       "      <th>4</th>\n",
       "      <td>offer received</td>\n",
       "      <td>68617ca6246f4fbc85e91a2a49552598</td>\n",
       "      <td>0</td>\n",
       "      <td>0</td>\n",
       "      <td>0.0</td>\n",
       "      <td>4d5c57ea9a6940dd891ad53e9dbe8da0</td>\n",
       "      <td>2020-05-01</td>\n",
       "      <td>10.0</td>\n",
       "      <td>5.0</td>\n",
       "      <td>bogo</td>\n",
       "      <td>10.0</td>\n",
       "      <td>1.0</td>\n",
       "      <td>1.0</td>\n",
       "      <td>1.0</td>\n",
       "      <td>1.0</td>\n",
       "      <td>1</td>\n",
       "      <td>0</td>\n",
       "      <td>0</td>\n",
       "    </tr>\n",
       "  </tbody>\n",
       "</table>\n",
       "</div>"
      ],
      "text/plain": [
       "            event                       customer_id  time  reward_received  \\\n",
       "0  offer received  78afa995795e4d85b5d9ceeca43f5fef     0                0   \n",
       "1  offer received  a03223e636434f42ac4c3df47e8bac43     0                0   \n",
       "2  offer received  e2127556f4f64592b11af22de27a7932     0                0   \n",
       "3  offer received  8ec6ce2a7e7949b1bf142def7d0e0586     0                0   \n",
       "4  offer received  68617ca6246f4fbc85e91a2a49552598     0                0   \n",
       "\n",
       "   amount                      portfolio_id   datetime  difficulty  duration  \\\n",
       "0     0.0  9b98b8c7a33c4b65b9aebfe6a799e6d9 2020-05-01         5.0       7.0   \n",
       "1     0.0  0b1e1539f2cc45b7b9fa7c272da2e1d7 2020-05-01        20.0      10.0   \n",
       "2     0.0  2906b810c7d4411798c6938adc9daaa5 2020-05-01        10.0       7.0   \n",
       "3     0.0  fafdcd668e3743c1bb461111dcafc2a4 2020-05-01        10.0      10.0   \n",
       "4     0.0  4d5c57ea9a6940dd891ad53e9dbe8da0 2020-05-01        10.0       5.0   \n",
       "\n",
       "  offer_type  reward_award  channel_web  channel_email  channel_mobile  \\\n",
       "0       bogo           5.0          1.0            1.0             1.0   \n",
       "1   discount           5.0          1.0            1.0             0.0   \n",
       "2   discount           2.0          1.0            1.0             1.0   \n",
       "3   discount           2.0          1.0            1.0             1.0   \n",
       "4       bogo          10.0          1.0            1.0             1.0   \n",
       "\n",
       "   channel_social  bogo  discount  informational  \n",
       "0             0.0     1         0              0  \n",
       "1             0.0     0         1              0  \n",
       "2             0.0     0         1              0  \n",
       "3             1.0     0         1              0  \n",
       "4             1.0     1         0              0  "
      ]
     },
     "execution_count": 350,
     "metadata": {},
     "output_type": "execute_result"
    }
   ],
   "source": [
    "pt_offer_received_df.head()"
   ]
  },
  {
   "cell_type": "code",
   "execution_count": 359,
   "metadata": {
    "scrolled": true
   },
   "outputs": [
    {
     "name": "stderr",
     "output_type": "stream",
     "text": [
      "/opt/conda/lib/python3.6/site-packages/ipykernel_launcher.py:1: SettingWithCopyWarning: \n",
      "A value is trying to be set on a copy of a slice from a DataFrame.\n",
      "Try using .loc[row_indexer,col_indexer] = value instead\n",
      "\n",
      "See the caveats in the documentation: http://pandas.pydata.org/pandas-docs/stable/indexing.html#indexing-view-versus-copy\n",
      "  \"\"\"Entry point for launching an IPython kernel.\n"
     ]
    }
   ],
   "source": [
    "pt_offer_received_df[\"offer_end_date\"] = pt_offer_received_df.loc[:, \"datetime\"] + \\\n",
    "pd.to_timedelta(pt_offer_received_df[\"duration\"], unit='d')"
   ]
  },
  {
   "cell_type": "code",
   "execution_count": 360,
   "metadata": {},
   "outputs": [],
   "source": [
    "pt_offer_received_df = pt_offer_received_df[[\"customer_id\", \"portfolio_id\", \"datetime\", \"time\", \"offer_end_date\", \"bogo\", \"discount\", \"informational\"]]"
   ]
  },
  {
   "cell_type": "code",
   "execution_count": 361,
   "metadata": {},
   "outputs": [],
   "source": [
    "pt_offer_received_df = pt_offer_received_df.rename(columns = {\"datetime\":\"offer_received_date\"})"
   ]
  },
  {
   "cell_type": "code",
   "execution_count": 354,
   "metadata": {
    "scrolled": true
   },
   "outputs": [
    {
     "data": {
      "text/html": [
       "<div>\n",
       "<style scoped>\n",
       "    .dataframe tbody tr th:only-of-type {\n",
       "        vertical-align: middle;\n",
       "    }\n",
       "\n",
       "    .dataframe tbody tr th {\n",
       "        vertical-align: top;\n",
       "    }\n",
       "\n",
       "    .dataframe thead th {\n",
       "        text-align: right;\n",
       "    }\n",
       "</style>\n",
       "<table border=\"1\" class=\"dataframe\">\n",
       "  <thead>\n",
       "    <tr style=\"text-align: right;\">\n",
       "      <th></th>\n",
       "      <th>customer_id</th>\n",
       "      <th>portfolio_id</th>\n",
       "      <th>offer_received_date</th>\n",
       "      <th>time</th>\n",
       "      <th>offer_end_date</th>\n",
       "      <th>bogo</th>\n",
       "      <th>discount</th>\n",
       "      <th>informational</th>\n",
       "    </tr>\n",
       "  </thead>\n",
       "  <tbody>\n",
       "    <tr>\n",
       "      <th>0</th>\n",
       "      <td>78afa995795e4d85b5d9ceeca43f5fef</td>\n",
       "      <td>9b98b8c7a33c4b65b9aebfe6a799e6d9</td>\n",
       "      <td>2020-05-01</td>\n",
       "      <td>0</td>\n",
       "      <td>2020-05-08</td>\n",
       "      <td>1</td>\n",
       "      <td>0</td>\n",
       "      <td>0</td>\n",
       "    </tr>\n",
       "    <tr>\n",
       "      <th>1</th>\n",
       "      <td>a03223e636434f42ac4c3df47e8bac43</td>\n",
       "      <td>0b1e1539f2cc45b7b9fa7c272da2e1d7</td>\n",
       "      <td>2020-05-01</td>\n",
       "      <td>0</td>\n",
       "      <td>2020-05-11</td>\n",
       "      <td>0</td>\n",
       "      <td>1</td>\n",
       "      <td>0</td>\n",
       "    </tr>\n",
       "    <tr>\n",
       "      <th>2</th>\n",
       "      <td>e2127556f4f64592b11af22de27a7932</td>\n",
       "      <td>2906b810c7d4411798c6938adc9daaa5</td>\n",
       "      <td>2020-05-01</td>\n",
       "      <td>0</td>\n",
       "      <td>2020-05-08</td>\n",
       "      <td>0</td>\n",
       "      <td>1</td>\n",
       "      <td>0</td>\n",
       "    </tr>\n",
       "    <tr>\n",
       "      <th>3</th>\n",
       "      <td>8ec6ce2a7e7949b1bf142def7d0e0586</td>\n",
       "      <td>fafdcd668e3743c1bb461111dcafc2a4</td>\n",
       "      <td>2020-05-01</td>\n",
       "      <td>0</td>\n",
       "      <td>2020-05-11</td>\n",
       "      <td>0</td>\n",
       "      <td>1</td>\n",
       "      <td>0</td>\n",
       "    </tr>\n",
       "    <tr>\n",
       "      <th>4</th>\n",
       "      <td>68617ca6246f4fbc85e91a2a49552598</td>\n",
       "      <td>4d5c57ea9a6940dd891ad53e9dbe8da0</td>\n",
       "      <td>2020-05-01</td>\n",
       "      <td>0</td>\n",
       "      <td>2020-05-06</td>\n",
       "      <td>1</td>\n",
       "      <td>0</td>\n",
       "      <td>0</td>\n",
       "    </tr>\n",
       "  </tbody>\n",
       "</table>\n",
       "</div>"
      ],
      "text/plain": [
       "                        customer_id                      portfolio_id  \\\n",
       "0  78afa995795e4d85b5d9ceeca43f5fef  9b98b8c7a33c4b65b9aebfe6a799e6d9   \n",
       "1  a03223e636434f42ac4c3df47e8bac43  0b1e1539f2cc45b7b9fa7c272da2e1d7   \n",
       "2  e2127556f4f64592b11af22de27a7932  2906b810c7d4411798c6938adc9daaa5   \n",
       "3  8ec6ce2a7e7949b1bf142def7d0e0586  fafdcd668e3743c1bb461111dcafc2a4   \n",
       "4  68617ca6246f4fbc85e91a2a49552598  4d5c57ea9a6940dd891ad53e9dbe8da0   \n",
       "\n",
       "  offer_received_date  time offer_end_date  bogo  discount  informational  \n",
       "0          2020-05-01     0     2020-05-08     1         0              0  \n",
       "1          2020-05-01     0     2020-05-11     0         1              0  \n",
       "2          2020-05-01     0     2020-05-08     0         1              0  \n",
       "3          2020-05-01     0     2020-05-11     0         1              0  \n",
       "4          2020-05-01     0     2020-05-06     1         0              0  "
      ]
     },
     "execution_count": 354,
     "metadata": {},
     "output_type": "execute_result"
    }
   ],
   "source": [
    "pt_offer_received_df.head()"
   ]
  },
  {
   "cell_type": "code",
   "execution_count": 362,
   "metadata": {},
   "outputs": [],
   "source": [
    "pt_offer_viewed_df = pt_offer_viewed_df[[\"customer_id\", \"portfolio_id\",  \"datetime\", \"time\"]]"
   ]
  },
  {
   "cell_type": "code",
   "execution_count": 363,
   "metadata": {},
   "outputs": [],
   "source": [
    "pt_offer_viewed_df = pt_offer_viewed_df.rename(columns={\"datetime\":\"offer_viewed_date\"})"
   ]
  },
  {
   "cell_type": "code",
   "execution_count": 364,
   "metadata": {
    "scrolled": true
   },
   "outputs": [
    {
     "data": {
      "text/html": [
       "<div>\n",
       "<style scoped>\n",
       "    .dataframe tbody tr th:only-of-type {\n",
       "        vertical-align: middle;\n",
       "    }\n",
       "\n",
       "    .dataframe tbody tr th {\n",
       "        vertical-align: top;\n",
       "    }\n",
       "\n",
       "    .dataframe thead th {\n",
       "        text-align: right;\n",
       "    }\n",
       "</style>\n",
       "<table border=\"1\" class=\"dataframe\">\n",
       "  <thead>\n",
       "    <tr style=\"text-align: right;\">\n",
       "      <th></th>\n",
       "      <th>customer_id</th>\n",
       "      <th>portfolio_id</th>\n",
       "      <th>offer_viewed_date</th>\n",
       "      <th>time</th>\n",
       "    </tr>\n",
       "  </thead>\n",
       "  <tbody>\n",
       "    <tr>\n",
       "      <th>12650</th>\n",
       "      <td>389bc3fa690240e798340f5a15918d5c</td>\n",
       "      <td>f19421c1d4aa40978ebb69ca19b0e20d</td>\n",
       "      <td>2020-05-01</td>\n",
       "      <td>0</td>\n",
       "    </tr>\n",
       "    <tr>\n",
       "      <th>12651</th>\n",
       "      <td>d1ede868e29245ea91818a903fec04c6</td>\n",
       "      <td>5a8bc65990b245e5a138643cd4eb9837</td>\n",
       "      <td>2020-05-01</td>\n",
       "      <td>0</td>\n",
       "    </tr>\n",
       "    <tr>\n",
       "      <th>12652</th>\n",
       "      <td>102e9454054946fda62242d2e176fdce</td>\n",
       "      <td>4d5c57ea9a6940dd891ad53e9dbe8da0</td>\n",
       "      <td>2020-05-01</td>\n",
       "      <td>0</td>\n",
       "    </tr>\n",
       "    <tr>\n",
       "      <th>12653</th>\n",
       "      <td>02c083884c7d45b39cc68e1314fec56c</td>\n",
       "      <td>ae264e3637204a6fb9bb56bc8210ddfd</td>\n",
       "      <td>2020-05-01</td>\n",
       "      <td>0</td>\n",
       "    </tr>\n",
       "    <tr>\n",
       "      <th>12655</th>\n",
       "      <td>be8a5d1981a2458d90b255ddc7e0d174</td>\n",
       "      <td>5a8bc65990b245e5a138643cd4eb9837</td>\n",
       "      <td>2020-05-01</td>\n",
       "      <td>0</td>\n",
       "    </tr>\n",
       "  </tbody>\n",
       "</table>\n",
       "</div>"
      ],
      "text/plain": [
       "                            customer_id                      portfolio_id  \\\n",
       "12650  389bc3fa690240e798340f5a15918d5c  f19421c1d4aa40978ebb69ca19b0e20d   \n",
       "12651  d1ede868e29245ea91818a903fec04c6  5a8bc65990b245e5a138643cd4eb9837   \n",
       "12652  102e9454054946fda62242d2e176fdce  4d5c57ea9a6940dd891ad53e9dbe8da0   \n",
       "12653  02c083884c7d45b39cc68e1314fec56c  ae264e3637204a6fb9bb56bc8210ddfd   \n",
       "12655  be8a5d1981a2458d90b255ddc7e0d174  5a8bc65990b245e5a138643cd4eb9837   \n",
       "\n",
       "      offer_viewed_date  time  \n",
       "12650        2020-05-01     0  \n",
       "12651        2020-05-01     0  \n",
       "12652        2020-05-01     0  \n",
       "12653        2020-05-01     0  \n",
       "12655        2020-05-01     0  "
      ]
     },
     "execution_count": 364,
     "metadata": {},
     "output_type": "execute_result"
    }
   ],
   "source": [
    "pt_offer_viewed_df.head()"
   ]
  },
  {
   "cell_type": "code",
   "execution_count": 365,
   "metadata": {},
   "outputs": [],
   "source": [
    "pt_offer_completed_df = pt_offer_completed_df[[\"customer_id\", \"portfolio_id\",  \"datetime\", \"time\"]]\n",
    "pt_offer_completed_df = pt_offer_completed_df.rename(columns = {\"datetime\":\"offer_completed_date\"})"
   ]
  },
  {
   "cell_type": "code",
   "execution_count": 366,
   "metadata": {
    "scrolled": false
   },
   "outputs": [
    {
     "data": {
      "text/html": [
       "<div>\n",
       "<style scoped>\n",
       "    .dataframe tbody tr th:only-of-type {\n",
       "        vertical-align: middle;\n",
       "    }\n",
       "\n",
       "    .dataframe tbody tr th {\n",
       "        vertical-align: top;\n",
       "    }\n",
       "\n",
       "    .dataframe thead th {\n",
       "        text-align: right;\n",
       "    }\n",
       "</style>\n",
       "<table border=\"1\" class=\"dataframe\">\n",
       "  <thead>\n",
       "    <tr style=\"text-align: right;\">\n",
       "      <th></th>\n",
       "      <th>customer_id</th>\n",
       "      <th>portfolio_id</th>\n",
       "      <th>offer_completed_date</th>\n",
       "      <th>time</th>\n",
       "    </tr>\n",
       "  </thead>\n",
       "  <tbody>\n",
       "    <tr>\n",
       "      <th>12658</th>\n",
       "      <td>9fa9ae8f57894cc9a3b8a9bbe0fc1b2f</td>\n",
       "      <td>2906b810c7d4411798c6938adc9daaa5</td>\n",
       "      <td>2020-05-01</td>\n",
       "      <td>0</td>\n",
       "    </tr>\n",
       "    <tr>\n",
       "      <th>12672</th>\n",
       "      <td>fe97aa22dd3e48c8b143116a8403dd52</td>\n",
       "      <td>fafdcd668e3743c1bb461111dcafc2a4</td>\n",
       "      <td>2020-05-01</td>\n",
       "      <td>0</td>\n",
       "    </tr>\n",
       "    <tr>\n",
       "      <th>12679</th>\n",
       "      <td>629fc02d56414d91bca360decdfa9288</td>\n",
       "      <td>9b98b8c7a33c4b65b9aebfe6a799e6d9</td>\n",
       "      <td>2020-05-01</td>\n",
       "      <td>0</td>\n",
       "    </tr>\n",
       "    <tr>\n",
       "      <th>12692</th>\n",
       "      <td>676506bad68e4161b9bbaffeb039626b</td>\n",
       "      <td>ae264e3637204a6fb9bb56bc8210ddfd</td>\n",
       "      <td>2020-05-01</td>\n",
       "      <td>0</td>\n",
       "    </tr>\n",
       "    <tr>\n",
       "      <th>12697</th>\n",
       "      <td>8f7dd3b2afe14c078eb4f6e6fe4ba97d</td>\n",
       "      <td>4d5c57ea9a6940dd891ad53e9dbe8da0</td>\n",
       "      <td>2020-05-01</td>\n",
       "      <td>0</td>\n",
       "    </tr>\n",
       "  </tbody>\n",
       "</table>\n",
       "</div>"
      ],
      "text/plain": [
       "                            customer_id                      portfolio_id  \\\n",
       "12658  9fa9ae8f57894cc9a3b8a9bbe0fc1b2f  2906b810c7d4411798c6938adc9daaa5   \n",
       "12672  fe97aa22dd3e48c8b143116a8403dd52  fafdcd668e3743c1bb461111dcafc2a4   \n",
       "12679  629fc02d56414d91bca360decdfa9288  9b98b8c7a33c4b65b9aebfe6a799e6d9   \n",
       "12692  676506bad68e4161b9bbaffeb039626b  ae264e3637204a6fb9bb56bc8210ddfd   \n",
       "12697  8f7dd3b2afe14c078eb4f6e6fe4ba97d  4d5c57ea9a6940dd891ad53e9dbe8da0   \n",
       "\n",
       "      offer_completed_date  time  \n",
       "12658           2020-05-01     0  \n",
       "12672           2020-05-01     0  \n",
       "12679           2020-05-01     0  \n",
       "12692           2020-05-01     0  \n",
       "12697           2020-05-01     0  "
      ]
     },
     "execution_count": 366,
     "metadata": {},
     "output_type": "execute_result"
    }
   ],
   "source": [
    "pt_offer_completed_df.head()"
   ]
  },
  {
   "cell_type": "markdown",
   "metadata": {},
   "source": [
    "# Use portfolio_id and customer_id as the joined keys can generate bugs. Because some customers received the same offer multiple times. Need to use time to rank each offer"
   ]
  },
  {
   "cell_type": "code",
   "execution_count": 261,
   "metadata": {},
   "outputs": [],
   "source": [
    "pt_offer_new_df = pt_offer_received_df.merge(pt_offer_viewed_df, on =[\"customer_id\", \"portfolio_id\"], how=\"left\")\\\n",
    ".merge(pt_offer_completed_df, on=[\"customer_id\", \"portfolio_id\"], how=\"left\")"
   ]
  },
  {
   "cell_type": "code",
   "execution_count": 375,
   "metadata": {},
   "outputs": [
    {
     "data": {
      "text/html": [
       "<div>\n",
       "<style scoped>\n",
       "    .dataframe tbody tr th:only-of-type {\n",
       "        vertical-align: middle;\n",
       "    }\n",
       "\n",
       "    .dataframe tbody tr th {\n",
       "        vertical-align: top;\n",
       "    }\n",
       "\n",
       "    .dataframe thead th {\n",
       "        text-align: right;\n",
       "    }\n",
       "</style>\n",
       "<table border=\"1\" class=\"dataframe\">\n",
       "  <thead>\n",
       "    <tr style=\"text-align: right;\">\n",
       "      <th></th>\n",
       "      <th>customer_id</th>\n",
       "      <th>portfolio_id</th>\n",
       "      <th>offer_start_date</th>\n",
       "      <th>offer_viewed_date</th>\n",
       "      <th>offer_completed_date</th>\n",
       "      <th>offer_end_date</th>\n",
       "      <th>bogo</th>\n",
       "      <th>discount</th>\n",
       "      <th>informational</th>\n",
       "    </tr>\n",
       "  </thead>\n",
       "  <tbody>\n",
       "    <tr>\n",
       "      <th>19288</th>\n",
       "      <td>0861b9ca31b741bb8b411b18f82d18f6</td>\n",
       "      <td>f19421c1d4aa40978ebb69ca19b0e20d</td>\n",
       "      <td>2020-05-08</td>\n",
       "      <td>2020-05-01</td>\n",
       "      <td>2020-05-02</td>\n",
       "      <td>2020-05-02</td>\n",
       "      <td>1</td>\n",
       "      <td>0</td>\n",
       "      <td>0</td>\n",
       "    </tr>\n",
       "    <tr>\n",
       "      <th>19289</th>\n",
       "      <td>0861b9ca31b741bb8b411b18f82d18f6</td>\n",
       "      <td>f19421c1d4aa40978ebb69ca19b0e20d</td>\n",
       "      <td>2020-05-08</td>\n",
       "      <td>2020-05-01</td>\n",
       "      <td>2020-05-08</td>\n",
       "      <td>2020-05-08</td>\n",
       "      <td>1</td>\n",
       "      <td>0</td>\n",
       "      <td>0</td>\n",
       "    </tr>\n",
       "    <tr>\n",
       "      <th>19290</th>\n",
       "      <td>0861b9ca31b741bb8b411b18f82d18f6</td>\n",
       "      <td>f19421c1d4aa40978ebb69ca19b0e20d</td>\n",
       "      <td>2020-05-08</td>\n",
       "      <td>2020-05-01</td>\n",
       "      <td>2020-05-18</td>\n",
       "      <td>2020-05-12</td>\n",
       "      <td>1</td>\n",
       "      <td>0</td>\n",
       "      <td>0</td>\n",
       "    </tr>\n",
       "    <tr>\n",
       "      <th>19299</th>\n",
       "      <td>d3f146b615514c6380b168bb3df5f05b</td>\n",
       "      <td>f19421c1d4aa40978ebb69ca19b0e20d</td>\n",
       "      <td>2020-05-08</td>\n",
       "      <td>2020-05-01</td>\n",
       "      <td>2020-05-05</td>\n",
       "      <td>2020-05-05</td>\n",
       "      <td>1</td>\n",
       "      <td>0</td>\n",
       "      <td>0</td>\n",
       "    </tr>\n",
       "    <tr>\n",
       "      <th>19300</th>\n",
       "      <td>d3f146b615514c6380b168bb3df5f05b</td>\n",
       "      <td>f19421c1d4aa40978ebb69ca19b0e20d</td>\n",
       "      <td>2020-05-08</td>\n",
       "      <td>2020-05-01</td>\n",
       "      <td>2020-05-10</td>\n",
       "      <td>2020-05-10</td>\n",
       "      <td>1</td>\n",
       "      <td>0</td>\n",
       "      <td>0</td>\n",
       "    </tr>\n",
       "  </tbody>\n",
       "</table>\n",
       "</div>"
      ],
      "text/plain": [
       "                            customer_id                      portfolio_id  \\\n",
       "19288  0861b9ca31b741bb8b411b18f82d18f6  f19421c1d4aa40978ebb69ca19b0e20d   \n",
       "19289  0861b9ca31b741bb8b411b18f82d18f6  f19421c1d4aa40978ebb69ca19b0e20d   \n",
       "19290  0861b9ca31b741bb8b411b18f82d18f6  f19421c1d4aa40978ebb69ca19b0e20d   \n",
       "19299  d3f146b615514c6380b168bb3df5f05b  f19421c1d4aa40978ebb69ca19b0e20d   \n",
       "19300  d3f146b615514c6380b168bb3df5f05b  f19421c1d4aa40978ebb69ca19b0e20d   \n",
       "\n",
       "      offer_start_date offer_viewed_date offer_completed_date offer_end_date  \\\n",
       "19288       2020-05-08        2020-05-01           2020-05-02     2020-05-02   \n",
       "19289       2020-05-08        2020-05-01           2020-05-08     2020-05-08   \n",
       "19290       2020-05-08        2020-05-01           2020-05-18     2020-05-12   \n",
       "19299       2020-05-08        2020-05-01           2020-05-05     2020-05-05   \n",
       "19300       2020-05-08        2020-05-01           2020-05-10     2020-05-10   \n",
       "\n",
       "       bogo  discount  informational  \n",
       "19288     1         0              0  \n",
       "19289     1         0              0  \n",
       "19290     1         0              0  \n",
       "19299     1         0              0  \n",
       "19300     1         0              0  "
      ]
     },
     "execution_count": 375,
     "metadata": {},
     "output_type": "execute_result"
    }
   ],
   "source": [
    "pt_offer_new_df[(pt_offer_new_df[\"offer_start_date\"] > pt_offer_new_df[\"offer_viewed_date\"])].head()"
   ]
  },
  {
   "cell_type": "code",
   "execution_count": 373,
   "metadata": {},
   "outputs": [
    {
     "data": {
      "text/html": [
       "<div>\n",
       "<style scoped>\n",
       "    .dataframe tbody tr th:only-of-type {\n",
       "        vertical-align: middle;\n",
       "    }\n",
       "\n",
       "    .dataframe tbody tr th {\n",
       "        vertical-align: top;\n",
       "    }\n",
       "\n",
       "    .dataframe thead th {\n",
       "        text-align: right;\n",
       "    }\n",
       "</style>\n",
       "<table border=\"1\" class=\"dataframe\">\n",
       "  <thead>\n",
       "    <tr style=\"text-align: right;\">\n",
       "      <th></th>\n",
       "      <th>event</th>\n",
       "      <th>customer_id</th>\n",
       "      <th>time</th>\n",
       "      <th>reward_received</th>\n",
       "      <th>amount</th>\n",
       "      <th>portfolio_id</th>\n",
       "      <th>datetime</th>\n",
       "      <th>difficulty</th>\n",
       "      <th>duration</th>\n",
       "      <th>offer_type</th>\n",
       "      <th>reward_award</th>\n",
       "      <th>channel_web</th>\n",
       "      <th>channel_email</th>\n",
       "      <th>channel_mobile</th>\n",
       "      <th>channel_social</th>\n",
       "    </tr>\n",
       "  </thead>\n",
       "  <tbody>\n",
       "    <tr>\n",
       "      <th>5481</th>\n",
       "      <td>offer received</td>\n",
       "      <td>56630668a08842a38f32bf4f7bfa4125</td>\n",
       "      <td>0</td>\n",
       "      <td>0</td>\n",
       "      <td>0.0</td>\n",
       "      <td>2906b810c7d4411798c6938adc9daaa5</td>\n",
       "      <td>2020-05-01 00:00:00</td>\n",
       "      <td>10.0</td>\n",
       "      <td>7.0</td>\n",
       "      <td>discount</td>\n",
       "      <td>2.0</td>\n",
       "      <td>1.0</td>\n",
       "      <td>1.0</td>\n",
       "      <td>1.0</td>\n",
       "      <td>0.0</td>\n",
       "    </tr>\n",
       "    <tr>\n",
       "      <th>18227</th>\n",
       "      <td>offer viewed</td>\n",
       "      <td>56630668a08842a38f32bf4f7bfa4125</td>\n",
       "      <td>12</td>\n",
       "      <td>0</td>\n",
       "      <td>0.0</td>\n",
       "      <td>2906b810c7d4411798c6938adc9daaa5</td>\n",
       "      <td>2020-05-01 12:00:00</td>\n",
       "      <td>10.0</td>\n",
       "      <td>7.0</td>\n",
       "      <td>discount</td>\n",
       "      <td>2.0</td>\n",
       "      <td>1.0</td>\n",
       "      <td>1.0</td>\n",
       "      <td>1.0</td>\n",
       "      <td>0.0</td>\n",
       "    </tr>\n",
       "    <tr>\n",
       "      <th>18229</th>\n",
       "      <td>offer completed</td>\n",
       "      <td>56630668a08842a38f32bf4f7bfa4125</td>\n",
       "      <td>12</td>\n",
       "      <td>2</td>\n",
       "      <td>0.0</td>\n",
       "      <td>2906b810c7d4411798c6938adc9daaa5</td>\n",
       "      <td>2020-05-01 12:00:00</td>\n",
       "      <td>10.0</td>\n",
       "      <td>7.0</td>\n",
       "      <td>discount</td>\n",
       "      <td>2.0</td>\n",
       "      <td>1.0</td>\n",
       "      <td>1.0</td>\n",
       "      <td>1.0</td>\n",
       "      <td>0.0</td>\n",
       "    </tr>\n",
       "    <tr>\n",
       "      <th>116358</th>\n",
       "      <td>offer received</td>\n",
       "      <td>56630668a08842a38f32bf4f7bfa4125</td>\n",
       "      <td>336</td>\n",
       "      <td>0</td>\n",
       "      <td>0.0</td>\n",
       "      <td>2906b810c7d4411798c6938adc9daaa5</td>\n",
       "      <td>2020-05-15 00:00:00</td>\n",
       "      <td>10.0</td>\n",
       "      <td>7.0</td>\n",
       "      <td>discount</td>\n",
       "      <td>2.0</td>\n",
       "      <td>1.0</td>\n",
       "      <td>1.0</td>\n",
       "      <td>1.0</td>\n",
       "      <td>0.0</td>\n",
       "    </tr>\n",
       "    <tr>\n",
       "      <th>132963</th>\n",
       "      <td>offer viewed</td>\n",
       "      <td>56630668a08842a38f32bf4f7bfa4125</td>\n",
       "      <td>354</td>\n",
       "      <td>0</td>\n",
       "      <td>0.0</td>\n",
       "      <td>2906b810c7d4411798c6938adc9daaa5</td>\n",
       "      <td>2020-05-15 18:00:00</td>\n",
       "      <td>10.0</td>\n",
       "      <td>7.0</td>\n",
       "      <td>discount</td>\n",
       "      <td>2.0</td>\n",
       "      <td>1.0</td>\n",
       "      <td>1.0</td>\n",
       "      <td>1.0</td>\n",
       "      <td>0.0</td>\n",
       "    </tr>\n",
       "    <tr>\n",
       "      <th>145490</th>\n",
       "      <td>offer completed</td>\n",
       "      <td>56630668a08842a38f32bf4f7bfa4125</td>\n",
       "      <td>390</td>\n",
       "      <td>2</td>\n",
       "      <td>0.0</td>\n",
       "      <td>2906b810c7d4411798c6938adc9daaa5</td>\n",
       "      <td>2020-05-17 06:00:00</td>\n",
       "      <td>10.0</td>\n",
       "      <td>7.0</td>\n",
       "      <td>discount</td>\n",
       "      <td>2.0</td>\n",
       "      <td>1.0</td>\n",
       "      <td>1.0</td>\n",
       "      <td>1.0</td>\n",
       "      <td>0.0</td>\n",
       "    </tr>\n",
       "    <tr>\n",
       "      <th>257817</th>\n",
       "      <td>offer received</td>\n",
       "      <td>56630668a08842a38f32bf4f7bfa4125</td>\n",
       "      <td>576</td>\n",
       "      <td>0</td>\n",
       "      <td>0.0</td>\n",
       "      <td>2906b810c7d4411798c6938adc9daaa5</td>\n",
       "      <td>2020-05-25 00:00:00</td>\n",
       "      <td>10.0</td>\n",
       "      <td>7.0</td>\n",
       "      <td>discount</td>\n",
       "      <td>2.0</td>\n",
       "      <td>1.0</td>\n",
       "      <td>1.0</td>\n",
       "      <td>1.0</td>\n",
       "      <td>0.0</td>\n",
       "    </tr>\n",
       "    <tr>\n",
       "      <th>279612</th>\n",
       "      <td>offer completed</td>\n",
       "      <td>56630668a08842a38f32bf4f7bfa4125</td>\n",
       "      <td>618</td>\n",
       "      <td>2</td>\n",
       "      <td>0.0</td>\n",
       "      <td>2906b810c7d4411798c6938adc9daaa5</td>\n",
       "      <td>2020-05-26 18:00:00</td>\n",
       "      <td>10.0</td>\n",
       "      <td>7.0</td>\n",
       "      <td>discount</td>\n",
       "      <td>2.0</td>\n",
       "      <td>1.0</td>\n",
       "      <td>1.0</td>\n",
       "      <td>1.0</td>\n",
       "      <td>0.0</td>\n",
       "    </tr>\n",
       "    <tr>\n",
       "      <th>286041</th>\n",
       "      <td>offer viewed</td>\n",
       "      <td>56630668a08842a38f32bf4f7bfa4125</td>\n",
       "      <td>636</td>\n",
       "      <td>0</td>\n",
       "      <td>0.0</td>\n",
       "      <td>2906b810c7d4411798c6938adc9daaa5</td>\n",
       "      <td>2020-05-27 12:00:00</td>\n",
       "      <td>10.0</td>\n",
       "      <td>7.0</td>\n",
       "      <td>discount</td>\n",
       "      <td>2.0</td>\n",
       "      <td>1.0</td>\n",
       "      <td>1.0</td>\n",
       "      <td>1.0</td>\n",
       "      <td>0.0</td>\n",
       "    </tr>\n",
       "  </tbody>\n",
       "</table>\n",
       "</div>"
      ],
      "text/plain": [
       "                  event                       customer_id  time  \\\n",
       "5481     offer received  56630668a08842a38f32bf4f7bfa4125     0   \n",
       "18227      offer viewed  56630668a08842a38f32bf4f7bfa4125    12   \n",
       "18229   offer completed  56630668a08842a38f32bf4f7bfa4125    12   \n",
       "116358   offer received  56630668a08842a38f32bf4f7bfa4125   336   \n",
       "132963     offer viewed  56630668a08842a38f32bf4f7bfa4125   354   \n",
       "145490  offer completed  56630668a08842a38f32bf4f7bfa4125   390   \n",
       "257817   offer received  56630668a08842a38f32bf4f7bfa4125   576   \n",
       "279612  offer completed  56630668a08842a38f32bf4f7bfa4125   618   \n",
       "286041     offer viewed  56630668a08842a38f32bf4f7bfa4125   636   \n",
       "\n",
       "        reward_received  amount                      portfolio_id  \\\n",
       "5481                  0     0.0  2906b810c7d4411798c6938adc9daaa5   \n",
       "18227                 0     0.0  2906b810c7d4411798c6938adc9daaa5   \n",
       "18229                 2     0.0  2906b810c7d4411798c6938adc9daaa5   \n",
       "116358                0     0.0  2906b810c7d4411798c6938adc9daaa5   \n",
       "132963                0     0.0  2906b810c7d4411798c6938adc9daaa5   \n",
       "145490                2     0.0  2906b810c7d4411798c6938adc9daaa5   \n",
       "257817                0     0.0  2906b810c7d4411798c6938adc9daaa5   \n",
       "279612                2     0.0  2906b810c7d4411798c6938adc9daaa5   \n",
       "286041                0     0.0  2906b810c7d4411798c6938adc9daaa5   \n",
       "\n",
       "                  datetime  difficulty  duration offer_type  reward_award  \\\n",
       "5481   2020-05-01 00:00:00        10.0       7.0   discount           2.0   \n",
       "18227  2020-05-01 12:00:00        10.0       7.0   discount           2.0   \n",
       "18229  2020-05-01 12:00:00        10.0       7.0   discount           2.0   \n",
       "116358 2020-05-15 00:00:00        10.0       7.0   discount           2.0   \n",
       "132963 2020-05-15 18:00:00        10.0       7.0   discount           2.0   \n",
       "145490 2020-05-17 06:00:00        10.0       7.0   discount           2.0   \n",
       "257817 2020-05-25 00:00:00        10.0       7.0   discount           2.0   \n",
       "279612 2020-05-26 18:00:00        10.0       7.0   discount           2.0   \n",
       "286041 2020-05-27 12:00:00        10.0       7.0   discount           2.0   \n",
       "\n",
       "        channel_web  channel_email  channel_mobile  channel_social  \n",
       "5481            1.0            1.0             1.0             0.0  \n",
       "18227           1.0            1.0             1.0             0.0  \n",
       "18229           1.0            1.0             1.0             0.0  \n",
       "116358          1.0            1.0             1.0             0.0  \n",
       "132963          1.0            1.0             1.0             0.0  \n",
       "145490          1.0            1.0             1.0             0.0  \n",
       "257817          1.0            1.0             1.0             0.0  \n",
       "279612          1.0            1.0             1.0             0.0  \n",
       "286041          1.0            1.0             1.0             0.0  "
      ]
     },
     "execution_count": 373,
     "metadata": {},
     "output_type": "execute_result"
    }
   ],
   "source": [
    "pt_df[(pt_df[\"customer_id\"] == \"56630668a08842a38f32bf4f7bfa4125\") & \\\n",
    "               (pt_df[\"portfolio_id\"] == \"2906b810c7d4411798c6938adc9daaa5\")].sort_values(\"time\")"
   ]
  },
  {
   "cell_type": "code",
   "execution_count": 263,
   "metadata": {},
   "outputs": [],
   "source": [
    "# pt_offer_new_df.loc[pt_offer_new_df[\"offer_end_date\"] > pt_offer_new_df[\"offer_completed_date\"], \"offer_end_date\"] \\\n",
    "# =pt_offer_new_df.loc[pt_offer_new_df[\"offer_end_date\"] > pt_offer_new_df[\"offer_completed_date\"], \"offer_completed_date\"]"
   ]
  },
  {
   "cell_type": "code",
   "execution_count": 264,
   "metadata": {},
   "outputs": [
    {
     "data": {
      "text/html": [
       "<div>\n",
       "<style scoped>\n",
       "    .dataframe tbody tr th:only-of-type {\n",
       "        vertical-align: middle;\n",
       "    }\n",
       "\n",
       "    .dataframe tbody tr th {\n",
       "        vertical-align: top;\n",
       "    }\n",
       "\n",
       "    .dataframe thead th {\n",
       "        text-align: right;\n",
       "    }\n",
       "</style>\n",
       "<table border=\"1\" class=\"dataframe\">\n",
       "  <thead>\n",
       "    <tr style=\"text-align: right;\">\n",
       "      <th></th>\n",
       "      <th>customer_id</th>\n",
       "      <th>portfolio_id</th>\n",
       "      <th>offer_start_date</th>\n",
       "      <th>offer_end_date</th>\n",
       "      <th>bogo</th>\n",
       "      <th>discount</th>\n",
       "      <th>informational</th>\n",
       "      <th>offer_viewed_date</th>\n",
       "      <th>offer_completed_date</th>\n",
       "    </tr>\n",
       "  </thead>\n",
       "  <tbody>\n",
       "    <tr>\n",
       "      <th>0</th>\n",
       "      <td>78afa995795e4d85b5d9ceeca43f5fef</td>\n",
       "      <td>9b98b8c7a33c4b65b9aebfe6a799e6d9</td>\n",
       "      <td>2020-05-01</td>\n",
       "      <td>2020-05-06 12:00:00</td>\n",
       "      <td>1</td>\n",
       "      <td>0</td>\n",
       "      <td>0</td>\n",
       "      <td>2020-05-01 06:00:00</td>\n",
       "      <td>2020-05-06 12:00:00</td>\n",
       "    </tr>\n",
       "    <tr>\n",
       "      <th>1</th>\n",
       "      <td>a03223e636434f42ac4c3df47e8bac43</td>\n",
       "      <td>0b1e1539f2cc45b7b9fa7c272da2e1d7</td>\n",
       "      <td>2020-05-01</td>\n",
       "      <td>2020-05-10 00:00:00</td>\n",
       "      <td>0</td>\n",
       "      <td>1</td>\n",
       "      <td>0</td>\n",
       "      <td>2020-05-01 06:00:00</td>\n",
       "      <td>NaT</td>\n",
       "    </tr>\n",
       "    <tr>\n",
       "      <th>2</th>\n",
       "      <td>a03223e636434f42ac4c3df47e8bac43</td>\n",
       "      <td>0b1e1539f2cc45b7b9fa7c272da2e1d7</td>\n",
       "      <td>2020-05-01</td>\n",
       "      <td>2020-05-10 00:00:00</td>\n",
       "      <td>0</td>\n",
       "      <td>1</td>\n",
       "      <td>0</td>\n",
       "      <td>2020-05-27 00:00:00</td>\n",
       "      <td>NaT</td>\n",
       "    </tr>\n",
       "    <tr>\n",
       "      <th>3</th>\n",
       "      <td>e2127556f4f64592b11af22de27a7932</td>\n",
       "      <td>2906b810c7d4411798c6938adc9daaa5</td>\n",
       "      <td>2020-05-01</td>\n",
       "      <td>2020-05-07 00:00:00</td>\n",
       "      <td>0</td>\n",
       "      <td>1</td>\n",
       "      <td>0</td>\n",
       "      <td>2020-05-01 18:00:00</td>\n",
       "      <td>NaT</td>\n",
       "    </tr>\n",
       "    <tr>\n",
       "      <th>4</th>\n",
       "      <td>8ec6ce2a7e7949b1bf142def7d0e0586</td>\n",
       "      <td>fafdcd668e3743c1bb461111dcafc2a4</td>\n",
       "      <td>2020-05-01</td>\n",
       "      <td>2020-05-10 00:00:00</td>\n",
       "      <td>0</td>\n",
       "      <td>1</td>\n",
       "      <td>0</td>\n",
       "      <td>2020-05-01 12:00:00</td>\n",
       "      <td>NaT</td>\n",
       "    </tr>\n",
       "  </tbody>\n",
       "</table>\n",
       "</div>"
      ],
      "text/plain": [
       "                        customer_id                      portfolio_id  \\\n",
       "0  78afa995795e4d85b5d9ceeca43f5fef  9b98b8c7a33c4b65b9aebfe6a799e6d9   \n",
       "1  a03223e636434f42ac4c3df47e8bac43  0b1e1539f2cc45b7b9fa7c272da2e1d7   \n",
       "2  a03223e636434f42ac4c3df47e8bac43  0b1e1539f2cc45b7b9fa7c272da2e1d7   \n",
       "3  e2127556f4f64592b11af22de27a7932  2906b810c7d4411798c6938adc9daaa5   \n",
       "4  8ec6ce2a7e7949b1bf142def7d0e0586  fafdcd668e3743c1bb461111dcafc2a4   \n",
       "\n",
       "  offer_start_date      offer_end_date  bogo  discount  informational  \\\n",
       "0       2020-05-01 2020-05-06 12:00:00     1         0              0   \n",
       "1       2020-05-01 2020-05-10 00:00:00     0         1              0   \n",
       "2       2020-05-01 2020-05-10 00:00:00     0         1              0   \n",
       "3       2020-05-01 2020-05-07 00:00:00     0         1              0   \n",
       "4       2020-05-01 2020-05-10 00:00:00     0         1              0   \n",
       "\n",
       "    offer_viewed_date offer_completed_date  \n",
       "0 2020-05-01 06:00:00  2020-05-06 12:00:00  \n",
       "1 2020-05-01 06:00:00                  NaT  \n",
       "2 2020-05-27 00:00:00                  NaT  \n",
       "3 2020-05-01 18:00:00                  NaT  \n",
       "4 2020-05-01 12:00:00                  NaT  "
      ]
     },
     "execution_count": 264,
     "metadata": {},
     "output_type": "execute_result"
    }
   ],
   "source": [
    "pt_offer_new_df.head()"
   ]
  },
  {
   "cell_type": "code",
   "execution_count": 265,
   "metadata": {},
   "outputs": [],
   "source": [
    "pt_offer_new_df[\"offer_start_date\"] = pd.to_datetime(pt_offer_new_df[\"offer_start_date\"])\n",
    "pt_offer_new_df[\"offer_start_date\"] = pt_offer_new_df[\"offer_start_date\"].dt.date\n",
    "\n",
    "pt_offer_new_df[\"offer_end_date\"] = pd.to_datetime(pt_offer_new_df[\"offer_end_date\"])\n",
    "pt_offer_new_df[\"offer_end_date\"] = pt_offer_new_df[\"offer_end_date\"].dt.date\n",
    "\n",
    "pt_offer_new_df[\"offer_viewed_date\"] = pd.to_datetime(pt_offer_new_df[\"offer_viewed_date\"])\n",
    "pt_offer_new_df[\"offer_viewed_date\"] = pt_offer_new_df[\"offer_viewed_date\"].dt.date\n",
    "\n",
    "pt_offer_new_df[\"offer_completed_date\"] = pd.to_datetime(pt_offer_new_df[\"offer_completed_date\"])\n",
    "pt_offer_new_df[\"offer_completed_date\"] = pt_offer_new_df[\"offer_completed_date\"].dt.date"
   ]
  },
  {
   "cell_type": "code",
   "execution_count": 266,
   "metadata": {},
   "outputs": [],
   "source": [
    "pt_offer_new_df = pt_offer_new_df[[\"customer_id\", \"portfolio_id\", \"offer_start_date\", \"offer_viewed_date\",\\\n",
    "                                  \"offer_completed_date\", \"offer_end_date\", \"bogo\", \"discount\", \"informational\"]]"
   ]
  },
  {
   "cell_type": "code",
   "execution_count": 267,
   "metadata": {
    "scrolled": true
   },
   "outputs": [
    {
     "data": {
      "text/html": [
       "<div>\n",
       "<style scoped>\n",
       "    .dataframe tbody tr th:only-of-type {\n",
       "        vertical-align: middle;\n",
       "    }\n",
       "\n",
       "    .dataframe tbody tr th {\n",
       "        vertical-align: top;\n",
       "    }\n",
       "\n",
       "    .dataframe thead th {\n",
       "        text-align: right;\n",
       "    }\n",
       "</style>\n",
       "<table border=\"1\" class=\"dataframe\">\n",
       "  <thead>\n",
       "    <tr style=\"text-align: right;\">\n",
       "      <th></th>\n",
       "      <th>customer_id</th>\n",
       "      <th>portfolio_id</th>\n",
       "      <th>offer_start_date</th>\n",
       "      <th>offer_viewed_date</th>\n",
       "      <th>offer_completed_date</th>\n",
       "      <th>offer_end_date</th>\n",
       "      <th>bogo</th>\n",
       "      <th>discount</th>\n",
       "      <th>informational</th>\n",
       "    </tr>\n",
       "  </thead>\n",
       "  <tbody>\n",
       "    <tr>\n",
       "      <th>0</th>\n",
       "      <td>78afa995795e4d85b5d9ceeca43f5fef</td>\n",
       "      <td>9b98b8c7a33c4b65b9aebfe6a799e6d9</td>\n",
       "      <td>2020-05-01</td>\n",
       "      <td>2020-05-01</td>\n",
       "      <td>2020-05-06</td>\n",
       "      <td>2020-05-06</td>\n",
       "      <td>1</td>\n",
       "      <td>0</td>\n",
       "      <td>0</td>\n",
       "    </tr>\n",
       "    <tr>\n",
       "      <th>1</th>\n",
       "      <td>a03223e636434f42ac4c3df47e8bac43</td>\n",
       "      <td>0b1e1539f2cc45b7b9fa7c272da2e1d7</td>\n",
       "      <td>2020-05-01</td>\n",
       "      <td>2020-05-01</td>\n",
       "      <td>NaT</td>\n",
       "      <td>2020-05-10</td>\n",
       "      <td>0</td>\n",
       "      <td>1</td>\n",
       "      <td>0</td>\n",
       "    </tr>\n",
       "    <tr>\n",
       "      <th>2</th>\n",
       "      <td>a03223e636434f42ac4c3df47e8bac43</td>\n",
       "      <td>0b1e1539f2cc45b7b9fa7c272da2e1d7</td>\n",
       "      <td>2020-05-01</td>\n",
       "      <td>2020-05-27</td>\n",
       "      <td>NaT</td>\n",
       "      <td>2020-05-10</td>\n",
       "      <td>0</td>\n",
       "      <td>1</td>\n",
       "      <td>0</td>\n",
       "    </tr>\n",
       "    <tr>\n",
       "      <th>3</th>\n",
       "      <td>e2127556f4f64592b11af22de27a7932</td>\n",
       "      <td>2906b810c7d4411798c6938adc9daaa5</td>\n",
       "      <td>2020-05-01</td>\n",
       "      <td>2020-05-01</td>\n",
       "      <td>NaT</td>\n",
       "      <td>2020-05-07</td>\n",
       "      <td>0</td>\n",
       "      <td>1</td>\n",
       "      <td>0</td>\n",
       "    </tr>\n",
       "    <tr>\n",
       "      <th>4</th>\n",
       "      <td>8ec6ce2a7e7949b1bf142def7d0e0586</td>\n",
       "      <td>fafdcd668e3743c1bb461111dcafc2a4</td>\n",
       "      <td>2020-05-01</td>\n",
       "      <td>2020-05-01</td>\n",
       "      <td>NaT</td>\n",
       "      <td>2020-05-10</td>\n",
       "      <td>0</td>\n",
       "      <td>1</td>\n",
       "      <td>0</td>\n",
       "    </tr>\n",
       "  </tbody>\n",
       "</table>\n",
       "</div>"
      ],
      "text/plain": [
       "                        customer_id                      portfolio_id  \\\n",
       "0  78afa995795e4d85b5d9ceeca43f5fef  9b98b8c7a33c4b65b9aebfe6a799e6d9   \n",
       "1  a03223e636434f42ac4c3df47e8bac43  0b1e1539f2cc45b7b9fa7c272da2e1d7   \n",
       "2  a03223e636434f42ac4c3df47e8bac43  0b1e1539f2cc45b7b9fa7c272da2e1d7   \n",
       "3  e2127556f4f64592b11af22de27a7932  2906b810c7d4411798c6938adc9daaa5   \n",
       "4  8ec6ce2a7e7949b1bf142def7d0e0586  fafdcd668e3743c1bb461111dcafc2a4   \n",
       "\n",
       "  offer_start_date offer_viewed_date offer_completed_date offer_end_date  \\\n",
       "0       2020-05-01        2020-05-01           2020-05-06     2020-05-06   \n",
       "1       2020-05-01        2020-05-01                  NaT     2020-05-10   \n",
       "2       2020-05-01        2020-05-27                  NaT     2020-05-10   \n",
       "3       2020-05-01        2020-05-01                  NaT     2020-05-07   \n",
       "4       2020-05-01        2020-05-01                  NaT     2020-05-10   \n",
       "\n",
       "   bogo  discount  informational  \n",
       "0     1         0              0  \n",
       "1     0         1              0  \n",
       "2     0         1              0  \n",
       "3     0         1              0  \n",
       "4     0         1              0  "
      ]
     },
     "execution_count": 267,
     "metadata": {},
     "output_type": "execute_result"
    }
   ],
   "source": [
    "pt_offer_new_df.head()"
   ]
  },
  {
   "cell_type": "code",
   "execution_count": 268,
   "metadata": {
    "scrolled": true
   },
   "outputs": [
    {
     "name": "stdout",
     "output_type": "stream",
     "text": [
      "<class 'pandas.core.frame.DataFrame'>\n",
      "Int64Index: 115609 entries, 0 to 115608\n",
      "Data columns (total 9 columns):\n",
      "customer_id             115609 non-null object\n",
      "portfolio_id            115609 non-null object\n",
      "offer_start_date        115609 non-null object\n",
      "offer_viewed_date       98933 non-null object\n",
      "offer_completed_date    67397 non-null object\n",
      "offer_end_date          115609 non-null object\n",
      "bogo                    115609 non-null uint8\n",
      "discount                115609 non-null uint8\n",
      "informational           115609 non-null uint8\n",
      "dtypes: object(6), uint8(3)\n",
      "memory usage: 6.5+ MB\n"
     ]
    }
   ],
   "source": [
    "pt_offer_new_df.info()"
   ]
  },
  {
   "cell_type": "code",
   "execution_count": 270,
   "metadata": {},
   "outputs": [
    {
     "data": {
      "text/html": [
       "<div>\n",
       "<style scoped>\n",
       "    .dataframe tbody tr th:only-of-type {\n",
       "        vertical-align: middle;\n",
       "    }\n",
       "\n",
       "    .dataframe tbody tr th {\n",
       "        vertical-align: top;\n",
       "    }\n",
       "\n",
       "    .dataframe thead th {\n",
       "        text-align: right;\n",
       "    }\n",
       "</style>\n",
       "<table border=\"1\" class=\"dataframe\">\n",
       "  <thead>\n",
       "    <tr style=\"text-align: right;\">\n",
       "      <th></th>\n",
       "      <th>customer_id</th>\n",
       "      <th>portfolio_id</th>\n",
       "      <th>offer_start_date</th>\n",
       "      <th>offer_viewed_date</th>\n",
       "      <th>offer_completed_date</th>\n",
       "      <th>offer_end_date</th>\n",
       "      <th>bogo</th>\n",
       "      <th>discount</th>\n",
       "      <th>informational</th>\n",
       "    </tr>\n",
       "  </thead>\n",
       "  <tbody>\n",
       "    <tr>\n",
       "      <th>0</th>\n",
       "      <td>78afa995795e4d85b5d9ceeca43f5fef</td>\n",
       "      <td>9b98b8c7a33c4b65b9aebfe6a799e6d9</td>\n",
       "      <td>2020-05-01</td>\n",
       "      <td>2020-05-01</td>\n",
       "      <td>2020-05-06</td>\n",
       "      <td>2020-05-06</td>\n",
       "      <td>1</td>\n",
       "      <td>0</td>\n",
       "      <td>0</td>\n",
       "    </tr>\n",
       "    <tr>\n",
       "      <th>1</th>\n",
       "      <td>a03223e636434f42ac4c3df47e8bac43</td>\n",
       "      <td>0b1e1539f2cc45b7b9fa7c272da2e1d7</td>\n",
       "      <td>2020-05-01</td>\n",
       "      <td>2020-05-01</td>\n",
       "      <td>NaT</td>\n",
       "      <td>2020-05-10</td>\n",
       "      <td>0</td>\n",
       "      <td>1</td>\n",
       "      <td>0</td>\n",
       "    </tr>\n",
       "    <tr>\n",
       "      <th>2</th>\n",
       "      <td>a03223e636434f42ac4c3df47e8bac43</td>\n",
       "      <td>0b1e1539f2cc45b7b9fa7c272da2e1d7</td>\n",
       "      <td>2020-05-01</td>\n",
       "      <td>2020-05-27</td>\n",
       "      <td>NaT</td>\n",
       "      <td>2020-05-10</td>\n",
       "      <td>0</td>\n",
       "      <td>1</td>\n",
       "      <td>0</td>\n",
       "    </tr>\n",
       "    <tr>\n",
       "      <th>3</th>\n",
       "      <td>e2127556f4f64592b11af22de27a7932</td>\n",
       "      <td>2906b810c7d4411798c6938adc9daaa5</td>\n",
       "      <td>2020-05-01</td>\n",
       "      <td>2020-05-01</td>\n",
       "      <td>NaT</td>\n",
       "      <td>2020-05-07</td>\n",
       "      <td>0</td>\n",
       "      <td>1</td>\n",
       "      <td>0</td>\n",
       "    </tr>\n",
       "    <tr>\n",
       "      <th>4</th>\n",
       "      <td>8ec6ce2a7e7949b1bf142def7d0e0586</td>\n",
       "      <td>fafdcd668e3743c1bb461111dcafc2a4</td>\n",
       "      <td>2020-05-01</td>\n",
       "      <td>2020-05-01</td>\n",
       "      <td>NaT</td>\n",
       "      <td>2020-05-10</td>\n",
       "      <td>0</td>\n",
       "      <td>1</td>\n",
       "      <td>0</td>\n",
       "    </tr>\n",
       "  </tbody>\n",
       "</table>\n",
       "</div>"
      ],
      "text/plain": [
       "                        customer_id                      portfolio_id  \\\n",
       "0  78afa995795e4d85b5d9ceeca43f5fef  9b98b8c7a33c4b65b9aebfe6a799e6d9   \n",
       "1  a03223e636434f42ac4c3df47e8bac43  0b1e1539f2cc45b7b9fa7c272da2e1d7   \n",
       "2  a03223e636434f42ac4c3df47e8bac43  0b1e1539f2cc45b7b9fa7c272da2e1d7   \n",
       "3  e2127556f4f64592b11af22de27a7932  2906b810c7d4411798c6938adc9daaa5   \n",
       "4  8ec6ce2a7e7949b1bf142def7d0e0586  fafdcd668e3743c1bb461111dcafc2a4   \n",
       "\n",
       "  offer_start_date offer_viewed_date offer_completed_date offer_end_date  \\\n",
       "0       2020-05-01        2020-05-01           2020-05-06     2020-05-06   \n",
       "1       2020-05-01        2020-05-01                  NaT     2020-05-10   \n",
       "2       2020-05-01        2020-05-27                  NaT     2020-05-10   \n",
       "3       2020-05-01        2020-05-01                  NaT     2020-05-07   \n",
       "4       2020-05-01        2020-05-01                  NaT     2020-05-10   \n",
       "\n",
       "   bogo  discount  informational  \n",
       "0     1         0              0  \n",
       "1     0         1              0  \n",
       "2     0         1              0  \n",
       "3     0         1              0  \n",
       "4     0         1              0  "
      ]
     },
     "execution_count": 270,
     "metadata": {},
     "output_type": "execute_result"
    }
   ],
   "source": [
    "pt_offer_new_df.head()"
   ]
  },
  {
   "cell_type": "code",
   "execution_count": 271,
   "metadata": {},
   "outputs": [],
   "source": [
    "# pt_offer_new_df.loc[pt_offer_new_df[\"offer_end_date\"] > pt_offer_new_df[\"offer_completed_date\"], \"offer_end_date\"]\\\n",
    "# = pt_offer_new_df.loc[pt_offer_new_df[\"offer_end_date\"] > pt_offer_new_df[\"offer_completed_date\"], \"offer_completed_date\"]"
   ]
  },
  {
   "cell_type": "code",
   "execution_count": 272,
   "metadata": {
    "scrolled": true
   },
   "outputs": [
    {
     "data": {
      "text/html": [
       "<div>\n",
       "<style scoped>\n",
       "    .dataframe tbody tr th:only-of-type {\n",
       "        vertical-align: middle;\n",
       "    }\n",
       "\n",
       "    .dataframe tbody tr th {\n",
       "        vertical-align: top;\n",
       "    }\n",
       "\n",
       "    .dataframe thead th {\n",
       "        text-align: right;\n",
       "    }\n",
       "</style>\n",
       "<table border=\"1\" class=\"dataframe\">\n",
       "  <thead>\n",
       "    <tr style=\"text-align: right;\">\n",
       "      <th></th>\n",
       "      <th>customer_id</th>\n",
       "      <th>portfolio_id</th>\n",
       "      <th>offer_start_date</th>\n",
       "      <th>offer_viewed_date</th>\n",
       "      <th>offer_completed_date</th>\n",
       "      <th>offer_end_date</th>\n",
       "      <th>bogo</th>\n",
       "      <th>discount</th>\n",
       "      <th>informational</th>\n",
       "    </tr>\n",
       "  </thead>\n",
       "  <tbody>\n",
       "    <tr>\n",
       "      <th>0</th>\n",
       "      <td>78afa995795e4d85b5d9ceeca43f5fef</td>\n",
       "      <td>9b98b8c7a33c4b65b9aebfe6a799e6d9</td>\n",
       "      <td>2020-05-01</td>\n",
       "      <td>2020-05-01</td>\n",
       "      <td>2020-05-06</td>\n",
       "      <td>2020-05-06</td>\n",
       "      <td>1</td>\n",
       "      <td>0</td>\n",
       "      <td>0</td>\n",
       "    </tr>\n",
       "    <tr>\n",
       "      <th>1</th>\n",
       "      <td>a03223e636434f42ac4c3df47e8bac43</td>\n",
       "      <td>0b1e1539f2cc45b7b9fa7c272da2e1d7</td>\n",
       "      <td>2020-05-01</td>\n",
       "      <td>2020-05-01</td>\n",
       "      <td>NaT</td>\n",
       "      <td>2020-05-10</td>\n",
       "      <td>0</td>\n",
       "      <td>1</td>\n",
       "      <td>0</td>\n",
       "    </tr>\n",
       "    <tr>\n",
       "      <th>2</th>\n",
       "      <td>a03223e636434f42ac4c3df47e8bac43</td>\n",
       "      <td>0b1e1539f2cc45b7b9fa7c272da2e1d7</td>\n",
       "      <td>2020-05-01</td>\n",
       "      <td>2020-05-27</td>\n",
       "      <td>NaT</td>\n",
       "      <td>2020-05-10</td>\n",
       "      <td>0</td>\n",
       "      <td>1</td>\n",
       "      <td>0</td>\n",
       "    </tr>\n",
       "    <tr>\n",
       "      <th>3</th>\n",
       "      <td>e2127556f4f64592b11af22de27a7932</td>\n",
       "      <td>2906b810c7d4411798c6938adc9daaa5</td>\n",
       "      <td>2020-05-01</td>\n",
       "      <td>2020-05-01</td>\n",
       "      <td>NaT</td>\n",
       "      <td>2020-05-07</td>\n",
       "      <td>0</td>\n",
       "      <td>1</td>\n",
       "      <td>0</td>\n",
       "    </tr>\n",
       "    <tr>\n",
       "      <th>4</th>\n",
       "      <td>8ec6ce2a7e7949b1bf142def7d0e0586</td>\n",
       "      <td>fafdcd668e3743c1bb461111dcafc2a4</td>\n",
       "      <td>2020-05-01</td>\n",
       "      <td>2020-05-01</td>\n",
       "      <td>NaT</td>\n",
       "      <td>2020-05-10</td>\n",
       "      <td>0</td>\n",
       "      <td>1</td>\n",
       "      <td>0</td>\n",
       "    </tr>\n",
       "  </tbody>\n",
       "</table>\n",
       "</div>"
      ],
      "text/plain": [
       "                        customer_id                      portfolio_id  \\\n",
       "0  78afa995795e4d85b5d9ceeca43f5fef  9b98b8c7a33c4b65b9aebfe6a799e6d9   \n",
       "1  a03223e636434f42ac4c3df47e8bac43  0b1e1539f2cc45b7b9fa7c272da2e1d7   \n",
       "2  a03223e636434f42ac4c3df47e8bac43  0b1e1539f2cc45b7b9fa7c272da2e1d7   \n",
       "3  e2127556f4f64592b11af22de27a7932  2906b810c7d4411798c6938adc9daaa5   \n",
       "4  8ec6ce2a7e7949b1bf142def7d0e0586  fafdcd668e3743c1bb461111dcafc2a4   \n",
       "\n",
       "  offer_start_date offer_viewed_date offer_completed_date offer_end_date  \\\n",
       "0       2020-05-01        2020-05-01           2020-05-06     2020-05-06   \n",
       "1       2020-05-01        2020-05-01                  NaT     2020-05-10   \n",
       "2       2020-05-01        2020-05-27                  NaT     2020-05-10   \n",
       "3       2020-05-01        2020-05-01                  NaT     2020-05-07   \n",
       "4       2020-05-01        2020-05-01                  NaT     2020-05-10   \n",
       "\n",
       "   bogo  discount  informational  \n",
       "0     1         0              0  \n",
       "1     0         1              0  \n",
       "2     0         1              0  \n",
       "3     0         1              0  \n",
       "4     0         1              0  "
      ]
     },
     "execution_count": 272,
     "metadata": {},
     "output_type": "execute_result"
    }
   ],
   "source": [
    "pt_offer_new_df.head()"
   ]
  },
  {
   "cell_type": "code",
   "execution_count": 273,
   "metadata": {},
   "outputs": [],
   "source": [
    "src_df = pt_df[[\"customer_id\", \"datetime\"]]"
   ]
  },
  {
   "cell_type": "code",
   "execution_count": 274,
   "metadata": {},
   "outputs": [
    {
     "name": "stderr",
     "output_type": "stream",
     "text": [
      "/opt/conda/lib/python3.6/site-packages/ipykernel_launcher.py:1: SettingWithCopyWarning: \n",
      "A value is trying to be set on a copy of a slice from a DataFrame.\n",
      "Try using .loc[row_indexer,col_indexer] = value instead\n",
      "\n",
      "See the caveats in the documentation: http://pandas.pydata.org/pandas-docs/stable/indexing.html#indexing-view-versus-copy\n",
      "  \"\"\"Entry point for launching an IPython kernel.\n"
     ]
    }
   ],
   "source": [
    "src_df[\"date\"] = src_df[\"datetime\"].dt.date"
   ]
  },
  {
   "cell_type": "code",
   "execution_count": 275,
   "metadata": {},
   "outputs": [],
   "source": [
    "src_df = src_df.drop(columns=[\"datetime\"])"
   ]
  },
  {
   "cell_type": "code",
   "execution_count": 276,
   "metadata": {},
   "outputs": [],
   "source": [
    "src_df = src_df.drop_duplicates()"
   ]
  },
  {
   "cell_type": "code",
   "execution_count": 277,
   "metadata": {
    "scrolled": true
   },
   "outputs": [],
   "source": [
    "offers = pt_offer_new_df[\"portfolio_id\"].unique()"
   ]
  },
  {
   "cell_type": "code",
   "execution_count": 278,
   "metadata": {},
   "outputs": [],
   "source": [
    "pt_final_df = pd.DataFrame()"
   ]
  },
  {
   "cell_type": "code",
   "execution_count": 293,
   "metadata": {},
   "outputs": [],
   "source": [
    "def full_fill_offer_dates(offer_id):\n",
    "    '''\n",
    "    INPUT: offer_id string\n",
    "    \n",
    "    OUTPUT: a dataframe with offer start date and offer end date fulfilled\n",
    "    \n",
    "    '''\n",
    "    \n",
    "    #subset offer related activities by offer_id\n",
    "    pt_offer_new_sub_df = pt_offer_new_df.loc[pt_offer_new_df[\"portfolio_id\"] == offer_id, \\\n",
    "                                         [\"customer_id\", \"portfolio_id\", \"offer_start_date\", \"offer_viewed_date\",\\\n",
    "                                         \"offer_completed_date\", \"offer_end_date\"]]\n",
    "    \n",
    "    #subset transaction activities of the customers who received the offer\n",
    "    pt_trans_sub_df = pt_trans_df[pt_trans_df[\"customer_id\"].isin(pt_offer_new_sub_df[\"customer_id\"].unique())]\n",
    "    \n",
    "    #subset offer end date\n",
    "    pt_offer_new_sub_end_df = pt_offer_new_sub_df[[\"customer_id\", \"offer_end_date\"]]\n",
    "    \n",
    "    #drop offer_end_date from the original offer related dataframe\n",
    "    pt_offer_new_sub_df = pt_offer_new_sub_df.drop(columns=[\"offer_end_date\"])\n",
    "    pt_offer_new_sub_df = pt_offer_new_sub_df.drop_duplicates()\n",
    "    \n",
    "    #join offer related dataframes with transaction dataframe\n",
    "    pt_sub_final_df = src_df.merge(pt_offer_new_sub_df, left_on =[\"customer_id\", \"date\"],\\\n",
    "                                   right_on=[\"customer_id\", \"offer_start_date\"],\\\n",
    "            how=\"left\").merge(pt_offer_new_sub_end_df, left_on =[\"customer_id\", \"date\"],\\\n",
    "                             right_on = [\"customer_id\", \"offer_end_date\"], how = \"left\").merge(pt_trans_sub_df, \\\n",
    "                            left_on = [\"customer_id\", \"date\"], right_on=[\"customer_id\", \"transaction_date\"],\\\n",
    "                            how = \"left\").drop_duplicates()\n",
    "    \n",
    "    #Fulfill the offer start date and offer end date\n",
    "    pt_sub_final_df[\"offer_start_date\"] = \\\n",
    "    pt_sub_final_df.sort_values([\"customer_id\", \"date\"]).groupby(\"customer_id\")[\"offer_start_date\"].apply(lambda x: x.ffill())\n",
    "    pt_sub_final_df[\"offer_end_date\"] = \\\n",
    "    pt_sub_final_df.sort_values([\"customer_id\", \"date\"]).groupby(\"customer_id\")[\"offer_end_date\"].apply(lambda x: x.bfill().ffill())\n",
    "#     pt_sub_final_df.loc[(pt_sub_final_df[\"offer_start_date\"].isnull()), \"offer_end_date\"] \\\n",
    "#     = pt_sub_final_df.loc[(pt_sub_final_df[\"offer_start_date\"].isnull()), \"offer_start_date\"]\n",
    "    \n",
    "#     pt_sub_final_df[\"offer_start_date\"] = pt_sub_final_df[\"offer_start_date\"]\n",
    "#     pt_sub_final_df[\"offer_viewed_date\"] = pt_sub_final_df[\"offer_viewed_date\"]\n",
    "#     pt_sub_final_df[\"offer_completed_date\"] = pt_sub_final_df[\"offer_completed_date\"]\n",
    "#     pt_sub_final_df[\"offer_end_date\"] = pt_sub_final_df[\"offer_end_date\"]\n",
    "    pt_sub_final_df[\"transaction_date\"] = pd.to_datetime(pt_sub_final_df[\"transaction_date\"])\n",
    "    pt_sub_final_df[\"transaction_date\"] = pt_sub_final_df[\"transaction_date\"].dt.date\n",
    "    \n",
    "    return pt_sub_final_df"
   ]
  },
  {
   "cell_type": "code",
   "execution_count": 281,
   "metadata": {},
   "outputs": [
    {
     "ename": "IndentationError",
     "evalue": "unexpected indent (<ipython-input-281-57435ed960ac>, line 26)",
     "output_type": "error",
     "traceback": [
      "\u001b[0;36m  File \u001b[0;32m\"<ipython-input-281-57435ed960ac>\"\u001b[0;36m, line \u001b[0;32m26\u001b[0m\n\u001b[0;31m    .drop_duplicates()\u001b[0m\n\u001b[0m    ^\u001b[0m\n\u001b[0;31mIndentationError\u001b[0m\u001b[0;31m:\u001b[0m unexpected indent\n"
     ]
    }
   ],
   "source": [
    "def full_fill_offer_dates_v2(offer_id):\n",
    "    '''\n",
    "    INPUT: offer_id string\n",
    "    \n",
    "    OUTPUT: a dataframe with offer start date and offer end date fulfilled\n",
    "    \n",
    "    '''\n",
    "    \n",
    "    #subset offer related activities by offer_id\n",
    "    pt_offer_new_sub_df = pt_offer_new_df.loc[pt_offer_new_df[\"portfolio_id\"] == offer_id, \\\n",
    "                                         [\"customer_id\", \"portfolio_id\", \"offer_start_date\", \"offer_viewed_date\",\\\n",
    "                                         \"offer_completed_date\", \"offer_end_date\"]]\n",
    "    \n",
    "    #subset transaction activities of the customers who received the offer\n",
    "#     pt_trans_sub_df = pt_trans_df[pt_trans_df[\"customer_id\"].isin(pt_offer_new_sub_df[\"customer_id\"].unique())]\n",
    "    \n",
    "    #subset offer end date\n",
    "    pt_offer_new_sub_end_df = pt_offer_new_sub_df[[\"customer_id\", \"offer_end_date\"]]\n",
    "    \n",
    "    #drop offer_end_date from the original offer related dataframe\n",
    "    pt_offer_new_sub_df = pt_offer_new_sub_df.drop(columns=[\"offer_end_date\"])\n",
    "    pt_offer_new_sub_df = pt_offer_new_sub_df.drop_duplicates()\n",
    "    \n",
    "    #join offer related dataframes with transaction dataframe\n",
    "    pt_sub_final_df = src_df.merge(pt_offer_new_sub_df, left_on =[\"customer_id\", \"date\"],\\\n",
    "                                   right_on=[\"customer_id\", \"offer_start_date\"],\\\n",
    "            how=\"left\").merge(pt_offer_new_sub_end_df, left_on =[\"customer_id\", \"date\"],\\\n",
    "                             right_on = [\"customer_id\", \"offer_end_date\"], how = \"left\")\\\n",
    "#                             .merge(pt_trans_sub_df, \\\n",
    "#                             left_on = [\"customer_id\", \"date\"], right_on=[\"customer_id\", \"transaction_date\"],\\\n",
    "#                             how = \"left\")\\\n",
    "#             .drop_duplicates()\n",
    "    \n",
    "    #Fulfill the offer start date and offer end date\n",
    "    pt_sub_final_df[\"offer_start_date\"] = \\\n",
    "    pt_sub_final_df.sort_values([\"customer_id\", \"date\"]).groupby(\"customer_id\")[\"offer_start_date\"].apply(lambda x: x.ffill())\n",
    "    pt_sub_final_df[\"offer_end_date\"] = \\\n",
    "    pt_sub_final_df.sort_values([\"customer_id\", \"date\"]).groupby(\"customer_id\")[\"offer_end_date\"].apply(lambda x: x.bfill().ffill())\n",
    "#     pt_sub_final_df.loc[(pt_sub_final_df[\"offer_start_date\"].isnull()), \"offer_end_date\"] \\\n",
    "#     = pt_sub_final_df.loc[(pt_sub_final_df[\"offer_start_date\"].isnull()), \"offer_start_date\"]\n",
    "    \n",
    "    return pt_sub_final_df"
   ]
  },
  {
   "cell_type": "code",
   "execution_count": null,
   "metadata": {},
   "outputs": [],
   "source": [
    "# test_offer_id = \"9b98b8c7a33c4b65b9aebfe6a799e6d9\"\n",
    "# test_offer_df = full_fill_offer_dates(test_offer_id)\n",
    "# test_offer_df.head()"
   ]
  },
  {
   "cell_type": "code",
   "execution_count": null,
   "metadata": {},
   "outputs": [],
   "source": [
    "# test_offer_df[test_offer_df[\"customer_id\"] == \"e2127556f4f64592b11af22de27a7932\"].sort_values(\"date\")"
   ]
  },
  {
   "cell_type": "code",
   "execution_count": 294,
   "metadata": {},
   "outputs": [
    {
     "name": "stderr",
     "output_type": "stream",
     "text": [
      "/opt/conda/lib/python3.6/site-packages/pandas/core/frame.py:6211: FutureWarning: Sorting because non-concatenation axis is not aligned. A future version\n",
      "of pandas will change to not sort by default.\n",
      "\n",
      "To accept the future behavior, pass 'sort=False'.\n",
      "\n",
      "To retain the current behavior and silence the warning, pass 'sort=True'.\n",
      "\n",
      "  sort=sort)\n"
     ]
    }
   ],
   "source": [
    "for offer_id in offers:\n",
    "    pt_final_df = pt_final_df.append(full_fill_offer_dates(offer_id))"
   ]
  },
  {
   "cell_type": "code",
   "execution_count": 295,
   "metadata": {},
   "outputs": [
    {
     "data": {
      "text/html": [
       "<div>\n",
       "<style scoped>\n",
       "    .dataframe tbody tr th:only-of-type {\n",
       "        vertical-align: middle;\n",
       "    }\n",
       "\n",
       "    .dataframe tbody tr th {\n",
       "        vertical-align: top;\n",
       "    }\n",
       "\n",
       "    .dataframe thead th {\n",
       "        text-align: right;\n",
       "    }\n",
       "</style>\n",
       "<table border=\"1\" class=\"dataframe\">\n",
       "  <thead>\n",
       "    <tr style=\"text-align: right;\">\n",
       "      <th></th>\n",
       "      <th>amount</th>\n",
       "      <th>customer_id</th>\n",
       "      <th>date</th>\n",
       "      <th>index</th>\n",
       "      <th>offer_completed_date</th>\n",
       "      <th>offer_end_date</th>\n",
       "      <th>offer_start_date</th>\n",
       "      <th>offer_viewed_date</th>\n",
       "      <th>portfolio_id</th>\n",
       "      <th>transaction_date</th>\n",
       "    </tr>\n",
       "  </thead>\n",
       "  <tbody>\n",
       "    <tr>\n",
       "      <th>0</th>\n",
       "      <td>NaN</td>\n",
       "      <td>78afa995795e4d85b5d9ceeca43f5fef</td>\n",
       "      <td>2020-05-01</td>\n",
       "      <td>0.0</td>\n",
       "      <td>2020-05-06</td>\n",
       "      <td>2020-05-06</td>\n",
       "      <td>2020-05-01</td>\n",
       "      <td>2020-05-01</td>\n",
       "      <td>9b98b8c7a33c4b65b9aebfe6a799e6d9</td>\n",
       "      <td>NaT</td>\n",
       "    </tr>\n",
       "    <tr>\n",
       "      <th>1</th>\n",
       "      <td>NaN</td>\n",
       "      <td>a03223e636434f42ac4c3df47e8bac43</td>\n",
       "      <td>2020-05-01</td>\n",
       "      <td>1.0</td>\n",
       "      <td>NaN</td>\n",
       "      <td>NaN</td>\n",
       "      <td>NaN</td>\n",
       "      <td>NaN</td>\n",
       "      <td>NaN</td>\n",
       "      <td>NaT</td>\n",
       "    </tr>\n",
       "    <tr>\n",
       "      <th>2</th>\n",
       "      <td>NaN</td>\n",
       "      <td>e2127556f4f64592b11af22de27a7932</td>\n",
       "      <td>2020-05-01</td>\n",
       "      <td>2.0</td>\n",
       "      <td>NaN</td>\n",
       "      <td>NaN</td>\n",
       "      <td>NaN</td>\n",
       "      <td>NaN</td>\n",
       "      <td>NaN</td>\n",
       "      <td>NaT</td>\n",
       "    </tr>\n",
       "    <tr>\n",
       "      <th>3</th>\n",
       "      <td>NaN</td>\n",
       "      <td>8ec6ce2a7e7949b1bf142def7d0e0586</td>\n",
       "      <td>2020-05-01</td>\n",
       "      <td>3.0</td>\n",
       "      <td>NaN</td>\n",
       "      <td>NaN</td>\n",
       "      <td>NaN</td>\n",
       "      <td>NaN</td>\n",
       "      <td>NaN</td>\n",
       "      <td>NaT</td>\n",
       "    </tr>\n",
       "    <tr>\n",
       "      <th>4</th>\n",
       "      <td>NaN</td>\n",
       "      <td>68617ca6246f4fbc85e91a2a49552598</td>\n",
       "      <td>2020-05-01</td>\n",
       "      <td>4.0</td>\n",
       "      <td>NaN</td>\n",
       "      <td>NaN</td>\n",
       "      <td>NaN</td>\n",
       "      <td>NaN</td>\n",
       "      <td>NaN</td>\n",
       "      <td>NaT</td>\n",
       "    </tr>\n",
       "  </tbody>\n",
       "</table>\n",
       "</div>"
      ],
      "text/plain": [
       "   amount                       customer_id        date  index  \\\n",
       "0     NaN  78afa995795e4d85b5d9ceeca43f5fef  2020-05-01    0.0   \n",
       "1     NaN  a03223e636434f42ac4c3df47e8bac43  2020-05-01    1.0   \n",
       "2     NaN  e2127556f4f64592b11af22de27a7932  2020-05-01    2.0   \n",
       "3     NaN  8ec6ce2a7e7949b1bf142def7d0e0586  2020-05-01    3.0   \n",
       "4     NaN  68617ca6246f4fbc85e91a2a49552598  2020-05-01    4.0   \n",
       "\n",
       "  offer_completed_date offer_end_date offer_start_date offer_viewed_date  \\\n",
       "0           2020-05-06     2020-05-06       2020-05-01        2020-05-01   \n",
       "1                  NaN            NaN              NaN               NaN   \n",
       "2                  NaN            NaN              NaN               NaN   \n",
       "3                  NaN            NaN              NaN               NaN   \n",
       "4                  NaN            NaN              NaN               NaN   \n",
       "\n",
       "                       portfolio_id transaction_date  \n",
       "0  9b98b8c7a33c4b65b9aebfe6a799e6d9              NaT  \n",
       "1                               NaN              NaT  \n",
       "2                               NaN              NaT  \n",
       "3                               NaN              NaT  \n",
       "4                               NaN              NaT  "
      ]
     },
     "execution_count": 295,
     "metadata": {},
     "output_type": "execute_result"
    }
   ],
   "source": [
    "pt_final_df.head()"
   ]
  },
  {
   "cell_type": "code",
   "execution_count": 296,
   "metadata": {},
   "outputs": [],
   "source": [
    "pt_final_df = pt_final_df.drop_duplicates().reset_index()"
   ]
  },
  {
   "cell_type": "code",
   "execution_count": 297,
   "metadata": {
    "scrolled": false
   },
   "outputs": [
    {
     "data": {
      "text/html": [
       "<div>\n",
       "<style scoped>\n",
       "    .dataframe tbody tr th:only-of-type {\n",
       "        vertical-align: middle;\n",
       "    }\n",
       "\n",
       "    .dataframe tbody tr th {\n",
       "        vertical-align: top;\n",
       "    }\n",
       "\n",
       "    .dataframe thead th {\n",
       "        text-align: right;\n",
       "    }\n",
       "</style>\n",
       "<table border=\"1\" class=\"dataframe\">\n",
       "  <thead>\n",
       "    <tr style=\"text-align: right;\">\n",
       "      <th></th>\n",
       "      <th>level_0</th>\n",
       "      <th>amount</th>\n",
       "      <th>customer_id</th>\n",
       "      <th>date</th>\n",
       "      <th>index</th>\n",
       "      <th>offer_completed_date</th>\n",
       "      <th>offer_end_date</th>\n",
       "      <th>offer_start_date</th>\n",
       "      <th>offer_viewed_date</th>\n",
       "      <th>portfolio_id</th>\n",
       "      <th>transaction_date</th>\n",
       "    </tr>\n",
       "  </thead>\n",
       "  <tbody>\n",
       "    <tr>\n",
       "      <th>0</th>\n",
       "      <td>0</td>\n",
       "      <td>NaN</td>\n",
       "      <td>78afa995795e4d85b5d9ceeca43f5fef</td>\n",
       "      <td>2020-05-01</td>\n",
       "      <td>0.0</td>\n",
       "      <td>2020-05-06</td>\n",
       "      <td>2020-05-06</td>\n",
       "      <td>2020-05-01</td>\n",
       "      <td>2020-05-01</td>\n",
       "      <td>9b98b8c7a33c4b65b9aebfe6a799e6d9</td>\n",
       "      <td>NaT</td>\n",
       "    </tr>\n",
       "    <tr>\n",
       "      <th>1</th>\n",
       "      <td>1</td>\n",
       "      <td>NaN</td>\n",
       "      <td>a03223e636434f42ac4c3df47e8bac43</td>\n",
       "      <td>2020-05-01</td>\n",
       "      <td>1.0</td>\n",
       "      <td>NaN</td>\n",
       "      <td>NaN</td>\n",
       "      <td>NaN</td>\n",
       "      <td>NaN</td>\n",
       "      <td>NaN</td>\n",
       "      <td>NaT</td>\n",
       "    </tr>\n",
       "    <tr>\n",
       "      <th>2</th>\n",
       "      <td>2</td>\n",
       "      <td>NaN</td>\n",
       "      <td>e2127556f4f64592b11af22de27a7932</td>\n",
       "      <td>2020-05-01</td>\n",
       "      <td>2.0</td>\n",
       "      <td>NaN</td>\n",
       "      <td>NaN</td>\n",
       "      <td>NaN</td>\n",
       "      <td>NaN</td>\n",
       "      <td>NaN</td>\n",
       "      <td>NaT</td>\n",
       "    </tr>\n",
       "    <tr>\n",
       "      <th>3</th>\n",
       "      <td>3</td>\n",
       "      <td>NaN</td>\n",
       "      <td>8ec6ce2a7e7949b1bf142def7d0e0586</td>\n",
       "      <td>2020-05-01</td>\n",
       "      <td>3.0</td>\n",
       "      <td>NaN</td>\n",
       "      <td>NaN</td>\n",
       "      <td>NaN</td>\n",
       "      <td>NaN</td>\n",
       "      <td>NaN</td>\n",
       "      <td>NaT</td>\n",
       "    </tr>\n",
       "    <tr>\n",
       "      <th>4</th>\n",
       "      <td>4</td>\n",
       "      <td>NaN</td>\n",
       "      <td>68617ca6246f4fbc85e91a2a49552598</td>\n",
       "      <td>2020-05-01</td>\n",
       "      <td>4.0</td>\n",
       "      <td>NaN</td>\n",
       "      <td>NaN</td>\n",
       "      <td>NaN</td>\n",
       "      <td>NaN</td>\n",
       "      <td>NaN</td>\n",
       "      <td>NaT</td>\n",
       "    </tr>\n",
       "  </tbody>\n",
       "</table>\n",
       "</div>"
      ],
      "text/plain": [
       "   level_0  amount                       customer_id        date  index  \\\n",
       "0        0     NaN  78afa995795e4d85b5d9ceeca43f5fef  2020-05-01    0.0   \n",
       "1        1     NaN  a03223e636434f42ac4c3df47e8bac43  2020-05-01    1.0   \n",
       "2        2     NaN  e2127556f4f64592b11af22de27a7932  2020-05-01    2.0   \n",
       "3        3     NaN  8ec6ce2a7e7949b1bf142def7d0e0586  2020-05-01    3.0   \n",
       "4        4     NaN  68617ca6246f4fbc85e91a2a49552598  2020-05-01    4.0   \n",
       "\n",
       "  offer_completed_date offer_end_date offer_start_date offer_viewed_date  \\\n",
       "0           2020-05-06     2020-05-06       2020-05-01        2020-05-01   \n",
       "1                  NaN            NaN              NaN               NaN   \n",
       "2                  NaN            NaN              NaN               NaN   \n",
       "3                  NaN            NaN              NaN               NaN   \n",
       "4                  NaN            NaN              NaN               NaN   \n",
       "\n",
       "                       portfolio_id transaction_date  \n",
       "0  9b98b8c7a33c4b65b9aebfe6a799e6d9              NaT  \n",
       "1                               NaN              NaT  \n",
       "2                               NaN              NaT  \n",
       "3                               NaN              NaT  \n",
       "4                               NaN              NaT  "
      ]
     },
     "execution_count": 297,
     "metadata": {},
     "output_type": "execute_result"
    }
   ],
   "source": [
    "pt_final_df.head()"
   ]
  },
  {
   "cell_type": "code",
   "execution_count": 298,
   "metadata": {},
   "outputs": [],
   "source": [
    "pt_sub_final_df = pt_final_df[[\"customer_id\",\"date\", \"offer_start_date\",\\\n",
    "                                  \"offer_end_date\", \"amount\", \"transaction_date\"]].drop_duplicates()"
   ]
  },
  {
   "cell_type": "code",
   "execution_count": 299,
   "metadata": {},
   "outputs": [],
   "source": [
    "pt_sub_final_df = pt_sub_final_df[(~pt_sub_final_df[\"offer_end_date\"].isnull())\n",
    "                 & (~pt_sub_final_df[\"transaction_date\"].isnull())]"
   ]
  },
  {
   "cell_type": "code",
   "execution_count": 300,
   "metadata": {
    "scrolled": true
   },
   "outputs": [],
   "source": [
    "pt_test_sub_df = pt_sub_final_df.sort_values(by=[\"customer_id\", \"transaction_date\"]).drop_duplicates()"
   ]
  },
  {
   "cell_type": "code",
   "execution_count": 301,
   "metadata": {},
   "outputs": [],
   "source": [
    "pt_test_sub_df[\"transaction_date\"] = pd.to_datetime(pt_test_sub_df[\"transaction_date\"])\n",
    "pt_test_sub_df[\"transaction_date\"] = pt_test_sub_df[\"transaction_date\"].dt.date"
   ]
  },
  {
   "cell_type": "code",
   "execution_count": null,
   "metadata": {},
   "outputs": [],
   "source": [
    "(pt_test_sub_df.loc[pt_test_sub_df.index == 165211, \"transaction_date\"] >=\\\n",
    "pt_test_sub_df.loc[pt_test_sub_df.index == 165211, \"offer_start_date\"]) &\\\n",
    "(pt_test_sub_df.loc[pt_test_sub_df.index == 165211, \"transaction_date\"] <=\\\n",
    "pt_test_sub_df.loc[pt_test_sub_df.index == 165211, \"offer_end_date\"])"
   ]
  },
  {
   "cell_type": "code",
   "execution_count": 302,
   "metadata": {},
   "outputs": [],
   "source": [
    "pt_test_sub_df[\"offer_amount\"] = pt_test_sub_df.apply(lambda x: x[\"amount\"] if (x[\"transaction_date\"] == x[\"offer_end_date\"]) else 0, axis = 1)"
   ]
  },
  {
   "cell_type": "code",
   "execution_count": 246,
   "metadata": {},
   "outputs": [
    {
     "name": "stderr",
     "output_type": "stream",
     "text": [
      "/opt/conda/lib/python3.6/site-packages/ipykernel_launcher.py:1: SettingWithCopyWarning: \n",
      "A value is trying to be set on a copy of a slice from a DataFrame.\n",
      "Try using .loc[row_indexer,col_indexer] = value instead\n",
      "\n",
      "See the caveats in the documentation: http://pandas.pydata.org/pandas-docs/stable/indexing.html#indexing-view-versus-copy\n",
      "  \"\"\"Entry point for launching an IPython kernel.\n"
     ]
    }
   ],
   "source": [
    "# pt_offer_df[\"offer_end_date\"] = pt_offer_df.loc[pt_offer_df[\"event\"] == \"offer received\", \"datetime\"] + \\\n",
    "# pd.to_timedelta(pt_offer_df[\"duration\"]-1, unit='d')"
   ]
  },
  {
   "cell_type": "code",
   "execution_count": 248,
   "metadata": {},
   "outputs": [],
   "source": [
    "# pt_offer_df = pt_offer_df.sort_values(by=[\"customer_id\", \"portfolio_id\", \"datetime\"]).fillna(method = \"ffill\")"
   ]
  },
  {
   "cell_type": "code",
   "execution_count": null,
   "metadata": {},
   "outputs": [],
   "source": [
    "pt_offer_sub_df = pt_offer_df[[\"event\", \"customer_id\",\"portfolio_id\", \"datetime\", \"offer_end_date\", \"offer_type\"]]"
   ]
  },
  {
   "cell_type": "code",
   "execution_count": null,
   "metadata": {},
   "outputs": [],
   "source": [
    "# pt_offer_sub_rank = pt_offer_sub_df.groupby([\"customer_id\", \"portfolio_id\", \"offer_end_date\"])[\"datetime\"].rank()"
   ]
  },
  {
   "cell_type": "code",
   "execution_count": null,
   "metadata": {},
   "outputs": [],
   "source": [
    "# pt_offer_sub_rank_df = pd.concat([pt_offer_sub_df, pt_offer_sub_rank], axis = 1)"
   ]
  },
  {
   "cell_type": "code",
   "execution_count": null,
   "metadata": {
    "scrolled": true
   },
   "outputs": [],
   "source": [
    "# test_df = pt_offer_sub_df[pt_offer_sub_df[\"customer_id\"] == \"05018c82b3d241328a5b0558dada3286\"].sort_values(\"offer_end_date\")"
   ]
  },
  {
   "cell_type": "code",
   "execution_count": null,
   "metadata": {
    "scrolled": true
   },
   "outputs": [],
   "source": [
    "# test_df.columns = [\"event\", \"customer_id\",\"portfolio_id\", \"datetime\", \"offer_end_date\", \"rank\" ]\n",
    "# test_df = test_df.drop(columns = [\"rank\"])\n",
    "# test_df.head()"
   ]
  },
  {
   "cell_type": "code",
   "execution_count": null,
   "metadata": {
    "scrolled": true
   },
   "outputs": [],
   "source": [
    "pt_offer_sub_df.loc[pt_offer_sub_df[\"event\"] == \"offer received\", \"offer_start_date\"] = \\\n",
    "pt_offer_sub_df.loc[pt_offer_sub_df[\"event\"] == \"offer received\", \"datetime\"]\n",
    "pt_offer_sub_df.loc[pt_offer_sub_df[\"event\"] == \"offer viewed\", \"offer_viewed_date\"] = \\\n",
    "pt_offer_sub_df.loc[pt_offer_sub_df[\"event\"] == \"offer viewed\", \"datetime\"]\n",
    "pt_offer_sub_df.loc[pt_offer_sub_df[\"event\"] == \"offer completed\", \"offer_completed_date\"] = \\\n",
    "pt_offer_sub_df.loc[pt_offer_sub_df[\"event\"] == \"offer completed\", \"datetime\"]\n",
    "pt_offer_sub_df.head()"
   ]
  },
  {
   "cell_type": "code",
   "execution_count": null,
   "metadata": {},
   "outputs": [],
   "source": [
    "pt_offer_sub_df[\"offer_start_date\"] = pt_offer_sub_df.sort_values(by=[\"customer_id\", \"portfolio_id\", \"datetime\"])[\"offer_start_date\"].fillna(method=\"ffill\")"
   ]
  },
  {
   "cell_type": "code",
   "execution_count": null,
   "metadata": {},
   "outputs": [],
   "source": [
    "pt_offer_sub_df = pt_offer_sub_df[[\"customer_id\", \"portfolio_id\", \"offer_type\", \"offer_start_date\", \"offer_viewed_date\", \"offer_completed_date\", \"offer_end_date\"]]"
   ]
  },
  {
   "cell_type": "code",
   "execution_count": null,
   "metadata": {},
   "outputs": [],
   "source": [
    "# test_df_v2.sort_values(by=[\"customer_id\", \"portfolio_id\", \"offer_start_date\", \"offer_end_date\"])"
   ]
  },
  {
   "cell_type": "code",
   "execution_count": null,
   "metadata": {
    "scrolled": true
   },
   "outputs": [],
   "source": [
    "# pt_offer_sub_df.loc[pt_offer_sub_df[\"offer_start_date\"].isnull(), \"offer_start_date\"] = \\\n",
    "# pt_offer_sub_df.loc[pt_offer_sub_df[\"offer_start_date\"].isnull(), \"offer_end_date\"] - \\\n",
    "# pd.to_timedelta(pt_offer_df[\"duration\"], unit='d')\n",
    "# pt_offer_df.loc[pt_offer_df[\"event\"] == \"offer received\", \"datetime\"] + \\\n",
    "# pd.to_timedelta(pt_offer_df[\"duration\"], unit='d')"
   ]
  },
  {
   "cell_type": "code",
   "execution_count": null,
   "metadata": {
    "scrolled": true
   },
   "outputs": [],
   "source": [
    "pt_offer_sub_df.head()"
   ]
  },
  {
   "cell_type": "code",
   "execution_count": null,
   "metadata": {
    "scrolled": false
   },
   "outputs": [],
   "source": [
    "pt_offer_sub_df[pt_offer_sub_df[\"customer_id\"] == \"0009655768c64bdeb2e877511632db8f\"]"
   ]
  },
  {
   "cell_type": "code",
   "execution_count": null,
   "metadata": {},
   "outputs": [],
   "source": [
    "pt_df[pt_df[\"customer_id\"] == \"0009655768c64bdeb2e877511632db8f\"]"
   ]
  },
  {
   "cell_type": "code",
   "execution_count": null,
   "metadata": {},
   "outputs": [],
   "source": [
    "# pt_df[(pt_df[\"customer_id\"] == \"0009655768c64bdeb2e877511632db8f\")\\\n",
    "#       & (pt_df[\"portfolio_id\"].isin([\"f19421c1d4aa40978ebb69ca19b0e20d\", \"3f207df678b143eea3cee63160fa8bed\"]))]"
   ]
  },
  {
   "cell_type": "code",
   "execution_count": null,
   "metadata": {
    "scrolled": true
   },
   "outputs": [],
   "source": [
    "# pt_offer_sub_df[[\"customer_id\", \"portfolio_id\"]].drop_duplicates(). \\\n",
    "# groupby(\"customer_id\")[\"portfolio_id\"].nunique().sort_values(ascending=False)"
   ]
  },
  {
   "cell_type": "code",
   "execution_count": null,
   "metadata": {},
   "outputs": [],
   "source": [
    "# pt_offer_sub_df[pt_offer_sub_df[\"customer_id\"] == \"0009655768c64bdeb2e877511632db8f\"].sort_values(by=\"offer_start_date\")"
   ]
  },
  {
   "cell_type": "code",
   "execution_count": null,
   "metadata": {},
   "outputs": [],
   "source": [
    "pt_offer_sub_df.isnull().sum()"
   ]
  },
  {
   "cell_type": "code",
   "execution_count": null,
   "metadata": {},
   "outputs": [],
   "source": [
    "pt_offer_final_df = pt_offer_sub_df.groupby([\"customer_id\", \"portfolio_id\", \"offer_start_date\", \"offer_end_date\", \"offer_type\"]) \\\n",
    ".agg({\"offer_viewed_date\":max, \"offer_completed_date\":max \\\n",
    "     }).reset_index()[[\"customer_id\",\"offer_type\", \"offer_start_date\", \"offer_viewed_date\", \\\n",
    "                                          \"offer_completed_date\", \"offer_end_date\"]]"
   ]
  },
  {
   "cell_type": "code",
   "execution_count": null,
   "metadata": {},
   "outputs": [],
   "source": [
    "pt_offer_final_df.head()"
   ]
  },
  {
   "cell_type": "code",
   "execution_count": null,
   "metadata": {},
   "outputs": [],
   "source": [
    "pt_offer_type_dummy_df = pd.get_dummies(pt_offer_final_df[\"offer_type\"])"
   ]
  },
  {
   "cell_type": "code",
   "execution_count": null,
   "metadata": {},
   "outputs": [],
   "source": [
    "pt_offer_final_df = pd.concat([pt_offer_final_df, pt_offer_type_dummy_df], axis = 1)"
   ]
  },
  {
   "cell_type": "code",
   "execution_count": null,
   "metadata": {},
   "outputs": [],
   "source": [
    "pt_offer_final_df[pt_offer_final_df[\"customer_id\"] == \"eb540099db834cf59001f83a4561aef3\"]"
   ]
  },
  {
   "cell_type": "code",
   "execution_count": null,
   "metadata": {},
   "outputs": [],
   "source": [
    "# pd_offer_dummy = pd.get_dummies(pt_offer_sub_rank_df[\"event\"])"
   ]
  },
  {
   "cell_type": "code",
   "execution_count": null,
   "metadata": {},
   "outputs": [],
   "source": [
    "# pt_offer_dummy_df = pd.concat([pt_offer_sub_rank_df, pd_offer_dummy], axis = 1)"
   ]
  },
  {
   "cell_type": "code",
   "execution_count": null,
   "metadata": {},
   "outputs": [],
   "source": [
    "# pt_offer_dummy_df[\"event\"].unique()"
   ]
  },
  {
   "cell_type": "code",
   "execution_count": null,
   "metadata": {
    "scrolled": true
   },
   "outputs": [],
   "source": [
    "# pt_offer_dummy_df.head()"
   ]
  },
  {
   "cell_type": "code",
   "execution_count": null,
   "metadata": {},
   "outputs": [],
   "source": [
    "# pt_dummy_trans_df = pt_sub_dummy_df.loc[pt_sub_dummy_df[\"portfolio_id\"] == 0, \\\n",
    "#                     [\"datetime\", \"customer_id\", \"transaction\"]]\n",
    "pt_trans_sub_df = pt_trans_df[[\"customer_id\", \"datetime\", \"amount\"]]\n",
    "pt_trans_sub_df.head()"
   ]
  },
  {
   "cell_type": "code",
   "execution_count": null,
   "metadata": {},
   "outputs": [],
   "source": [
    "pt_trans_sub_df = pt_trans_sub_df.rename(columns = {\"datetime\":\"transaction_datetime\"})"
   ]
  },
  {
   "cell_type": "code",
   "execution_count": null,
   "metadata": {},
   "outputs": [],
   "source": [
    "pt_trans_sub_df.head()"
   ]
  },
  {
   "cell_type": "code",
   "execution_count": null,
   "metadata": {},
   "outputs": [],
   "source": [
    "# pt_dummy_offer_df.shape, pt_dummy_trans_df.shape"
   ]
  },
  {
   "cell_type": "code",
   "execution_count": null,
   "metadata": {},
   "outputs": [],
   "source": [
    "# pt_new_df = pt_dummy_offer_df.merge(pt_dummy_trans_df, how=\"outer\", on = [\"datetime\", \"customer_id\"])"
   ]
  },
  {
   "cell_type": "code",
   "execution_count": null,
   "metadata": {},
   "outputs": [],
   "source": [
    "# pt_new_df = pt_new_df.sort_values(by=[\"customer_id\", \"datetime\"])"
   ]
  },
  {
   "cell_type": "code",
   "execution_count": null,
   "metadata": {},
   "outputs": [],
   "source": [
    "# pt_new_df.loc[pt_new_df[\"customer_id\"] == \"0009655768c64bdeb2e877511632db8f\", \\\n",
    "#              [\"customer_id\", \"datetime\", \"offer received\", \"offer viewed\", \"offer completed\", \\\n",
    "#              \"transcation\", \"offer_end_date\"]]"
   ]
  },
  {
   "cell_type": "code",
   "execution_count": null,
   "metadata": {},
   "outputs": [],
   "source": [
    "# pt_sub_dummy_df[\"trans_datetime\"] \n",
    "# df.loc[df['column name'] condition, 'new column name'] = 'value if condition is met'\n",
    "\n",
    "# pt_sub_dummy_df.loc[pt_sub_dummy_df[\"transaction\"] == 1, \"transaction_date\"] \\\n",
    "# = pt_sub_dummy_df.loc[pt_sub_dummy_df[\"transaction\"] == 1, \"datetime\"]\n",
    "# pt_offer_dummy_df.loc[pt_offer_dummy_df[\"offer received\"] == 1, \"offer_start_date\"] \\\n",
    "# = pt_offer_dummy_df.loc[pt_offer_dummy_df[\"offer received\"] == 1, \"datetime\"]\n",
    "# pt_offer_dummy_df.loc[pt_offer_dummy_df[\"offer viewed\"] == 1, \"offer_viewed_date\"] \\\n",
    "# = pt_offer_dummy_df.loc[pt_offer_dummy_df[\"offer viewed\"] == 1, \"datetime\"]\n",
    "# pt_offer_dummy_df.loc[pt_offer_dummy_df[\"offer completed\"] == 1, \"offer_completed_date\"] \\\n",
    "# = pt_offer_dummy_df.loc[pt_offer_dummy_df[\"offer completed\"] == 1, \"datetime\"]"
   ]
  },
  {
   "cell_type": "code",
   "execution_count": null,
   "metadata": {},
   "outputs": [],
   "source": [
    "# pt_offer_final_df = pt_offer_dummy_df[[\"customer_id\", \"portfolio_id\", \"offer_start_date\", \\\n",
    "#                                    \"offer_viewed_date\", \"offer_completed_date\", \"offer_end_date\", \"rank\"]]"
   ]
  },
  {
   "cell_type": "code",
   "execution_count": null,
   "metadata": {},
   "outputs": [],
   "source": [
    "pt_offer_final_df = pt_offer_final_df.drop(columns = [\"offer_type\"])"
   ]
  },
  {
   "cell_type": "code",
   "execution_count": null,
   "metadata": {
    "scrolled": true
   },
   "outputs": [],
   "source": [
    "pt_offer_final_df.head()"
   ]
  },
  {
   "cell_type": "code",
   "execution_count": null,
   "metadata": {
    "scrolled": true
   },
   "outputs": [],
   "source": [
    "pt_trans_sub_df.head()"
   ]
  },
  {
   "cell_type": "code",
   "execution_count": null,
   "metadata": {},
   "outputs": [],
   "source": [
    "# pt_offer_final_new_df = pt_offer_final_df.groupby([\"customer_id\", \"portfolio_id\", \"rank\"]) \\\n",
    "# .agg({\"offer_start_date\":max, \"offer_viewed_date\":max, \"offer_completed_date\":max, \\\n",
    "#      \"offer_end_date\":max}).reset_index()[[\"customer_id\", \"offer_start_date\", \"offer_viewed_date\", \\\n",
    "#                                           \"offer_completed_date\", \"offer_end_date\"]]"
   ]
  },
  {
   "cell_type": "code",
   "execution_count": null,
   "metadata": {
    "scrolled": true
   },
   "outputs": [],
   "source": [
    "pt_offer_final_df.head()"
   ]
  },
  {
   "cell_type": "code",
   "execution_count": null,
   "metadata": {
    "scrolled": true
   },
   "outputs": [],
   "source": [
    "pt_offer_final_df.shape, pt_trans_sub_df.shape"
   ]
  },
  {
   "cell_type": "markdown",
   "metadata": {},
   "source": [
    "# Need to double check the logic and the final results have duplications"
   ]
  },
  {
   "cell_type": "code",
   "execution_count": null,
   "metadata": {},
   "outputs": [],
   "source": [
    "pt_new_df = pt_trans_sub_df.merge(pt_offer_final_df, how=\"outer\", on=\"customer_id\") \\\n",
    ".sort_values(by=[\"transaction_datetime\", \"offer_start_date\"])"
   ]
  },
  {
   "cell_type": "code",
   "execution_count": null,
   "metadata": {
    "scrolled": true
   },
   "outputs": [],
   "source": [
    "pt_new_df.info()"
   ]
  },
  {
   "cell_type": "code",
   "execution_count": null,
   "metadata": {
    "scrolled": true
   },
   "outputs": [],
   "source": [
    "pt_new_df.isnull().sum()"
   ]
  },
  {
   "cell_type": "code",
   "execution_count": null,
   "metadata": {},
   "outputs": [],
   "source": [
    "pt_new_df[\"transaction_date\"] = pd.to_datetime(pt_new_df[\"transaction_datetime\"])\n",
    "pt_new_df[\"offer_start_date\"] = pd.to_datetime(pt_new_df[\"offer_start_date\"])\n",
    "pt_new_df[\"offer_viewed_date\"] = pd.to_datetime(pt_new_df[\"offer_viewed_date\"])\n",
    "pt_new_df[\"offer_completed_date\"] = pd.to_datetime(pt_new_df[\"offer_completed_date\"])\n",
    "pt_new_df[\"offer_end_date\"] = pd.to_datetime(pt_new_df[\"offer_end_date\"])"
   ]
  },
  {
   "cell_type": "code",
   "execution_count": null,
   "metadata": {
    "scrolled": true
   },
   "outputs": [],
   "source": [
    "pt_new_df.info()"
   ]
  },
  {
   "cell_type": "code",
   "execution_count": null,
   "metadata": {},
   "outputs": [],
   "source": [
    "pt_new_df.duplicated().sum()"
   ]
  },
  {
   "cell_type": "code",
   "execution_count": null,
   "metadata": {
    "scrolled": true
   },
   "outputs": [],
   "source": [
    "pt_new_df.sort_values([\"customer_id\", \"transaction_datetime\"]).head()"
   ]
  },
  {
   "cell_type": "code",
   "execution_count": null,
   "metadata": {
    "scrolled": false
   },
   "outputs": [],
   "source": [
    "len(pt_new_df.loc[pt_new_df[\"offer_start_date\"].isnull(), \"customer_id\"].unique())"
   ]
  },
  {
   "cell_type": "code",
   "execution_count": null,
   "metadata": {},
   "outputs": [],
   "source": [
    "transcript.loc[transcript[\"customer_id\"].isin\\\n",
    "               (pt_new_df.loc[pt_new_df[\"offer_start_date\"].isnull(), \"customer_id\"].unique()), \"event\"].unique()"
   ]
  },
  {
   "cell_type": "code",
   "execution_count": null,
   "metadata": {},
   "outputs": [],
   "source": [
    "pt_new_no_offer_df = pt_new_df.loc[pt_new_df[\"offer_start_date\"].isnull(), [\"customer_id\", \"transaction_date\", \"amount\"]]"
   ]
  },
  {
   "cell_type": "code",
   "execution_count": null,
   "metadata": {},
   "outputs": [],
   "source": [
    "pt_new_no_offer_df = pt_new_no_offer_df.groupby(\"customer_id\").agg({\"transaction_date\": lambda x: len(x.unique()), \\\n",
    "                                   \"amount\": lambda x: round(x.sum(), 2)}).reset_index()"
   ]
  },
  {
   "cell_type": "code",
   "execution_count": null,
   "metadata": {},
   "outputs": [],
   "source": [
    "pt_new_no_offer_df"
   ]
  },
  {
   "cell_type": "code",
   "execution_count": null,
   "metadata": {},
   "outputs": [],
   "source": [
    "pt_new_no_offer_df = pt_new_no_offer_df.rename(columns = {\"transaction_date\":\"purchased_times\", \"amount\":\"purchased_amount\"})"
   ]
  },
  {
   "cell_type": "code",
   "execution_count": null,
   "metadata": {},
   "outputs": [],
   "source": [
    "# pt_new_no_offer_df[\"offer_start_date\"] = pd.NaT\n",
    "# pt_new_no_offer_df[\"offer_viewed_date\"] = pd.NaT\n",
    "# pt_new_no_offer_df[\"offer_completed_date\"] = pd.NaT\n",
    "# pt_new_no_offer_df[\"offer_end_date\"] = pd.NaT"
   ]
  },
  {
   "cell_type": "code",
   "execution_count": null,
   "metadata": {},
   "outputs": [],
   "source": [
    "pt_new_no_offer_df.head()"
   ]
  },
  {
   "cell_type": "code",
   "execution_count": null,
   "metadata": {},
   "outputs": [],
   "source": [
    "pt_new_w_offer_df = pt_new_df.loc[~pt_new_df[\"offer_start_date\"].isnull(), :]"
   ]
  },
  {
   "cell_type": "code",
   "execution_count": null,
   "metadata": {
    "scrolled": false
   },
   "outputs": [],
   "source": [
    "pt_new_w_offer_df.head()"
   ]
  },
  {
   "cell_type": "code",
   "execution_count": null,
   "metadata": {},
   "outputs": [],
   "source": [
    "pt_new_w_offer_df[\"offer_actual_end_date\"] = pt_new_w_offer_df.apply(lambda x: x[\"offer_completed_date\"] if x[\"offer_completed_date\"] < x[\"offer_end_date\"] \\\n",
    "                       else x[\"offer_end_date\"], axis = 1)"
   ]
  },
  {
   "cell_type": "code",
   "execution_count": null,
   "metadata": {},
   "outputs": [],
   "source": [
    "pt_new_w_offer_df[\"offer_actual_end_date\"]  = pd.to_datetime(pt_new_w_offer_df[\"offer_actual_end_date\"])"
   ]
  },
  {
   "cell_type": "code",
   "execution_count": null,
   "metadata": {
    "scrolled": true
   },
   "outputs": [],
   "source": [
    "pt_new_w_offer_df.head()"
   ]
  },
  {
   "cell_type": "code",
   "execution_count": null,
   "metadata": {},
   "outputs": [],
   "source": [
    "pt_new_w_offer_df[\"offer_start_date\"] = pt_new_w_offer_df[\"offer_start_date\"].dt.date\n",
    "pt_new_w_offer_df[\"transaction_datetime\"] = pt_new_w_offer_df[\"transaction_datetime\"].dt.date\n",
    "pt_new_w_offer_df[\"offer_actual_end_date\"] = pt_new_w_offer_df[\"offer_actual_end_date\"].dt.date"
   ]
  },
  {
   "cell_type": "code",
   "execution_count": null,
   "metadata": {
    "scrolled": false
   },
   "outputs": [],
   "source": [
    "pt_new_w_offer_df[\"purchased_yn\"] = (pt_new_w_offer_df[\"offer_start_date\"] <= pt_new_w_offer_df[\"transaction_datetime\"]) \\\n",
    "& (pt_new_w_offer_df[\"transaction_datetime\"] <= pt_new_w_offer_df[\"offer_actual_end_date\"])"
   ]
  },
  {
   "cell_type": "code",
   "execution_count": null,
   "metadata": {},
   "outputs": [],
   "source": [
    "pt_new_w_offer_df.head()"
   ]
  },
  {
   "cell_type": "code",
   "execution_count": null,
   "metadata": {},
   "outputs": [],
   "source": [
    "pt_new_w_offer_df.isnull().sum()"
   ]
  },
  {
   "cell_type": "code",
   "execution_count": null,
   "metadata": {
    "scrolled": true
   },
   "outputs": [],
   "source": [
    "pt_new_w_offer_df[\"purchased_amount\"] = pt_new_w_offer_df[\"purchased_yn\"] * pt_new_w_offer_df[\"amount\"]"
   ]
  },
  {
   "cell_type": "code",
   "execution_count": null,
   "metadata": {
    "scrolled": false
   },
   "outputs": [],
   "source": [
    "pt_new_w_offer_df.head()"
   ]
  },
  {
   "cell_type": "code",
   "execution_count": null,
   "metadata": {
    "scrolled": true
   },
   "outputs": [],
   "source": [
    "# pt_offer_final_df = pt_sub_final_new_df.drop(columns = [\"transaction_date\"])"
   ]
  },
  {
   "cell_type": "code",
   "execution_count": null,
   "metadata": {},
   "outputs": [],
   "source": [
    "pt_new_w_offer_df_v1 = pt_new_w_offer_df.groupby([\"customer_id\", \"offer_start_date\", \"offer_end_date\"]) \\\n",
    ".agg({\"purchased_yn\":sum, \"purchased_amount\":sum}).reset_index()"
   ]
  },
  {
   "cell_type": "code",
   "execution_count": null,
   "metadata": {},
   "outputs": [],
   "source": [
    "pt_new_w_offer_df_v1 = pt_new_w_offer_df_v1.rename(columns = {\"purchased_yn\":\"purchased_times\"})"
   ]
  },
  {
   "cell_type": "code",
   "execution_count": null,
   "metadata": {},
   "outputs": [],
   "source": [
    "pt_new_w_offer_df_v2 = pt_new_w_offer_df.groupby([\"customer_id\", \"offer_start_date\", \"offer_viewed_date\", \\\n",
    "                                                  \"offer_completed_date\", \"offer_end_date\"]) \\\n",
    ".agg({\"purchased_yn\":sum, \"purchased_amount\":sum}).reset_index()"
   ]
  },
  {
   "cell_type": "code",
   "execution_count": null,
   "metadata": {},
   "outputs": [],
   "source": [
    "pt_new_w_offer_df_v2 = pt_new_w_offer_df_v2.rename(columns = {\"purchased_yn\":\"purchased_times\"})"
   ]
  },
  {
   "cell_type": "code",
   "execution_count": null,
   "metadata": {
    "scrolled": false
   },
   "outputs": [],
   "source": [
    "pt_df.loc[(pt_df[\"customer_id\"] == \"0009655768c64bdeb2e877511632db8f\") & \\\n",
    "          (pt_df[\"portfolio_id\"] == 0), \\\n",
    "          [\"customer_id\", \"amount\", \"datetime\"]].sort_values(by=\"datetime\")\n",
    "# pt_sub_final_new_df[pt_sub_final_new_df[\"customer_id\"] == \"0009655768c64bdeb2e877511632db8f\"]"
   ]
  },
  {
   "cell_type": "code",
   "execution_count": null,
   "metadata": {},
   "outputs": [],
   "source": [
    "pt_new_w_offer_df.loc[pt_new_w_offer_df[\"customer_id\"] == \"0009655768c64bdeb2e877511632db8f\", \\\n",
    "              :].sort_values(by=\"offer_start_date\")"
   ]
  },
  {
   "cell_type": "code",
   "execution_count": null,
   "metadata": {
    "scrolled": true
   },
   "outputs": [],
   "source": [
    "pt_new_w_offer_df_v1.loc[pt_new_w_offer_df_v1[\"customer_id\"] == \"0009655768c64bdeb2e877511632db8f\", \\\n",
    "              :].sort_values(by=\"offer_start_date\")"
   ]
  },
  {
   "cell_type": "code",
   "execution_count": null,
   "metadata": {
    "scrolled": true
   },
   "outputs": [],
   "source": [
    "pt_df[(pt_df[\"customer_id\"] == \"0009655768c64bdeb2e877511632db8f\") & \\\n",
    "     (pt_df[\"amount\"] == 0)\n",
    "     ].sort_values(by=\"datetime\")"
   ]
  },
  {
   "cell_type": "code",
   "execution_count": null,
   "metadata": {},
   "outputs": [],
   "source": [
    "# customer_id = \"0009655768c64bdeb2e877511632db8f\"\n",
    "# (pt_trans_sub_df.loc[pt_trans_sub_df[\"customer_id\"] == customer_id, \"transaction_datetime\"] >= \\\n",
    "# pt_offer_final_df.loc[pt_offer_final_df[\"customer_id\"] == customer_id, \"offer_start_date\"]) \\\n",
    "# & (pt_trans_sub_df.loc[pt_trans_sub_df[\"customer_id\"] == customer_id, \"transaction_datetime\"] <= \\\n",
    "# pt_offer_final_df.loc[pt_offer_final_df[\"customer_id\"] == customer_id, \"offer_end_date\"])"
   ]
  },
  {
   "cell_type": "code",
   "execution_count": null,
   "metadata": {},
   "outputs": [],
   "source": [
    "pt_new_w_offer_df.loc[(pt_new_w_offer_df[\"customer_id\"] == \"0009655768c64bdeb2e877511632db8f\"), \\\n",
    "             [\"customer_id\", \"transaction_datetime\", \"offer_start_date\", \"offer_end_date\",\"offer_actual_end_date\" \"purchased_yn\", \"purchased_amount\"]\n",
    "             ]"
   ]
  },
  {
   "cell_type": "code",
   "execution_count": null,
   "metadata": {},
   "outputs": [],
   "source": [
    "pt_new_w_offer_df.loc[pt_new_w_offer_df[\"customer_id\"] == \"0009655768c64bdeb2e877511632db8f\", \"purchased_amount\"].sum()"
   ]
  },
  {
   "cell_type": "code",
   "execution_count": null,
   "metadata": {
    "scrolled": true
   },
   "outputs": [],
   "source": [
    "pt_new_w_offer_df_v1[pt_new_w_offer_df_v1[\"customer_id\"] == \"0009655768c64bdeb2e877511632db8f\"]"
   ]
  },
  {
   "cell_type": "code",
   "execution_count": null,
   "metadata": {},
   "outputs": [],
   "source": [
    "transcript.loc[transcript[\"customer_id\"] == \"0009655768c64bdeb2e877511632db8f\", \"amount\"].sum()"
   ]
  },
  {
   "cell_type": "code",
   "execution_count": null,
   "metadata": {},
   "outputs": [],
   "source": [
    "transcript.loc[transcript[\"customer_id\"] == \"0009655768c64bdeb2e877511632db8f\", :]"
   ]
  },
  {
   "cell_type": "code",
   "execution_count": null,
   "metadata": {},
   "outputs": [],
   "source": [
    "pt_new_w_offer_df_v1.loc[pt_new_w_offer_df_v1[\"customer_id\"] == \"0009655768c64bdeb2e877511632db8f\", \"purchased_amount\"].sum()"
   ]
  },
  {
   "cell_type": "code",
   "execution_count": null,
   "metadata": {
    "scrolled": true
   },
   "outputs": [],
   "source": [
    "pt_new_w_offer_df_v2[pt_new_w_offer_df_v2[\"customer_id\"] == \"0009655768c64bdeb2e877511632db8f\"]"
   ]
  },
  {
   "cell_type": "code",
   "execution_count": null,
   "metadata": {},
   "outputs": [],
   "source": [
    "pt_new_w_offer_df_v2.loc[pt_new_w_offer_df_v2[\"customer_id\"] == \"0009655768c64bdeb2e877511632db8f\", \"purchased_amount\"].sum()"
   ]
  },
  {
   "cell_type": "code",
   "execution_count": null,
   "metadata": {},
   "outputs": [],
   "source": [
    "pt_df.loc[pt_df[\"event\"] == \"transaction\", \"difficulty\"].unique()"
   ]
  },
  {
   "cell_type": "code",
   "execution_count": null,
   "metadata": {},
   "outputs": [],
   "source": [
    "total_difficult_count = pt_df.groupby('difficulty')['event'].count().sort_values(ascending = False)"
   ]
  },
  {
   "cell_type": "code",
   "execution_count": null,
   "metadata": {},
   "outputs": [],
   "source": [
    "total_received_difficult_count = pt_df[pt_df['event'] == 'offer received'].groupby('difficulty')['difficulty'].count().sort_values(ascending = False)"
   ]
  },
  {
   "cell_type": "code",
   "execution_count": null,
   "metadata": {},
   "outputs": [],
   "source": [
    "total_received_difficult_count"
   ]
  },
  {
   "cell_type": "code",
   "execution_count": null,
   "metadata": {
    "scrolled": true
   },
   "outputs": [],
   "source": [
    "plt.scatter(total_received_difficult_count.index, total_received_difficult_count.values)"
   ]
  },
  {
   "cell_type": "code",
   "execution_count": null,
   "metadata": {
    "scrolled": true
   },
   "outputs": [],
   "source": [
    "total_received_diffcult_pct = round(total_received_difficult_count/total_difficult_count, 2).sort_values(ascending = False)"
   ]
  },
  {
   "cell_type": "code",
   "execution_count": null,
   "metadata": {},
   "outputs": [],
   "source": [
    "total_received_diffcult_pct"
   ]
  },
  {
   "cell_type": "code",
   "execution_count": null,
   "metadata": {},
   "outputs": [],
   "source": [
    "plt.scatter(total_received_diffcult_pct.index, total_received_diffcult_pct.values)"
   ]
  },
  {
   "cell_type": "code",
   "execution_count": null,
   "metadata": {},
   "outputs": [],
   "source": [
    "total_viewed_difficult_count = pt_df[pt_df['event'] == 'offer viewed'].groupby('difficulty')['difficulty'].count().sort_values(ascending = False)"
   ]
  },
  {
   "cell_type": "code",
   "execution_count": null,
   "metadata": {},
   "outputs": [],
   "source": [
    "round(total_viewed_difficult_count/total_difficult_count, 2).sort_values(ascending = False)"
   ]
  },
  {
   "cell_type": "code",
   "execution_count": null,
   "metadata": {},
   "outputs": [],
   "source": [
    "total_done_difficult_count = pt_df[pt_df['event'] == 'offer completed'].groupby('difficulty')['difficulty'].count().sort_values(ascending = False)"
   ]
  },
  {
   "cell_type": "code",
   "execution_count": null,
   "metadata": {
    "scrolled": false
   },
   "outputs": [],
   "source": [
    "round(total_done_difficult_count/total_difficult_count, 2).sort_values(ascending = False)"
   ]
  },
  {
   "cell_type": "code",
   "execution_count": null,
   "metadata": {},
   "outputs": [],
   "source": [
    "pt_df[(pt_df[\"portfolio_id\"] == \"9b98b8c7a33c4b65b9aebfe6a799e6d9\") & (pt_df[\"event\"] == \"offer received\")].groupby(\"customer_id\")[\"time\"].min().sort_values()"
   ]
  },
  {
   "cell_type": "code",
   "execution_count": null,
   "metadata": {},
   "outputs": [],
   "source": [
    "# transcript[transcript['amount']>0].head()"
   ]
  },
  {
   "cell_type": "code",
   "execution_count": null,
   "metadata": {
    "scrolled": false
   },
   "outputs": [],
   "source": [
    "# pt_df.groupby('offer_type')['event'].count().sort_values(ascending = False)"
   ]
  },
  {
   "cell_type": "code",
   "execution_count": null,
   "metadata": {},
   "outputs": [],
   "source": [
    "# total_reward_award = pt_df.groupby('reward_award')['reward_award'].count().sort_values(ascending = False)"
   ]
  },
  {
   "cell_type": "code",
   "execution_count": null,
   "metadata": {},
   "outputs": [],
   "source": [
    "# total_event_done = pt_df[pt_df['event'] == 'offer completed'].groupby('reward_award')['reward_award'].count().sort_values(ascending = False)"
   ]
  },
  {
   "cell_type": "code",
   "execution_count": null,
   "metadata": {},
   "outputs": [],
   "source": [
    "# round((total_event_done/total_reward_award), 2).sort_values(ascending = False)"
   ]
  },
  {
   "cell_type": "code",
   "execution_count": null,
   "metadata": {},
   "outputs": [],
   "source": [
    "# pt_df.sort_values(['customer_id', 'portfolio_id', 'time'], ascending = [True, True, True])"
   ]
  },
  {
   "cell_type": "code",
   "execution_count": null,
   "metadata": {},
   "outputs": [],
   "source": [
    "# total_duration_count = pt_df.groupby('duration')['duration'].count().sort_values(ascending = False)\n",
    "# total_done_duration_count = pt_df[pt_df['event'] == 'offer completed'].groupby('duration')['duration'].count().sort_values(ascending = False)"
   ]
  },
  {
   "cell_type": "code",
   "execution_count": null,
   "metadata": {
    "scrolled": true
   },
   "outputs": [],
   "source": [
    "# total_duration_count"
   ]
  },
  {
   "cell_type": "code",
   "execution_count": null,
   "metadata": {},
   "outputs": [],
   "source": [
    "# total_done_duration_count"
   ]
  },
  {
   "cell_type": "code",
   "execution_count": null,
   "metadata": {},
   "outputs": [],
   "source": [
    "# pt_df.loc[pt_df['event'] == 'offer completed', 'duration'].unique()"
   ]
  },
  {
   "cell_type": "code",
   "execution_count": null,
   "metadata": {
    "scrolled": true
   },
   "outputs": [],
   "source": [
    "# round(total_done_duration_count/total_duration_count, 2).sort_values(ascending = False)"
   ]
  },
  {
   "cell_type": "code",
   "execution_count": null,
   "metadata": {},
   "outputs": [],
   "source": [
    "# pt_df.head()"
   ]
  },
  {
   "cell_type": "code",
   "execution_count": null,
   "metadata": {},
   "outputs": [],
   "source": [
    "# pt_df_staging = pt_df[['customer_id', 'portfolio_id', 'event', 'time']]"
   ]
  },
  {
   "cell_type": "code",
   "execution_count": null,
   "metadata": {},
   "outputs": [],
   "source": [
    "# events = pt_df_staging['event'].unique().tolist()\n",
    "# events"
   ]
  },
  {
   "cell_type": "code",
   "execution_count": null,
   "metadata": {},
   "outputs": [],
   "source": [
    "# for event in events:\n",
    "#     event_name = event + str(' time')\n",
    "#     pt_df_staging[event_name] = pt_df_staging.apply(lambda x: x['time'] if x['event'] == event else 0, axis = 1)\n",
    "# pt_df_staging.head()    "
   ]
  },
  {
   "cell_type": "code",
   "execution_count": null,
   "metadata": {
    "scrolled": true
   },
   "outputs": [],
   "source": [
    "# pt_df_staging = pt_df_staging.sort_values(['customer_id', 'time', 'portfolio_id'], ascending = [True, True, True])"
   ]
  },
  {
   "cell_type": "code",
   "execution_count": null,
   "metadata": {},
   "outputs": [],
   "source": [
    "# pt_df_staging_offer = pt_df_staging[pt_df_staging['event'] != 'transaction'].groupby(['customer_id', 'portfolio_id']).agg({'offer received time':max, 'offer viewed time':max, 'offer completed time':max}).reset_index()"
   ]
  },
  {
   "cell_type": "code",
   "execution_count": null,
   "metadata": {},
   "outputs": [],
   "source": [
    "# pt_df_staging_customer = pt_df_staging.loc[pt_df_staging['event'] == 'transaction', ['customer_id', 'transaction time']]"
   ]
  },
  {
   "cell_type": "code",
   "execution_count": null,
   "metadata": {
    "scrolled": false
   },
   "outputs": [],
   "source": [
    "# pt_df_staging_offer.head()"
   ]
  },
  {
   "cell_type": "code",
   "execution_count": null,
   "metadata": {},
   "outputs": [],
   "source": [
    "# pt_df_staging.loc[pt_df_staging['event'] == 'transaction', ['customer_id', 'transaction time']].head()"
   ]
  },
  {
   "cell_type": "markdown",
   "metadata": {},
   "source": [
    "## Profile x Transcript"
   ]
  },
  {
   "cell_type": "code",
   "execution_count": null,
   "metadata": {},
   "outputs": [],
   "source": [
    "# ct_df = transcript.merge(profile, how='inner', on='customer_id')\n",
    "# ct_df.head()"
   ]
  },
  {
   "cell_type": "code",
   "execution_count": null,
   "metadata": {},
   "outputs": [],
   "source": [
    "# ct_df.loc[ct_df['event'] == 'offer completed', ['days_since_member', 'age', 'income']].describe()"
   ]
  },
  {
   "cell_type": "code",
   "execution_count": null,
   "metadata": {},
   "outputs": [],
   "source": [
    "# profile[['days_since_member', 'age', 'income']].describe()"
   ]
  },
  {
   "cell_type": "code",
   "execution_count": null,
   "metadata": {},
   "outputs": [],
   "source": []
  }
 ],
 "metadata": {
  "kernelspec": {
   "display_name": "Python 3",
   "language": "python",
   "name": "python3"
  },
  "language_info": {
   "codemirror_mode": {
    "name": "ipython",
    "version": 3
   },
   "file_extension": ".py",
   "mimetype": "text/x-python",
   "name": "python",
   "nbconvert_exporter": "python",
   "pygments_lexer": "ipython3",
   "version": "3.7.4"
  }
 },
 "nbformat": 4,
 "nbformat_minor": 2
}
