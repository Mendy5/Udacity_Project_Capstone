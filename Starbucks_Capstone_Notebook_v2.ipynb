{
 "cells": [
  {
   "cell_type": "markdown",
   "metadata": {},
   "source": [
    "# Starbucks Capstone Challenge\n",
    "\n",
    "### Introduction\n",
    "\n",
    "This data set contains simulated data that mimics customer behavior on the Starbucks rewards mobile app. Once every few days, Starbucks sends out an offer to users of the mobile app. An offer can be merely an advertisement for a drink or an actual offer such as a discount or BOGO (buy one get one free). Some users might not receive any offer during certain weeks. \n",
    "\n",
    "Not all users receive the same offer, and that is the challenge to solve with this data set.\n",
    "\n",
    "Your task is to combine transaction, demographic and offer data to determine which demographic groups respond best to which offer type. This data set is a simplified version of the real Starbucks app because the underlying simulator only has one product whereas Starbucks actually sells dozens of products.\n",
    "\n",
    "Every offer has a validity period before the offer expires. As an example, a BOGO offer might be valid for only 5 days. You'll see in the data set that informational offers have a validity period even though these ads are merely providing information about a product; for example, if an informational offer has 7 days of validity, you can assume the customer is feeling the influence of the offer for 7 days after receiving the advertisement.\n",
    "\n",
    "You'll be given transactional data showing user purchases made on the app including the timestamp of purchase and the amount of money spent on a purchase. This transactional data also has a record for each offer that a user receives as well as a record for when a user actually views the offer. There are also records for when a user completes an offer. \n",
    "\n",
    "Keep in mind as well that someone using the app might make a purchase through the app without having received an offer or seen an offer.\n",
    "\n",
    "### Example\n",
    "\n",
    "To give an example, a user could receive a discount offer buy 10 dollars get 2 off on Monday. The offer is valid for 10 days from receipt. If the customer accumulates at least 10 dollars in purchases during the validity period, the customer completes the offer.\n",
    "\n",
    "However, there are a few things to watch out for in this data set. Customers do not opt into the offers that they receive; in other words, a user can receive an offer, never actually view the offer, and still complete the offer. For example, a user might receive the \"buy 10 dollars get 2 dollars off offer\", but the user never opens the offer during the 10 day validity period. The customer spends 15 dollars during those ten days. There will be an offer completion record in the data set; however, the customer was not influenced by the offer because the customer never viewed the offer.\n",
    "\n",
    "### Cleaning\n",
    "\n",
    "This makes data cleaning especially important and tricky.\n",
    "\n",
    "You'll also want to take into account that some demographic groups will make purchases even if they don't receive an offer. From a business perspective, if a customer is going to make a 10 dollar purchase without an offer anyway, you wouldn't want to send a buy 10 dollars get 2 dollars off offer. You'll want to try to assess what a certain demographic group will buy when not receiving any offers.\n",
    "\n",
    "### Final Advice\n",
    "\n",
    "Because this is a capstone project, you are free to analyze the data any way you see fit. For example, you could build a machine learning model that predicts how much someone will spend based on demographics and offer type. Or you could build a model that predicts whether or not someone will respond to an offer. Or, you don't need to build a machine learning model at all. You could develop a set of heuristics that determine what offer you should send to each customer (i.e., 75 percent of women customers who were 35 years old responded to offer A vs 40 percent from the same demographic to offer B, so send offer A)."
   ]
  },
  {
   "cell_type": "markdown",
   "metadata": {},
   "source": [
    "# Data Sets\n",
    "\n",
    "The data is contained in three files:\n",
    "\n",
    "* portfolio.json - containing offer ids and meta data about each offer (duration, type, etc.)\n",
    "* profile.json - demographic data for each customer\n",
    "* transcript.json - records for transactions, offers received, offers viewed, and offers completed\n",
    "\n",
    "Here is the schema and explanation of each variable in the files:\n",
    "\n",
    "**portfolio.json**\n",
    "* id (string) - offer id\n",
    "* offer_type (string) - type of offer ie BOGO, discount, informational\n",
    "* difficulty (int) - minimum required spend to complete an offer\n",
    "* reward (int) - reward given for completing an offer\n",
    "* duration (int) - time for offer to be open, in days\n",
    "* channels (list of strings)\n",
    "\n",
    "**profile.json**\n",
    "* age (int) - age of the customer \n",
    "* became_member_on (int) - date when customer created an app account\n",
    "* gender (str) - gender of the customer (note some entries contain 'O' for other rather than M or F)\n",
    "* id (str) - customer id\n",
    "* income (float) - customer's income\n",
    "\n",
    "**transcript.json**\n",
    "* event (str) - record description (ie transaction, offer received, offer viewed, etc.)\n",
    "* person (str) - customer id\n",
    "* time (int) - time in hours since start of test. The data begins at time t=0\n",
    "* value - (dict of strings) - either an offer id or transaction amount depending on the record\n",
    "\n",
    "**Note:** If you are using the workspace, you will need to go to the terminal and run the command `conda update pandas` before reading in the files. This is because the version of pandas in the workspace cannot read in the transcript.json file correctly, but the newest version of pandas can. You can access the termnal from the orange icon in the top left of this notebook.  \n",
    "\n",
    "You can see how to access the terminal and how the install works using the two images below.  First you need to access the terminal:\n",
    "\n",
    "<img src=\"pic1.png\"/>\n",
    "\n",
    "Then you will want to run the above command:\n",
    "\n",
    "<img src=\"pic2.png\"/>\n",
    "\n",
    "Finally, when you enter back into the notebook (use the jupyter icon again), you should be able to run the below cell without any errors."
   ]
  },
  {
   "cell_type": "code",
   "execution_count": 1,
   "metadata": {},
   "outputs": [],
   "source": [
    "import pandas as pd\n",
    "import numpy as np\n",
    "import math\n",
    "import matplotlib.pyplot as plt\n",
    "import seaborn as sns\n",
    "from sklearn.preprocessing import StandardScaler\n",
    "from sklearn.pipeline import make_pipeline\n",
    "# from sklearn.feature_selection import RFE\n",
    "# from sklearn.cluster import KMeans\n",
    "from sklearn.linear_model import LogisticRegression, LinearRegression, Lasso\n",
    "from sklearn.tree import DecisionTreeClassifier, DecisionTreeRegressor, plot_tree\n",
    "# from sklearn.tree import export_graphviz\n",
    "from sklearn.ensemble import RandomForestClassifier, AdaBoostClassifier\n",
    "# from sklearn.ensemble import GradientBoostingClassifier\n",
    "from sklearn.metrics import accuracy_score, precision_score, recall_score, f1_score\n",
    "from sklearn.model_selection import train_test_split\n",
    "from sklearn.model_selection import RandomizedSearchCV\n",
    "\n",
    "import warnings\n",
    "warnings.filterwarnings('ignore')\n",
    "# % matplotlib inline"
   ]
  },
  {
   "cell_type": "code",
   "execution_count": 2,
   "metadata": {},
   "outputs": [],
   "source": [
    "# read in the json files\n",
    "portfolio = pd.read_json('data/portfolio.json', orient='records', lines=True)\n",
    "profile = pd.read_json('data/profile.json', orient='records', lines=True)\n",
    "transcript = pd.read_json('data/transcript.json', orient='records', lines=True)"
   ]
  },
  {
   "cell_type": "markdown",
   "metadata": {},
   "source": [
    "# Exploratory Analysis"
   ]
  },
  {
   "cell_type": "markdown",
   "metadata": {},
   "source": [
    "## Read the data"
   ]
  },
  {
   "cell_type": "markdown",
   "metadata": {},
   "source": [
    "Before doing analysis, it is important to read the data. Understand how data stored in the dataframe, if there are missing values and so on."
   ]
  },
  {
   "cell_type": "markdown",
   "metadata": {},
   "source": [
    "### Transcript"
   ]
  },
  {
   "cell_type": "code",
   "execution_count": 3,
   "metadata": {
    "scrolled": true
   },
   "outputs": [
    {
     "data": {
      "text/html": [
       "<div>\n",
       "<style scoped>\n",
       "    .dataframe tbody tr th:only-of-type {\n",
       "        vertical-align: middle;\n",
       "    }\n",
       "\n",
       "    .dataframe tbody tr th {\n",
       "        vertical-align: top;\n",
       "    }\n",
       "\n",
       "    .dataframe thead th {\n",
       "        text-align: right;\n",
       "    }\n",
       "</style>\n",
       "<table border=\"1\" class=\"dataframe\">\n",
       "  <thead>\n",
       "    <tr style=\"text-align: right;\">\n",
       "      <th></th>\n",
       "      <th>person</th>\n",
       "      <th>event</th>\n",
       "      <th>value</th>\n",
       "      <th>time</th>\n",
       "    </tr>\n",
       "  </thead>\n",
       "  <tbody>\n",
       "    <tr>\n",
       "      <th>0</th>\n",
       "      <td>78afa995795e4d85b5d9ceeca43f5fef</td>\n",
       "      <td>offer received</td>\n",
       "      <td>{'offer id': '9b98b8c7a33c4b65b9aebfe6a799e6d9'}</td>\n",
       "      <td>0</td>\n",
       "    </tr>\n",
       "    <tr>\n",
       "      <th>1</th>\n",
       "      <td>a03223e636434f42ac4c3df47e8bac43</td>\n",
       "      <td>offer received</td>\n",
       "      <td>{'offer id': '0b1e1539f2cc45b7b9fa7c272da2e1d7'}</td>\n",
       "      <td>0</td>\n",
       "    </tr>\n",
       "    <tr>\n",
       "      <th>2</th>\n",
       "      <td>e2127556f4f64592b11af22de27a7932</td>\n",
       "      <td>offer received</td>\n",
       "      <td>{'offer id': '2906b810c7d4411798c6938adc9daaa5'}</td>\n",
       "      <td>0</td>\n",
       "    </tr>\n",
       "    <tr>\n",
       "      <th>3</th>\n",
       "      <td>8ec6ce2a7e7949b1bf142def7d0e0586</td>\n",
       "      <td>offer received</td>\n",
       "      <td>{'offer id': 'fafdcd668e3743c1bb461111dcafc2a4'}</td>\n",
       "      <td>0</td>\n",
       "    </tr>\n",
       "    <tr>\n",
       "      <th>4</th>\n",
       "      <td>68617ca6246f4fbc85e91a2a49552598</td>\n",
       "      <td>offer received</td>\n",
       "      <td>{'offer id': '4d5c57ea9a6940dd891ad53e9dbe8da0'}</td>\n",
       "      <td>0</td>\n",
       "    </tr>\n",
       "  </tbody>\n",
       "</table>\n",
       "</div>"
      ],
      "text/plain": [
       "                             person           event  \\\n",
       "0  78afa995795e4d85b5d9ceeca43f5fef  offer received   \n",
       "1  a03223e636434f42ac4c3df47e8bac43  offer received   \n",
       "2  e2127556f4f64592b11af22de27a7932  offer received   \n",
       "3  8ec6ce2a7e7949b1bf142def7d0e0586  offer received   \n",
       "4  68617ca6246f4fbc85e91a2a49552598  offer received   \n",
       "\n",
       "                                              value  time  \n",
       "0  {'offer id': '9b98b8c7a33c4b65b9aebfe6a799e6d9'}     0  \n",
       "1  {'offer id': '0b1e1539f2cc45b7b9fa7c272da2e1d7'}     0  \n",
       "2  {'offer id': '2906b810c7d4411798c6938adc9daaa5'}     0  \n",
       "3  {'offer id': 'fafdcd668e3743c1bb461111dcafc2a4'}     0  \n",
       "4  {'offer id': '4d5c57ea9a6940dd891ad53e9dbe8da0'}     0  "
      ]
     },
     "execution_count": 3,
     "metadata": {},
     "output_type": "execute_result"
    }
   ],
   "source": [
    "transcript.head()"
   ]
  },
  {
   "cell_type": "code",
   "execution_count": 4,
   "metadata": {
    "scrolled": true
   },
   "outputs": [
    {
     "name": "stdout",
     "output_type": "stream",
     "text": [
      "<class 'pandas.core.frame.DataFrame'>\n",
      "RangeIndex: 306534 entries, 0 to 306533\n",
      "Data columns (total 4 columns):\n",
      " #   Column  Non-Null Count   Dtype \n",
      "---  ------  --------------   ----- \n",
      " 0   person  306534 non-null  object\n",
      " 1   event   306534 non-null  object\n",
      " 2   value   306534 non-null  object\n",
      " 3   time    306534 non-null  int64 \n",
      "dtypes: int64(1), object(3)\n",
      "memory usage: 9.4+ MB\n"
     ]
    }
   ],
   "source": [
    "transcript.info()"
   ]
  },
  {
   "cell_type": "code",
   "execution_count": 5,
   "metadata": {
    "scrolled": false
   },
   "outputs": [
    {
     "data": {
      "text/html": [
       "<div>\n",
       "<style scoped>\n",
       "    .dataframe tbody tr th:only-of-type {\n",
       "        vertical-align: middle;\n",
       "    }\n",
       "\n",
       "    .dataframe tbody tr th {\n",
       "        vertical-align: top;\n",
       "    }\n",
       "\n",
       "    .dataframe thead th {\n",
       "        text-align: right;\n",
       "    }\n",
       "</style>\n",
       "<table border=\"1\" class=\"dataframe\">\n",
       "  <thead>\n",
       "    <tr style=\"text-align: right;\">\n",
       "      <th></th>\n",
       "      <th>time</th>\n",
       "    </tr>\n",
       "  </thead>\n",
       "  <tbody>\n",
       "    <tr>\n",
       "      <th>count</th>\n",
       "      <td>306534.000000</td>\n",
       "    </tr>\n",
       "    <tr>\n",
       "      <th>mean</th>\n",
       "      <td>366.382940</td>\n",
       "    </tr>\n",
       "    <tr>\n",
       "      <th>std</th>\n",
       "      <td>200.326314</td>\n",
       "    </tr>\n",
       "    <tr>\n",
       "      <th>min</th>\n",
       "      <td>0.000000</td>\n",
       "    </tr>\n",
       "    <tr>\n",
       "      <th>25%</th>\n",
       "      <td>186.000000</td>\n",
       "    </tr>\n",
       "    <tr>\n",
       "      <th>50%</th>\n",
       "      <td>408.000000</td>\n",
       "    </tr>\n",
       "    <tr>\n",
       "      <th>75%</th>\n",
       "      <td>528.000000</td>\n",
       "    </tr>\n",
       "    <tr>\n",
       "      <th>max</th>\n",
       "      <td>714.000000</td>\n",
       "    </tr>\n",
       "  </tbody>\n",
       "</table>\n",
       "</div>"
      ],
      "text/plain": [
       "                time\n",
       "count  306534.000000\n",
       "mean      366.382940\n",
       "std       200.326314\n",
       "min         0.000000\n",
       "25%       186.000000\n",
       "50%       408.000000\n",
       "75%       528.000000\n",
       "max       714.000000"
      ]
     },
     "execution_count": 5,
     "metadata": {},
     "output_type": "execute_result"
    }
   ],
   "source": [
    "transcript.describe()"
   ]
  },
  {
   "cell_type": "code",
   "execution_count": 6,
   "metadata": {},
   "outputs": [
    {
     "data": {
      "text/plain": [
       "29.75"
      ]
     },
     "execution_count": 6,
     "metadata": {},
     "output_type": "execute_result"
    }
   ],
   "source": [
    "714/24"
   ]
  },
  {
   "cell_type": "markdown",
   "metadata": {},
   "source": [
    "The transcript contains about 1 month transaction data."
   ]
  },
  {
   "cell_type": "code",
   "execution_count": 7,
   "metadata": {},
   "outputs": [],
   "source": [
    "#check value counts\n",
    "def check_value_counts(df, col):\n",
    "    '''\n",
    "    Check counts of the col values\n",
    "    \n",
    "    Args:\n",
    "        df (DataFrame): The DataFrame \n",
    "        col (str): The col needs to get counts\n",
    "    \n",
    "    Returns:\n",
    "        vc(Series): The Series of col with number of counts\n",
    "    '''\n",
    "    vc = df[col].value_counts() \n",
    "    return vc"
   ]
  },
  {
   "cell_type": "code",
   "execution_count": 8,
   "metadata": {
    "scrolled": true
   },
   "outputs": [
    {
     "data": {
      "text/plain": [
       "transaction        138953\n",
       "offer received      76277\n",
       "offer viewed        57725\n",
       "offer completed     33579\n",
       "Name: event, dtype: int64"
      ]
     },
     "execution_count": 8,
     "metadata": {},
     "output_type": "execute_result"
    }
   ],
   "source": [
    "check_value_counts(transcript, \"event\")"
   ]
  },
  {
   "cell_type": "code",
   "execution_count": 9,
   "metadata": {
    "scrolled": false
   },
   "outputs": [
    {
     "data": {
      "text/plain": [
       "94de646f7b6041228ca7dec82adb97d2    51\n",
       "8dbfa485249f409aa223a2130f40634a    49\n",
       "d0a80415b84c4df4908b8403b19765e3    48\n",
       "79d9d4f86aca4bed9290350fb43817c2    48\n",
       "5e60c6aa3b834e44b822ea43a3efea26    48\n",
       "                                    ..\n",
       "912b9f623b9e4b4eb99b6dc919f09a93     2\n",
       "1bfe13d2453c4185a6486c6817e0d568     2\n",
       "e63e42480aae4ede9f07cac49c8c3f78     2\n",
       "7ecfc592171f4844bdc05bdbb48d3847     2\n",
       "da7a7c0dcfcb41a8acc7864a53cf60fb     1\n",
       "Name: person, Length: 17000, dtype: int64"
      ]
     },
     "execution_count": 9,
     "metadata": {},
     "output_type": "execute_result"
    }
   ],
   "source": [
    "check_value_counts(transcript,\"person\")"
   ]
  },
  {
   "cell_type": "markdown",
   "metadata": {},
   "source": [
    "Some customers shopped about 2 times a day while some customers shop about a few times within the 30 days. The shopping behaviors are vary."
   ]
  },
  {
   "cell_type": "code",
   "execution_count": 10,
   "metadata": {
    "scrolled": false
   },
   "outputs": [
    {
     "data": {
      "text/plain": [
       "408    17030\n",
       "576    17015\n",
       "504    16822\n",
       "336    16302\n",
       "168    16150\n",
       "       ...  \n",
       "318      940\n",
       "330      938\n",
       "156      914\n",
       "162      910\n",
       "150      894\n",
       "Name: time, Length: 120, dtype: int64"
      ]
     },
     "execution_count": 10,
     "metadata": {},
     "output_type": "execute_result"
    }
   ],
   "source": [
    "check_value_counts(transcript,\"time\")"
   ]
  },
  {
   "cell_type": "markdown",
   "metadata": {},
   "source": [
    "The 17th day had the most daily transactions"
   ]
  },
  {
   "cell_type": "code",
   "execution_count": 11,
   "metadata": {
    "scrolled": false
   },
   "outputs": [
    {
     "data": {
      "text/html": [
       "<div>\n",
       "<style scoped>\n",
       "    .dataframe tbody tr th:only-of-type {\n",
       "        vertical-align: middle;\n",
       "    }\n",
       "\n",
       "    .dataframe tbody tr th {\n",
       "        vertical-align: top;\n",
       "    }\n",
       "\n",
       "    .dataframe thead th {\n",
       "        text-align: right;\n",
       "    }\n",
       "</style>\n",
       "<table border=\"1\" class=\"dataframe\">\n",
       "  <thead>\n",
       "    <tr style=\"text-align: right;\">\n",
       "      <th></th>\n",
       "      <th>person</th>\n",
       "      <th>event</th>\n",
       "      <th>value</th>\n",
       "      <th>time</th>\n",
       "    </tr>\n",
       "  </thead>\n",
       "  <tbody>\n",
       "    <tr>\n",
       "      <th>279096</th>\n",
       "      <td>f2e49f5002c540eb92ca320fea990319</td>\n",
       "      <td>offer completed</td>\n",
       "      <td>{'offer_id': 'ae264e3637204a6fb9bb56bc8210ddfd...</td>\n",
       "      <td>612</td>\n",
       "    </tr>\n",
       "    <tr>\n",
       "      <th>275967</th>\n",
       "      <td>815e75930aed488cb61d56afb4627457</td>\n",
       "      <td>offer completed</td>\n",
       "      <td>{'offer_id': '0b1e1539f2cc45b7b9fa7c272da2e1d7...</td>\n",
       "      <td>606</td>\n",
       "    </tr>\n",
       "    <tr>\n",
       "      <th>278841</th>\n",
       "      <td>31e915c24163436790b97c1d45b545f6</td>\n",
       "      <td>offer completed</td>\n",
       "      <td>{'offer_id': 'ae264e3637204a6fb9bb56bc8210ddfd...</td>\n",
       "      <td>612</td>\n",
       "    </tr>\n",
       "    <tr>\n",
       "      <th>251717</th>\n",
       "      <td>153f7ce19d8f4c8294fdc8d758c880c7</td>\n",
       "      <td>offer received</td>\n",
       "      <td>{'offer id': 'fafdcd668e3743c1bb461111dcafc2a4'}</td>\n",
       "      <td>576</td>\n",
       "    </tr>\n",
       "    <tr>\n",
       "      <th>6233</th>\n",
       "      <td>3e9e889fc54c412fb7d032421f4890c7</td>\n",
       "      <td>offer received</td>\n",
       "      <td>{'offer id': 'fafdcd668e3743c1bb461111dcafc2a4'}</td>\n",
       "      <td>0</td>\n",
       "    </tr>\n",
       "    <tr>\n",
       "      <th>213658</th>\n",
       "      <td>f5d31009d87f411091be6b7d008564cf</td>\n",
       "      <td>offer received</td>\n",
       "      <td>{'offer id': '2906b810c7d4411798c6938adc9daaa5'}</td>\n",
       "      <td>504</td>\n",
       "    </tr>\n",
       "    <tr>\n",
       "      <th>262507</th>\n",
       "      <td>3f9da79caafe40478a8a661e53b7299b</td>\n",
       "      <td>offer viewed</td>\n",
       "      <td>{'offer id': '4d5c57ea9a6940dd891ad53e9dbe8da0'}</td>\n",
       "      <td>582</td>\n",
       "    </tr>\n",
       "    <tr>\n",
       "      <th>93436</th>\n",
       "      <td>e23f93dde99743dbbfad6ca2674e4b92</td>\n",
       "      <td>offer viewed</td>\n",
       "      <td>{'offer id': 'ae264e3637204a6fb9bb56bc8210ddfd'}</td>\n",
       "      <td>240</td>\n",
       "    </tr>\n",
       "    <tr>\n",
       "      <th>25381</th>\n",
       "      <td>7236a35b4970427cb85791371e40d96a</td>\n",
       "      <td>offer viewed</td>\n",
       "      <td>{'offer id': '5a8bc65990b245e5a138643cd4eb9837'}</td>\n",
       "      <td>30</td>\n",
       "    </tr>\n",
       "    <tr>\n",
       "      <th>23283</th>\n",
       "      <td>2704e553ed8143569367e34c7c620f5f</td>\n",
       "      <td>transaction</td>\n",
       "      <td>{'amount': 7.07}</td>\n",
       "      <td>24</td>\n",
       "    </tr>\n",
       "    <tr>\n",
       "      <th>107644</th>\n",
       "      <td>cc9a8c83812a407db0f4bc0e2c511ab1</td>\n",
       "      <td>transaction</td>\n",
       "      <td>{'amount': 15.84}</td>\n",
       "      <td>312</td>\n",
       "    </tr>\n",
       "    <tr>\n",
       "      <th>46792</th>\n",
       "      <td>c8ce9be8d4bd457180ff2a8d4d977073</td>\n",
       "      <td>transaction</td>\n",
       "      <td>{'amount': 1.74}</td>\n",
       "      <td>126</td>\n",
       "    </tr>\n",
       "  </tbody>\n",
       "</table>\n",
       "</div>"
      ],
      "text/plain": [
       "                                  person            event  \\\n",
       "279096  f2e49f5002c540eb92ca320fea990319  offer completed   \n",
       "275967  815e75930aed488cb61d56afb4627457  offer completed   \n",
       "278841  31e915c24163436790b97c1d45b545f6  offer completed   \n",
       "251717  153f7ce19d8f4c8294fdc8d758c880c7   offer received   \n",
       "6233    3e9e889fc54c412fb7d032421f4890c7   offer received   \n",
       "213658  f5d31009d87f411091be6b7d008564cf   offer received   \n",
       "262507  3f9da79caafe40478a8a661e53b7299b     offer viewed   \n",
       "93436   e23f93dde99743dbbfad6ca2674e4b92     offer viewed   \n",
       "25381   7236a35b4970427cb85791371e40d96a     offer viewed   \n",
       "23283   2704e553ed8143569367e34c7c620f5f      transaction   \n",
       "107644  cc9a8c83812a407db0f4bc0e2c511ab1      transaction   \n",
       "46792   c8ce9be8d4bd457180ff2a8d4d977073      transaction   \n",
       "\n",
       "                                                    value  time  \n",
       "279096  {'offer_id': 'ae264e3637204a6fb9bb56bc8210ddfd...   612  \n",
       "275967  {'offer_id': '0b1e1539f2cc45b7b9fa7c272da2e1d7...   606  \n",
       "278841  {'offer_id': 'ae264e3637204a6fb9bb56bc8210ddfd...   612  \n",
       "251717   {'offer id': 'fafdcd668e3743c1bb461111dcafc2a4'}   576  \n",
       "6233     {'offer id': 'fafdcd668e3743c1bb461111dcafc2a4'}     0  \n",
       "213658   {'offer id': '2906b810c7d4411798c6938adc9daaa5'}   504  \n",
       "262507   {'offer id': '4d5c57ea9a6940dd891ad53e9dbe8da0'}   582  \n",
       "93436    {'offer id': 'ae264e3637204a6fb9bb56bc8210ddfd'}   240  \n",
       "25381    {'offer id': '5a8bc65990b245e5a138643cd4eb9837'}    30  \n",
       "23283                                    {'amount': 7.07}    24  \n",
       "107644                                  {'amount': 15.84}   312  \n",
       "46792                                    {'amount': 1.74}   126  "
      ]
     },
     "execution_count": 11,
     "metadata": {},
     "output_type": "execute_result"
    }
   ],
   "source": [
    "transcript.groupby(\"event\").sample(n=3, random_state=123)"
   ]
  },
  {
   "cell_type": "markdown",
   "metadata": {},
   "source": [
    "The offer related event like offer received, offer viewed and offer completed contains offer ids. While the transaction event only contains the shopping amount. Based on this dataset, it is hard to link which transactions are offer related transactions and which are not."
   ]
  },
  {
   "cell_type": "code",
   "execution_count": 12,
   "metadata": {},
   "outputs": [],
   "source": [
    "#check null values\n",
    "def check_null_values(df):\n",
    "    '''\n",
    "    Check nulls in the dataframe\n",
    "    \n",
    "    Args:\n",
    "        df(DataFrame): The DataFrame needs to check \n",
    "    \n",
    "    Returns:\n",
    "        nv(Series): The Series of number of nulls\n",
    "    '''\n",
    "    nv = df.isnull().sum()\n",
    "    return nv"
   ]
  },
  {
   "cell_type": "code",
   "execution_count": 13,
   "metadata": {
    "scrolled": true
   },
   "outputs": [
    {
     "data": {
      "text/plain": [
       "person    0\n",
       "event     0\n",
       "value     0\n",
       "time      0\n",
       "dtype: int64"
      ]
     },
     "execution_count": 13,
     "metadata": {},
     "output_type": "execute_result"
    }
   ],
   "source": [
    "check_null_values(transcript)"
   ]
  },
  {
   "cell_type": "markdown",
   "metadata": {},
   "source": [
    "The transcript dataframe doesn't contain missing values"
   ]
  },
  {
   "cell_type": "markdown",
   "metadata": {},
   "source": [
    "### Portfolio"
   ]
  },
  {
   "cell_type": "code",
   "execution_count": 14,
   "metadata": {
    "scrolled": true
   },
   "outputs": [
    {
     "data": {
      "text/html": [
       "<div>\n",
       "<style scoped>\n",
       "    .dataframe tbody tr th:only-of-type {\n",
       "        vertical-align: middle;\n",
       "    }\n",
       "\n",
       "    .dataframe tbody tr th {\n",
       "        vertical-align: top;\n",
       "    }\n",
       "\n",
       "    .dataframe thead th {\n",
       "        text-align: right;\n",
       "    }\n",
       "</style>\n",
       "<table border=\"1\" class=\"dataframe\">\n",
       "  <thead>\n",
       "    <tr style=\"text-align: right;\">\n",
       "      <th></th>\n",
       "      <th>reward</th>\n",
       "      <th>channels</th>\n",
       "      <th>difficulty</th>\n",
       "      <th>duration</th>\n",
       "      <th>offer_type</th>\n",
       "      <th>id</th>\n",
       "    </tr>\n",
       "  </thead>\n",
       "  <tbody>\n",
       "    <tr>\n",
       "      <th>0</th>\n",
       "      <td>10</td>\n",
       "      <td>[email, mobile, social]</td>\n",
       "      <td>10</td>\n",
       "      <td>7</td>\n",
       "      <td>bogo</td>\n",
       "      <td>ae264e3637204a6fb9bb56bc8210ddfd</td>\n",
       "    </tr>\n",
       "    <tr>\n",
       "      <th>1</th>\n",
       "      <td>10</td>\n",
       "      <td>[web, email, mobile, social]</td>\n",
       "      <td>10</td>\n",
       "      <td>5</td>\n",
       "      <td>bogo</td>\n",
       "      <td>4d5c57ea9a6940dd891ad53e9dbe8da0</td>\n",
       "    </tr>\n",
       "    <tr>\n",
       "      <th>2</th>\n",
       "      <td>0</td>\n",
       "      <td>[web, email, mobile]</td>\n",
       "      <td>0</td>\n",
       "      <td>4</td>\n",
       "      <td>informational</td>\n",
       "      <td>3f207df678b143eea3cee63160fa8bed</td>\n",
       "    </tr>\n",
       "    <tr>\n",
       "      <th>3</th>\n",
       "      <td>5</td>\n",
       "      <td>[web, email, mobile]</td>\n",
       "      <td>5</td>\n",
       "      <td>7</td>\n",
       "      <td>bogo</td>\n",
       "      <td>9b98b8c7a33c4b65b9aebfe6a799e6d9</td>\n",
       "    </tr>\n",
       "    <tr>\n",
       "      <th>4</th>\n",
       "      <td>5</td>\n",
       "      <td>[web, email]</td>\n",
       "      <td>20</td>\n",
       "      <td>10</td>\n",
       "      <td>discount</td>\n",
       "      <td>0b1e1539f2cc45b7b9fa7c272da2e1d7</td>\n",
       "    </tr>\n",
       "  </tbody>\n",
       "</table>\n",
       "</div>"
      ],
      "text/plain": [
       "   reward                      channels  difficulty  duration     offer_type  \\\n",
       "0      10       [email, mobile, social]          10         7           bogo   \n",
       "1      10  [web, email, mobile, social]          10         5           bogo   \n",
       "2       0          [web, email, mobile]           0         4  informational   \n",
       "3       5          [web, email, mobile]           5         7           bogo   \n",
       "4       5                  [web, email]          20        10       discount   \n",
       "\n",
       "                                 id  \n",
       "0  ae264e3637204a6fb9bb56bc8210ddfd  \n",
       "1  4d5c57ea9a6940dd891ad53e9dbe8da0  \n",
       "2  3f207df678b143eea3cee63160fa8bed  \n",
       "3  9b98b8c7a33c4b65b9aebfe6a799e6d9  \n",
       "4  0b1e1539f2cc45b7b9fa7c272da2e1d7  "
      ]
     },
     "execution_count": 14,
     "metadata": {},
     "output_type": "execute_result"
    }
   ],
   "source": [
    "portfolio.head()"
   ]
  },
  {
   "cell_type": "code",
   "execution_count": 15,
   "metadata": {
    "scrolled": true
   },
   "outputs": [
    {
     "name": "stdout",
     "output_type": "stream",
     "text": [
      "<class 'pandas.core.frame.DataFrame'>\n",
      "RangeIndex: 10 entries, 0 to 9\n",
      "Data columns (total 6 columns):\n",
      " #   Column      Non-Null Count  Dtype \n",
      "---  ------      --------------  ----- \n",
      " 0   reward      10 non-null     int64 \n",
      " 1   channels    10 non-null     object\n",
      " 2   difficulty  10 non-null     int64 \n",
      " 3   duration    10 non-null     int64 \n",
      " 4   offer_type  10 non-null     object\n",
      " 5   id          10 non-null     object\n",
      "dtypes: int64(3), object(3)\n",
      "memory usage: 608.0+ bytes\n"
     ]
    }
   ],
   "source": [
    "portfolio.info()"
   ]
  },
  {
   "cell_type": "code",
   "execution_count": 16,
   "metadata": {
    "scrolled": true
   },
   "outputs": [
    {
     "data": {
      "text/html": [
       "<div>\n",
       "<style scoped>\n",
       "    .dataframe tbody tr th:only-of-type {\n",
       "        vertical-align: middle;\n",
       "    }\n",
       "\n",
       "    .dataframe tbody tr th {\n",
       "        vertical-align: top;\n",
       "    }\n",
       "\n",
       "    .dataframe thead th {\n",
       "        text-align: right;\n",
       "    }\n",
       "</style>\n",
       "<table border=\"1\" class=\"dataframe\">\n",
       "  <thead>\n",
       "    <tr style=\"text-align: right;\">\n",
       "      <th></th>\n",
       "      <th>reward</th>\n",
       "      <th>difficulty</th>\n",
       "      <th>duration</th>\n",
       "    </tr>\n",
       "  </thead>\n",
       "  <tbody>\n",
       "    <tr>\n",
       "      <th>count</th>\n",
       "      <td>10.000000</td>\n",
       "      <td>10.000000</td>\n",
       "      <td>10.000000</td>\n",
       "    </tr>\n",
       "    <tr>\n",
       "      <th>mean</th>\n",
       "      <td>4.200000</td>\n",
       "      <td>7.700000</td>\n",
       "      <td>6.500000</td>\n",
       "    </tr>\n",
       "    <tr>\n",
       "      <th>std</th>\n",
       "      <td>3.583915</td>\n",
       "      <td>5.831905</td>\n",
       "      <td>2.321398</td>\n",
       "    </tr>\n",
       "    <tr>\n",
       "      <th>min</th>\n",
       "      <td>0.000000</td>\n",
       "      <td>0.000000</td>\n",
       "      <td>3.000000</td>\n",
       "    </tr>\n",
       "    <tr>\n",
       "      <th>25%</th>\n",
       "      <td>2.000000</td>\n",
       "      <td>5.000000</td>\n",
       "      <td>5.000000</td>\n",
       "    </tr>\n",
       "    <tr>\n",
       "      <th>50%</th>\n",
       "      <td>4.000000</td>\n",
       "      <td>8.500000</td>\n",
       "      <td>7.000000</td>\n",
       "    </tr>\n",
       "    <tr>\n",
       "      <th>75%</th>\n",
       "      <td>5.000000</td>\n",
       "      <td>10.000000</td>\n",
       "      <td>7.000000</td>\n",
       "    </tr>\n",
       "    <tr>\n",
       "      <th>max</th>\n",
       "      <td>10.000000</td>\n",
       "      <td>20.000000</td>\n",
       "      <td>10.000000</td>\n",
       "    </tr>\n",
       "  </tbody>\n",
       "</table>\n",
       "</div>"
      ],
      "text/plain": [
       "          reward  difficulty   duration\n",
       "count  10.000000   10.000000  10.000000\n",
       "mean    4.200000    7.700000   6.500000\n",
       "std     3.583915    5.831905   2.321398\n",
       "min     0.000000    0.000000   3.000000\n",
       "25%     2.000000    5.000000   5.000000\n",
       "50%     4.000000    8.500000   7.000000\n",
       "75%     5.000000   10.000000   7.000000\n",
       "max    10.000000   20.000000  10.000000"
      ]
     },
     "execution_count": 16,
     "metadata": {},
     "output_type": "execute_result"
    }
   ],
   "source": [
    "portfolio.describe()"
   ]
  },
  {
   "cell_type": "markdown",
   "metadata": {},
   "source": [
    "Reward and difficulty are more like categorical variables instead of ints. Need to convert the data type of these two variables."
   ]
  },
  {
   "cell_type": "code",
   "execution_count": 17,
   "metadata": {},
   "outputs": [
    {
     "data": {
      "text/plain": [
       "5     3\n",
       "10    2\n",
       "2     2\n",
       "0     2\n",
       "3     1\n",
       "Name: reward, dtype: int64"
      ]
     },
     "execution_count": 17,
     "metadata": {},
     "output_type": "execute_result"
    }
   ],
   "source": [
    "check_value_counts(portfolio,\"reward\")"
   ]
  },
  {
   "cell_type": "code",
   "execution_count": 18,
   "metadata": {
    "scrolled": true
   },
   "outputs": [
    {
     "data": {
      "text/plain": [
       "10    4\n",
       "5     2\n",
       "0     2\n",
       "7     1\n",
       "20    1\n",
       "Name: difficulty, dtype: int64"
      ]
     },
     "execution_count": 18,
     "metadata": {},
     "output_type": "execute_result"
    }
   ],
   "source": [
    "check_value_counts(portfolio,\"difficulty\")"
   ]
  },
  {
   "cell_type": "code",
   "execution_count": 19,
   "metadata": {
    "scrolled": false
   },
   "outputs": [
    {
     "data": {
      "text/plain": [
       "bogo             4\n",
       "discount         4\n",
       "informational    2\n",
       "Name: offer_type, dtype: int64"
      ]
     },
     "execution_count": 19,
     "metadata": {},
     "output_type": "execute_result"
    }
   ],
   "source": [
    "check_value_counts(portfolio, \"offer_type\")"
   ]
  },
  {
   "cell_type": "code",
   "execution_count": 20,
   "metadata": {
    "scrolled": false
   },
   "outputs": [
    {
     "data": {
      "text/plain": [
       "reward        0\n",
       "channels      0\n",
       "difficulty    0\n",
       "duration      0\n",
       "offer_type    0\n",
       "id            0\n",
       "dtype: int64"
      ]
     },
     "execution_count": 20,
     "metadata": {},
     "output_type": "execute_result"
    }
   ],
   "source": [
    "check_null_values(portfolio)"
   ]
  },
  {
   "cell_type": "markdown",
   "metadata": {},
   "source": [
    "Portfolio dataframe contains no missing values."
   ]
  },
  {
   "cell_type": "markdown",
   "metadata": {},
   "source": [
    "### Profile"
   ]
  },
  {
   "cell_type": "code",
   "execution_count": 21,
   "metadata": {
    "scrolled": false
   },
   "outputs": [
    {
     "data": {
      "text/html": [
       "<div>\n",
       "<style scoped>\n",
       "    .dataframe tbody tr th:only-of-type {\n",
       "        vertical-align: middle;\n",
       "    }\n",
       "\n",
       "    .dataframe tbody tr th {\n",
       "        vertical-align: top;\n",
       "    }\n",
       "\n",
       "    .dataframe thead th {\n",
       "        text-align: right;\n",
       "    }\n",
       "</style>\n",
       "<table border=\"1\" class=\"dataframe\">\n",
       "  <thead>\n",
       "    <tr style=\"text-align: right;\">\n",
       "      <th></th>\n",
       "      <th>gender</th>\n",
       "      <th>age</th>\n",
       "      <th>id</th>\n",
       "      <th>became_member_on</th>\n",
       "      <th>income</th>\n",
       "    </tr>\n",
       "  </thead>\n",
       "  <tbody>\n",
       "    <tr>\n",
       "      <th>0</th>\n",
       "      <td>None</td>\n",
       "      <td>118</td>\n",
       "      <td>68be06ca386d4c31939f3a4f0e3dd783</td>\n",
       "      <td>20170212</td>\n",
       "      <td>NaN</td>\n",
       "    </tr>\n",
       "    <tr>\n",
       "      <th>1</th>\n",
       "      <td>F</td>\n",
       "      <td>55</td>\n",
       "      <td>0610b486422d4921ae7d2bf64640c50b</td>\n",
       "      <td>20170715</td>\n",
       "      <td>112000.0</td>\n",
       "    </tr>\n",
       "    <tr>\n",
       "      <th>2</th>\n",
       "      <td>None</td>\n",
       "      <td>118</td>\n",
       "      <td>38fe809add3b4fcf9315a9694bb96ff5</td>\n",
       "      <td>20180712</td>\n",
       "      <td>NaN</td>\n",
       "    </tr>\n",
       "    <tr>\n",
       "      <th>3</th>\n",
       "      <td>F</td>\n",
       "      <td>75</td>\n",
       "      <td>78afa995795e4d85b5d9ceeca43f5fef</td>\n",
       "      <td>20170509</td>\n",
       "      <td>100000.0</td>\n",
       "    </tr>\n",
       "    <tr>\n",
       "      <th>4</th>\n",
       "      <td>None</td>\n",
       "      <td>118</td>\n",
       "      <td>a03223e636434f42ac4c3df47e8bac43</td>\n",
       "      <td>20170804</td>\n",
       "      <td>NaN</td>\n",
       "    </tr>\n",
       "  </tbody>\n",
       "</table>\n",
       "</div>"
      ],
      "text/plain": [
       "  gender  age                                id  became_member_on    income\n",
       "0   None  118  68be06ca386d4c31939f3a4f0e3dd783          20170212       NaN\n",
       "1      F   55  0610b486422d4921ae7d2bf64640c50b          20170715  112000.0\n",
       "2   None  118  38fe809add3b4fcf9315a9694bb96ff5          20180712       NaN\n",
       "3      F   75  78afa995795e4d85b5d9ceeca43f5fef          20170509  100000.0\n",
       "4   None  118  a03223e636434f42ac4c3df47e8bac43          20170804       NaN"
      ]
     },
     "execution_count": 21,
     "metadata": {},
     "output_type": "execute_result"
    }
   ],
   "source": [
    "profile.head()"
   ]
  },
  {
   "cell_type": "code",
   "execution_count": 22,
   "metadata": {
    "scrolled": true
   },
   "outputs": [
    {
     "name": "stdout",
     "output_type": "stream",
     "text": [
      "<class 'pandas.core.frame.DataFrame'>\n",
      "RangeIndex: 17000 entries, 0 to 16999\n",
      "Data columns (total 5 columns):\n",
      " #   Column            Non-Null Count  Dtype  \n",
      "---  ------            --------------  -----  \n",
      " 0   gender            14825 non-null  object \n",
      " 1   age               17000 non-null  int64  \n",
      " 2   id                17000 non-null  object \n",
      " 3   became_member_on  17000 non-null  int64  \n",
      " 4   income            14825 non-null  float64\n",
      "dtypes: float64(1), int64(2), object(2)\n",
      "memory usage: 664.2+ KB\n"
     ]
    }
   ],
   "source": [
    "profile.info()"
   ]
  },
  {
   "cell_type": "code",
   "execution_count": 23,
   "metadata": {
    "scrolled": true
   },
   "outputs": [
    {
     "data": {
      "text/html": [
       "<div>\n",
       "<style scoped>\n",
       "    .dataframe tbody tr th:only-of-type {\n",
       "        vertical-align: middle;\n",
       "    }\n",
       "\n",
       "    .dataframe tbody tr th {\n",
       "        vertical-align: top;\n",
       "    }\n",
       "\n",
       "    .dataframe thead th {\n",
       "        text-align: right;\n",
       "    }\n",
       "</style>\n",
       "<table border=\"1\" class=\"dataframe\">\n",
       "  <thead>\n",
       "    <tr style=\"text-align: right;\">\n",
       "      <th></th>\n",
       "      <th>age</th>\n",
       "      <th>became_member_on</th>\n",
       "      <th>income</th>\n",
       "    </tr>\n",
       "  </thead>\n",
       "  <tbody>\n",
       "    <tr>\n",
       "      <th>count</th>\n",
       "      <td>17000.000000</td>\n",
       "      <td>1.700000e+04</td>\n",
       "      <td>14825.000000</td>\n",
       "    </tr>\n",
       "    <tr>\n",
       "      <th>mean</th>\n",
       "      <td>62.531412</td>\n",
       "      <td>2.016703e+07</td>\n",
       "      <td>65404.991568</td>\n",
       "    </tr>\n",
       "    <tr>\n",
       "      <th>std</th>\n",
       "      <td>26.738580</td>\n",
       "      <td>1.167750e+04</td>\n",
       "      <td>21598.299410</td>\n",
       "    </tr>\n",
       "    <tr>\n",
       "      <th>min</th>\n",
       "      <td>18.000000</td>\n",
       "      <td>2.013073e+07</td>\n",
       "      <td>30000.000000</td>\n",
       "    </tr>\n",
       "    <tr>\n",
       "      <th>25%</th>\n",
       "      <td>45.000000</td>\n",
       "      <td>2.016053e+07</td>\n",
       "      <td>49000.000000</td>\n",
       "    </tr>\n",
       "    <tr>\n",
       "      <th>50%</th>\n",
       "      <td>58.000000</td>\n",
       "      <td>2.017080e+07</td>\n",
       "      <td>64000.000000</td>\n",
       "    </tr>\n",
       "    <tr>\n",
       "      <th>75%</th>\n",
       "      <td>73.000000</td>\n",
       "      <td>2.017123e+07</td>\n",
       "      <td>80000.000000</td>\n",
       "    </tr>\n",
       "    <tr>\n",
       "      <th>max</th>\n",
       "      <td>118.000000</td>\n",
       "      <td>2.018073e+07</td>\n",
       "      <td>120000.000000</td>\n",
       "    </tr>\n",
       "  </tbody>\n",
       "</table>\n",
       "</div>"
      ],
      "text/plain": [
       "                age  became_member_on         income\n",
       "count  17000.000000      1.700000e+04   14825.000000\n",
       "mean      62.531412      2.016703e+07   65404.991568\n",
       "std       26.738580      1.167750e+04   21598.299410\n",
       "min       18.000000      2.013073e+07   30000.000000\n",
       "25%       45.000000      2.016053e+07   49000.000000\n",
       "50%       58.000000      2.017080e+07   64000.000000\n",
       "75%       73.000000      2.017123e+07   80000.000000\n",
       "max      118.000000      2.018073e+07  120000.000000"
      ]
     },
     "execution_count": 23,
     "metadata": {},
     "output_type": "execute_result"
    }
   ],
   "source": [
    "profile.describe()"
   ]
  },
  {
   "cell_type": "markdown",
   "metadata": {},
   "source": [
    "The became_member_on is date data type. Need to do a conversion."
   ]
  },
  {
   "cell_type": "code",
   "execution_count": 24,
   "metadata": {
    "scrolled": false
   },
   "outputs": [
    {
     "data": {
      "text/plain": [
       "118    2175\n",
       "58      408\n",
       "53      372\n",
       "51      363\n",
       "54      359\n",
       "       ... \n",
       "100      12\n",
       "96        8\n",
       "98        5\n",
       "99        5\n",
       "101       5\n",
       "Name: age, Length: 85, dtype: int64"
      ]
     },
     "execution_count": 24,
     "metadata": {},
     "output_type": "execute_result"
    }
   ],
   "source": [
    "check_value_counts(profile, \"age\")"
   ]
  },
  {
   "cell_type": "markdown",
   "metadata": {},
   "source": [
    "There are many outliers in the age columns like age 118, age 101. Not sure about age 101 but age 118 are more like a placeholder. Need to replace it with null values and fulfill them."
   ]
  },
  {
   "cell_type": "code",
   "execution_count": 25,
   "metadata": {
    "scrolled": true
   },
   "outputs": [
    {
     "data": {
      "text/plain": [
       "M    8484\n",
       "F    6129\n",
       "O     212\n",
       "Name: gender, dtype: int64"
      ]
     },
     "execution_count": 25,
     "metadata": {},
     "output_type": "execute_result"
    }
   ],
   "source": [
    "check_value_counts(profile,\"gender\")"
   ]
  },
  {
   "cell_type": "code",
   "execution_count": 26,
   "metadata": {
    "scrolled": true
   },
   "outputs": [
    {
     "data": {
      "text/plain": [
       "20171207    43\n",
       "20170819    42\n",
       "20171007    40\n",
       "20171113    39\n",
       "20170928    38\n",
       "            ..\n",
       "20150519     1\n",
       "20131121     1\n",
       "20131201     1\n",
       "20150102     1\n",
       "20140921     1\n",
       "Name: became_member_on, Length: 1716, dtype: int64"
      ]
     },
     "execution_count": 26,
     "metadata": {},
     "output_type": "execute_result"
    }
   ],
   "source": [
    "check_value_counts(profile,\"became_member_on\")"
   ]
  },
  {
   "cell_type": "code",
   "execution_count": 27,
   "metadata": {
    "scrolled": false
   },
   "outputs": [
    {
     "data": {
      "text/plain": [
       "73000.0     314\n",
       "72000.0     297\n",
       "71000.0     294\n",
       "57000.0     288\n",
       "74000.0     282\n",
       "           ... \n",
       "116000.0     46\n",
       "107000.0     45\n",
       "112000.0     45\n",
       "117000.0     32\n",
       "120000.0     13\n",
       "Name: income, Length: 91, dtype: int64"
      ]
     },
     "execution_count": 27,
     "metadata": {},
     "output_type": "execute_result"
    }
   ],
   "source": [
    "check_value_counts(profile,\"income\")"
   ]
  },
  {
   "cell_type": "code",
   "execution_count": 28,
   "metadata": {
    "scrolled": true
   },
   "outputs": [
    {
     "data": {
      "text/plain": [
       "gender              2175\n",
       "age                    0\n",
       "id                     0\n",
       "became_member_on       0\n",
       "income              2175\n",
       "dtype: int64"
      ]
     },
     "execution_count": 28,
     "metadata": {},
     "output_type": "execute_result"
    }
   ],
   "source": [
    "check_null_values(profile)"
   ]
  },
  {
   "cell_type": "markdown",
   "metadata": {},
   "source": [
    "There are some missing values and messy data in the profile dataframe. Need to clean these data before doing the analysis"
   ]
  },
  {
   "cell_type": "markdown",
   "metadata": {},
   "source": [
    "## Data Cleaning"
   ]
  },
  {
   "cell_type": "markdown",
   "metadata": {},
   "source": [
    "### Transcript"
   ]
  },
  {
   "cell_type": "code",
   "execution_count": 29,
   "metadata": {},
   "outputs": [],
   "source": [
    "transcript.rename(columns = {'person':'customer_id'}, inplace=True)"
   ]
  },
  {
   "cell_type": "code",
   "execution_count": 30,
   "metadata": {
    "scrolled": false
   },
   "outputs": [
    {
     "data": {
      "text/html": [
       "<div>\n",
       "<style scoped>\n",
       "    .dataframe tbody tr th:only-of-type {\n",
       "        vertical-align: middle;\n",
       "    }\n",
       "\n",
       "    .dataframe tbody tr th {\n",
       "        vertical-align: top;\n",
       "    }\n",
       "\n",
       "    .dataframe thead th {\n",
       "        text-align: right;\n",
       "    }\n",
       "</style>\n",
       "<table border=\"1\" class=\"dataframe\">\n",
       "  <thead>\n",
       "    <tr style=\"text-align: right;\">\n",
       "      <th></th>\n",
       "      <th>customer_id</th>\n",
       "      <th>event</th>\n",
       "      <th>value</th>\n",
       "      <th>time</th>\n",
       "    </tr>\n",
       "  </thead>\n",
       "  <tbody>\n",
       "    <tr>\n",
       "      <th>0</th>\n",
       "      <td>78afa995795e4d85b5d9ceeca43f5fef</td>\n",
       "      <td>offer received</td>\n",
       "      <td>{'offer id': '9b98b8c7a33c4b65b9aebfe6a799e6d9'}</td>\n",
       "      <td>0</td>\n",
       "    </tr>\n",
       "    <tr>\n",
       "      <th>1</th>\n",
       "      <td>a03223e636434f42ac4c3df47e8bac43</td>\n",
       "      <td>offer received</td>\n",
       "      <td>{'offer id': '0b1e1539f2cc45b7b9fa7c272da2e1d7'}</td>\n",
       "      <td>0</td>\n",
       "    </tr>\n",
       "    <tr>\n",
       "      <th>2</th>\n",
       "      <td>e2127556f4f64592b11af22de27a7932</td>\n",
       "      <td>offer received</td>\n",
       "      <td>{'offer id': '2906b810c7d4411798c6938adc9daaa5'}</td>\n",
       "      <td>0</td>\n",
       "    </tr>\n",
       "    <tr>\n",
       "      <th>3</th>\n",
       "      <td>8ec6ce2a7e7949b1bf142def7d0e0586</td>\n",
       "      <td>offer received</td>\n",
       "      <td>{'offer id': 'fafdcd668e3743c1bb461111dcafc2a4'}</td>\n",
       "      <td>0</td>\n",
       "    </tr>\n",
       "    <tr>\n",
       "      <th>4</th>\n",
       "      <td>68617ca6246f4fbc85e91a2a49552598</td>\n",
       "      <td>offer received</td>\n",
       "      <td>{'offer id': '4d5c57ea9a6940dd891ad53e9dbe8da0'}</td>\n",
       "      <td>0</td>\n",
       "    </tr>\n",
       "  </tbody>\n",
       "</table>\n",
       "</div>"
      ],
      "text/plain": [
       "                        customer_id           event  \\\n",
       "0  78afa995795e4d85b5d9ceeca43f5fef  offer received   \n",
       "1  a03223e636434f42ac4c3df47e8bac43  offer received   \n",
       "2  e2127556f4f64592b11af22de27a7932  offer received   \n",
       "3  8ec6ce2a7e7949b1bf142def7d0e0586  offer received   \n",
       "4  68617ca6246f4fbc85e91a2a49552598  offer received   \n",
       "\n",
       "                                              value  time  \n",
       "0  {'offer id': '9b98b8c7a33c4b65b9aebfe6a799e6d9'}     0  \n",
       "1  {'offer id': '0b1e1539f2cc45b7b9fa7c272da2e1d7'}     0  \n",
       "2  {'offer id': '2906b810c7d4411798c6938adc9daaa5'}     0  \n",
       "3  {'offer id': 'fafdcd668e3743c1bb461111dcafc2a4'}     0  \n",
       "4  {'offer id': '4d5c57ea9a6940dd891ad53e9dbe8da0'}     0  "
      ]
     },
     "execution_count": 30,
     "metadata": {},
     "output_type": "execute_result"
    }
   ],
   "source": [
    "transcript.head()"
   ]
  },
  {
   "cell_type": "markdown",
   "metadata": {},
   "source": [
    "Need to break the value columns and get the offer ids and transaction amounts for further analysis."
   ]
  },
  {
   "cell_type": "code",
   "execution_count": 31,
   "metadata": {},
   "outputs": [
    {
     "data": {
      "text/plain": [
       "{'amount', 'offer id', 'offer_id', 'reward'}"
      ]
     },
     "execution_count": 31,
     "metadata": {},
     "output_type": "execute_result"
    }
   ],
   "source": [
    "#get unique keys in the value column\n",
    "keys = set()\n",
    "for i in range(transcript.shape[0]):  \n",
    "    k = list(transcript['value'].values[i].keys())\n",
    "    n_k = len(k)\n",
    "    for j in range(n_k):\n",
    "        keys.add(k[j])\n",
    "keys"
   ]
  },
  {
   "cell_type": "code",
   "execution_count": 32,
   "metadata": {
    "scrolled": true
   },
   "outputs": [],
   "source": [
    "keys = list(keys)"
   ]
  },
  {
   "cell_type": "code",
   "execution_count": 33,
   "metadata": {},
   "outputs": [],
   "source": [
    "def get_key_values(df, col):\n",
    "    '''\n",
    "    Get key and value pairs from the target column\n",
    "    \n",
    "    Args:\n",
    "        df(DataFrame): The DataFrame will processing\n",
    "        col(dict): the columns contain the dict to get the key and value\n",
    "    \n",
    "    Returns:\n",
    "        k(str or int): all the keys in the column\n",
    "        v(str or int): all the values in the column\n",
    "    '''\n",
    "    k = df[col].values[0].keys()\n",
    "    v = df[col].values[0].values()\n",
    "    return k, v"
   ]
  },
  {
   "cell_type": "code",
   "execution_count": 34,
   "metadata": {
    "scrolled": false
   },
   "outputs": [
    {
     "data": {
      "text/html": [
       "<div>\n",
       "<style scoped>\n",
       "    .dataframe tbody tr th:only-of-type {\n",
       "        vertical-align: middle;\n",
       "    }\n",
       "\n",
       "    .dataframe tbody tr th {\n",
       "        vertical-align: top;\n",
       "    }\n",
       "\n",
       "    .dataframe thead th {\n",
       "        text-align: right;\n",
       "    }\n",
       "</style>\n",
       "<table border=\"1\" class=\"dataframe\">\n",
       "  <thead>\n",
       "    <tr style=\"text-align: right;\">\n",
       "      <th></th>\n",
       "      <th>customer_id</th>\n",
       "      <th>event</th>\n",
       "      <th>value</th>\n",
       "      <th>time</th>\n",
       "      <th>amount</th>\n",
       "      <th>offer id</th>\n",
       "      <th>reward</th>\n",
       "      <th>offer_id</th>\n",
       "    </tr>\n",
       "  </thead>\n",
       "  <tbody>\n",
       "    <tr>\n",
       "      <th>0</th>\n",
       "      <td>78afa995795e4d85b5d9ceeca43f5fef</td>\n",
       "      <td>offer received</td>\n",
       "      <td>{'offer id': '9b98b8c7a33c4b65b9aebfe6a799e6d9'}</td>\n",
       "      <td>0</td>\n",
       "      <td>0.0</td>\n",
       "      <td>9b98b8c7a33c4b65b9aebfe6a799e6d9</td>\n",
       "      <td>0</td>\n",
       "      <td>0</td>\n",
       "    </tr>\n",
       "    <tr>\n",
       "      <th>1</th>\n",
       "      <td>a03223e636434f42ac4c3df47e8bac43</td>\n",
       "      <td>offer received</td>\n",
       "      <td>{'offer id': '0b1e1539f2cc45b7b9fa7c272da2e1d7'}</td>\n",
       "      <td>0</td>\n",
       "      <td>0.0</td>\n",
       "      <td>0b1e1539f2cc45b7b9fa7c272da2e1d7</td>\n",
       "      <td>0</td>\n",
       "      <td>0</td>\n",
       "    </tr>\n",
       "    <tr>\n",
       "      <th>2</th>\n",
       "      <td>e2127556f4f64592b11af22de27a7932</td>\n",
       "      <td>offer received</td>\n",
       "      <td>{'offer id': '2906b810c7d4411798c6938adc9daaa5'}</td>\n",
       "      <td>0</td>\n",
       "      <td>0.0</td>\n",
       "      <td>2906b810c7d4411798c6938adc9daaa5</td>\n",
       "      <td>0</td>\n",
       "      <td>0</td>\n",
       "    </tr>\n",
       "    <tr>\n",
       "      <th>3</th>\n",
       "      <td>8ec6ce2a7e7949b1bf142def7d0e0586</td>\n",
       "      <td>offer received</td>\n",
       "      <td>{'offer id': 'fafdcd668e3743c1bb461111dcafc2a4'}</td>\n",
       "      <td>0</td>\n",
       "      <td>0.0</td>\n",
       "      <td>fafdcd668e3743c1bb461111dcafc2a4</td>\n",
       "      <td>0</td>\n",
       "      <td>0</td>\n",
       "    </tr>\n",
       "    <tr>\n",
       "      <th>4</th>\n",
       "      <td>68617ca6246f4fbc85e91a2a49552598</td>\n",
       "      <td>offer received</td>\n",
       "      <td>{'offer id': '4d5c57ea9a6940dd891ad53e9dbe8da0'}</td>\n",
       "      <td>0</td>\n",
       "      <td>0.0</td>\n",
       "      <td>4d5c57ea9a6940dd891ad53e9dbe8da0</td>\n",
       "      <td>0</td>\n",
       "      <td>0</td>\n",
       "    </tr>\n",
       "  </tbody>\n",
       "</table>\n",
       "</div>"
      ],
      "text/plain": [
       "                        customer_id           event  \\\n",
       "0  78afa995795e4d85b5d9ceeca43f5fef  offer received   \n",
       "1  a03223e636434f42ac4c3df47e8bac43  offer received   \n",
       "2  e2127556f4f64592b11af22de27a7932  offer received   \n",
       "3  8ec6ce2a7e7949b1bf142def7d0e0586  offer received   \n",
       "4  68617ca6246f4fbc85e91a2a49552598  offer received   \n",
       "\n",
       "                                              value  time  amount  \\\n",
       "0  {'offer id': '9b98b8c7a33c4b65b9aebfe6a799e6d9'}     0     0.0   \n",
       "1  {'offer id': '0b1e1539f2cc45b7b9fa7c272da2e1d7'}     0     0.0   \n",
       "2  {'offer id': '2906b810c7d4411798c6938adc9daaa5'}     0     0.0   \n",
       "3  {'offer id': 'fafdcd668e3743c1bb461111dcafc2a4'}     0     0.0   \n",
       "4  {'offer id': '4d5c57ea9a6940dd891ad53e9dbe8da0'}     0     0.0   \n",
       "\n",
       "                           offer id  reward offer_id  \n",
       "0  9b98b8c7a33c4b65b9aebfe6a799e6d9       0        0  \n",
       "1  0b1e1539f2cc45b7b9fa7c272da2e1d7       0        0  \n",
       "2  2906b810c7d4411798c6938adc9daaa5       0        0  \n",
       "3  fafdcd668e3743c1bb461111dcafc2a4       0        0  \n",
       "4  4d5c57ea9a6940dd891ad53e9dbe8da0       0        0  "
      ]
     },
     "execution_count": 34,
     "metadata": {},
     "output_type": "execute_result"
    }
   ],
   "source": [
    "for key in keys:\n",
    "    transcript[key] = transcript[\"value\"].apply(lambda k: k[key] if key in k else 0)\n",
    "transcript.head()"
   ]
  },
  {
   "cell_type": "code",
   "execution_count": 35,
   "metadata": {
    "scrolled": true
   },
   "outputs": [],
   "source": [
    "transcript[\"portfolio_id\"] = transcript.apply(lambda x: x[\"offer id\"] if x[\"offer id\"] != 0 else x[\"offer_id\"], axis = 1)"
   ]
  },
  {
   "cell_type": "code",
   "execution_count": 36,
   "metadata": {},
   "outputs": [],
   "source": [
    "transcript.drop([\"offer id\", \"offer_id\", \"value\"], axis = 1, inplace=True)"
   ]
  },
  {
   "cell_type": "code",
   "execution_count": 37,
   "metadata": {
    "scrolled": true
   },
   "outputs": [
    {
     "data": {
      "text/html": [
       "<div>\n",
       "<style scoped>\n",
       "    .dataframe tbody tr th:only-of-type {\n",
       "        vertical-align: middle;\n",
       "    }\n",
       "\n",
       "    .dataframe tbody tr th {\n",
       "        vertical-align: top;\n",
       "    }\n",
       "\n",
       "    .dataframe thead th {\n",
       "        text-align: right;\n",
       "    }\n",
       "</style>\n",
       "<table border=\"1\" class=\"dataframe\">\n",
       "  <thead>\n",
       "    <tr style=\"text-align: right;\">\n",
       "      <th></th>\n",
       "      <th>customer_id</th>\n",
       "      <th>event</th>\n",
       "      <th>time</th>\n",
       "      <th>amount</th>\n",
       "      <th>reward</th>\n",
       "      <th>portfolio_id</th>\n",
       "    </tr>\n",
       "  </thead>\n",
       "  <tbody>\n",
       "    <tr>\n",
       "      <th>0</th>\n",
       "      <td>78afa995795e4d85b5d9ceeca43f5fef</td>\n",
       "      <td>offer received</td>\n",
       "      <td>0</td>\n",
       "      <td>0.0</td>\n",
       "      <td>0</td>\n",
       "      <td>9b98b8c7a33c4b65b9aebfe6a799e6d9</td>\n",
       "    </tr>\n",
       "    <tr>\n",
       "      <th>1</th>\n",
       "      <td>a03223e636434f42ac4c3df47e8bac43</td>\n",
       "      <td>offer received</td>\n",
       "      <td>0</td>\n",
       "      <td>0.0</td>\n",
       "      <td>0</td>\n",
       "      <td>0b1e1539f2cc45b7b9fa7c272da2e1d7</td>\n",
       "    </tr>\n",
       "    <tr>\n",
       "      <th>2</th>\n",
       "      <td>e2127556f4f64592b11af22de27a7932</td>\n",
       "      <td>offer received</td>\n",
       "      <td>0</td>\n",
       "      <td>0.0</td>\n",
       "      <td>0</td>\n",
       "      <td>2906b810c7d4411798c6938adc9daaa5</td>\n",
       "    </tr>\n",
       "    <tr>\n",
       "      <th>3</th>\n",
       "      <td>8ec6ce2a7e7949b1bf142def7d0e0586</td>\n",
       "      <td>offer received</td>\n",
       "      <td>0</td>\n",
       "      <td>0.0</td>\n",
       "      <td>0</td>\n",
       "      <td>fafdcd668e3743c1bb461111dcafc2a4</td>\n",
       "    </tr>\n",
       "    <tr>\n",
       "      <th>4</th>\n",
       "      <td>68617ca6246f4fbc85e91a2a49552598</td>\n",
       "      <td>offer received</td>\n",
       "      <td>0</td>\n",
       "      <td>0.0</td>\n",
       "      <td>0</td>\n",
       "      <td>4d5c57ea9a6940dd891ad53e9dbe8da0</td>\n",
       "    </tr>\n",
       "  </tbody>\n",
       "</table>\n",
       "</div>"
      ],
      "text/plain": [
       "                        customer_id           event  time  amount  reward  \\\n",
       "0  78afa995795e4d85b5d9ceeca43f5fef  offer received     0     0.0       0   \n",
       "1  a03223e636434f42ac4c3df47e8bac43  offer received     0     0.0       0   \n",
       "2  e2127556f4f64592b11af22de27a7932  offer received     0     0.0       0   \n",
       "3  8ec6ce2a7e7949b1bf142def7d0e0586  offer received     0     0.0       0   \n",
       "4  68617ca6246f4fbc85e91a2a49552598  offer received     0     0.0       0   \n",
       "\n",
       "                       portfolio_id  \n",
       "0  9b98b8c7a33c4b65b9aebfe6a799e6d9  \n",
       "1  0b1e1539f2cc45b7b9fa7c272da2e1d7  \n",
       "2  2906b810c7d4411798c6938adc9daaa5  \n",
       "3  fafdcd668e3743c1bb461111dcafc2a4  \n",
       "4  4d5c57ea9a6940dd891ad53e9dbe8da0  "
      ]
     },
     "execution_count": 37,
     "metadata": {},
     "output_type": "execute_result"
    }
   ],
   "source": [
    "transcript.head()"
   ]
  },
  {
   "cell_type": "code",
   "execution_count": 38,
   "metadata": {
    "scrolled": true
   },
   "outputs": [
    {
     "data": {
      "text/plain": [
       "array(['offer received', 'offer viewed', 'transaction', 'offer completed'],\n",
       "      dtype=object)"
      ]
     },
     "execution_count": 38,
     "metadata": {},
     "output_type": "execute_result"
    }
   ],
   "source": [
    "transcript[\"event\"].unique()"
   ]
  },
  {
   "cell_type": "code",
   "execution_count": 39,
   "metadata": {},
   "outputs": [
    {
     "data": {
      "text/plain": [
       "count    138953.000000\n",
       "mean         12.777356\n",
       "std          30.250529\n",
       "min           0.050000\n",
       "25%           2.780000\n",
       "50%           8.890000\n",
       "75%          18.070000\n",
       "max        1062.280000\n",
       "Name: amount, dtype: float64"
      ]
     },
     "execution_count": 39,
     "metadata": {},
     "output_type": "execute_result"
    }
   ],
   "source": [
    "transcript.loc[transcript[\"portfolio_id\"]==0, \"amount\"].describe()"
   ]
  },
  {
   "cell_type": "markdown",
   "metadata": {},
   "source": [
    "## Portfolio"
   ]
  },
  {
   "cell_type": "code",
   "execution_count": 40,
   "metadata": {},
   "outputs": [],
   "source": [
    "portfolio.rename(columns ={'id':'portfolio_id'}, inplace=True)"
   ]
  },
  {
   "cell_type": "code",
   "execution_count": 41,
   "metadata": {},
   "outputs": [
    {
     "data": {
      "text/plain": [
       "0         [email, mobile, social]\n",
       "1    [web, email, mobile, social]\n",
       "2            [web, email, mobile]\n",
       "3            [web, email, mobile]\n",
       "4                    [web, email]\n",
       "5    [web, email, mobile, social]\n",
       "6    [web, email, mobile, social]\n",
       "7         [email, mobile, social]\n",
       "8    [web, email, mobile, social]\n",
       "9            [web, email, mobile]\n",
       "Name: channels, dtype: object"
      ]
     },
     "execution_count": 41,
     "metadata": {},
     "output_type": "execute_result"
    }
   ],
   "source": [
    "portfolio['channels']"
   ]
  },
  {
   "cell_type": "code",
   "execution_count": 42,
   "metadata": {
    "scrolled": true
   },
   "outputs": [
    {
     "data": {
      "text/plain": [
       "(['web', 'email', 'mobile', 'social'], ['email', 'mobile', 'social'])"
      ]
     },
     "execution_count": 42,
     "metadata": {},
     "output_type": "execute_result"
    }
   ],
   "source": [
    "channels_max = portfolio['channels'].max()\n",
    "channels_min = portfolio['channels'].min()\n",
    "channels_max, channels_min"
   ]
  },
  {
   "cell_type": "code",
   "execution_count": 43,
   "metadata": {},
   "outputs": [],
   "source": [
    "for channel in channels_max:\n",
    "    portfolio['channel_' + channel] = portfolio.apply(lambda x: 1 if channel in x['channels'] else 0, axis = 1)"
   ]
  },
  {
   "cell_type": "code",
   "execution_count": 44,
   "metadata": {
    "scrolled": true
   },
   "outputs": [
    {
     "data": {
      "text/html": [
       "<div>\n",
       "<style scoped>\n",
       "    .dataframe tbody tr th:only-of-type {\n",
       "        vertical-align: middle;\n",
       "    }\n",
       "\n",
       "    .dataframe tbody tr th {\n",
       "        vertical-align: top;\n",
       "    }\n",
       "\n",
       "    .dataframe thead th {\n",
       "        text-align: right;\n",
       "    }\n",
       "</style>\n",
       "<table border=\"1\" class=\"dataframe\">\n",
       "  <thead>\n",
       "    <tr style=\"text-align: right;\">\n",
       "      <th></th>\n",
       "      <th>reward</th>\n",
       "      <th>channels</th>\n",
       "      <th>difficulty</th>\n",
       "      <th>duration</th>\n",
       "      <th>offer_type</th>\n",
       "      <th>portfolio_id</th>\n",
       "      <th>channel_web</th>\n",
       "      <th>channel_email</th>\n",
       "      <th>channel_mobile</th>\n",
       "      <th>channel_social</th>\n",
       "    </tr>\n",
       "  </thead>\n",
       "  <tbody>\n",
       "    <tr>\n",
       "      <th>0</th>\n",
       "      <td>10</td>\n",
       "      <td>[email, mobile, social]</td>\n",
       "      <td>10</td>\n",
       "      <td>7</td>\n",
       "      <td>bogo</td>\n",
       "      <td>ae264e3637204a6fb9bb56bc8210ddfd</td>\n",
       "      <td>0</td>\n",
       "      <td>1</td>\n",
       "      <td>1</td>\n",
       "      <td>1</td>\n",
       "    </tr>\n",
       "    <tr>\n",
       "      <th>1</th>\n",
       "      <td>10</td>\n",
       "      <td>[web, email, mobile, social]</td>\n",
       "      <td>10</td>\n",
       "      <td>5</td>\n",
       "      <td>bogo</td>\n",
       "      <td>4d5c57ea9a6940dd891ad53e9dbe8da0</td>\n",
       "      <td>1</td>\n",
       "      <td>1</td>\n",
       "      <td>1</td>\n",
       "      <td>1</td>\n",
       "    </tr>\n",
       "    <tr>\n",
       "      <th>2</th>\n",
       "      <td>0</td>\n",
       "      <td>[web, email, mobile]</td>\n",
       "      <td>0</td>\n",
       "      <td>4</td>\n",
       "      <td>informational</td>\n",
       "      <td>3f207df678b143eea3cee63160fa8bed</td>\n",
       "      <td>1</td>\n",
       "      <td>1</td>\n",
       "      <td>1</td>\n",
       "      <td>0</td>\n",
       "    </tr>\n",
       "    <tr>\n",
       "      <th>3</th>\n",
       "      <td>5</td>\n",
       "      <td>[web, email, mobile]</td>\n",
       "      <td>5</td>\n",
       "      <td>7</td>\n",
       "      <td>bogo</td>\n",
       "      <td>9b98b8c7a33c4b65b9aebfe6a799e6d9</td>\n",
       "      <td>1</td>\n",
       "      <td>1</td>\n",
       "      <td>1</td>\n",
       "      <td>0</td>\n",
       "    </tr>\n",
       "    <tr>\n",
       "      <th>4</th>\n",
       "      <td>5</td>\n",
       "      <td>[web, email]</td>\n",
       "      <td>20</td>\n",
       "      <td>10</td>\n",
       "      <td>discount</td>\n",
       "      <td>0b1e1539f2cc45b7b9fa7c272da2e1d7</td>\n",
       "      <td>1</td>\n",
       "      <td>1</td>\n",
       "      <td>0</td>\n",
       "      <td>0</td>\n",
       "    </tr>\n",
       "  </tbody>\n",
       "</table>\n",
       "</div>"
      ],
      "text/plain": [
       "   reward                      channels  difficulty  duration     offer_type  \\\n",
       "0      10       [email, mobile, social]          10         7           bogo   \n",
       "1      10  [web, email, mobile, social]          10         5           bogo   \n",
       "2       0          [web, email, mobile]           0         4  informational   \n",
       "3       5          [web, email, mobile]           5         7           bogo   \n",
       "4       5                  [web, email]          20        10       discount   \n",
       "\n",
       "                       portfolio_id  channel_web  channel_email  \\\n",
       "0  ae264e3637204a6fb9bb56bc8210ddfd            0              1   \n",
       "1  4d5c57ea9a6940dd891ad53e9dbe8da0            1              1   \n",
       "2  3f207df678b143eea3cee63160fa8bed            1              1   \n",
       "3  9b98b8c7a33c4b65b9aebfe6a799e6d9            1              1   \n",
       "4  0b1e1539f2cc45b7b9fa7c272da2e1d7            1              1   \n",
       "\n",
       "   channel_mobile  channel_social  \n",
       "0               1               1  \n",
       "1               1               1  \n",
       "2               1               0  \n",
       "3               1               0  \n",
       "4               0               0  "
      ]
     },
     "execution_count": 44,
     "metadata": {},
     "output_type": "execute_result"
    }
   ],
   "source": [
    "portfolio.head()"
   ]
  },
  {
   "cell_type": "code",
   "execution_count": 45,
   "metadata": {},
   "outputs": [],
   "source": [
    "portfolio.drop(['channels'], axis = 1, inplace=True)"
   ]
  },
  {
   "cell_type": "code",
   "execution_count": 46,
   "metadata": {},
   "outputs": [],
   "source": [
    "portfolio[\"offer_name\"] = \"offer_\"+portfolio.index.astype(str)"
   ]
  },
  {
   "cell_type": "code",
   "execution_count": 47,
   "metadata": {
    "scrolled": true
   },
   "outputs": [
    {
     "data": {
      "text/html": [
       "<div>\n",
       "<style scoped>\n",
       "    .dataframe tbody tr th:only-of-type {\n",
       "        vertical-align: middle;\n",
       "    }\n",
       "\n",
       "    .dataframe tbody tr th {\n",
       "        vertical-align: top;\n",
       "    }\n",
       "\n",
       "    .dataframe thead th {\n",
       "        text-align: right;\n",
       "    }\n",
       "</style>\n",
       "<table border=\"1\" class=\"dataframe\">\n",
       "  <thead>\n",
       "    <tr style=\"text-align: right;\">\n",
       "      <th></th>\n",
       "      <th>reward</th>\n",
       "      <th>difficulty</th>\n",
       "      <th>duration</th>\n",
       "      <th>offer_type</th>\n",
       "      <th>portfolio_id</th>\n",
       "      <th>channel_web</th>\n",
       "      <th>channel_email</th>\n",
       "      <th>channel_mobile</th>\n",
       "      <th>channel_social</th>\n",
       "      <th>offer_name</th>\n",
       "    </tr>\n",
       "  </thead>\n",
       "  <tbody>\n",
       "    <tr>\n",
       "      <th>0</th>\n",
       "      <td>10</td>\n",
       "      <td>10</td>\n",
       "      <td>7</td>\n",
       "      <td>bogo</td>\n",
       "      <td>ae264e3637204a6fb9bb56bc8210ddfd</td>\n",
       "      <td>0</td>\n",
       "      <td>1</td>\n",
       "      <td>1</td>\n",
       "      <td>1</td>\n",
       "      <td>offer_0</td>\n",
       "    </tr>\n",
       "    <tr>\n",
       "      <th>1</th>\n",
       "      <td>10</td>\n",
       "      <td>10</td>\n",
       "      <td>5</td>\n",
       "      <td>bogo</td>\n",
       "      <td>4d5c57ea9a6940dd891ad53e9dbe8da0</td>\n",
       "      <td>1</td>\n",
       "      <td>1</td>\n",
       "      <td>1</td>\n",
       "      <td>1</td>\n",
       "      <td>offer_1</td>\n",
       "    </tr>\n",
       "    <tr>\n",
       "      <th>2</th>\n",
       "      <td>0</td>\n",
       "      <td>0</td>\n",
       "      <td>4</td>\n",
       "      <td>informational</td>\n",
       "      <td>3f207df678b143eea3cee63160fa8bed</td>\n",
       "      <td>1</td>\n",
       "      <td>1</td>\n",
       "      <td>1</td>\n",
       "      <td>0</td>\n",
       "      <td>offer_2</td>\n",
       "    </tr>\n",
       "    <tr>\n",
       "      <th>3</th>\n",
       "      <td>5</td>\n",
       "      <td>5</td>\n",
       "      <td>7</td>\n",
       "      <td>bogo</td>\n",
       "      <td>9b98b8c7a33c4b65b9aebfe6a799e6d9</td>\n",
       "      <td>1</td>\n",
       "      <td>1</td>\n",
       "      <td>1</td>\n",
       "      <td>0</td>\n",
       "      <td>offer_3</td>\n",
       "    </tr>\n",
       "    <tr>\n",
       "      <th>4</th>\n",
       "      <td>5</td>\n",
       "      <td>20</td>\n",
       "      <td>10</td>\n",
       "      <td>discount</td>\n",
       "      <td>0b1e1539f2cc45b7b9fa7c272da2e1d7</td>\n",
       "      <td>1</td>\n",
       "      <td>1</td>\n",
       "      <td>0</td>\n",
       "      <td>0</td>\n",
       "      <td>offer_4</td>\n",
       "    </tr>\n",
       "  </tbody>\n",
       "</table>\n",
       "</div>"
      ],
      "text/plain": [
       "   reward  difficulty  duration     offer_type  \\\n",
       "0      10          10         7           bogo   \n",
       "1      10          10         5           bogo   \n",
       "2       0           0         4  informational   \n",
       "3       5           5         7           bogo   \n",
       "4       5          20        10       discount   \n",
       "\n",
       "                       portfolio_id  channel_web  channel_email  \\\n",
       "0  ae264e3637204a6fb9bb56bc8210ddfd            0              1   \n",
       "1  4d5c57ea9a6940dd891ad53e9dbe8da0            1              1   \n",
       "2  3f207df678b143eea3cee63160fa8bed            1              1   \n",
       "3  9b98b8c7a33c4b65b9aebfe6a799e6d9            1              1   \n",
       "4  0b1e1539f2cc45b7b9fa7c272da2e1d7            1              1   \n",
       "\n",
       "   channel_mobile  channel_social offer_name  \n",
       "0               1               1    offer_0  \n",
       "1               1               1    offer_1  \n",
       "2               1               0    offer_2  \n",
       "3               1               0    offer_3  \n",
       "4               0               0    offer_4  "
      ]
     },
     "execution_count": 47,
     "metadata": {},
     "output_type": "execute_result"
    }
   ],
   "source": [
    "portfolio.head()"
   ]
  },
  {
   "cell_type": "markdown",
   "metadata": {},
   "source": [
    "## Profile"
   ]
  },
  {
   "cell_type": "code",
   "execution_count": 48,
   "metadata": {},
   "outputs": [],
   "source": [
    "profile.rename(columns={'id':'customer_id'}, inplace=True)"
   ]
  },
  {
   "cell_type": "code",
   "execution_count": 275,
   "metadata": {
    "scrolled": true
   },
   "outputs": [
    {
     "data": {
      "text/plain": [
       "(Timestamp('2013-07-29 00:00:00'),\n",
       " Timestamp('2018-07-26 00:00:00'),\n",
       " 1403.4498823529411)"
      ]
     },
     "execution_count": 275,
     "metadata": {},
     "output_type": "execute_result"
    }
   ],
   "source": [
    "profile[\"became_member_on\"].min(), profile[\"became_member_on\"].max(), profile[\"days_since_member\"].mean()"
   ]
  },
  {
   "cell_type": "code",
   "execution_count": 277,
   "metadata": {},
   "outputs": [],
   "source": [
    "report_date = \"2018-08-01\""
   ]
  },
  {
   "cell_type": "code",
   "execution_count": 50,
   "metadata": {},
   "outputs": [],
   "source": [
    "profile['became_member_on'] = profile.apply(lambda x: pd.to_datetime(str(x['became_member_on']), format='%Y%m%d'), axis = 1)"
   ]
  },
  {
   "cell_type": "code",
   "execution_count": 278,
   "metadata": {},
   "outputs": [],
   "source": [
    "profile['days_since_member'] = (pd.to_datetime(report_date) - profile['became_member_on']).dt.days"
   ]
  },
  {
   "cell_type": "code",
   "execution_count": 279,
   "metadata": {},
   "outputs": [
    {
     "data": {
      "text/plain": [
       "count    17000.000000\n",
       "mean       523.449882\n",
       "std        411.223904\n",
       "min          6.000000\n",
       "25%        214.000000\n",
       "50%        364.000000\n",
       "75%        797.000000\n",
       "max       1829.000000\n",
       "Name: days_since_member, dtype: float64"
      ]
     },
     "execution_count": 279,
     "metadata": {},
     "output_type": "execute_result"
    }
   ],
   "source": [
    "profile['days_since_member'].describe()"
   ]
  },
  {
   "cell_type": "code",
   "execution_count": 395,
   "metadata": {},
   "outputs": [
    {
     "data": {
      "text/plain": [
       "Text(0.5,1,'Days Became Member Distribution')"
      ]
     },
     "execution_count": 395,
     "metadata": {},
     "output_type": "execute_result"
    },
    {
     "data": {
      "image/png": "[encoded data removed]",
      "text/plain": [
       "<matplotlib.figure.Figure at 0x7f9e284222e8>"
      ]
     },
     "metadata": {
      "needs_background": "light"
     },
     "output_type": "display_data"
    }
   ],
   "source": [
    "plt.hist(profile.loc[:, \"days_since_member\"], bins = 10)\n",
    "plt.xlabel(\"Days Became Member\")\n",
    "plt.ylabel(\"Number of Customers\")\n",
    "plt.title(\"Days Became Member Distribution\")"
   ]
  },
  {
   "cell_type": "code",
   "execution_count": 52,
   "metadata": {
    "scrolled": false
   },
   "outputs": [
    {
     "data": {
      "text/plain": [
       "count    17000.000000\n",
       "mean        62.531412\n",
       "std         26.738580\n",
       "min         18.000000\n",
       "25%         45.000000\n",
       "50%         58.000000\n",
       "75%         73.000000\n",
       "max        118.000000\n",
       "Name: age, dtype: float64"
      ]
     },
     "execution_count": 52,
     "metadata": {},
     "output_type": "execute_result"
    }
   ],
   "source": [
    "profile['age'].describe()"
   ]
  },
  {
   "cell_type": "markdown",
   "metadata": {},
   "source": [
    "Because there are many place holders (age 118) in the dataset. Need to convert and clean them."
   ]
  },
  {
   "cell_type": "code",
   "execution_count": 53,
   "metadata": {},
   "outputs": [],
   "source": [
    "# profile['age'].replace([118], np.nan, inplace=True)"
   ]
  },
  {
   "cell_type": "code",
   "execution_count": 54,
   "metadata": {},
   "outputs": [],
   "source": [
    "# profile.loc[~profile[\"age\"].isnull(), \"age\"].describe()"
   ]
  },
  {
   "cell_type": "code",
   "execution_count": 288,
   "metadata": {
    "scrolled": true
   },
   "outputs": [
    {
     "data": {
      "text/plain": [
       "Text(0.5,1,'Age Distribution')"
      ]
     },
     "execution_count": 288,
     "metadata": {},
     "output_type": "execute_result"
    },
    {
     "data": {
      "image/png": "[encoded data removed]",
      "text/plain": [
       "<matplotlib.figure.Figure at 0x7f9e280e1d30>"
      ]
     },
     "metadata": {
      "needs_background": "light"
     },
     "output_type": "display_data"
    }
   ],
   "source": [
    "# plt.hist(profile.loc[~profile[\"age\"].isnull(), \"age\"], bins = 20)\n",
    "plt.hist(profile.loc[:, \"age\"], bins = 11)\n",
    "plt.xlabel(\"Age\")\n",
    "plt.ylabel(\"Number of Customers\")\n",
    "plt.title(\"Age Distribution\")"
   ]
  },
  {
   "cell_type": "markdown",
   "metadata": {},
   "source": [
    "Need to fill the missing values in the age column and imputate a random number between 25 percentile - 75 percentile."
   ]
  },
  {
   "cell_type": "code",
   "execution_count": 289,
   "metadata": {},
   "outputs": [],
   "source": [
    "# def cus_fill_na(df, col):\n",
    "#     \"\"\"\n",
    "#     Fulfill null values by using random number between 25 percentile and 75 percentile\n",
    "    \n",
    "#     Args:\n",
    "#         df (DataFrame): The DataFrame to fulfill nulls\n",
    "#         col (int): The int col to fulfill nulls\n",
    "    \n",
    "#     Returns:\n",
    "#         df[col](Series): The Series of col with all nulls fulfilled\n",
    "#     \"\"\"\n",
    "#     upper_lim = df.loc[~df[col].isnull(), col].quantile(.75)\n",
    "#     lower_lim = df.loc[~df[col].isnull(), col].quantile(.25)\n",
    "#     df[col] = df[col].fillna(np.random.randint(lower_lim, upper_lim, 1)[0])\n",
    "    \n",
    "#     return df[col]"
   ]
  },
  {
   "cell_type": "code",
   "execution_count": 290,
   "metadata": {},
   "outputs": [],
   "source": [
    "# profile['age'] = cus_fill_na(profile, \"age\")"
   ]
  },
  {
   "cell_type": "code",
   "execution_count": 291,
   "metadata": {},
   "outputs": [],
   "source": [
    "# profile['age'].describe()"
   ]
  },
  {
   "cell_type": "code",
   "execution_count": 292,
   "metadata": {
    "scrolled": true
   },
   "outputs": [],
   "source": [
    "# plt.hist(profile[\"age\"], bins = 20)\n",
    "# plt.xlabel(\"Age\")\n",
    "# plt.ylabel(\"Number of Customers\")"
   ]
  },
  {
   "cell_type": "markdown",
   "metadata": {},
   "source": [
    "Fill the missing values in the income by the same imputation logic as the one of age."
   ]
  },
  {
   "cell_type": "code",
   "execution_count": 293,
   "metadata": {
    "scrolled": true
   },
   "outputs": [
    {
     "data": {
      "text/plain": [
       "count     17000.000000\n",
       "mean      65225.235294\n",
       "std       20174.747749\n",
       "min       30000.000000\n",
       "25%       51000.000000\n",
       "50%       64000.000000\n",
       "75%       76000.000000\n",
       "max      120000.000000\n",
       "Name: income, dtype: float64"
      ]
     },
     "execution_count": 293,
     "metadata": {},
     "output_type": "execute_result"
    }
   ],
   "source": [
    "profile[\"income\"].describe()"
   ]
  },
  {
   "cell_type": "code",
   "execution_count": 294,
   "metadata": {
    "scrolled": true
   },
   "outputs": [
    {
     "data": {
      "text/plain": [
       "Text(0,0.5,'Number of Customers')"
      ]
     },
     "execution_count": 294,
     "metadata": {},
     "output_type": "execute_result"
    },
    {
     "data": {
      "image/png": "[encoded data removed]",
      "text/plain": [
       "<matplotlib.figure.Figure at 0x7f9e280ecd30>"
      ]
     },
     "metadata": {
      "needs_background": "light"
     },
     "output_type": "display_data"
    }
   ],
   "source": [
    "plt.hist(profile.loc[~profile[\"income\"].isnull(), \"income\"], bins = 10)\n",
    "plt.xlabel(\"Income\")\n",
    "plt.ylabel(\"Number of Customers\")"
   ]
  },
  {
   "cell_type": "code",
   "execution_count": 295,
   "metadata": {},
   "outputs": [],
   "source": [
    "income_median = np.median(profile.loc[~profile[\"income\"].isnull(), \"income\"])"
   ]
  },
  {
   "cell_type": "code",
   "execution_count": 296,
   "metadata": {},
   "outputs": [],
   "source": [
    "profile[\"income\"].fillna(income_median, inplace=True)"
   ]
  },
  {
   "cell_type": "code",
   "execution_count": 297,
   "metadata": {
    "scrolled": false
   },
   "outputs": [
    {
     "data": {
      "text/plain": [
       "count     17000.000000\n",
       "mean      65225.235294\n",
       "std       20174.747749\n",
       "min       30000.000000\n",
       "25%       51000.000000\n",
       "50%       64000.000000\n",
       "75%       76000.000000\n",
       "max      120000.000000\n",
       "Name: income, dtype: float64"
      ]
     },
     "execution_count": 297,
     "metadata": {},
     "output_type": "execute_result"
    }
   ],
   "source": [
    "profile[\"income\"].describe()"
   ]
  },
  {
   "cell_type": "code",
   "execution_count": 298,
   "metadata": {
    "scrolled": false
   },
   "outputs": [
    {
     "data": {
      "text/plain": [
       "Text(0.5,1,'Income Distribution')"
      ]
     },
     "execution_count": 298,
     "metadata": {},
     "output_type": "execute_result"
    },
    {
     "data": {
      "image/png": "[encoded data removed]",
      "text/plain": [
       "<matplotlib.figure.Figure at 0x7f9e2812b898>"
      ]
     },
     "metadata": {
      "needs_background": "light"
     },
     "output_type": "display_data"
    }
   ],
   "source": [
    "plt.hist(profile['income'], bins = 4)\n",
    "plt.xlabel(\"Income\")\n",
    "plt.ylabel(\"Number of Customers\")\n",
    "plt.title(\"Income Distribution\")"
   ]
  },
  {
   "cell_type": "code",
   "execution_count": 299,
   "metadata": {
    "scrolled": true
   },
   "outputs": [
    {
     "data": {
      "text/html": [
       "<div>\n",
       "<style scoped>\n",
       "    .dataframe tbody tr th:only-of-type {\n",
       "        vertical-align: middle;\n",
       "    }\n",
       "\n",
       "    .dataframe tbody tr th {\n",
       "        vertical-align: top;\n",
       "    }\n",
       "\n",
       "    .dataframe thead th {\n",
       "        text-align: right;\n",
       "    }\n",
       "</style>\n",
       "<table border=\"1\" class=\"dataframe\">\n",
       "  <thead>\n",
       "    <tr style=\"text-align: right;\">\n",
       "      <th></th>\n",
       "      <th>gender</th>\n",
       "      <th>age</th>\n",
       "      <th>customer_id</th>\n",
       "      <th>became_member_on</th>\n",
       "      <th>income</th>\n",
       "      <th>customer_name</th>\n",
       "      <th>days_since_member</th>\n",
       "    </tr>\n",
       "  </thead>\n",
       "  <tbody>\n",
       "    <tr>\n",
       "      <th>0</th>\n",
       "      <td>None</td>\n",
       "      <td>118</td>\n",
       "      <td>68be06ca386d4c31939f3a4f0e3dd783</td>\n",
       "      <td>2017-02-12</td>\n",
       "      <td>64000.0</td>\n",
       "      <td>customer_0</td>\n",
       "      <td>535</td>\n",
       "    </tr>\n",
       "    <tr>\n",
       "      <th>1</th>\n",
       "      <td>F</td>\n",
       "      <td>55</td>\n",
       "      <td>0610b486422d4921ae7d2bf64640c50b</td>\n",
       "      <td>2017-07-15</td>\n",
       "      <td>112000.0</td>\n",
       "      <td>customer_1</td>\n",
       "      <td>382</td>\n",
       "    </tr>\n",
       "    <tr>\n",
       "      <th>2</th>\n",
       "      <td>None</td>\n",
       "      <td>118</td>\n",
       "      <td>38fe809add3b4fcf9315a9694bb96ff5</td>\n",
       "      <td>2018-07-12</td>\n",
       "      <td>64000.0</td>\n",
       "      <td>customer_2</td>\n",
       "      <td>20</td>\n",
       "    </tr>\n",
       "    <tr>\n",
       "      <th>3</th>\n",
       "      <td>F</td>\n",
       "      <td>75</td>\n",
       "      <td>78afa995795e4d85b5d9ceeca43f5fef</td>\n",
       "      <td>2017-05-09</td>\n",
       "      <td>100000.0</td>\n",
       "      <td>customer_3</td>\n",
       "      <td>449</td>\n",
       "    </tr>\n",
       "    <tr>\n",
       "      <th>4</th>\n",
       "      <td>None</td>\n",
       "      <td>118</td>\n",
       "      <td>a03223e636434f42ac4c3df47e8bac43</td>\n",
       "      <td>2017-08-04</td>\n",
       "      <td>64000.0</td>\n",
       "      <td>customer_4</td>\n",
       "      <td>362</td>\n",
       "    </tr>\n",
       "  </tbody>\n",
       "</table>\n",
       "</div>"
      ],
      "text/plain": [
       "  gender  age                       customer_id became_member_on    income  \\\n",
       "0   None  118  68be06ca386d4c31939f3a4f0e3dd783       2017-02-12   64000.0   \n",
       "1      F   55  0610b486422d4921ae7d2bf64640c50b       2017-07-15  112000.0   \n",
       "2   None  118  38fe809add3b4fcf9315a9694bb96ff5       2018-07-12   64000.0   \n",
       "3      F   75  78afa995795e4d85b5d9ceeca43f5fef       2017-05-09  100000.0   \n",
       "4   None  118  a03223e636434f42ac4c3df47e8bac43       2017-08-04   64000.0   \n",
       "\n",
       "  customer_name  days_since_member  \n",
       "0    customer_0                535  \n",
       "1    customer_1                382  \n",
       "2    customer_2                 20  \n",
       "3    customer_3                449  \n",
       "4    customer_4                362  "
      ]
     },
     "execution_count": 299,
     "metadata": {},
     "output_type": "execute_result"
    }
   ],
   "source": [
    "profile.head()"
   ]
  },
  {
   "cell_type": "markdown",
   "metadata": {},
   "source": [
    "# Group Transcript Data"
   ]
  },
  {
   "cell_type": "markdown",
   "metadata": {},
   "source": [
    "Because the transactions don't associate with an offer id. It is hard to know what transactions are realted with offer or related with what offer. To get better analysis for what customers interested in offers and what offers. It is important to link the transactions with offers.\n",
    "\n",
    "However, the influences of the informatical offers on the shopping behavior may not be the same as the ones of BOGO and discount offers. I don't include the informatical offers in this process. This process will mainly focus on the BOGO and discount offers."
   ]
  },
  {
   "cell_type": "markdown",
   "metadata": {},
   "source": [
    "## Define Offer Related Transactions"
   ]
  },
  {
   "cell_type": "code",
   "execution_count": 300,
   "metadata": {},
   "outputs": [
    {
     "data": {
      "text/plain": [
       "array(['offer received', 'offer viewed', 'transaction', 'offer completed'],\n",
       "      dtype=object)"
      ]
     },
     "execution_count": 300,
     "metadata": {},
     "output_type": "execute_result"
    }
   ],
   "source": [
    "transcript[\"event\"].unique()"
   ]
  },
  {
   "cell_type": "code",
   "execution_count": 301,
   "metadata": {
    "scrolled": true
   },
   "outputs": [
    {
     "data": {
      "text/plain": [
       "Index(['customer_id', 'event', 'time', 'amount', 'reward', 'portfolio_id'], dtype='object')"
      ]
     },
     "execution_count": 301,
     "metadata": {},
     "output_type": "execute_result"
    }
   ],
   "source": [
    "transcript.columns"
   ]
  },
  {
   "cell_type": "code",
   "execution_count": 302,
   "metadata": {
    "scrolled": true
   },
   "outputs": [
    {
     "data": {
      "text/html": [
       "<div>\n",
       "<style scoped>\n",
       "    .dataframe tbody tr th:only-of-type {\n",
       "        vertical-align: middle;\n",
       "    }\n",
       "\n",
       "    .dataframe tbody tr th {\n",
       "        vertical-align: top;\n",
       "    }\n",
       "\n",
       "    .dataframe thead th {\n",
       "        text-align: right;\n",
       "    }\n",
       "</style>\n",
       "<table border=\"1\" class=\"dataframe\">\n",
       "  <thead>\n",
       "    <tr style=\"text-align: right;\">\n",
       "      <th></th>\n",
       "      <th>reward</th>\n",
       "      <th>difficulty</th>\n",
       "      <th>duration</th>\n",
       "      <th>offer_type</th>\n",
       "      <th>portfolio_id</th>\n",
       "      <th>channel_web</th>\n",
       "      <th>channel_email</th>\n",
       "      <th>channel_mobile</th>\n",
       "      <th>channel_social</th>\n",
       "      <th>offer_name</th>\n",
       "    </tr>\n",
       "  </thead>\n",
       "  <tbody>\n",
       "    <tr>\n",
       "      <th>0</th>\n",
       "      <td>10</td>\n",
       "      <td>10</td>\n",
       "      <td>7</td>\n",
       "      <td>bogo</td>\n",
       "      <td>ae264e3637204a6fb9bb56bc8210ddfd</td>\n",
       "      <td>0</td>\n",
       "      <td>1</td>\n",
       "      <td>1</td>\n",
       "      <td>1</td>\n",
       "      <td>offer_0</td>\n",
       "    </tr>\n",
       "    <tr>\n",
       "      <th>1</th>\n",
       "      <td>10</td>\n",
       "      <td>10</td>\n",
       "      <td>5</td>\n",
       "      <td>bogo</td>\n",
       "      <td>4d5c57ea9a6940dd891ad53e9dbe8da0</td>\n",
       "      <td>1</td>\n",
       "      <td>1</td>\n",
       "      <td>1</td>\n",
       "      <td>1</td>\n",
       "      <td>offer_1</td>\n",
       "    </tr>\n",
       "    <tr>\n",
       "      <th>2</th>\n",
       "      <td>0</td>\n",
       "      <td>0</td>\n",
       "      <td>4</td>\n",
       "      <td>informational</td>\n",
       "      <td>3f207df678b143eea3cee63160fa8bed</td>\n",
       "      <td>1</td>\n",
       "      <td>1</td>\n",
       "      <td>1</td>\n",
       "      <td>0</td>\n",
       "      <td>offer_2</td>\n",
       "    </tr>\n",
       "    <tr>\n",
       "      <th>3</th>\n",
       "      <td>5</td>\n",
       "      <td>5</td>\n",
       "      <td>7</td>\n",
       "      <td>bogo</td>\n",
       "      <td>9b98b8c7a33c4b65b9aebfe6a799e6d9</td>\n",
       "      <td>1</td>\n",
       "      <td>1</td>\n",
       "      <td>1</td>\n",
       "      <td>0</td>\n",
       "      <td>offer_3</td>\n",
       "    </tr>\n",
       "    <tr>\n",
       "      <th>4</th>\n",
       "      <td>5</td>\n",
       "      <td>20</td>\n",
       "      <td>10</td>\n",
       "      <td>discount</td>\n",
       "      <td>0b1e1539f2cc45b7b9fa7c272da2e1d7</td>\n",
       "      <td>1</td>\n",
       "      <td>1</td>\n",
       "      <td>0</td>\n",
       "      <td>0</td>\n",
       "      <td>offer_4</td>\n",
       "    </tr>\n",
       "  </tbody>\n",
       "</table>\n",
       "</div>"
      ],
      "text/plain": [
       "   reward  difficulty  duration     offer_type  \\\n",
       "0      10          10         7           bogo   \n",
       "1      10          10         5           bogo   \n",
       "2       0           0         4  informational   \n",
       "3       5           5         7           bogo   \n",
       "4       5          20        10       discount   \n",
       "\n",
       "                       portfolio_id  channel_web  channel_email  \\\n",
       "0  ae264e3637204a6fb9bb56bc8210ddfd            0              1   \n",
       "1  4d5c57ea9a6940dd891ad53e9dbe8da0            1              1   \n",
       "2  3f207df678b143eea3cee63160fa8bed            1              1   \n",
       "3  9b98b8c7a33c4b65b9aebfe6a799e6d9            1              1   \n",
       "4  0b1e1539f2cc45b7b9fa7c272da2e1d7            1              1   \n",
       "\n",
       "   channel_mobile  channel_social offer_name  \n",
       "0               1               1    offer_0  \n",
       "1               1               1    offer_1  \n",
       "2               1               0    offer_2  \n",
       "3               1               0    offer_3  \n",
       "4               0               0    offer_4  "
      ]
     },
     "execution_count": 302,
     "metadata": {},
     "output_type": "execute_result"
    }
   ],
   "source": [
    "portfolio.head()"
   ]
  },
  {
   "cell_type": "code",
   "execution_count": 303,
   "metadata": {},
   "outputs": [],
   "source": [
    "transcript_offer_df = transcript.merge(portfolio, on=\"portfolio_id\", how=\"left\")"
   ]
  },
  {
   "cell_type": "code",
   "execution_count": 304,
   "metadata": {},
   "outputs": [
    {
     "data": {
      "text/html": [
       "<div>\n",
       "<style scoped>\n",
       "    .dataframe tbody tr th:only-of-type {\n",
       "        vertical-align: middle;\n",
       "    }\n",
       "\n",
       "    .dataframe tbody tr th {\n",
       "        vertical-align: top;\n",
       "    }\n",
       "\n",
       "    .dataframe thead th {\n",
       "        text-align: right;\n",
       "    }\n",
       "</style>\n",
       "<table border=\"1\" class=\"dataframe\">\n",
       "  <thead>\n",
       "    <tr style=\"text-align: right;\">\n",
       "      <th></th>\n",
       "      <th>customer_id</th>\n",
       "      <th>event</th>\n",
       "      <th>time</th>\n",
       "      <th>amount</th>\n",
       "      <th>reward_x</th>\n",
       "      <th>portfolio_id</th>\n",
       "      <th>reward_y</th>\n",
       "      <th>difficulty</th>\n",
       "      <th>duration</th>\n",
       "      <th>offer_type</th>\n",
       "      <th>channel_web</th>\n",
       "      <th>channel_email</th>\n",
       "      <th>channel_mobile</th>\n",
       "      <th>channel_social</th>\n",
       "      <th>offer_name</th>\n",
       "    </tr>\n",
       "  </thead>\n",
       "  <tbody>\n",
       "    <tr>\n",
       "      <th>0</th>\n",
       "      <td>78afa995795e4d85b5d9ceeca43f5fef</td>\n",
       "      <td>offer received</td>\n",
       "      <td>0</td>\n",
       "      <td>0.0</td>\n",
       "      <td>0</td>\n",
       "      <td>9b98b8c7a33c4b65b9aebfe6a799e6d9</td>\n",
       "      <td>5.0</td>\n",
       "      <td>5.0</td>\n",
       "      <td>7.0</td>\n",
       "      <td>bogo</td>\n",
       "      <td>1.0</td>\n",
       "      <td>1.0</td>\n",
       "      <td>1.0</td>\n",
       "      <td>0.0</td>\n",
       "      <td>offer_3</td>\n",
       "    </tr>\n",
       "    <tr>\n",
       "      <th>1</th>\n",
       "      <td>a03223e636434f42ac4c3df47e8bac43</td>\n",
       "      <td>offer received</td>\n",
       "      <td>0</td>\n",
       "      <td>0.0</td>\n",
       "      <td>0</td>\n",
       "      <td>0b1e1539f2cc45b7b9fa7c272da2e1d7</td>\n",
       "      <td>5.0</td>\n",
       "      <td>20.0</td>\n",
       "      <td>10.0</td>\n",
       "      <td>discount</td>\n",
       "      <td>1.0</td>\n",
       "      <td>1.0</td>\n",
       "      <td>0.0</td>\n",
       "      <td>0.0</td>\n",
       "      <td>offer_4</td>\n",
       "    </tr>\n",
       "    <tr>\n",
       "      <th>2</th>\n",
       "      <td>e2127556f4f64592b11af22de27a7932</td>\n",
       "      <td>offer received</td>\n",
       "      <td>0</td>\n",
       "      <td>0.0</td>\n",
       "      <td>0</td>\n",
       "      <td>2906b810c7d4411798c6938adc9daaa5</td>\n",
       "      <td>2.0</td>\n",
       "      <td>10.0</td>\n",
       "      <td>7.0</td>\n",
       "      <td>discount</td>\n",
       "      <td>1.0</td>\n",
       "      <td>1.0</td>\n",
       "      <td>1.0</td>\n",
       "      <td>0.0</td>\n",
       "      <td>offer_9</td>\n",
       "    </tr>\n",
       "    <tr>\n",
       "      <th>3</th>\n",
       "      <td>8ec6ce2a7e7949b1bf142def7d0e0586</td>\n",
       "      <td>offer received</td>\n",
       "      <td>0</td>\n",
       "      <td>0.0</td>\n",
       "      <td>0</td>\n",
       "      <td>fafdcd668e3743c1bb461111dcafc2a4</td>\n",
       "      <td>2.0</td>\n",
       "      <td>10.0</td>\n",
       "      <td>10.0</td>\n",
       "      <td>discount</td>\n",
       "      <td>1.0</td>\n",
       "      <td>1.0</td>\n",
       "      <td>1.0</td>\n",
       "      <td>1.0</td>\n",
       "      <td>offer_6</td>\n",
       "    </tr>\n",
       "    <tr>\n",
       "      <th>4</th>\n",
       "      <td>68617ca6246f4fbc85e91a2a49552598</td>\n",
       "      <td>offer received</td>\n",
       "      <td>0</td>\n",
       "      <td>0.0</td>\n",
       "      <td>0</td>\n",
       "      <td>4d5c57ea9a6940dd891ad53e9dbe8da0</td>\n",
       "      <td>10.0</td>\n",
       "      <td>10.0</td>\n",
       "      <td>5.0</td>\n",
       "      <td>bogo</td>\n",
       "      <td>1.0</td>\n",
       "      <td>1.0</td>\n",
       "      <td>1.0</td>\n",
       "      <td>1.0</td>\n",
       "      <td>offer_1</td>\n",
       "    </tr>\n",
       "  </tbody>\n",
       "</table>\n",
       "</div>"
      ],
      "text/plain": [
       "                        customer_id           event  time  amount  reward_x  \\\n",
       "0  78afa995795e4d85b5d9ceeca43f5fef  offer received     0     0.0         0   \n",
       "1  a03223e636434f42ac4c3df47e8bac43  offer received     0     0.0         0   \n",
       "2  e2127556f4f64592b11af22de27a7932  offer received     0     0.0         0   \n",
       "3  8ec6ce2a7e7949b1bf142def7d0e0586  offer received     0     0.0         0   \n",
       "4  68617ca6246f4fbc85e91a2a49552598  offer received     0     0.0         0   \n",
       "\n",
       "                       portfolio_id  reward_y  difficulty  duration  \\\n",
       "0  9b98b8c7a33c4b65b9aebfe6a799e6d9       5.0         5.0       7.0   \n",
       "1  0b1e1539f2cc45b7b9fa7c272da2e1d7       5.0        20.0      10.0   \n",
       "2  2906b810c7d4411798c6938adc9daaa5       2.0        10.0       7.0   \n",
       "3  fafdcd668e3743c1bb461111dcafc2a4       2.0        10.0      10.0   \n",
       "4  4d5c57ea9a6940dd891ad53e9dbe8da0      10.0        10.0       5.0   \n",
       "\n",
       "  offer_type  channel_web  channel_email  channel_mobile  channel_social  \\\n",
       "0       bogo          1.0            1.0             1.0             0.0   \n",
       "1   discount          1.0            1.0             0.0             0.0   \n",
       "2   discount          1.0            1.0             1.0             0.0   \n",
       "3   discount          1.0            1.0             1.0             1.0   \n",
       "4       bogo          1.0            1.0             1.0             1.0   \n",
       "\n",
       "  offer_name  \n",
       "0    offer_3  \n",
       "1    offer_4  \n",
       "2    offer_9  \n",
       "3    offer_6  \n",
       "4    offer_1  "
      ]
     },
     "execution_count": 304,
     "metadata": {},
     "output_type": "execute_result"
    }
   ],
   "source": [
    "transcript_offer_df.head()"
   ]
  },
  {
   "cell_type": "code",
   "execution_count": 305,
   "metadata": {},
   "outputs": [],
   "source": [
    "columns = [\"customer_id\", \"portfolio_id\", \"offer_name\", \"offer_type\", \"duration\", \"event\", \"time\", \"amount\"]"
   ]
  },
  {
   "cell_type": "code",
   "execution_count": 306,
   "metadata": {},
   "outputs": [],
   "source": [
    "transcript_offer_df = transcript_offer_df.loc[:, columns]"
   ]
  },
  {
   "cell_type": "markdown",
   "metadata": {},
   "source": [
    "Convert the measure of duration from days to hours and make it matches with the time."
   ]
  },
  {
   "cell_type": "code",
   "execution_count": 307,
   "metadata": {},
   "outputs": [],
   "source": [
    "transcript_offer_df[\"duration\"] = transcript_offer_df[\"duration\"] * 24"
   ]
  },
  {
   "cell_type": "code",
   "execution_count": 308,
   "metadata": {
    "scrolled": false
   },
   "outputs": [
    {
     "data": {
      "text/html": [
       "<div>\n",
       "<style scoped>\n",
       "    .dataframe tbody tr th:only-of-type {\n",
       "        vertical-align: middle;\n",
       "    }\n",
       "\n",
       "    .dataframe tbody tr th {\n",
       "        vertical-align: top;\n",
       "    }\n",
       "\n",
       "    .dataframe thead th {\n",
       "        text-align: right;\n",
       "    }\n",
       "</style>\n",
       "<table border=\"1\" class=\"dataframe\">\n",
       "  <thead>\n",
       "    <tr style=\"text-align: right;\">\n",
       "      <th></th>\n",
       "      <th>customer_id</th>\n",
       "      <th>portfolio_id</th>\n",
       "      <th>offer_name</th>\n",
       "      <th>offer_type</th>\n",
       "      <th>duration</th>\n",
       "      <th>event</th>\n",
       "      <th>time</th>\n",
       "      <th>amount</th>\n",
       "    </tr>\n",
       "  </thead>\n",
       "  <tbody>\n",
       "    <tr>\n",
       "      <th>0</th>\n",
       "      <td>78afa995795e4d85b5d9ceeca43f5fef</td>\n",
       "      <td>9b98b8c7a33c4b65b9aebfe6a799e6d9</td>\n",
       "      <td>offer_3</td>\n",
       "      <td>bogo</td>\n",
       "      <td>168.0</td>\n",
       "      <td>offer received</td>\n",
       "      <td>0</td>\n",
       "      <td>0.0</td>\n",
       "    </tr>\n",
       "    <tr>\n",
       "      <th>1</th>\n",
       "      <td>a03223e636434f42ac4c3df47e8bac43</td>\n",
       "      <td>0b1e1539f2cc45b7b9fa7c272da2e1d7</td>\n",
       "      <td>offer_4</td>\n",
       "      <td>discount</td>\n",
       "      <td>240.0</td>\n",
       "      <td>offer received</td>\n",
       "      <td>0</td>\n",
       "      <td>0.0</td>\n",
       "    </tr>\n",
       "    <tr>\n",
       "      <th>2</th>\n",
       "      <td>e2127556f4f64592b11af22de27a7932</td>\n",
       "      <td>2906b810c7d4411798c6938adc9daaa5</td>\n",
       "      <td>offer_9</td>\n",
       "      <td>discount</td>\n",
       "      <td>168.0</td>\n",
       "      <td>offer received</td>\n",
       "      <td>0</td>\n",
       "      <td>0.0</td>\n",
       "    </tr>\n",
       "    <tr>\n",
       "      <th>3</th>\n",
       "      <td>8ec6ce2a7e7949b1bf142def7d0e0586</td>\n",
       "      <td>fafdcd668e3743c1bb461111dcafc2a4</td>\n",
       "      <td>offer_6</td>\n",
       "      <td>discount</td>\n",
       "      <td>240.0</td>\n",
       "      <td>offer received</td>\n",
       "      <td>0</td>\n",
       "      <td>0.0</td>\n",
       "    </tr>\n",
       "    <tr>\n",
       "      <th>4</th>\n",
       "      <td>68617ca6246f4fbc85e91a2a49552598</td>\n",
       "      <td>4d5c57ea9a6940dd891ad53e9dbe8da0</td>\n",
       "      <td>offer_1</td>\n",
       "      <td>bogo</td>\n",
       "      <td>120.0</td>\n",
       "      <td>offer received</td>\n",
       "      <td>0</td>\n",
       "      <td>0.0</td>\n",
       "    </tr>\n",
       "  </tbody>\n",
       "</table>\n",
       "</div>"
      ],
      "text/plain": [
       "                        customer_id                      portfolio_id  \\\n",
       "0  78afa995795e4d85b5d9ceeca43f5fef  9b98b8c7a33c4b65b9aebfe6a799e6d9   \n",
       "1  a03223e636434f42ac4c3df47e8bac43  0b1e1539f2cc45b7b9fa7c272da2e1d7   \n",
       "2  e2127556f4f64592b11af22de27a7932  2906b810c7d4411798c6938adc9daaa5   \n",
       "3  8ec6ce2a7e7949b1bf142def7d0e0586  fafdcd668e3743c1bb461111dcafc2a4   \n",
       "4  68617ca6246f4fbc85e91a2a49552598  4d5c57ea9a6940dd891ad53e9dbe8da0   \n",
       "\n",
       "  offer_name offer_type  duration           event  time  amount  \n",
       "0    offer_3       bogo     168.0  offer received     0     0.0  \n",
       "1    offer_4   discount     240.0  offer received     0     0.0  \n",
       "2    offer_9   discount     168.0  offer received     0     0.0  \n",
       "3    offer_6   discount     240.0  offer received     0     0.0  \n",
       "4    offer_1       bogo     120.0  offer received     0     0.0  "
      ]
     },
     "execution_count": 308,
     "metadata": {},
     "output_type": "execute_result"
    }
   ],
   "source": [
    "transcript_offer_df.head()"
   ]
  },
  {
   "cell_type": "markdown",
   "metadata": {},
   "source": [
    "### Assumptions"
   ]
  },
  {
   "cell_type": "markdown",
   "metadata": {},
   "source": [
    "The assumption of association the transaction is any transactions recorded between offer received time and offer end time are these offer related transactions. All the transactions outside the time range of an offer will be considered as non-offer related transactions.\n",
    "\n",
    "The offer start time is defined by offer received time. The offer end time is defined by two variables. One is offer completed time, while another is offer end time, which is calculated by offer received time plus the duration of that offer. The shopping behaviors may differ based on differ offer types. The additional assumptions per offer types are showing below:\n",
    "\n",
    "1. For the discount offers. The customers may need to complete certain actions to active the offers. Therefore, the transactoins within the offer activate time range may be offer related. Beased on this assumption, when a customer finished the offer, the offer end time equals the offer complete time. If the customer didn't complete the offer, the offer end time equals to the generated offer end time.\n",
    "\n",
    "2. For the bogo offers. This type of offer activate immediately when the customers meet the criteria. Don't need to previous actions. The offer end time is the offer completed time.\n",
    "\n",
    "\n",
    "When a customer got the same offer multiple times and the time ranges have overlap. The offer time range will be combined. The offer recevied time is the first offer received time while the offer end time  "
   ]
  },
  {
   "cell_type": "code",
   "execution_count": 309,
   "metadata": {
    "scrolled": true
   },
   "outputs": [
    {
     "data": {
      "text/plain": [
       "array(['bogo', 'discount', 'informational', nan], dtype=object)"
      ]
     },
     "execution_count": 309,
     "metadata": {},
     "output_type": "execute_result"
    }
   ],
   "source": [
    "transcript_offer_df[\"offer_type\"].unique()"
   ]
  },
  {
   "cell_type": "code",
   "execution_count": 310,
   "metadata": {},
   "outputs": [],
   "source": [
    "def get_offer_df(offer_type):\n",
    "    \"\"\"\n",
    "    Split the transcript data by offer type.\n",
    "    \n",
    "    Args:\n",
    "        offer_type(str): the type of the offers need to get from the transcript_offer_df dataframe\n",
    "    \n",
    "    Returns:\n",
    "        df(DataFrame): a dataframe contains all the data by offer type from transcript_offer_df\n",
    "    \"\"\"\n",
    "    df = transcript_offer_df[transcript_offer_df[\"offer_type\"] == offer_type]\n",
    "    return df"
   ]
  },
  {
   "cell_type": "code",
   "execution_count": 311,
   "metadata": {},
   "outputs": [],
   "source": [
    "def get_offer_event_df(df, offer_event):\n",
    "    \"\"\"\n",
    "    Split the DataFrame by transcript event and define the offer start time.\n",
    "    \n",
    "    Args:\n",
    "        df(DataFrame): the dataframe needs to be split by the offer event\n",
    "        offer_event(str): the event received time of the offer\n",
    "    \n",
    "    Returns:\n",
    "        df(DataFrame): a dataframe contains all the data by offer type when event equals to offer_event\n",
    "    \"\"\"\n",
    "    df = df[df[\"event\"] == offer_event]\n",
    "    return df"
   ]
  },
  {
   "cell_type": "code",
   "execution_count": 312,
   "metadata": {},
   "outputs": [],
   "source": [
    "def get_offer_end_time(df):\n",
    "    \"\"\"\n",
    "    Get the offer end time by the equation below:\n",
    "        offer_end_time = offer_start_time + offer_duration\n",
    "    \n",
    "    Args:\n",
    "        df(DataFrame): the dataframe needs to be split by the offer event\n",
    "        offer_event(str): the event received time of the offer\n",
    "    \n",
    "    Returns:\n",
    "        offer_end_time: a Series contains all the data by offer type when event equals to offer_event\n",
    "    \"\"\"\n",
    "    offer_end_time = df.loc[:, [\"time\", \"duration\"]].sum(axis = 1)\n",
    "    return offer_end_time"
   ]
  },
  {
   "cell_type": "code",
   "execution_count": 313,
   "metadata": {},
   "outputs": [],
   "source": [
    "def rename_columns(df, col_name, new_col_name):\n",
    "    \"\"\"\n",
    "    Rename columns in the Dataframe\n",
    "    \n",
    "    Args:\n",
    "        df(DataFrame): the dataframe has columns need to rename\n",
    "        col_name(str): the current column name in the dataframe\n",
    "        new_col_name(str): the new column name\n",
    "    \n",
    "    Returns:\n",
    "        df(DataFrame): a dataframe contains all the data by offer type when event equals to offer_event\n",
    "    \"\"\"\n",
    "    df = df.rename(columns={col_name:new_col_name})\n",
    "    return df"
   ]
  },
  {
   "cell_type": "code",
   "execution_count": 314,
   "metadata": {},
   "outputs": [],
   "source": [
    "def select_columns(df, columns):\n",
    "    \"\"\"\n",
    "    Only keep the columns that are need for further process\n",
    "    \n",
    "    Args:\n",
    "        df(DataFrame): the dataframe contains all the columns\n",
    "        columns(list): the list of columns need to be kept in the future\n",
    "        \n",
    "    Returns:\n",
    "        df(DataFrame): a dataframe only contains columns need for the further process\n",
    "    \"\"\"\n",
    "\n",
    "    df = df[columns]\n",
    "    return df"
   ]
  },
  {
   "cell_type": "code",
   "execution_count": 315,
   "metadata": {},
   "outputs": [],
   "source": [
    "def transcript_offer_df_transform(offer_type):\n",
    "    \"\"\"\n",
    "    Transform transcript dataframe to sub set data frames per offer type. Create offer end time by using the equation:\n",
    "    offer_end_time = offer_received_time + duration* 24\n",
    "    \n",
    "    Arg:\n",
    "        offer_type(str): the type of the offers need to get from the transcript_offer_df dataframe\n",
    "        \n",
    "    Returns:\n",
    "        transcript_received_df (DataFrame): a dataframe of the offer type contains portfolio_id, customer_id, offer_name,\\\n",
    "        offer_start_time(renamed from the offer_received_time), and offer_end_time\n",
    "        transcript_completed_df (DataFrame): a dataframe of the offer type contains portfolio_id, customer_id, offer_name,\\\n",
    "        offer_complete_time\n",
    "        \n",
    "    \"\"\"\n",
    "    \n",
    "    #split the transcript dataframe by offer type\n",
    "    transcript_offer_df = get_offer_df(offer_type)\n",
    "    \n",
    "    #get offer start time\n",
    "    transcript_start_df = get_offer_event_df(transcript_offer_df, \"offer received\")\n",
    "    \n",
    "    #get complete time for further data creation\n",
    "    transcript_completed_df = get_offer_event_df(transcript_offer_df, \"offer completed\")\n",
    "    \n",
    "    #get offer end time\n",
    "    transcript_start_df[\"offer_end_time\"] = get_offer_end_time(transcript_start_df)\n",
    "    \n",
    "    #rename columns\n",
    "    transcript_received_df = rename_columns(transcript_start_df, \"time\", \"offer_start_time\")\n",
    "    transcript_completed_df = rename_columns(transcript_completed_df, \"time\", \"offer_completed_time\")\n",
    "    \n",
    "    #remove unused columns\n",
    "    received_columns = [\"customer_id\", \"portfolio_id\", \"offer_name\", \"offer_start_time\", \"offer_end_time\"]\n",
    "    completed_columns = [\"customer_id\", \"portfolio_id\", \"offer_name\", \"offer_completed_time\"]\n",
    "    \n",
    "    transcript_received_df = select_columns(transcript_received_df, received_columns)\n",
    "    transcript_completed_df = select_columns(transcript_completed_df, completed_columns)\n",
    "    \n",
    "    return transcript_received_df, transcript_completed_df"
   ]
  },
  {
   "cell_type": "code",
   "execution_count": 316,
   "metadata": {},
   "outputs": [],
   "source": [
    "transcript_bogo_received_df, transcript_bogo_completed_df = transcript_offer_df_transform(\"bogo\")"
   ]
  },
  {
   "cell_type": "code",
   "execution_count": 317,
   "metadata": {},
   "outputs": [],
   "source": [
    "transcript_disc_received_df, transcript_disc_completed_df = transcript_offer_df_transform(\"discount\")"
   ]
  },
  {
   "cell_type": "code",
   "execution_count": 318,
   "metadata": {},
   "outputs": [],
   "source": [
    "def create_customer_offer_combo_key(df):\n",
    "    \"\"\"\n",
    "    Create a key by combining customer_id and offer_name\n",
    "    \n",
    "    Arg:\n",
    "        df(DataFrame): a dataframe contains customer_id and offer_name\n",
    "        \n",
    "    Return:\n",
    "        df (DataFrame): a dataframe contains customer_offer_combo column\n",
    "    \"\"\"\n",
    "    \n",
    "    df[\"customer_offer_combo\"] = df[['customer_id', 'offer_name']].agg('^'.join, axis=1)\n",
    "    \n",
    "    return df"
   ]
  },
  {
   "cell_type": "code",
   "execution_count": 319,
   "metadata": {},
   "outputs": [],
   "source": [
    "def get_cusomer_per_offer_times(df):\n",
    "    \"\"\"\n",
    "    Get how many times a customer get the same offer\n",
    "    \n",
    "    Arg:\n",
    "        df(DataFrame): a dataframe contains offer received time per customer\n",
    "        \n",
    "    Returns:\n",
    "        trans_offers_times_df (DataFrame): a dataframe contains portfolio_id, customer_id, offer_name,\\\n",
    "        the how many times a customer get the same offer\n",
    "    \"\"\"\n",
    "    \n",
    "    #get how many times a customer get the same offer\n",
    "    df = df.groupby([\"customer_id\", \"offer_name\", \"customer_offer_combo\"])[\"portfolio_id\"].size().reset_index()\n",
    "    \n",
    "    #rename agg column\n",
    "    df = df.rename(columns={\"portfolio_id\":\"get_offer_times\"})\n",
    "    \n",
    "    return df\n",
    "    "
   ]
  },
  {
   "cell_type": "code",
   "execution_count": 320,
   "metadata": {},
   "outputs": [],
   "source": [
    "def split_df_by_offer_times(size_df, offer_df):\n",
    "    \"\"\"\n",
    "    Split the offer_df by the get_offer_times in the size_df into two groups. \n",
    "    One group is get_offer_time equals to 1 and another group is get-offer_times greater than 1\n",
    "    \n",
    "    Args:\n",
    "        size_df[DataFrame]: a dataframe contains customer_offer_combo and how many times the customer get the offer\n",
    "        offer_df(DataFrame): a dataframe contains the offer related data\n",
    "    \n",
    "    Returns:\n",
    "        trans_offers_1t_df(DataFrame): the offer dataframe where get_offer_times equals to 1\n",
    "        trans_offers_nt_df(DataFrame): the offer dataframe where get_offer_times greater than 1\n",
    "    \"\"\"\n",
    "    \n",
    "    #get the dataframe that received the same offer once\n",
    "    trans_offers_1t_list = size_df.loc[size_df[\"get_offer_times\"]==1,\"customer_offer_combo\"]\n",
    "    trans_offers_1t_df = offer_df[(offer_df[\"customer_offer_combo\"].isin(trans_offers_1t_list))]\n",
    "    \n",
    "    #get the dataframe that received the same offer multiple times\n",
    "    trans_offers_nt_list = size_df.loc[size_df[\"get_offer_times\"]>1,\"customer_offer_combo\"]\n",
    "    trans_offers_nt_df = offer_df[(offer_df[\"customer_offer_combo\"].isin(trans_offers_nt_list))]\n",
    "    \n",
    "    return trans_offers_1t_df, trans_offers_nt_df"
   ]
  },
  {
   "cell_type": "code",
   "execution_count": 321,
   "metadata": {},
   "outputs": [],
   "source": [
    "def merge_offer_events(received_df, completed_df):\n",
    "    \"\"\"\n",
    "    Join offer received data frame with offer complete data frame by customer and offer related keys\n",
    "    Find data that the offer completed time between offer start time and offer end time.\n",
    "    Or the offer didn't have completed time\n",
    "    \n",
    "    Args:\n",
    "        received_df[DataFrame]: the offer received dataframe\n",
    "        completed_df(DataFrame): the offer completed dataframe\n",
    "    \n",
    "    Returns:\n",
    "        final_df(DataFrame): the dataframe contains customer_id, portfolio_id, offer_name, customer_offer_combo,\\\n",
    "        offer_start_time, offer_end_time and offer_completed_time\n",
    "    \"\"\"\n",
    "    \n",
    "    #merge two dataframes\n",
    "    df_temp = received_df.merge(completed_df, how = \"left\",\\\n",
    "              on =[\"customer_id\", \"portfolio_id\", \"offer_name\", \"customer_offer_combo\"])\n",
    "    \n",
    "    #clean up the merged dataframe. \n",
    "    # Get the data that offer completion time between offer start time and offer end time or offer didn't complete\n",
    "    final_df = df_temp[((df_temp[\"offer_completed_time\"] >= df_temp[\"offer_start_time\"]) &\\\n",
    "                        (df_temp[\"offer_completed_time\"] <= df_temp[\"offer_end_time\"])) |\\\n",
    "                       (df_temp[\"offer_completed_time\"].isnull())]\n",
    "    \n",
    "    #drop duplicates\n",
    "    final_df = final_df.drop_duplicates()\n",
    "    \n",
    "    return final_df"
   ]
  },
  {
   "cell_type": "code",
   "execution_count": 322,
   "metadata": {},
   "outputs": [],
   "source": [
    "def get_offer_actual_end_time(df):\n",
    "    \"\"\"\n",
    "    Get the offer actual end time. \n",
    "    If the offer is completed, the offer actual end time is complete time. \n",
    "    If the offer didn't completed, the offer actual end time is the offer end time.\n",
    "    \n",
    "    Arg:\n",
    "        df(DataFrame): a dataframe contains offer, customer keys and offer time data\n",
    "        \n",
    "    Return:\n",
    "        df(DataFrame): a new dataframe contains offer, customer keys, offer start time and the offer actual end time\n",
    "    \"\"\"\n",
    "    \n",
    "    df[\"offer_actual_end_time\"] = np.where(df[\"offer_completed_time\"].isnull(), \\\n",
    "                                           df[\"offer_end_time\"], df[\"offer_completed_time\"])\n",
    "    \n",
    "    cols = [\"customer_id\", \"portfolio_id\", \"offer_name\", \"customer_offer_combo\",\\\n",
    "     \"offer_start_time\",\"offer_actual_end_time\"]\n",
    "    \n",
    "    df = select_columns(df, cols)\n",
    "    \n",
    "    df = df.groupby([\"customer_id\", \"portfolio_id\", \"offer_name\", \"customer_offer_combo\", \"offer_start_time\"])\\\n",
    "    .agg({\"offer_actual_end_time\":min}).reset_index()\n",
    "    \n",
    "    return df"
   ]
  },
  {
   "cell_type": "code",
   "execution_count": 323,
   "metadata": {},
   "outputs": [],
   "source": [
    "def find_overlap_offer_data(df):\n",
    "    \"\"\"\n",
    "    Check the next offer start time of the same offer per customer. \n",
    "    Create an overlap flag to show if the offer times are overlap.\n",
    "    \n",
    "    Arg:\n",
    "        df(DataFrame): a dataframe contains offer, customer keys and offer time data\n",
    "        \n",
    "    Return:\n",
    "        df(DataFrame): a dataframe contains an offer time overlap flag, which shows the offer times are overlap\n",
    "    \"\"\"\n",
    "    \n",
    "    #sort the data by customer_offer_combo and the offer_start_time\n",
    "    df = df.sort_values(by=[\"customer_offer_combo\", \"offer_start_time\"])\n",
    "    \n",
    "    #get next offer start time and next offer actual end time\n",
    "    df[\"next_offer_start_time\"] = df.groupby([\"customer_offer_combo\"])[\"offer_start_time\"].shift(-1)\n",
    "    df[\"next_offer_end_time\"] = df.groupby([\"customer_offer_combo\"])[\"offer_actual_end_time\"].shift(-1)\n",
    "    \n",
    "    #find the overlaped offer per customer\n",
    "    df[\"offer_time_overlap_flag\"] = df[\"next_offer_start_time\"] <= df[\"offer_actual_end_time\"]\n",
    "    \n",
    "    return df"
   ]
  },
  {
   "cell_type": "code",
   "execution_count": 324,
   "metadata": {},
   "outputs": [],
   "source": [
    "def split_overlap_offer_data(df, overlap_flag=True):\n",
    "    \"\"\"\n",
    "    Check the next offer start time of the same offer per customer. \n",
    "    Combine offer times if the time range of the offer are overlap.\n",
    "    \n",
    "    Arg:\n",
    "        df(DataFrame): a dataframe contains offer, customer keys and offer time data\n",
    "        \n",
    "    Return:\n",
    "        df(DataFrame): a new dataframe contains offer, customer keys, and combined offer time data\n",
    "    \"\"\"\n",
    "    #get these overlaped offer customer combo out\n",
    "    df = df[df[\"offer_time_overlap_flag\"]==overlap_flag]\n",
    "    \n",
    "    return df"
   ]
  },
  {
   "cell_type": "code",
   "execution_count": 325,
   "metadata": {},
   "outputs": [],
   "source": [
    "def combine_overlap_offer_time(df):\n",
    "    \"\"\"\n",
    "    Check the next offer start time of the same offer per customer. \n",
    "    Combine offer times if the time range of the offer are overlap.\n",
    "    \n",
    "    Arg:\n",
    "        df(DataFrame): a dataframe contains offer, customer keys and offer time data\n",
    "        \n",
    "    Return:\n",
    "        df(DataFrame): a new dataframe contains offer, customer keys, and combined offer time data\n",
    "    \"\"\"\n",
    "    \n",
    "    #aggregate the overlap time range per customer_offer_combo\n",
    "    df = df.groupby([\"customer_id\", \"portfolio_id\", \"offer_name\", \"customer_offer_combo\"])\\\n",
    "    .agg({\"offer_start_time\":min, \"next_offer_end_time\":max}).reset_index()\n",
    "    \n",
    "    df = df.rename(columns={\"next_offer_end_time\":\"offer_actual_end_time\"})\n",
    "    return df"
   ]
  },
  {
   "cell_type": "code",
   "execution_count": 326,
   "metadata": {},
   "outputs": [],
   "source": [
    "def remove_overlap_offer(offer_df, overlap_df):\n",
    "    \"\"\"\n",
    "    Remove the overlap offers from the offer_df to avoid duplications in the offer_df.\n",
    "    \n",
    "    Arg:\n",
    "        offer_df(DataFrame): a dataframe contains offer, customer keys and offer time data\n",
    "        overlap_df(DataFrame): \n",
    "        \n",
    "    Return:\n",
    "        df(DataFrame): a new dataframe contains offer, customer keys, and combined offer time data\n",
    "    \"\"\"\n",
    "    \n",
    "    removed_df = overlap_df[[\"customer_offer_combo\", \"next_offer_start_time\"]]\n",
    "    \n",
    "    df = offer_df.merge(removed_df, how=\"left\",left_on =[\"customer_offer_combo\", \"offer_start_time\"],\\\n",
    "         right_on=[\"customer_offer_combo\", \"next_offer_start_time\"])\n",
    "    \n",
    "    df = df[df[\"next_offer_start_time_y\"].isnull()]\n",
    "    \n",
    "    return df"
   ]
  },
  {
   "cell_type": "code",
   "execution_count": 327,
   "metadata": {},
   "outputs": [],
   "source": [
    "def combine_offer_df(df1, df2):\n",
    "    \"\"\"\n",
    "    Combine splited dfs and build a new dataframe\n",
    "    \n",
    "    Arg:\n",
    "        df1(DataFrame): the offers dataframe 1\n",
    "        df2(DataFrame): the offers dataframe 2\n",
    "        \n",
    "    Return:\n",
    "        df(DataFrame): a new dataframe contains cleaned data\n",
    "    \"\"\"\n",
    "    \n",
    "    df = pd.concat([df1, df2])\n",
    "    \n",
    "    return df"
   ]
  },
  {
   "cell_type": "code",
   "execution_count": 328,
   "metadata": {},
   "outputs": [],
   "source": [
    "def offer_df_transform(received_df, completed_df):\n",
    "    \"\"\"\n",
    "    Clean and transform offer related data\n",
    "    \n",
    "    Arg:\n",
    "        received_df[DataFrame]: the offer received dataframe\n",
    "        completed_df(DataFrame): the offer completed dataframe\n",
    "    \n",
    "    Return:\n",
    "        trans_offer_full_df(DataFrame): a cleaned dataframe contains all offer related data \n",
    "        without duplicates and time range overlap\n",
    "    \n",
    "    \"\"\"\n",
    "    #create the combo key in dataframes\n",
    "    offer_received_df = create_customer_offer_combo_key(received_df)\n",
    "    offer_completed_df = create_customer_offer_combo_key(completed_df)\n",
    "    \n",
    "    #how many times a customer get the same offer\n",
    "    size_df = get_cusomer_per_offer_times(offer_received_df)\n",
    "    \n",
    "    #split the data by getting offer 1 time and getting offer multiple times\n",
    "    trans_offers_1t_df, trans_offers_nt_df = split_df_by_offer_times(size_df, offer_received_df)\n",
    "    \n",
    "    #merge received_df and completed_df\n",
    "    trans_offers_1t_merged_df = merge_offer_events(trans_offers_1t_df, offer_completed_df)\n",
    "    trans_offers_nt_merged_df = merge_offer_events(trans_offers_nt_df, offer_completed_df)\n",
    "    \n",
    "    #get actual offer end time\n",
    "    trans_offers_1t_merged_df = get_offer_actual_end_time(trans_offers_1t_merged_df)\n",
    "    trans_offers_nt_merged_df = get_offer_actual_end_time(trans_offers_nt_merged_df)\n",
    "    \n",
    "    #check if the offers have time overlap\n",
    "    trans_offers_nt_merged_temp_df = find_overlap_offer_data(trans_offers_nt_merged_df)\n",
    "    \n",
    "    #keep the offer customer combo doesn't overlap\n",
    "    trans_offers_nt_merged_temp_df = split_overlap_offer_data(trans_offers_nt_merged_temp_df, overlap_flag=False)\n",
    "\n",
    "    #split the offers have time overlap\n",
    "    trans_offers_nt_merged_overlap_df = split_overlap_offer_data(trans_offers_nt_merged_temp_df, overlap_flag=True)\n",
    "    \n",
    "    #remove offers have time overlap from the offer dataframe\n",
    "    trans_offers_nt_merged_temp_df = remove_overlap_offer(trans_offers_nt_merged_temp_df,\\\n",
    "                                                          trans_offers_nt_merged_overlap_df)\n",
    "    \n",
    "    #combine offers have time overlap\n",
    "    trans_offers_nt_merged_overlap_df = combine_overlap_offer_time(trans_offers_nt_merged_overlap_df)\n",
    "    \n",
    "    #select columns\n",
    "    col_nt = [\"customer_id\", \"portfolio_id\", \"offer_name\", \"customer_offer_combo\",\\\n",
    "              \"offer_start_time\", \"offer_actual_end_time\"]\n",
    "    \n",
    "    trans_offers_nt_merged_temp_df = select_columns(trans_offers_nt_merged_temp_df, col_nt)\n",
    "    trans_offers_nt_merged_overlap_df = select_columns(trans_offers_nt_merged_overlap_df, col_nt)\n",
    "    trans_offers_1t_merged_df = select_columns(trans_offers_1t_merged_df, col_nt)\n",
    "    \n",
    "    #combine dataframes\n",
    "    trans_offers_nt_merged_df = combine_offer_df(trans_offers_nt_merged_df, trans_offers_nt_merged_overlap_df)\n",
    "    trans_offer_full_df = combine_offer_df(trans_offers_nt_merged_df, trans_offers_1t_merged_df)\n",
    "    \n",
    "    return trans_offer_full_df"
   ]
  },
  {
   "cell_type": "code",
   "execution_count": 329,
   "metadata": {},
   "outputs": [],
   "source": [
    "#clean bogo offer data dataframe\n",
    "trans_bogo_offers_final_df = offer_df_transform(transcript_bogo_received_df, transcript_bogo_completed_df)"
   ]
  },
  {
   "cell_type": "code",
   "execution_count": 330,
   "metadata": {},
   "outputs": [],
   "source": [
    "#clean disct offer data dataframe\n",
    "trans_disc_offers_final_df = offer_df_transform(transcript_disc_received_df, transcript_disc_completed_df)"
   ]
  },
  {
   "cell_type": "code",
   "execution_count": 331,
   "metadata": {},
   "outputs": [],
   "source": [
    "#combine offer dataframes\n",
    "trans_offers_final_df = pd.concat([trans_bogo_offers_final_df, trans_disc_offers_final_df])"
   ]
  },
  {
   "cell_type": "markdown",
   "metadata": {},
   "source": [
    "## Combine offer related transactions and non offer related transactions dataframe"
   ]
  },
  {
   "cell_type": "markdown",
   "metadata": {},
   "source": [
    "combine offer related data with transaction dataframe"
   ]
  },
  {
   "cell_type": "code",
   "execution_count": 332,
   "metadata": {},
   "outputs": [],
   "source": [
    "trans_trans_df = get_offer_event_df(transcript_offer_df, \"transaction\")"
   ]
  },
  {
   "cell_type": "code",
   "execution_count": 333,
   "metadata": {},
   "outputs": [],
   "source": [
    "trans_trans_df = rename_columns(trans_trans_df, \"time\", \"trans_time\")"
   ]
  },
  {
   "cell_type": "code",
   "execution_count": 334,
   "metadata": {},
   "outputs": [],
   "source": [
    "trans_col = [\"customer_id\", \"trans_time\", \"amount\"]"
   ]
  },
  {
   "cell_type": "code",
   "execution_count": 335,
   "metadata": {},
   "outputs": [],
   "source": [
    "trans_trans_final_df = select_columns(trans_trans_df, trans_col)"
   ]
  },
  {
   "cell_type": "code",
   "execution_count": 336,
   "metadata": {},
   "outputs": [],
   "source": [
    "trans_final_temp_df = trans_offers_final_df.merge(trans_trans_final_df, on=\"customer_id\", how=\"left\")"
   ]
  },
  {
   "cell_type": "markdown",
   "metadata": {},
   "source": [
    "get all the transaction records where transaction time is between the offer active time range"
   ]
  },
  {
   "cell_type": "code",
   "execution_count": 337,
   "metadata": {},
   "outputs": [],
   "source": [
    "trans_w_offer_cond = (trans_final_temp_df[\"trans_time\"].between(trans_final_temp_df[\"offer_start_time\"], \\\n",
    "                       trans_final_temp_df[\"offer_actual_end_time\"]))"
   ]
  },
  {
   "cell_type": "code",
   "execution_count": 338,
   "metadata": {},
   "outputs": [],
   "source": [
    "trans_final_w_offer_temp_df = trans_final_temp_df[trans_w_offer_cond]"
   ]
  },
  {
   "cell_type": "code",
   "execution_count": 339,
   "metadata": {},
   "outputs": [],
   "source": [
    "trans_final_w_offer_temp_df = trans_final_w_offer_temp_df.drop_duplicates()"
   ]
  },
  {
   "cell_type": "code",
   "execution_count": 340,
   "metadata": {},
   "outputs": [],
   "source": [
    "grouped_cols = [\"customer_id\", \"portfolio_id\", \"offer_name\", \"customer_offer_combo\", \\\n",
    "                \"offer_start_time\", \"offer_actual_end_time\"]"
   ]
  },
  {
   "cell_type": "code",
   "execution_count": 341,
   "metadata": {},
   "outputs": [],
   "source": [
    "trans_final_w_offer_temp_df = trans_final_w_offer_temp_df.groupby(grouped_cols)[\"amount\"].sum().reset_index()"
   ]
  },
  {
   "cell_type": "code",
   "execution_count": 342,
   "metadata": {},
   "outputs": [],
   "source": [
    "#get all sales per customer\n",
    "cus_total_sales_df = transcript.groupby(\"customer_id\")[\"amount\"].sum().reset_index()"
   ]
  },
  {
   "cell_type": "code",
   "execution_count": 343,
   "metadata": {},
   "outputs": [],
   "source": [
    "#get sales of offers per customer\n",
    "cus_offer_sales_df = trans_final_w_offer_temp_df.groupby(\"customer_id\")[\"amount\"].sum().reset_index()"
   ]
  },
  {
   "cell_type": "code",
   "execution_count": 344,
   "metadata": {},
   "outputs": [],
   "source": [
    "#get sales of non-offers per customers\n",
    "cus_total_non_sales_df = cus_total_sales_df.merge(cus_offer_sales_df, on = \"customer_id\", how=\"left\")\n",
    "cus_total_non_sales_df[[\"amount_x\", \"amount_y\"]] = cus_total_non_sales_df[[\"amount_x\", \"amount_y\"]].fillna(0)\n",
    "cus_total_non_sales_df[\"amount\"] = cus_total_non_sales_df[\"amount_x\"] - cus_total_non_sales_df[\"amount_y\"]"
   ]
  },
  {
   "cell_type": "code",
   "execution_count": 345,
   "metadata": {
    "scrolled": false
   },
   "outputs": [
    {
     "data": {
      "text/plain": [
       "count    17000.000000\n",
       "mean        54.082902\n",
       "std         97.046030\n",
       "min      -1003.610000\n",
       "25%          0.280000\n",
       "50%         21.595000\n",
       "75%         82.537500\n",
       "max       1158.260000\n",
       "Name: amount, dtype: float64"
      ]
     },
     "execution_count": 345,
     "metadata": {},
     "output_type": "execute_result"
    }
   ],
   "source": [
    "cus_total_non_sales_df[\"amount\"].describe()"
   ]
  },
  {
   "cell_type": "markdown",
   "metadata": {},
   "source": [
    "The transactions are counted multiple times and extraggrate the total amount of the offer related amount. Need to check if the number is tolerated."
   ]
  },
  {
   "cell_type": "code",
   "execution_count": 346,
   "metadata": {},
   "outputs": [
    {
     "data": {
      "text/plain": [
       "0.02004299220778132"
      ]
     },
     "execution_count": 346,
     "metadata": {},
     "output_type": "execute_result"
    }
   ],
   "source": [
    "abs(cus_total_non_sales_df.loc[cus_total_non_sales_df[\"amount\"] < 0, \"amount\"].sum())\\\n",
    "/cus_total_non_sales_df[\"amount_x\"].sum()"
   ]
  },
  {
   "cell_type": "markdown",
   "metadata": {},
   "source": [
    "About 2% of the total sales amount are counted multiple times. Accept the results and convert all negative values to 0."
   ]
  },
  {
   "cell_type": "code",
   "execution_count": 347,
   "metadata": {},
   "outputs": [],
   "source": [
    "cus_total_non_sales_df.drop(cus_total_non_sales_df.loc[cus_total_non_sales_df[\"amount\"]<0, ].index, inplace = True)"
   ]
  },
  {
   "cell_type": "code",
   "execution_count": 348,
   "metadata": {},
   "outputs": [],
   "source": [
    "cus_total_non_sales_df[[\"portfolio_id\", \"offer_name\"]] = \"None\", \"None\""
   ]
  },
  {
   "cell_type": "code",
   "execution_count": 349,
   "metadata": {},
   "outputs": [],
   "source": [
    "trans_wo_amount_df = cus_total_non_sales_df[[\"customer_id\", \"portfolio_id\", \"offer_name\", \"amount\"]]"
   ]
  },
  {
   "cell_type": "markdown",
   "metadata": {},
   "source": [
    "get final offer related transaction dataframe"
   ]
  },
  {
   "cell_type": "code",
   "execution_count": 350,
   "metadata": {},
   "outputs": [],
   "source": [
    "final_cols = [\"customer_id\", \"portfolio_id\", \"offer_name\", \"amount\"]"
   ]
  },
  {
   "cell_type": "code",
   "execution_count": 351,
   "metadata": {},
   "outputs": [],
   "source": [
    "trans_final_w_offer_temp_df = select_columns(trans_final_w_offer_temp_df, final_cols)"
   ]
  },
  {
   "cell_type": "code",
   "execution_count": 352,
   "metadata": {},
   "outputs": [],
   "source": [
    "trans_final_df = pd.concat([trans_final_w_offer_temp_df, trans_wo_amount_df])"
   ]
  },
  {
   "cell_type": "markdown",
   "metadata": {},
   "source": [
    "# Exploratory Analysis II"
   ]
  },
  {
   "cell_type": "code",
   "execution_count": 355,
   "metadata": {},
   "outputs": [],
   "source": [
    "cus_trans_df = trans_final_df.merge(profile, on=\"customer_id\")"
   ]
  },
  {
   "cell_type": "code",
   "execution_count": 356,
   "metadata": {
    "scrolled": true
   },
   "outputs": [
    {
     "data": {
      "text/html": [
       "<div>\n",
       "<style scoped>\n",
       "    .dataframe tbody tr th:only-of-type {\n",
       "        vertical-align: middle;\n",
       "    }\n",
       "\n",
       "    .dataframe tbody tr th {\n",
       "        vertical-align: top;\n",
       "    }\n",
       "\n",
       "    .dataframe thead th {\n",
       "        text-align: right;\n",
       "    }\n",
       "</style>\n",
       "<table border=\"1\" class=\"dataframe\">\n",
       "  <thead>\n",
       "    <tr style=\"text-align: right;\">\n",
       "      <th></th>\n",
       "      <th>gender</th>\n",
       "      <th>customer_id</th>\n",
       "    </tr>\n",
       "  </thead>\n",
       "  <tbody>\n",
       "    <tr>\n",
       "      <th>0</th>\n",
       "      <td>F</td>\n",
       "      <td>6129</td>\n",
       "    </tr>\n",
       "    <tr>\n",
       "      <th>1</th>\n",
       "      <td>M</td>\n",
       "      <td>8484</td>\n",
       "    </tr>\n",
       "    <tr>\n",
       "      <th>2</th>\n",
       "      <td>O</td>\n",
       "      <td>212</td>\n",
       "    </tr>\n",
       "  </tbody>\n",
       "</table>\n",
       "</div>"
      ],
      "text/plain": [
       "  gender  customer_id\n",
       "0      F         6129\n",
       "1      M         8484\n",
       "2      O          212"
      ]
     },
     "execution_count": 356,
     "metadata": {},
     "output_type": "execute_result"
    }
   ],
   "source": [
    "profile.groupby(\"gender\")[\"customer_id\"].size().reset_index()"
   ]
  },
  {
   "cell_type": "code",
   "execution_count": 357,
   "metadata": {},
   "outputs": [
    {
     "data": {
      "text/plain": [
       "M    0.572277\n",
       "F    0.413423\n",
       "O    0.014300\n",
       "Name: gender, dtype: float64"
      ]
     },
     "execution_count": 357,
     "metadata": {},
     "output_type": "execute_result"
    }
   ],
   "source": [
    "profile[\"gender\"].value_counts(normalize=True)"
   ]
  },
  {
   "cell_type": "code",
   "execution_count": 358,
   "metadata": {},
   "outputs": [
    {
     "data": {
      "text/plain": [
       "Text(0.5,1,'# of Customers per Gender')"
      ]
     },
     "execution_count": 358,
     "metadata": {},
     "output_type": "execute_result"
    },
    {
     "data": {
      "image/png": "[encoded data removed]",
      "text/plain": [
       "<matplotlib.figure.Figure at 0x7f9e28192320>"
      ]
     },
     "metadata": {
      "needs_background": "light"
     },
     "output_type": "display_data"
    }
   ],
   "source": [
    "g = sns.barplot(x=\"gender\"\n",
    "                , y=\"customer_id\"\n",
    "                , data = profile.groupby(\"gender\")[\"customer_id\"].size().reset_index())\n",
    "\n",
    "g.set_xlabel(\"Gender\")\n",
    "g.set_ylabel(\"# of Customer\")\n",
    "g.set_title(\"# of Customers per Gender\")"
   ]
  },
  {
   "cell_type": "code",
   "execution_count": 360,
   "metadata": {
    "scrolled": false
   },
   "outputs": [
    {
     "data": {
      "text/plain": [
       "Text(0,0.5,'Average Amount')"
      ]
     },
     "execution_count": 360,
     "metadata": {},
     "output_type": "execute_result"
    },
    {
     "data": {
      "image/png": "[encoded data removed]",
      "text/plain": [
       "<matplotlib.figure.Figure at 0x7f9e27f4bd68>"
      ]
     },
     "metadata": {
      "needs_background": "light"
     },
     "output_type": "display_data"
    }
   ],
   "source": [
    "customer_spending_per_gender = cus_trans_df.groupby(\"gender\")[\"amount\"].mean().reset_index()\n",
    "\n",
    "plt.bar(customer_spending_per_gender[\"gender\"], customer_spending_per_gender[\"amount\"],\\\n",
    "        color=('steelblue', 'lightsteelblue', 'lightsteelblue'))\n",
    "plt.xticks(customer_spending_per_gender[\"gender\"])\n",
    "\n",
    "# Add title and axis names\n",
    "plt.title('Average Amount per Gender')\n",
    "plt.xlabel('Gender')\n",
    "plt.ylabel('Average Amount')"
   ]
  },
  {
   "cell_type": "code",
   "execution_count": 363,
   "metadata": {},
   "outputs": [
    {
     "data": {
      "text/plain": [
       "<seaborn.axisgrid.FacetGrid at 0x7f9e281a0f60>"
      ]
     },
     "execution_count": 363,
     "metadata": {},
     "output_type": "execute_result"
    },
    {
     "data": {
      "image/png": "[encoded data removed]",
      "text/plain": [
       "<matplotlib.figure.Figure at 0x7f9e281c6c88>"
      ]
     },
     "metadata": {
      "needs_background": "light"
     },
     "output_type": "display_data"
    }
   ],
   "source": [
    "cus_trans_df[\"w_offer\"] = (cus_trans_df[\"offer_name\"] != \"None\")\n",
    "\n",
    "customer_spending_per_gender_offer = cus_trans_df.groupby([\"gender\", \"w_offer\"])[\"amount\"].mean().reset_index()\n",
    "\n",
    "g = sns.FacetGrid(data = customer_spending_per_gender_offer\\\n",
    "                 , col = \"w_offer\")\n",
    "clrs=['steelblue', 'lightsteelblue', 'lightsteelblue']\n",
    "g.map_dataframe(sns.barplot, \"gender\", \"amount\", palette=clrs)\n",
    "g.set_axis_labels(\"Gender\", \"Amount\")\n",
    "\n",
    "g.set_titles(col_template = \"With Offer = {col_name}\")"
   ]
  },
  {
   "cell_type": "code",
   "execution_count": 369,
   "metadata": {},
   "outputs": [],
   "source": [
    "age_labels = [\"18-28\", \"28-38\", \"38-48\", \"48-58\", \"58-68\", \"68-78\",\"78-88\", \"88-98\", \"98-108\", \"108 and above\"]\n",
    "\n",
    "cus_trans_df['age_group'] = pd.cut(cus_trans_df[\"age\"], 10, right=False, labels=age_labels)\n",
    "\n",
    "customer_spending_per_age = cus_trans_df.groupby(\"age_group\")[\"amount\"].mean().reset_index()\n",
    "\n",
    "g = sns.catplot(data = customer_spending_per_age\n",
    "           , x = \"age_group\"\n",
    "            , y = \"amount\"\n",
    "            , kind = \"bar\"\n",
    "            , palette=\"Blues\"\n",
    "           )\n",
    "\n",
    "(g.set_axis_labels(\"Age\", \"Amount\")\n",
    " .set_xticklabels(labels = customer_spending_per_age[\"age_group\"], rotation=90)\n",
    "#  .set_title(\"Average Spending per Age\")\n",
    " .fig.suptitle(\"Average Spending per Age\")\n",
    ")"
   ]
  },
  {
   "cell_type": "code",
   "execution_count": 373,
   "metadata": {},
   "outputs": [
    {
     "data": {
      "text/plain": [
       "<seaborn.axisgrid.FacetGrid at 0x7f9e28315198>"
      ]
     },
     "execution_count": 373,
     "metadata": {},
     "output_type": "execute_result"
    },
    {
     "data": {
      "image/png": "[encoded data removed]",
      "text/plain": [
       "<matplotlib.figure.Figure at 0x7f9e282f2940>"
      ]
     },
     "metadata": {
      "needs_background": "light"
     },
     "output_type": "display_data"
    }
   ],
   "source": [
    "customer_spending_per_age_offer = cus_trans_df.groupby([\"w_offer\", \"age_group\"])[\"amount\"].mean().reset_index()\n",
    "\n",
    "g = sns.FacetGrid(data = customer_spending_per_age_offer\\\n",
    "                 , col = \"w_offer\")\n",
    "# clrs=['steelblue', 'lightsteelblue', 'lightsteelblue']\n",
    "(g.map_dataframe(sns.barplot, \"age_group\", \"amount\")\n",
    ".set_axis_labels(\"Age Group\", \"Amount\")\n",
    ".set_titles(col_template = \"With Offer = {col_name}\")\n",
    ".set_xticklabels(labels = customer_spending_per_age[\"age_group\"], rotation=90))"
   ]
  },
  {
   "cell_type": "code",
   "execution_count": 377,
   "metadata": {},
   "outputs": [],
   "source": [
    "income_labels = [\"20000-50000\", \"50000-80000\", \"80000-110000\", \"110000 above\"]\n",
    "\n",
    "cus_trans_df[\"income_group\"] = pd.cut(cus_trans_df[\"income\"],\\\n",
    "                                      range(20000, 150000, 30000), right=False, labels=income_labels)\n",
    "\n",
    "cus_trans_df[\"income_group\"] = pd.Categorical(cus_trans_df[\"income_group\"], ordered=True,\n",
    "                   categories=income_labels)"
   ]
  },
  {
   "cell_type": "code",
   "execution_count": 379,
   "metadata": {
    "scrolled": true
   },
   "outputs": [
    {
     "data": {
      "text/plain": [
       "income_group\n",
       "20000-50000     14564\n",
       "50000-80000     35014\n",
       "80000-110000    11883\n",
       "110000 above     1956\n",
       "Name: customer_id, dtype: int64"
      ]
     },
     "execution_count": 379,
     "metadata": {},
     "output_type": "execute_result"
    }
   ],
   "source": [
    "cus_trans_df.groupby(\"income_group\")[\"customer_id\"].count()"
   ]
  },
  {
   "cell_type": "code",
   "execution_count": 380,
   "metadata": {},
   "outputs": [
    {
     "data": {
      "text/plain": [
       "50000-80000     0.552123\n",
       "20000-50000     0.229655\n",
       "80000-110000    0.187379\n",
       "110000 above    0.030843\n",
       "Name: income_group, dtype: float64"
      ]
     },
     "execution_count": 380,
     "metadata": {},
     "output_type": "execute_result"
    }
   ],
   "source": [
    "cus_trans_df[\"income_group\"].value_counts(normalize=True)"
   ]
  },
  {
   "cell_type": "code",
   "execution_count": 382,
   "metadata": {},
   "outputs": [
    {
     "data": {
      "text/plain": [
       "Text(0.5,0.98,'Average Spending per Income')"
      ]
     },
     "execution_count": 382,
     "metadata": {},
     "output_type": "execute_result"
    },
    {
     "data": {
      "image/png": "[encoded data removed]",
      "text/plain": [
       "<matplotlib.figure.Figure at 0x7f9e283bf7b8>"
      ]
     },
     "metadata": {
      "needs_background": "light"
     },
     "output_type": "display_data"
    }
   ],
   "source": [
    "customer_spending_per_income = cus_trans_df.groupby(\"income_group\")[\"amount\"].mean().reset_index()\n",
    "\n",
    "g = sns.catplot(data = customer_spending_per_income\n",
    "           , x = \"income_group\"\n",
    "            , y = \"amount\"\n",
    "            , kind = \"bar\"\n",
    "            , palette=\"Blues\"\n",
    "           )\n",
    "\n",
    "(g.set_axis_labels(\"Income\", \"Amount\")\n",
    " .set_xticklabels(labels = customer_spending_per_income[\"income_group\"], rotation=90)\n",
    "#  .set_title(\"Average Spending per Age\")\n",
    " .fig.suptitle(\"Average Spending per Income\")\n",
    ")"
   ]
  },
  {
   "cell_type": "code",
   "execution_count": 383,
   "metadata": {
    "scrolled": false
   },
   "outputs": [
    {
     "data": {
      "text/plain": [
       "<seaborn.axisgrid.FacetGrid at 0x7f9e283eee48>"
      ]
     },
     "execution_count": 383,
     "metadata": {},
     "output_type": "execute_result"
    },
    {
     "data": {
      "image/png": "[encoded data removed]",
      "text/plain": [
       "<matplotlib.figure.Figure at 0x7f9e283f6cc0>"
      ]
     },
     "metadata": {
      "needs_background": "light"
     },
     "output_type": "display_data"
    }
   ],
   "source": [
    "customer_spending_per_income_offer = cus_trans_df.groupby([\"w_offer\", \"income_group\"])[\"amount\"].mean().reset_index()\n",
    "\n",
    "g = sns.FacetGrid(data = customer_spending_per_income_offer\\\n",
    "                 , col = \"w_offer\")\n",
    "# clrs=['steelblue', 'lightsteelblue', 'lightsteelblue']\n",
    "(g.map_dataframe(sns.barplot, \"income_group\", \"amount\")\n",
    ".set_axis_labels(\"Income Group\", \"Amount\")\n",
    ".set_titles(col_template = \"With Offer = {col_name}\")\n",
    ".set_xticklabels(labels = customer_spending_per_income_offer[\"income_group\"], rotation=90))"
   ]
  },
  {
   "cell_type": "code",
   "execution_count": 398,
   "metadata": {},
   "outputs": [
    {
     "data": {
      "text/plain": [
       "Text(0.5,0.98,'Average Spending per Membership Days Group')"
      ]
     },
     "execution_count": 398,
     "metadata": {},
     "output_type": "execute_result"
    },
    {
     "data": {
      "image/png": "[encoded data removed]",
      "text/plain": [
       "<matplotlib.figure.Figure at 0x7f9e2846bf28>"
      ]
     },
     "metadata": {
      "needs_background": "light"
     },
     "output_type": "display_data"
    }
   ],
   "source": [
    "membership_labels = [\"6-188\", \"188-371\", \"371-553\", \"553-735\", \"735-918\", \"918-1100\",\\\n",
    "                     \"1100-1282\", \"1822-1464\", \"1464-1647\", \"1647 and above\"]\n",
    "\n",
    "cus_trans_df[\"membership_days_group\"] = pd.cut(cus_trans_df[\"days_since_member\"], 10, right=False, labels = membership_labels)\n",
    "\n",
    "customer_spending_per_member_days = cus_trans_df.groupby(\"membership_days_group\")[\"amount\"].mean().reset_index()\n",
    "\n",
    "g = sns.catplot(data = customer_spending_per_member_days\n",
    "           , x = \"membership_days_group\"\n",
    "            , y = \"amount\"\n",
    "            , kind = \"bar\"\n",
    "            , palette=\"Blues\"\n",
    "           )\n",
    "\n",
    "(g.set_axis_labels(\"Membership Days\", \"Amount\")\n",
    " .set_xticklabels(labels = customer_spending_per_member_days[\"membership_days_group\"], rotation=90)\n",
    " .fig.suptitle(\"Average Spending per Membership Days Group\")\n",
    ")"
   ]
  },
  {
   "cell_type": "code",
   "execution_count": 399,
   "metadata": {
    "scrolled": true
   },
   "outputs": [
    {
     "data": {
      "text/plain": [
       "<seaborn.axisgrid.FacetGrid at 0x7f9e2848ea90>"
      ]
     },
     "execution_count": 399,
     "metadata": {},
     "output_type": "execute_result"
    },
    {
     "data": {
      "image/png": "[encoded data removed]",
      "text/plain": [
       "<matplotlib.figure.Figure at 0x7f9e284da940>"
      ]
     },
     "metadata": {
      "needs_background": "light"
     },
     "output_type": "display_data"
    }
   ],
   "source": [
    "customer_spending_per_member_days_offer = cus_trans_df.groupby([\"w_offer\", \"membership_days_group\"])\\\n",
    "[\"amount\"].mean().reset_index()\n",
    "\n",
    "g = sns.FacetGrid(data = customer_spending_per_member_days_offer\\\n",
    "                 , col = \"w_offer\")\n",
    "\n",
    "(g.map_dataframe(sns.barplot, \"membership_days_group\", \"amount\")\n",
    ".set_axis_labels(\"Membership Days\", \"Amount\")\n",
    ".set_titles(col_template = \"With Offer = {col_name}\")\n",
    ".set_xticklabels(labels = customer_spending_per_member_days_offer[\"membership_days_group\"], rotation=90))"
   ]
  },
  {
   "cell_type": "markdown",
   "metadata": {},
   "source": [
    "## RMF Analysis"
   ]
  },
  {
   "cell_type": "code",
   "execution_count": 407,
   "metadata": {
    "scrolled": true
   },
   "outputs": [
    {
     "data": {
      "text/plain": [
       "Text(0,0.5,'Counts')"
      ]
     },
     "execution_count": 407,
     "metadata": {},
     "output_type": "execute_result"
    },
    {
     "data": {
      "image/png": "[encoded data removed]",
      "text/plain": [
       "<matplotlib.figure.Figure at 0x7f9e28671860>"
      ]
     },
     "metadata": {
      "needs_background": "light"
     },
     "output_type": "display_data"
    }
   ],
   "source": [
    "plt.hist(trans_final_df[\"amount\"], color=\"skyblue\")\n",
    "plt.xlabel(\"Amount\")\n",
    "plt.ylabel(\"Counts\")"
   ]
  },
  {
   "cell_type": "code",
   "execution_count": 224,
   "metadata": {},
   "outputs": [],
   "source": [
    "rmf_m_prep_df = trans_final_df.loc[:,[\"customer_id\", \"offer_name\", \"amount\"]]\n",
    "\n",
    "rmf_m_prep_df[\"w_offer\"] = (rmf_m_prep_df[\"offer_name\"] == \"None\").astype(int)\n",
    "\n",
    "rmf_m_df = rmf_m_prep_df.groupby(\"customer_id\").agg({\"amount\":sum, \"w_offer\":np.mean}).reset_index()"
   ]
  },
  {
   "cell_type": "code",
   "execution_count": null,
   "metadata": {},
   "outputs": [],
   "source": [
    "rmf_rf_prep_df = transcript.loc[transcript[\"amount\"]>0, [\"customer_id\", \"time\"]]"
   ]
  },
  {
   "cell_type": "code",
   "execution_count": 229,
   "metadata": {},
   "outputs": [],
   "source": [
    "rmf_f_df = rmf_rf_prep_df.groupby(\"customer_id\").agg({\"time\":pd.Series.nunique}).reset_index()\n",
    "\n",
    "rmf_f_df = rename_columns(rmf_f_df, \"time\", \"visit_times\")"
   ]
  },
  {
   "cell_type": "code",
   "execution_count": 234,
   "metadata": {},
   "outputs": [],
   "source": [
    "rmf_r_df = rmf_rf_prep_df.groupby(\"customer_id\").agg({ \"time\":max}).reset_index()\n",
    "\n",
    "rmf_r_df = rename_columns(rmf_r_df, \"time\", \"recent_visit_time\")"
   ]
  },
  {
   "cell_type": "code",
   "execution_count": null,
   "metadata": {},
   "outputs": [],
   "source": [
    "rmf_df = rmf_m_df.merge(rmf_f_df, on=\"customer_id\", how=\"left\").merge(rmf_r_df, on=\"customer_id\", how=\"left\")\n",
    "\n",
    "rmf_df[[\"visit_times\", \"recent_visit_time\"]] = rmf_df[[\"visit_times\", \"recent_visit_time\"]].fillna(0)"
   ]
  },
  {
   "cell_type": "code",
   "execution_count": 236,
   "metadata": {
    "scrolled": true
   },
   "outputs": [
    {
     "name": "stdout",
     "output_type": "stream",
     "text": [
      "      amount   w_offer  visit_times  recent_visit_time\n",
      "0.8  169.642  0.333333         12.0              696.0\n"
     ]
    }
   ],
   "source": [
    "quantiles = rmf_df.quantile(q=[0.8])"
   ]
  },
  {
   "cell_type": "code",
   "execution_count": 237,
   "metadata": {},
   "outputs": [],
   "source": [
    "rmf_df[\"R\"] = np.where(rmf_df[\"recent_visit_time\"]<=int(quantiles[\"recent_visit_time\"].values), 0, 1)\n",
    "rmf_df[\"F\"] = np.where(rmf_df[\"visit_times\"]<=int(quantiles[\"visit_times\"].values), 0, 1)\n",
    "rmf_df[\"M\"] = np.where(rmf_df[\"amount\"]<=int(quantiles[\"amount\"].values), 0, 1)"
   ]
  },
  {
   "cell_type": "code",
   "execution_count": 437,
   "metadata": {},
   "outputs": [],
   "source": [
    "rmf_matrix = rmf_df.groupby([\"R\", \"F\", \"M\"]).agg({\"customer_id\":pd.Series.nunique, \"w_offer\":np.mean}).reset_index()"
   ]
  },
  {
   "cell_type": "code",
   "execution_count": 438,
   "metadata": {},
   "outputs": [],
   "source": [
    "avg_prob_shopping_w_offer = round(rmf_matrix[\"w_offer\"].mean()*100, 2)"
   ]
  },
  {
   "cell_type": "code",
   "execution_count": 440,
   "metadata": {},
   "outputs": [],
   "source": [
    "rmf_matrix[\"% of Customers\"] = round((rmf_matrix[\"customer_id\"]/rmf_df.shape[0])*100, 2)\n",
    "\n",
    "rmf_matrix = rename_columns(rmf_matrix, \"customer_id\", \"# of Customers\")\n",
    "rmf_matrix = rename_columns(rmf_matrix, \"w_offer\", \"Probabilities Shopping with Offers\")"
   ]
  },
  {
   "cell_type": "code",
   "execution_count": 450,
   "metadata": {},
   "outputs": [],
   "source": [
    "rmf_matrix[\"Probabilities Shopping with Offers (%)\"] = round(rmf_matrix[\"Probabilities Shopping with Offers\"] * 100, 2)\n",
    "\n",
    "rmf_matrix[\"Probabilities Comparison with Average (%)\"] = round(((rmf_matrix[\"Probabilities Shopping with Offers (%)\"]\\\n",
    "                                                              - avg_prob_shopping_w_offer)/avg_prob_shopping_w_offer)*100, 2)"
   ]
  },
  {
   "cell_type": "code",
   "execution_count": 454,
   "metadata": {},
   "outputs": [],
   "source": [
    "customer_labels = [\"Best Customers\", \"High-Spending Inactive Loyal Customers\", \"High-Spending Active Customers\", \\\n",
    " \"Churned Best Customers\", \"Low-Spending Active Loyal Customers\", \"Low-Spending Inactive Loyal Customers\", \\\n",
    "\"New Customers\", \"Churned Customers\"]\n",
    "\n",
    "rmf_matrix[\"Customer Label\"] = customer_labels"
   ]
  },
  {
   "cell_type": "code",
   "execution_count": 455,
   "metadata": {},
   "outputs": [],
   "source": [
    "rmf_matrix = rmf_matrix[[\"R\", \"F\", \"M\", \"Customer Label\", \"# of Customers\", \"% of Customers\",\\\n",
    "\"Probabilities Shopping with Offers (%)\", \"Probabilities Comparison with Average (%)\"]].\\\n",
    "sort_values(by = [\"M\", \"F\", \"R\"], ascending = False)"
   ]
  },
  {
   "cell_type": "code",
   "execution_count": 459,
   "metadata": {
    "scrolled": true
   },
   "outputs": [],
   "source": [
    "# rmf_matrix.to_csv(\"Customer RMF Model.csv\")"
   ]
  },
  {
   "cell_type": "markdown",
   "metadata": {},
   "source": [
    "# Find Target Customers"
   ]
  },
  {
   "cell_type": "markdown",
   "metadata": {},
   "source": [
    "To find the target customers. We need to answer these questions:\n",
    "1. If the customer influenced by the offers\n",
    "2. If the customer wants to buy with offer. What offer type they preferrred?"
   ]
  },
  {
   "cell_type": "markdown",
   "metadata": {},
   "source": [
    "## Q1: If the customer influenced by the offers"
   ]
  },
  {
   "cell_type": "markdown",
   "metadata": {
    "scrolled": true
   },
   "source": [
    "# Need to clean the data"
   ]
  },
  {
   "cell_type": "markdown",
   "metadata": {},
   "source": [
    "### Generate the dataset of Q1"
   ]
  },
  {
   "cell_type": "code",
   "execution_count": 148,
   "metadata": {},
   "outputs": [],
   "source": [
    "trans_cus_q1_received_temp_df = transcript.loc[transcript[\"event\"] ==\"offer received\",\\\n",
    "                                               [\"portfolio_id\", \"customer_id\", \"event\"]]\n",
    "\n",
    "trans_cus_q1_completed_temp_df = transcript.loc[transcript[\"event\"] ==\"offer completed\",\\\n",
    "                                                [\"portfolio_id\", \"customer_id\", \"event\"]]"
   ]
  },
  {
   "cell_type": "code",
   "execution_count": 151,
   "metadata": {},
   "outputs": [],
   "source": [
    "trans_cus_q1_received_df = trans_cus_q1_received_temp_df.groupby([\"portfolio_id\", \"customer_id\"])\\\n",
    "[\"event\"].count().reset_index()\n",
    "\n",
    "trans_cus_q1_completed_df = trans_cus_q1_completed_temp_df.groupby([\"portfolio_id\", \"customer_id\"])\\\n",
    "[\"event\"].count().reset_index()\n",
    "\n",
    "trans_cus_q1_received_df = rename_columns(trans_cus_q1_received_df, \"event\", \"offer_received\")\n",
    "trans_cus_q1_completed_df = rename_columns(trans_cus_q1_completed_df, \"event\", \"offer_completed\")"
   ]
  },
  {
   "cell_type": "code",
   "execution_count": 159,
   "metadata": {},
   "outputs": [],
   "source": [
    "trans_cus_q1_temp_df = trans_cus_q1_received_df.merge(trans_cus_q1_completed_df,\\\n",
    "                                                   on=[\"customer_id\", \"portfolio_id\"],\\\n",
    "                                                   how=\"left\")\n",
    "\n",
    "trans_cus_q1_temp_df[\"offer_completed\"] = trans_cus_q1_temp_df[\"offer_completed\"].fillna(0)\n",
    "\n",
    "trans_cus_q1_temp_df[\"completed_rate\"] = trans_cus_q1_temp_df[\"offer_completed\"]/trans_cus_q1_temp_df[\"offer_received\"]\n",
    "\n",
    "trans_cus_q1_df = trans_final_df.merge(trans_cus_q1_temp_df[[\"customer_id\", \"portfolio_id\",\"completed_rate\"]],\\\n",
    "                                                               on = [\"customer_id\", \"portfolio_id\"],\\\n",
    "                                                               how=\"left\")\n",
    "\n",
    "trans_cus_q1_df[\"completed_rate\"] = trans_cus_q1_df[\"completed_rate\"].fillna(0) \n",
    "\n",
    "trans_cus_q1_df[\"w_offer\"] = trans_cus_q1_df[\"offer_name\"] != \"None\"\n",
    "\n",
    "trans_cus_q1_final_df = trans_cus_q1_df[[\"customer_id\", \"w_offer\", \"amount\", \"completed_rate\"]]\n",
    "\n",
    "trans_cus_q1_final_df = trans_cus_q1_final_df.groupby([\"customer_id\", \"w_offer\"]).agg({\"amount\":sum, \"completed_rate\": np.mean}).reset_index()"
   ]
  },
  {
   "cell_type": "markdown",
   "metadata": {},
   "source": [
    "### Q1: Predict a customer buys with or without offers"
   ]
  },
  {
   "cell_type": "markdown",
   "metadata": {},
   "source": [
    "Check count of the target variables and if they are balanced"
   ]
  },
  {
   "cell_type": "code",
   "execution_count": 161,
   "metadata": {
    "scrolled": true
   },
   "outputs": [
    {
     "data": {
      "text/plain": [
       "[Text(0,0.5,'Counts'), Text(0.5,0,'With Offers')]"
      ]
     },
     "execution_count": 161,
     "metadata": {},
     "output_type": "execute_result"
    },
    {
     "data": {
      "image/png": "[encoded data removed]",
      "text/plain": [
       "<matplotlib.figure.Figure at 0x7f9e27aa0ac8>"
      ]
     },
     "metadata": {
      "needs_background": "light"
     },
     "output_type": "display_data"
    }
   ],
   "source": [
    "g = sns.countplot(x=\"w_offer\", data=trans_cus_q1_final_df, palette=\"pastel\")\n",
    "g.set(xlabel=\"With Offers\",\n",
    "ylabel=\"Counts\")"
   ]
  },
  {
   "cell_type": "markdown",
   "metadata": {},
   "source": [
    "The targets are nearly balanced."
   ]
  },
  {
   "cell_type": "markdown",
   "metadata": {},
   "source": [
    "Check the correlations between independent variables."
   ]
  },
  {
   "cell_type": "code",
   "execution_count": 162,
   "metadata": {
    "scrolled": true
   },
   "outputs": [
    {
     "data": {
      "text/html": [
       "<div>\n",
       "<style scoped>\n",
       "    .dataframe tbody tr th:only-of-type {\n",
       "        vertical-align: middle;\n",
       "    }\n",
       "\n",
       "    .dataframe tbody tr th {\n",
       "        vertical-align: top;\n",
       "    }\n",
       "\n",
       "    .dataframe thead th {\n",
       "        text-align: right;\n",
       "    }\n",
       "</style>\n",
       "<table border=\"1\" class=\"dataframe\">\n",
       "  <thead>\n",
       "    <tr style=\"text-align: right;\">\n",
       "      <th></th>\n",
       "      <th>amount</th>\n",
       "      <th>completed_rate</th>\n",
       "    </tr>\n",
       "  </thead>\n",
       "  <tbody>\n",
       "    <tr>\n",
       "      <th>amount</th>\n",
       "      <td>1.000000</td>\n",
       "      <td>0.084642</td>\n",
       "    </tr>\n",
       "    <tr>\n",
       "      <th>completed_rate</th>\n",
       "      <td>0.084642</td>\n",
       "      <td>1.000000</td>\n",
       "    </tr>\n",
       "  </tbody>\n",
       "</table>\n",
       "</div>"
      ],
      "text/plain": [
       "                  amount  completed_rate\n",
       "amount          1.000000        0.084642\n",
       "completed_rate  0.084642        1.000000"
      ]
     },
     "execution_count": 162,
     "metadata": {},
     "output_type": "execute_result"
    }
   ],
   "source": [
    "trans_cus_q1_final_df[[\"amount\", \"completed_rate\"]].corr()"
   ]
  },
  {
   "cell_type": "markdown",
   "metadata": {},
   "source": [
    "Independents variables are not correlated with each other."
   ]
  },
  {
   "cell_type": "markdown",
   "metadata": {},
   "source": [
    "check outliers in the dataset"
   ]
  },
  {
   "cell_type": "code",
   "execution_count": 163,
   "metadata": {},
   "outputs": [
    {
     "data": {
      "text/plain": [
       "[Text(0,0.5,'Total Spending ($)'), Text(0.5,0,'With Offers')]"
      ]
     },
     "execution_count": 163,
     "metadata": {},
     "output_type": "execute_result"
    },
    {
     "data": {
      "image/png": "[encoded data removed]",
      "text/plain": [
       "<matplotlib.figure.Figure at 0x7f9e27a87e10>"
      ]
     },
     "metadata": {
      "needs_background": "light"
     },
     "output_type": "display_data"
    }
   ],
   "source": [
    "g = sns.boxplot(\n",
    "x = \"w_offer\"\n",
    ", y = \"amount\"\n",
    ", data = trans_cus_q1_final_df\n",
    ",  palette=\"pastel\"    \n",
    ")\n",
    "g.set(xlabel=\"With Offers\", ylabel=\"Total Spending ($)\")"
   ]
  },
  {
   "cell_type": "markdown",
   "metadata": {},
   "source": [
    "There are many amount outliers for the two attributes of the target variables. The outliers will misleading the logistic regression model. Need to convert these outliers or use a model that less sensitive to the outliers like the tree models."
   ]
  },
  {
   "cell_type": "code",
   "execution_count": 164,
   "metadata": {},
   "outputs": [],
   "source": [
    "X_q1 = trans_cus_q1_final_df[[\"amount\", \"completed_rate\"]]\n",
    "y_q1 = trans_cus_q1_final_df[\"w_offer\"]"
   ]
  },
  {
   "cell_type": "code",
   "execution_count": 165,
   "metadata": {},
   "outputs": [],
   "source": [
    "SEED=123"
   ]
  },
  {
   "cell_type": "code",
   "execution_count": 166,
   "metadata": {},
   "outputs": [],
   "source": [
    "X_q1_train, X_q1_test, y_q1_train, y_q1_test = \\\n",
    "train_test_split(X_q1, y_q1, test_size=0.3, random_state=SEED)"
   ]
  },
  {
   "cell_type": "code",
   "execution_count": 167,
   "metadata": {},
   "outputs": [],
   "source": [
    "def print_metrics(actual, preds, name):\n",
    "    \n",
    "    acc_score = round(accuracy_score(actual, preds), 2)\n",
    "    precision = round(precision_score(actual, preds), 2)\n",
    "    recall = round(recall_score(actual, preds), 2)\n",
    "    f1 = round(f1_score(actual, preds), 2)\n",
    "    \n",
    "    print((\"Accuracy score for {0}: {1}\").format(name, str(acc_score)))\n",
    "    print((\"Precision score for {0}: {1}\").format(name, str(precision)))\n",
    "    print((\"Recall score for {0}: {1}\").format(name, str(recall)))\n",
    "    print((\"F1 score for {0}: {1}\").format(name, str(f1)))   "
   ]
  },
  {
   "cell_type": "markdown",
   "metadata": {},
   "source": [
    "### Logistic Regression Model"
   ]
  },
  {
   "cell_type": "code",
   "execution_count": 168,
   "metadata": {
    "scrolled": true
   },
   "outputs": [
    {
     "data": {
      "text/plain": [
       "Pipeline(steps=[('standardscaler', StandardScaler()),\n",
       "                ('logisticregression', LogisticRegression())])"
      ]
     },
     "execution_count": 168,
     "metadata": {},
     "output_type": "execute_result"
    }
   ],
   "source": [
    "scaler = StandardScaler()\n",
    "q1_logreg = LogisticRegression()\n",
    "pipeline = make_pipeline(scaler, q1_logreg)\n",
    "pipeline.fit(X_q1_train, y_q1_train)"
   ]
  },
  {
   "cell_type": "code",
   "execution_count": 169,
   "metadata": {},
   "outputs": [],
   "source": [
    "logreg = pipeline.named_steps['logisticregression']"
   ]
  },
  {
   "cell_type": "code",
   "execution_count": 170,
   "metadata": {},
   "outputs": [
    {
     "data": {
      "text/plain": [
       "(array([[-2.26648264, 15.53756771]]), array([9.94284685]))"
      ]
     },
     "execution_count": 170,
     "metadata": {},
     "output_type": "execute_result"
    }
   ],
   "source": [
    "logreg.coef_, logreg.intercept_"
   ]
  },
  {
   "cell_type": "code",
   "execution_count": 171,
   "metadata": {},
   "outputs": [
    {
     "data": {
      "text/plain": [
       "0.8895560493593684"
      ]
     },
     "execution_count": 171,
     "metadata": {},
     "output_type": "execute_result"
    }
   ],
   "source": [
    "#get the accuracy of the training set\n",
    "pipeline.score(X_q1_train, y_q1_train)"
   ]
  },
  {
   "cell_type": "code",
   "execution_count": 172,
   "metadata": {},
   "outputs": [
    {
     "data": {
      "text/plain": [
       "0.8853959849988969"
      ]
     },
     "execution_count": 172,
     "metadata": {},
     "output_type": "execute_result"
    }
   ],
   "source": [
    "#get the accuracy of the testing set\n",
    "pipeline.score(X_q1_test, y_q1_test)"
   ]
  },
  {
   "cell_type": "code",
   "execution_count": 173,
   "metadata": {
    "scrolled": true
   },
   "outputs": [],
   "source": [
    "#get the probability\n",
    "q1_predictions = pipeline.predict_proba(X_q1)"
   ]
  },
  {
   "cell_type": "code",
   "execution_count": 174,
   "metadata": {},
   "outputs": [],
   "source": [
    "q1_lg_preds = pipeline.predict(X_q1_test)"
   ]
  },
  {
   "cell_type": "code",
   "execution_count": 175,
   "metadata": {},
   "outputs": [
    {
     "name": "stdout",
     "output_type": "stream",
     "text": [
      "Accuracy score for Logistic Regression: 0.89\n",
      "Precision score for Logistic Regression: 1.0\n",
      "Recall score for Logistic Regression: 0.79\n",
      "F1 score for Logistic Regression: 0.88\n"
     ]
    }
   ],
   "source": [
    "print_metrics(y_q1_test, q1_lg_preds, \"Logistic Regression\")"
   ]
  },
  {
   "cell_type": "code",
   "execution_count": 176,
   "metadata": {},
   "outputs": [],
   "source": [
    "q1_predictions_df = pd.DataFrame(q1_predictions[:, 1], columns=[\"prob\"])"
   ]
  },
  {
   "cell_type": "code",
   "execution_count": 177,
   "metadata": {
    "scrolled": true
   },
   "outputs": [],
   "source": [
    "trans_cus_q1_res_df = pd.concat([trans_cus_q1_final_df, q1_predictions_df], axis = 1)"
   ]
  },
  {
   "cell_type": "code",
   "execution_count": 178,
   "metadata": {},
   "outputs": [
    {
     "data": {
      "text/plain": [
       "0.5324248323922902"
      ]
     },
     "execution_count": 178,
     "metadata": {},
     "output_type": "execute_result"
    }
   ],
   "source": [
    "#get the average probability of the customer will buy with an offer\n",
    "trans_cus_q1_res_df[\"prob\"].mean()"
   ]
  },
  {
   "cell_type": "code",
   "execution_count": 179,
   "metadata": {
    "scrolled": true
   },
   "outputs": [
    {
     "data": {
      "text/plain": [
       "0.7508823529411764"
      ]
     },
     "execution_count": 179,
     "metadata": {},
     "output_type": "execute_result"
    }
   ],
   "source": [
    "len(trans_cus_q1_res_df.loc[trans_cus_q1_res_df[\"prob\"]>0.5, \"customer_id\"].unique())\\\n",
    "/len(trans_cus_q1_res_df[\"customer_id\"].unique())"
   ]
  },
  {
   "cell_type": "markdown",
   "metadata": {},
   "source": [
    "About 75% customers will have more than 50% chance to buy when they have an offer."
   ]
  },
  {
   "cell_type": "markdown",
   "metadata": {},
   "source": [
    "The model shows the customers who spent more money in starbucks have less interests on the offers."
   ]
  },
  {
   "cell_type": "code",
   "execution_count": 180,
   "metadata": {
    "scrolled": true
   },
   "outputs": [
    {
     "data": {
      "text/plain": [
       "0.9984933885034419"
      ]
     },
     "execution_count": 180,
     "metadata": {},
     "output_type": "execute_result"
    }
   ],
   "source": [
    "trans_cus_q1_res_df.loc[trans_cus_q1_res_df[\"completed_rate\"]>0, \"prob\"].mean()"
   ]
  },
  {
   "cell_type": "markdown",
   "metadata": {},
   "source": [
    "For these customer who completed an offer at least once have much higher probability to buy with an offer compare to the change of all customers."
   ]
  },
  {
   "cell_type": "code",
   "execution_count": 181,
   "metadata": {},
   "outputs": [],
   "source": [
    "cus_buy_w_offer_df = trans_cus_q1_res_df.loc[trans_cus_q1_res_df[\"prob\"]>0.5, :]"
   ]
  },
  {
   "cell_type": "code",
   "execution_count": 182,
   "metadata": {},
   "outputs": [],
   "source": [
    "cus_buy_w_offer_demo_df = cus_buy_w_offer_df.merge(profile, on=\"customer_id\")[[\"customer_id\", \"gender\", \"age\",\\\n",
    "                                                     \"income\", \"days_since_member\", \"w_offer\", \\\n",
    "                                                     \"amount\", \"completed_rate\", \"prob\"]]"
   ]
  },
  {
   "cell_type": "code",
   "execution_count": 183,
   "metadata": {},
   "outputs": [
    {
     "data": {
      "text/html": [
       "<div>\n",
       "<style scoped>\n",
       "    .dataframe tbody tr th:only-of-type {\n",
       "        vertical-align: middle;\n",
       "    }\n",
       "\n",
       "    .dataframe tbody tr th {\n",
       "        vertical-align: top;\n",
       "    }\n",
       "\n",
       "    .dataframe thead th {\n",
       "        text-align: right;\n",
       "    }\n",
       "</style>\n",
       "<table border=\"1\" class=\"dataframe\">\n",
       "  <thead>\n",
       "    <tr style=\"text-align: right;\">\n",
       "      <th></th>\n",
       "      <th>customer_id</th>\n",
       "      <th>amount</th>\n",
       "      <th>completed_rate</th>\n",
       "      <th>prob</th>\n",
       "    </tr>\n",
       "    <tr>\n",
       "      <th>gender</th>\n",
       "      <th></th>\n",
       "      <th></th>\n",
       "      <th></th>\n",
       "      <th></th>\n",
       "    </tr>\n",
       "  </thead>\n",
       "  <tbody>\n",
       "    <tr>\n",
       "      <th>F</th>\n",
       "      <td>5387</td>\n",
       "      <td>70.280147</td>\n",
       "      <td>0.892737</td>\n",
       "      <td>0.999785</td>\n",
       "    </tr>\n",
       "    <tr>\n",
       "      <th>M</th>\n",
       "      <td>6411</td>\n",
       "      <td>60.209626</td>\n",
       "      <td>0.781841</td>\n",
       "      <td>0.998964</td>\n",
       "    </tr>\n",
       "    <tr>\n",
       "      <th>O</th>\n",
       "      <td>179</td>\n",
       "      <td>60.801229</td>\n",
       "      <td>0.879407</td>\n",
       "      <td>0.999731</td>\n",
       "    </tr>\n",
       "  </tbody>\n",
       "</table>\n",
       "</div>"
      ],
      "text/plain": [
       "        customer_id     amount  completed_rate      prob\n",
       "gender                                                  \n",
       "F              5387  70.280147        0.892737  0.999785\n",
       "M              6411  60.209626        0.781841  0.998964\n",
       "O               179  60.801229        0.879407  0.999731"
      ]
     },
     "execution_count": 183,
     "metadata": {},
     "output_type": "execute_result"
    }
   ],
   "source": [
    "cus_buy_w_offer_demo_df.groupby(\"gender\").agg({\"customer_id\":pd.Series.nunique,\\\n",
    "                                               \"amount\":np.mean, \"completed_rate\":np.mean, \"prob\":np.mean})"
   ]
  },
  {
   "cell_type": "code",
   "execution_count": 184,
   "metadata": {
    "scrolled": true
   },
   "outputs": [],
   "source": [
    "cus_buy_w_offer_per_gender = cus_buy_w_offer_demo_df.groupby(\"gender\").agg({\"customer_id\":pd.Series.nunique})"
   ]
  },
  {
   "cell_type": "code",
   "execution_count": 185,
   "metadata": {
    "scrolled": true
   },
   "outputs": [],
   "source": [
    "cus_count_per_gender = profile.groupby(\"gender\").agg({\"customer_id\":pd.Series.nunique})"
   ]
  },
  {
   "cell_type": "code",
   "execution_count": 186,
   "metadata": {},
   "outputs": [
    {
     "data": {
      "text/html": [
       "<div>\n",
       "<style scoped>\n",
       "    .dataframe tbody tr th:only-of-type {\n",
       "        vertical-align: middle;\n",
       "    }\n",
       "\n",
       "    .dataframe tbody tr th {\n",
       "        vertical-align: top;\n",
       "    }\n",
       "\n",
       "    .dataframe thead th {\n",
       "        text-align: right;\n",
       "    }\n",
       "</style>\n",
       "<table border=\"1\" class=\"dataframe\">\n",
       "  <thead>\n",
       "    <tr style=\"text-align: right;\">\n",
       "      <th></th>\n",
       "      <th>customer_id</th>\n",
       "    </tr>\n",
       "    <tr>\n",
       "      <th>gender</th>\n",
       "      <th></th>\n",
       "    </tr>\n",
       "  </thead>\n",
       "  <tbody>\n",
       "    <tr>\n",
       "      <th>F</th>\n",
       "      <td>87.89</td>\n",
       "    </tr>\n",
       "    <tr>\n",
       "      <th>M</th>\n",
       "      <td>75.57</td>\n",
       "    </tr>\n",
       "    <tr>\n",
       "      <th>O</th>\n",
       "      <td>84.43</td>\n",
       "    </tr>\n",
       "  </tbody>\n",
       "</table>\n",
       "</div>"
      ],
      "text/plain": [
       "        customer_id\n",
       "gender             \n",
       "F             87.89\n",
       "M             75.57\n",
       "O             84.43"
      ]
     },
     "execution_count": 186,
     "metadata": {},
     "output_type": "execute_result"
    }
   ],
   "source": [
    "round((cus_buy_w_offer_per_gender/cus_count_per_gender) * 100, 2)"
   ]
  },
  {
   "cell_type": "markdown",
   "metadata": {},
   "source": [
    "Although, the probability of buy with an offer are high across all genders. Less male customers buy with the offers compare with other two gender groups."
   ]
  },
  {
   "cell_type": "code",
   "execution_count": 187,
   "metadata": {},
   "outputs": [
    {
     "data": {
      "text/plain": [
       "(1458.8591461026244, 1403.4498823529411)"
      ]
     },
     "execution_count": 187,
     "metadata": {},
     "output_type": "execute_result"
    }
   ],
   "source": [
    "cus_buy_w_offer_demo_df[\"days_since_member\"].mean(), profile[\"days_since_member\"].mean()"
   ]
  },
  {
   "cell_type": "code",
   "execution_count": 188,
   "metadata": {},
   "outputs": [
    {
     "data": {
      "text/plain": [
       "count    12765.000000\n",
       "mean      1458.859146\n",
       "std        411.839997\n",
       "min        886.000000\n",
       "25%       1132.000000\n",
       "50%       1362.000000\n",
       "75%       1733.000000\n",
       "max       2709.000000\n",
       "Name: days_since_member, dtype: float64"
      ]
     },
     "execution_count": 188,
     "metadata": {},
     "output_type": "execute_result"
    }
   ],
   "source": [
    "cus_buy_w_offer_demo_df[\"days_since_member\"].describe()"
   ]
  },
  {
   "cell_type": "code",
   "execution_count": 189,
   "metadata": {
    "scrolled": true
   },
   "outputs": [
    {
     "data": {
      "text/plain": [
       "count    17000.000000\n",
       "mean      1403.449882\n",
       "std        411.223904\n",
       "min        886.000000\n",
       "25%       1094.000000\n",
       "50%       1244.000000\n",
       "75%       1677.000000\n",
       "max       2709.000000\n",
       "Name: days_since_member, dtype: float64"
      ]
     },
     "execution_count": 189,
     "metadata": {},
     "output_type": "execute_result"
    }
   ],
   "source": [
    "profile[\"days_since_member\"].describe()"
   ]
  },
  {
   "cell_type": "markdown",
   "metadata": {},
   "source": [
    "Customers who buy with offers have lightly longer membership days than overall customers."
   ]
  },
  {
   "cell_type": "markdown",
   "metadata": {},
   "source": [
    "### Decision Tree Model"
   ]
  },
  {
   "cell_type": "code",
   "execution_count": 190,
   "metadata": {},
   "outputs": [
    {
     "name": "stdout",
     "output_type": "stream",
     "text": [
      "Accuracy score for Decision Tree: 0.89\n",
      "Precision score for Decision Tree: 1.0\n",
      "Recall score for Decision Tree: 0.79\n",
      "F1 score for Decision Tree: 0.88\n"
     ]
    },
    {
     "data": {
      "text/plain": [
       "DecisionTreeClassifier(max_depth=4, max_features=2, min_samples_leaf=20,\n",
       "                       min_samples_split=37, random_state=123)"
      ]
     },
     "execution_count": 190,
     "metadata": {},
     "output_type": "execute_result"
    }
   ],
   "source": [
    "q1_clf_dt = DecisionTreeClassifier(random_state=SEED)\n",
    "\n",
    "q1_dt_param_dist = {\"max_depth\" :[4, 8, 10]\n",
    "                   ,\"max_features\": list(range(1, X_q1_test.shape[1]+1))\n",
    "                    , \"min_samples_split\": list(range(10, 80))\n",
    "                    , \"min_samples_leaf\": list(range(10, 30)),\n",
    "                   }\n",
    "\n",
    "q1_dt_random_search = RandomizedSearchCV(q1_clf_dt, param_distributions=q1_dt_param_dist)\n",
    "\n",
    "q1_dt_random_search.fit(X_q1_train, y_q1_train)\n",
    "\n",
    "q1_dt_model = q1_dt_random_search.best_estimator_\n",
    "\n",
    "q1_dt_preds = q1_dt_model.predict(X_q1_test)\n",
    "\n",
    "print_metrics(y_q1_test, q1_dt_preds, \"Decision Tree\")\n",
    "\n",
    "q1_dt_model"
   ]
  },
  {
   "cell_type": "markdown",
   "metadata": {},
   "source": [
    "## Q2: If the customer wants to buy with offer. What offer type they preferrred?"
   ]
  },
  {
   "cell_type": "markdown",
   "metadata": {},
   "source": [
    "Get the customers who have more then 50% probabilities to spend with offers or the customers who have completition rates greater than 0."
   ]
  },
  {
   "cell_type": "markdown",
   "metadata": {},
   "source": [
    "### Generate the dataset of Q2"
   ]
  },
  {
   "cell_type": "code",
   "execution_count": 191,
   "metadata": {
    "scrolled": false
   },
   "outputs": [
    {
     "data": {
      "text/html": [
       "<div>\n",
       "<style scoped>\n",
       "    .dataframe tbody tr th:only-of-type {\n",
       "        vertical-align: middle;\n",
       "    }\n",
       "\n",
       "    .dataframe tbody tr th {\n",
       "        vertical-align: top;\n",
       "    }\n",
       "\n",
       "    .dataframe thead th {\n",
       "        text-align: right;\n",
       "    }\n",
       "</style>\n",
       "<table border=\"1\" class=\"dataframe\">\n",
       "  <thead>\n",
       "    <tr style=\"text-align: right;\">\n",
       "      <th></th>\n",
       "      <th>customer_id</th>\n",
       "      <th>portfolio_id</th>\n",
       "      <th>offer_name</th>\n",
       "      <th>amount</th>\n",
       "      <th>completed_rate</th>\n",
       "      <th>w_offer</th>\n",
       "    </tr>\n",
       "  </thead>\n",
       "  <tbody>\n",
       "    <tr>\n",
       "      <th>0</th>\n",
       "      <td>0009655768c64bdeb2e877511632db8f</td>\n",
       "      <td>2906b810c7d4411798c6938adc9daaa5</td>\n",
       "      <td>offer_9</td>\n",
       "      <td>10.27</td>\n",
       "      <td>1.0</td>\n",
       "      <td>True</td>\n",
       "    </tr>\n",
       "    <tr>\n",
       "      <th>1</th>\n",
       "      <td>0009655768c64bdeb2e877511632db8f</td>\n",
       "      <td>f19421c1d4aa40978ebb69ca19b0e20d</td>\n",
       "      <td>offer_8</td>\n",
       "      <td>8.57</td>\n",
       "      <td>1.0</td>\n",
       "      <td>True</td>\n",
       "    </tr>\n",
       "    <tr>\n",
       "      <th>2</th>\n",
       "      <td>0009655768c64bdeb2e877511632db8f</td>\n",
       "      <td>fafdcd668e3743c1bb461111dcafc2a4</td>\n",
       "      <td>offer_6</td>\n",
       "      <td>14.11</td>\n",
       "      <td>1.0</td>\n",
       "      <td>True</td>\n",
       "    </tr>\n",
       "    <tr>\n",
       "      <th>3</th>\n",
       "      <td>0011e0d4e6b944f998e987f904e8c1e5</td>\n",
       "      <td>0b1e1539f2cc45b7b9fa7c272da2e1d7</td>\n",
       "      <td>offer_4</td>\n",
       "      <td>22.05</td>\n",
       "      <td>1.0</td>\n",
       "      <td>True</td>\n",
       "    </tr>\n",
       "    <tr>\n",
       "      <th>4</th>\n",
       "      <td>0011e0d4e6b944f998e987f904e8c1e5</td>\n",
       "      <td>2298d6c36e964ae4a3e7e9706d1fb8c2</td>\n",
       "      <td>offer_5</td>\n",
       "      <td>11.93</td>\n",
       "      <td>1.0</td>\n",
       "      <td>True</td>\n",
       "    </tr>\n",
       "  </tbody>\n",
       "</table>\n",
       "</div>"
      ],
      "text/plain": [
       "                        customer_id                      portfolio_id  \\\n",
       "0  0009655768c64bdeb2e877511632db8f  2906b810c7d4411798c6938adc9daaa5   \n",
       "1  0009655768c64bdeb2e877511632db8f  f19421c1d4aa40978ebb69ca19b0e20d   \n",
       "2  0009655768c64bdeb2e877511632db8f  fafdcd668e3743c1bb461111dcafc2a4   \n",
       "3  0011e0d4e6b944f998e987f904e8c1e5  0b1e1539f2cc45b7b9fa7c272da2e1d7   \n",
       "4  0011e0d4e6b944f998e987f904e8c1e5  2298d6c36e964ae4a3e7e9706d1fb8c2   \n",
       "\n",
       "  offer_name  amount  completed_rate  w_offer  \n",
       "0    offer_9   10.27             1.0     True  \n",
       "1    offer_8    8.57             1.0     True  \n",
       "2    offer_6   14.11             1.0     True  \n",
       "3    offer_4   22.05             1.0     True  \n",
       "4    offer_5   11.93             1.0     True  "
      ]
     },
     "execution_count": 191,
     "metadata": {},
     "output_type": "execute_result"
    }
   ],
   "source": [
    "trans_cus_q1_df.head()"
   ]
  },
  {
   "cell_type": "code",
   "execution_count": 192,
   "metadata": {},
   "outputs": [],
   "source": [
    "X_q2 = trans_cus_q1_df[[\"amount\", \"completed_rate\"]]"
   ]
  },
  {
   "cell_type": "code",
   "execution_count": 193,
   "metadata": {},
   "outputs": [],
   "source": [
    "q2_prediction = pipeline.predict_proba(X_q2)"
   ]
  },
  {
   "cell_type": "code",
   "execution_count": 194,
   "metadata": {},
   "outputs": [],
   "source": [
    "q2_predictions_df = pd.DataFrame(q2_prediction[:, 1], columns=[\"prob\"])"
   ]
  },
  {
   "cell_type": "code",
   "execution_count": 195,
   "metadata": {},
   "outputs": [],
   "source": [
    "trans_q2_df = pd.concat([trans_cus_q1_df, q2_predictions_df], axis = 1)"
   ]
  },
  {
   "cell_type": "code",
   "execution_count": 196,
   "metadata": {},
   "outputs": [],
   "source": [
    "#get the customers who have more than 50% chance to buy with an offer\n",
    "trans_q2_final_temp_df = trans_q2_df[trans_q2_df[\"prob\"]>0.5]"
   ]
  },
  {
   "cell_type": "code",
   "execution_count": 197,
   "metadata": {},
   "outputs": [],
   "source": [
    "trans_q2_final_temp_df = trans_q2_final_temp_df.merge(profile, on=\"customer_id\").\\\n",
    "merge(portfolio, on=[\"portfolio_id\", \"offer_name\"])"
   ]
  },
  {
   "cell_type": "code",
   "execution_count": 198,
   "metadata": {},
   "outputs": [
    {
     "data": {
      "text/plain": [
       "Index(['customer_id', 'portfolio_id', 'offer_name', 'amount', 'completed_rate',\n",
       "       'w_offer', 'prob', 'gender', 'age', 'became_member_on', 'income',\n",
       "       'customer_name', 'days_since_member', 'reward', 'difficulty',\n",
       "       'duration', 'offer_type', 'channel_web', 'channel_email',\n",
       "       'channel_mobile', 'channel_social'],\n",
       "      dtype='object')"
      ]
     },
     "execution_count": 198,
     "metadata": {},
     "output_type": "execute_result"
    }
   ],
   "source": [
    "trans_q2_final_temp_df.columns"
   ]
  },
  {
   "cell_type": "code",
   "execution_count": 199,
   "metadata": {},
   "outputs": [],
   "source": [
    "q2_cols= [\"customer_id\", \"portfolio_id\", \"gender\", \"age\", \"income\", \"days_since_member\",\\\n",
    "          \"reward\", \"difficulty\", \"duration\", \"offer_type\", \"channel_web\", \"channel_email\", \\\n",
    "         \"channel_mobile\", \"channel_social\", \"amount\", \"completed_rate\", \"w_offer\", \"prob\"]"
   ]
  },
  {
   "cell_type": "code",
   "execution_count": 200,
   "metadata": {},
   "outputs": [],
   "source": [
    "trans_q2_final_temp_df = trans_q2_final_temp_df[q2_cols]"
   ]
  },
  {
   "cell_type": "code",
   "execution_count": 201,
   "metadata": {
    "scrolled": false
   },
   "outputs": [
    {
     "data": {
      "text/html": [
       "<div>\n",
       "<style scoped>\n",
       "    .dataframe tbody tr th:only-of-type {\n",
       "        vertical-align: middle;\n",
       "    }\n",
       "\n",
       "    .dataframe tbody tr th {\n",
       "        vertical-align: top;\n",
       "    }\n",
       "\n",
       "    .dataframe thead th {\n",
       "        text-align: right;\n",
       "    }\n",
       "</style>\n",
       "<table border=\"1\" class=\"dataframe\">\n",
       "  <thead>\n",
       "    <tr style=\"text-align: right;\">\n",
       "      <th></th>\n",
       "      <th>customer_id</th>\n",
       "      <th>portfolio_id</th>\n",
       "      <th>gender</th>\n",
       "      <th>age</th>\n",
       "      <th>income</th>\n",
       "      <th>days_since_member</th>\n",
       "      <th>reward</th>\n",
       "      <th>difficulty</th>\n",
       "      <th>duration</th>\n",
       "      <th>offer_type</th>\n",
       "      <th>channel_web</th>\n",
       "      <th>channel_email</th>\n",
       "      <th>channel_mobile</th>\n",
       "      <th>channel_social</th>\n",
       "      <th>amount</th>\n",
       "      <th>completed_rate</th>\n",
       "      <th>w_offer</th>\n",
       "      <th>prob</th>\n",
       "    </tr>\n",
       "  </thead>\n",
       "  <tbody>\n",
       "    <tr>\n",
       "      <th>0</th>\n",
       "      <td>0009655768c64bdeb2e877511632db8f</td>\n",
       "      <td>2906b810c7d4411798c6938adc9daaa5</td>\n",
       "      <td>M</td>\n",
       "      <td>33</td>\n",
       "      <td>72000.0</td>\n",
       "      <td>1347</td>\n",
       "      <td>2</td>\n",
       "      <td>10</td>\n",
       "      <td>7</td>\n",
       "      <td>discount</td>\n",
       "      <td>1</td>\n",
       "      <td>1</td>\n",
       "      <td>1</td>\n",
       "      <td>0</td>\n",
       "      <td>10.27</td>\n",
       "      <td>1.0</td>\n",
       "      <td>True</td>\n",
       "      <td>1.0</td>\n",
       "    </tr>\n",
       "    <tr>\n",
       "      <th>1</th>\n",
       "      <td>0069a50874d846438e58acff5e594725</td>\n",
       "      <td>2906b810c7d4411798c6938adc9daaa5</td>\n",
       "      <td>None</td>\n",
       "      <td>118</td>\n",
       "      <td>64000.0</td>\n",
       "      <td>1700</td>\n",
       "      <td>2</td>\n",
       "      <td>10</td>\n",
       "      <td>7</td>\n",
       "      <td>discount</td>\n",
       "      <td>1</td>\n",
       "      <td>1</td>\n",
       "      <td>1</td>\n",
       "      <td>0</td>\n",
       "      <td>13.09</td>\n",
       "      <td>0.5</td>\n",
       "      <td>True</td>\n",
       "      <td>1.0</td>\n",
       "    </tr>\n",
       "    <tr>\n",
       "      <th>2</th>\n",
       "      <td>00715b6e55c3431cb56ff7307eb19675</td>\n",
       "      <td>2906b810c7d4411798c6938adc9daaa5</td>\n",
       "      <td>F</td>\n",
       "      <td>58</td>\n",
       "      <td>119000.0</td>\n",
       "      <td>1117</td>\n",
       "      <td>2</td>\n",
       "      <td>10</td>\n",
       "      <td>7</td>\n",
       "      <td>discount</td>\n",
       "      <td>1</td>\n",
       "      <td>1</td>\n",
       "      <td>1</td>\n",
       "      <td>0</td>\n",
       "      <td>21.35</td>\n",
       "      <td>1.0</td>\n",
       "      <td>True</td>\n",
       "      <td>1.0</td>\n",
       "    </tr>\n",
       "    <tr>\n",
       "      <th>3</th>\n",
       "      <td>00840a2ca5d2408e982d56544dc14ffd</td>\n",
       "      <td>2906b810c7d4411798c6938adc9daaa5</td>\n",
       "      <td>M</td>\n",
       "      <td>26</td>\n",
       "      <td>61000.0</td>\n",
       "      <td>2199</td>\n",
       "      <td>2</td>\n",
       "      <td>10</td>\n",
       "      <td>7</td>\n",
       "      <td>discount</td>\n",
       "      <td>1</td>\n",
       "      <td>1</td>\n",
       "      <td>1</td>\n",
       "      <td>0</td>\n",
       "      <td>13.25</td>\n",
       "      <td>0.5</td>\n",
       "      <td>True</td>\n",
       "      <td>1.0</td>\n",
       "    </tr>\n",
       "    <tr>\n",
       "      <th>4</th>\n",
       "      <td>00bbce6533f44ddeaf4dd32bcab55441</td>\n",
       "      <td>2906b810c7d4411798c6938adc9daaa5</td>\n",
       "      <td>M</td>\n",
       "      <td>94</td>\n",
       "      <td>50000.0</td>\n",
       "      <td>2222</td>\n",
       "      <td>2</td>\n",
       "      <td>10</td>\n",
       "      <td>7</td>\n",
       "      <td>discount</td>\n",
       "      <td>1</td>\n",
       "      <td>1</td>\n",
       "      <td>1</td>\n",
       "      <td>0</td>\n",
       "      <td>18.51</td>\n",
       "      <td>1.0</td>\n",
       "      <td>True</td>\n",
       "      <td>1.0</td>\n",
       "    </tr>\n",
       "  </tbody>\n",
       "</table>\n",
       "</div>"
      ],
      "text/plain": [
       "                        customer_id                      portfolio_id gender  \\\n",
       "0  0009655768c64bdeb2e877511632db8f  2906b810c7d4411798c6938adc9daaa5      M   \n",
       "1  0069a50874d846438e58acff5e594725  2906b810c7d4411798c6938adc9daaa5   None   \n",
       "2  00715b6e55c3431cb56ff7307eb19675  2906b810c7d4411798c6938adc9daaa5      F   \n",
       "3  00840a2ca5d2408e982d56544dc14ffd  2906b810c7d4411798c6938adc9daaa5      M   \n",
       "4  00bbce6533f44ddeaf4dd32bcab55441  2906b810c7d4411798c6938adc9daaa5      M   \n",
       "\n",
       "   age    income  days_since_member  reward  difficulty  duration offer_type  \\\n",
       "0   33   72000.0               1347       2          10         7   discount   \n",
       "1  118   64000.0               1700       2          10         7   discount   \n",
       "2   58  119000.0               1117       2          10         7   discount   \n",
       "3   26   61000.0               2199       2          10         7   discount   \n",
       "4   94   50000.0               2222       2          10         7   discount   \n",
       "\n",
       "   channel_web  channel_email  channel_mobile  channel_social  amount  \\\n",
       "0            1              1               1               0   10.27   \n",
       "1            1              1               1               0   13.09   \n",
       "2            1              1               1               0   21.35   \n",
       "3            1              1               1               0   13.25   \n",
       "4            1              1               1               0   18.51   \n",
       "\n",
       "   completed_rate  w_offer  prob  \n",
       "0             1.0     True   1.0  \n",
       "1             0.5     True   1.0  \n",
       "2             1.0     True   1.0  \n",
       "3             0.5     True   1.0  \n",
       "4             1.0     True   1.0  "
      ]
     },
     "execution_count": 201,
     "metadata": {},
     "output_type": "execute_result"
    }
   ],
   "source": [
    "trans_q2_final_temp_df.head()"
   ]
  },
  {
   "cell_type": "code",
   "execution_count": 202,
   "metadata": {},
   "outputs": [],
   "source": [
    "trans_q2_gender_df = pd.get_dummies(trans_q2_final_temp_df[[\"gender\"]])"
   ]
  },
  {
   "cell_type": "code",
   "execution_count": 203,
   "metadata": {
    "scrolled": true
   },
   "outputs": [],
   "source": [
    "trans_q2_final_temp_df = pd.concat([trans_q2_final_temp_df, trans_q2_gender_df], axis = 1)"
   ]
  },
  {
   "cell_type": "code",
   "execution_count": 204,
   "metadata": {},
   "outputs": [],
   "source": [
    "trans_q2_offer_df = pd.get_dummies(trans_q2_final_temp_df[[\"offer_type\"]], drop_first=True)"
   ]
  },
  {
   "cell_type": "code",
   "execution_count": 205,
   "metadata": {},
   "outputs": [],
   "source": [
    "trans_q2_final_temp_df = pd.concat([trans_q2_final_temp_df, trans_q2_offer_df], axis = 1)"
   ]
  },
  {
   "cell_type": "code",
   "execution_count": 206,
   "metadata": {},
   "outputs": [],
   "source": [
    "drop_category_cols = [\"gender\", \"offer_type\"]"
   ]
  },
  {
   "cell_type": "code",
   "execution_count": 207,
   "metadata": {},
   "outputs": [],
   "source": [
    "trans_q2_final_df = trans_q2_final_temp_df.drop(columns=drop_category_cols)"
   ]
  },
  {
   "cell_type": "markdown",
   "metadata": {},
   "source": [
    "### Training and Tuning"
   ]
  },
  {
   "cell_type": "code",
   "execution_count": 208,
   "metadata": {},
   "outputs": [],
   "source": [
    "# input_cols = [\"age\", \"income\", \"days_since_member\",\\\n",
    "#              \"channel_web\", \"channel_email\",\"channel_mobile\", \"channel_social\",\\\n",
    "#               \"completed_rate\", \"prob\", \"amount\", \"gender_F\", \"gender_M\", \"gender_O\"]"
   ]
  },
  {
   "cell_type": "code",
   "execution_count": 209,
   "metadata": {},
   "outputs": [],
   "source": [
    "input_cols = [\"age\", \"income\", \"days_since_member\",\\\n",
    "#              \"channel_web\", \"channel_email\",\"channel_mobile\", \"channel_social\",\\\n",
    "              \"completed_rate\", \"prob\", \"amount\", \"gender_F\", \"gender_M\", \"gender_O\"]"
   ]
  },
  {
   "cell_type": "code",
   "execution_count": 210,
   "metadata": {},
   "outputs": [],
   "source": [
    "X_q2 = trans_q2_final_df[input_cols]\n",
    "y_q2 = trans_q2_final_df[\"offer_type_discount\"]"
   ]
  },
  {
   "cell_type": "code",
   "execution_count": 211,
   "metadata": {},
   "outputs": [],
   "source": [
    "X_q2_train, X_q2_test, y_q2_train, y_q2_test = train_test_split(X_q2, y_q2, test_size=0.3, random_state=SEED)"
   ]
  },
  {
   "cell_type": "markdown",
   "metadata": {},
   "source": [
    "**Decision Tree Model**"
   ]
  },
  {
   "cell_type": "code",
   "execution_count": 212,
   "metadata": {},
   "outputs": [
    {
     "name": "stdout",
     "output_type": "stream",
     "text": [
      "Accuracy score for Decision Tree: 0.57\n",
      "Precision score for Decision Tree: 0.56\n",
      "Recall score for Decision Tree: 0.81\n",
      "F1 score for Decision Tree: 0.66\n"
     ]
    },
    {
     "data": {
      "text/plain": [
       "DecisionTreeClassifier(max_depth=8, max_features=8, min_samples_leaf=19,\n",
       "                       min_samples_split=69, random_state=123)"
      ]
     },
     "execution_count": 212,
     "metadata": {},
     "output_type": "execute_result"
    }
   ],
   "source": [
    "q2_clf_dt = DecisionTreeClassifier(random_state=SEED)\n",
    "\n",
    "q2_dt_param_dist = {\"max_depth\" :[4, 8, 10]\n",
    "                   ,\"max_features\": list(range(1, X_q2_test.shape[1]+1))\n",
    "                    , \"min_samples_split\": list(range(10, 80))\n",
    "                    , \"min_samples_leaf\": list(range(10, 30)),\n",
    "                   }\n",
    "\n",
    "dt_random_search = RandomizedSearchCV(q2_clf_dt, param_distributions=q2_dt_param_dist)\n",
    "\n",
    "dt_random_search.fit(X_q2_train, y_q2_train)\n",
    "\n",
    "q2_dt_model = dt_random_search.best_estimator_\n",
    "\n",
    "q2_dt_preds = q2_dt_model.predict(X_q2_test)\n",
    "\n",
    "print_metrics(y_q2_test, q2_dt_preds, \"Decision Tree\")\n",
    "\n",
    "q2_dt_model"
   ]
  },
  {
   "cell_type": "code",
   "execution_count": 213,
   "metadata": {},
   "outputs": [],
   "source": [
    "#feature importances\n",
    "dt_importances = pd.Series(data = q2_dt_model.feature_importances_,\\\n",
    "                            index = X_q2.columns)"
   ]
  },
  {
   "cell_type": "code",
   "execution_count": 214,
   "metadata": {
    "scrolled": true
   },
   "outputs": [
    {
     "data": {
      "text/plain": [
       "amount               0.672820\n",
       "income               0.130474\n",
       "age                  0.068672\n",
       "days_since_member    0.066077\n",
       "completed_rate       0.046224\n",
       "gender_M             0.008445\n",
       "gender_F             0.007289\n",
       "gender_O             0.000000\n",
       "prob                 0.000000\n",
       "dtype: float64"
      ]
     },
     "execution_count": 214,
     "metadata": {},
     "output_type": "execute_result"
    }
   ],
   "source": [
    "dt_importances.sort_values(ascending = False)"
   ]
  },
  {
   "cell_type": "markdown",
   "metadata": {},
   "source": [
    "**Random Forest Model**"
   ]
  },
  {
   "cell_type": "code",
   "execution_count": 215,
   "metadata": {
    "scrolled": true
   },
   "outputs": [
    {
     "name": "stdout",
     "output_type": "stream",
     "text": [
      "Accuracy score for Random Forest: 0.58\n",
      "Precision score for Random Forest: 0.57\n",
      "Recall score for Random Forest: 0.79\n",
      "F1 score for Random Forest: 0.66\n"
     ]
    },
    {
     "data": {
      "text/plain": [
       "RandomForestClassifier(bootstrap=False, criterion='entropy', max_depth=8,\n",
       "                       max_features=5, min_samples_split=8, n_estimators=36,\n",
       "                       random_state=123)"
      ]
     },
     "execution_count": 215,
     "metadata": {},
     "output_type": "execute_result"
    }
   ],
   "source": [
    "q2_clf_rf = RandomForestClassifier(random_state=SEED)\n",
    "\n",
    "# Set up the hyperparameter search\n",
    "q2_rf_param_dist = {\"max_depth\": [4, 8],\n",
    "              \"n_estimators\": list(range(10, 100)),\n",
    "              \"max_features\": list(range(1, X_q2_test.shape[1]+1)),\n",
    "              \"min_samples_split\": list(range(2, 11)),\n",
    "              \"min_samples_leaf\": list(range(1, 11)),\n",
    "              \"bootstrap\": [True, False],\n",
    "              \"criterion\": [\"gini\", \"entropy\"]}\n",
    "\n",
    "\n",
    "# Run a randomized search over the hyperparameters\n",
    "rf_random_search = RandomizedSearchCV(q2_clf_rf, param_distributions=q2_rf_param_dist)\n",
    "\n",
    "# Fit the model on the training data\n",
    "rf_random_search.fit(X_q2_train, y_q2_train)\n",
    "\n",
    "#get the best model\n",
    "rf_model = rf_random_search.best_estimator_\n",
    "\n",
    "# Make predictions on the test data\n",
    "q2_rf_preds = rf_model.predict(X_q2_test)\n",
    "\n",
    "print_metrics(y_q2_test, q2_rf_preds, 'Random Forest')\n",
    "rf_model"
   ]
  },
  {
   "cell_type": "code",
   "execution_count": 216,
   "metadata": {},
   "outputs": [],
   "source": [
    "rf_importances = pd.Series(data = rf_model.feature_importances_,\\\n",
    "                            index = X_q2.columns)"
   ]
  },
  {
   "cell_type": "code",
   "execution_count": 217,
   "metadata": {
    "scrolled": true
   },
   "outputs": [
    {
     "data": {
      "text/plain": [
       "amount               0.622725\n",
       "income               0.126467\n",
       "days_since_member    0.106068\n",
       "age                  0.074114\n",
       "completed_rate       0.042614\n",
       "gender_M             0.011859\n",
       "prob                 0.010170\n",
       "gender_F             0.005660\n",
       "gender_O             0.000323\n",
       "dtype: float64"
      ]
     },
     "execution_count": 217,
     "metadata": {},
     "output_type": "execute_result"
    }
   ],
   "source": [
    "rf_importances.sort_values(ascending = False)"
   ]
  },
  {
   "cell_type": "markdown",
   "metadata": {},
   "source": [
    "**AdaBoost Model**"
   ]
  },
  {
   "cell_type": "code",
   "execution_count": 218,
   "metadata": {
    "scrolled": true
   },
   "outputs": [
    {
     "name": "stdout",
     "output_type": "stream",
     "text": [
      "Accuracy score for adaboost: 0.57\n",
      "Precision score for adaboost: 0.56\n",
      "Recall score for adaboost: 0.84\n",
      "F1 score for adaboost: 0.67\n"
     ]
    },
    {
     "data": {
      "text/plain": [
       "AdaBoostClassifier(learning_rate=0.2, n_estimators=156, random_state=123)"
      ]
     },
     "execution_count": 218,
     "metadata": {},
     "output_type": "execute_result"
    }
   ],
   "source": [
    "q2_clf_ada = AdaBoostClassifier(random_state=SEED)\n",
    "\n",
    "# Set up the hyperparameter search\n",
    "q2_ada_param_dist = {\"n_estimators\": list(range(10, 200)),\n",
    "              \"learning_rate\":np.linspace(0.2,1,9)}\n",
    "\n",
    "\n",
    "# Run a randomized search over the hyperparameters\n",
    "ada_random_search = RandomizedSearchCV(q2_clf_ada, param_distributions=q2_ada_param_dist)\n",
    "\n",
    "# Fit the model on the training data\n",
    "ada_random_search.fit(X_q2_train, y_q2_train)\n",
    "\n",
    "#Get the best model\n",
    "ada_model = ada_random_search.best_estimator_\n",
    "\n",
    "# Make predictions on the test data\n",
    "q2_ada_preds = ada_model.predict(X_q2_test)\n",
    "\n",
    "# Return your metrics on test data\n",
    "print_metrics(y_q2_test, q2_ada_preds, 'adaboost')\n",
    "ada_model"
   ]
  },
  {
   "cell_type": "code",
   "execution_count": 219,
   "metadata": {},
   "outputs": [],
   "source": [
    "ada_importances = pd.Series(data = ada_model.feature_importances_,\\\n",
    "                            index = X_q2.columns\\\n",
    "                            )"
   ]
  },
  {
   "cell_type": "code",
   "execution_count": 220,
   "metadata": {
    "scrolled": true
   },
   "outputs": [
    {
     "data": {
      "text/plain": [
       "amount               0.583333\n",
       "income               0.147436\n",
       "days_since_member    0.096154\n",
       "age                  0.089744\n",
       "completed_rate       0.057692\n",
       "gender_F             0.025641\n",
       "gender_O             0.000000\n",
       "gender_M             0.000000\n",
       "prob                 0.000000\n",
       "dtype: float64"
      ]
     },
     "execution_count": 220,
     "metadata": {},
     "output_type": "execute_result"
    }
   ],
   "source": [
    "ada_importances.sort_values(ascending = False)"
   ]
  },
  {
   "cell_type": "markdown",
   "metadata": {
    "scrolled": true
   },
   "source": [
    "# Need to clean the data"
   ]
  },
  {
   "cell_type": "markdown",
   "metadata": {},
   "source": [
    "# Playground"
   ]
  },
  {
   "cell_type": "markdown",
   "metadata": {
    "scrolled": true
   },
   "source": [
    "# Need to clean the data"
   ]
  },
  {
   "cell_type": "markdown",
   "metadata": {},
   "source": [
    "# Tree based Prediction Model"
   ]
  },
  {
   "cell_type": "markdown",
   "metadata": {},
   "source": [
    "TODO: Normalized amount"
   ]
  },
  {
   "cell_type": "code",
   "execution_count": 248,
   "metadata": {
    "scrolled": true
   },
   "outputs": [
    {
     "data": {
      "text/html": [
       "<div>\n",
       "<style scoped>\n",
       "    .dataframe tbody tr th:only-of-type {\n",
       "        vertical-align: middle;\n",
       "    }\n",
       "\n",
       "    .dataframe tbody tr th {\n",
       "        vertical-align: top;\n",
       "    }\n",
       "\n",
       "    .dataframe thead th {\n",
       "        text-align: right;\n",
       "    }\n",
       "</style>\n",
       "<table border=\"1\" class=\"dataframe\">\n",
       "  <thead>\n",
       "    <tr style=\"text-align: right;\">\n",
       "      <th></th>\n",
       "      <th>gender</th>\n",
       "      <th>age</th>\n",
       "      <th>customer_id</th>\n",
       "      <th>became_member_on</th>\n",
       "      <th>income</th>\n",
       "      <th>customer_name</th>\n",
       "      <th>days_since_member</th>\n",
       "    </tr>\n",
       "  </thead>\n",
       "  <tbody>\n",
       "    <tr>\n",
       "      <th>0</th>\n",
       "      <td>None</td>\n",
       "      <td>118</td>\n",
       "      <td>68be06ca386d4c31939f3a4f0e3dd783</td>\n",
       "      <td>2017-02-12</td>\n",
       "      <td>64000.0</td>\n",
       "      <td>customer_0</td>\n",
       "      <td>1415</td>\n",
       "    </tr>\n",
       "    <tr>\n",
       "      <th>1</th>\n",
       "      <td>F</td>\n",
       "      <td>55</td>\n",
       "      <td>0610b486422d4921ae7d2bf64640c50b</td>\n",
       "      <td>2017-07-15</td>\n",
       "      <td>112000.0</td>\n",
       "      <td>customer_1</td>\n",
       "      <td>1262</td>\n",
       "    </tr>\n",
       "    <tr>\n",
       "      <th>2</th>\n",
       "      <td>None</td>\n",
       "      <td>118</td>\n",
       "      <td>38fe809add3b4fcf9315a9694bb96ff5</td>\n",
       "      <td>2018-07-12</td>\n",
       "      <td>64000.0</td>\n",
       "      <td>customer_2</td>\n",
       "      <td>900</td>\n",
       "    </tr>\n",
       "    <tr>\n",
       "      <th>3</th>\n",
       "      <td>F</td>\n",
       "      <td>75</td>\n",
       "      <td>78afa995795e4d85b5d9ceeca43f5fef</td>\n",
       "      <td>2017-05-09</td>\n",
       "      <td>100000.0</td>\n",
       "      <td>customer_3</td>\n",
       "      <td>1329</td>\n",
       "    </tr>\n",
       "    <tr>\n",
       "      <th>4</th>\n",
       "      <td>None</td>\n",
       "      <td>118</td>\n",
       "      <td>a03223e636434f42ac4c3df47e8bac43</td>\n",
       "      <td>2017-08-04</td>\n",
       "      <td>64000.0</td>\n",
       "      <td>customer_4</td>\n",
       "      <td>1242</td>\n",
       "    </tr>\n",
       "  </tbody>\n",
       "</table>\n",
       "</div>"
      ],
      "text/plain": [
       "  gender  age                       customer_id became_member_on    income  \\\n",
       "0   None  118  68be06ca386d4c31939f3a4f0e3dd783       2017-02-12   64000.0   \n",
       "1      F   55  0610b486422d4921ae7d2bf64640c50b       2017-07-15  112000.0   \n",
       "2   None  118  38fe809add3b4fcf9315a9694bb96ff5       2018-07-12   64000.0   \n",
       "3      F   75  78afa995795e4d85b5d9ceeca43f5fef       2017-05-09  100000.0   \n",
       "4   None  118  a03223e636434f42ac4c3df47e8bac43       2017-08-04   64000.0   \n",
       "\n",
       "  customer_name  days_since_member  \n",
       "0    customer_0               1415  \n",
       "1    customer_1               1262  \n",
       "2    customer_2                900  \n",
       "3    customer_3               1329  \n",
       "4    customer_4               1242  "
      ]
     },
     "execution_count": 248,
     "metadata": {},
     "output_type": "execute_result"
    }
   ],
   "source": [
    "profile.head()"
   ]
  },
  {
   "cell_type": "code",
   "execution_count": 249,
   "metadata": {
    "scrolled": true
   },
   "outputs": [
    {
     "ename": "NameError",
     "evalue": "name 'offer_trans_port_new_df' is not defined",
     "output_type": "error",
     "traceback": [
      "\u001b[0;31m---------------------------------------------------------------------------\u001b[0m",
      "\u001b[0;31mNameError\u001b[0m                                 Traceback (most recent call last)",
      "\u001b[0;32m<ipython-input-249-d9b612aabcee>\u001b[0m in \u001b[0;36m<module>\u001b[0;34m\u001b[0m\n\u001b[0;32m----> 1\u001b[0;31m \u001b[0moffer_trans_port_new_df\u001b[0m\u001b[0;34m.\u001b[0m\u001b[0mhead\u001b[0m\u001b[0;34m(\u001b[0m\u001b[0;34m)\u001b[0m\u001b[0;34m\u001b[0m\u001b[0;34m\u001b[0m\u001b[0m\n\u001b[0m",
      "\u001b[0;31mNameError\u001b[0m: name 'offer_trans_port_new_df' is not defined"
     ]
    }
   ],
   "source": [
    "offer_trans_port_new_df.head()"
   ]
  },
  {
   "cell_type": "code",
   "execution_count": null,
   "metadata": {},
   "outputs": [],
   "source": [
    "offer_trans_final_temp_df.head()"
   ]
  },
  {
   "cell_type": "code",
   "execution_count": null,
   "metadata": {},
   "outputs": [],
   "source": [
    "# offer_trans_port_final_df = offer_trans_port_new_df.merge(profile, on=\"customer_id\", how=\"left\")\\\n",
    "# [[\"portfolio_id\", \"offer_type\", \"duration\", \"difficulty\", \"age\", \"days_since_member\", \"gender\", \"amount\"]]"
   ]
  },
  {
   "cell_type": "code",
   "execution_count": null,
   "metadata": {},
   "outputs": [],
   "source": [
    "# offer_trans_port_final_df = offer_trans_port_new_df.merge(profile, on=\"customer_id\", how=\"left\")\\\n",
    "# [[\"offer_name\", \"offer_type\", \"channel_web\", \"channel_email\", \"channel_mobile\", \"channel_social\",\\\n",
    "#   \"age\", \"days_since_member\", \"gender\", \"amount\"]]"
   ]
  },
  {
   "cell_type": "code",
   "execution_count": null,
   "metadata": {},
   "outputs": [],
   "source": [
    "offer_trans_port_final_df = offer_trans_final_temp_df[[\"offer_name\", \"offer_type\", \\\n",
    "\"channel_web\", \"channel_email\", \"channel_mobile\", \"channel_social\",\\\n",
    "  \"age\", \"days_since_member\", \"gender\", \"amount\", \"RFMScore\"]]"
   ]
  },
  {
   "cell_type": "code",
   "execution_count": null,
   "metadata": {
    "scrolled": false
   },
   "outputs": [],
   "source": [
    "offer_trans_port_final_df.head()"
   ]
  },
  {
   "cell_type": "code",
   "execution_count": null,
   "metadata": {},
   "outputs": [],
   "source": [
    "offer_trans_port_final_df.info()"
   ]
  },
  {
   "cell_type": "code",
   "execution_count": null,
   "metadata": {
    "scrolled": false
   },
   "outputs": [],
   "source": [
    "offer_non_trans_port_new_df.head()"
   ]
  },
  {
   "cell_type": "code",
   "execution_count": null,
   "metadata": {},
   "outputs": [],
   "source": [
    "offer_non_trans_port_new_df = offer_non_trans_port_new_df.merge(FRMScore_df, how = \"left\", on = \"customer_id\")"
   ]
  },
  {
   "cell_type": "code",
   "execution_count": null,
   "metadata": {
    "scrolled": true
   },
   "outputs": [],
   "source": [
    "offer_non_trans_port_new_df.info()"
   ]
  },
  {
   "cell_type": "code",
   "execution_count": null,
   "metadata": {},
   "outputs": [],
   "source": [
    "offer_non_trans_port_new_df.drop(columns = [\"RFMScore_x\"], inplace = True)\n",
    "# offer_non_trans_port_new_df.rename(columns ={\"RFMScore_y\":\"RFMScore\"}, inplace = True)"
   ]
  },
  {
   "cell_type": "code",
   "execution_count": null,
   "metadata": {},
   "outputs": [],
   "source": [
    "offer_non_trans_port_new_df.drop(columns = [\"duration\", \"difficulty\"], inplace = True)"
   ]
  },
  {
   "cell_type": "code",
   "execution_count": null,
   "metadata": {},
   "outputs": [],
   "source": [
    "offer_non_trans_port_new_df.head()"
   ]
  },
  {
   "cell_type": "code",
   "execution_count": null,
   "metadata": {},
   "outputs": [],
   "source": [
    "offer_non_trans_port_new_df[\"offer_type\"] = \"no\"\n",
    "# offer_non_trans_port_new_df[\"duration\"] = 0\n",
    "# offer_non_trans_port_new_df[\"difficulty\"] = 0\n",
    "offer_non_trans_port_new_df[\"portfolio_id\"] = \"0\"\n",
    "offer_non_trans_port_new_df[\"offer_name\"] = \"None\"\n",
    "offer_non_trans_port_new_df[\"channel_web\"] = 0\n",
    "offer_non_trans_port_new_df[\"channel_email\"] = 0\n",
    "offer_non_trans_port_new_df[\"channel_mobile\"] = 0\n",
    "offer_non_trans_port_new_df[\"channel_social\"] = 0"
   ]
  },
  {
   "cell_type": "code",
   "execution_count": null,
   "metadata": {
    "scrolled": false
   },
   "outputs": [],
   "source": [
    "offer_non_trans_port_new_df.head()"
   ]
  },
  {
   "cell_type": "code",
   "execution_count": null,
   "metadata": {},
   "outputs": [],
   "source": [
    "# offer_non_trans_port_final_df = offer_non_trans_port_new_df[[\"portfolio_id\", \"offer_type\", \"duration\", \"difficulty\",\\\n",
    "#                                                              \"age\", \"days_since_member\", \"gender\", \"amount\"]]"
   ]
  },
  {
   "cell_type": "code",
   "execution_count": null,
   "metadata": {},
   "outputs": [],
   "source": [
    "offer_non_trans_port_final_df = offer_non_trans_port_new_df[[\"offer_name\", \"offer_type\",\"channel_web\", \"channel_email\", \"channel_mobile\", \"channel_social\",\\\n",
    "                                                             \"age\", \"days_since_member\", \"gender\", \"amount\", \"RFMScore\"]]"
   ]
  },
  {
   "cell_type": "code",
   "execution_count": null,
   "metadata": {},
   "outputs": [],
   "source": [
    "customer_offer_tree = pd.concat([offer_trans_port_final_df, offer_non_trans_port_final_df])"
   ]
  },
  {
   "cell_type": "code",
   "execution_count": null,
   "metadata": {
    "scrolled": false
   },
   "outputs": [],
   "source": [
    "customer_offer_tree.head()"
   ]
  },
  {
   "cell_type": "code",
   "execution_count": null,
   "metadata": {},
   "outputs": [],
   "source": [
    "# customer_offer_final_tree = pd.concat([customer_offer_tree, pd.get_dummies(customer_offer_tree[[\"offer_type\", \"gender\", \"duration\", \"difficulty\"]])], axis = 1)"
   ]
  },
  {
   "cell_type": "code",
   "execution_count": null,
   "metadata": {},
   "outputs": [],
   "source": [
    "customer_offer_final_tree = pd.concat([customer_offer_tree, pd.get_dummies(customer_offer_tree[[\"offer_type\", \"gender\", \"RFMScore\"]])], axis = 1)"
   ]
  },
  {
   "cell_type": "code",
   "execution_count": null,
   "metadata": {},
   "outputs": [],
   "source": [
    "# customer_offer_final_tree.drop(columns = [\"offer_type\", \"duration\", \"difficulty\", \"gender\"], inplace = True)"
   ]
  },
  {
   "cell_type": "code",
   "execution_count": null,
   "metadata": {},
   "outputs": [],
   "source": [
    "customer_offer_final_tree.drop(columns = [\"offer_type\", \"gender\", \"RFMScore\"], inplace = True)"
   ]
  },
  {
   "cell_type": "code",
   "execution_count": null,
   "metadata": {},
   "outputs": [],
   "source": [
    "# customer_offer_final_tree.loc[:, ~customer_offer_final_tree.columns.isin([\"portfolio_id\", \"age\", \"days_since_member\", \"amount\"])] = \\\n",
    "# customer_offer_final_tree.loc[:, ~customer_offer_final_tree.columns.isin([\"portfolio_id\", \"age\", \"days_since_member\", \"amount\"])].astype('bool')"
   ]
  },
  {
   "cell_type": "code",
   "execution_count": null,
   "metadata": {
    "scrolled": true
   },
   "outputs": [],
   "source": [
    "customer_offer_final_tree.head()"
   ]
  },
  {
   "cell_type": "markdown",
   "metadata": {},
   "source": [
    "## Offer Type Classification"
   ]
  },
  {
   "cell_type": "code",
   "execution_count": null,
   "metadata": {},
   "outputs": [],
   "source": [
    "y_clf = customer_offer_final_tree[\"offer_name\"]\n",
    "X_clf = customer_offer_final_tree.drop(columns = [\"offer_name\"])"
   ]
  },
  {
   "cell_type": "code",
   "execution_count": null,
   "metadata": {},
   "outputs": [],
   "source": [
    "X_clf.info()"
   ]
  },
  {
   "cell_type": "code",
   "execution_count": null,
   "metadata": {},
   "outputs": [],
   "source": [
    "SEED = 123"
   ]
  },
  {
   "cell_type": "code",
   "execution_count": null,
   "metadata": {},
   "outputs": [],
   "source": [
    "X_clf_train, X_clf_test, y_clf_train, y_clf_test = train_test_split(X_clf, y_clf, test_size=0.3, random_state=SEED)"
   ]
  },
  {
   "cell_type": "code",
   "execution_count": null,
   "metadata": {},
   "outputs": [],
   "source": [
    "dt_gini = DecisionTreeClassifier(max_depth=6, min_samples_leaf=1000, random_state=SEED)"
   ]
  },
  {
   "cell_type": "code",
   "execution_count": null,
   "metadata": {},
   "outputs": [],
   "source": [
    "dt_gini.fit(X_clf_train, y_clf_train)"
   ]
  },
  {
   "cell_type": "code",
   "execution_count": null,
   "metadata": {},
   "outputs": [],
   "source": [
    "y_gini_pred = dt_gini.predict(X_clf_test)"
   ]
  },
  {
   "cell_type": "code",
   "execution_count": null,
   "metadata": {
    "scrolled": true
   },
   "outputs": [],
   "source": [
    "accuracy_gini = accuracy_score(y_clf_test, y_gini_pred)\n",
    "print(\"Test set accuracy: {:.2f}\".format(accuracy_gini))"
   ]
  },
  {
   "cell_type": "code",
   "execution_count": null,
   "metadata": {},
   "outputs": [],
   "source": [
    "FEATURE_NAMES = X_clf_test.columns"
   ]
  },
  {
   "cell_type": "code",
   "execution_count": null,
   "metadata": {},
   "outputs": [],
   "source": [
    "CLASS_NAMES = dt_gini.classes_"
   ]
  },
  {
   "cell_type": "code",
   "execution_count": null,
   "metadata": {},
   "outputs": [],
   "source": [
    "export_graphviz(dt_gini\n",
    "                , 'gini_tree.dot'\n",
    "                , feature_names = FEATURE_NAMES\n",
    "                , class_names = CLASS_NAMES\n",
    "               )"
   ]
  },
  {
   "cell_type": "code",
   "execution_count": null,
   "metadata": {},
   "outputs": [],
   "source": [
    "! dot -Tpng gini_tree.dot -o gini_tree.png"
   ]
  },
  {
   "cell_type": "code",
   "execution_count": null,
   "metadata": {
    "scrolled": true
   },
   "outputs": [],
   "source": [
    "img = cv2.imread('gini_tree.png')\n",
    "plt.figure(figsize = (100, 20))\n",
    "plt.imshow(img)"
   ]
  },
  {
   "cell_type": "code",
   "execution_count": null,
   "metadata": {},
   "outputs": [],
   "source": [
    "gini_importances = pd.Series(data = dt_gini.feature_importances_,\\\n",
    "                            index = X_clf_train.columns\\\n",
    "                            )"
   ]
  },
  {
   "cell_type": "code",
   "execution_count": null,
   "metadata": {},
   "outputs": [],
   "source": [
    "gini_importances_sorted = gini_importances.sort_values()"
   ]
  },
  {
   "cell_type": "code",
   "execution_count": null,
   "metadata": {
    "scrolled": true
   },
   "outputs": [],
   "source": [
    "gini_importances_sorted.plot(kind='barh', color=\"lightgreen\")\n",
    "plt.title(\"Gini Tree Feature Importances\")"
   ]
  },
  {
   "cell_type": "code",
   "execution_count": null,
   "metadata": {},
   "outputs": [],
   "source": [
    "dt_entropy = DecisionTreeClassifier(max_depth=6,  min_samples_leaf=2000, criterion='entropy', random_state=SEED)"
   ]
  },
  {
   "cell_type": "code",
   "execution_count": null,
   "metadata": {},
   "outputs": [],
   "source": [
    "dt_entropy.fit(X_clf_train, y_clf_train)"
   ]
  },
  {
   "cell_type": "code",
   "execution_count": null,
   "metadata": {},
   "outputs": [],
   "source": [
    "y_entropy_pred = dt_entropy.predict(X_clf_test)"
   ]
  },
  {
   "cell_type": "code",
   "execution_count": null,
   "metadata": {
    "scrolled": true
   },
   "outputs": [],
   "source": [
    "accuracy_entropy = accuracy_score(y_clf_test, y_entropy_pred)\n",
    "print('Accuracy achieved by using entropy: {:.2f}'.format(accuracy_entropy))"
   ]
  },
  {
   "cell_type": "code",
   "execution_count": null,
   "metadata": {},
   "outputs": [],
   "source": [
    "ENTROPY_CLASS_NAMES = dt_entropy.classes_"
   ]
  },
  {
   "cell_type": "code",
   "execution_count": null,
   "metadata": {},
   "outputs": [],
   "source": [
    "export_graphviz(dt_entropy, 'entropy_tree.dot'\n",
    "                , feature_names = FEATURE_NAMES\n",
    "                , class_names = ENTROPY_CLASS_NAMES\n",
    "                , filled = True\n",
    "                , rounded = True)"
   ]
  },
  {
   "cell_type": "code",
   "execution_count": null,
   "metadata": {},
   "outputs": [],
   "source": [
    "! dot -Tpng entropy_tree.dot -o entropy_tree.png"
   ]
  },
  {
   "cell_type": "code",
   "execution_count": null,
   "metadata": {
    "scrolled": false
   },
   "outputs": [],
   "source": [
    "img2 = cv2.imread('entropy_tree.png')\n",
    "plt.figure(figsize = (20, 20))\n",
    "plt.imshow(img2)"
   ]
  },
  {
   "cell_type": "code",
   "execution_count": null,
   "metadata": {},
   "outputs": [],
   "source": [
    "entropy_importances = pd.Series(data = dt_entropy.feature_importances_,\\\n",
    "                            index = X_clf_train.columns\\\n",
    "                            )"
   ]
  },
  {
   "cell_type": "code",
   "execution_count": null,
   "metadata": {},
   "outputs": [],
   "source": [
    "entropy_importances_sorted = entropy_importances.sort_values()"
   ]
  },
  {
   "cell_type": "code",
   "execution_count": null,
   "metadata": {},
   "outputs": [],
   "source": [
    "entropy_importances_sorted.plot(kind='barh', color=\"lightblue\")\n",
    "plt.title(\"Entropy Tree Feature Importances\")"
   ]
  },
  {
   "cell_type": "markdown",
   "metadata": {},
   "source": [
    "## Random Forest Model"
   ]
  },
  {
   "cell_type": "code",
   "execution_count": null,
   "metadata": {},
   "outputs": [],
   "source": []
  },
  {
   "cell_type": "code",
   "execution_count": null,
   "metadata": {},
   "outputs": [],
   "source": [
    "X_clf_train.shape"
   ]
  },
  {
   "cell_type": "code",
   "execution_count": null,
   "metadata": {},
   "outputs": [],
   "source": [
    "rf_entropy = RandomForestClassifier(n_estimators=25, max_depth=6,\\\n",
    "                                    min_samples_leaf=2000, criterion='entropy', random_state=SEED)"
   ]
  },
  {
   "cell_type": "code",
   "execution_count": null,
   "metadata": {},
   "outputs": [],
   "source": [
    "rf_entropy.fit(X_clf_train, y_clf_train)"
   ]
  },
  {
   "cell_type": "code",
   "execution_count": null,
   "metadata": {},
   "outputs": [],
   "source": [
    "rf_y_entropy_pred = rf_entropy.predict(X_clf_test)"
   ]
  },
  {
   "cell_type": "code",
   "execution_count": null,
   "metadata": {},
   "outputs": [],
   "source": [
    "rf_accuracy_entropy = accuracy_score(y_clf_test, rf_y_entropy_pred)\n",
    "print('Accuracy achieved by using entropy: {:.2f}'.format(rf_accuracy_entropy))"
   ]
  },
  {
   "cell_type": "code",
   "execution_count": null,
   "metadata": {},
   "outputs": [],
   "source": [
    "rf_entropy_importances = pd.Series(data = rf_entropy.feature_importances_,\\\n",
    "                            index = X_clf_train.columns\\\n",
    "                            )"
   ]
  },
  {
   "cell_type": "code",
   "execution_count": null,
   "metadata": {},
   "outputs": [],
   "source": [
    "rf_entropy_importances_sorted = rf_entropy_importances.sort_values()"
   ]
  },
  {
   "cell_type": "code",
   "execution_count": null,
   "metadata": {},
   "outputs": [],
   "source": [
    "rf_entropy_importances_sorted.plot(kind='barh', color=\"coral\")\n",
    "plt.title(\"Entropy RF Feature Importances\")"
   ]
  },
  {
   "cell_type": "markdown",
   "metadata": {},
   "source": [
    "## Interpret Results"
   ]
  },
  {
   "cell_type": "code",
   "execution_count": null,
   "metadata": {},
   "outputs": [],
   "source": [
    "portfolio"
   ]
  },
  {
   "cell_type": "code",
   "execution_count": null,
   "metadata": {
    "scrolled": true
   },
   "outputs": [],
   "source": [
    "y_entropy_pred"
   ]
  },
  {
   "cell_type": "code",
   "execution_count": null,
   "metadata": {},
   "outputs": [],
   "source": [
    "entropy_pred_df = pd.DataFrame(y_entropy_pred, columns = [\"entropy_pred_offer\"])"
   ]
  },
  {
   "cell_type": "code",
   "execution_count": null,
   "metadata": {
    "scrolled": true
   },
   "outputs": [],
   "source": [
    "entropy_pred_df[\"entropy_pred_offer\"].value_counts()"
   ]
  },
  {
   "cell_type": "code",
   "execution_count": null,
   "metadata": {},
   "outputs": [],
   "source": [
    "entropy_pred_df[\"entropy_pred_offer\"].value_counts()/entropy_pred_df[\"entropy_pred_offer\"].shape[0]"
   ]
  },
  {
   "cell_type": "code",
   "execution_count": null,
   "metadata": {},
   "outputs": [],
   "source": [
    "customer_offer_tree[\"offer_type\"].value_counts()"
   ]
  },
  {
   "cell_type": "code",
   "execution_count": null,
   "metadata": {},
   "outputs": [],
   "source": [
    "customer_offer_tree[\"offer_type\"].value_counts()/customer_offer_tree[\"offer_type\"].shape[0]"
   ]
  },
  {
   "cell_type": "code",
   "execution_count": null,
   "metadata": {},
   "outputs": [],
   "source": [
    "customer_offer_final_tree.head()"
   ]
  },
  {
   "cell_type": "code",
   "execution_count": null,
   "metadata": {},
   "outputs": [],
   "source": [
    "avg_sales_by_gender_by_offer_name = offer_df.groupby([\"offer_name\", \"gender\"])[\"amount\"].mean().reset_index()"
   ]
  },
  {
   "cell_type": "code",
   "execution_count": null,
   "metadata": {
    "scrolled": true
   },
   "outputs": [],
   "source": [
    "avg_sales_by_gender_by_offer_name.head()"
   ]
  },
  {
   "cell_type": "code",
   "execution_count": null,
   "metadata": {
    "scrolled": false
   },
   "outputs": [],
   "source": [
    "g = sns.catplot(x=\"offer_name\"\n",
    ", y=\"amount\"        \n",
    ", data=avg_sales_by_gender_by_offer_name\n",
    ", kind=\"bar\"            \n",
    ", hue=\"gender\"\n",
    ", palette=palette_colors\n",
    ")\n",
    "\n",
    "g.set_axis_labels(\"Offer Name\", \"Avg Spending Amount($)\")"
   ]
  },
  {
   "cell_type": "markdown",
   "metadata": {},
   "source": [
    "The most popular offer on average is offer 4. On average, the gender of Other customers showed the most interests in this offer. The offer 4 is a discount type and displayed the offer on the web and email channel for 10 days. This offer had the highest difficulty level. The offer 3 is the least favorite offer. This is a bogo offer, which provided for 7 days and 5 rewards."
   ]
  },
  {
   "cell_type": "markdown",
   "metadata": {},
   "source": [
    "# Need to clean the data "
   ]
  }
 ],
 "metadata": {
  "kernelspec": {
   "display_name": "Python 3",
   "language": "python",
   "name": "python3"
  },
  "language_info": {
   "codemirror_mode": {
    "name": "ipython",
    "version": 3
   },
   "file_extension": ".py",
   "mimetype": "text/x-python",
   "name": "python",
   "nbconvert_exporter": "python",
   "pygments_lexer": "ipython3",
   "version": "3.6.12"
  }
 },
 "nbformat": 4,
 "nbformat_minor": 2
}
