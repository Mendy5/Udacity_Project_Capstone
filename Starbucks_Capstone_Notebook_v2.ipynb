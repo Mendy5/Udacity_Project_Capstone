{
 "cells": [
  {
   "cell_type": "markdown",
   "metadata": {},
   "source": [
    "# Starbucks Capstone Challenge\n",
    "\n",
    "### Introduction\n",
    "\n",
    "This data set contains simulated data that mimics customer behavior on the Starbucks rewards mobile app. Once every few days, Starbucks sends out an offer to users of the mobile app. An offer can be merely an advertisement for a drink or an actual offer such as a discount or BOGO (buy one get one free). Some users might not receive any offer during certain weeks. \n",
    "\n",
    "Not all users receive the same offer, and that is the challenge to solve with this data set.\n",
    "\n",
    "Your task is to combine transaction, demographic and offer data to determine which demographic groups respond best to which offer type. This data set is a simplified version of the real Starbucks app because the underlying simulator only has one product whereas Starbucks actually sells dozens of products.\n",
    "\n",
    "Every offer has a validity period before the offer expires. As an example, a BOGO offer might be valid for only 5 days. You'll see in the data set that informational offers have a validity period even though these ads are merely providing information about a product; for example, if an informational offer has 7 days of validity, you can assume the customer is feeling the influence of the offer for 7 days after receiving the advertisement.\n",
    "\n",
    "You'll be given transactional data showing user purchases made on the app including the timestamp of purchase and the amount of money spent on a purchase. This transactional data also has a record for each offer that a user receives as well as a record for when a user actually views the offer. There are also records for when a user completes an offer. \n",
    "\n",
    "Keep in mind as well that someone using the app might make a purchase through the app without having received an offer or seen an offer.\n",
    "\n",
    "### Example\n",
    "\n",
    "To give an example, a user could receive a discount offer buy 10 dollars get 2 off on Monday. The offer is valid for 10 days from receipt. If the customer accumulates at least 10 dollars in purchases during the validity period, the customer completes the offer.\n",
    "\n",
    "However, there are a few things to watch out for in this data set. Customers do not opt into the offers that they receive; in other words, a user can receive an offer, never actually view the offer, and still complete the offer. For example, a user might receive the \"buy 10 dollars get 2 dollars off offer\", but the user never opens the offer during the 10 day validity period. The customer spends 15 dollars during those ten days. There will be an offer completion record in the data set; however, the customer was not influenced by the offer because the customer never viewed the offer.\n",
    "\n",
    "### Cleaning\n",
    "\n",
    "This makes data cleaning especially important and tricky.\n",
    "\n",
    "You'll also want to take into account that some demographic groups will make purchases even if they don't receive an offer. From a business perspective, if a customer is going to make a 10 dollar purchase without an offer anyway, you wouldn't want to send a buy 10 dollars get 2 dollars off offer. You'll want to try to assess what a certain demographic group will buy when not receiving any offers.\n",
    "\n",
    "### Final Advice\n",
    "\n",
    "Because this is a capstone project, you are free to analyze the data any way you see fit. For example, you could build a machine learning model that predicts how much someone will spend based on demographics and offer type. Or you could build a model that predicts whether or not someone will respond to an offer. Or, you don't need to build a machine learning model at all. You could develop a set of heuristics that determine what offer you should send to each customer (i.e., 75 percent of women customers who were 35 years old responded to offer A vs 40 percent from the same demographic to offer B, so send offer A)."
   ]
  },
  {
   "cell_type": "markdown",
   "metadata": {},
   "source": [
    "# Data Sets\n",
    "\n",
    "The data is contained in three files:\n",
    "\n",
    "* portfolio.json - containing offer ids and meta data about each offer (duration, type, etc.)\n",
    "* profile.json - demographic data for each customer\n",
    "* transcript.json - records for transactions, offers received, offers viewed, and offers completed\n",
    "\n",
    "Here is the schema and explanation of each variable in the files:\n",
    "\n",
    "**portfolio.json**\n",
    "* id (string) - offer id\n",
    "* offer_type (string) - type of offer ie BOGO, discount, informational\n",
    "* difficulty (int) - minimum required spend to complete an offer\n",
    "* reward (int) - reward given for completing an offer\n",
    "* duration (int) - time for offer to be open, in days\n",
    "* channels (list of strings)\n",
    "\n",
    "**profile.json**\n",
    "* age (int) - age of the customer \n",
    "* became_member_on (int) - date when customer created an app account\n",
    "* gender (str) - gender of the customer (note some entries contain 'O' for other rather than M or F)\n",
    "* id (str) - customer id\n",
    "* income (float) - customer's income\n",
    "\n",
    "**transcript.json**\n",
    "* event (str) - record description (ie transaction, offer received, offer viewed, etc.)\n",
    "* person (str) - customer id\n",
    "* time (int) - time in hours since start of test. The data begins at time t=0\n",
    "* value - (dict of strings) - either an offer id or transaction amount depending on the record\n",
    "\n",
    "**Note:** If you are using the workspace, you will need to go to the terminal and run the command `conda update pandas` before reading in the files. This is because the version of pandas in the workspace cannot read in the transcript.json file correctly, but the newest version of pandas can. You can access the termnal from the orange icon in the top left of this notebook.  \n",
    "\n",
    "You can see how to access the terminal and how the install works using the two images below.  First you need to access the terminal:\n",
    "\n",
    "<img src=\"pic1.png\"/>\n",
    "\n",
    "Then you will want to run the above command:\n",
    "\n",
    "<img src=\"pic2.png\"/>\n",
    "\n",
    "Finally, when you enter back into the notebook (use the jupyter icon again), you should be able to run the below cell without any errors."
   ]
  },
  {
   "cell_type": "code",
   "execution_count": 1,
   "metadata": {},
   "outputs": [],
   "source": [
    "import pandas as pd\n",
    "import numpy as np\n",
    "import math\n",
    "import matplotlib.pyplot as plt\n",
    "import seaborn as sns\n",
    "from sklearn.preprocessing import StandardScaler\n",
    "from sklearn.pipeline import make_pipeline\n",
    "from sklearn.feature_selection import RFE\n",
    "from sklearn.cluster import KMeans\n",
    "from sklearn.linear_model import LogisticRegression\n",
    "from sklearn.tree import DecisionTreeClassifier\n",
    "from sklearn.tree import export_graphviz\n",
    "from sklearn.ensemble import RandomForestClassifier\n",
    "from sklearn.ensemble import GradientBoostingClassifier\n",
    "from sklearn.metrics import accuracy_score\n",
    "from sklearn.model_selection import train_test_split\n",
    "from sklearn.model_selection import RandomizedSearchCV\n",
    "\n",
    "import warnings\n",
    "warnings.filterwarnings('ignore')\n",
    "# % matplotlib inline"
   ]
  },
  {
   "cell_type": "code",
   "execution_count": 2,
   "metadata": {},
   "outputs": [],
   "source": [
    "# read in the json files\n",
    "portfolio = pd.read_json('data/portfolio.json', orient='records', lines=True)\n",
    "profile = pd.read_json('data/profile.json', orient='records', lines=True)\n",
    "transcript = pd.read_json('data/transcript.json', orient='records', lines=True)"
   ]
  },
  {
   "cell_type": "markdown",
   "metadata": {},
   "source": [
    "# Exploratory Analysis"
   ]
  },
  {
   "cell_type": "markdown",
   "metadata": {},
   "source": [
    "## Read the data"
   ]
  },
  {
   "cell_type": "markdown",
   "metadata": {},
   "source": [
    "Before doing analysis, it is important to read the data. Understand how data stored in the dataframe, if there are missing values and so on."
   ]
  },
  {
   "cell_type": "markdown",
   "metadata": {},
   "source": [
    "### Transcript"
   ]
  },
  {
   "cell_type": "code",
   "execution_count": 3,
   "metadata": {
    "scrolled": true
   },
   "outputs": [
    {
     "data": {
      "text/html": [
       "<div>\n",
       "<style scoped>\n",
       "    .dataframe tbody tr th:only-of-type {\n",
       "        vertical-align: middle;\n",
       "    }\n",
       "\n",
       "    .dataframe tbody tr th {\n",
       "        vertical-align: top;\n",
       "    }\n",
       "\n",
       "    .dataframe thead th {\n",
       "        text-align: right;\n",
       "    }\n",
       "</style>\n",
       "<table border=\"1\" class=\"dataframe\">\n",
       "  <thead>\n",
       "    <tr style=\"text-align: right;\">\n",
       "      <th></th>\n",
       "      <th>person</th>\n",
       "      <th>event</th>\n",
       "      <th>value</th>\n",
       "      <th>time</th>\n",
       "    </tr>\n",
       "  </thead>\n",
       "  <tbody>\n",
       "    <tr>\n",
       "      <th>0</th>\n",
       "      <td>78afa995795e4d85b5d9ceeca43f5fef</td>\n",
       "      <td>offer received</td>\n",
       "      <td>{'offer id': '9b98b8c7a33c4b65b9aebfe6a799e6d9'}</td>\n",
       "      <td>0</td>\n",
       "    </tr>\n",
       "    <tr>\n",
       "      <th>1</th>\n",
       "      <td>a03223e636434f42ac4c3df47e8bac43</td>\n",
       "      <td>offer received</td>\n",
       "      <td>{'offer id': '0b1e1539f2cc45b7b9fa7c272da2e1d7'}</td>\n",
       "      <td>0</td>\n",
       "    </tr>\n",
       "    <tr>\n",
       "      <th>2</th>\n",
       "      <td>e2127556f4f64592b11af22de27a7932</td>\n",
       "      <td>offer received</td>\n",
       "      <td>{'offer id': '2906b810c7d4411798c6938adc9daaa5'}</td>\n",
       "      <td>0</td>\n",
       "    </tr>\n",
       "    <tr>\n",
       "      <th>3</th>\n",
       "      <td>8ec6ce2a7e7949b1bf142def7d0e0586</td>\n",
       "      <td>offer received</td>\n",
       "      <td>{'offer id': 'fafdcd668e3743c1bb461111dcafc2a4'}</td>\n",
       "      <td>0</td>\n",
       "    </tr>\n",
       "    <tr>\n",
       "      <th>4</th>\n",
       "      <td>68617ca6246f4fbc85e91a2a49552598</td>\n",
       "      <td>offer received</td>\n",
       "      <td>{'offer id': '4d5c57ea9a6940dd891ad53e9dbe8da0'}</td>\n",
       "      <td>0</td>\n",
       "    </tr>\n",
       "  </tbody>\n",
       "</table>\n",
       "</div>"
      ],
      "text/plain": [
       "                             person           event  \\\n",
       "0  78afa995795e4d85b5d9ceeca43f5fef  offer received   \n",
       "1  a03223e636434f42ac4c3df47e8bac43  offer received   \n",
       "2  e2127556f4f64592b11af22de27a7932  offer received   \n",
       "3  8ec6ce2a7e7949b1bf142def7d0e0586  offer received   \n",
       "4  68617ca6246f4fbc85e91a2a49552598  offer received   \n",
       "\n",
       "                                              value  time  \n",
       "0  {'offer id': '9b98b8c7a33c4b65b9aebfe6a799e6d9'}     0  \n",
       "1  {'offer id': '0b1e1539f2cc45b7b9fa7c272da2e1d7'}     0  \n",
       "2  {'offer id': '2906b810c7d4411798c6938adc9daaa5'}     0  \n",
       "3  {'offer id': 'fafdcd668e3743c1bb461111dcafc2a4'}     0  \n",
       "4  {'offer id': '4d5c57ea9a6940dd891ad53e9dbe8da0'}     0  "
      ]
     },
     "execution_count": 3,
     "metadata": {},
     "output_type": "execute_result"
    }
   ],
   "source": [
    "transcript.head()"
   ]
  },
  {
   "cell_type": "code",
   "execution_count": 4,
   "metadata": {
    "scrolled": true
   },
   "outputs": [
    {
     "name": "stdout",
     "output_type": "stream",
     "text": [
      "<class 'pandas.core.frame.DataFrame'>\n",
      "RangeIndex: 306534 entries, 0 to 306533\n",
      "Data columns (total 4 columns):\n",
      " #   Column  Non-Null Count   Dtype \n",
      "---  ------  --------------   ----- \n",
      " 0   person  306534 non-null  object\n",
      " 1   event   306534 non-null  object\n",
      " 2   value   306534 non-null  object\n",
      " 3   time    306534 non-null  int64 \n",
      "dtypes: int64(1), object(3)\n",
      "memory usage: 9.4+ MB\n"
     ]
    }
   ],
   "source": [
    "transcript.info()"
   ]
  },
  {
   "cell_type": "code",
   "execution_count": 5,
   "metadata": {
    "scrolled": false
   },
   "outputs": [
    {
     "data": {
      "text/html": [
       "<div>\n",
       "<style scoped>\n",
       "    .dataframe tbody tr th:only-of-type {\n",
       "        vertical-align: middle;\n",
       "    }\n",
       "\n",
       "    .dataframe tbody tr th {\n",
       "        vertical-align: top;\n",
       "    }\n",
       "\n",
       "    .dataframe thead th {\n",
       "        text-align: right;\n",
       "    }\n",
       "</style>\n",
       "<table border=\"1\" class=\"dataframe\">\n",
       "  <thead>\n",
       "    <tr style=\"text-align: right;\">\n",
       "      <th></th>\n",
       "      <th>time</th>\n",
       "    </tr>\n",
       "  </thead>\n",
       "  <tbody>\n",
       "    <tr>\n",
       "      <th>count</th>\n",
       "      <td>306534.000000</td>\n",
       "    </tr>\n",
       "    <tr>\n",
       "      <th>mean</th>\n",
       "      <td>366.382940</td>\n",
       "    </tr>\n",
       "    <tr>\n",
       "      <th>std</th>\n",
       "      <td>200.326314</td>\n",
       "    </tr>\n",
       "    <tr>\n",
       "      <th>min</th>\n",
       "      <td>0.000000</td>\n",
       "    </tr>\n",
       "    <tr>\n",
       "      <th>25%</th>\n",
       "      <td>186.000000</td>\n",
       "    </tr>\n",
       "    <tr>\n",
       "      <th>50%</th>\n",
       "      <td>408.000000</td>\n",
       "    </tr>\n",
       "    <tr>\n",
       "      <th>75%</th>\n",
       "      <td>528.000000</td>\n",
       "    </tr>\n",
       "    <tr>\n",
       "      <th>max</th>\n",
       "      <td>714.000000</td>\n",
       "    </tr>\n",
       "  </tbody>\n",
       "</table>\n",
       "</div>"
      ],
      "text/plain": [
       "                time\n",
       "count  306534.000000\n",
       "mean      366.382940\n",
       "std       200.326314\n",
       "min         0.000000\n",
       "25%       186.000000\n",
       "50%       408.000000\n",
       "75%       528.000000\n",
       "max       714.000000"
      ]
     },
     "execution_count": 5,
     "metadata": {},
     "output_type": "execute_result"
    }
   ],
   "source": [
    "transcript.describe()"
   ]
  },
  {
   "cell_type": "code",
   "execution_count": 6,
   "metadata": {},
   "outputs": [
    {
     "data": {
      "text/plain": [
       "29.75"
      ]
     },
     "execution_count": 6,
     "metadata": {},
     "output_type": "execute_result"
    }
   ],
   "source": [
    "714/24"
   ]
  },
  {
   "cell_type": "markdown",
   "metadata": {},
   "source": [
    "The transcript contains about 1 month transaction data."
   ]
  },
  {
   "cell_type": "code",
   "execution_count": 7,
   "metadata": {},
   "outputs": [],
   "source": [
    "#check value counts\n",
    "def check_value_counts(df, col):\n",
    "    '''\n",
    "    Check counts of the col values\n",
    "    \n",
    "    Args:\n",
    "        df (DataFrame): The DataFrame \n",
    "        col (str): The col needs to get counts\n",
    "    \n",
    "    Returns:\n",
    "        vc(Series): The Series of col with number of counts\n",
    "    '''\n",
    "    vc = df[col].value_counts() \n",
    "    return vc"
   ]
  },
  {
   "cell_type": "code",
   "execution_count": 8,
   "metadata": {
    "scrolled": true
   },
   "outputs": [
    {
     "data": {
      "text/plain": [
       "transaction        138953\n",
       "offer received      76277\n",
       "offer viewed        57725\n",
       "offer completed     33579\n",
       "Name: event, dtype: int64"
      ]
     },
     "execution_count": 8,
     "metadata": {},
     "output_type": "execute_result"
    }
   ],
   "source": [
    "check_value_counts(transcript, \"event\")"
   ]
  },
  {
   "cell_type": "code",
   "execution_count": 9,
   "metadata": {
    "scrolled": false
   },
   "outputs": [
    {
     "data": {
      "text/plain": [
       "94de646f7b6041228ca7dec82adb97d2    51\n",
       "8dbfa485249f409aa223a2130f40634a    49\n",
       "5e60c6aa3b834e44b822ea43a3efea26    48\n",
       "79d9d4f86aca4bed9290350fb43817c2    48\n",
       "d0a80415b84c4df4908b8403b19765e3    48\n",
       "                                    ..\n",
       "df9fc9a86ca84ef5aedde8925d5838ba     2\n",
       "912b9f623b9e4b4eb99b6dc919f09a93     2\n",
       "3a4e53046c544134bb1e7782248631d1     2\n",
       "7ecfc592171f4844bdc05bdbb48d3847     2\n",
       "da7a7c0dcfcb41a8acc7864a53cf60fb     1\n",
       "Name: person, Length: 17000, dtype: int64"
      ]
     },
     "execution_count": 9,
     "metadata": {},
     "output_type": "execute_result"
    }
   ],
   "source": [
    "check_value_counts(transcript,\"person\")"
   ]
  },
  {
   "cell_type": "markdown",
   "metadata": {},
   "source": [
    "Some customers shopped about 2 timers a day while some customers shop about a few times within the 30 days. The shopping behaviors are vary."
   ]
  },
  {
   "cell_type": "code",
   "execution_count": 10,
   "metadata": {
    "scrolled": false
   },
   "outputs": [
    {
     "data": {
      "text/plain": [
       "408    17030\n",
       "576    17015\n",
       "504    16822\n",
       "336    16302\n",
       "168    16150\n",
       "       ...  \n",
       "318      940\n",
       "330      938\n",
       "156      914\n",
       "162      910\n",
       "150      894\n",
       "Name: time, Length: 120, dtype: int64"
      ]
     },
     "execution_count": 10,
     "metadata": {},
     "output_type": "execute_result"
    }
   ],
   "source": [
    "check_value_counts(transcript,\"time\")"
   ]
  },
  {
   "cell_type": "markdown",
   "metadata": {},
   "source": [
    "The 17th day had the most daily transactions"
   ]
  },
  {
   "cell_type": "code",
   "execution_count": 11,
   "metadata": {
    "scrolled": false
   },
   "outputs": [
    {
     "data": {
      "text/html": [
       "<div>\n",
       "<style scoped>\n",
       "    .dataframe tbody tr th:only-of-type {\n",
       "        vertical-align: middle;\n",
       "    }\n",
       "\n",
       "    .dataframe tbody tr th {\n",
       "        vertical-align: top;\n",
       "    }\n",
       "\n",
       "    .dataframe thead th {\n",
       "        text-align: right;\n",
       "    }\n",
       "</style>\n",
       "<table border=\"1\" class=\"dataframe\">\n",
       "  <thead>\n",
       "    <tr style=\"text-align: right;\">\n",
       "      <th></th>\n",
       "      <th>person</th>\n",
       "      <th>event</th>\n",
       "      <th>value</th>\n",
       "      <th>time</th>\n",
       "    </tr>\n",
       "  </thead>\n",
       "  <tbody>\n",
       "    <tr>\n",
       "      <th>279096</th>\n",
       "      <td>f2e49f5002c540eb92ca320fea990319</td>\n",
       "      <td>offer completed</td>\n",
       "      <td>{'offer_id': 'ae264e3637204a6fb9bb56bc8210ddfd...</td>\n",
       "      <td>612</td>\n",
       "    </tr>\n",
       "    <tr>\n",
       "      <th>275967</th>\n",
       "      <td>815e75930aed488cb61d56afb4627457</td>\n",
       "      <td>offer completed</td>\n",
       "      <td>{'offer_id': '0b1e1539f2cc45b7b9fa7c272da2e1d7...</td>\n",
       "      <td>606</td>\n",
       "    </tr>\n",
       "    <tr>\n",
       "      <th>278841</th>\n",
       "      <td>31e915c24163436790b97c1d45b545f6</td>\n",
       "      <td>offer completed</td>\n",
       "      <td>{'offer_id': 'ae264e3637204a6fb9bb56bc8210ddfd...</td>\n",
       "      <td>612</td>\n",
       "    </tr>\n",
       "    <tr>\n",
       "      <th>251717</th>\n",
       "      <td>153f7ce19d8f4c8294fdc8d758c880c7</td>\n",
       "      <td>offer received</td>\n",
       "      <td>{'offer id': 'fafdcd668e3743c1bb461111dcafc2a4'}</td>\n",
       "      <td>576</td>\n",
       "    </tr>\n",
       "    <tr>\n",
       "      <th>6233</th>\n",
       "      <td>3e9e889fc54c412fb7d032421f4890c7</td>\n",
       "      <td>offer received</td>\n",
       "      <td>{'offer id': 'fafdcd668e3743c1bb461111dcafc2a4'}</td>\n",
       "      <td>0</td>\n",
       "    </tr>\n",
       "    <tr>\n",
       "      <th>213658</th>\n",
       "      <td>f5d31009d87f411091be6b7d008564cf</td>\n",
       "      <td>offer received</td>\n",
       "      <td>{'offer id': '2906b810c7d4411798c6938adc9daaa5'}</td>\n",
       "      <td>504</td>\n",
       "    </tr>\n",
       "    <tr>\n",
       "      <th>262507</th>\n",
       "      <td>3f9da79caafe40478a8a661e53b7299b</td>\n",
       "      <td>offer viewed</td>\n",
       "      <td>{'offer id': '4d5c57ea9a6940dd891ad53e9dbe8da0'}</td>\n",
       "      <td>582</td>\n",
       "    </tr>\n",
       "    <tr>\n",
       "      <th>93436</th>\n",
       "      <td>e23f93dde99743dbbfad6ca2674e4b92</td>\n",
       "      <td>offer viewed</td>\n",
       "      <td>{'offer id': 'ae264e3637204a6fb9bb56bc8210ddfd'}</td>\n",
       "      <td>240</td>\n",
       "    </tr>\n",
       "    <tr>\n",
       "      <th>25381</th>\n",
       "      <td>7236a35b4970427cb85791371e40d96a</td>\n",
       "      <td>offer viewed</td>\n",
       "      <td>{'offer id': '5a8bc65990b245e5a138643cd4eb9837'}</td>\n",
       "      <td>30</td>\n",
       "    </tr>\n",
       "    <tr>\n",
       "      <th>23283</th>\n",
       "      <td>2704e553ed8143569367e34c7c620f5f</td>\n",
       "      <td>transaction</td>\n",
       "      <td>{'amount': 7.07}</td>\n",
       "      <td>24</td>\n",
       "    </tr>\n",
       "    <tr>\n",
       "      <th>107644</th>\n",
       "      <td>cc9a8c83812a407db0f4bc0e2c511ab1</td>\n",
       "      <td>transaction</td>\n",
       "      <td>{'amount': 15.84}</td>\n",
       "      <td>312</td>\n",
       "    </tr>\n",
       "    <tr>\n",
       "      <th>46792</th>\n",
       "      <td>c8ce9be8d4bd457180ff2a8d4d977073</td>\n",
       "      <td>transaction</td>\n",
       "      <td>{'amount': 1.74}</td>\n",
       "      <td>126</td>\n",
       "    </tr>\n",
       "  </tbody>\n",
       "</table>\n",
       "</div>"
      ],
      "text/plain": [
       "                                  person            event  \\\n",
       "279096  f2e49f5002c540eb92ca320fea990319  offer completed   \n",
       "275967  815e75930aed488cb61d56afb4627457  offer completed   \n",
       "278841  31e915c24163436790b97c1d45b545f6  offer completed   \n",
       "251717  153f7ce19d8f4c8294fdc8d758c880c7   offer received   \n",
       "6233    3e9e889fc54c412fb7d032421f4890c7   offer received   \n",
       "213658  f5d31009d87f411091be6b7d008564cf   offer received   \n",
       "262507  3f9da79caafe40478a8a661e53b7299b     offer viewed   \n",
       "93436   e23f93dde99743dbbfad6ca2674e4b92     offer viewed   \n",
       "25381   7236a35b4970427cb85791371e40d96a     offer viewed   \n",
       "23283   2704e553ed8143569367e34c7c620f5f      transaction   \n",
       "107644  cc9a8c83812a407db0f4bc0e2c511ab1      transaction   \n",
       "46792   c8ce9be8d4bd457180ff2a8d4d977073      transaction   \n",
       "\n",
       "                                                    value  time  \n",
       "279096  {'offer_id': 'ae264e3637204a6fb9bb56bc8210ddfd...   612  \n",
       "275967  {'offer_id': '0b1e1539f2cc45b7b9fa7c272da2e1d7...   606  \n",
       "278841  {'offer_id': 'ae264e3637204a6fb9bb56bc8210ddfd...   612  \n",
       "251717   {'offer id': 'fafdcd668e3743c1bb461111dcafc2a4'}   576  \n",
       "6233     {'offer id': 'fafdcd668e3743c1bb461111dcafc2a4'}     0  \n",
       "213658   {'offer id': '2906b810c7d4411798c6938adc9daaa5'}   504  \n",
       "262507   {'offer id': '4d5c57ea9a6940dd891ad53e9dbe8da0'}   582  \n",
       "93436    {'offer id': 'ae264e3637204a6fb9bb56bc8210ddfd'}   240  \n",
       "25381    {'offer id': '5a8bc65990b245e5a138643cd4eb9837'}    30  \n",
       "23283                                    {'amount': 7.07}    24  \n",
       "107644                                  {'amount': 15.84}   312  \n",
       "46792                                    {'amount': 1.74}   126  "
      ]
     },
     "execution_count": 11,
     "metadata": {},
     "output_type": "execute_result"
    }
   ],
   "source": [
    "transcript.groupby(\"event\").sample(n=3, random_state=123)"
   ]
  },
  {
   "cell_type": "markdown",
   "metadata": {},
   "source": [
    "The offer related event like offer received, offer viewed and offer completed contains offer ids. While the transaction event only contains the shopping amount. Based on this dataset, it is hard to link which transactions are offer related transactions and which are not."
   ]
  },
  {
   "cell_type": "code",
   "execution_count": 12,
   "metadata": {},
   "outputs": [],
   "source": [
    "#check null values\n",
    "def check_null_values(df):\n",
    "    '''\n",
    "    Check nulls in the dataframe\n",
    "    \n",
    "    Args:\n",
    "        df(DataFrame): The DataFrame needs to check \n",
    "    \n",
    "    Returns:\n",
    "        nv(Series): The Series of number of nulls\n",
    "    '''\n",
    "    nv = df.isnull().sum()\n",
    "    return nv"
   ]
  },
  {
   "cell_type": "code",
   "execution_count": 13,
   "metadata": {
    "scrolled": true
   },
   "outputs": [
    {
     "data": {
      "text/plain": [
       "person    0\n",
       "event     0\n",
       "value     0\n",
       "time      0\n",
       "dtype: int64"
      ]
     },
     "execution_count": 13,
     "metadata": {},
     "output_type": "execute_result"
    }
   ],
   "source": [
    "check_null_values(transcript)"
   ]
  },
  {
   "cell_type": "markdown",
   "metadata": {},
   "source": [
    "The transcript dataframe doesn't contain missing values"
   ]
  },
  {
   "cell_type": "markdown",
   "metadata": {},
   "source": [
    "### Portfolio"
   ]
  },
  {
   "cell_type": "code",
   "execution_count": 14,
   "metadata": {
    "scrolled": true
   },
   "outputs": [
    {
     "data": {
      "text/html": [
       "<div>\n",
       "<style scoped>\n",
       "    .dataframe tbody tr th:only-of-type {\n",
       "        vertical-align: middle;\n",
       "    }\n",
       "\n",
       "    .dataframe tbody tr th {\n",
       "        vertical-align: top;\n",
       "    }\n",
       "\n",
       "    .dataframe thead th {\n",
       "        text-align: right;\n",
       "    }\n",
       "</style>\n",
       "<table border=\"1\" class=\"dataframe\">\n",
       "  <thead>\n",
       "    <tr style=\"text-align: right;\">\n",
       "      <th></th>\n",
       "      <th>reward</th>\n",
       "      <th>channels</th>\n",
       "      <th>difficulty</th>\n",
       "      <th>duration</th>\n",
       "      <th>offer_type</th>\n",
       "      <th>id</th>\n",
       "    </tr>\n",
       "  </thead>\n",
       "  <tbody>\n",
       "    <tr>\n",
       "      <th>0</th>\n",
       "      <td>10</td>\n",
       "      <td>[email, mobile, social]</td>\n",
       "      <td>10</td>\n",
       "      <td>7</td>\n",
       "      <td>bogo</td>\n",
       "      <td>ae264e3637204a6fb9bb56bc8210ddfd</td>\n",
       "    </tr>\n",
       "    <tr>\n",
       "      <th>1</th>\n",
       "      <td>10</td>\n",
       "      <td>[web, email, mobile, social]</td>\n",
       "      <td>10</td>\n",
       "      <td>5</td>\n",
       "      <td>bogo</td>\n",
       "      <td>4d5c57ea9a6940dd891ad53e9dbe8da0</td>\n",
       "    </tr>\n",
       "    <tr>\n",
       "      <th>2</th>\n",
       "      <td>0</td>\n",
       "      <td>[web, email, mobile]</td>\n",
       "      <td>0</td>\n",
       "      <td>4</td>\n",
       "      <td>informational</td>\n",
       "      <td>3f207df678b143eea3cee63160fa8bed</td>\n",
       "    </tr>\n",
       "    <tr>\n",
       "      <th>3</th>\n",
       "      <td>5</td>\n",
       "      <td>[web, email, mobile]</td>\n",
       "      <td>5</td>\n",
       "      <td>7</td>\n",
       "      <td>bogo</td>\n",
       "      <td>9b98b8c7a33c4b65b9aebfe6a799e6d9</td>\n",
       "    </tr>\n",
       "    <tr>\n",
       "      <th>4</th>\n",
       "      <td>5</td>\n",
       "      <td>[web, email]</td>\n",
       "      <td>20</td>\n",
       "      <td>10</td>\n",
       "      <td>discount</td>\n",
       "      <td>0b1e1539f2cc45b7b9fa7c272da2e1d7</td>\n",
       "    </tr>\n",
       "  </tbody>\n",
       "</table>\n",
       "</div>"
      ],
      "text/plain": [
       "   reward                      channels  difficulty  duration     offer_type  \\\n",
       "0      10       [email, mobile, social]          10         7           bogo   \n",
       "1      10  [web, email, mobile, social]          10         5           bogo   \n",
       "2       0          [web, email, mobile]           0         4  informational   \n",
       "3       5          [web, email, mobile]           5         7           bogo   \n",
       "4       5                  [web, email]          20        10       discount   \n",
       "\n",
       "                                 id  \n",
       "0  ae264e3637204a6fb9bb56bc8210ddfd  \n",
       "1  4d5c57ea9a6940dd891ad53e9dbe8da0  \n",
       "2  3f207df678b143eea3cee63160fa8bed  \n",
       "3  9b98b8c7a33c4b65b9aebfe6a799e6d9  \n",
       "4  0b1e1539f2cc45b7b9fa7c272da2e1d7  "
      ]
     },
     "execution_count": 14,
     "metadata": {},
     "output_type": "execute_result"
    }
   ],
   "source": [
    "portfolio.head()"
   ]
  },
  {
   "cell_type": "code",
   "execution_count": 15,
   "metadata": {
    "scrolled": true
   },
   "outputs": [
    {
     "name": "stdout",
     "output_type": "stream",
     "text": [
      "<class 'pandas.core.frame.DataFrame'>\n",
      "RangeIndex: 10 entries, 0 to 9\n",
      "Data columns (total 6 columns):\n",
      " #   Column      Non-Null Count  Dtype \n",
      "---  ------      --------------  ----- \n",
      " 0   reward      10 non-null     int64 \n",
      " 1   channels    10 non-null     object\n",
      " 2   difficulty  10 non-null     int64 \n",
      " 3   duration    10 non-null     int64 \n",
      " 4   offer_type  10 non-null     object\n",
      " 5   id          10 non-null     object\n",
      "dtypes: int64(3), object(3)\n",
      "memory usage: 608.0+ bytes\n"
     ]
    }
   ],
   "source": [
    "portfolio.info()"
   ]
  },
  {
   "cell_type": "code",
   "execution_count": 16,
   "metadata": {
    "scrolled": true
   },
   "outputs": [
    {
     "data": {
      "text/html": [
       "<div>\n",
       "<style scoped>\n",
       "    .dataframe tbody tr th:only-of-type {\n",
       "        vertical-align: middle;\n",
       "    }\n",
       "\n",
       "    .dataframe tbody tr th {\n",
       "        vertical-align: top;\n",
       "    }\n",
       "\n",
       "    .dataframe thead th {\n",
       "        text-align: right;\n",
       "    }\n",
       "</style>\n",
       "<table border=\"1\" class=\"dataframe\">\n",
       "  <thead>\n",
       "    <tr style=\"text-align: right;\">\n",
       "      <th></th>\n",
       "      <th>reward</th>\n",
       "      <th>difficulty</th>\n",
       "      <th>duration</th>\n",
       "    </tr>\n",
       "  </thead>\n",
       "  <tbody>\n",
       "    <tr>\n",
       "      <th>count</th>\n",
       "      <td>10.000000</td>\n",
       "      <td>10.000000</td>\n",
       "      <td>10.000000</td>\n",
       "    </tr>\n",
       "    <tr>\n",
       "      <th>mean</th>\n",
       "      <td>4.200000</td>\n",
       "      <td>7.700000</td>\n",
       "      <td>6.500000</td>\n",
       "    </tr>\n",
       "    <tr>\n",
       "      <th>std</th>\n",
       "      <td>3.583915</td>\n",
       "      <td>5.831905</td>\n",
       "      <td>2.321398</td>\n",
       "    </tr>\n",
       "    <tr>\n",
       "      <th>min</th>\n",
       "      <td>0.000000</td>\n",
       "      <td>0.000000</td>\n",
       "      <td>3.000000</td>\n",
       "    </tr>\n",
       "    <tr>\n",
       "      <th>25%</th>\n",
       "      <td>2.000000</td>\n",
       "      <td>5.000000</td>\n",
       "      <td>5.000000</td>\n",
       "    </tr>\n",
       "    <tr>\n",
       "      <th>50%</th>\n",
       "      <td>4.000000</td>\n",
       "      <td>8.500000</td>\n",
       "      <td>7.000000</td>\n",
       "    </tr>\n",
       "    <tr>\n",
       "      <th>75%</th>\n",
       "      <td>5.000000</td>\n",
       "      <td>10.000000</td>\n",
       "      <td>7.000000</td>\n",
       "    </tr>\n",
       "    <tr>\n",
       "      <th>max</th>\n",
       "      <td>10.000000</td>\n",
       "      <td>20.000000</td>\n",
       "      <td>10.000000</td>\n",
       "    </tr>\n",
       "  </tbody>\n",
       "</table>\n",
       "</div>"
      ],
      "text/plain": [
       "          reward  difficulty   duration\n",
       "count  10.000000   10.000000  10.000000\n",
       "mean    4.200000    7.700000   6.500000\n",
       "std     3.583915    5.831905   2.321398\n",
       "min     0.000000    0.000000   3.000000\n",
       "25%     2.000000    5.000000   5.000000\n",
       "50%     4.000000    8.500000   7.000000\n",
       "75%     5.000000   10.000000   7.000000\n",
       "max    10.000000   20.000000  10.000000"
      ]
     },
     "execution_count": 16,
     "metadata": {},
     "output_type": "execute_result"
    }
   ],
   "source": [
    "portfolio.describe()"
   ]
  },
  {
   "cell_type": "markdown",
   "metadata": {},
   "source": [
    "Reward and difficulty are more like categorical variables instead of ints. Need to convert the data type of these two variables."
   ]
  },
  {
   "cell_type": "code",
   "execution_count": 17,
   "metadata": {},
   "outputs": [
    {
     "data": {
      "text/plain": [
       "5     3\n",
       "10    2\n",
       "2     2\n",
       "0     2\n",
       "3     1\n",
       "Name: reward, dtype: int64"
      ]
     },
     "execution_count": 17,
     "metadata": {},
     "output_type": "execute_result"
    }
   ],
   "source": [
    "check_value_counts(portfolio,\"reward\")"
   ]
  },
  {
   "cell_type": "code",
   "execution_count": 18,
   "metadata": {
    "scrolled": true
   },
   "outputs": [
    {
     "data": {
      "text/plain": [
       "10    4\n",
       "5     2\n",
       "0     2\n",
       "7     1\n",
       "20    1\n",
       "Name: difficulty, dtype: int64"
      ]
     },
     "execution_count": 18,
     "metadata": {},
     "output_type": "execute_result"
    }
   ],
   "source": [
    "check_value_counts(portfolio,\"difficulty\")"
   ]
  },
  {
   "cell_type": "code",
   "execution_count": 19,
   "metadata": {
    "scrolled": false
   },
   "outputs": [
    {
     "data": {
      "text/plain": [
       "bogo             4\n",
       "discount         4\n",
       "informational    2\n",
       "Name: offer_type, dtype: int64"
      ]
     },
     "execution_count": 19,
     "metadata": {},
     "output_type": "execute_result"
    }
   ],
   "source": [
    "check_value_counts(portfolio, \"offer_type\")"
   ]
  },
  {
   "cell_type": "code",
   "execution_count": 20,
   "metadata": {
    "scrolled": false
   },
   "outputs": [
    {
     "data": {
      "text/plain": [
       "reward        0\n",
       "channels      0\n",
       "difficulty    0\n",
       "duration      0\n",
       "offer_type    0\n",
       "id            0\n",
       "dtype: int64"
      ]
     },
     "execution_count": 20,
     "metadata": {},
     "output_type": "execute_result"
    }
   ],
   "source": [
    "check_null_values(portfolio)"
   ]
  },
  {
   "cell_type": "markdown",
   "metadata": {},
   "source": [
    "Portfolio dataframe contains no missing values."
   ]
  },
  {
   "cell_type": "markdown",
   "metadata": {},
   "source": [
    "### Profile"
   ]
  },
  {
   "cell_type": "code",
   "execution_count": 21,
   "metadata": {
    "scrolled": false
   },
   "outputs": [
    {
     "data": {
      "text/html": [
       "<div>\n",
       "<style scoped>\n",
       "    .dataframe tbody tr th:only-of-type {\n",
       "        vertical-align: middle;\n",
       "    }\n",
       "\n",
       "    .dataframe tbody tr th {\n",
       "        vertical-align: top;\n",
       "    }\n",
       "\n",
       "    .dataframe thead th {\n",
       "        text-align: right;\n",
       "    }\n",
       "</style>\n",
       "<table border=\"1\" class=\"dataframe\">\n",
       "  <thead>\n",
       "    <tr style=\"text-align: right;\">\n",
       "      <th></th>\n",
       "      <th>gender</th>\n",
       "      <th>age</th>\n",
       "      <th>id</th>\n",
       "      <th>became_member_on</th>\n",
       "      <th>income</th>\n",
       "    </tr>\n",
       "  </thead>\n",
       "  <tbody>\n",
       "    <tr>\n",
       "      <th>0</th>\n",
       "      <td>None</td>\n",
       "      <td>118</td>\n",
       "      <td>68be06ca386d4c31939f3a4f0e3dd783</td>\n",
       "      <td>20170212</td>\n",
       "      <td>NaN</td>\n",
       "    </tr>\n",
       "    <tr>\n",
       "      <th>1</th>\n",
       "      <td>F</td>\n",
       "      <td>55</td>\n",
       "      <td>0610b486422d4921ae7d2bf64640c50b</td>\n",
       "      <td>20170715</td>\n",
       "      <td>112000.0</td>\n",
       "    </tr>\n",
       "    <tr>\n",
       "      <th>2</th>\n",
       "      <td>None</td>\n",
       "      <td>118</td>\n",
       "      <td>38fe809add3b4fcf9315a9694bb96ff5</td>\n",
       "      <td>20180712</td>\n",
       "      <td>NaN</td>\n",
       "    </tr>\n",
       "    <tr>\n",
       "      <th>3</th>\n",
       "      <td>F</td>\n",
       "      <td>75</td>\n",
       "      <td>78afa995795e4d85b5d9ceeca43f5fef</td>\n",
       "      <td>20170509</td>\n",
       "      <td>100000.0</td>\n",
       "    </tr>\n",
       "    <tr>\n",
       "      <th>4</th>\n",
       "      <td>None</td>\n",
       "      <td>118</td>\n",
       "      <td>a03223e636434f42ac4c3df47e8bac43</td>\n",
       "      <td>20170804</td>\n",
       "      <td>NaN</td>\n",
       "    </tr>\n",
       "  </tbody>\n",
       "</table>\n",
       "</div>"
      ],
      "text/plain": [
       "  gender  age                                id  became_member_on    income\n",
       "0   None  118  68be06ca386d4c31939f3a4f0e3dd783          20170212       NaN\n",
       "1      F   55  0610b486422d4921ae7d2bf64640c50b          20170715  112000.0\n",
       "2   None  118  38fe809add3b4fcf9315a9694bb96ff5          20180712       NaN\n",
       "3      F   75  78afa995795e4d85b5d9ceeca43f5fef          20170509  100000.0\n",
       "4   None  118  a03223e636434f42ac4c3df47e8bac43          20170804       NaN"
      ]
     },
     "execution_count": 21,
     "metadata": {},
     "output_type": "execute_result"
    }
   ],
   "source": [
    "profile.head()"
   ]
  },
  {
   "cell_type": "code",
   "execution_count": 22,
   "metadata": {
    "scrolled": true
   },
   "outputs": [
    {
     "name": "stdout",
     "output_type": "stream",
     "text": [
      "<class 'pandas.core.frame.DataFrame'>\n",
      "RangeIndex: 17000 entries, 0 to 16999\n",
      "Data columns (total 5 columns):\n",
      " #   Column            Non-Null Count  Dtype  \n",
      "---  ------            --------------  -----  \n",
      " 0   gender            14825 non-null  object \n",
      " 1   age               17000 non-null  int64  \n",
      " 2   id                17000 non-null  object \n",
      " 3   became_member_on  17000 non-null  int64  \n",
      " 4   income            14825 non-null  float64\n",
      "dtypes: float64(1), int64(2), object(2)\n",
      "memory usage: 664.2+ KB\n"
     ]
    }
   ],
   "source": [
    "profile.info()"
   ]
  },
  {
   "cell_type": "code",
   "execution_count": 23,
   "metadata": {
    "scrolled": true
   },
   "outputs": [
    {
     "data": {
      "text/html": [
       "<div>\n",
       "<style scoped>\n",
       "    .dataframe tbody tr th:only-of-type {\n",
       "        vertical-align: middle;\n",
       "    }\n",
       "\n",
       "    .dataframe tbody tr th {\n",
       "        vertical-align: top;\n",
       "    }\n",
       "\n",
       "    .dataframe thead th {\n",
       "        text-align: right;\n",
       "    }\n",
       "</style>\n",
       "<table border=\"1\" class=\"dataframe\">\n",
       "  <thead>\n",
       "    <tr style=\"text-align: right;\">\n",
       "      <th></th>\n",
       "      <th>age</th>\n",
       "      <th>became_member_on</th>\n",
       "      <th>income</th>\n",
       "    </tr>\n",
       "  </thead>\n",
       "  <tbody>\n",
       "    <tr>\n",
       "      <th>count</th>\n",
       "      <td>17000.000000</td>\n",
       "      <td>1.700000e+04</td>\n",
       "      <td>14825.000000</td>\n",
       "    </tr>\n",
       "    <tr>\n",
       "      <th>mean</th>\n",
       "      <td>62.531412</td>\n",
       "      <td>2.016703e+07</td>\n",
       "      <td>65404.991568</td>\n",
       "    </tr>\n",
       "    <tr>\n",
       "      <th>std</th>\n",
       "      <td>26.738580</td>\n",
       "      <td>1.167750e+04</td>\n",
       "      <td>21598.299410</td>\n",
       "    </tr>\n",
       "    <tr>\n",
       "      <th>min</th>\n",
       "      <td>18.000000</td>\n",
       "      <td>2.013073e+07</td>\n",
       "      <td>30000.000000</td>\n",
       "    </tr>\n",
       "    <tr>\n",
       "      <th>25%</th>\n",
       "      <td>45.000000</td>\n",
       "      <td>2.016053e+07</td>\n",
       "      <td>49000.000000</td>\n",
       "    </tr>\n",
       "    <tr>\n",
       "      <th>50%</th>\n",
       "      <td>58.000000</td>\n",
       "      <td>2.017080e+07</td>\n",
       "      <td>64000.000000</td>\n",
       "    </tr>\n",
       "    <tr>\n",
       "      <th>75%</th>\n",
       "      <td>73.000000</td>\n",
       "      <td>2.017123e+07</td>\n",
       "      <td>80000.000000</td>\n",
       "    </tr>\n",
       "    <tr>\n",
       "      <th>max</th>\n",
       "      <td>118.000000</td>\n",
       "      <td>2.018073e+07</td>\n",
       "      <td>120000.000000</td>\n",
       "    </tr>\n",
       "  </tbody>\n",
       "</table>\n",
       "</div>"
      ],
      "text/plain": [
       "                age  became_member_on         income\n",
       "count  17000.000000      1.700000e+04   14825.000000\n",
       "mean      62.531412      2.016703e+07   65404.991568\n",
       "std       26.738580      1.167750e+04   21598.299410\n",
       "min       18.000000      2.013073e+07   30000.000000\n",
       "25%       45.000000      2.016053e+07   49000.000000\n",
       "50%       58.000000      2.017080e+07   64000.000000\n",
       "75%       73.000000      2.017123e+07   80000.000000\n",
       "max      118.000000      2.018073e+07  120000.000000"
      ]
     },
     "execution_count": 23,
     "metadata": {},
     "output_type": "execute_result"
    }
   ],
   "source": [
    "profile.describe()"
   ]
  },
  {
   "cell_type": "markdown",
   "metadata": {},
   "source": [
    "The became_member_on is date data type. Need to do a conversion."
   ]
  },
  {
   "cell_type": "code",
   "execution_count": 24,
   "metadata": {
    "scrolled": false
   },
   "outputs": [
    {
     "data": {
      "text/plain": [
       "118    2175\n",
       "58      408\n",
       "53      372\n",
       "51      363\n",
       "54      359\n",
       "       ... \n",
       "100      12\n",
       "96        8\n",
       "98        5\n",
       "99        5\n",
       "101       5\n",
       "Name: age, Length: 85, dtype: int64"
      ]
     },
     "execution_count": 24,
     "metadata": {},
     "output_type": "execute_result"
    }
   ],
   "source": [
    "check_value_counts(profile, \"age\")"
   ]
  },
  {
   "cell_type": "markdown",
   "metadata": {},
   "source": [
    "There are many outliers in the age columns like age 118, age 101. Not sure about age 101 but age 118 are more like a placeholder. Need to replace it with null values and fulfill them."
   ]
  },
  {
   "cell_type": "code",
   "execution_count": 25,
   "metadata": {
    "scrolled": true
   },
   "outputs": [
    {
     "data": {
      "text/plain": [
       "M    8484\n",
       "F    6129\n",
       "O     212\n",
       "Name: gender, dtype: int64"
      ]
     },
     "execution_count": 25,
     "metadata": {},
     "output_type": "execute_result"
    }
   ],
   "source": [
    "check_value_counts(profile,\"gender\")"
   ]
  },
  {
   "cell_type": "code",
   "execution_count": 26,
   "metadata": {
    "scrolled": true
   },
   "outputs": [
    {
     "data": {
      "text/plain": [
       "20171207    43\n",
       "20170819    42\n",
       "20171007    40\n",
       "20171113    39\n",
       "20170928    38\n",
       "            ..\n",
       "20150519     1\n",
       "20131121     1\n",
       "20131201     1\n",
       "20150102     1\n",
       "20140921     1\n",
       "Name: became_member_on, Length: 1716, dtype: int64"
      ]
     },
     "execution_count": 26,
     "metadata": {},
     "output_type": "execute_result"
    }
   ],
   "source": [
    "check_value_counts(profile,\"became_member_on\")"
   ]
  },
  {
   "cell_type": "code",
   "execution_count": 27,
   "metadata": {
    "scrolled": false
   },
   "outputs": [
    {
     "data": {
      "text/plain": [
       "73000.0     314\n",
       "72000.0     297\n",
       "71000.0     294\n",
       "57000.0     288\n",
       "74000.0     282\n",
       "           ... \n",
       "116000.0     46\n",
       "107000.0     45\n",
       "112000.0     45\n",
       "117000.0     32\n",
       "120000.0     13\n",
       "Name: income, Length: 91, dtype: int64"
      ]
     },
     "execution_count": 27,
     "metadata": {},
     "output_type": "execute_result"
    }
   ],
   "source": [
    "check_value_counts(profile,\"income\")"
   ]
  },
  {
   "cell_type": "code",
   "execution_count": 28,
   "metadata": {
    "scrolled": true
   },
   "outputs": [
    {
     "data": {
      "text/plain": [
       "gender              2175\n",
       "age                    0\n",
       "id                     0\n",
       "became_member_on       0\n",
       "income              2175\n",
       "dtype: int64"
      ]
     },
     "execution_count": 28,
     "metadata": {},
     "output_type": "execute_result"
    }
   ],
   "source": [
    "check_null_values(profile)"
   ]
  },
  {
   "cell_type": "markdown",
   "metadata": {},
   "source": [
    "There are some missing values and messy data in the profile dataframe. Need to clean these data before doing the analysis"
   ]
  },
  {
   "cell_type": "markdown",
   "metadata": {},
   "source": [
    "## Data Cleaning"
   ]
  },
  {
   "cell_type": "markdown",
   "metadata": {},
   "source": [
    "### Transcript"
   ]
  },
  {
   "cell_type": "code",
   "execution_count": 29,
   "metadata": {},
   "outputs": [],
   "source": [
    "transcript.rename(columns = {'person':'customer_id'}, inplace=True)"
   ]
  },
  {
   "cell_type": "code",
   "execution_count": 30,
   "metadata": {
    "scrolled": false
   },
   "outputs": [
    {
     "data": {
      "text/html": [
       "<div>\n",
       "<style scoped>\n",
       "    .dataframe tbody tr th:only-of-type {\n",
       "        vertical-align: middle;\n",
       "    }\n",
       "\n",
       "    .dataframe tbody tr th {\n",
       "        vertical-align: top;\n",
       "    }\n",
       "\n",
       "    .dataframe thead th {\n",
       "        text-align: right;\n",
       "    }\n",
       "</style>\n",
       "<table border=\"1\" class=\"dataframe\">\n",
       "  <thead>\n",
       "    <tr style=\"text-align: right;\">\n",
       "      <th></th>\n",
       "      <th>customer_id</th>\n",
       "      <th>event</th>\n",
       "      <th>value</th>\n",
       "      <th>time</th>\n",
       "    </tr>\n",
       "  </thead>\n",
       "  <tbody>\n",
       "    <tr>\n",
       "      <th>0</th>\n",
       "      <td>78afa995795e4d85b5d9ceeca43f5fef</td>\n",
       "      <td>offer received</td>\n",
       "      <td>{'offer id': '9b98b8c7a33c4b65b9aebfe6a799e6d9'}</td>\n",
       "      <td>0</td>\n",
       "    </tr>\n",
       "    <tr>\n",
       "      <th>1</th>\n",
       "      <td>a03223e636434f42ac4c3df47e8bac43</td>\n",
       "      <td>offer received</td>\n",
       "      <td>{'offer id': '0b1e1539f2cc45b7b9fa7c272da2e1d7'}</td>\n",
       "      <td>0</td>\n",
       "    </tr>\n",
       "    <tr>\n",
       "      <th>2</th>\n",
       "      <td>e2127556f4f64592b11af22de27a7932</td>\n",
       "      <td>offer received</td>\n",
       "      <td>{'offer id': '2906b810c7d4411798c6938adc9daaa5'}</td>\n",
       "      <td>0</td>\n",
       "    </tr>\n",
       "    <tr>\n",
       "      <th>3</th>\n",
       "      <td>8ec6ce2a7e7949b1bf142def7d0e0586</td>\n",
       "      <td>offer received</td>\n",
       "      <td>{'offer id': 'fafdcd668e3743c1bb461111dcafc2a4'}</td>\n",
       "      <td>0</td>\n",
       "    </tr>\n",
       "    <tr>\n",
       "      <th>4</th>\n",
       "      <td>68617ca6246f4fbc85e91a2a49552598</td>\n",
       "      <td>offer received</td>\n",
       "      <td>{'offer id': '4d5c57ea9a6940dd891ad53e9dbe8da0'}</td>\n",
       "      <td>0</td>\n",
       "    </tr>\n",
       "  </tbody>\n",
       "</table>\n",
       "</div>"
      ],
      "text/plain": [
       "                        customer_id           event  \\\n",
       "0  78afa995795e4d85b5d9ceeca43f5fef  offer received   \n",
       "1  a03223e636434f42ac4c3df47e8bac43  offer received   \n",
       "2  e2127556f4f64592b11af22de27a7932  offer received   \n",
       "3  8ec6ce2a7e7949b1bf142def7d0e0586  offer received   \n",
       "4  68617ca6246f4fbc85e91a2a49552598  offer received   \n",
       "\n",
       "                                              value  time  \n",
       "0  {'offer id': '9b98b8c7a33c4b65b9aebfe6a799e6d9'}     0  \n",
       "1  {'offer id': '0b1e1539f2cc45b7b9fa7c272da2e1d7'}     0  \n",
       "2  {'offer id': '2906b810c7d4411798c6938adc9daaa5'}     0  \n",
       "3  {'offer id': 'fafdcd668e3743c1bb461111dcafc2a4'}     0  \n",
       "4  {'offer id': '4d5c57ea9a6940dd891ad53e9dbe8da0'}     0  "
      ]
     },
     "execution_count": 30,
     "metadata": {},
     "output_type": "execute_result"
    }
   ],
   "source": [
    "transcript.head()"
   ]
  },
  {
   "cell_type": "markdown",
   "metadata": {},
   "source": [
    "Need to break the value columns and get the offer ids and transaction amounts for further analysis."
   ]
  },
  {
   "cell_type": "code",
   "execution_count": 31,
   "metadata": {},
   "outputs": [
    {
     "data": {
      "text/plain": [
       "{'amount', 'offer id', 'offer_id', 'reward'}"
      ]
     },
     "execution_count": 31,
     "metadata": {},
     "output_type": "execute_result"
    }
   ],
   "source": [
    "#get unique keys in the value column\n",
    "keys = set()\n",
    "for i in range(transcript.shape[0]):  \n",
    "    k = list(transcript['value'].values[i].keys())\n",
    "    n_k = len(k)\n",
    "    for j in range(n_k):\n",
    "        keys.add(k[j])\n",
    "keys"
   ]
  },
  {
   "cell_type": "code",
   "execution_count": 32,
   "metadata": {
    "scrolled": true
   },
   "outputs": [],
   "source": [
    "keys = list(keys)"
   ]
  },
  {
   "cell_type": "code",
   "execution_count": 33,
   "metadata": {},
   "outputs": [],
   "source": [
    "def get_key_values(df, col):\n",
    "    '''\n",
    "    Get key and value pairs from the target column\n",
    "    \n",
    "    Args:\n",
    "        df(DataFrame): The DataFrame will processing\n",
    "        col(dict): the columns contain the dict to get the key and value\n",
    "    \n",
    "    Returns:\n",
    "        k(str or int): all the keys in the column\n",
    "        v(str or int): all the values in the column\n",
    "    '''\n",
    "    k = df[col].values[0].keys()\n",
    "    v = df[col].values[0].values()\n",
    "    return k, v"
   ]
  },
  {
   "cell_type": "code",
   "execution_count": 34,
   "metadata": {
    "scrolled": false
   },
   "outputs": [
    {
     "data": {
      "text/html": [
       "<div>\n",
       "<style scoped>\n",
       "    .dataframe tbody tr th:only-of-type {\n",
       "        vertical-align: middle;\n",
       "    }\n",
       "\n",
       "    .dataframe tbody tr th {\n",
       "        vertical-align: top;\n",
       "    }\n",
       "\n",
       "    .dataframe thead th {\n",
       "        text-align: right;\n",
       "    }\n",
       "</style>\n",
       "<table border=\"1\" class=\"dataframe\">\n",
       "  <thead>\n",
       "    <tr style=\"text-align: right;\">\n",
       "      <th></th>\n",
       "      <th>customer_id</th>\n",
       "      <th>event</th>\n",
       "      <th>value</th>\n",
       "      <th>time</th>\n",
       "      <th>amount</th>\n",
       "      <th>offer id</th>\n",
       "      <th>offer_id</th>\n",
       "      <th>reward</th>\n",
       "    </tr>\n",
       "  </thead>\n",
       "  <tbody>\n",
       "    <tr>\n",
       "      <th>0</th>\n",
       "      <td>78afa995795e4d85b5d9ceeca43f5fef</td>\n",
       "      <td>offer received</td>\n",
       "      <td>{'offer id': '9b98b8c7a33c4b65b9aebfe6a799e6d9'}</td>\n",
       "      <td>0</td>\n",
       "      <td>0.0</td>\n",
       "      <td>9b98b8c7a33c4b65b9aebfe6a799e6d9</td>\n",
       "      <td>0</td>\n",
       "      <td>0</td>\n",
       "    </tr>\n",
       "    <tr>\n",
       "      <th>1</th>\n",
       "      <td>a03223e636434f42ac4c3df47e8bac43</td>\n",
       "      <td>offer received</td>\n",
       "      <td>{'offer id': '0b1e1539f2cc45b7b9fa7c272da2e1d7'}</td>\n",
       "      <td>0</td>\n",
       "      <td>0.0</td>\n",
       "      <td>0b1e1539f2cc45b7b9fa7c272da2e1d7</td>\n",
       "      <td>0</td>\n",
       "      <td>0</td>\n",
       "    </tr>\n",
       "    <tr>\n",
       "      <th>2</th>\n",
       "      <td>e2127556f4f64592b11af22de27a7932</td>\n",
       "      <td>offer received</td>\n",
       "      <td>{'offer id': '2906b810c7d4411798c6938adc9daaa5'}</td>\n",
       "      <td>0</td>\n",
       "      <td>0.0</td>\n",
       "      <td>2906b810c7d4411798c6938adc9daaa5</td>\n",
       "      <td>0</td>\n",
       "      <td>0</td>\n",
       "    </tr>\n",
       "    <tr>\n",
       "      <th>3</th>\n",
       "      <td>8ec6ce2a7e7949b1bf142def7d0e0586</td>\n",
       "      <td>offer received</td>\n",
       "      <td>{'offer id': 'fafdcd668e3743c1bb461111dcafc2a4'}</td>\n",
       "      <td>0</td>\n",
       "      <td>0.0</td>\n",
       "      <td>fafdcd668e3743c1bb461111dcafc2a4</td>\n",
       "      <td>0</td>\n",
       "      <td>0</td>\n",
       "    </tr>\n",
       "    <tr>\n",
       "      <th>4</th>\n",
       "      <td>68617ca6246f4fbc85e91a2a49552598</td>\n",
       "      <td>offer received</td>\n",
       "      <td>{'offer id': '4d5c57ea9a6940dd891ad53e9dbe8da0'}</td>\n",
       "      <td>0</td>\n",
       "      <td>0.0</td>\n",
       "      <td>4d5c57ea9a6940dd891ad53e9dbe8da0</td>\n",
       "      <td>0</td>\n",
       "      <td>0</td>\n",
       "    </tr>\n",
       "  </tbody>\n",
       "</table>\n",
       "</div>"
      ],
      "text/plain": [
       "                        customer_id           event  \\\n",
       "0  78afa995795e4d85b5d9ceeca43f5fef  offer received   \n",
       "1  a03223e636434f42ac4c3df47e8bac43  offer received   \n",
       "2  e2127556f4f64592b11af22de27a7932  offer received   \n",
       "3  8ec6ce2a7e7949b1bf142def7d0e0586  offer received   \n",
       "4  68617ca6246f4fbc85e91a2a49552598  offer received   \n",
       "\n",
       "                                              value  time  amount  \\\n",
       "0  {'offer id': '9b98b8c7a33c4b65b9aebfe6a799e6d9'}     0     0.0   \n",
       "1  {'offer id': '0b1e1539f2cc45b7b9fa7c272da2e1d7'}     0     0.0   \n",
       "2  {'offer id': '2906b810c7d4411798c6938adc9daaa5'}     0     0.0   \n",
       "3  {'offer id': 'fafdcd668e3743c1bb461111dcafc2a4'}     0     0.0   \n",
       "4  {'offer id': '4d5c57ea9a6940dd891ad53e9dbe8da0'}     0     0.0   \n",
       "\n",
       "                           offer id offer_id  reward  \n",
       "0  9b98b8c7a33c4b65b9aebfe6a799e6d9        0       0  \n",
       "1  0b1e1539f2cc45b7b9fa7c272da2e1d7        0       0  \n",
       "2  2906b810c7d4411798c6938adc9daaa5        0       0  \n",
       "3  fafdcd668e3743c1bb461111dcafc2a4        0       0  \n",
       "4  4d5c57ea9a6940dd891ad53e9dbe8da0        0       0  "
      ]
     },
     "execution_count": 34,
     "metadata": {},
     "output_type": "execute_result"
    }
   ],
   "source": [
    "for key in keys:\n",
    "    transcript[key] = transcript[\"value\"].apply(lambda k: k[key] if key in k else 0)\n",
    "transcript.head()"
   ]
  },
  {
   "cell_type": "code",
   "execution_count": 35,
   "metadata": {
    "scrolled": true
   },
   "outputs": [],
   "source": [
    "transcript[\"portfolio_id\"] = transcript.apply(lambda x: x[\"offer id\"] if x[\"offer id\"] != 0 else x[\"offer_id\"], axis = 1)"
   ]
  },
  {
   "cell_type": "code",
   "execution_count": 36,
   "metadata": {},
   "outputs": [],
   "source": [
    "transcript.drop([\"offer id\", \"offer_id\", \"value\"], axis = 1, inplace=True)"
   ]
  },
  {
   "cell_type": "code",
   "execution_count": 37,
   "metadata": {
    "scrolled": true
   },
   "outputs": [
    {
     "data": {
      "text/html": [
       "<div>\n",
       "<style scoped>\n",
       "    .dataframe tbody tr th:only-of-type {\n",
       "        vertical-align: middle;\n",
       "    }\n",
       "\n",
       "    .dataframe tbody tr th {\n",
       "        vertical-align: top;\n",
       "    }\n",
       "\n",
       "    .dataframe thead th {\n",
       "        text-align: right;\n",
       "    }\n",
       "</style>\n",
       "<table border=\"1\" class=\"dataframe\">\n",
       "  <thead>\n",
       "    <tr style=\"text-align: right;\">\n",
       "      <th></th>\n",
       "      <th>customer_id</th>\n",
       "      <th>event</th>\n",
       "      <th>time</th>\n",
       "      <th>amount</th>\n",
       "      <th>reward</th>\n",
       "      <th>portfolio_id</th>\n",
       "    </tr>\n",
       "  </thead>\n",
       "  <tbody>\n",
       "    <tr>\n",
       "      <th>0</th>\n",
       "      <td>78afa995795e4d85b5d9ceeca43f5fef</td>\n",
       "      <td>offer received</td>\n",
       "      <td>0</td>\n",
       "      <td>0.0</td>\n",
       "      <td>0</td>\n",
       "      <td>9b98b8c7a33c4b65b9aebfe6a799e6d9</td>\n",
       "    </tr>\n",
       "    <tr>\n",
       "      <th>1</th>\n",
       "      <td>a03223e636434f42ac4c3df47e8bac43</td>\n",
       "      <td>offer received</td>\n",
       "      <td>0</td>\n",
       "      <td>0.0</td>\n",
       "      <td>0</td>\n",
       "      <td>0b1e1539f2cc45b7b9fa7c272da2e1d7</td>\n",
       "    </tr>\n",
       "    <tr>\n",
       "      <th>2</th>\n",
       "      <td>e2127556f4f64592b11af22de27a7932</td>\n",
       "      <td>offer received</td>\n",
       "      <td>0</td>\n",
       "      <td>0.0</td>\n",
       "      <td>0</td>\n",
       "      <td>2906b810c7d4411798c6938adc9daaa5</td>\n",
       "    </tr>\n",
       "    <tr>\n",
       "      <th>3</th>\n",
       "      <td>8ec6ce2a7e7949b1bf142def7d0e0586</td>\n",
       "      <td>offer received</td>\n",
       "      <td>0</td>\n",
       "      <td>0.0</td>\n",
       "      <td>0</td>\n",
       "      <td>fafdcd668e3743c1bb461111dcafc2a4</td>\n",
       "    </tr>\n",
       "    <tr>\n",
       "      <th>4</th>\n",
       "      <td>68617ca6246f4fbc85e91a2a49552598</td>\n",
       "      <td>offer received</td>\n",
       "      <td>0</td>\n",
       "      <td>0.0</td>\n",
       "      <td>0</td>\n",
       "      <td>4d5c57ea9a6940dd891ad53e9dbe8da0</td>\n",
       "    </tr>\n",
       "  </tbody>\n",
       "</table>\n",
       "</div>"
      ],
      "text/plain": [
       "                        customer_id           event  time  amount  reward  \\\n",
       "0  78afa995795e4d85b5d9ceeca43f5fef  offer received     0     0.0       0   \n",
       "1  a03223e636434f42ac4c3df47e8bac43  offer received     0     0.0       0   \n",
       "2  e2127556f4f64592b11af22de27a7932  offer received     0     0.0       0   \n",
       "3  8ec6ce2a7e7949b1bf142def7d0e0586  offer received     0     0.0       0   \n",
       "4  68617ca6246f4fbc85e91a2a49552598  offer received     0     0.0       0   \n",
       "\n",
       "                       portfolio_id  \n",
       "0  9b98b8c7a33c4b65b9aebfe6a799e6d9  \n",
       "1  0b1e1539f2cc45b7b9fa7c272da2e1d7  \n",
       "2  2906b810c7d4411798c6938adc9daaa5  \n",
       "3  fafdcd668e3743c1bb461111dcafc2a4  \n",
       "4  4d5c57ea9a6940dd891ad53e9dbe8da0  "
      ]
     },
     "execution_count": 37,
     "metadata": {},
     "output_type": "execute_result"
    }
   ],
   "source": [
    "transcript.head()"
   ]
  },
  {
   "cell_type": "code",
   "execution_count": 38,
   "metadata": {
    "scrolled": true
   },
   "outputs": [
    {
     "data": {
      "text/plain": [
       "array(['offer received', 'offer viewed', 'transaction', 'offer completed'],\n",
       "      dtype=object)"
      ]
     },
     "execution_count": 38,
     "metadata": {},
     "output_type": "execute_result"
    }
   ],
   "source": [
    "transcript[\"event\"].unique()"
   ]
  },
  {
   "cell_type": "code",
   "execution_count": 39,
   "metadata": {},
   "outputs": [
    {
     "data": {
      "text/plain": [
       "count    138953.000000\n",
       "mean         12.777356\n",
       "std          30.250529\n",
       "min           0.050000\n",
       "25%           2.780000\n",
       "50%           8.890000\n",
       "75%          18.070000\n",
       "max        1062.280000\n",
       "Name: amount, dtype: float64"
      ]
     },
     "execution_count": 39,
     "metadata": {},
     "output_type": "execute_result"
    }
   ],
   "source": [
    "transcript.loc[transcript[\"portfolio_id\"]==0, \"amount\"].describe()"
   ]
  },
  {
   "cell_type": "markdown",
   "metadata": {},
   "source": [
    "## Portfolio"
   ]
  },
  {
   "cell_type": "code",
   "execution_count": 40,
   "metadata": {},
   "outputs": [],
   "source": [
    "portfolio.rename(columns ={'id':'portfolio_id'}, inplace=True)"
   ]
  },
  {
   "cell_type": "code",
   "execution_count": 41,
   "metadata": {},
   "outputs": [
    {
     "data": {
      "text/plain": [
       "0         [email, mobile, social]\n",
       "1    [web, email, mobile, social]\n",
       "2            [web, email, mobile]\n",
       "3            [web, email, mobile]\n",
       "4                    [web, email]\n",
       "5    [web, email, mobile, social]\n",
       "6    [web, email, mobile, social]\n",
       "7         [email, mobile, social]\n",
       "8    [web, email, mobile, social]\n",
       "9            [web, email, mobile]\n",
       "Name: channels, dtype: object"
      ]
     },
     "execution_count": 41,
     "metadata": {},
     "output_type": "execute_result"
    }
   ],
   "source": [
    "portfolio['channels']"
   ]
  },
  {
   "cell_type": "code",
   "execution_count": 42,
   "metadata": {
    "scrolled": true
   },
   "outputs": [
    {
     "data": {
      "text/plain": [
       "(['web', 'email', 'mobile', 'social'], ['email', 'mobile', 'social'])"
      ]
     },
     "execution_count": 42,
     "metadata": {},
     "output_type": "execute_result"
    }
   ],
   "source": [
    "channels_max = portfolio['channels'].max()\n",
    "channels_min = portfolio['channels'].min()\n",
    "channels_max, channels_min"
   ]
  },
  {
   "cell_type": "code",
   "execution_count": 43,
   "metadata": {},
   "outputs": [],
   "source": [
    "for channel in channels_max:\n",
    "    portfolio['channel_' + channel] = portfolio.apply(lambda x: 1 if channel in x['channels'] else 0, axis = 1)"
   ]
  },
  {
   "cell_type": "code",
   "execution_count": 44,
   "metadata": {
    "scrolled": true
   },
   "outputs": [
    {
     "data": {
      "text/html": [
       "<div>\n",
       "<style scoped>\n",
       "    .dataframe tbody tr th:only-of-type {\n",
       "        vertical-align: middle;\n",
       "    }\n",
       "\n",
       "    .dataframe tbody tr th {\n",
       "        vertical-align: top;\n",
       "    }\n",
       "\n",
       "    .dataframe thead th {\n",
       "        text-align: right;\n",
       "    }\n",
       "</style>\n",
       "<table border=\"1\" class=\"dataframe\">\n",
       "  <thead>\n",
       "    <tr style=\"text-align: right;\">\n",
       "      <th></th>\n",
       "      <th>reward</th>\n",
       "      <th>channels</th>\n",
       "      <th>difficulty</th>\n",
       "      <th>duration</th>\n",
       "      <th>offer_type</th>\n",
       "      <th>portfolio_id</th>\n",
       "      <th>channel_web</th>\n",
       "      <th>channel_email</th>\n",
       "      <th>channel_mobile</th>\n",
       "      <th>channel_social</th>\n",
       "    </tr>\n",
       "  </thead>\n",
       "  <tbody>\n",
       "    <tr>\n",
       "      <th>0</th>\n",
       "      <td>10</td>\n",
       "      <td>[email, mobile, social]</td>\n",
       "      <td>10</td>\n",
       "      <td>7</td>\n",
       "      <td>bogo</td>\n",
       "      <td>ae264e3637204a6fb9bb56bc8210ddfd</td>\n",
       "      <td>0</td>\n",
       "      <td>1</td>\n",
       "      <td>1</td>\n",
       "      <td>1</td>\n",
       "    </tr>\n",
       "    <tr>\n",
       "      <th>1</th>\n",
       "      <td>10</td>\n",
       "      <td>[web, email, mobile, social]</td>\n",
       "      <td>10</td>\n",
       "      <td>5</td>\n",
       "      <td>bogo</td>\n",
       "      <td>4d5c57ea9a6940dd891ad53e9dbe8da0</td>\n",
       "      <td>1</td>\n",
       "      <td>1</td>\n",
       "      <td>1</td>\n",
       "      <td>1</td>\n",
       "    </tr>\n",
       "    <tr>\n",
       "      <th>2</th>\n",
       "      <td>0</td>\n",
       "      <td>[web, email, mobile]</td>\n",
       "      <td>0</td>\n",
       "      <td>4</td>\n",
       "      <td>informational</td>\n",
       "      <td>3f207df678b143eea3cee63160fa8bed</td>\n",
       "      <td>1</td>\n",
       "      <td>1</td>\n",
       "      <td>1</td>\n",
       "      <td>0</td>\n",
       "    </tr>\n",
       "    <tr>\n",
       "      <th>3</th>\n",
       "      <td>5</td>\n",
       "      <td>[web, email, mobile]</td>\n",
       "      <td>5</td>\n",
       "      <td>7</td>\n",
       "      <td>bogo</td>\n",
       "      <td>9b98b8c7a33c4b65b9aebfe6a799e6d9</td>\n",
       "      <td>1</td>\n",
       "      <td>1</td>\n",
       "      <td>1</td>\n",
       "      <td>0</td>\n",
       "    </tr>\n",
       "    <tr>\n",
       "      <th>4</th>\n",
       "      <td>5</td>\n",
       "      <td>[web, email]</td>\n",
       "      <td>20</td>\n",
       "      <td>10</td>\n",
       "      <td>discount</td>\n",
       "      <td>0b1e1539f2cc45b7b9fa7c272da2e1d7</td>\n",
       "      <td>1</td>\n",
       "      <td>1</td>\n",
       "      <td>0</td>\n",
       "      <td>0</td>\n",
       "    </tr>\n",
       "  </tbody>\n",
       "</table>\n",
       "</div>"
      ],
      "text/plain": [
       "   reward                      channels  difficulty  duration     offer_type  \\\n",
       "0      10       [email, mobile, social]          10         7           bogo   \n",
       "1      10  [web, email, mobile, social]          10         5           bogo   \n",
       "2       0          [web, email, mobile]           0         4  informational   \n",
       "3       5          [web, email, mobile]           5         7           bogo   \n",
       "4       5                  [web, email]          20        10       discount   \n",
       "\n",
       "                       portfolio_id  channel_web  channel_email  \\\n",
       "0  ae264e3637204a6fb9bb56bc8210ddfd            0              1   \n",
       "1  4d5c57ea9a6940dd891ad53e9dbe8da0            1              1   \n",
       "2  3f207df678b143eea3cee63160fa8bed            1              1   \n",
       "3  9b98b8c7a33c4b65b9aebfe6a799e6d9            1              1   \n",
       "4  0b1e1539f2cc45b7b9fa7c272da2e1d7            1              1   \n",
       "\n",
       "   channel_mobile  channel_social  \n",
       "0               1               1  \n",
       "1               1               1  \n",
       "2               1               0  \n",
       "3               1               0  \n",
       "4               0               0  "
      ]
     },
     "execution_count": 44,
     "metadata": {},
     "output_type": "execute_result"
    }
   ],
   "source": [
    "portfolio.head()"
   ]
  },
  {
   "cell_type": "code",
   "execution_count": 45,
   "metadata": {},
   "outputs": [],
   "source": [
    "portfolio.drop(['channels'], axis = 1, inplace=True)"
   ]
  },
  {
   "cell_type": "code",
   "execution_count": 46,
   "metadata": {},
   "outputs": [],
   "source": [
    "portfolio[\"offer_name\"] = \"offer_\"+portfolio.index.astype(str)"
   ]
  },
  {
   "cell_type": "code",
   "execution_count": 47,
   "metadata": {
    "scrolled": true
   },
   "outputs": [
    {
     "data": {
      "text/html": [
       "<div>\n",
       "<style scoped>\n",
       "    .dataframe tbody tr th:only-of-type {\n",
       "        vertical-align: middle;\n",
       "    }\n",
       "\n",
       "    .dataframe tbody tr th {\n",
       "        vertical-align: top;\n",
       "    }\n",
       "\n",
       "    .dataframe thead th {\n",
       "        text-align: right;\n",
       "    }\n",
       "</style>\n",
       "<table border=\"1\" class=\"dataframe\">\n",
       "  <thead>\n",
       "    <tr style=\"text-align: right;\">\n",
       "      <th></th>\n",
       "      <th>reward</th>\n",
       "      <th>difficulty</th>\n",
       "      <th>duration</th>\n",
       "      <th>offer_type</th>\n",
       "      <th>portfolio_id</th>\n",
       "      <th>channel_web</th>\n",
       "      <th>channel_email</th>\n",
       "      <th>channel_mobile</th>\n",
       "      <th>channel_social</th>\n",
       "      <th>offer_name</th>\n",
       "    </tr>\n",
       "  </thead>\n",
       "  <tbody>\n",
       "    <tr>\n",
       "      <th>0</th>\n",
       "      <td>10</td>\n",
       "      <td>10</td>\n",
       "      <td>7</td>\n",
       "      <td>bogo</td>\n",
       "      <td>ae264e3637204a6fb9bb56bc8210ddfd</td>\n",
       "      <td>0</td>\n",
       "      <td>1</td>\n",
       "      <td>1</td>\n",
       "      <td>1</td>\n",
       "      <td>offer_0</td>\n",
       "    </tr>\n",
       "    <tr>\n",
       "      <th>1</th>\n",
       "      <td>10</td>\n",
       "      <td>10</td>\n",
       "      <td>5</td>\n",
       "      <td>bogo</td>\n",
       "      <td>4d5c57ea9a6940dd891ad53e9dbe8da0</td>\n",
       "      <td>1</td>\n",
       "      <td>1</td>\n",
       "      <td>1</td>\n",
       "      <td>1</td>\n",
       "      <td>offer_1</td>\n",
       "    </tr>\n",
       "    <tr>\n",
       "      <th>2</th>\n",
       "      <td>0</td>\n",
       "      <td>0</td>\n",
       "      <td>4</td>\n",
       "      <td>informational</td>\n",
       "      <td>3f207df678b143eea3cee63160fa8bed</td>\n",
       "      <td>1</td>\n",
       "      <td>1</td>\n",
       "      <td>1</td>\n",
       "      <td>0</td>\n",
       "      <td>offer_2</td>\n",
       "    </tr>\n",
       "    <tr>\n",
       "      <th>3</th>\n",
       "      <td>5</td>\n",
       "      <td>5</td>\n",
       "      <td>7</td>\n",
       "      <td>bogo</td>\n",
       "      <td>9b98b8c7a33c4b65b9aebfe6a799e6d9</td>\n",
       "      <td>1</td>\n",
       "      <td>1</td>\n",
       "      <td>1</td>\n",
       "      <td>0</td>\n",
       "      <td>offer_3</td>\n",
       "    </tr>\n",
       "    <tr>\n",
       "      <th>4</th>\n",
       "      <td>5</td>\n",
       "      <td>20</td>\n",
       "      <td>10</td>\n",
       "      <td>discount</td>\n",
       "      <td>0b1e1539f2cc45b7b9fa7c272da2e1d7</td>\n",
       "      <td>1</td>\n",
       "      <td>1</td>\n",
       "      <td>0</td>\n",
       "      <td>0</td>\n",
       "      <td>offer_4</td>\n",
       "    </tr>\n",
       "  </tbody>\n",
       "</table>\n",
       "</div>"
      ],
      "text/plain": [
       "   reward  difficulty  duration     offer_type  \\\n",
       "0      10          10         7           bogo   \n",
       "1      10          10         5           bogo   \n",
       "2       0           0         4  informational   \n",
       "3       5           5         7           bogo   \n",
       "4       5          20        10       discount   \n",
       "\n",
       "                       portfolio_id  channel_web  channel_email  \\\n",
       "0  ae264e3637204a6fb9bb56bc8210ddfd            0              1   \n",
       "1  4d5c57ea9a6940dd891ad53e9dbe8da0            1              1   \n",
       "2  3f207df678b143eea3cee63160fa8bed            1              1   \n",
       "3  9b98b8c7a33c4b65b9aebfe6a799e6d9            1              1   \n",
       "4  0b1e1539f2cc45b7b9fa7c272da2e1d7            1              1   \n",
       "\n",
       "   channel_mobile  channel_social offer_name  \n",
       "0               1               1    offer_0  \n",
       "1               1               1    offer_1  \n",
       "2               1               0    offer_2  \n",
       "3               1               0    offer_3  \n",
       "4               0               0    offer_4  "
      ]
     },
     "execution_count": 47,
     "metadata": {},
     "output_type": "execute_result"
    }
   ],
   "source": [
    "portfolio.head()"
   ]
  },
  {
   "cell_type": "markdown",
   "metadata": {},
   "source": [
    "## Profile"
   ]
  },
  {
   "cell_type": "code",
   "execution_count": 48,
   "metadata": {},
   "outputs": [],
   "source": [
    "profile.rename(columns={'id':'customer_id'}, inplace=True)"
   ]
  },
  {
   "cell_type": "code",
   "execution_count": 49,
   "metadata": {},
   "outputs": [],
   "source": [
    "profile[\"customer_name\"] = \"customer_\"+profile.index.astype(str)"
   ]
  },
  {
   "cell_type": "code",
   "execution_count": 50,
   "metadata": {},
   "outputs": [],
   "source": [
    "profile['became_member_on'] = profile.apply(lambda x: pd.to_datetime(str(x['became_member_on']), format='%Y%m%d'), axis = 1)"
   ]
  },
  {
   "cell_type": "code",
   "execution_count": 51,
   "metadata": {},
   "outputs": [],
   "source": [
    "profile['days_since_member'] = (pd.to_datetime(\"today\") - profile['became_member_on']).dt.days"
   ]
  },
  {
   "cell_type": "code",
   "execution_count": 52,
   "metadata": {
    "scrolled": false
   },
   "outputs": [
    {
     "data": {
      "text/plain": [
       "count    17000.000000\n",
       "mean        62.531412\n",
       "std         26.738580\n",
       "min         18.000000\n",
       "25%         45.000000\n",
       "50%         58.000000\n",
       "75%         73.000000\n",
       "max        118.000000\n",
       "Name: age, dtype: float64"
      ]
     },
     "execution_count": 52,
     "metadata": {},
     "output_type": "execute_result"
    }
   ],
   "source": [
    "profile['age'].describe()"
   ]
  },
  {
   "cell_type": "markdown",
   "metadata": {},
   "source": [
    "Because there are many place holders (age 118) in the dataset. Need to convert and clean them."
   ]
  },
  {
   "cell_type": "code",
   "execution_count": 53,
   "metadata": {},
   "outputs": [],
   "source": [
    "profile['age'].replace([118], np.nan, inplace=True)"
   ]
  },
  {
   "cell_type": "code",
   "execution_count": 54,
   "metadata": {},
   "outputs": [
    {
     "data": {
      "text/plain": [
       "count    14825.000000\n",
       "mean        54.393524\n",
       "std         17.383705\n",
       "min         18.000000\n",
       "25%         42.000000\n",
       "50%         55.000000\n",
       "75%         66.000000\n",
       "max        101.000000\n",
       "Name: age, dtype: float64"
      ]
     },
     "execution_count": 54,
     "metadata": {},
     "output_type": "execute_result"
    }
   ],
   "source": [
    "profile.loc[~profile[\"age\"].isnull(), \"age\"].describe()"
   ]
  },
  {
   "cell_type": "code",
   "execution_count": 55,
   "metadata": {
    "scrolled": true
   },
   "outputs": [
    {
     "data": {
      "text/plain": [
       "Text(0,0.5,'Number of Customers')"
      ]
     },
     "execution_count": 55,
     "metadata": {},
     "output_type": "execute_result"
    },
    {
     "data": {
      "image/png": "[encoded data removed]",
      "text/plain": [
       "<matplotlib.figure.Figure at 0x7ffa6ae59a20>"
      ]
     },
     "metadata": {
      "needs_background": "light"
     },
     "output_type": "display_data"
    }
   ],
   "source": [
    "plt.hist(profile.loc[~profile[\"age\"].isnull(), \"age\"], bins = 20)\n",
    "plt.xlabel(\"Age\")\n",
    "plt.ylabel(\"Number of Customers\")"
   ]
  },
  {
   "cell_type": "markdown",
   "metadata": {},
   "source": [
    "Need to fill the missing values in the age column and imputate a random number between 25 percentile - 75 percentile."
   ]
  },
  {
   "cell_type": "code",
   "execution_count": 56,
   "metadata": {},
   "outputs": [],
   "source": [
    "def cus_fill_na(df, col):\n",
    "    \"\"\"\n",
    "    Fulfill null values by using random number between 25 percentile and 75 percentile\n",
    "    \n",
    "    Args:\n",
    "        df (DataFrame): The DataFrame to fulfill nulls\n",
    "        col (int): The int col to fulfill nulls\n",
    "    \n",
    "    Returns:\n",
    "        df[col](Series): The Series of col with all nulls fulfilled\n",
    "    \"\"\"\n",
    "    upper_lim = df.loc[~df[col].isnull(), col].quantile(.75)\n",
    "    lower_lim = df.loc[~df[col].isnull(), col].quantile(.25)\n",
    "    df[col] = df[col].fillna(np.random.randint(lower_lim, upper_lim, 1)[0])\n",
    "    \n",
    "    return df[col]"
   ]
  },
  {
   "cell_type": "code",
   "execution_count": 57,
   "metadata": {},
   "outputs": [],
   "source": [
    "profile['age'] = cus_fill_na(profile, \"age\")"
   ]
  },
  {
   "cell_type": "code",
   "execution_count": 58,
   "metadata": {},
   "outputs": [
    {
     "data": {
      "text/plain": [
       "count    17000.000000\n",
       "mean        54.471118\n",
       "std         16.234809\n",
       "min         18.000000\n",
       "25%         45.000000\n",
       "50%         55.000000\n",
       "75%         65.000000\n",
       "max        101.000000\n",
       "Name: age, dtype: float64"
      ]
     },
     "execution_count": 58,
     "metadata": {},
     "output_type": "execute_result"
    }
   ],
   "source": [
    "profile['age'].describe()"
   ]
  },
  {
   "cell_type": "code",
   "execution_count": 59,
   "metadata": {
    "scrolled": true
   },
   "outputs": [
    {
     "data": {
      "text/plain": [
       "Text(0,0.5,'Number of Customers')"
      ]
     },
     "execution_count": 59,
     "metadata": {},
     "output_type": "execute_result"
    },
    {
     "data": {
      "image/png": "[encoded data removed]",
      "text/plain": [
       "<matplotlib.figure.Figure at 0x7ffa6ae16908>"
      ]
     },
     "metadata": {
      "needs_background": "light"
     },
     "output_type": "display_data"
    }
   ],
   "source": [
    "plt.hist(profile[\"age\"], bins = 20)\n",
    "plt.xlabel(\"Age\")\n",
    "plt.ylabel(\"Number of Customers\")"
   ]
  },
  {
   "cell_type": "markdown",
   "metadata": {},
   "source": [
    "Fill the missing values in the income by the same imputation logic as the one of age."
   ]
  },
  {
   "cell_type": "code",
   "execution_count": 60,
   "metadata": {
    "scrolled": true
   },
   "outputs": [
    {
     "data": {
      "text/plain": [
       "count     14825.000000\n",
       "mean      65404.991568\n",
       "std       21598.299410\n",
       "min       30000.000000\n",
       "25%       49000.000000\n",
       "50%       64000.000000\n",
       "75%       80000.000000\n",
       "max      120000.000000\n",
       "Name: income, dtype: float64"
      ]
     },
     "execution_count": 60,
     "metadata": {},
     "output_type": "execute_result"
    }
   ],
   "source": [
    "profile[\"income\"].describe()"
   ]
  },
  {
   "cell_type": "code",
   "execution_count": 61,
   "metadata": {
    "scrolled": true
   },
   "outputs": [
    {
     "data": {
      "text/plain": [
       "Text(0,0.5,'Number of Customers')"
      ]
     },
     "execution_count": 61,
     "metadata": {},
     "output_type": "execute_result"
    },
    {
     "data": {
      "image/png": "[encoded data removed]",
      "text/plain": [
       "<matplotlib.figure.Figure at 0x7ffa6ade2e48>"
      ]
     },
     "metadata": {
      "needs_background": "light"
     },
     "output_type": "display_data"
    }
   ],
   "source": [
    "plt.hist(profile.loc[~profile[\"income\"].isnull(), \"income\"], bins = 10)\n",
    "plt.xlabel(\"Income\")\n",
    "plt.ylabel(\"Number of Customers\")"
   ]
  },
  {
   "cell_type": "code",
   "execution_count": 62,
   "metadata": {},
   "outputs": [],
   "source": [
    "profile['income'] = cus_fill_na(profile, \"income\")"
   ]
  },
  {
   "cell_type": "code",
   "execution_count": 63,
   "metadata": {
    "scrolled": true
   },
   "outputs": [
    {
     "data": {
      "text/plain": [
       "count     17000.000000\n",
       "mean      67097.142647\n",
       "std       20647.478474\n",
       "min       30000.000000\n",
       "25%       51000.000000\n",
       "50%       68000.000000\n",
       "75%       78631.000000\n",
       "max      120000.000000\n",
       "Name: income, dtype: float64"
      ]
     },
     "execution_count": 63,
     "metadata": {},
     "output_type": "execute_result"
    }
   ],
   "source": [
    "profile[\"income\"].describe()"
   ]
  },
  {
   "cell_type": "code",
   "execution_count": 64,
   "metadata": {
    "scrolled": true
   },
   "outputs": [
    {
     "data": {
      "text/plain": [
       "Text(0,0.5,'Number of Customers')"
      ]
     },
     "execution_count": 64,
     "metadata": {},
     "output_type": "execute_result"
    },
    {
     "data": {
      "image/png": "[encoded data removed]",
      "text/plain": [
       "<matplotlib.figure.Figure at 0x7ffa6ae09630>"
      ]
     },
     "metadata": {
      "needs_background": "light"
     },
     "output_type": "display_data"
    }
   ],
   "source": [
    "plt.hist(profile['income'], bins=10)\n",
    "plt.xlabel(\"Income\")\n",
    "plt.ylabel(\"Number of Customers\")"
   ]
  },
  {
   "cell_type": "markdown",
   "metadata": {},
   "source": [
    "# Group Transcript Data"
   ]
  },
  {
   "cell_type": "markdown",
   "metadata": {},
   "source": [
    "Because the transactions don't associate with an offer id. It is hard to know what transactions are realted with offer or related with what offer. To get better analysis for what customers interested in offers and what offers. It is important to link the transactions with offers.\n",
    "\n",
    "However, the influences of the informatical offers on the shopping behavior may not be the same as the ones of BOGO and discount offers. I don't include the informatical offers in this process. This process will mainly focus on the BOGO and discount offers."
   ]
  },
  {
   "cell_type": "markdown",
   "metadata": {},
   "source": [
    "## Define Offer Related Transactions"
   ]
  },
  {
   "cell_type": "code",
   "execution_count": 65,
   "metadata": {},
   "outputs": [
    {
     "data": {
      "text/plain": [
       "array(['offer received', 'offer viewed', 'transaction', 'offer completed'],\n",
       "      dtype=object)"
      ]
     },
     "execution_count": 65,
     "metadata": {},
     "output_type": "execute_result"
    }
   ],
   "source": [
    "transcript[\"event\"].unique()"
   ]
  },
  {
   "cell_type": "code",
   "execution_count": 66,
   "metadata": {
    "scrolled": true
   },
   "outputs": [
    {
     "data": {
      "text/plain": [
       "Index(['customer_id', 'event', 'time', 'amount', 'reward', 'portfolio_id'], dtype='object')"
      ]
     },
     "execution_count": 66,
     "metadata": {},
     "output_type": "execute_result"
    }
   ],
   "source": [
    "transcript.columns"
   ]
  },
  {
   "cell_type": "code",
   "execution_count": 67,
   "metadata": {
    "scrolled": true
   },
   "outputs": [
    {
     "data": {
      "text/html": [
       "<div>\n",
       "<style scoped>\n",
       "    .dataframe tbody tr th:only-of-type {\n",
       "        vertical-align: middle;\n",
       "    }\n",
       "\n",
       "    .dataframe tbody tr th {\n",
       "        vertical-align: top;\n",
       "    }\n",
       "\n",
       "    .dataframe thead th {\n",
       "        text-align: right;\n",
       "    }\n",
       "</style>\n",
       "<table border=\"1\" class=\"dataframe\">\n",
       "  <thead>\n",
       "    <tr style=\"text-align: right;\">\n",
       "      <th></th>\n",
       "      <th>reward</th>\n",
       "      <th>difficulty</th>\n",
       "      <th>duration</th>\n",
       "      <th>offer_type</th>\n",
       "      <th>portfolio_id</th>\n",
       "      <th>channel_web</th>\n",
       "      <th>channel_email</th>\n",
       "      <th>channel_mobile</th>\n",
       "      <th>channel_social</th>\n",
       "      <th>offer_name</th>\n",
       "    </tr>\n",
       "  </thead>\n",
       "  <tbody>\n",
       "    <tr>\n",
       "      <th>0</th>\n",
       "      <td>10</td>\n",
       "      <td>10</td>\n",
       "      <td>7</td>\n",
       "      <td>bogo</td>\n",
       "      <td>ae264e3637204a6fb9bb56bc8210ddfd</td>\n",
       "      <td>0</td>\n",
       "      <td>1</td>\n",
       "      <td>1</td>\n",
       "      <td>1</td>\n",
       "      <td>offer_0</td>\n",
       "    </tr>\n",
       "    <tr>\n",
       "      <th>1</th>\n",
       "      <td>10</td>\n",
       "      <td>10</td>\n",
       "      <td>5</td>\n",
       "      <td>bogo</td>\n",
       "      <td>4d5c57ea9a6940dd891ad53e9dbe8da0</td>\n",
       "      <td>1</td>\n",
       "      <td>1</td>\n",
       "      <td>1</td>\n",
       "      <td>1</td>\n",
       "      <td>offer_1</td>\n",
       "    </tr>\n",
       "    <tr>\n",
       "      <th>2</th>\n",
       "      <td>0</td>\n",
       "      <td>0</td>\n",
       "      <td>4</td>\n",
       "      <td>informational</td>\n",
       "      <td>3f207df678b143eea3cee63160fa8bed</td>\n",
       "      <td>1</td>\n",
       "      <td>1</td>\n",
       "      <td>1</td>\n",
       "      <td>0</td>\n",
       "      <td>offer_2</td>\n",
       "    </tr>\n",
       "    <tr>\n",
       "      <th>3</th>\n",
       "      <td>5</td>\n",
       "      <td>5</td>\n",
       "      <td>7</td>\n",
       "      <td>bogo</td>\n",
       "      <td>9b98b8c7a33c4b65b9aebfe6a799e6d9</td>\n",
       "      <td>1</td>\n",
       "      <td>1</td>\n",
       "      <td>1</td>\n",
       "      <td>0</td>\n",
       "      <td>offer_3</td>\n",
       "    </tr>\n",
       "    <tr>\n",
       "      <th>4</th>\n",
       "      <td>5</td>\n",
       "      <td>20</td>\n",
       "      <td>10</td>\n",
       "      <td>discount</td>\n",
       "      <td>0b1e1539f2cc45b7b9fa7c272da2e1d7</td>\n",
       "      <td>1</td>\n",
       "      <td>1</td>\n",
       "      <td>0</td>\n",
       "      <td>0</td>\n",
       "      <td>offer_4</td>\n",
       "    </tr>\n",
       "  </tbody>\n",
       "</table>\n",
       "</div>"
      ],
      "text/plain": [
       "   reward  difficulty  duration     offer_type  \\\n",
       "0      10          10         7           bogo   \n",
       "1      10          10         5           bogo   \n",
       "2       0           0         4  informational   \n",
       "3       5           5         7           bogo   \n",
       "4       5          20        10       discount   \n",
       "\n",
       "                       portfolio_id  channel_web  channel_email  \\\n",
       "0  ae264e3637204a6fb9bb56bc8210ddfd            0              1   \n",
       "1  4d5c57ea9a6940dd891ad53e9dbe8da0            1              1   \n",
       "2  3f207df678b143eea3cee63160fa8bed            1              1   \n",
       "3  9b98b8c7a33c4b65b9aebfe6a799e6d9            1              1   \n",
       "4  0b1e1539f2cc45b7b9fa7c272da2e1d7            1              1   \n",
       "\n",
       "   channel_mobile  channel_social offer_name  \n",
       "0               1               1    offer_0  \n",
       "1               1               1    offer_1  \n",
       "2               1               0    offer_2  \n",
       "3               1               0    offer_3  \n",
       "4               0               0    offer_4  "
      ]
     },
     "execution_count": 67,
     "metadata": {},
     "output_type": "execute_result"
    }
   ],
   "source": [
    "portfolio.head()"
   ]
  },
  {
   "cell_type": "code",
   "execution_count": 68,
   "metadata": {},
   "outputs": [],
   "source": [
    "transcript_offer_df = transcript.merge(portfolio, on=\"portfolio_id\", how=\"left\")"
   ]
  },
  {
   "cell_type": "code",
   "execution_count": 69,
   "metadata": {},
   "outputs": [
    {
     "data": {
      "text/html": [
       "<div>\n",
       "<style scoped>\n",
       "    .dataframe tbody tr th:only-of-type {\n",
       "        vertical-align: middle;\n",
       "    }\n",
       "\n",
       "    .dataframe tbody tr th {\n",
       "        vertical-align: top;\n",
       "    }\n",
       "\n",
       "    .dataframe thead th {\n",
       "        text-align: right;\n",
       "    }\n",
       "</style>\n",
       "<table border=\"1\" class=\"dataframe\">\n",
       "  <thead>\n",
       "    <tr style=\"text-align: right;\">\n",
       "      <th></th>\n",
       "      <th>customer_id</th>\n",
       "      <th>event</th>\n",
       "      <th>time</th>\n",
       "      <th>amount</th>\n",
       "      <th>reward_x</th>\n",
       "      <th>portfolio_id</th>\n",
       "      <th>reward_y</th>\n",
       "      <th>difficulty</th>\n",
       "      <th>duration</th>\n",
       "      <th>offer_type</th>\n",
       "      <th>channel_web</th>\n",
       "      <th>channel_email</th>\n",
       "      <th>channel_mobile</th>\n",
       "      <th>channel_social</th>\n",
       "      <th>offer_name</th>\n",
       "    </tr>\n",
       "  </thead>\n",
       "  <tbody>\n",
       "    <tr>\n",
       "      <th>0</th>\n",
       "      <td>78afa995795e4d85b5d9ceeca43f5fef</td>\n",
       "      <td>offer received</td>\n",
       "      <td>0</td>\n",
       "      <td>0.0</td>\n",
       "      <td>0</td>\n",
       "      <td>9b98b8c7a33c4b65b9aebfe6a799e6d9</td>\n",
       "      <td>5.0</td>\n",
       "      <td>5.0</td>\n",
       "      <td>7.0</td>\n",
       "      <td>bogo</td>\n",
       "      <td>1.0</td>\n",
       "      <td>1.0</td>\n",
       "      <td>1.0</td>\n",
       "      <td>0.0</td>\n",
       "      <td>offer_3</td>\n",
       "    </tr>\n",
       "    <tr>\n",
       "      <th>1</th>\n",
       "      <td>a03223e636434f42ac4c3df47e8bac43</td>\n",
       "      <td>offer received</td>\n",
       "      <td>0</td>\n",
       "      <td>0.0</td>\n",
       "      <td>0</td>\n",
       "      <td>0b1e1539f2cc45b7b9fa7c272da2e1d7</td>\n",
       "      <td>5.0</td>\n",
       "      <td>20.0</td>\n",
       "      <td>10.0</td>\n",
       "      <td>discount</td>\n",
       "      <td>1.0</td>\n",
       "      <td>1.0</td>\n",
       "      <td>0.0</td>\n",
       "      <td>0.0</td>\n",
       "      <td>offer_4</td>\n",
       "    </tr>\n",
       "    <tr>\n",
       "      <th>2</th>\n",
       "      <td>e2127556f4f64592b11af22de27a7932</td>\n",
       "      <td>offer received</td>\n",
       "      <td>0</td>\n",
       "      <td>0.0</td>\n",
       "      <td>0</td>\n",
       "      <td>2906b810c7d4411798c6938adc9daaa5</td>\n",
       "      <td>2.0</td>\n",
       "      <td>10.0</td>\n",
       "      <td>7.0</td>\n",
       "      <td>discount</td>\n",
       "      <td>1.0</td>\n",
       "      <td>1.0</td>\n",
       "      <td>1.0</td>\n",
       "      <td>0.0</td>\n",
       "      <td>offer_9</td>\n",
       "    </tr>\n",
       "    <tr>\n",
       "      <th>3</th>\n",
       "      <td>8ec6ce2a7e7949b1bf142def7d0e0586</td>\n",
       "      <td>offer received</td>\n",
       "      <td>0</td>\n",
       "      <td>0.0</td>\n",
       "      <td>0</td>\n",
       "      <td>fafdcd668e3743c1bb461111dcafc2a4</td>\n",
       "      <td>2.0</td>\n",
       "      <td>10.0</td>\n",
       "      <td>10.0</td>\n",
       "      <td>discount</td>\n",
       "      <td>1.0</td>\n",
       "      <td>1.0</td>\n",
       "      <td>1.0</td>\n",
       "      <td>1.0</td>\n",
       "      <td>offer_6</td>\n",
       "    </tr>\n",
       "    <tr>\n",
       "      <th>4</th>\n",
       "      <td>68617ca6246f4fbc85e91a2a49552598</td>\n",
       "      <td>offer received</td>\n",
       "      <td>0</td>\n",
       "      <td>0.0</td>\n",
       "      <td>0</td>\n",
       "      <td>4d5c57ea9a6940dd891ad53e9dbe8da0</td>\n",
       "      <td>10.0</td>\n",
       "      <td>10.0</td>\n",
       "      <td>5.0</td>\n",
       "      <td>bogo</td>\n",
       "      <td>1.0</td>\n",
       "      <td>1.0</td>\n",
       "      <td>1.0</td>\n",
       "      <td>1.0</td>\n",
       "      <td>offer_1</td>\n",
       "    </tr>\n",
       "  </tbody>\n",
       "</table>\n",
       "</div>"
      ],
      "text/plain": [
       "                        customer_id           event  time  amount  reward_x  \\\n",
       "0  78afa995795e4d85b5d9ceeca43f5fef  offer received     0     0.0         0   \n",
       "1  a03223e636434f42ac4c3df47e8bac43  offer received     0     0.0         0   \n",
       "2  e2127556f4f64592b11af22de27a7932  offer received     0     0.0         0   \n",
       "3  8ec6ce2a7e7949b1bf142def7d0e0586  offer received     0     0.0         0   \n",
       "4  68617ca6246f4fbc85e91a2a49552598  offer received     0     0.0         0   \n",
       "\n",
       "                       portfolio_id  reward_y  difficulty  duration  \\\n",
       "0  9b98b8c7a33c4b65b9aebfe6a799e6d9       5.0         5.0       7.0   \n",
       "1  0b1e1539f2cc45b7b9fa7c272da2e1d7       5.0        20.0      10.0   \n",
       "2  2906b810c7d4411798c6938adc9daaa5       2.0        10.0       7.0   \n",
       "3  fafdcd668e3743c1bb461111dcafc2a4       2.0        10.0      10.0   \n",
       "4  4d5c57ea9a6940dd891ad53e9dbe8da0      10.0        10.0       5.0   \n",
       "\n",
       "  offer_type  channel_web  channel_email  channel_mobile  channel_social  \\\n",
       "0       bogo          1.0            1.0             1.0             0.0   \n",
       "1   discount          1.0            1.0             0.0             0.0   \n",
       "2   discount          1.0            1.0             1.0             0.0   \n",
       "3   discount          1.0            1.0             1.0             1.0   \n",
       "4       bogo          1.0            1.0             1.0             1.0   \n",
       "\n",
       "  offer_name  \n",
       "0    offer_3  \n",
       "1    offer_4  \n",
       "2    offer_9  \n",
       "3    offer_6  \n",
       "4    offer_1  "
      ]
     },
     "execution_count": 69,
     "metadata": {},
     "output_type": "execute_result"
    }
   ],
   "source": [
    "transcript_offer_df.head()"
   ]
  },
  {
   "cell_type": "code",
   "execution_count": 70,
   "metadata": {},
   "outputs": [],
   "source": [
    "columns = [\"customer_id\", \"portfolio_id\", \"offer_name\", \"offer_type\", \"duration\", \"event\", \"time\", \"amount\"]"
   ]
  },
  {
   "cell_type": "code",
   "execution_count": 71,
   "metadata": {},
   "outputs": [],
   "source": [
    "transcript_offer_df = transcript_offer_df.loc[:, columns]"
   ]
  },
  {
   "cell_type": "markdown",
   "metadata": {},
   "source": [
    "Convert the measure of duration from days to hours and make it matches with the time."
   ]
  },
  {
   "cell_type": "code",
   "execution_count": 72,
   "metadata": {},
   "outputs": [],
   "source": [
    "transcript_offer_df[\"duration\"] = transcript_offer_df[\"duration\"] * 24"
   ]
  },
  {
   "cell_type": "code",
   "execution_count": 73,
   "metadata": {
    "scrolled": false
   },
   "outputs": [
    {
     "data": {
      "text/html": [
       "<div>\n",
       "<style scoped>\n",
       "    .dataframe tbody tr th:only-of-type {\n",
       "        vertical-align: middle;\n",
       "    }\n",
       "\n",
       "    .dataframe tbody tr th {\n",
       "        vertical-align: top;\n",
       "    }\n",
       "\n",
       "    .dataframe thead th {\n",
       "        text-align: right;\n",
       "    }\n",
       "</style>\n",
       "<table border=\"1\" class=\"dataframe\">\n",
       "  <thead>\n",
       "    <tr style=\"text-align: right;\">\n",
       "      <th></th>\n",
       "      <th>customer_id</th>\n",
       "      <th>portfolio_id</th>\n",
       "      <th>offer_name</th>\n",
       "      <th>offer_type</th>\n",
       "      <th>duration</th>\n",
       "      <th>event</th>\n",
       "      <th>time</th>\n",
       "      <th>amount</th>\n",
       "    </tr>\n",
       "  </thead>\n",
       "  <tbody>\n",
       "    <tr>\n",
       "      <th>0</th>\n",
       "      <td>78afa995795e4d85b5d9ceeca43f5fef</td>\n",
       "      <td>9b98b8c7a33c4b65b9aebfe6a799e6d9</td>\n",
       "      <td>offer_3</td>\n",
       "      <td>bogo</td>\n",
       "      <td>168.0</td>\n",
       "      <td>offer received</td>\n",
       "      <td>0</td>\n",
       "      <td>0.0</td>\n",
       "    </tr>\n",
       "    <tr>\n",
       "      <th>1</th>\n",
       "      <td>a03223e636434f42ac4c3df47e8bac43</td>\n",
       "      <td>0b1e1539f2cc45b7b9fa7c272da2e1d7</td>\n",
       "      <td>offer_4</td>\n",
       "      <td>discount</td>\n",
       "      <td>240.0</td>\n",
       "      <td>offer received</td>\n",
       "      <td>0</td>\n",
       "      <td>0.0</td>\n",
       "    </tr>\n",
       "    <tr>\n",
       "      <th>2</th>\n",
       "      <td>e2127556f4f64592b11af22de27a7932</td>\n",
       "      <td>2906b810c7d4411798c6938adc9daaa5</td>\n",
       "      <td>offer_9</td>\n",
       "      <td>discount</td>\n",
       "      <td>168.0</td>\n",
       "      <td>offer received</td>\n",
       "      <td>0</td>\n",
       "      <td>0.0</td>\n",
       "    </tr>\n",
       "    <tr>\n",
       "      <th>3</th>\n",
       "      <td>8ec6ce2a7e7949b1bf142def7d0e0586</td>\n",
       "      <td>fafdcd668e3743c1bb461111dcafc2a4</td>\n",
       "      <td>offer_6</td>\n",
       "      <td>discount</td>\n",
       "      <td>240.0</td>\n",
       "      <td>offer received</td>\n",
       "      <td>0</td>\n",
       "      <td>0.0</td>\n",
       "    </tr>\n",
       "    <tr>\n",
       "      <th>4</th>\n",
       "      <td>68617ca6246f4fbc85e91a2a49552598</td>\n",
       "      <td>4d5c57ea9a6940dd891ad53e9dbe8da0</td>\n",
       "      <td>offer_1</td>\n",
       "      <td>bogo</td>\n",
       "      <td>120.0</td>\n",
       "      <td>offer received</td>\n",
       "      <td>0</td>\n",
       "      <td>0.0</td>\n",
       "    </tr>\n",
       "  </tbody>\n",
       "</table>\n",
       "</div>"
      ],
      "text/plain": [
       "                        customer_id                      portfolio_id  \\\n",
       "0  78afa995795e4d85b5d9ceeca43f5fef  9b98b8c7a33c4b65b9aebfe6a799e6d9   \n",
       "1  a03223e636434f42ac4c3df47e8bac43  0b1e1539f2cc45b7b9fa7c272da2e1d7   \n",
       "2  e2127556f4f64592b11af22de27a7932  2906b810c7d4411798c6938adc9daaa5   \n",
       "3  8ec6ce2a7e7949b1bf142def7d0e0586  fafdcd668e3743c1bb461111dcafc2a4   \n",
       "4  68617ca6246f4fbc85e91a2a49552598  4d5c57ea9a6940dd891ad53e9dbe8da0   \n",
       "\n",
       "  offer_name offer_type  duration           event  time  amount  \n",
       "0    offer_3       bogo     168.0  offer received     0     0.0  \n",
       "1    offer_4   discount     240.0  offer received     0     0.0  \n",
       "2    offer_9   discount     168.0  offer received     0     0.0  \n",
       "3    offer_6   discount     240.0  offer received     0     0.0  \n",
       "4    offer_1       bogo     120.0  offer received     0     0.0  "
      ]
     },
     "execution_count": 73,
     "metadata": {},
     "output_type": "execute_result"
    }
   ],
   "source": [
    "transcript_offer_df.head()"
   ]
  },
  {
   "cell_type": "markdown",
   "metadata": {},
   "source": [
    "### Assumptions"
   ]
  },
  {
   "cell_type": "markdown",
   "metadata": {},
   "source": [
    "The assumption of association the transaction is any transactions recorded between offer received time and offer end time are these offer related transactions. All the transactions outside the time range of an offer will be considered as non-offer related transactions.\n",
    "\n",
    "The offer start time is defined by two variables: one is offer received time and another is offer viewed time. The offer end time is defined by two variables. One is offer completed time, while another is offer end time, which is calculated by offer received time plus the duration of that offer. The shopping behaviors may differ based on differ offer types. The additional assumptions per offer types are showing below:\n",
    "\n",
    "1. For the discount offers. The customers may need to complete certain actions to active the offers. Therefore, the transactoins within the offer activate time range may be offer related. Beased on this assumption, when a customer finished the offer, the offer end time equals the offer complete time. If the customer didn't complete the offer, the offer end time equals to the generated offer end time.\n",
    "\n",
    "2. For the bogo offers. This type of offer activate immediately when the customers meet the criteria. Don't need to previous actions. The offer end time is the offer completed time.\n",
    "\n",
    "\n",
    "When a customer got the same offer multiple times and the time ranges have overlap. The offer time range will be combined. The offer recevied time is the first offer received time while the offer end time  "
   ]
  },
  {
   "cell_type": "code",
   "execution_count": 74,
   "metadata": {
    "scrolled": true
   },
   "outputs": [
    {
     "data": {
      "text/plain": [
       "array(['bogo', 'discount', 'informational', nan], dtype=object)"
      ]
     },
     "execution_count": 74,
     "metadata": {},
     "output_type": "execute_result"
    }
   ],
   "source": [
    "transcript_offer_df[\"offer_type\"].unique()"
   ]
  },
  {
   "cell_type": "code",
   "execution_count": 75,
   "metadata": {},
   "outputs": [],
   "source": [
    "def get_offer_df(offer_type):\n",
    "    \"\"\"\n",
    "    Split the transcript data by offer type.\n",
    "    \n",
    "    Args:\n",
    "        offer_type(str): the type of the offers need to get from the transcript_offer_df dataframe\n",
    "    \n",
    "    Returns:\n",
    "        df(DataFrame): a dataframe contains all the data by offer type from transcript_offer_df\n",
    "    \"\"\"\n",
    "    df = transcript_offer_df[transcript_offer_df[\"offer_type\"] == offer_type]\n",
    "    return df"
   ]
  },
  {
   "cell_type": "code",
   "execution_count": 76,
   "metadata": {},
   "outputs": [],
   "source": [
    "def get_offer_event_df(df, offer_event):\n",
    "    \"\"\"\n",
    "    Split the DataFrame by transcript event and define the offer start time.\n",
    "    \n",
    "    Args:\n",
    "        df(DataFrame): the dataframe needs to be split by the offer event\n",
    "        offer_event(str): the event received time of the offer\n",
    "    \n",
    "    Returns:\n",
    "        df(DataFrame): a dataframe contains all the data by offer type when event equals to offer_event\n",
    "    \"\"\"\n",
    "    df = df[df[\"event\"] == offer_event]\n",
    "    return df"
   ]
  },
  {
   "cell_type": "code",
   "execution_count": 77,
   "metadata": {},
   "outputs": [],
   "source": [
    "def get_offer_end_time(df):\n",
    "    \"\"\"\n",
    "    Get the offer end time by the equation below:\n",
    "        offer_end_time = offer_start_time + offer_duration\n",
    "    \n",
    "    Args:\n",
    "        df(DataFrame): the dataframe needs to be split by the offer event\n",
    "        offer_event(str): the event received time of the offer\n",
    "    \n",
    "    Returns:\n",
    "        offer_end_time: a Series contains all the data by offer type when event equals to offer_event\n",
    "    \"\"\"\n",
    "    offer_end_time = df.loc[:, [\"time\", \"duration\"]].sum(axis = 1)\n",
    "    return offer_end_time"
   ]
  },
  {
   "cell_type": "code",
   "execution_count": 78,
   "metadata": {},
   "outputs": [],
   "source": [
    "def rename_columns(df, col_name, new_col_name):\n",
    "    \"\"\"\n",
    "    Rename columns in the Dataframe\n",
    "    \n",
    "    Args:\n",
    "        df(DataFrame): the dataframe has columns need to rename\n",
    "        col_name(str): the current column name in the dataframe\n",
    "        new_col_name(str): the new column name\n",
    "    \n",
    "    Returns:\n",
    "        df(DataFrame): a dataframe contains all the data by offer type when event equals to offer_event\n",
    "    \"\"\"\n",
    "    df = df.rename(columns={col_name:new_col_name})\n",
    "    return df"
   ]
  },
  {
   "cell_type": "code",
   "execution_count": 79,
   "metadata": {},
   "outputs": [],
   "source": [
    "def select_columns(df, columns):\n",
    "    \"\"\"\n",
    "    Only keep the columns that are need for further process\n",
    "    \n",
    "    Args:\n",
    "        df(DataFrame): the dataframe contains all the columns\n",
    "        columns(list): the list of columns need to be kept in the future\n",
    "        \n",
    "    Returns:\n",
    "        df(DataFrame): a dataframe only contains columns need for the further process\n",
    "    \"\"\"\n",
    "\n",
    "    df = df[columns]\n",
    "    return df"
   ]
  },
  {
   "cell_type": "code",
   "execution_count": 80,
   "metadata": {},
   "outputs": [],
   "source": [
    "def transcript_offer_df_transform(offer_type):\n",
    "    \"\"\"\n",
    "    Transform transcript dataframe to sub set data frames per offer type. Create offer end time by using the equation:\n",
    "    offer_end_time = offer_received_time + duration* 24\n",
    "    \n",
    "    Arg:\n",
    "        offer_type(str): the type of the offers need to get from the transcript_offer_df dataframe\n",
    "        \n",
    "    Returns:\n",
    "        transcript_received_df (DataFrame): a dataframe of the offer type contains portfolio_id, customer_id, offer_name,\\\n",
    "        offer_start_time(renamed from the offer_received_time), and offer_end_time\n",
    "        transcript_completed_df (DataFrame): a dataframe of the offer type contains portfolio_id, customer_id, offer_name,\\\n",
    "        offer_complete_time\n",
    "        \n",
    "    \"\"\"\n",
    "    \n",
    "    #split the transcript dataframe by offer type\n",
    "    transcript_offer_df = get_offer_df(offer_type)\n",
    "    \n",
    "    #get offer start time\n",
    "    transcript_start_df = get_offer_event_df(transcript_offer_df, \"offer received\")\n",
    "    \n",
    "    #get complete time for further data creation\n",
    "    transcript_completed_df = get_offer_event_df(transcript_offer_df, \"offer completed\")\n",
    "    \n",
    "    #get offer end time\n",
    "    transcript_start_df[\"offer_end_time\"] = get_offer_end_time(transcript_start_df)\n",
    "    \n",
    "    #rename columns\n",
    "    transcript_received_df = rename_columns(transcript_start_df, \"time\", \"offer_start_time\")\n",
    "    transcript_completed_df = rename_columns(transcript_completed_df, \"time\", \"offer_completed_time\")\n",
    "    \n",
    "    #remove unused columns\n",
    "    received_columns = [\"customer_id\", \"portfolio_id\", \"offer_name\", \"offer_start_time\", \"offer_end_time\"]\n",
    "    completed_columns = [\"customer_id\", \"portfolio_id\", \"offer_name\", \"offer_completed_time\"]\n",
    "    \n",
    "    transcript_received_df = select_columns(transcript_received_df, received_columns)\n",
    "    transcript_completed_df = select_columns(transcript_completed_df, completed_columns)\n",
    "    \n",
    "    return transcript_received_df, transcript_completed_df"
   ]
  },
  {
   "cell_type": "code",
   "execution_count": 81,
   "metadata": {},
   "outputs": [],
   "source": [
    "transcript_bogo_received_df, transcript_bogo_completed_df = transcript_offer_df_transform(\"bogo\")"
   ]
  },
  {
   "cell_type": "code",
   "execution_count": 82,
   "metadata": {},
   "outputs": [],
   "source": [
    "transcript_disc_received_df, transcript_disc_completed_df = transcript_offer_df_transform(\"discount\")"
   ]
  },
  {
   "cell_type": "code",
   "execution_count": 83,
   "metadata": {},
   "outputs": [],
   "source": [
    "def create_customer_offer_combo_key(df):\n",
    "    \"\"\"\n",
    "    Create a key by combining customer_id and offer_name\n",
    "    \n",
    "    Arg:\n",
    "        df(DataFrame): a dataframe contains customer_id and offer_name\n",
    "        \n",
    "    Return:\n",
    "        df (DataFrame): a dataframe contains customer_offer_combo column\n",
    "    \"\"\"\n",
    "    \n",
    "    df[\"customer_offer_combo\"] = df[['customer_id', 'offer_name']].agg('^'.join, axis=1)\n",
    "    \n",
    "    return df"
   ]
  },
  {
   "cell_type": "code",
   "execution_count": 84,
   "metadata": {},
   "outputs": [],
   "source": [
    "def get_cusomer_per_offer_times(df):\n",
    "    \"\"\"\n",
    "    Get how many times a customer get the same offer\n",
    "    \n",
    "    Arg:\n",
    "        df(DataFrame): a dataframe contains offer received time per customer\n",
    "        \n",
    "    Returns:\n",
    "        trans_offers_times_df (DataFrame): a dataframe contains portfolio_id, customer_id, offer_name,\\\n",
    "        the how many times a customer get the same offer\n",
    "    \"\"\"\n",
    "    \n",
    "    #get how many times a customer get the same offer\n",
    "    df = df.groupby([\"customer_id\", \"offer_name\", \"customer_offer_combo\"])[\"portfolio_id\"].size().reset_index()\n",
    "    \n",
    "    #rename agg column\n",
    "    df = df.rename(columns={\"portfolio_id\":\"get_offer_times\"})\n",
    "    \n",
    "    return df\n",
    "    "
   ]
  },
  {
   "cell_type": "code",
   "execution_count": 85,
   "metadata": {},
   "outputs": [],
   "source": [
    "def split_df_by_offer_times(size_df, offer_df):\n",
    "    \"\"\"\n",
    "    Split the offer_df by the get_offer_times in the size_df into two groups. \n",
    "    One group is get_offer_time equals to 1 and another group is get-offer_times greater than 1\n",
    "    \n",
    "    Args:\n",
    "        size_df[DataFrame]: a dataframe contains customer_offer_combo and how many times the customer get the offer\n",
    "        offer_df(DataFrame): a dataframe contains the offer related data\n",
    "    \n",
    "    Returns:\n",
    "        trans_offers_1t_df(DataFrame): the offer dataframe where get_offer_times equals to 1\n",
    "        trans_offers_nt_df(DataFrame): the offer dataframe where get_offer_times greater than 1\n",
    "    \"\"\"\n",
    "    \n",
    "    #get the dataframe that received the same offer once\n",
    "    trans_offers_1t_list = size_df.loc[size_df[\"get_offer_times\"]==1,\"customer_offer_combo\"]\n",
    "    trans_offers_1t_df = offer_df[(offer_df[\"customer_offer_combo\"].isin(trans_offers_1t_list))]\n",
    "    \n",
    "    #get the dataframe that received the same offer multiple times\n",
    "    trans_offers_nt_list = size_df.loc[size_df[\"get_offer_times\"]>1,\"customer_offer_combo\"]\n",
    "    trans_offers_nt_df = offer_df[(offer_df[\"customer_offer_combo\"].isin(trans_offers_nt_list))]\n",
    "    \n",
    "    return trans_offers_1t_df, trans_offers_nt_df"
   ]
  },
  {
   "cell_type": "code",
   "execution_count": 86,
   "metadata": {},
   "outputs": [],
   "source": [
    "def merge_offer_events(received_df, completed_df):\n",
    "    \"\"\"\n",
    "    Join offer received data frame with offer complete data frame by customer and offer related keys\n",
    "    Find data that the offer completed time between offer start time and offer end time.\n",
    "    Or the offer didn't have completed time\n",
    "    \n",
    "    Args:\n",
    "        received_df[DataFrame]: the offer received dataframe\n",
    "        completed_df(DataFrame): the offer completed dataframe\n",
    "    \n",
    "    Returns:\n",
    "        final_df(DataFrame): the dataframe contains customer_id, portfolio_id, offer_name, customer_offer_combo,\\\n",
    "        offer_start_time, offer_end_time and offer_completed_time\n",
    "    \"\"\"\n",
    "    \n",
    "    #merge two dataframes\n",
    "    df_temp = received_df.merge(completed_df, how = \"left\",\\\n",
    "              on =[\"customer_id\", \"portfolio_id\", \"offer_name\", \"customer_offer_combo\"])\n",
    "    \n",
    "    #clean up the merged dataframe. \n",
    "    # Get the data that offer completion time between offer start time and offer end time or offer didn't complete\n",
    "    final_df = df_temp[((df_temp[\"offer_completed_time\"] >= df_temp[\"offer_start_time\"]) &\\\n",
    "                        (df_temp[\"offer_completed_time\"] <= df_temp[\"offer_end_time\"])) |\\\n",
    "                       (df_temp[\"offer_completed_time\"].isnull())]\n",
    "    \n",
    "    #drop duplicates\n",
    "    final_df = final_df.drop_duplicates()\n",
    "    \n",
    "    return final_df"
   ]
  },
  {
   "cell_type": "code",
   "execution_count": 87,
   "metadata": {},
   "outputs": [],
   "source": [
    "def get_offer_actual_end_time(df):\n",
    "    \"\"\"\n",
    "    Get the offer actual end time. \n",
    "    If the offer is completed, the offer actual end time is complete time. \n",
    "    If the offer didn't completed, the offer actual end time is the offer end time.\n",
    "    \n",
    "    Arg:\n",
    "        df(DataFrame): a dataframe contains offer, customer keys and offer time data\n",
    "        \n",
    "    Return:\n",
    "        df(DataFrame): a new dataframe contains offer, customer keys, offer start time and the offer actual end time\n",
    "    \"\"\"\n",
    "    \n",
    "    df[\"offer_actual_end_time\"] = np.where(df[\"offer_completed_time\"].isnull(), \\\n",
    "                                           df[\"offer_end_time\"], df[\"offer_completed_time\"])\n",
    "    \n",
    "    cols = [\"customer_id\", \"portfolio_id\", \"offer_name\", \"customer_offer_combo\",\\\n",
    "     \"offer_start_time\",\"offer_actual_end_time\"]\n",
    "    \n",
    "    df = select_columns(df, cols)\n",
    "    \n",
    "    df = df.groupby([\"customer_id\", \"portfolio_id\", \"offer_name\", \"customer_offer_combo\", \"offer_start_time\"])\\\n",
    "    .agg({\"offer_actual_end_time\":min}).reset_index()\n",
    "    \n",
    "    return df"
   ]
  },
  {
   "cell_type": "code",
   "execution_count": 88,
   "metadata": {},
   "outputs": [],
   "source": [
    "def find_overlap_offer_data(df):\n",
    "    \"\"\"\n",
    "    Check the next offer start time of the same offer per customer. \n",
    "    Create an overlap flag to show if the offer times are overlap.\n",
    "    \n",
    "    Arg:\n",
    "        df(DataFrame): a dataframe contains offer, customer keys and offer time data\n",
    "        \n",
    "    Return:\n",
    "        df(DataFrame): a dataframe contains an offer time overlap flag, which shows the offer times are overlap\n",
    "    \"\"\"\n",
    "    \n",
    "    #sort the data by customer_offer_combo and the offer_start_time\n",
    "    df = df.sort_values(by=[\"customer_offer_combo\", \"offer_start_time\"])\n",
    "    \n",
    "    #get next offer start time and next offer actual end time\n",
    "    df[\"next_offer_start_time\"] = df.groupby([\"customer_offer_combo\"])[\"offer_start_time\"].shift(-1)\n",
    "    df[\"next_offer_end_time\"] = df.groupby([\"customer_offer_combo\"])[\"offer_actual_end_time\"].shift(-1)\n",
    "    \n",
    "    #find the overlaped offer per customer\n",
    "    df[\"offer_time_overlap_flag\"] = df[\"next_offer_start_time\"] <= df[\"offer_actual_end_time\"]\n",
    "    \n",
    "    return df"
   ]
  },
  {
   "cell_type": "code",
   "execution_count": 89,
   "metadata": {},
   "outputs": [],
   "source": [
    "def split_overlap_offer_data(df, overlap_flag=True):\n",
    "    \"\"\"\n",
    "    Check the next offer start time of the same offer per customer. \n",
    "    Combine offer times if the time range of the offer are overlap.\n",
    "    \n",
    "    Arg:\n",
    "        df(DataFrame): a dataframe contains offer, customer keys and offer time data\n",
    "        \n",
    "    Return:\n",
    "        df(DataFrame): a new dataframe contains offer, customer keys, and combined offer time data\n",
    "    \"\"\"\n",
    "    #get these overlaped offer customer combo out\n",
    "    df = df[df[\"offer_time_overlap_flag\"]==overlap_flag]\n",
    "    \n",
    "    return df"
   ]
  },
  {
   "cell_type": "code",
   "execution_count": 90,
   "metadata": {},
   "outputs": [],
   "source": [
    "def combine_overlap_offer_time(df):\n",
    "    \"\"\"\n",
    "    Check the next offer start time of the same offer per customer. \n",
    "    Combine offer times if the time range of the offer are overlap.\n",
    "    \n",
    "    Arg:\n",
    "        df(DataFrame): a dataframe contains offer, customer keys and offer time data\n",
    "        \n",
    "    Return:\n",
    "        df(DataFrame): a new dataframe contains offer, customer keys, and combined offer time data\n",
    "    \"\"\"\n",
    "    \n",
    "    #aggregate the overlap time range per customer_offer_combo\n",
    "    df = df.groupby([\"customer_id\", \"portfolio_id\", \"offer_name\", \"customer_offer_combo\"])\\\n",
    "    .agg({\"offer_start_time\":min, \"next_offer_end_time\":max}).reset_index()\n",
    "    \n",
    "    df = df.rename(columns={\"next_offer_end_time\":\"offer_actual_end_time\"})\n",
    "    return df"
   ]
  },
  {
   "cell_type": "code",
   "execution_count": 91,
   "metadata": {},
   "outputs": [],
   "source": [
    "def remove_overlap_offer(offer_df, overlap_df):\n",
    "    \"\"\"\n",
    "    Remove the overlap offers from the offer_df to avoid duplications in the offer_df.\n",
    "    \n",
    "    Arg:\n",
    "        offer_df(DataFrame): a dataframe contains offer, customer keys and offer time data\n",
    "        overlap_df(DataFrame): \n",
    "        \n",
    "    Return:\n",
    "        df(DataFrame): a new dataframe contains offer, customer keys, and combined offer time data\n",
    "    \"\"\"\n",
    "    \n",
    "    removed_df = overlap_df[[\"customer_offer_combo\", \"next_offer_start_time\"]]\n",
    "    \n",
    "    df = offer_df.merge(removed_df, how=\"left\",left_on =[\"customer_offer_combo\", \"offer_start_time\"],\\\n",
    "         right_on=[\"customer_offer_combo\", \"next_offer_start_time\"])\n",
    "    \n",
    "    df = df[df[\"next_offer_start_time_y\"].isnull()]\n",
    "    \n",
    "    return df"
   ]
  },
  {
   "cell_type": "code",
   "execution_count": 92,
   "metadata": {},
   "outputs": [],
   "source": [
    "def combine_offer_df(df1, df2):\n",
    "    \"\"\"\n",
    "    Combine splited dfs and build a new dataframe\n",
    "    \n",
    "    Arg:\n",
    "        df1(DataFrame): the offers dataframe 1\n",
    "        df2(DataFrame): the offers dataframe 2\n",
    "        \n",
    "    Return:\n",
    "        df(DataFrame): a new dataframe contains cleaned data\n",
    "    \"\"\"\n",
    "    \n",
    "    df = pd.concat([df1, df2])\n",
    "    \n",
    "    return df"
   ]
  },
  {
   "cell_type": "code",
   "execution_count": 93,
   "metadata": {},
   "outputs": [],
   "source": [
    "def offer_df_transform(received_df, completed_df):\n",
    "    \"\"\"\n",
    "    Clean and transform offer related data\n",
    "    \n",
    "    Arg:\n",
    "        received_df[DataFrame]: the offer received dataframe\n",
    "        completed_df(DataFrame): the offer completed dataframe\n",
    "    \n",
    "    Return:\n",
    "        trans_offer_full_df(DataFrame): a cleaned dataframe contains all offer related data \n",
    "        without duplicates and time range overlap\n",
    "    \n",
    "    \"\"\"\n",
    "    #create the combo key in dataframes\n",
    "    offer_received_df = create_customer_offer_combo_key(received_df)\n",
    "    offer_completed_df = create_customer_offer_combo_key(completed_df)\n",
    "    \n",
    "    #how many times a customer get the same offer\n",
    "    size_df = get_cusomer_per_offer_times(offer_received_df)\n",
    "    \n",
    "    #split the data by getting offer 1 time and getting offer multiple times\n",
    "    trans_offers_1t_df, trans_offers_nt_df = split_df_by_offer_times(size_df, offer_received_df)\n",
    "    \n",
    "    #merge received_df and completed_df\n",
    "    trans_offers_1t_merged_df = merge_offer_events(trans_offers_1t_df, offer_completed_df)\n",
    "    trans_offers_nt_merged_df = merge_offer_events(trans_offers_nt_df, offer_completed_df)\n",
    "    \n",
    "    #get actual offer end time\n",
    "    trans_offers_1t_merged_df = get_offer_actual_end_time(trans_offers_1t_merged_df)\n",
    "    trans_offers_nt_merged_df = get_offer_actual_end_time(trans_offers_nt_merged_df)\n",
    "    \n",
    "    #check if the offers have time overlap\n",
    "    trans_offers_nt_merged_temp_df = find_overlap_offer_data(trans_offers_nt_merged_df)\n",
    "    \n",
    "    #keep the offer customer combo doesn't overlap\n",
    "    trans_offers_nt_merged_temp_df = split_overlap_offer_data(trans_offers_nt_merged_temp_df, overlap_flag=False)\n",
    "\n",
    "    #split the offers have time overlap\n",
    "    trans_offers_nt_merged_overlap_df = split_overlap_offer_data(trans_offers_nt_merged_temp_df, overlap_flag=True)\n",
    "    \n",
    "    #remove offers have time overlap from the offer dataframe\n",
    "    trans_offers_nt_merged_temp_df = remove_overlap_offer(trans_offers_nt_merged_temp_df,\\\n",
    "                                                          trans_offers_nt_merged_overlap_df)\n",
    "    \n",
    "    #combine offers have time overlap\n",
    "    trans_offers_nt_merged_overlap_df = combine_overlap_offer_time(trans_offers_nt_merged_overlap_df)\n",
    "    \n",
    "    #select columns\n",
    "    col_nt = [\"customer_id\", \"portfolio_id\", \"offer_name\", \"customer_offer_combo\",\\\n",
    "              \"offer_start_time\", \"offer_actual_end_time\"]\n",
    "    \n",
    "    trans_offers_nt_merged_temp_df = select_columns(trans_offers_nt_merged_temp_df, col_nt)\n",
    "    trans_offers_nt_merged_overlap_df = select_columns(trans_offers_nt_merged_overlap_df, col_nt)\n",
    "    trans_offers_1t_merged_df = select_columns(trans_offers_1t_merged_df, col_nt)\n",
    "    \n",
    "    #combine dataframes\n",
    "    trans_offers_nt_merged_df = combine_offer_df(trans_offers_nt_merged_df, trans_offers_nt_merged_overlap_df)\n",
    "    trans_offer_full_df = combine_offer_df(trans_offers_nt_merged_df, trans_offers_1t_merged_df)\n",
    "    \n",
    "    return trans_offer_full_df"
   ]
  },
  {
   "cell_type": "code",
   "execution_count": 94,
   "metadata": {},
   "outputs": [],
   "source": [
    "#clean bogo offer data dataframe\n",
    "trans_bogo_offers_final_df = offer_df_transform(transcript_bogo_received_df, transcript_bogo_completed_df)"
   ]
  },
  {
   "cell_type": "code",
   "execution_count": 95,
   "metadata": {},
   "outputs": [],
   "source": [
    "#clean disct offer data dataframe\n",
    "trans_disc_offers_final_df = offer_df_transform(transcript_disc_received_df, transcript_disc_completed_df)"
   ]
  },
  {
   "cell_type": "code",
   "execution_count": 96,
   "metadata": {},
   "outputs": [],
   "source": [
    "#combine offer dataframes\n",
    "trans_offers_final_df = pd.concat([trans_bogo_offers_final_df, trans_disc_offers_final_df])"
   ]
  },
  {
   "cell_type": "markdown",
   "metadata": {},
   "source": [
    "## Combine offer related transactions and non offer related transactions dataframe"
   ]
  },
  {
   "cell_type": "markdown",
   "metadata": {},
   "source": [
    "combine offer related data with transaction dataframe"
   ]
  },
  {
   "cell_type": "code",
   "execution_count": 97,
   "metadata": {},
   "outputs": [],
   "source": [
    "trans_trans_df = get_offer_event_df(transcript_offer_df, \"transaction\")"
   ]
  },
  {
   "cell_type": "code",
   "execution_count": 98,
   "metadata": {},
   "outputs": [],
   "source": [
    "trans_trans_df = rename_columns(trans_trans_df, \"time\", \"trans_time\")"
   ]
  },
  {
   "cell_type": "code",
   "execution_count": 99,
   "metadata": {},
   "outputs": [],
   "source": [
    "trans_col = [\"customer_id\", \"trans_time\", \"amount\"]"
   ]
  },
  {
   "cell_type": "code",
   "execution_count": 100,
   "metadata": {},
   "outputs": [],
   "source": [
    "trans_trans_final_df = select_columns(trans_trans_df, trans_col)"
   ]
  },
  {
   "cell_type": "code",
   "execution_count": 164,
   "metadata": {},
   "outputs": [],
   "source": [
    "trans_final_temp_df = trans_offers_final_df.merge(trans_trans_final_df, on=\"customer_id\", how=\"left\")"
   ]
  },
  {
   "cell_type": "markdown",
   "metadata": {},
   "source": [
    "get all the transaction records where transaction time is between the offer active time range"
   ]
  },
  {
   "cell_type": "code",
   "execution_count": 189,
   "metadata": {},
   "outputs": [],
   "source": [
    "trans_w_offer_cond = (trans_final_temp_df[\"trans_time\"].between(trans_final_temp_df[\"offer_start_time\"], \\\n",
    "                       trans_final_temp_df[\"offer_actual_end_time\"]))"
   ]
  },
  {
   "cell_type": "code",
   "execution_count": 190,
   "metadata": {},
   "outputs": [],
   "source": [
    "trans_final_w_offer_temp_df = trans_final_temp_df[trans_w_offer_cond]"
   ]
  },
  {
   "cell_type": "code",
   "execution_count": 232,
   "metadata": {},
   "outputs": [],
   "source": [
    "trans_final_w_offer_temp_df = trans_final_w_offer_temp_df.drop_duplicates()"
   ]
  },
  {
   "cell_type": "code",
   "execution_count": 191,
   "metadata": {},
   "outputs": [],
   "source": [
    "grouped_cols = [\"customer_id\", \"portfolio_id\", \"offer_name\", \"customer_offer_combo\", \\\n",
    "                \"offer_start_time\", \"offer_actual_end_time\"]"
   ]
  },
  {
   "cell_type": "code",
   "execution_count": 233,
   "metadata": {},
   "outputs": [],
   "source": [
    "trans_final_w_offer_temp_df = trans_final_w_offer_temp_df.groupby(grouped_cols)[\"amount\"].sum().reset_index()"
   ]
  },
  {
   "cell_type": "code",
   "execution_count": 295,
   "metadata": {},
   "outputs": [],
   "source": [
    "#get all sales per customer\n",
    "cus_total_sales_df = transcript.groupby(\"customer_id\")[\"amount\"].sum().reset_index()"
   ]
  },
  {
   "cell_type": "code",
   "execution_count": 296,
   "metadata": {},
   "outputs": [],
   "source": [
    "#get sales of offers per customer\n",
    "cus_offer_sales_df = trans_final_w_offer_temp_df.groupby(\"customer_id\")[\"amount\"].sum().reset_index()"
   ]
  },
  {
   "cell_type": "code",
   "execution_count": 297,
   "metadata": {},
   "outputs": [],
   "source": [
    "#get sales of non-offers per customers\n",
    "cus_total_non_sales_df = cus_total_sales_df.merge(cus_offer_sales_df, on = \"customer_id\", how=\"left\")\n",
    "cus_total_non_sales_df[[\"amount_x\", \"amount_y\"]] = cus_total_non_sales_df[[\"amount_x\", \"amount_y\"]].fillna(0)\n",
    "cus_total_non_sales_df[\"amount\"] = cus_total_non_sales_df[\"amount_x\"] - cus_total_non_sales_df[\"amount_y\"]"
   ]
  },
  {
   "cell_type": "code",
   "execution_count": 308,
   "metadata": {
    "scrolled": false
   },
   "outputs": [
    {
     "data": {
      "text/plain": [
       "count    17000.000000\n",
       "mean        56.176159\n",
       "std         93.864718\n",
       "min          0.000000\n",
       "25%          0.280000\n",
       "50%         21.595000\n",
       "75%         82.537500\n",
       "max       1158.260000\n",
       "Name: amount, dtype: float64"
      ]
     },
     "execution_count": 308,
     "metadata": {},
     "output_type": "execute_result"
    }
   ],
   "source": [
    "cus_total_non_sales_df[\"amount\"].describe()"
   ]
  },
  {
   "cell_type": "markdown",
   "metadata": {},
   "source": [
    "The transactions are counted multiple times and extraggrate the total amount of the offer related amount. Need to check if the number is tolerated."
   ]
  },
  {
   "cell_type": "code",
   "execution_count": 305,
   "metadata": {},
   "outputs": [
    {
     "data": {
      "text/plain": [
       "0.02004299220778132"
      ]
     },
     "execution_count": 305,
     "metadata": {},
     "output_type": "execute_result"
    }
   ],
   "source": [
    "abs(cus_total_non_sales_df.loc[cus_total_non_sales_df[\"amount\"] < 0, \"amount\"].sum())\\\n",
    "/cus_total_non_sales_df[\"amount_x\"].sum()"
   ]
  },
  {
   "cell_type": "markdown",
   "metadata": {},
   "source": [
    "About 2% of the total sales amount are counted multiple times. Accept the results and convert all negative values to 0."
   ]
  },
  {
   "cell_type": "code",
   "execution_count": 307,
   "metadata": {},
   "outputs": [],
   "source": [
    "cus_total_non_sales_df.loc[cus_total_non_sales_df[\"amount\"]<0, \"amount\"] = 0"
   ]
  },
  {
   "cell_type": "code",
   "execution_count": 309,
   "metadata": {},
   "outputs": [],
   "source": [
    "cus_total_non_sales_df[[\"portfolio_id\", \"offer_name\"]] = \"None\", \"None\""
   ]
  },
  {
   "cell_type": "code",
   "execution_count": 310,
   "metadata": {},
   "outputs": [],
   "source": [
    "trans_wo_amount_df = cus_total_non_sales_df[[\"customer_id\", \"portfolio_id\", \"offer_name\", \"amount\"]]"
   ]
  },
  {
   "cell_type": "markdown",
   "metadata": {},
   "source": [
    "get final offer related transaction dataframe"
   ]
  },
  {
   "cell_type": "code",
   "execution_count": 311,
   "metadata": {},
   "outputs": [],
   "source": [
    "final_cols = [\"customer_id\", \"portfolio_id\", \"offer_name\", \"amount\"]"
   ]
  },
  {
   "cell_type": "code",
   "execution_count": 312,
   "metadata": {},
   "outputs": [],
   "source": [
    "trans_final_w_offer_temp_df = select_columns(trans_final_w_offer_temp_df, final_cols)"
   ]
  },
  {
   "cell_type": "code",
   "execution_count": 313,
   "metadata": {},
   "outputs": [],
   "source": [
    "trans_final_df = pd.concat([trans_final_w_offer_temp_df, trans_wo_amount_df])"
   ]
  },
  {
   "cell_type": "markdown",
   "metadata": {},
   "source": [
    "# Find Target Customers"
   ]
  },
  {
   "cell_type": "markdown",
   "metadata": {},
   "source": [
    "To find the target customers. We need to answer these questions:\n",
    "1. If the customer influenced by the offers\n",
    "2. If the customer influenced by the offers. How much the influence impact on the customers' spendings\n",
    "3. If the customer influenced by the offers. Did they have any preferred offers?"
   ]
  },
  {
   "cell_type": "markdown",
   "metadata": {},
   "source": [
    "## Q1: If the customer influenced by the offers"
   ]
  },
  {
   "cell_type": "markdown",
   "metadata": {},
   "source": [
    "# Playground"
   ]
  },
  {
   "cell_type": "markdown",
   "metadata": {},
   "source": [
    "### Generate the dataset of Q1"
   ]
  },
  {
   "cell_type": "code",
   "execution_count": 278,
   "metadata": {},
   "outputs": [],
   "source": [
    "trans_cus_q1_received_temp_df = transcript.loc[transcript[\"event\"] ==\"offer received\",\\\n",
    "                                               [\"portfolio_id\", \"customer_id\", \"event\"]]"
   ]
  },
  {
   "cell_type": "code",
   "execution_count": 279,
   "metadata": {},
   "outputs": [],
   "source": [
    "trans_cus_q1_completed_temp_df = transcript.loc[transcript[\"event\"] ==\"offer completed\",\\\n",
    "                                                [\"portfolio_id\", \"customer_id\", \"event\"]]"
   ]
  },
  {
   "cell_type": "code",
   "execution_count": 280,
   "metadata": {},
   "outputs": [],
   "source": [
    "trans_cus_q1_received_df = trans_cus_q1_received_temp_df.groupby([\"portfolio_id\", \"customer_id\"])\\\n",
    "[\"event\"].count().reset_index()"
   ]
  },
  {
   "cell_type": "code",
   "execution_count": 281,
   "metadata": {},
   "outputs": [],
   "source": [
    "trans_cus_q1_completed_df = trans_cus_q1_completed_temp_df.groupby([\"portfolio_id\", \"customer_id\"])\\\n",
    "[\"event\"].count().reset_index()"
   ]
  },
  {
   "cell_type": "code",
   "execution_count": 282,
   "metadata": {},
   "outputs": [],
   "source": [
    "trans_cus_q1_received_df = rename_columns(trans_cus_q1_received_df, \"event\", \"offer_received\")\n",
    "trans_cus_q1_completed_df = rename_columns(trans_cus_q1_completed_df, \"event\", \"offer_completed\")"
   ]
  },
  {
   "cell_type": "code",
   "execution_count": 283,
   "metadata": {},
   "outputs": [],
   "source": [
    "trans_cus_q1_temp_df = trans_cus_q1_received_df.merge(trans_cus_q1_completed_df,\\\n",
    "                                                   on=[\"customer_id\", \"portfolio_id\"],\\\n",
    "                                                   how=\"left\")"
   ]
  },
  {
   "cell_type": "code",
   "execution_count": 284,
   "metadata": {},
   "outputs": [],
   "source": [
    "trans_cus_q1_temp_df[\"offer_completed\"] = trans_cus_q1_temp_df[\"offer_completed\"].fillna(0)"
   ]
  },
  {
   "cell_type": "code",
   "execution_count": 285,
   "metadata": {},
   "outputs": [],
   "source": [
    "trans_cus_q1_temp_df[\"completed_rate\"] = trans_cus_q1_temp_df[\"offer_completed\"]/trans_cus_q1_temp_df[\"offer_received\"]"
   ]
  },
  {
   "cell_type": "code",
   "execution_count": 314,
   "metadata": {},
   "outputs": [],
   "source": [
    "trans_cus_q1_df = trans_final_df.merge(trans_cus_q1_temp_df[[\"customer_id\", \"portfolio_id\",\"completed_rate\"]],\\\n",
    "                                                               on = [\"customer_id\", \"portfolio_id\"],\\\n",
    "                                                               how=\"left\")"
   ]
  },
  {
   "cell_type": "code",
   "execution_count": 315,
   "metadata": {},
   "outputs": [],
   "source": [
    "trans_cus_q1_df[\"completed_rate\"] = trans_cus_q1_df[\"completed_rate\"].fillna(0) "
   ]
  },
  {
   "cell_type": "code",
   "execution_count": 316,
   "metadata": {},
   "outputs": [],
   "source": [
    "trans_cus_q1_df[\"w_offer\"] = trans_cus_q1_df[\"offer_name\"] != \"None\""
   ]
  },
  {
   "cell_type": "code",
   "execution_count": 317,
   "metadata": {},
   "outputs": [],
   "source": [
    "trans_cus_q1_final_df = trans_cus_q1_df[[\"customer_id\", \"w_offer\", \"amount\", \"completed_rate\"]]"
   ]
  },
  {
   "cell_type": "code",
   "execution_count": 318,
   "metadata": {},
   "outputs": [],
   "source": [
    "trans_cus_q1_final_df = trans_cus_q1_final_df.groupby([\"customer_id\", \"w_offer\"]).agg({\"amount\":sum, \"completed_rate\": np.mean}).reset_index()"
   ]
  },
  {
   "cell_type": "code",
   "execution_count": 319,
   "metadata": {
    "scrolled": true
   },
   "outputs": [
    {
     "data": {
      "text/html": [
       "<div>\n",
       "<style scoped>\n",
       "    .dataframe tbody tr th:only-of-type {\n",
       "        vertical-align: middle;\n",
       "    }\n",
       "\n",
       "    .dataframe tbody tr th {\n",
       "        vertical-align: top;\n",
       "    }\n",
       "\n",
       "    .dataframe thead th {\n",
       "        text-align: right;\n",
       "    }\n",
       "</style>\n",
       "<table border=\"1\" class=\"dataframe\">\n",
       "  <thead>\n",
       "    <tr style=\"text-align: right;\">\n",
       "      <th></th>\n",
       "      <th>customer_id</th>\n",
       "      <th>w_offer</th>\n",
       "      <th>amount</th>\n",
       "      <th>completed_rate</th>\n",
       "    </tr>\n",
       "  </thead>\n",
       "  <tbody>\n",
       "    <tr>\n",
       "      <th>0</th>\n",
       "      <td>0009655768c64bdeb2e877511632db8f</td>\n",
       "      <td>False</td>\n",
       "      <td>94.65</td>\n",
       "      <td>0.0</td>\n",
       "    </tr>\n",
       "    <tr>\n",
       "      <th>1</th>\n",
       "      <td>0009655768c64bdeb2e877511632db8f</td>\n",
       "      <td>True</td>\n",
       "      <td>32.95</td>\n",
       "      <td>1.0</td>\n",
       "    </tr>\n",
       "    <tr>\n",
       "      <th>2</th>\n",
       "      <td>00116118485d4dfda04fdbaba9a87b5c</td>\n",
       "      <td>False</td>\n",
       "      <td>4.09</td>\n",
       "      <td>0.0</td>\n",
       "    </tr>\n",
       "    <tr>\n",
       "      <th>3</th>\n",
       "      <td>0011e0d4e6b944f998e987f904e8c1e5</td>\n",
       "      <td>False</td>\n",
       "      <td>23.43</td>\n",
       "      <td>0.0</td>\n",
       "    </tr>\n",
       "    <tr>\n",
       "      <th>4</th>\n",
       "      <td>0011e0d4e6b944f998e987f904e8c1e5</td>\n",
       "      <td>True</td>\n",
       "      <td>56.03</td>\n",
       "      <td>1.0</td>\n",
       "    </tr>\n",
       "  </tbody>\n",
       "</table>\n",
       "</div>"
      ],
      "text/plain": [
       "                        customer_id  w_offer  amount  completed_rate\n",
       "0  0009655768c64bdeb2e877511632db8f    False   94.65             0.0\n",
       "1  0009655768c64bdeb2e877511632db8f     True   32.95             1.0\n",
       "2  00116118485d4dfda04fdbaba9a87b5c    False    4.09             0.0\n",
       "3  0011e0d4e6b944f998e987f904e8c1e5    False   23.43             0.0\n",
       "4  0011e0d4e6b944f998e987f904e8c1e5     True   56.03             1.0"
      ]
     },
     "execution_count": 319,
     "metadata": {},
     "output_type": "execute_result"
    }
   ],
   "source": [
    "trans_cus_q1_final_df.head()"
   ]
  },
  {
   "cell_type": "markdown",
   "metadata": {},
   "source": [
    "### Q1: Predict a customer buys with or without offers"
   ]
  },
  {
   "cell_type": "markdown",
   "metadata": {},
   "source": [
    "**Logistic Regression Model**"
   ]
  },
  {
   "cell_type": "markdown",
   "metadata": {},
   "source": [
    "Check count of the target variables and if they are balanced"
   ]
  },
  {
   "cell_type": "code",
   "execution_count": 320,
   "metadata": {
    "scrolled": true
   },
   "outputs": [
    {
     "data": {
      "text/plain": [
       "[Text(0,0.5,'Counts'), Text(0.5,0,'With Offers')]"
      ]
     },
     "execution_count": 320,
     "metadata": {},
     "output_type": "execute_result"
    },
    {
     "data": {
      "image/png": "[encoded data removed]",
      "text/plain": [
       "<matplotlib.figure.Figure at 0x7ffa6ad7a390>"
      ]
     },
     "metadata": {
      "needs_background": "light"
     },
     "output_type": "display_data"
    }
   ],
   "source": [
    "g = sns.countplot(x=\"w_offer\", data=trans_cus_q1_final_df, palette=\"pastel\")\n",
    "g.set(xlabel=\"With Offers\",\n",
    "ylabel=\"Counts\")"
   ]
  },
  {
   "cell_type": "markdown",
   "metadata": {},
   "source": [
    "The targets are balanced."
   ]
  },
  {
   "cell_type": "markdown",
   "metadata": {},
   "source": [
    "Check the correlations between independent variables."
   ]
  },
  {
   "cell_type": "code",
   "execution_count": 321,
   "metadata": {
    "scrolled": true
   },
   "outputs": [
    {
     "data": {
      "text/html": [
       "<div>\n",
       "<style scoped>\n",
       "    .dataframe tbody tr th:only-of-type {\n",
       "        vertical-align: middle;\n",
       "    }\n",
       "\n",
       "    .dataframe tbody tr th {\n",
       "        vertical-align: top;\n",
       "    }\n",
       "\n",
       "    .dataframe thead th {\n",
       "        text-align: right;\n",
       "    }\n",
       "</style>\n",
       "<table border=\"1\" class=\"dataframe\">\n",
       "  <thead>\n",
       "    <tr style=\"text-align: right;\">\n",
       "      <th></th>\n",
       "      <th>amount</th>\n",
       "      <th>completed_rate</th>\n",
       "    </tr>\n",
       "  </thead>\n",
       "  <tbody>\n",
       "    <tr>\n",
       "      <th>amount</th>\n",
       "      <td>1.00000</td>\n",
       "      <td>0.12617</td>\n",
       "    </tr>\n",
       "    <tr>\n",
       "      <th>completed_rate</th>\n",
       "      <td>0.12617</td>\n",
       "      <td>1.00000</td>\n",
       "    </tr>\n",
       "  </tbody>\n",
       "</table>\n",
       "</div>"
      ],
      "text/plain": [
       "                 amount  completed_rate\n",
       "amount          1.00000         0.12617\n",
       "completed_rate  0.12617         1.00000"
      ]
     },
     "execution_count": 321,
     "metadata": {},
     "output_type": "execute_result"
    }
   ],
   "source": [
    "trans_cus_q1_final_df[[\"amount\", \"completed_rate\"]].corr()"
   ]
  },
  {
   "cell_type": "markdown",
   "metadata": {},
   "source": [
    "Independents variables are not correlated with each other."
   ]
  },
  {
   "cell_type": "markdown",
   "metadata": {},
   "source": [
    "check outliers in the dataset"
   ]
  },
  {
   "cell_type": "code",
   "execution_count": 322,
   "metadata": {},
   "outputs": [
    {
     "data": {
      "text/plain": [
       "[Text(0,0.5,'Total Spending ($)'), Text(0.5,0,'With Offers')]"
      ]
     },
     "execution_count": 322,
     "metadata": {},
     "output_type": "execute_result"
    },
    {
     "data": {
      "image/png": "[encoded data removed]",
      "text/plain": [
       "<matplotlib.figure.Figure at 0x7ffa6aca8ac8>"
      ]
     },
     "metadata": {
      "needs_background": "light"
     },
     "output_type": "display_data"
    }
   ],
   "source": [
    "g = sns.boxplot(\n",
    "x = \"w_offer\"\n",
    ", y = \"amount\"\n",
    ", data = trans_cus_q1_final_df\n",
    ",  palette=\"pastel\"    \n",
    ")\n",
    "g.set(xlabel=\"With Offers\", ylabel=\"Total Spending ($)\")"
   ]
  },
  {
   "cell_type": "markdown",
   "metadata": {},
   "source": [
    "There are many amount outliers for the two attributes of the target variables. The outliers will misleading the logistic regression model. Need to convert these outliers or use a model that less sensitive to the outliers like the tree models."
   ]
  },
  {
   "cell_type": "markdown",
   "metadata": {},
   "source": [
    "### Logistic Regression Model"
   ]
  },
  {
   "cell_type": "code",
   "execution_count": 323,
   "metadata": {},
   "outputs": [],
   "source": [
    "X_q1_lg = trans_cus_q1_final_df[[\"amount\", \"completed_rate\"]]\n",
    "y_q1_lg = trans_cus_q1_final_df[\"w_offer\"]"
   ]
  },
  {
   "cell_type": "code",
   "execution_count": 324,
   "metadata": {},
   "outputs": [],
   "source": [
    "SEED=123"
   ]
  },
  {
   "cell_type": "code",
   "execution_count": 326,
   "metadata": {},
   "outputs": [],
   "source": [
    "X_q1_lg_train, X_q1_lg_test, y_q1_lg_train, y_q1_lg_test = \\\n",
    "train_test_split(X_q1_lg, y_q1_lg, test_size=0.3, random_state=SEED)"
   ]
  },
  {
   "cell_type": "code",
   "execution_count": 352,
   "metadata": {},
   "outputs": [
    {
     "data": {
      "text/plain": [
       "Pipeline(steps=[('standardscaler', StandardScaler()),\n",
       "                ('logisticregression', LogisticRegression())])"
      ]
     },
     "execution_count": 352,
     "metadata": {},
     "output_type": "execute_result"
    }
   ],
   "source": [
    "scaler = StandardScaler()\n",
    "q1_logreg = LogisticRegression()\n",
    "pipeline = make_pipeline(scaler, q1_logreg)\n",
    "pipeline.fit(X_q1_lg_train, y_q1_lg_train)"
   ]
  },
  {
   "cell_type": "code",
   "execution_count": 353,
   "metadata": {},
   "outputs": [],
   "source": [
    "logreg = pipeline.named_steps['logisticregression']"
   ]
  },
  {
   "cell_type": "code",
   "execution_count": 356,
   "metadata": {},
   "outputs": [
    {
     "data": {
      "text/plain": [
       "(array([[-1.63589321, 12.59770455]]), array([6.98069136]))"
      ]
     },
     "execution_count": 356,
     "metadata": {},
     "output_type": "execute_result"
    }
   ],
   "source": [
    "logreg.coef_, logreg.intercept_"
   ]
  },
  {
   "cell_type": "code",
   "execution_count": 329,
   "metadata": {},
   "outputs": [
    {
     "data": {
      "text/plain": [
       "0.9006379860332787"
      ]
     },
     "execution_count": 329,
     "metadata": {},
     "output_type": "execute_result"
    }
   ],
   "source": [
    "#get the accuracy of the training set\n",
    "pipeline.score(X_q1_lg_train, y_q1_lg_train)"
   ]
  },
  {
   "cell_type": "code",
   "execution_count": 331,
   "metadata": {},
   "outputs": [
    {
     "data": {
      "text/plain": [
       "0.8924763629048481"
      ]
     },
     "execution_count": 331,
     "metadata": {},
     "output_type": "execute_result"
    }
   ],
   "source": [
    "#get the accuracy of the testing set\n",
    "pipeline.score(X_q1_lg_test, y_q1_lg_test)"
   ]
  },
  {
   "cell_type": "code",
   "execution_count": 333,
   "metadata": {
    "scrolled": true
   },
   "outputs": [],
   "source": [
    "#get the probability\n",
    "q1_predictions = pipeline.predict_proba(X_q1_lg)"
   ]
  },
  {
   "cell_type": "code",
   "execution_count": 335,
   "metadata": {},
   "outputs": [],
   "source": [
    "q1_predictions_df = pd.DataFrame(q1_predictions[:, 1], columns=[\"prob\"])"
   ]
  },
  {
   "cell_type": "code",
   "execution_count": 337,
   "metadata": {
    "scrolled": true
   },
   "outputs": [],
   "source": [
    "trans_cus_q1_res_df = pd.concat([trans_cus_q1_final_df, q1_predictions_df], axis = 1)"
   ]
  },
  {
   "cell_type": "code",
   "execution_count": 357,
   "metadata": {},
   "outputs": [
    {
     "data": {
      "text/plain": [
       "0.48425556454416224"
      ]
     },
     "execution_count": 357,
     "metadata": {},
     "output_type": "execute_result"
    }
   ],
   "source": [
    "#get the average probability of the customer will buy with an offer\n",
    "trans_cus_q1_res_df[\"prob\"].mean()"
   ]
  },
  {
   "cell_type": "code",
   "execution_count": 362,
   "metadata": {
    "scrolled": true
   },
   "outputs": [
    {
     "data": {
      "text/plain": [
       "0.7509411764705882"
      ]
     },
     "execution_count": 362,
     "metadata": {},
     "output_type": "execute_result"
    }
   ],
   "source": [
    "len(trans_cus_q1_res_df.loc[trans_cus_q1_res_df[\"prob\"]>0.5, \"customer_id\"].unique())\\\n",
    "/len(trans_cus_q1_res_df[\"customer_id\"].unique())"
   ]
  },
  {
   "cell_type": "markdown",
   "metadata": {},
   "source": [
    "About 75% customers will have more than 50% chance to buy when they have an offer."
   ]
  },
  {
   "cell_type": "markdown",
   "metadata": {},
   "source": [
    "The model shows the customers who spent more money in starbucks have less interests on the offers."
   ]
  },
  {
   "cell_type": "code",
   "execution_count": 342,
   "metadata": {
    "scrolled": true
   },
   "outputs": [
    {
     "data": {
      "text/plain": [
       "0.9971957576137438"
      ]
     },
     "execution_count": 342,
     "metadata": {},
     "output_type": "execute_result"
    }
   ],
   "source": [
    "trans_cus_q1_res_df.loc[trans_cus_q1_res_df[\"completed_rate\"]>0, \"prob\"].mean()"
   ]
  },
  {
   "cell_type": "markdown",
   "metadata": {},
   "source": [
    "For these customer who completed an offer at least once have much higher probability to buy with an offer compare to the change of all customers."
   ]
  },
  {
   "cell_type": "markdown",
   "metadata": {},
   "source": [
    "### Decision Tree"
   ]
  },
  {
   "cell_type": "code",
   "execution_count": 363,
   "metadata": {},
   "outputs": [],
   "source": [
    "X_q1_clf = trans_cus_q1_final_df[[\"amount\", \"completed_rate\"]]\n",
    "y_q1_clf = trans_cus_q1_final_df[\"w_offer\"]"
   ]
  },
  {
   "cell_type": "code",
   "execution_count": 364,
   "metadata": {},
   "outputs": [],
   "source": [
    "SEED = 123"
   ]
  },
  {
   "cell_type": "code",
   "execution_count": 365,
   "metadata": {},
   "outputs": [],
   "source": [
    "X_q1_clf_train, X_q1_clf_test, y_q1_clf_train, y_q1_clf_test =\\\n",
    "train_test_split(X_q1_clf, y_q1_clf, test_size=0.3, random_state=SEED)"
   ]
  },
  {
   "cell_type": "code",
   "execution_count": 366,
   "metadata": {},
   "outputs": [],
   "source": [
    "q1_dt = DecisionTreeClassifier(random_state=SEED)"
   ]
  },
  {
   "cell_type": "code",
   "execution_count": 367,
   "metadata": {},
   "outputs": [
    {
     "data": {
      "text/plain": [
       "DecisionTreeClassifier(random_state=123)"
      ]
     },
     "execution_count": 367,
     "metadata": {},
     "output_type": "execute_result"
    }
   ],
   "source": [
    "q1_dt.fit(X_q1_clf_train, y_q1_clf_train)"
   ]
  },
  {
   "cell_type": "code",
   "execution_count": 369,
   "metadata": {},
   "outputs": [],
   "source": [
    "y_q1_pred = q1_dt.predict(X_q1_clf_test)"
   ]
  },
  {
   "cell_type": "code",
   "execution_count": 370,
   "metadata": {
    "scrolled": false
   },
   "outputs": [
    {
     "name": "stdout",
     "output_type": "stream",
     "text": [
      "Test set accuracy: 0.88\n"
     ]
    }
   ],
   "source": [
    "q1_accuracy = accuracy_score(y_q1_clf_test, y_q1_pred)\n",
    "print(\"Test set accuracy: {:.2f}\".format(q1_accuracy))"
   ]
  },
  {
   "cell_type": "code",
   "execution_count": 371,
   "metadata": {},
   "outputs": [],
   "source": [
    "FEATURE_NAMES = X_q1_clf_test.columns"
   ]
  },
  {
   "cell_type": "code",
   "execution_count": 372,
   "metadata": {},
   "outputs": [],
   "source": [
    "CLASS_NAMES = q1_dt.classes_"
   ]
  },
  {
   "cell_type": "code",
   "execution_count": 389,
   "metadata": {},
   "outputs": [],
   "source": [
    "# Create DOT data\n",
    "dot_data = export_graphviz(q1_dt\n",
    "                , 'gini_tree.dot'\n",
    "                , feature_names = FEATURE_NAMES\n",
    "                , class_names = str(CLASS_NAMES)\n",
    "                          )"
   ]
  },
  {
   "cell_type": "code",
   "execution_count": 379,
   "metadata": {},
   "outputs": [],
   "source": [
    "gini_importances = pd.Series(data = q1_dt.feature_importances_,\\\n",
    "                            index = X_q1_clf_train.columns\\\n",
    "                            )"
   ]
  },
  {
   "cell_type": "code",
   "execution_count": 380,
   "metadata": {},
   "outputs": [],
   "source": [
    "gini_importances_sorted = gini_importances.sort_values()"
   ]
  },
  {
   "cell_type": "code",
   "execution_count": 381,
   "metadata": {
    "scrolled": true
   },
   "outputs": [
    {
     "data": {
      "text/plain": [
       "Text(0.5,1,'Gini Tree Feature Importances')"
      ]
     },
     "execution_count": 381,
     "metadata": {},
     "output_type": "execute_result"
    },
    {
     "data": {
      "image/png": "[encoded data removed]",
      "text/plain": [
       "<matplotlib.figure.Figure at 0x7ffa6ac280f0>"
      ]
     },
     "metadata": {
      "needs_background": "light"
     },
     "output_type": "display_data"
    }
   ],
   "source": [
    "gini_importances_sorted.plot(kind='barh', color=\"lightgreen\")\n",
    "plt.title(\"Gini Tree Feature Importances\")"
   ]
  },
  {
   "cell_type": "markdown",
   "metadata": {
    "scrolled": true
   },
   "source": [
    "# Need to clean the data"
   ]
  },
  {
   "cell_type": "markdown",
   "metadata": {},
   "source": [
    "## Portfolio"
   ]
  },
  {
   "cell_type": "code",
   "execution_count": null,
   "metadata": {
    "scrolled": true
   },
   "outputs": [],
   "source": [
    "portfolio.head()"
   ]
  },
  {
   "cell_type": "code",
   "execution_count": null,
   "metadata": {},
   "outputs": [],
   "source": [
    "len(portfolio[\"portfolio_id\"].unique())"
   ]
  },
  {
   "cell_type": "code",
   "execution_count": null,
   "metadata": {
    "scrolled": true
   },
   "outputs": [],
   "source": [
    "portfolio[\"offer_type\"].unique()"
   ]
  },
  {
   "cell_type": "code",
   "execution_count": null,
   "metadata": {},
   "outputs": [],
   "source": [
    "portfolio.groupby(\"offer_type\")[\"portfolio_id\"].count()"
   ]
  },
  {
   "cell_type": "code",
   "execution_count": null,
   "metadata": {},
   "outputs": [],
   "source": [
    "portfolio.groupby(\"offer_type\")[[\"channel_web\", \"channel_email\", \"channel_mobile\", \"channel_social\"]].sum()"
   ]
  },
  {
   "cell_type": "code",
   "execution_count": null,
   "metadata": {},
   "outputs": [],
   "source": [
    "portfolio[\"difficulty\"].describe()"
   ]
  },
  {
   "cell_type": "code",
   "execution_count": null,
   "metadata": {
    "scrolled": true
   },
   "outputs": [],
   "source": [
    "portfolio[portfolio[\"offer_type\"] == \"informational\"][\"difficulty\"].describe()"
   ]
  },
  {
   "cell_type": "code",
   "execution_count": null,
   "metadata": {
    "scrolled": true
   },
   "outputs": [],
   "source": [
    "portfolio[portfolio[\"offer_type\"] == \"bogo\"][\"difficulty\"].describe()"
   ]
  },
  {
   "cell_type": "code",
   "execution_count": null,
   "metadata": {
    "scrolled": true
   },
   "outputs": [],
   "source": [
    "portfolio[portfolio[\"offer_type\"] == \"discount\"][\"difficulty\"].describe()"
   ]
  },
  {
   "cell_type": "code",
   "execution_count": null,
   "metadata": {},
   "outputs": [],
   "source": [
    "offer_diff_df = portfolio[portfolio[\"offer_type\"] != \"informational\"].groupby('offer_type')['difficulty'].mean().sort_values(ascending = False)"
   ]
  },
  {
   "cell_type": "code",
   "execution_count": null,
   "metadata": {},
   "outputs": [],
   "source": [
    "plt.barh(offer_diff_df.index, offer_diff_df.values, color='lightblue')"
   ]
  },
  {
   "cell_type": "code",
   "execution_count": null,
   "metadata": {},
   "outputs": [],
   "source": [
    "portfolio[\"reward\"].describe()"
   ]
  },
  {
   "cell_type": "code",
   "execution_count": null,
   "metadata": {},
   "outputs": [],
   "source": [
    "portfolio[portfolio[\"offer_type\"] == \"informational\"][\"reward\"].describe()"
   ]
  },
  {
   "cell_type": "code",
   "execution_count": null,
   "metadata": {},
   "outputs": [],
   "source": [
    "portfolio[portfolio[\"offer_type\"] == \"bogo\"][\"reward\"].describe()"
   ]
  },
  {
   "cell_type": "code",
   "execution_count": null,
   "metadata": {},
   "outputs": [],
   "source": [
    "portfolio[portfolio[\"offer_type\"] == \"discount\"][\"reward\"].describe()"
   ]
  },
  {
   "cell_type": "code",
   "execution_count": null,
   "metadata": {
    "scrolled": true
   },
   "outputs": [],
   "source": [
    "plt.scatter(portfolio.loc[portfolio[\"offer_type\"] == \"bogo\", \"reward\"], portfolio.loc[portfolio[\"offer_type\"] == \"bogo\", \"difficulty\"], c=\"lightblue\")\n",
    "plt.scatter(portfolio.loc[portfolio[\"offer_type\"] == \"discount\", \"reward\"], portfolio.loc[portfolio[\"offer_type\"] == \"discount\", \"difficulty\"], c=\"coral\")"
   ]
  },
  {
   "cell_type": "code",
   "execution_count": null,
   "metadata": {},
   "outputs": [],
   "source": [
    "portfolio.loc[portfolio[\"offer_type\"] == \"bogo\", \"reward\"]/portfolio.loc[portfolio[\"offer_type\"] == \"bogo\", \"difficulty\"].sort_values()"
   ]
  },
  {
   "cell_type": "code",
   "execution_count": null,
   "metadata": {},
   "outputs": [],
   "source": [
    "portfolio.loc[portfolio[\"offer_type\"] == \"discount\", \"reward\"]/portfolio.loc[portfolio[\"offer_type\"] == \"discount\", \"difficulty\"].sort_values()"
   ]
  },
  {
   "cell_type": "code",
   "execution_count": null,
   "metadata": {
    "scrolled": false
   },
   "outputs": [],
   "source": [
    "portfolio.duration.describe()"
   ]
  },
  {
   "cell_type": "code",
   "execution_count": null,
   "metadata": {
    "scrolled": true
   },
   "outputs": [],
   "source": [
    "portfolio.loc[portfolio[\"offer_type\"] == \"informational\", \"duration\"].describe()"
   ]
  },
  {
   "cell_type": "code",
   "execution_count": null,
   "metadata": {
    "scrolled": true
   },
   "outputs": [],
   "source": [
    "portfolio.loc[portfolio[\"offer_type\"] == \"bogo\", \"duration\"].describe()"
   ]
  },
  {
   "cell_type": "code",
   "execution_count": null,
   "metadata": {},
   "outputs": [],
   "source": [
    "portfolio.loc[portfolio[\"offer_type\"] == \"discount\", \"duration\"].describe()"
   ]
  },
  {
   "cell_type": "code",
   "execution_count": null,
   "metadata": {
    "scrolled": true
   },
   "outputs": [],
   "source": [
    "portfolio[['channel_web', 'channel_email', 'channel_mobile', 'channel_social']].sum().sort_values(ascending = False)"
   ]
  },
  {
   "cell_type": "markdown",
   "metadata": {},
   "source": [
    "the most used channels are email and mobile"
   ]
  },
  {
   "cell_type": "code",
   "execution_count": null,
   "metadata": {
    "scrolled": true
   },
   "outputs": [],
   "source": [
    "portfolio.loc[portfolio[\"channel_mobile\"]==0, \"duration\"].mean()"
   ]
  },
  {
   "cell_type": "code",
   "execution_count": null,
   "metadata": {},
   "outputs": [],
   "source": [
    "portfolio.loc[portfolio[\"channel_mobile\"]==1, \"duration\"].mean()"
   ]
  },
  {
   "cell_type": "code",
   "execution_count": null,
   "metadata": {},
   "outputs": [],
   "source": [
    "portfolio.loc[portfolio[\"channel_web\"]==0, \"duration\"].mean()"
   ]
  },
  {
   "cell_type": "code",
   "execution_count": null,
   "metadata": {},
   "outputs": [],
   "source": [
    "portfolio.loc[portfolio[\"channel_web\"]==1, \"duration\"].mean()"
   ]
  },
  {
   "cell_type": "code",
   "execution_count": null,
   "metadata": {},
   "outputs": [],
   "source": [
    "portfolio.loc[portfolio[\"channel_social\"]==0, \"duration\"].mean()"
   ]
  },
  {
   "cell_type": "code",
   "execution_count": null,
   "metadata": {},
   "outputs": [],
   "source": [
    "portfolio.loc[portfolio[\"channel_social\"]==1, \"duration\"].mean()"
   ]
  },
  {
   "cell_type": "markdown",
   "metadata": {},
   "source": [
    "## Profile"
   ]
  },
  {
   "cell_type": "code",
   "execution_count": null,
   "metadata": {},
   "outputs": [],
   "source": [
    "profile.head()"
   ]
  },
  {
   "cell_type": "code",
   "execution_count": null,
   "metadata": {},
   "outputs": [],
   "source": [
    "profile.age.describe()"
   ]
  },
  {
   "cell_type": "code",
   "execution_count": null,
   "metadata": {
    "scrolled": true
   },
   "outputs": [],
   "source": [
    "plt.hist(profile['age'])"
   ]
  },
  {
   "cell_type": "code",
   "execution_count": null,
   "metadata": {
    "scrolled": false
   },
   "outputs": [],
   "source": [
    "profile.income.describe()"
   ]
  },
  {
   "cell_type": "code",
   "execution_count": null,
   "metadata": {},
   "outputs": [],
   "source": [
    "profile_notnull = profile[~profile[\"income\"].isnull()]"
   ]
  },
  {
   "cell_type": "code",
   "execution_count": null,
   "metadata": {},
   "outputs": [],
   "source": [
    "plt.hist(profile_notnull[\"income\"])"
   ]
  },
  {
   "cell_type": "code",
   "execution_count": null,
   "metadata": {
    "scrolled": true
   },
   "outputs": [],
   "source": [
    "gender_df = profile.groupby('gender')['customer_id'].count()\n",
    "gender_df.head()"
   ]
  },
  {
   "cell_type": "code",
   "execution_count": null,
   "metadata": {
    "scrolled": true
   },
   "outputs": [],
   "source": [
    "plt.barh(gender_df.index, gender_df.values)"
   ]
  },
  {
   "cell_type": "code",
   "execution_count": null,
   "metadata": {},
   "outputs": [],
   "source": [
    "profile['gender'] = profile['gender'].fillna('O')"
   ]
  },
  {
   "cell_type": "code",
   "execution_count": null,
   "metadata": {
    "scrolled": true
   },
   "outputs": [],
   "source": [
    "gender_df_v2 = profile.groupby('gender')['customer_id'].count().sort_values()"
   ]
  },
  {
   "cell_type": "code",
   "execution_count": null,
   "metadata": {},
   "outputs": [],
   "source": [
    "plt.barh(gender_df_v2.index, gender_df_v2.values)"
   ]
  },
  {
   "cell_type": "code",
   "execution_count": null,
   "metadata": {
    "scrolled": true
   },
   "outputs": [],
   "source": [
    "profile['days_since_member'].describe()"
   ]
  },
  {
   "cell_type": "code",
   "execution_count": null,
   "metadata": {},
   "outputs": [],
   "source": [
    "bins = math.ceil(profile[\"days_since_member\"].max()/365)"
   ]
  },
  {
   "cell_type": "code",
   "execution_count": null,
   "metadata": {},
   "outputs": [],
   "source": [
    "plt.hist(profile['days_since_member'], bins = bins)"
   ]
  },
  {
   "cell_type": "markdown",
   "metadata": {},
   "source": [
    "## Transcript"
   ]
  },
  {
   "cell_type": "code",
   "execution_count": null,
   "metadata": {
    "scrolled": true
   },
   "outputs": [],
   "source": [
    "transcript.head()"
   ]
  },
  {
   "cell_type": "code",
   "execution_count": null,
   "metadata": {},
   "outputs": [],
   "source": [
    "transcript[\"event\"].unique()"
   ]
  },
  {
   "cell_type": "code",
   "execution_count": null,
   "metadata": {},
   "outputs": [],
   "source": [
    "# transcript[\"event\"] = pd.Categorical(transcript[\"event\"], [\"offer received\", \"offer viewed\", \"transaction\", \"offer completed\"])"
   ]
  },
  {
   "cell_type": "code",
   "execution_count": null,
   "metadata": {},
   "outputs": [],
   "source": [
    "transcript[\"customer_id\"].unique()"
   ]
  },
  {
   "cell_type": "code",
   "execution_count": null,
   "metadata": {},
   "outputs": [],
   "source": [
    "transcript[\"event\"].value_counts()"
   ]
  },
  {
   "cell_type": "code",
   "execution_count": null,
   "metadata": {},
   "outputs": [],
   "source": [
    "offer_by_cus = transcript.groupby(\"portfolio_id\")[\"customer_id\"].unique().reset_index()"
   ]
  },
  {
   "cell_type": "code",
   "execution_count": null,
   "metadata": {},
   "outputs": [],
   "source": [
    "offer_by_cus[\"cus_num\"] = offer_by_cus[\"customer_id\"].apply(lambda x: len(x))"
   ]
  },
  {
   "cell_type": "code",
   "execution_count": null,
   "metadata": {},
   "outputs": [],
   "source": [
    "offer_by_cus"
   ]
  },
  {
   "cell_type": "code",
   "execution_count": null,
   "metadata": {},
   "outputs": [],
   "source": [
    "offer_event_by_cus = transcript.groupby([\"portfolio_id\", \"event\"])[\"customer_id\"].unique().reset_index()"
   ]
  },
  {
   "cell_type": "code",
   "execution_count": null,
   "metadata": {},
   "outputs": [],
   "source": [
    "offer_event_by_cus[\"cus_num\"] = offer_event_by_cus[\"customer_id\"].apply(lambda x: len(x))"
   ]
  },
  {
   "cell_type": "code",
   "execution_count": null,
   "metadata": {},
   "outputs": [],
   "source": [
    "offer_event_by_cus = offer_event_by_cus.drop(\"customer_id\", axis = 1)"
   ]
  },
  {
   "cell_type": "code",
   "execution_count": null,
   "metadata": {},
   "outputs": [],
   "source": [
    "offer_event_by_cus.sort_values([\"portfolio_id\", \"event\"], ascending = [True, False])"
   ]
  },
  {
   "cell_type": "code",
   "execution_count": null,
   "metadata": {},
   "outputs": [],
   "source": [
    "offer_event_by_cus_wo_trans = offer_event_by_cus[offer_event_by_cus[\"event\"] != \"transaction\"]"
   ]
  },
  {
   "cell_type": "code",
   "execution_count": null,
   "metadata": {},
   "outputs": [],
   "source": [
    "# offer_event_by_cus_wo_trans[\"event\"] = pd.Categorical(offer_event_by_cus_wo_trans[\"event\"], [\"offer received\", \"offer viewed\", \"offer completed\"])"
   ]
  },
  {
   "cell_type": "code",
   "execution_count": null,
   "metadata": {},
   "outputs": [],
   "source": [
    "offer_event_by_cus_wo_trans.sort_values([\"portfolio_id\", \"event\"])"
   ]
  },
  {
   "cell_type": "code",
   "execution_count": null,
   "metadata": {},
   "outputs": [],
   "source": [
    "event_x_cus_pivot = offer_event_by_cus_wo_trans.pivot(index = \"portfolio_id\", columns = \"event\", values = \"cus_num\")"
   ]
  },
  {
   "cell_type": "code",
   "execution_count": null,
   "metadata": {},
   "outputs": [],
   "source": [
    "new_cols = [\"offer received\", \"offer viewed\", \"offer completed\"]"
   ]
  },
  {
   "cell_type": "code",
   "execution_count": null,
   "metadata": {},
   "outputs": [],
   "source": [
    "event_x_cus_pivot = event_x_cus_pivot[new_cols]"
   ]
  },
  {
   "cell_type": "code",
   "execution_count": null,
   "metadata": {},
   "outputs": [],
   "source": [
    "event_x_cus_pivot.columns"
   ]
  },
  {
   "cell_type": "code",
   "execution_count": null,
   "metadata": {},
   "outputs": [],
   "source": [
    "event_x_cus_pivot[\"offer completed\"] = event_x_cus_pivot[\"offer completed\"].fillna(0)"
   ]
  },
  {
   "cell_type": "code",
   "execution_count": null,
   "metadata": {},
   "outputs": [],
   "source": [
    "event_x_cus_pivot[\"offer_completed_before_viewed\"] = (event_x_cus_pivot[\"offer completed\"] - event_x_cus_pivot[\"offer viewed\"]).values"
   ]
  },
  {
   "cell_type": "code",
   "execution_count": null,
   "metadata": {
    "scrolled": true
   },
   "outputs": [],
   "source": [
    "event_x_cus_pivot.head()"
   ]
  },
  {
   "cell_type": "code",
   "execution_count": null,
   "metadata": {},
   "outputs": [],
   "source": [
    "event_x_cus_pivot.loc[event_x_cus_pivot[\"offer_completed_before_viewed\"] < 0, \"offer_completed_before_viewed\"] = 0"
   ]
  },
  {
   "cell_type": "code",
   "execution_count": null,
   "metadata": {},
   "outputs": [],
   "source": [
    "event_x_cus_pivot"
   ]
  },
  {
   "cell_type": "code",
   "execution_count": null,
   "metadata": {},
   "outputs": [],
   "source": [
    "event_x_cus_pivot[\"ctr_received_2_viewed\"] = event_x_cus_pivot[\"offer viewed\"]/event_x_cus_pivot[\"offer received\"]"
   ]
  },
  {
   "cell_type": "code",
   "execution_count": null,
   "metadata": {},
   "outputs": [],
   "source": [
    "event_x_cus_pivot[\"ctr_viewed_2_completed\"] = event_x_cus_pivot[\"offer completed\"]/event_x_cus_pivot[\"offer viewed\"]"
   ]
  },
  {
   "cell_type": "code",
   "execution_count": null,
   "metadata": {},
   "outputs": [],
   "source": [
    "event_x_cus_pivot[\"ctr_received_2_completed\"] = event_x_cus_pivot[\"offer completed\"]/event_x_cus_pivot[\"offer received\"]"
   ]
  },
  {
   "cell_type": "code",
   "execution_count": null,
   "metadata": {},
   "outputs": [],
   "source": [
    "# event_x_cus_pivot = event_x_cus_pivot[[\"offer received\", \"offer viewed\", \"offer completed\", \"offer_completed_before_viewed\", \"ctr_received_2_viewed\", \"ctr_viewed_2_completed\", \"ctr_received_2_completed\"]]"
   ]
  },
  {
   "cell_type": "code",
   "execution_count": null,
   "metadata": {
    "scrolled": true
   },
   "outputs": [],
   "source": [
    "event_x_cus_pivot = event_x_cus_pivot.sort_values(by=[\"ctr_received_2_completed\", \"ctr_viewed_2_completed\"], ascending = [False, False])"
   ]
  },
  {
   "cell_type": "code",
   "execution_count": null,
   "metadata": {},
   "outputs": [],
   "source": [
    "event_x_cus_pivot.head(3)"
   ]
  },
  {
   "cell_type": "code",
   "execution_count": null,
   "metadata": {},
   "outputs": [],
   "source": [
    "top_ctr_rate_offers = event_x_cus_pivot.index[:3].values"
   ]
  },
  {
   "cell_type": "code",
   "execution_count": null,
   "metadata": {},
   "outputs": [],
   "source": [
    "portfolio[portfolio[\"portfolio_id\"].isin(list(top_ctr_rate_offers))]"
   ]
  },
  {
   "cell_type": "markdown",
   "metadata": {},
   "source": [
    "The top 3 offers have great conversion rates overall. And 2 of them are discount offers. **Discount offers more popular?** "
   ]
  },
  {
   "cell_type": "code",
   "execution_count": null,
   "metadata": {},
   "outputs": [],
   "source": [
    "con1 = (transcript[\"portfolio_id\"].isin([\"0b1e1539f2cc45b7b9fa7c272da2e1d7\", \"9b98b8c7a33c4b65b9aebfe6a799e6d9\"]))\n",
    "con2 = (transcript[\"event\"].isin([\"offer viewed\", \"offer completed\"]))"
   ]
  },
  {
   "cell_type": "code",
   "execution_count": null,
   "metadata": {},
   "outputs": [],
   "source": [
    "completed_before_viewed_df1 = transcript.loc[con1 & con2]"
   ]
  },
  {
   "cell_type": "code",
   "execution_count": null,
   "metadata": {
    "scrolled": true
   },
   "outputs": [],
   "source": [
    "completed_before_viewed_df1[\"offer_completed\"] = (completed_before_viewed_df1[\"event\"] == 'offer completed').astype(int)\n",
    "completed_before_viewed_df1[\"offer_viewed\"] = (completed_before_viewed_df1[\"event\"] == 'offer viewed').astype(int)"
   ]
  },
  {
   "cell_type": "code",
   "execution_count": null,
   "metadata": {},
   "outputs": [],
   "source": [
    "completed_before_viewed_df1_agg = completed_before_viewed_df1.groupby([\"portfolio_id\", \"customer_id\"]).agg({\"offer_viewed\":sum, \"offer_completed\":sum}).reset_index()"
   ]
  },
  {
   "cell_type": "code",
   "execution_count": null,
   "metadata": {
    "scrolled": false
   },
   "outputs": [],
   "source": [
    "completed_before_viewed_df1_agg.head()"
   ]
  },
  {
   "cell_type": "code",
   "execution_count": null,
   "metadata": {},
   "outputs": [],
   "source": [
    "con3 = (completed_before_viewed_df1_agg[\"offer_completed\"]>completed_before_viewed_df1_agg[\"offer_viewed\"])\n",
    "con4 = [\"portfolio_id\", \"customer_id\"]"
   ]
  },
  {
   "cell_type": "code",
   "execution_count": null,
   "metadata": {},
   "outputs": [],
   "source": [
    "len(completed_before_viewed_df1_agg.loc[con3, con4].groupby(\"portfolio_id\")[\"customer_id\"].unique().values[0])"
   ]
  },
  {
   "cell_type": "code",
   "execution_count": null,
   "metadata": {
    "scrolled": false
   },
   "outputs": [],
   "source": [
    "len(completed_before_viewed_df1_agg.loc[con3, con4].groupby(\"portfolio_id\")[\"customer_id\"].unique().values[1])"
   ]
  },
  {
   "cell_type": "markdown",
   "metadata": {},
   "source": [
    "The differences above don't match with the ones I got from the pivot table. Why?"
   ]
  },
  {
   "cell_type": "markdown",
   "metadata": {},
   "source": [
    "Some customers got the offers more than once. Did they take the offer everytime?"
   ]
  },
  {
   "cell_type": "code",
   "execution_count": null,
   "metadata": {},
   "outputs": [],
   "source": [
    "cus_offer_matrix = transcript.groupby([\"customer_id\", \"portfolio_id\", \"event\"])[\"event\"].count().unstack().reset_index()"
   ]
  },
  {
   "cell_type": "code",
   "execution_count": null,
   "metadata": {},
   "outputs": [],
   "source": [
    "cus_offer_matrix  = cus_offer_matrix.fillna(0)"
   ]
  },
  {
   "cell_type": "code",
   "execution_count": null,
   "metadata": {},
   "outputs": [],
   "source": [
    "cus_offer_matrix.head()"
   ]
  },
  {
   "cell_type": "code",
   "execution_count": null,
   "metadata": {},
   "outputs": [],
   "source": [
    "cus_offer_matrix.loc[cus_offer_matrix[\"offer received\"] > 1, \\\n",
    "                     [\"customer_id\", \"portfolio_id\"]].drop_duplicates().count()[0]"
   ]
  },
  {
   "cell_type": "code",
   "execution_count": null,
   "metadata": {
    "scrolled": true
   },
   "outputs": [],
   "source": [
    "cus_offer_matrix.loc[(cus_offer_matrix[\"offer received\"] > 1) \\\n",
    "                 & (cus_offer_matrix[\"offer completed\"] < cus_offer_matrix[\"offer received\"]), \\\n",
    "                     [\"customer_id\", \"portfolio_id\"]].drop_duplicates().count()[0]"
   ]
  },
  {
   "cell_type": "code",
   "execution_count": null,
   "metadata": {
    "scrolled": true
   },
   "outputs": [],
   "source": [
    "print(\"Within the customers who received an offer multiple times,{}% of \\\n",
    "them complete all the offers\".format(str(round((7686/11718)*100, 2))))"
   ]
  },
  {
   "cell_type": "code",
   "execution_count": null,
   "metadata": {},
   "outputs": [],
   "source": [
    "cus_complete_all_offers = cus_offer_matrix.loc[(cus_offer_matrix[\"offer received\"] > 1) \\\n",
    "                 & (cus_offer_matrix[\"offer completed\"] == cus_offer_matrix[\"offer received\"]), \\\n",
    "                     [\"customer_id\", \"portfolio_id\"]].drop_duplicates()[\"customer_id\"].unique()"
   ]
  },
  {
   "cell_type": "code",
   "execution_count": null,
   "metadata": {},
   "outputs": [],
   "source": [
    "cus_complete_all_offers = list(cus_complete_all_offers)"
   ]
  },
  {
   "cell_type": "code",
   "execution_count": null,
   "metadata": {},
   "outputs": [],
   "source": [
    "cus_complete_all_offers[:10]"
   ]
  },
  {
   "cell_type": "code",
   "execution_count": null,
   "metadata": {
    "scrolled": true
   },
   "outputs": [],
   "source": [
    "transcript.loc[transcript[\"customer_id\"].isin(cus_complete_all_offers), \"amount\"].mean()"
   ]
  },
  {
   "cell_type": "code",
   "execution_count": null,
   "metadata": {
    "scrolled": false
   },
   "outputs": [],
   "source": [
    "transcript.loc[~transcript[\"customer_id\"].isin(cus_complete_all_offers), \"amount\"].mean()"
   ]
  },
  {
   "cell_type": "markdown",
   "metadata": {},
   "source": [
    "The customers who finished all the offers spend 2 times as the customers didn't finish all the offers. But the 20% top customers are not the same as the customers who finish all the offers."
   ]
  },
  {
   "cell_type": "code",
   "execution_count": null,
   "metadata": {
    "scrolled": true
   },
   "outputs": [],
   "source": [
    "transcript.loc[transcript[\"customer_id\"].isin(cus_complete_all_offers) \\\n",
    "               & transcript[\"amount\"] > 0\n",
    "               , \"amount\"].values"
   ]
  },
  {
   "cell_type": "code",
   "execution_count": null,
   "metadata": {},
   "outputs": [],
   "source": [
    "diff_cus_type_trans = pd.DataFrame()"
   ]
  },
  {
   "cell_type": "code",
   "execution_count": null,
   "metadata": {},
   "outputs": [],
   "source": [
    "diff_cus_type_trans = transcript.loc[(transcript[\"amount\"]> 0) & (transcript[\"amount\"] <= 10), [\"customer_id\", \"amount\"]]"
   ]
  },
  {
   "cell_type": "code",
   "execution_count": null,
   "metadata": {},
   "outputs": [],
   "source": [
    "diff_cus_type_trans[\"freq_cus_yn\"] = transcript[\"customer_id\"].isin(cus_complete_all_offers)"
   ]
  },
  {
   "cell_type": "code",
   "execution_count": null,
   "metadata": {},
   "outputs": [],
   "source": [
    "# plt.axvline(x=lower_bound, color = 'red'); # where our sample mean falls on null dist\n",
    "# plt.axvline(x=upper_bound, color = 'red');"
   ]
  },
  {
   "cell_type": "code",
   "execution_count": null,
   "metadata": {},
   "outputs": [],
   "source": [
    "# fre_customer_trans = transcript.loc[transcript[\"customer_id\"].isin(cus_complete_all_offers) \\\n",
    "#                & transcript[\"amount\"] > 0\n",
    "#                , \"amount\"].values\n",
    "# non_fre_customer_trans = transcript.loc[~transcript[\"customer_id\"].isin(cus_complete_all_offers) \\\n",
    "#                & transcript[\"amount\"] > 0\n",
    "#                , \"amount\"].values"
   ]
  },
  {
   "cell_type": "code",
   "execution_count": null,
   "metadata": {
    "scrolled": true
   },
   "outputs": [],
   "source": [
    "transcript[transcript[\"amount\"]>100].count()"
   ]
  },
  {
   "cell_type": "code",
   "execution_count": null,
   "metadata": {},
   "outputs": [],
   "source": [
    "transcript.count()"
   ]
  },
  {
   "cell_type": "code",
   "execution_count": null,
   "metadata": {
    "scrolled": true
   },
   "outputs": [],
   "source": [
    "transcript[transcript[\"amount\"]>10].count()/transcript.count()"
   ]
  },
  {
   "cell_type": "code",
   "execution_count": null,
   "metadata": {
    "scrolled": true
   },
   "outputs": [],
   "source": [
    "transcript.loc[transcript[\"amount\"]>10, \"amount\"].sum()/transcript[\"amount\"].sum()"
   ]
  },
  {
   "cell_type": "markdown",
   "metadata": {},
   "source": [
    "Top 20% customer contributed 80% transaction amount."
   ]
  },
  {
   "cell_type": "code",
   "execution_count": null,
   "metadata": {
    "scrolled": true
   },
   "outputs": [],
   "source": [
    "transcript[(transcript[\"amount\"]>10) & (transcript[\"customer_id\"].isin(cus_complete_all_offers))].count()"
   ]
  },
  {
   "cell_type": "code",
   "execution_count": null,
   "metadata": {},
   "outputs": [],
   "source": [
    "transcript[(transcript[\"amount\"]>10) & (transcript[\"customer_id\"].isin(cus_complete_all_offers))].count()/ \\\n",
    "transcript[transcript[\"amount\"]>10].count()"
   ]
  },
  {
   "cell_type": "code",
   "execution_count": null,
   "metadata": {},
   "outputs": [],
   "source": [
    "transcript.loc[(transcript[\"amount\"]>10) & (transcript[\"customer_id\"].isin(cus_complete_all_offers)), \"amount\"].sum()/ \\\n",
    "transcript.loc[transcript[\"amount\"]>10, \"amount\"].sum()"
   ]
  },
  {
   "cell_type": "markdown",
   "metadata": {},
   "source": [
    "The customers who complete all the offers account for 41% of the top 20% customers and 41% of the 80% revenue. Does this mean about 60% the most valued customers are not very sensitive to the offer? How to approve?"
   ]
  },
  {
   "cell_type": "code",
   "execution_count": null,
   "metadata": {
    "scrolled": true
   },
   "outputs": [],
   "source": [
    "diff_cus_type_trans.loc[diff_cus_type_trans[\"amount\"] < 10, \"amount\"].describe()"
   ]
  },
  {
   "cell_type": "code",
   "execution_count": null,
   "metadata": {},
   "outputs": [],
   "source": [
    "freq_cus = diff_cus_type_trans.loc[diff_cus_type_trans[\"freq_cus_yn\"] == True, \"amount\"].mean()\n",
    "non_freq_cus = diff_cus_type_trans.loc[diff_cus_type_trans[\"freq_cus_yn\"] == False, \"amount\"].mean()"
   ]
  },
  {
   "cell_type": "code",
   "execution_count": null,
   "metadata": {
    "scrolled": true
   },
   "outputs": [],
   "source": [
    "plt.hist(diff_cus_type_trans[\"amount\"])\n",
    "plt.axvline(x=freq_cus, color = 'red'); # where our sample mean falls on null dist\n",
    "plt.axvline(x=non_freq_cus, color = 'black');"
   ]
  },
  {
   "cell_type": "code",
   "execution_count": null,
   "metadata": {},
   "outputs": [],
   "source": [
    "high_m_cus = transcript.loc[transcript[\"amount\"]>10, \"amount\"]\n",
    "high_m_cus_mean = high_m_cus.mean()\n",
    "plt.hist(high_m_cus)\n",
    "plt.axvline(x=freq_cus, color = 'black');\n",
    "plt.axvline(x=high_m_cus_mean, color='coral')\n",
    "# plt.xscale(\"log\")\n",
    "# plt.yscale(\"log\")"
   ]
  },
  {
   "cell_type": "code",
   "execution_count": null,
   "metadata": {},
   "outputs": [],
   "source": [
    "cus_rm_df = transcript.groupby(\"customer_id\").agg({\"time\":max, \"amount\":sum}).reset_index()\n",
    "cus_f_df = transcript[transcript[\"amount\"] > 0].groupby(\"customer_id\")[\"event\"].count().reset_index()"
   ]
  },
  {
   "cell_type": "code",
   "execution_count": null,
   "metadata": {},
   "outputs": [],
   "source": [
    "cus_rm_df.loc[cus_rm_df[\"amount\"] == 0, \"customer_id\"].count()"
   ]
  },
  {
   "cell_type": "code",
   "execution_count": null,
   "metadata": {},
   "outputs": [],
   "source": [
    "len(cus_rm_df[\"customer_id\"].unique()) - len(cus_f_df[\"customer_id\"].unique())"
   ]
  },
  {
   "cell_type": "code",
   "execution_count": null,
   "metadata": {},
   "outputs": [],
   "source": [
    "cus_wo_purchase = cus_rm_df.loc[cus_rm_df[\"amount\"] == 0, \"customer_id\"]"
   ]
  },
  {
   "cell_type": "code",
   "execution_count": null,
   "metadata": {},
   "outputs": [],
   "source": [
    "cus_rfm_df = cus_rm_df.merge(cus_f_df, on= \"customer_id\", how=\"left\")"
   ]
  },
  {
   "cell_type": "code",
   "execution_count": null,
   "metadata": {},
   "outputs": [],
   "source": [
    "cus_rfm_df.columns = [\"customer_id\", \"recency\", \"monetary\", \"frequency\"]"
   ]
  },
  {
   "cell_type": "code",
   "execution_count": null,
   "metadata": {},
   "outputs": [],
   "source": [
    "cus_rfm_df.isnull().sum()"
   ]
  },
  {
   "cell_type": "code",
   "execution_count": null,
   "metadata": {
    "scrolled": true
   },
   "outputs": [],
   "source": [
    "cus_rfm_df.head()"
   ]
  },
  {
   "cell_type": "code",
   "execution_count": null,
   "metadata": {},
   "outputs": [],
   "source": [
    "cus_rfm_df[\"frequency\"] = cus_rfm_df[\"frequency\"].fillna(0)"
   ]
  },
  {
   "cell_type": "code",
   "execution_count": null,
   "metadata": {
    "scrolled": true
   },
   "outputs": [],
   "source": [
    "cus_rfm_df.isnull().sum()"
   ]
  },
  {
   "cell_type": "code",
   "execution_count": null,
   "metadata": {
    "scrolled": true
   },
   "outputs": [],
   "source": [
    "cus_rfm_df.head()"
   ]
  },
  {
   "cell_type": "code",
   "execution_count": null,
   "metadata": {
    "scrolled": false
   },
   "outputs": [],
   "source": [
    "quantiles = cus_rfm_df.quantile(q=[0.8])\n",
    "print(quantiles)"
   ]
  },
  {
   "cell_type": "code",
   "execution_count": null,
   "metadata": {},
   "outputs": [],
   "source": [
    "cus_rfm_df[\"R\"] = np.where(cus_rfm_df[\"recency\"]<=int(quantiles[\"recency\"].values), 2, 1)\n",
    "cus_rfm_df[\"F\"] = np.where(cus_rfm_df[\"frequency\"]<=int(quantiles[\"frequency\"].values), 2, 1)\n",
    "cus_rfm_df[\"M\"] = np.where(cus_rfm_df[\"monetary\"]<=int(quantiles[\"monetary\"].values), 2, 1)"
   ]
  },
  {
   "cell_type": "code",
   "execution_count": null,
   "metadata": {
    "scrolled": true
   },
   "outputs": [],
   "source": [
    "cus_rfm_df.head()"
   ]
  },
  {
   "cell_type": "code",
   "execution_count": null,
   "metadata": {},
   "outputs": [],
   "source": [
    "cus_rfm_df[\"RFMScore\"] = cus_rfm_df[\"M\"].map(str)  + cus_rfm_df[\"R\"].map(str) + cus_rfm_df[\"F\"].map(str)\n",
    "# cus_rfm_df[\"RFMScore\"] = cus_rfm_df[\"M\"].map(str)  + cus_rfm_df[\"R\"].map(str)"
   ]
  },
  {
   "cell_type": "code",
   "execution_count": null,
   "metadata": {
    "scrolled": false
   },
   "outputs": [],
   "source": [
    "cus_rfm_df.sort_values(\"RFMScore\").head()"
   ]
  },
  {
   "cell_type": "markdown",
   "metadata": {},
   "source": [
    "Generate FRMScore and use it to classify customer. Use is as new feature and feed into the model. Need to compare with the results of Clustering"
   ]
  },
  {
   "cell_type": "code",
   "execution_count": null,
   "metadata": {},
   "outputs": [],
   "source": [
    "FRMScore_df = cus_rfm_df[[\"customer_id\", \"RFMScore\"]]"
   ]
  },
  {
   "cell_type": "code",
   "execution_count": null,
   "metadata": {
    "scrolled": false
   },
   "outputs": [],
   "source": [
    "transcript[\"time\"].describe()"
   ]
  },
  {
   "cell_type": "code",
   "execution_count": null,
   "metadata": {},
   "outputs": [],
   "source": [
    "initial_date = pd.Timestamp(\"05/01/2020\")"
   ]
  },
  {
   "cell_type": "code",
   "execution_count": null,
   "metadata": {},
   "outputs": [],
   "source": [
    "transcript[\"datetime\"] = initial_date + pd.to_timedelta(transcript[\"time\"], unit='h')"
   ]
  },
  {
   "cell_type": "code",
   "execution_count": null,
   "metadata": {},
   "outputs": [],
   "source": [
    "portfolio[[\"portfolio_id\", \"duration\"]].head()"
   ]
  },
  {
   "cell_type": "code",
   "execution_count": null,
   "metadata": {},
   "outputs": [],
   "source": [
    "# offer_received_df = transcript[transcript[\"event\"]==\"offer received\"].merge(portfolio[[\"portfolio_id\", \"duration\"]], how = \"left\", on =\"portfolio_id\")"
   ]
  },
  {
   "cell_type": "code",
   "execution_count": null,
   "metadata": {},
   "outputs": [],
   "source": [
    "trans_x_pf_df = transcript.merge(portfolio[[\"portfolio_id\", \"duration\"]], how = \"left\", on =\"portfolio_id\")"
   ]
  },
  {
   "cell_type": "code",
   "execution_count": null,
   "metadata": {},
   "outputs": [],
   "source": [
    "trans_x_pf_df[\"offer_end_date\"] = trans_x_pf_df.loc[trans_x_pf_df[\"event\"] == \"offer received\", \"datetime\"] + \\\n",
    "pd.to_timedelta(trans_x_pf_df[\"duration\"], unit='d')"
   ]
  },
  {
   "cell_type": "code",
   "execution_count": null,
   "metadata": {
    "scrolled": false
   },
   "outputs": [],
   "source": [
    "trans_x_pf_df = trans_x_pf_df.drop(columns = [\"duration\", \"time\"])"
   ]
  },
  {
   "cell_type": "code",
   "execution_count": null,
   "metadata": {},
   "outputs": [],
   "source": [
    "trans_x_pf_df.sort_values(by=[\"customer_id\", \"portfolio_id\", \"datetime\"]).head()"
   ]
  },
  {
   "cell_type": "code",
   "execution_count": null,
   "metadata": {},
   "outputs": [],
   "source": [
    "trans_offer_df = trans_x_pf_df.loc[trans_x_pf_df[\"event\"] != \"transaction\", [\"customer_id\", \"portfolio_id\", \"event\", \"datetime\", \"offer_end_date\"]]"
   ]
  },
  {
   "cell_type": "code",
   "execution_count": null,
   "metadata": {},
   "outputs": [],
   "source": [
    "trans_trans_df = trans_x_pf_df.loc[trans_x_pf_df[\"event\"] == \"transaction\", [\"customer_id\", \"portfolio_id\", \"event\", \"datetime\"]]"
   ]
  },
  {
   "cell_type": "code",
   "execution_count": null,
   "metadata": {},
   "outputs": [],
   "source": [
    "# trans_offer_rank = trans_offer_df.groupby([\"customer_id\", \"portfolio_id\", \"event\"])[\"datetime\"].rank()"
   ]
  },
  {
   "cell_type": "code",
   "execution_count": null,
   "metadata": {},
   "outputs": [],
   "source": [
    "trans_offer_df = trans_offer_df.sort_values(by=[\"customer_id\", \"portfolio_id\", \"datetime\"]).fillna(method = \"ffill\")"
   ]
  },
  {
   "cell_type": "code",
   "execution_count": null,
   "metadata": {},
   "outputs": [],
   "source": [
    "trans_offer_df.head()"
   ]
  },
  {
   "cell_type": "code",
   "execution_count": null,
   "metadata": {},
   "outputs": [],
   "source": [
    "# trans_offer_rank_df = pd.concat([trans_offer_df, trans_offer_rank], axis = 1)\n",
    "# trans_offer_rank_df.columns = [\"customer_id\", \"portfolio_id\", \"event\", \"datetime\", \"offer_end_date\", \"num\"]"
   ]
  },
  {
   "cell_type": "code",
   "execution_count": null,
   "metadata": {},
   "outputs": [],
   "source": [
    "# trans_offer_rank_df = trans_offer_rank_df[[\"customer_id\", \"portfolio_id\", \"num\", \"event\", \"datetime\", \"offer_end_date\"]]"
   ]
  },
  {
   "cell_type": "code",
   "execution_count": null,
   "metadata": {},
   "outputs": [],
   "source": [
    "trans_offer_rank_df = trans_offer_df[[\"customer_id\", \"portfolio_id\", \"event\", \"datetime\", \"offer_end_date\"]]"
   ]
  },
  {
   "cell_type": "code",
   "execution_count": null,
   "metadata": {},
   "outputs": [],
   "source": [
    "# trans_offer_df[(trans_offer_df[\"customer_id\"] == \"ffff82501cea40309d5fdd7edcca4a07\") & \\\n",
    "#                (trans_offer_df[\"portfolio_id\"] == \"0b1e1539f2cc45b7b9fa7c272da2e1d7\")]"
   ]
  },
  {
   "cell_type": "code",
   "execution_count": null,
   "metadata": {},
   "outputs": [],
   "source": [
    "trans_offer_rank_matrix = trans_offer_rank_df.groupby([\"customer_id\", \"portfolio_id\", \"offer_end_date\", \"event\"]).agg({\"datetime\":min}).unstack()"
   ]
  },
  {
   "cell_type": "code",
   "execution_count": null,
   "metadata": {},
   "outputs": [],
   "source": [
    "trans_offer_rank_matrix = trans_offer_rank_matrix.reset_index()"
   ]
  },
  {
   "cell_type": "code",
   "execution_count": null,
   "metadata": {},
   "outputs": [],
   "source": [
    "trans_offer_tm_df = pd.DataFrame()"
   ]
  },
  {
   "cell_type": "code",
   "execution_count": null,
   "metadata": {},
   "outputs": [],
   "source": [
    "trans_offer_tm_df[\"customer_id\"] = trans_offer_rank_matrix[\"customer_id\"]\n",
    "trans_offer_tm_df[\"offer_start_date\"] = trans_offer_rank_matrix[\"datetime\"][\"offer received\"]\n",
    "trans_offer_tm_df[\"offer_end_date\"] = trans_offer_rank_matrix[\"offer_end_date\"]\n",
    "trans_offer_tm_df[\"offer_viewed_date\"] = trans_offer_rank_matrix[\"datetime\"][\"offer viewed\"]\n",
    "trans_offer_tm_df[\"offer_completed_date\"] = trans_offer_rank_matrix[\"datetime\"][\"offer completed\"]"
   ]
  },
  {
   "cell_type": "code",
   "execution_count": null,
   "metadata": {
    "scrolled": false
   },
   "outputs": [],
   "source": [
    "trans_offer_tm_df.head()"
   ]
  },
  {
   "cell_type": "code",
   "execution_count": null,
   "metadata": {},
   "outputs": [],
   "source": [
    "trans_trans_df[\"purchased_yn\"] = True"
   ]
  },
  {
   "cell_type": "code",
   "execution_count": null,
   "metadata": {},
   "outputs": [],
   "source": [
    "trans_trans_matrix = trans_trans_df.groupby([\"datetime\", \"customer_id\"]).agg({\"purchased_yn\":min}).unstack()"
   ]
  },
  {
   "cell_type": "code",
   "execution_count": null,
   "metadata": {},
   "outputs": [],
   "source": [
    "trans_offer_tm_nc_df = trans_offer_tm_df.loc[trans_offer_tm_df[\"offer_completed_date\"].isnull(), \\\n",
    "                                             [\"customer_id\", \"offer_start_date\", \"offer_end_date\"]]"
   ]
  },
  {
   "cell_type": "code",
   "execution_count": null,
   "metadata": {
    "scrolled": true
   },
   "outputs": [],
   "source": [
    "trans_trans_matrix.index"
   ]
  },
  {
   "cell_type": "code",
   "execution_count": null,
   "metadata": {
    "scrolled": true
   },
   "outputs": [],
   "source": [
    "trans_offer_tm_nc_df.head()"
   ]
  },
  {
   "cell_type": "code",
   "execution_count": null,
   "metadata": {
    "scrolled": true
   },
   "outputs": [],
   "source": [
    "trans_offer_tm_nc_df.iloc[0, 1]"
   ]
  },
  {
   "cell_type": "code",
   "execution_count": null,
   "metadata": {},
   "outputs": [],
   "source": [
    "trans_offer_tm_nc_df[\"purchased_yn\"] = 0"
   ]
  },
  {
   "cell_type": "code",
   "execution_count": null,
   "metadata": {},
   "outputs": [],
   "source": [
    "trans_offer_tm_nc_df.head()"
   ]
  },
  {
   "cell_type": "code",
   "execution_count": null,
   "metadata": {},
   "outputs": [],
   "source": [
    "inds = trans_offer_tm_nc_df.index.tolist()"
   ]
  },
  {
   "cell_type": "code",
   "execution_count": null,
   "metadata": {},
   "outputs": [],
   "source": [
    "len(inds)"
   ]
  },
  {
   "cell_type": "code",
   "execution_count": null,
   "metadata": {},
   "outputs": [],
   "source": [
    "amt_x_time = transcript.groupby(\"datetime\")[\"amount\"].sum().reset_index()"
   ]
  },
  {
   "cell_type": "code",
   "execution_count": null,
   "metadata": {},
   "outputs": [],
   "source": [
    "amt_x_time.head()"
   ]
  },
  {
   "cell_type": "code",
   "execution_count": null,
   "metadata": {
    "scrolled": false
   },
   "outputs": [],
   "source": [
    "plt.plot(amt_x_time[\"datetime\"], amt_x_time[\"amount\"])"
   ]
  },
  {
   "cell_type": "code",
   "execution_count": null,
   "metadata": {},
   "outputs": [],
   "source": [
    "cusnum_x_time = transcript.groupby(\"datetime\")[\"customer_id\"].unique().reset_index()"
   ]
  },
  {
   "cell_type": "code",
   "execution_count": null,
   "metadata": {},
   "outputs": [],
   "source": [
    "cusnum_x_time[\"cus_num\"] = cusnum_x_time[\"customer_id\"].apply(lambda x: len(x))"
   ]
  },
  {
   "cell_type": "code",
   "execution_count": null,
   "metadata": {
    "scrolled": false
   },
   "outputs": [],
   "source": [
    "cusnum_x_time.head()"
   ]
  },
  {
   "cell_type": "code",
   "execution_count": null,
   "metadata": {},
   "outputs": [],
   "source": [
    "cusnum_x_time[\"datetime\"].describe()"
   ]
  },
  {
   "cell_type": "code",
   "execution_count": null,
   "metadata": {
    "scrolled": false
   },
   "outputs": [],
   "source": [
    "plt.plot(cusnum_x_time[\"datetime\"], cusnum_x_time[\"cus_num\"], c = 'lightblue')\n",
    "# plt.yscale('log')"
   ]
  },
  {
   "cell_type": "code",
   "execution_count": null,
   "metadata": {},
   "outputs": [],
   "source": [
    "p_x_time = transcript[transcript[\"portfolio_id\"] != 0].groupby(\"datetime\")[\"portfolio_id\"].unique().reset_index()"
   ]
  },
  {
   "cell_type": "code",
   "execution_count": null,
   "metadata": {},
   "outputs": [],
   "source": [
    "p_x_time[\"port_num\"] = p_x_time[\"portfolio_id\"].apply(lambda x: len(x))"
   ]
  },
  {
   "cell_type": "code",
   "execution_count": null,
   "metadata": {},
   "outputs": [],
   "source": [
    "p_x_time[\"portfolio_id\"][0]"
   ]
  },
  {
   "cell_type": "code",
   "execution_count": null,
   "metadata": {
    "scrolled": true
   },
   "outputs": [],
   "source": [
    "plt.plot(p_x_time[\"datetime\"], p_x_time[\"port_num\"], c = 'coral')"
   ]
  },
  {
   "cell_type": "code",
   "execution_count": null,
   "metadata": {},
   "outputs": [],
   "source": [
    "transcript.groupby(\"portfolio_id\").agg({\"datetime\": [min, max]})"
   ]
  },
  {
   "cell_type": "code",
   "execution_count": null,
   "metadata": {},
   "outputs": [],
   "source": [
    "transcript.groupby(\"customer_id\")[\"amount\"].sum().describe()"
   ]
  },
  {
   "cell_type": "code",
   "execution_count": null,
   "metadata": {},
   "outputs": [],
   "source": [
    "plt.hist(transcript[\"event\"])"
   ]
  },
  {
   "cell_type": "code",
   "execution_count": null,
   "metadata": {},
   "outputs": [],
   "source": [
    "transcript.groupby(\"event\")[\"event\"].count()"
   ]
  },
  {
   "cell_type": "code",
   "execution_count": null,
   "metadata": {},
   "outputs": [],
   "source": [
    "transcript[\"amount\"].describe()"
   ]
  },
  {
   "cell_type": "code",
   "execution_count": null,
   "metadata": {},
   "outputs": [],
   "source": [
    "plt.hist(transcript[\"amount\"])"
   ]
  },
  {
   "cell_type": "code",
   "execution_count": null,
   "metadata": {
    "scrolled": true
   },
   "outputs": [],
   "source": [
    "plt.boxplot(transcript[\"amount\"])"
   ]
  },
  {
   "cell_type": "code",
   "execution_count": null,
   "metadata": {
    "scrolled": true
   },
   "outputs": [],
   "source": [
    "plt.boxplot(transcript['amount'])\n",
    "plt.ylim(top=200)"
   ]
  },
  {
   "cell_type": "code",
   "execution_count": null,
   "metadata": {
    "scrolled": true
   },
   "outputs": [],
   "source": [
    "transcript[\"reward\"].describe()"
   ]
  },
  {
   "cell_type": "code",
   "execution_count": null,
   "metadata": {},
   "outputs": [],
   "source": [
    "reward_x_time = transcript.groupby(\"datetime\")[\"reward\"].sum().reset_index()"
   ]
  },
  {
   "cell_type": "code",
   "execution_count": null,
   "metadata": {
    "scrolled": true
   },
   "outputs": [],
   "source": [
    "reward_x_time.head()"
   ]
  },
  {
   "cell_type": "code",
   "execution_count": null,
   "metadata": {
    "scrolled": true
   },
   "outputs": [],
   "source": [
    "plt.plot(reward_x_time[\"datetime\"], reward_x_time[\"reward\"], color = \"coral\")"
   ]
  },
  {
   "cell_type": "code",
   "execution_count": null,
   "metadata": {
    "scrolled": true
   },
   "outputs": [],
   "source": [
    "plt.plot(amt_x_time[\"datetime\"], amt_x_time[\"amount\"], color = 'lightblue')\n",
    "plt.plot(reward_x_time[\"datetime\"], reward_x_time[\"reward\"], color = \"coral\")\n",
    "# plt.yscale('log')"
   ]
  },
  {
   "cell_type": "code",
   "execution_count": null,
   "metadata": {
    "scrolled": true
   },
   "outputs": [],
   "source": [
    "np.corrcoef(transcript[\"reward\"], transcript[\"amount\"])"
   ]
  },
  {
   "cell_type": "code",
   "execution_count": null,
   "metadata": {
    "scrolled": true
   },
   "outputs": [],
   "source": [
    "sum(transcript.groupby(\"customer_id\")['amount'].sum().sort_values(ascending = False) > 0)"
   ]
  },
  {
   "cell_type": "code",
   "execution_count": null,
   "metadata": {},
   "outputs": [],
   "source": [
    "len(transcript[\"customer_id\"].unique())"
   ]
  },
  {
   "cell_type": "code",
   "execution_count": null,
   "metadata": {
    "scrolled": true
   },
   "outputs": [],
   "source": [
    "16578/17000"
   ]
  },
  {
   "cell_type": "code",
   "execution_count": null,
   "metadata": {
    "scrolled": true
   },
   "outputs": [],
   "source": [
    "portfolio.head()"
   ]
  },
  {
   "cell_type": "code",
   "execution_count": null,
   "metadata": {
    "scrolled": true
   },
   "outputs": [],
   "source": [
    "offer_trans_final_df.head()"
   ]
  },
  {
   "cell_type": "code",
   "execution_count": null,
   "metadata": {},
   "outputs": [],
   "source": [
    "portfolio.head()"
   ]
  },
  {
   "cell_type": "code",
   "execution_count": null,
   "metadata": {},
   "outputs": [],
   "source": [
    "offer_trans_port_new_df = offer_trans_final_df.\\\n",
    "merge(portfolio, on = \"portfolio_id\", how = \"left\")"
   ]
  },
  {
   "cell_type": "code",
   "execution_count": null,
   "metadata": {
    "scrolled": false
   },
   "outputs": [],
   "source": [
    "offer_trans_port_new_df.head()"
   ]
  },
  {
   "cell_type": "code",
   "execution_count": null,
   "metadata": {},
   "outputs": [],
   "source": [
    "offer_trans_port_new_df.offer_type.unique()"
   ]
  },
  {
   "cell_type": "code",
   "execution_count": null,
   "metadata": {},
   "outputs": [],
   "source": [
    "offer_trans_by_type_pct = offer_trans_port_new_df.groupby(\"offer_type\")\\\n",
    "[\"amount\"].sum()/offer_trans_port_new_df[\"amount\"].sum()"
   ]
  },
  {
   "cell_type": "code",
   "execution_count": null,
   "metadata": {},
   "outputs": [],
   "source": [
    "offer_trans_by_type_pct = offer_trans_by_type_pct.reset_index()"
   ]
  },
  {
   "cell_type": "code",
   "execution_count": null,
   "metadata": {},
   "outputs": [],
   "source": [
    "offer_trans_by_type_pct"
   ]
  },
  {
   "cell_type": "code",
   "execution_count": null,
   "metadata": {
    "scrolled": false
   },
   "outputs": [],
   "source": [
    "fig, ax = plt.subplots()\n",
    "ax.bar(offer_trans_by_type_pct[\"offer_type\"], offer_trans_by_type_pct[\"amount\"])\n",
    "ax.set_xticklabels(offer_trans_by_type_pct[\"offer_type\"], rotation = 90)\n",
    "ax.set_xlabel(\"Offer Type\")\n",
    "ax.set_ylabel(\"Total Sales\")"
   ]
  },
  {
   "cell_type": "code",
   "execution_count": null,
   "metadata": {
    "scrolled": true
   },
   "outputs": [],
   "source": [
    "FRMScore_df.head()"
   ]
  },
  {
   "cell_type": "code",
   "execution_count": null,
   "metadata": {},
   "outputs": [],
   "source": [
    "FRMScore_df.loc[:,\"RFMScore\"] = FRMScore_df.loc[:,\"RFMScore\"].astype(\"category\")"
   ]
  },
  {
   "cell_type": "code",
   "execution_count": null,
   "metadata": {},
   "outputs": [],
   "source": [
    "FRMScore_df.groupby(\"customer_id\").agg({\"RFMScore\":pd.Series.nunique}).reset_index()[\"RFMScore\"].unique()"
   ]
  },
  {
   "cell_type": "code",
   "execution_count": null,
   "metadata": {},
   "outputs": [],
   "source": [
    "offer_trans_final_temp_df = offer_trans_port_new_df.merge(profile, on = \"customer_id\", how=\"left\")"
   ]
  },
  {
   "cell_type": "code",
   "execution_count": null,
   "metadata": {
    "scrolled": false
   },
   "outputs": [],
   "source": [
    "offer_trans_final_temp_df.head()"
   ]
  },
  {
   "cell_type": "code",
   "execution_count": null,
   "metadata": {},
   "outputs": [],
   "source": [
    "offer_trans_final_temp_df = offer_trans_final_temp_df.merge(FRMScore_df, how = \"left\", on = \"customer_id\")"
   ]
  },
  {
   "cell_type": "code",
   "execution_count": null,
   "metadata": {},
   "outputs": [],
   "source": [
    "offer_trans_final_df = offer_trans_final_temp_df.drop(columns = [\"portfolio_id\", \"customer_id\"])"
   ]
  },
  {
   "cell_type": "code",
   "execution_count": null,
   "metadata": {
    "scrolled": true
   },
   "outputs": [],
   "source": [
    "offer_trans_final_df.head()"
   ]
  },
  {
   "cell_type": "code",
   "execution_count": null,
   "metadata": {},
   "outputs": [],
   "source": [
    "offer_trans_by_gender_pct = offer_trans_final_df.groupby(\"gender\")[\"amount\"].sum()/offer_trans_final_df[\"amount\"].sum()"
   ]
  },
  {
   "cell_type": "code",
   "execution_count": null,
   "metadata": {
    "scrolled": true
   },
   "outputs": [],
   "source": [
    "fig, ax = plt.subplots()\n",
    "ax.bar(offer_trans_by_gender_pct.index, offer_trans_by_gender_pct.values)\n",
    "ax.set_xticklabels(offer_trans_by_gender_pct.index, rotation = 90)\n",
    "ax.set_xlabel(\"Gender\")\n",
    "ax.set_ylabel(\"Total Sales\")"
   ]
  },
  {
   "cell_type": "code",
   "execution_count": null,
   "metadata": {},
   "outputs": [],
   "source": [
    "offer_trans_by_age_pct = offer_trans_final_df.groupby(\"age\")[\"amount\"].sum()/offer_trans_final_df[\"amount\"].sum()"
   ]
  },
  {
   "cell_type": "code",
   "execution_count": null,
   "metadata": {
    "scrolled": true
   },
   "outputs": [],
   "source": [
    "fig, ax = plt.subplots()\n",
    "ax.bar(offer_trans_by_age_pct.index, offer_trans_by_age_pct.values)\n",
    "ax.set_xlabel(\"Age\")\n",
    "ax.set_ylabel(\"Total Sales\")"
   ]
  },
  {
   "cell_type": "code",
   "execution_count": null,
   "metadata": {
    "scrolled": true
   },
   "outputs": [],
   "source": [
    "offer_trans_final_df.head()"
   ]
  },
  {
   "cell_type": "code",
   "execution_count": null,
   "metadata": {
    "scrolled": true
   },
   "outputs": [],
   "source": [
    "corr = offer_trans_final_df.corr()\n",
    "fig, ax = plt.subplots()\n",
    "# ax = fig.add_subplot(111)\n",
    "cax = ax.matshow(corr,cmap='coolwarm', vmin=-1, vmax=1)\n",
    "fig.colorbar(cax)\n",
    "ticks = np.arange(0,len(offer_trans_final_df.corr().columns),1)\n",
    "ax.set_xticks(ticks)\n",
    "plt.xticks(rotation=90)\n",
    "ax.set_yticks(ticks)\n",
    "ax.set_xticklabels(offer_trans_final_df.corr().columns)\n",
    "ax.set_yticklabels(offer_trans_final_df.corr().columns)"
   ]
  },
  {
   "cell_type": "markdown",
   "metadata": {},
   "source": [
    "difficulty has week correlation with reward and strong relation with duration. Drop difficulty column"
   ]
  },
  {
   "cell_type": "code",
   "execution_count": null,
   "metadata": {},
   "outputs": [],
   "source": [
    "offer_trans_final_df.drop(columns =[\"difficulty\"], inplace=True)"
   ]
  },
  {
   "cell_type": "code",
   "execution_count": null,
   "metadata": {
    "scrolled": true
   },
   "outputs": [],
   "source": [
    "corr = offer_trans_final_df.corr()\n",
    "fig, ax = plt.subplots()\n",
    "# ax = fig.add_subplot(111)\n",
    "cax = ax.matshow(corr,cmap='coolwarm', vmin=-1, vmax=1)\n",
    "fig.colorbar(cax)\n",
    "ticks = np.arange(0,len(offer_trans_final_df.corr().columns),1)\n",
    "ax.set_xticks(ticks)\n",
    "plt.xticks(rotation=90)\n",
    "ax.set_yticks(ticks)\n",
    "ax.set_xticklabels(offer_trans_final_df.corr().columns)\n",
    "ax.set_yticklabels(offer_trans_final_df.corr().columns)"
   ]
  },
  {
   "cell_type": "code",
   "execution_count": null,
   "metadata": {
    "scrolled": true
   },
   "outputs": [],
   "source": [
    "offer_trans_final_df.head()"
   ]
  },
  {
   "cell_type": "markdown",
   "metadata": {},
   "source": [
    "Generate a df for clustering analysis"
   ]
  },
  {
   "cell_type": "code",
   "execution_count": null,
   "metadata": {},
   "outputs": [],
   "source": [
    "offer_trans_final_kmeans_df = offer_trans_final_df[[\"amount\", \"offer_type\", \"gender\", \"age\", \"days_since_member\", \"RFMScore\"]]"
   ]
  },
  {
   "cell_type": "code",
   "execution_count": null,
   "metadata": {},
   "outputs": [],
   "source": [
    "offer_trans_final_kmeans_final_df = pd.concat([offer_trans_final_kmeans_df, pd.get_dummies(offer_trans_final_kmeans_df[[\"offer_type\",\"gender\",\"RFMScore\"]])], axis=1)"
   ]
  },
  {
   "cell_type": "code",
   "execution_count": null,
   "metadata": {},
   "outputs": [],
   "source": [
    "offer_trans_final_kmeans_final_df.head()"
   ]
  },
  {
   "cell_type": "code",
   "execution_count": null,
   "metadata": {},
   "outputs": [],
   "source": [
    "offer_trans_final_kmeans_final_df.drop(columns=[\"offer_type\",\"gender\", \"RFMScore\"], inplace=True)"
   ]
  },
  {
   "cell_type": "code",
   "execution_count": null,
   "metadata": {
    "scrolled": false
   },
   "outputs": [],
   "source": [
    "offer_trans_final_kmeans_final_df.head()"
   ]
  },
  {
   "cell_type": "code",
   "execution_count": null,
   "metadata": {},
   "outputs": [],
   "source": [
    "offer_trans_final_kmeans_final_norm_df = offer_trans_final_kmeans_final_df.copy()"
   ]
  },
  {
   "cell_type": "code",
   "execution_count": null,
   "metadata": {
    "scrolled": false
   },
   "outputs": [],
   "source": [
    "offer_trans_final_kmeans_final_norm_df.head()"
   ]
  },
  {
   "cell_type": "code",
   "execution_count": null,
   "metadata": {},
   "outputs": [],
   "source": [
    "distortions = []\n",
    "K = range(1,10)\n",
    "for k in K:\n",
    "    scaler = StandardScaler()\n",
    "    kmeans = KMeans(n_clusters=k)\n",
    "    pipeline = make_pipeline(scaler, kmeans)\n",
    "    pipeline.fit(offer_trans_final_kmeans_final_norm_df)  \n",
    "    distortions.append(kmeans.inertia_)"
   ]
  },
  {
   "cell_type": "code",
   "execution_count": null,
   "metadata": {},
   "outputs": [],
   "source": [
    "# Plot the elbow\n",
    "plt.plot(K, distortions, 'bx-')\n",
    "plt.xlabel('k')\n",
    "plt.ylabel('Distortion')\n",
    "plt.title('The Elbow Method showing the optimal k')\n",
    "plt.show()"
   ]
  },
  {
   "cell_type": "code",
   "execution_count": null,
   "metadata": {},
   "outputs": [],
   "source": [
    "scaler = StandardScaler()\n",
    "kmeans = KMeans(n_clusters=3)\n",
    "pipeline = make_pipeline(scaler, kmeans)\n",
    "pipeline.fit(offer_trans_final_kmeans_final_norm_df)\n",
    "offer_trans_final_kmeans_final_norm_df['labels'] = kmeans.labels_"
   ]
  },
  {
   "cell_type": "code",
   "execution_count": null,
   "metadata": {
    "scrolled": true
   },
   "outputs": [],
   "source": [
    "offer_trans_final_kmeans_final_norm_df.groupby('labels').count()"
   ]
  },
  {
   "cell_type": "code",
   "execution_count": null,
   "metadata": {
    "scrolled": false
   },
   "outputs": [],
   "source": [
    "offer_trans_final_kmeans_final_norm_df.groupby('labels').\\\n",
    "agg({\"amount\":sum, \"age\":np.mean, \"days_since_member\":np.mean,\\\n",
    "     \"offer_type_bogo\":sum, \"offer_type_discount\":sum, \"offer_type_informational\":sum,\\\n",
    "     \"gender_F\":sum, \"gender_M\":sum, \"gender_O\":sum, \"RFMScore_111\":sum, \"RFMScore_112\":sum,\\\n",
    "     \"RFMScore_121\":sum,\"RFMScore_122\":sum,\"RFMScore_211\":sum,\"RFMScore_212\":sum,\\\n",
    "     \"RFMScore_221\":sum,\"RFMScore_222\":sum\n",
    "    })"
   ]
  },
  {
   "cell_type": "markdown",
   "metadata": {},
   "source": [
    "Clustering Analysis can't tell me what types of customers are preferred what offer. Use collaborative filtering to build a recommendation engine?"
   ]
  },
  {
   "cell_type": "markdown",
   "metadata": {},
   "source": [
    "Get the info of users who don't have have offers"
   ]
  },
  {
   "cell_type": "code",
   "execution_count": null,
   "metadata": {},
   "outputs": [],
   "source": [
    "non_offer_trans_final_df.head()"
   ]
  },
  {
   "cell_type": "code",
   "execution_count": null,
   "metadata": {},
   "outputs": [],
   "source": [
    "offer_non_trans_port_new_df = non_offer_trans_final_df.\\\n",
    "merge(profile,on = \"customer_id\", how = \"left\")"
   ]
  },
  {
   "cell_type": "code",
   "execution_count": null,
   "metadata": {
    "scrolled": true
   },
   "outputs": [],
   "source": [
    "offer_non_trans_port_new_df.head()"
   ]
  },
  {
   "cell_type": "code",
   "execution_count": null,
   "metadata": {},
   "outputs": [],
   "source": [
    "non_offer_trans_by_gender_pct = offer_non_trans_port_new_df.groupby(\"gender\")[\"amount\"].sum()/offer_non_trans_port_new_df[\"amount\"].sum()"
   ]
  },
  {
   "cell_type": "code",
   "execution_count": null,
   "metadata": {
    "scrolled": true
   },
   "outputs": [],
   "source": [
    "fig, ax = plt.subplots()\n",
    "ax.bar(non_offer_trans_by_gender_pct.index, non_offer_trans_by_gender_pct.values)\n",
    "ax.set_xlabel(\"Gender\")\n",
    "ax.set_ylabel(\"Total Sales\")"
   ]
  },
  {
   "cell_type": "code",
   "execution_count": null,
   "metadata": {},
   "outputs": [],
   "source": [
    "non_offer_trans_by_age_pct = offer_non_trans_port_new_df.groupby(\"age\")[\"amount\"].sum()/offer_non_trans_port_new_df[\"amount\"].sum()"
   ]
  },
  {
   "cell_type": "code",
   "execution_count": null,
   "metadata": {
    "scrolled": false
   },
   "outputs": [],
   "source": [
    "fix, ax = plt.subplots()\n",
    "ax.bar(non_offer_trans_by_age_pct.index, non_offer_trans_by_age_pct.values)\n",
    "ax.set_xlabel(\"Age\")\n",
    "ax.set_ylabel(\"Total Sales\")"
   ]
  },
  {
   "cell_type": "markdown",
   "metadata": {},
   "source": [
    "# Tree based Prediction Model"
   ]
  },
  {
   "cell_type": "markdown",
   "metadata": {},
   "source": [
    "TODO: Normalized amount"
   ]
  },
  {
   "cell_type": "code",
   "execution_count": null,
   "metadata": {
    "scrolled": true
   },
   "outputs": [],
   "source": [
    "profile.head()"
   ]
  },
  {
   "cell_type": "code",
   "execution_count": null,
   "metadata": {
    "scrolled": true
   },
   "outputs": [],
   "source": [
    "offer_trans_port_new_df.head()"
   ]
  },
  {
   "cell_type": "code",
   "execution_count": null,
   "metadata": {},
   "outputs": [],
   "source": [
    "offer_trans_final_temp_df.head()"
   ]
  },
  {
   "cell_type": "code",
   "execution_count": null,
   "metadata": {},
   "outputs": [],
   "source": [
    "# offer_trans_port_final_df = offer_trans_port_new_df.merge(profile, on=\"customer_id\", how=\"left\")\\\n",
    "# [[\"portfolio_id\", \"offer_type\", \"duration\", \"difficulty\", \"age\", \"days_since_member\", \"gender\", \"amount\"]]"
   ]
  },
  {
   "cell_type": "code",
   "execution_count": null,
   "metadata": {},
   "outputs": [],
   "source": [
    "# offer_trans_port_final_df = offer_trans_port_new_df.merge(profile, on=\"customer_id\", how=\"left\")\\\n",
    "# [[\"offer_name\", \"offer_type\", \"channel_web\", \"channel_email\", \"channel_mobile\", \"channel_social\",\\\n",
    "#   \"age\", \"days_since_member\", \"gender\", \"amount\"]]"
   ]
  },
  {
   "cell_type": "code",
   "execution_count": null,
   "metadata": {},
   "outputs": [],
   "source": [
    "offer_trans_port_final_df = offer_trans_final_temp_df[[\"offer_name\", \"offer_type\", \\\n",
    "\"channel_web\", \"channel_email\", \"channel_mobile\", \"channel_social\",\\\n",
    "  \"age\", \"days_since_member\", \"gender\", \"amount\", \"RFMScore\"]]"
   ]
  },
  {
   "cell_type": "code",
   "execution_count": null,
   "metadata": {
    "scrolled": false
   },
   "outputs": [],
   "source": [
    "offer_trans_port_final_df.head()"
   ]
  },
  {
   "cell_type": "code",
   "execution_count": null,
   "metadata": {},
   "outputs": [],
   "source": [
    "offer_trans_port_final_df.info()"
   ]
  },
  {
   "cell_type": "code",
   "execution_count": null,
   "metadata": {
    "scrolled": false
   },
   "outputs": [],
   "source": [
    "offer_non_trans_port_new_df.head()"
   ]
  },
  {
   "cell_type": "code",
   "execution_count": null,
   "metadata": {},
   "outputs": [],
   "source": [
    "offer_non_trans_port_new_df = offer_non_trans_port_new_df.merge(FRMScore_df, how = \"left\", on = \"customer_id\")"
   ]
  },
  {
   "cell_type": "code",
   "execution_count": null,
   "metadata": {
    "scrolled": true
   },
   "outputs": [],
   "source": [
    "offer_non_trans_port_new_df.info()"
   ]
  },
  {
   "cell_type": "code",
   "execution_count": null,
   "metadata": {},
   "outputs": [],
   "source": [
    "offer_non_trans_port_new_df.drop(columns = [\"RFMScore_x\"], inplace = True)\n",
    "# offer_non_trans_port_new_df.rename(columns ={\"RFMScore_y\":\"RFMScore\"}, inplace = True)"
   ]
  },
  {
   "cell_type": "code",
   "execution_count": null,
   "metadata": {},
   "outputs": [],
   "source": [
    "offer_non_trans_port_new_df.drop(columns = [\"duration\", \"difficulty\"], inplace = True)"
   ]
  },
  {
   "cell_type": "code",
   "execution_count": null,
   "metadata": {},
   "outputs": [],
   "source": [
    "offer_non_trans_port_new_df.head()"
   ]
  },
  {
   "cell_type": "code",
   "execution_count": null,
   "metadata": {},
   "outputs": [],
   "source": [
    "offer_non_trans_port_new_df[\"offer_type\"] = \"no\"\n",
    "# offer_non_trans_port_new_df[\"duration\"] = 0\n",
    "# offer_non_trans_port_new_df[\"difficulty\"] = 0\n",
    "offer_non_trans_port_new_df[\"portfolio_id\"] = \"0\"\n",
    "offer_non_trans_port_new_df[\"offer_name\"] = \"None\"\n",
    "offer_non_trans_port_new_df[\"channel_web\"] = 0\n",
    "offer_non_trans_port_new_df[\"channel_email\"] = 0\n",
    "offer_non_trans_port_new_df[\"channel_mobile\"] = 0\n",
    "offer_non_trans_port_new_df[\"channel_social\"] = 0"
   ]
  },
  {
   "cell_type": "code",
   "execution_count": null,
   "metadata": {
    "scrolled": false
   },
   "outputs": [],
   "source": [
    "offer_non_trans_port_new_df.head()"
   ]
  },
  {
   "cell_type": "code",
   "execution_count": null,
   "metadata": {},
   "outputs": [],
   "source": [
    "# offer_non_trans_port_final_df = offer_non_trans_port_new_df[[\"portfolio_id\", \"offer_type\", \"duration\", \"difficulty\",\\\n",
    "#                                                              \"age\", \"days_since_member\", \"gender\", \"amount\"]]"
   ]
  },
  {
   "cell_type": "code",
   "execution_count": null,
   "metadata": {},
   "outputs": [],
   "source": [
    "offer_non_trans_port_final_df = offer_non_trans_port_new_df[[\"offer_name\", \"offer_type\",\"channel_web\", \"channel_email\", \"channel_mobile\", \"channel_social\",\\\n",
    "                                                             \"age\", \"days_since_member\", \"gender\", \"amount\", \"RFMScore\"]]"
   ]
  },
  {
   "cell_type": "code",
   "execution_count": null,
   "metadata": {},
   "outputs": [],
   "source": [
    "customer_offer_tree = pd.concat([offer_trans_port_final_df, offer_non_trans_port_final_df])"
   ]
  },
  {
   "cell_type": "code",
   "execution_count": null,
   "metadata": {
    "scrolled": false
   },
   "outputs": [],
   "source": [
    "customer_offer_tree.head()"
   ]
  },
  {
   "cell_type": "code",
   "execution_count": null,
   "metadata": {},
   "outputs": [],
   "source": [
    "# customer_offer_final_tree = pd.concat([customer_offer_tree, pd.get_dummies(customer_offer_tree[[\"offer_type\", \"gender\", \"duration\", \"difficulty\"]])], axis = 1)"
   ]
  },
  {
   "cell_type": "code",
   "execution_count": null,
   "metadata": {},
   "outputs": [],
   "source": [
    "customer_offer_final_tree = pd.concat([customer_offer_tree, pd.get_dummies(customer_offer_tree[[\"offer_type\", \"gender\", \"RFMScore\"]])], axis = 1)"
   ]
  },
  {
   "cell_type": "code",
   "execution_count": null,
   "metadata": {},
   "outputs": [],
   "source": [
    "# customer_offer_final_tree.drop(columns = [\"offer_type\", \"duration\", \"difficulty\", \"gender\"], inplace = True)"
   ]
  },
  {
   "cell_type": "code",
   "execution_count": null,
   "metadata": {},
   "outputs": [],
   "source": [
    "customer_offer_final_tree.drop(columns = [\"offer_type\", \"gender\", \"RFMScore\"], inplace = True)"
   ]
  },
  {
   "cell_type": "code",
   "execution_count": null,
   "metadata": {},
   "outputs": [],
   "source": [
    "# customer_offer_final_tree.loc[:, ~customer_offer_final_tree.columns.isin([\"portfolio_id\", \"age\", \"days_since_member\", \"amount\"])] = \\\n",
    "# customer_offer_final_tree.loc[:, ~customer_offer_final_tree.columns.isin([\"portfolio_id\", \"age\", \"days_since_member\", \"amount\"])].astype('bool')"
   ]
  },
  {
   "cell_type": "code",
   "execution_count": null,
   "metadata": {
    "scrolled": true
   },
   "outputs": [],
   "source": [
    "customer_offer_final_tree.head()"
   ]
  },
  {
   "cell_type": "markdown",
   "metadata": {},
   "source": [
    "## Offer Type Classification"
   ]
  },
  {
   "cell_type": "code",
   "execution_count": null,
   "metadata": {},
   "outputs": [],
   "source": [
    "y_clf = customer_offer_final_tree[\"offer_name\"]\n",
    "X_clf = customer_offer_final_tree.drop(columns = [\"offer_name\"])"
   ]
  },
  {
   "cell_type": "code",
   "execution_count": null,
   "metadata": {},
   "outputs": [],
   "source": [
    "X_clf.info()"
   ]
  },
  {
   "cell_type": "code",
   "execution_count": null,
   "metadata": {},
   "outputs": [],
   "source": [
    "SEED = 123"
   ]
  },
  {
   "cell_type": "code",
   "execution_count": null,
   "metadata": {},
   "outputs": [],
   "source": [
    "X_clf_train, X_clf_test, y_clf_train, y_clf_test = train_test_split(X_clf, y_clf, test_size=0.3, random_state=SEED)"
   ]
  },
  {
   "cell_type": "code",
   "execution_count": null,
   "metadata": {},
   "outputs": [],
   "source": [
    "dt_gini = DecisionTreeClassifier(max_depth=6, min_samples_leaf=1000, random_state=SEED)"
   ]
  },
  {
   "cell_type": "code",
   "execution_count": null,
   "metadata": {},
   "outputs": [],
   "source": [
    "dt_gini.fit(X_clf_train, y_clf_train)"
   ]
  },
  {
   "cell_type": "code",
   "execution_count": null,
   "metadata": {},
   "outputs": [],
   "source": [
    "y_gini_pred = dt_gini.predict(X_clf_test)"
   ]
  },
  {
   "cell_type": "code",
   "execution_count": null,
   "metadata": {
    "scrolled": true
   },
   "outputs": [],
   "source": [
    "accuracy_gini = accuracy_score(y_clf_test, y_gini_pred)\n",
    "print(\"Test set accuracy: {:.2f}\".format(accuracy_gini))"
   ]
  },
  {
   "cell_type": "code",
   "execution_count": null,
   "metadata": {},
   "outputs": [],
   "source": [
    "FEATURE_NAMES = X_clf_test.columns"
   ]
  },
  {
   "cell_type": "code",
   "execution_count": null,
   "metadata": {},
   "outputs": [],
   "source": [
    "CLASS_NAMES = dt_gini.classes_"
   ]
  },
  {
   "cell_type": "code",
   "execution_count": null,
   "metadata": {},
   "outputs": [],
   "source": [
    "export_graphviz(dt_gini\n",
    "                , 'gini_tree.dot'\n",
    "                , feature_names = FEATURE_NAMES\n",
    "                , class_names = CLASS_NAMES\n",
    "               )"
   ]
  },
  {
   "cell_type": "code",
   "execution_count": null,
   "metadata": {},
   "outputs": [],
   "source": [
    "! dot -Tpng gini_tree.dot -o gini_tree.png"
   ]
  },
  {
   "cell_type": "code",
   "execution_count": null,
   "metadata": {
    "scrolled": true
   },
   "outputs": [],
   "source": [
    "img = cv2.imread('gini_tree.png')\n",
    "plt.figure(figsize = (100, 20))\n",
    "plt.imshow(img)"
   ]
  },
  {
   "cell_type": "code",
   "execution_count": null,
   "metadata": {},
   "outputs": [],
   "source": [
    "gini_importances = pd.Series(data = dt_gini.feature_importances_,\\\n",
    "                            index = X_clf_train.columns\\\n",
    "                            )"
   ]
  },
  {
   "cell_type": "code",
   "execution_count": null,
   "metadata": {},
   "outputs": [],
   "source": [
    "gini_importances_sorted = gini_importances.sort_values()"
   ]
  },
  {
   "cell_type": "code",
   "execution_count": null,
   "metadata": {
    "scrolled": true
   },
   "outputs": [],
   "source": [
    "gini_importances_sorted.plot(kind='barh', color=\"lightgreen\")\n",
    "plt.title(\"Gini Tree Feature Importances\")"
   ]
  },
  {
   "cell_type": "code",
   "execution_count": null,
   "metadata": {},
   "outputs": [],
   "source": [
    "dt_entropy = DecisionTreeClassifier(max_depth=6,  min_samples_leaf=2000, criterion='entropy', random_state=SEED)"
   ]
  },
  {
   "cell_type": "code",
   "execution_count": null,
   "metadata": {},
   "outputs": [],
   "source": [
    "dt_entropy.fit(X_clf_train, y_clf_train)"
   ]
  },
  {
   "cell_type": "code",
   "execution_count": null,
   "metadata": {},
   "outputs": [],
   "source": [
    "y_entropy_pred = dt_entropy.predict(X_clf_test)"
   ]
  },
  {
   "cell_type": "code",
   "execution_count": null,
   "metadata": {
    "scrolled": true
   },
   "outputs": [],
   "source": [
    "accuracy_entropy = accuracy_score(y_clf_test, y_entropy_pred)\n",
    "print('Accuracy achieved by using entropy: {:.2f}'.format(accuracy_entropy))"
   ]
  },
  {
   "cell_type": "code",
   "execution_count": null,
   "metadata": {},
   "outputs": [],
   "source": [
    "ENTROPY_CLASS_NAMES = dt_entropy.classes_"
   ]
  },
  {
   "cell_type": "code",
   "execution_count": null,
   "metadata": {},
   "outputs": [],
   "source": [
    "export_graphviz(dt_entropy, 'entropy_tree.dot'\n",
    "                , feature_names = FEATURE_NAMES\n",
    "                , class_names = ENTROPY_CLASS_NAMES\n",
    "                , filled = True\n",
    "                , rounded = True)"
   ]
  },
  {
   "cell_type": "code",
   "execution_count": null,
   "metadata": {},
   "outputs": [],
   "source": [
    "! dot -Tpng entropy_tree.dot -o entropy_tree.png"
   ]
  },
  {
   "cell_type": "code",
   "execution_count": null,
   "metadata": {
    "scrolled": false
   },
   "outputs": [],
   "source": [
    "img2 = cv2.imread('entropy_tree.png')\n",
    "plt.figure(figsize = (20, 20))\n",
    "plt.imshow(img2)"
   ]
  },
  {
   "cell_type": "code",
   "execution_count": null,
   "metadata": {},
   "outputs": [],
   "source": [
    "entropy_importances = pd.Series(data = dt_entropy.feature_importances_,\\\n",
    "                            index = X_clf_train.columns\\\n",
    "                            )"
   ]
  },
  {
   "cell_type": "code",
   "execution_count": null,
   "metadata": {},
   "outputs": [],
   "source": [
    "entropy_importances_sorted = entropy_importances.sort_values()"
   ]
  },
  {
   "cell_type": "code",
   "execution_count": null,
   "metadata": {},
   "outputs": [],
   "source": [
    "entropy_importances_sorted.plot(kind='barh', color=\"lightblue\")\n",
    "plt.title(\"Entropy Tree Feature Importances\")"
   ]
  },
  {
   "cell_type": "markdown",
   "metadata": {},
   "source": [
    "## Random Forest Model"
   ]
  },
  {
   "cell_type": "code",
   "execution_count": null,
   "metadata": {},
   "outputs": [],
   "source": []
  },
  {
   "cell_type": "code",
   "execution_count": null,
   "metadata": {},
   "outputs": [],
   "source": [
    "X_clf_train.shape"
   ]
  },
  {
   "cell_type": "code",
   "execution_count": null,
   "metadata": {},
   "outputs": [],
   "source": [
    "rf_entropy = RandomForestClassifier(n_estimators=25, max_depth=6,\\\n",
    "                                    min_samples_leaf=2000, criterion='entropy', random_state=SEED)"
   ]
  },
  {
   "cell_type": "code",
   "execution_count": null,
   "metadata": {},
   "outputs": [],
   "source": [
    "rf_entropy.fit(X_clf_train, y_clf_train)"
   ]
  },
  {
   "cell_type": "code",
   "execution_count": null,
   "metadata": {},
   "outputs": [],
   "source": [
    "rf_y_entropy_pred = rf_entropy.predict(X_clf_test)"
   ]
  },
  {
   "cell_type": "code",
   "execution_count": null,
   "metadata": {},
   "outputs": [],
   "source": [
    "rf_accuracy_entropy = accuracy_score(y_clf_test, rf_y_entropy_pred)\n",
    "print('Accuracy achieved by using entropy: {:.2f}'.format(rf_accuracy_entropy))"
   ]
  },
  {
   "cell_type": "code",
   "execution_count": null,
   "metadata": {},
   "outputs": [],
   "source": [
    "rf_entropy_importances = pd.Series(data = rf_entropy.feature_importances_,\\\n",
    "                            index = X_clf_train.columns\\\n",
    "                            )"
   ]
  },
  {
   "cell_type": "code",
   "execution_count": null,
   "metadata": {},
   "outputs": [],
   "source": [
    "rf_entropy_importances_sorted = rf_entropy_importances.sort_values()"
   ]
  },
  {
   "cell_type": "code",
   "execution_count": null,
   "metadata": {},
   "outputs": [],
   "source": [
    "rf_entropy_importances_sorted.plot(kind='barh', color=\"coral\")\n",
    "plt.title(\"Entropy RF Feature Importances\")"
   ]
  },
  {
   "cell_type": "markdown",
   "metadata": {},
   "source": [
    "## Interpret Results"
   ]
  },
  {
   "cell_type": "code",
   "execution_count": null,
   "metadata": {},
   "outputs": [],
   "source": [
    "portfolio"
   ]
  },
  {
   "cell_type": "code",
   "execution_count": null,
   "metadata": {
    "scrolled": true
   },
   "outputs": [],
   "source": [
    "y_entropy_pred"
   ]
  },
  {
   "cell_type": "code",
   "execution_count": null,
   "metadata": {},
   "outputs": [],
   "source": [
    "entropy_pred_df = pd.DataFrame(y_entropy_pred, columns = [\"entropy_pred_offer\"])"
   ]
  },
  {
   "cell_type": "code",
   "execution_count": null,
   "metadata": {
    "scrolled": true
   },
   "outputs": [],
   "source": [
    "entropy_pred_df[\"entropy_pred_offer\"].value_counts()"
   ]
  },
  {
   "cell_type": "code",
   "execution_count": null,
   "metadata": {},
   "outputs": [],
   "source": [
    "entropy_pred_df[\"entropy_pred_offer\"].value_counts()/entropy_pred_df[\"entropy_pred_offer\"].shape[0]"
   ]
  },
  {
   "cell_type": "code",
   "execution_count": null,
   "metadata": {},
   "outputs": [],
   "source": [
    "customer_offer_tree[\"offer_type\"].value_counts()"
   ]
  },
  {
   "cell_type": "code",
   "execution_count": null,
   "metadata": {},
   "outputs": [],
   "source": [
    "customer_offer_tree[\"offer_type\"].value_counts()/customer_offer_tree[\"offer_type\"].shape[0]"
   ]
  },
  {
   "cell_type": "code",
   "execution_count": null,
   "metadata": {},
   "outputs": [],
   "source": [
    "customer_offer_final_tree.head()"
   ]
  },
  {
   "cell_type": "code",
   "execution_count": 160,
   "metadata": {},
   "outputs": [],
   "source": [
    "avg_sales_by_gender_by_offer_name = offer_df.groupby([\"offer_name\", \"gender\"])[\"amount\"].mean().reset_index()"
   ]
  },
  {
   "cell_type": "code",
   "execution_count": 161,
   "metadata": {
    "scrolled": true
   },
   "outputs": [
    {
     "data": {
      "text/html": [
       "<div>\n",
       "<style scoped>\n",
       "    .dataframe tbody tr th:only-of-type {\n",
       "        vertical-align: middle;\n",
       "    }\n",
       "\n",
       "    .dataframe tbody tr th {\n",
       "        vertical-align: top;\n",
       "    }\n",
       "\n",
       "    .dataframe thead th {\n",
       "        text-align: right;\n",
       "    }\n",
       "</style>\n",
       "<table border=\"1\" class=\"dataframe\">\n",
       "  <thead>\n",
       "    <tr style=\"text-align: right;\">\n",
       "      <th></th>\n",
       "      <th>offer_name</th>\n",
       "      <th>gender</th>\n",
       "      <th>amount</th>\n",
       "    </tr>\n",
       "  </thead>\n",
       "  <tbody>\n",
       "    <tr>\n",
       "      <th>0</th>\n",
       "      <td>offer_0</td>\n",
       "      <td>F</td>\n",
       "      <td>19.231290</td>\n",
       "    </tr>\n",
       "    <tr>\n",
       "      <th>1</th>\n",
       "      <td>offer_0</td>\n",
       "      <td>M</td>\n",
       "      <td>16.425963</td>\n",
       "    </tr>\n",
       "    <tr>\n",
       "      <th>2</th>\n",
       "      <td>offer_0</td>\n",
       "      <td>O</td>\n",
       "      <td>14.261099</td>\n",
       "    </tr>\n",
       "    <tr>\n",
       "      <th>3</th>\n",
       "      <td>offer_1</td>\n",
       "      <td>F</td>\n",
       "      <td>17.962058</td>\n",
       "    </tr>\n",
       "    <tr>\n",
       "      <th>4</th>\n",
       "      <td>offer_1</td>\n",
       "      <td>M</td>\n",
       "      <td>13.943077</td>\n",
       "    </tr>\n",
       "  </tbody>\n",
       "</table>\n",
       "</div>"
      ],
      "text/plain": [
       "  offer_name gender     amount\n",
       "0    offer_0      F  19.231290\n",
       "1    offer_0      M  16.425963\n",
       "2    offer_0      O  14.261099\n",
       "3    offer_1      F  17.962058\n",
       "4    offer_1      M  13.943077"
      ]
     },
     "execution_count": 161,
     "metadata": {},
     "output_type": "execute_result"
    }
   ],
   "source": [
    "avg_sales_by_gender_by_offer_name.head()"
   ]
  },
  {
   "cell_type": "code",
   "execution_count": 169,
   "metadata": {
    "scrolled": false
   },
   "outputs": [
    {
     "data": {
      "text/plain": [
       "<seaborn.axisgrid.FacetGrid at 0x7ffd3facfbe0>"
      ]
     },
     "execution_count": 169,
     "metadata": {},
     "output_type": "execute_result"
    },
    {
     "data": {
      "image/png": "[encoded data removed]",
      "text/plain": [
       "<matplotlib.figure.Figure at 0x7ffd3fad8160>"
      ]
     },
     "metadata": {
      "needs_background": "light"
     },
     "output_type": "display_data"
    }
   ],
   "source": [
    "g = sns.catplot(x=\"offer_name\"\n",
    ", y=\"amount\"        \n",
    ", data=avg_sales_by_gender_by_offer_name\n",
    ", kind=\"bar\"            \n",
    ", hue=\"gender\"\n",
    ", palette=palette_colors\n",
    ")\n",
    "\n",
    "g.set_axis_labels(\"Offer Name\", \"Avg Spending Amount($)\")"
   ]
  },
  {
   "cell_type": "markdown",
   "metadata": {},
   "source": [
    "The most popular offer on average is offer 4. On average, the gender of Other customers showed the most interests in this offer. The offer 4 is a discount type and displayed the offer on the web and email channel for 10 days. This offer had the highest difficulty level. The offer 3 is the least favorite offer. This is a bogo offer, which provided for 7 days and 5 rewards."
   ]
  },
  {
   "cell_type": "markdown",
   "metadata": {},
   "source": [
    "# Need to clean the data "
   ]
  }
 ],
 "metadata": {
  "kernelspec": {
   "display_name": "Python 3",
   "language": "python",
   "name": "python3"
  },
  "language_info": {
   "codemirror_mode": {
    "name": "ipython",
    "version": 3
   },
   "file_extension": ".py",
   "mimetype": "text/x-python",
   "name": "python",
   "nbconvert_exporter": "python",
   "pygments_lexer": "ipython3",
   "version": "3.6.3"
  }
 },
 "nbformat": 4,
 "nbformat_minor": 2
}
