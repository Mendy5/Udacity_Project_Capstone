{
 "cells": [
  {
   "cell_type": "markdown",
   "metadata": {},
   "source": [
    "# Starbucks Capstone Challenge\n",
    "\n",
    "### Introduction\n",
    "\n",
    "This data set contains simulated data that mimics customer behavior on the Starbucks rewards mobile app. Once every few days, Starbucks sends out an offer to users of the mobile app. An offer can be merely an advertisement for a drink or an actual offer such as a discount or BOGO (buy one get one free). Some users might not receive any offer during certain weeks. \n",
    "\n",
    "Not all users receive the same offer, and that is the challenge to solve with this data set.\n",
    "\n",
    "Your task is to combine transaction, demographic and offer data to determine which demographic groups respond best to which offer type. This data set is a simplified version of the real Starbucks app because the underlying simulator only has one product whereas Starbucks actually sells dozens of products.\n",
    "\n",
    "Every offer has a validity period before the offer expires. As an example, a BOGO offer might be valid for only 5 days. You'll see in the data set that informational offers have a validity period even though these ads are merely providing information about a product; for example, if an informational offer has 7 days of validity, you can assume the customer is feeling the influence of the offer for 7 days after receiving the advertisement.\n",
    "\n",
    "You'll be given transactional data showing user purchases made on the app including the timestamp of purchase and the amount of money spent on a purchase. This transactional data also has a record for each offer that a user receives as well as a record for when a user actually views the offer. There are also records for when a user completes an offer. \n",
    "\n",
    "Keep in mind as well that someone using the app might make a purchase through the app without having received an offer or seen an offer.\n",
    "\n",
    "### Example\n",
    "\n",
    "To give an example, a user could receive a discount offer buy 10 dollars get 2 off on Monday. The offer is valid for 10 days from receipt. If the customer accumulates at least 10 dollars in purchases during the validity period, the customer completes the offer.\n",
    "\n",
    "However, there are a few things to watch out for in this data set. Customers do not opt into the offers that they receive; in other words, a user can receive an offer, never actually view the offer, and still complete the offer. For example, a user might receive the \"buy 10 dollars get 2 dollars off offer\", but the user never opens the offer during the 10 day validity period. The customer spends 15 dollars during those ten days. There will be an offer completion record in the data set; however, the customer was not influenced by the offer because the customer never viewed the offer.\n",
    "\n",
    "### Cleaning\n",
    "\n",
    "This makes data cleaning especially important and tricky.\n",
    "\n",
    "You'll also want to take into account that some demographic groups will make purchases even if they don't receive an offer. From a business perspective, if a customer is going to make a 10 dollar purchase without an offer anyway, you wouldn't want to send a buy 10 dollars get 2 dollars off offer. You'll want to try to assess what a certain demographic group will buy when not receiving any offers.\n",
    "\n",
    "### Final Advice\n",
    "\n",
    "Because this is a capstone project, you are free to analyze the data any way you see fit. For example, you could build a machine learning model that predicts how much someone will spend based on demographics and offer type. Or you could build a model that predicts whether or not someone will respond to an offer. Or, you don't need to build a machine learning model at all. You could develop a set of heuristics that determine what offer you should send to each customer (i.e., 75 percent of women customers who were 35 years old responded to offer A vs 40 percent from the same demographic to offer B, so send offer A)."
   ]
  },
  {
   "cell_type": "markdown",
   "metadata": {},
   "source": [
    "# Data Sets\n",
    "\n",
    "The data is contained in three files:\n",
    "\n",
    "* portfolio.json - containing offer ids and meta data about each offer (duration, type, etc.)\n",
    "* profile.json - demographic data for each customer\n",
    "* transcript.json - records for transactions, offers received, offers viewed, and offers completed\n",
    "\n",
    "Here is the schema and explanation of each variable in the files:\n",
    "\n",
    "**portfolio.json**\n",
    "* id (string) - offer id\n",
    "* offer_type (string) - type of offer ie BOGO, discount, informational\n",
    "* difficulty (int) - minimum required spend to complete an offer\n",
    "* reward (int) - reward given for completing an offer\n",
    "* duration (int) - time for offer to be open, in days\n",
    "* channels (list of strings)\n",
    "\n",
    "**profile.json**\n",
    "* age (int) - age of the customer \n",
    "* became_member_on (int) - date when customer created an app account\n",
    "* gender (str) - gender of the customer (note some entries contain 'O' for other rather than M or F)\n",
    "* id (str) - customer id\n",
    "* income (float) - customer's income\n",
    "\n",
    "**transcript.json**\n",
    "* event (str) - record description (ie transaction, offer received, offer viewed, etc.)\n",
    "* person (str) - customer id\n",
    "* time (int) - time in hours since start of test. The data begins at time t=0\n",
    "* value - (dict of strings) - either an offer id or transaction amount depending on the record\n",
    "\n",
    "**Note:** If you are using the workspace, you will need to go to the terminal and run the command `conda update pandas` before reading in the files. This is because the version of pandas in the workspace cannot read in the transcript.json file correctly, but the newest version of pandas can. You can access the termnal from the orange icon in the top left of this notebook.  \n",
    "\n",
    "You can see how to access the terminal and how the install works using the two images below.  First you need to access the terminal:\n",
    "\n",
    "<img src=\"pic1.png\"/>\n",
    "\n",
    "Then you will want to run the above command:\n",
    "\n",
    "<img src=\"pic2.png\"/>\n",
    "\n",
    "Finally, when you enter back into the notebook (use the jupyter icon again), you should be able to run the below cell without any errors."
   ]
  },
  {
   "cell_type": "code",
   "execution_count": 755,
   "metadata": {},
   "outputs": [],
   "source": [
    "import pandas as pd\n",
    "import numpy as np\n",
    "import math\n",
    "import json\n",
    "import matplotlib.pyplot as plt\n",
    "import datetime\n",
    "from scipy.cluster.vq import kmeans, vq\n",
    "from scipy.cluster.vq import whiten\n",
    "% matplotlib inline"
   ]
  },
  {
   "cell_type": "code",
   "execution_count": 756,
   "metadata": {},
   "outputs": [
    {
     "name": "stdout",
     "output_type": "stream",
     "text": [
      "Python 3.6.3\r\n"
     ]
    }
   ],
   "source": [
    "!python --version"
   ]
  },
  {
   "cell_type": "code",
   "execution_count": 757,
   "metadata": {
    "scrolled": true
   },
   "outputs": [
    {
     "name": "stdout",
     "output_type": "stream",
     "text": [
      "pandas version: 0.23.3\n",
      "\n",
      "\n",
      "matplotlib version: 2.1.0\n",
      "\n",
      "\n",
      "numpy version: 1.12.1\n",
      "\n",
      "\n",
      "json version: 2.0.9\n",
      "\n",
      "\n",
      "math version: 1.0.0\n"
     ]
    }
   ],
   "source": [
    "print(\"pandas version: \" + pd.__version__)\n",
    "print(\"\\n\")\n",
    "print(\"matplotlib version: 2.1.0\")\n",
    "print(\"\\n\")\n",
    "print(\"numpy version: \" + np.__version__)\n",
    "print(\"\\n\")\n",
    "# print(\"datetime version: \" + datetime.__version__)\n",
    "# print(\"\\n\")\n",
    "print(\"json version: \" + json.__version__)\n",
    "print(\"\\n\")\n",
    "print(\"math version: 1.0.0\")"
   ]
  },
  {
   "cell_type": "code",
   "execution_count": 758,
   "metadata": {},
   "outputs": [],
   "source": [
    "# read in the json files\n",
    "portfolio = pd.read_json('data/portfolio.json', orient='records', lines=True)\n",
    "profile = pd.read_json('data/profile.json', orient='records', lines=True)\n",
    "transcript = pd.read_json('data/transcript.json', orient='records', lines=True)"
   ]
  },
  {
   "cell_type": "code",
   "execution_count": 759,
   "metadata": {},
   "outputs": [],
   "source": [
    "# portfolio = pd.read_json('data/portfolio.json', orient='records', lines=True)"
   ]
  },
  {
   "cell_type": "markdown",
   "metadata": {},
   "source": [
    "# Data Cleaning"
   ]
  },
  {
   "cell_type": "markdown",
   "metadata": {},
   "source": [
    "## Transcript"
   ]
  },
  {
   "cell_type": "code",
   "execution_count": 760,
   "metadata": {
    "scrolled": false
   },
   "outputs": [
    {
     "data": {
      "text/html": [
       "<div>\n",
       "<style scoped>\n",
       "    .dataframe tbody tr th:only-of-type {\n",
       "        vertical-align: middle;\n",
       "    }\n",
       "\n",
       "    .dataframe tbody tr th {\n",
       "        vertical-align: top;\n",
       "    }\n",
       "\n",
       "    .dataframe thead th {\n",
       "        text-align: right;\n",
       "    }\n",
       "</style>\n",
       "<table border=\"1\" class=\"dataframe\">\n",
       "  <thead>\n",
       "    <tr style=\"text-align: right;\">\n",
       "      <th></th>\n",
       "      <th>event</th>\n",
       "      <th>person</th>\n",
       "      <th>time</th>\n",
       "      <th>value</th>\n",
       "    </tr>\n",
       "  </thead>\n",
       "  <tbody>\n",
       "    <tr>\n",
       "      <th>0</th>\n",
       "      <td>offer received</td>\n",
       "      <td>78afa995795e4d85b5d9ceeca43f5fef</td>\n",
       "      <td>0</td>\n",
       "      <td>{'offer id': '9b98b8c7a33c4b65b9aebfe6a799e6d9'}</td>\n",
       "    </tr>\n",
       "    <tr>\n",
       "      <th>1</th>\n",
       "      <td>offer received</td>\n",
       "      <td>a03223e636434f42ac4c3df47e8bac43</td>\n",
       "      <td>0</td>\n",
       "      <td>{'offer id': '0b1e1539f2cc45b7b9fa7c272da2e1d7'}</td>\n",
       "    </tr>\n",
       "    <tr>\n",
       "      <th>2</th>\n",
       "      <td>offer received</td>\n",
       "      <td>e2127556f4f64592b11af22de27a7932</td>\n",
       "      <td>0</td>\n",
       "      <td>{'offer id': '2906b810c7d4411798c6938adc9daaa5'}</td>\n",
       "    </tr>\n",
       "    <tr>\n",
       "      <th>3</th>\n",
       "      <td>offer received</td>\n",
       "      <td>8ec6ce2a7e7949b1bf142def7d0e0586</td>\n",
       "      <td>0</td>\n",
       "      <td>{'offer id': 'fafdcd668e3743c1bb461111dcafc2a4'}</td>\n",
       "    </tr>\n",
       "    <tr>\n",
       "      <th>4</th>\n",
       "      <td>offer received</td>\n",
       "      <td>68617ca6246f4fbc85e91a2a49552598</td>\n",
       "      <td>0</td>\n",
       "      <td>{'offer id': '4d5c57ea9a6940dd891ad53e9dbe8da0'}</td>\n",
       "    </tr>\n",
       "  </tbody>\n",
       "</table>\n",
       "</div>"
      ],
      "text/plain": [
       "            event                            person  time  \\\n",
       "0  offer received  78afa995795e4d85b5d9ceeca43f5fef     0   \n",
       "1  offer received  a03223e636434f42ac4c3df47e8bac43     0   \n",
       "2  offer received  e2127556f4f64592b11af22de27a7932     0   \n",
       "3  offer received  8ec6ce2a7e7949b1bf142def7d0e0586     0   \n",
       "4  offer received  68617ca6246f4fbc85e91a2a49552598     0   \n",
       "\n",
       "                                              value  \n",
       "0  {'offer id': '9b98b8c7a33c4b65b9aebfe6a799e6d9'}  \n",
       "1  {'offer id': '0b1e1539f2cc45b7b9fa7c272da2e1d7'}  \n",
       "2  {'offer id': '2906b810c7d4411798c6938adc9daaa5'}  \n",
       "3  {'offer id': 'fafdcd668e3743c1bb461111dcafc2a4'}  \n",
       "4  {'offer id': '4d5c57ea9a6940dd891ad53e9dbe8da0'}  "
      ]
     },
     "execution_count": 760,
     "metadata": {},
     "output_type": "execute_result"
    }
   ],
   "source": [
    "transcript.head()"
   ]
  },
  {
   "cell_type": "code",
   "execution_count": 761,
   "metadata": {},
   "outputs": [
    {
     "data": {
      "text/plain": [
       "event     0\n",
       "person    0\n",
       "time      0\n",
       "value     0\n",
       "dtype: int64"
      ]
     },
     "execution_count": 761,
     "metadata": {},
     "output_type": "execute_result"
    }
   ],
   "source": [
    "transcript.isnull().sum()"
   ]
  },
  {
   "cell_type": "code",
   "execution_count": 762,
   "metadata": {},
   "outputs": [
    {
     "data": {
      "text/plain": [
       "{'amount', 'offer id', 'offer_id', 'reward'}"
      ]
     },
     "execution_count": 762,
     "metadata": {},
     "output_type": "execute_result"
    }
   ],
   "source": [
    "keys = set()\n",
    "for i in range(transcript.shape[0]):  \n",
    "    k = list(transcript['value'].values[i].keys())\n",
    "    n_k = len(k)\n",
    "    for j in range(n_k):\n",
    "        keys.add(k[j])\n",
    "keys"
   ]
  },
  {
   "cell_type": "code",
   "execution_count": 763,
   "metadata": {
    "scrolled": true
   },
   "outputs": [],
   "source": [
    "keys = list(keys)"
   ]
  },
  {
   "cell_type": "code",
   "execution_count": 764,
   "metadata": {},
   "outputs": [],
   "source": [
    "def get_key_values(df, col):\n",
    "    k = df[col].values[0].keys()\n",
    "    v = df[col].values[0].values()\n",
    "    return k, v"
   ]
  },
  {
   "cell_type": "code",
   "execution_count": 765,
   "metadata": {
    "scrolled": false
   },
   "outputs": [
    {
     "data": {
      "text/html": [
       "<div>\n",
       "<style scoped>\n",
       "    .dataframe tbody tr th:only-of-type {\n",
       "        vertical-align: middle;\n",
       "    }\n",
       "\n",
       "    .dataframe tbody tr th {\n",
       "        vertical-align: top;\n",
       "    }\n",
       "\n",
       "    .dataframe thead th {\n",
       "        text-align: right;\n",
       "    }\n",
       "</style>\n",
       "<table border=\"1\" class=\"dataframe\">\n",
       "  <thead>\n",
       "    <tr style=\"text-align: right;\">\n",
       "      <th></th>\n",
       "      <th>event</th>\n",
       "      <th>person</th>\n",
       "      <th>time</th>\n",
       "      <th>value</th>\n",
       "      <th>offer id</th>\n",
       "      <th>amount</th>\n",
       "      <th>reward</th>\n",
       "      <th>offer_id</th>\n",
       "    </tr>\n",
       "  </thead>\n",
       "  <tbody>\n",
       "    <tr>\n",
       "      <th>0</th>\n",
       "      <td>offer received</td>\n",
       "      <td>78afa995795e4d85b5d9ceeca43f5fef</td>\n",
       "      <td>0</td>\n",
       "      <td>{'offer id': '9b98b8c7a33c4b65b9aebfe6a799e6d9'}</td>\n",
       "      <td>9b98b8c7a33c4b65b9aebfe6a799e6d9</td>\n",
       "      <td>0.0</td>\n",
       "      <td>0</td>\n",
       "      <td>0</td>\n",
       "    </tr>\n",
       "    <tr>\n",
       "      <th>1</th>\n",
       "      <td>offer received</td>\n",
       "      <td>a03223e636434f42ac4c3df47e8bac43</td>\n",
       "      <td>0</td>\n",
       "      <td>{'offer id': '0b1e1539f2cc45b7b9fa7c272da2e1d7'}</td>\n",
       "      <td>0b1e1539f2cc45b7b9fa7c272da2e1d7</td>\n",
       "      <td>0.0</td>\n",
       "      <td>0</td>\n",
       "      <td>0</td>\n",
       "    </tr>\n",
       "    <tr>\n",
       "      <th>2</th>\n",
       "      <td>offer received</td>\n",
       "      <td>e2127556f4f64592b11af22de27a7932</td>\n",
       "      <td>0</td>\n",
       "      <td>{'offer id': '2906b810c7d4411798c6938adc9daaa5'}</td>\n",
       "      <td>2906b810c7d4411798c6938adc9daaa5</td>\n",
       "      <td>0.0</td>\n",
       "      <td>0</td>\n",
       "      <td>0</td>\n",
       "    </tr>\n",
       "    <tr>\n",
       "      <th>3</th>\n",
       "      <td>offer received</td>\n",
       "      <td>8ec6ce2a7e7949b1bf142def7d0e0586</td>\n",
       "      <td>0</td>\n",
       "      <td>{'offer id': 'fafdcd668e3743c1bb461111dcafc2a4'}</td>\n",
       "      <td>fafdcd668e3743c1bb461111dcafc2a4</td>\n",
       "      <td>0.0</td>\n",
       "      <td>0</td>\n",
       "      <td>0</td>\n",
       "    </tr>\n",
       "    <tr>\n",
       "      <th>4</th>\n",
       "      <td>offer received</td>\n",
       "      <td>68617ca6246f4fbc85e91a2a49552598</td>\n",
       "      <td>0</td>\n",
       "      <td>{'offer id': '4d5c57ea9a6940dd891ad53e9dbe8da0'}</td>\n",
       "      <td>4d5c57ea9a6940dd891ad53e9dbe8da0</td>\n",
       "      <td>0.0</td>\n",
       "      <td>0</td>\n",
       "      <td>0</td>\n",
       "    </tr>\n",
       "  </tbody>\n",
       "</table>\n",
       "</div>"
      ],
      "text/plain": [
       "            event                            person  time  \\\n",
       "0  offer received  78afa995795e4d85b5d9ceeca43f5fef     0   \n",
       "1  offer received  a03223e636434f42ac4c3df47e8bac43     0   \n",
       "2  offer received  e2127556f4f64592b11af22de27a7932     0   \n",
       "3  offer received  8ec6ce2a7e7949b1bf142def7d0e0586     0   \n",
       "4  offer received  68617ca6246f4fbc85e91a2a49552598     0   \n",
       "\n",
       "                                              value  \\\n",
       "0  {'offer id': '9b98b8c7a33c4b65b9aebfe6a799e6d9'}   \n",
       "1  {'offer id': '0b1e1539f2cc45b7b9fa7c272da2e1d7'}   \n",
       "2  {'offer id': '2906b810c7d4411798c6938adc9daaa5'}   \n",
       "3  {'offer id': 'fafdcd668e3743c1bb461111dcafc2a4'}   \n",
       "4  {'offer id': '4d5c57ea9a6940dd891ad53e9dbe8da0'}   \n",
       "\n",
       "                           offer id  amount  reward offer_id  \n",
       "0  9b98b8c7a33c4b65b9aebfe6a799e6d9     0.0       0        0  \n",
       "1  0b1e1539f2cc45b7b9fa7c272da2e1d7     0.0       0        0  \n",
       "2  2906b810c7d4411798c6938adc9daaa5     0.0       0        0  \n",
       "3  fafdcd668e3743c1bb461111dcafc2a4     0.0       0        0  \n",
       "4  4d5c57ea9a6940dd891ad53e9dbe8da0     0.0       0        0  "
      ]
     },
     "execution_count": 765,
     "metadata": {},
     "output_type": "execute_result"
    }
   ],
   "source": [
    "for key in keys:\n",
    "    transcript[key] = transcript[\"value\"].apply(lambda k: k[key] if key in k else 0)\n",
    "transcript.head()"
   ]
  },
  {
   "cell_type": "code",
   "execution_count": 766,
   "metadata": {
    "scrolled": true
   },
   "outputs": [],
   "source": [
    "transcript['portfolio_id'] = transcript.apply(lambda x: x['offer id'] if x['offer id'] != 0 else x['offer_id'], axis = 1)"
   ]
  },
  {
   "cell_type": "code",
   "execution_count": 767,
   "metadata": {},
   "outputs": [],
   "source": [
    "transcript = transcript.drop(['offer id', 'offer_id', 'value'], axis = 1)"
   ]
  },
  {
   "cell_type": "code",
   "execution_count": 768,
   "metadata": {},
   "outputs": [],
   "source": [
    "transcript = transcript.rename(columns = {'person':'customer_id'})"
   ]
  },
  {
   "cell_type": "code",
   "execution_count": 769,
   "metadata": {
    "scrolled": true
   },
   "outputs": [
    {
     "data": {
      "text/html": [
       "<div>\n",
       "<style scoped>\n",
       "    .dataframe tbody tr th:only-of-type {\n",
       "        vertical-align: middle;\n",
       "    }\n",
       "\n",
       "    .dataframe tbody tr th {\n",
       "        vertical-align: top;\n",
       "    }\n",
       "\n",
       "    .dataframe thead th {\n",
       "        text-align: right;\n",
       "    }\n",
       "</style>\n",
       "<table border=\"1\" class=\"dataframe\">\n",
       "  <thead>\n",
       "    <tr style=\"text-align: right;\">\n",
       "      <th></th>\n",
       "      <th>event</th>\n",
       "      <th>customer_id</th>\n",
       "      <th>time</th>\n",
       "      <th>amount</th>\n",
       "      <th>reward</th>\n",
       "      <th>portfolio_id</th>\n",
       "    </tr>\n",
       "  </thead>\n",
       "  <tbody>\n",
       "    <tr>\n",
       "      <th>0</th>\n",
       "      <td>offer received</td>\n",
       "      <td>78afa995795e4d85b5d9ceeca43f5fef</td>\n",
       "      <td>0</td>\n",
       "      <td>0.0</td>\n",
       "      <td>0</td>\n",
       "      <td>9b98b8c7a33c4b65b9aebfe6a799e6d9</td>\n",
       "    </tr>\n",
       "    <tr>\n",
       "      <th>1</th>\n",
       "      <td>offer received</td>\n",
       "      <td>a03223e636434f42ac4c3df47e8bac43</td>\n",
       "      <td>0</td>\n",
       "      <td>0.0</td>\n",
       "      <td>0</td>\n",
       "      <td>0b1e1539f2cc45b7b9fa7c272da2e1d7</td>\n",
       "    </tr>\n",
       "    <tr>\n",
       "      <th>2</th>\n",
       "      <td>offer received</td>\n",
       "      <td>e2127556f4f64592b11af22de27a7932</td>\n",
       "      <td>0</td>\n",
       "      <td>0.0</td>\n",
       "      <td>0</td>\n",
       "      <td>2906b810c7d4411798c6938adc9daaa5</td>\n",
       "    </tr>\n",
       "    <tr>\n",
       "      <th>3</th>\n",
       "      <td>offer received</td>\n",
       "      <td>8ec6ce2a7e7949b1bf142def7d0e0586</td>\n",
       "      <td>0</td>\n",
       "      <td>0.0</td>\n",
       "      <td>0</td>\n",
       "      <td>fafdcd668e3743c1bb461111dcafc2a4</td>\n",
       "    </tr>\n",
       "    <tr>\n",
       "      <th>4</th>\n",
       "      <td>offer received</td>\n",
       "      <td>68617ca6246f4fbc85e91a2a49552598</td>\n",
       "      <td>0</td>\n",
       "      <td>0.0</td>\n",
       "      <td>0</td>\n",
       "      <td>4d5c57ea9a6940dd891ad53e9dbe8da0</td>\n",
       "    </tr>\n",
       "  </tbody>\n",
       "</table>\n",
       "</div>"
      ],
      "text/plain": [
       "            event                       customer_id  time  amount  reward  \\\n",
       "0  offer received  78afa995795e4d85b5d9ceeca43f5fef     0     0.0       0   \n",
       "1  offer received  a03223e636434f42ac4c3df47e8bac43     0     0.0       0   \n",
       "2  offer received  e2127556f4f64592b11af22de27a7932     0     0.0       0   \n",
       "3  offer received  8ec6ce2a7e7949b1bf142def7d0e0586     0     0.0       0   \n",
       "4  offer received  68617ca6246f4fbc85e91a2a49552598     0     0.0       0   \n",
       "\n",
       "                       portfolio_id  \n",
       "0  9b98b8c7a33c4b65b9aebfe6a799e6d9  \n",
       "1  0b1e1539f2cc45b7b9fa7c272da2e1d7  \n",
       "2  2906b810c7d4411798c6938adc9daaa5  \n",
       "3  fafdcd668e3743c1bb461111dcafc2a4  \n",
       "4  4d5c57ea9a6940dd891ad53e9dbe8da0  "
      ]
     },
     "execution_count": 769,
     "metadata": {},
     "output_type": "execute_result"
    }
   ],
   "source": [
    "transcript.head()"
   ]
  },
  {
   "cell_type": "code",
   "execution_count": 770,
   "metadata": {},
   "outputs": [
    {
     "data": {
      "text/plain": [
       "array(['offer received', 'offer viewed', 'transaction', 'offer completed'], dtype=object)"
      ]
     },
     "execution_count": 770,
     "metadata": {},
     "output_type": "execute_result"
    }
   ],
   "source": [
    "transcript['event'].unique()"
   ]
  },
  {
   "cell_type": "markdown",
   "metadata": {},
   "source": [
    "## Portfolio"
   ]
  },
  {
   "cell_type": "code",
   "execution_count": 771,
   "metadata": {},
   "outputs": [],
   "source": [
    "portfolio = portfolio.rename(columns ={'id':'portfolio_id'})"
   ]
  },
  {
   "cell_type": "code",
   "execution_count": 772,
   "metadata": {
    "scrolled": false
   },
   "outputs": [
    {
     "data": {
      "text/html": [
       "<div>\n",
       "<style scoped>\n",
       "    .dataframe tbody tr th:only-of-type {\n",
       "        vertical-align: middle;\n",
       "    }\n",
       "\n",
       "    .dataframe tbody tr th {\n",
       "        vertical-align: top;\n",
       "    }\n",
       "\n",
       "    .dataframe thead th {\n",
       "        text-align: right;\n",
       "    }\n",
       "</style>\n",
       "<table border=\"1\" class=\"dataframe\">\n",
       "  <thead>\n",
       "    <tr style=\"text-align: right;\">\n",
       "      <th></th>\n",
       "      <th>channels</th>\n",
       "      <th>difficulty</th>\n",
       "      <th>duration</th>\n",
       "      <th>portfolio_id</th>\n",
       "      <th>offer_type</th>\n",
       "      <th>reward</th>\n",
       "    </tr>\n",
       "  </thead>\n",
       "  <tbody>\n",
       "    <tr>\n",
       "      <th>0</th>\n",
       "      <td>[email, mobile, social]</td>\n",
       "      <td>10</td>\n",
       "      <td>7</td>\n",
       "      <td>ae264e3637204a6fb9bb56bc8210ddfd</td>\n",
       "      <td>bogo</td>\n",
       "      <td>10</td>\n",
       "    </tr>\n",
       "    <tr>\n",
       "      <th>1</th>\n",
       "      <td>[web, email, mobile, social]</td>\n",
       "      <td>10</td>\n",
       "      <td>5</td>\n",
       "      <td>4d5c57ea9a6940dd891ad53e9dbe8da0</td>\n",
       "      <td>bogo</td>\n",
       "      <td>10</td>\n",
       "    </tr>\n",
       "    <tr>\n",
       "      <th>2</th>\n",
       "      <td>[web, email, mobile]</td>\n",
       "      <td>0</td>\n",
       "      <td>4</td>\n",
       "      <td>3f207df678b143eea3cee63160fa8bed</td>\n",
       "      <td>informational</td>\n",
       "      <td>0</td>\n",
       "    </tr>\n",
       "    <tr>\n",
       "      <th>3</th>\n",
       "      <td>[web, email, mobile]</td>\n",
       "      <td>5</td>\n",
       "      <td>7</td>\n",
       "      <td>9b98b8c7a33c4b65b9aebfe6a799e6d9</td>\n",
       "      <td>bogo</td>\n",
       "      <td>5</td>\n",
       "    </tr>\n",
       "    <tr>\n",
       "      <th>4</th>\n",
       "      <td>[web, email]</td>\n",
       "      <td>20</td>\n",
       "      <td>10</td>\n",
       "      <td>0b1e1539f2cc45b7b9fa7c272da2e1d7</td>\n",
       "      <td>discount</td>\n",
       "      <td>5</td>\n",
       "    </tr>\n",
       "  </tbody>\n",
       "</table>\n",
       "</div>"
      ],
      "text/plain": [
       "                       channels  difficulty  duration  \\\n",
       "0       [email, mobile, social]          10         7   \n",
       "1  [web, email, mobile, social]          10         5   \n",
       "2          [web, email, mobile]           0         4   \n",
       "3          [web, email, mobile]           5         7   \n",
       "4                  [web, email]          20        10   \n",
       "\n",
       "                       portfolio_id     offer_type  reward  \n",
       "0  ae264e3637204a6fb9bb56bc8210ddfd           bogo      10  \n",
       "1  4d5c57ea9a6940dd891ad53e9dbe8da0           bogo      10  \n",
       "2  3f207df678b143eea3cee63160fa8bed  informational       0  \n",
       "3  9b98b8c7a33c4b65b9aebfe6a799e6d9           bogo       5  \n",
       "4  0b1e1539f2cc45b7b9fa7c272da2e1d7       discount       5  "
      ]
     },
     "execution_count": 772,
     "metadata": {},
     "output_type": "execute_result"
    }
   ],
   "source": [
    "portfolio.head()"
   ]
  },
  {
   "cell_type": "code",
   "execution_count": 773,
   "metadata": {},
   "outputs": [
    {
     "data": {
      "text/plain": [
       "channels        0\n",
       "difficulty      0\n",
       "duration        0\n",
       "portfolio_id    0\n",
       "offer_type      0\n",
       "reward          0\n",
       "dtype: int64"
      ]
     },
     "execution_count": 773,
     "metadata": {},
     "output_type": "execute_result"
    }
   ],
   "source": [
    "portfolio.isnull().sum()"
   ]
  },
  {
   "cell_type": "code",
   "execution_count": 774,
   "metadata": {},
   "outputs": [
    {
     "data": {
      "text/plain": [
       "0         [email, mobile, social]\n",
       "1    [web, email, mobile, social]\n",
       "2            [web, email, mobile]\n",
       "3            [web, email, mobile]\n",
       "4                    [web, email]\n",
       "5    [web, email, mobile, social]\n",
       "6    [web, email, mobile, social]\n",
       "7         [email, mobile, social]\n",
       "8    [web, email, mobile, social]\n",
       "9            [web, email, mobile]\n",
       "Name: channels, dtype: object"
      ]
     },
     "execution_count": 774,
     "metadata": {},
     "output_type": "execute_result"
    }
   ],
   "source": [
    "portfolio['channels']"
   ]
  },
  {
   "cell_type": "code",
   "execution_count": 775,
   "metadata": {},
   "outputs": [
    {
     "data": {
      "text/plain": [
       "['web', 'email', 'mobile', 'social']"
      ]
     },
     "execution_count": 775,
     "metadata": {},
     "output_type": "execute_result"
    }
   ],
   "source": [
    "channels = portfolio['channels'].max()\n",
    "channels"
   ]
  },
  {
   "cell_type": "code",
   "execution_count": 776,
   "metadata": {},
   "outputs": [],
   "source": [
    "for channel in channels:\n",
    "    portfolio['channel_' + channel] = portfolio.apply(lambda x: 1 if channel in x['channels'] else 0, axis = 1)"
   ]
  },
  {
   "cell_type": "code",
   "execution_count": 777,
   "metadata": {
    "scrolled": true
   },
   "outputs": [
    {
     "data": {
      "text/html": [
       "<div>\n",
       "<style scoped>\n",
       "    .dataframe tbody tr th:only-of-type {\n",
       "        vertical-align: middle;\n",
       "    }\n",
       "\n",
       "    .dataframe tbody tr th {\n",
       "        vertical-align: top;\n",
       "    }\n",
       "\n",
       "    .dataframe thead th {\n",
       "        text-align: right;\n",
       "    }\n",
       "</style>\n",
       "<table border=\"1\" class=\"dataframe\">\n",
       "  <thead>\n",
       "    <tr style=\"text-align: right;\">\n",
       "      <th></th>\n",
       "      <th>channels</th>\n",
       "      <th>difficulty</th>\n",
       "      <th>duration</th>\n",
       "      <th>portfolio_id</th>\n",
       "      <th>offer_type</th>\n",
       "      <th>reward</th>\n",
       "      <th>channel_web</th>\n",
       "      <th>channel_email</th>\n",
       "      <th>channel_mobile</th>\n",
       "      <th>channel_social</th>\n",
       "    </tr>\n",
       "  </thead>\n",
       "  <tbody>\n",
       "    <tr>\n",
       "      <th>0</th>\n",
       "      <td>[email, mobile, social]</td>\n",
       "      <td>10</td>\n",
       "      <td>7</td>\n",
       "      <td>ae264e3637204a6fb9bb56bc8210ddfd</td>\n",
       "      <td>bogo</td>\n",
       "      <td>10</td>\n",
       "      <td>0</td>\n",
       "      <td>1</td>\n",
       "      <td>1</td>\n",
       "      <td>1</td>\n",
       "    </tr>\n",
       "    <tr>\n",
       "      <th>1</th>\n",
       "      <td>[web, email, mobile, social]</td>\n",
       "      <td>10</td>\n",
       "      <td>5</td>\n",
       "      <td>4d5c57ea9a6940dd891ad53e9dbe8da0</td>\n",
       "      <td>bogo</td>\n",
       "      <td>10</td>\n",
       "      <td>1</td>\n",
       "      <td>1</td>\n",
       "      <td>1</td>\n",
       "      <td>1</td>\n",
       "    </tr>\n",
       "    <tr>\n",
       "      <th>2</th>\n",
       "      <td>[web, email, mobile]</td>\n",
       "      <td>0</td>\n",
       "      <td>4</td>\n",
       "      <td>3f207df678b143eea3cee63160fa8bed</td>\n",
       "      <td>informational</td>\n",
       "      <td>0</td>\n",
       "      <td>1</td>\n",
       "      <td>1</td>\n",
       "      <td>1</td>\n",
       "      <td>0</td>\n",
       "    </tr>\n",
       "    <tr>\n",
       "      <th>3</th>\n",
       "      <td>[web, email, mobile]</td>\n",
       "      <td>5</td>\n",
       "      <td>7</td>\n",
       "      <td>9b98b8c7a33c4b65b9aebfe6a799e6d9</td>\n",
       "      <td>bogo</td>\n",
       "      <td>5</td>\n",
       "      <td>1</td>\n",
       "      <td>1</td>\n",
       "      <td>1</td>\n",
       "      <td>0</td>\n",
       "    </tr>\n",
       "    <tr>\n",
       "      <th>4</th>\n",
       "      <td>[web, email]</td>\n",
       "      <td>20</td>\n",
       "      <td>10</td>\n",
       "      <td>0b1e1539f2cc45b7b9fa7c272da2e1d7</td>\n",
       "      <td>discount</td>\n",
       "      <td>5</td>\n",
       "      <td>1</td>\n",
       "      <td>1</td>\n",
       "      <td>0</td>\n",
       "      <td>0</td>\n",
       "    </tr>\n",
       "  </tbody>\n",
       "</table>\n",
       "</div>"
      ],
      "text/plain": [
       "                       channels  difficulty  duration  \\\n",
       "0       [email, mobile, social]          10         7   \n",
       "1  [web, email, mobile, social]          10         5   \n",
       "2          [web, email, mobile]           0         4   \n",
       "3          [web, email, mobile]           5         7   \n",
       "4                  [web, email]          20        10   \n",
       "\n",
       "                       portfolio_id     offer_type  reward  channel_web  \\\n",
       "0  ae264e3637204a6fb9bb56bc8210ddfd           bogo      10            0   \n",
       "1  4d5c57ea9a6940dd891ad53e9dbe8da0           bogo      10            1   \n",
       "2  3f207df678b143eea3cee63160fa8bed  informational       0            1   \n",
       "3  9b98b8c7a33c4b65b9aebfe6a799e6d9           bogo       5            1   \n",
       "4  0b1e1539f2cc45b7b9fa7c272da2e1d7       discount       5            1   \n",
       "\n",
       "   channel_email  channel_mobile  channel_social  \n",
       "0              1               1               1  \n",
       "1              1               1               1  \n",
       "2              1               1               0  \n",
       "3              1               1               0  \n",
       "4              1               0               0  "
      ]
     },
     "execution_count": 777,
     "metadata": {},
     "output_type": "execute_result"
    }
   ],
   "source": [
    "portfolio.head()"
   ]
  },
  {
   "cell_type": "code",
   "execution_count": 778,
   "metadata": {},
   "outputs": [],
   "source": [
    "portfolio = portfolio.drop(['channels'], axis = 1)"
   ]
  },
  {
   "cell_type": "code",
   "execution_count": 779,
   "metadata": {
    "scrolled": true
   },
   "outputs": [
    {
     "data": {
      "text/html": [
       "<div>\n",
       "<style scoped>\n",
       "    .dataframe tbody tr th:only-of-type {\n",
       "        vertical-align: middle;\n",
       "    }\n",
       "\n",
       "    .dataframe tbody tr th {\n",
       "        vertical-align: top;\n",
       "    }\n",
       "\n",
       "    .dataframe thead th {\n",
       "        text-align: right;\n",
       "    }\n",
       "</style>\n",
       "<table border=\"1\" class=\"dataframe\">\n",
       "  <thead>\n",
       "    <tr style=\"text-align: right;\">\n",
       "      <th></th>\n",
       "      <th>difficulty</th>\n",
       "      <th>duration</th>\n",
       "      <th>portfolio_id</th>\n",
       "      <th>offer_type</th>\n",
       "      <th>reward</th>\n",
       "      <th>channel_web</th>\n",
       "      <th>channel_email</th>\n",
       "      <th>channel_mobile</th>\n",
       "      <th>channel_social</th>\n",
       "    </tr>\n",
       "  </thead>\n",
       "  <tbody>\n",
       "    <tr>\n",
       "      <th>0</th>\n",
       "      <td>10</td>\n",
       "      <td>7</td>\n",
       "      <td>ae264e3637204a6fb9bb56bc8210ddfd</td>\n",
       "      <td>bogo</td>\n",
       "      <td>10</td>\n",
       "      <td>0</td>\n",
       "      <td>1</td>\n",
       "      <td>1</td>\n",
       "      <td>1</td>\n",
       "    </tr>\n",
       "    <tr>\n",
       "      <th>1</th>\n",
       "      <td>10</td>\n",
       "      <td>5</td>\n",
       "      <td>4d5c57ea9a6940dd891ad53e9dbe8da0</td>\n",
       "      <td>bogo</td>\n",
       "      <td>10</td>\n",
       "      <td>1</td>\n",
       "      <td>1</td>\n",
       "      <td>1</td>\n",
       "      <td>1</td>\n",
       "    </tr>\n",
       "    <tr>\n",
       "      <th>2</th>\n",
       "      <td>0</td>\n",
       "      <td>4</td>\n",
       "      <td>3f207df678b143eea3cee63160fa8bed</td>\n",
       "      <td>informational</td>\n",
       "      <td>0</td>\n",
       "      <td>1</td>\n",
       "      <td>1</td>\n",
       "      <td>1</td>\n",
       "      <td>0</td>\n",
       "    </tr>\n",
       "    <tr>\n",
       "      <th>3</th>\n",
       "      <td>5</td>\n",
       "      <td>7</td>\n",
       "      <td>9b98b8c7a33c4b65b9aebfe6a799e6d9</td>\n",
       "      <td>bogo</td>\n",
       "      <td>5</td>\n",
       "      <td>1</td>\n",
       "      <td>1</td>\n",
       "      <td>1</td>\n",
       "      <td>0</td>\n",
       "    </tr>\n",
       "    <tr>\n",
       "      <th>4</th>\n",
       "      <td>20</td>\n",
       "      <td>10</td>\n",
       "      <td>0b1e1539f2cc45b7b9fa7c272da2e1d7</td>\n",
       "      <td>discount</td>\n",
       "      <td>5</td>\n",
       "      <td>1</td>\n",
       "      <td>1</td>\n",
       "      <td>0</td>\n",
       "      <td>0</td>\n",
       "    </tr>\n",
       "  </tbody>\n",
       "</table>\n",
       "</div>"
      ],
      "text/plain": [
       "   difficulty  duration                      portfolio_id     offer_type  \\\n",
       "0          10         7  ae264e3637204a6fb9bb56bc8210ddfd           bogo   \n",
       "1          10         5  4d5c57ea9a6940dd891ad53e9dbe8da0           bogo   \n",
       "2           0         4  3f207df678b143eea3cee63160fa8bed  informational   \n",
       "3           5         7  9b98b8c7a33c4b65b9aebfe6a799e6d9           bogo   \n",
       "4          20        10  0b1e1539f2cc45b7b9fa7c272da2e1d7       discount   \n",
       "\n",
       "   reward  channel_web  channel_email  channel_mobile  channel_social  \n",
       "0      10            0              1               1               1  \n",
       "1      10            1              1               1               1  \n",
       "2       0            1              1               1               0  \n",
       "3       5            1              1               1               0  \n",
       "4       5            1              1               0               0  "
      ]
     },
     "execution_count": 779,
     "metadata": {},
     "output_type": "execute_result"
    }
   ],
   "source": [
    "portfolio.head()"
   ]
  },
  {
   "cell_type": "markdown",
   "metadata": {},
   "source": [
    "## Profile"
   ]
  },
  {
   "cell_type": "code",
   "execution_count": 780,
   "metadata": {
    "scrolled": true
   },
   "outputs": [
    {
     "data": {
      "text/html": [
       "<div>\n",
       "<style scoped>\n",
       "    .dataframe tbody tr th:only-of-type {\n",
       "        vertical-align: middle;\n",
       "    }\n",
       "\n",
       "    .dataframe tbody tr th {\n",
       "        vertical-align: top;\n",
       "    }\n",
       "\n",
       "    .dataframe thead th {\n",
       "        text-align: right;\n",
       "    }\n",
       "</style>\n",
       "<table border=\"1\" class=\"dataframe\">\n",
       "  <thead>\n",
       "    <tr style=\"text-align: right;\">\n",
       "      <th></th>\n",
       "      <th>age</th>\n",
       "      <th>became_member_on</th>\n",
       "      <th>gender</th>\n",
       "      <th>id</th>\n",
       "      <th>income</th>\n",
       "    </tr>\n",
       "  </thead>\n",
       "  <tbody>\n",
       "    <tr>\n",
       "      <th>0</th>\n",
       "      <td>118</td>\n",
       "      <td>20170212</td>\n",
       "      <td>None</td>\n",
       "      <td>68be06ca386d4c31939f3a4f0e3dd783</td>\n",
       "      <td>NaN</td>\n",
       "    </tr>\n",
       "    <tr>\n",
       "      <th>1</th>\n",
       "      <td>55</td>\n",
       "      <td>20170715</td>\n",
       "      <td>F</td>\n",
       "      <td>0610b486422d4921ae7d2bf64640c50b</td>\n",
       "      <td>112000.0</td>\n",
       "    </tr>\n",
       "    <tr>\n",
       "      <th>2</th>\n",
       "      <td>118</td>\n",
       "      <td>20180712</td>\n",
       "      <td>None</td>\n",
       "      <td>38fe809add3b4fcf9315a9694bb96ff5</td>\n",
       "      <td>NaN</td>\n",
       "    </tr>\n",
       "    <tr>\n",
       "      <th>3</th>\n",
       "      <td>75</td>\n",
       "      <td>20170509</td>\n",
       "      <td>F</td>\n",
       "      <td>78afa995795e4d85b5d9ceeca43f5fef</td>\n",
       "      <td>100000.0</td>\n",
       "    </tr>\n",
       "    <tr>\n",
       "      <th>4</th>\n",
       "      <td>118</td>\n",
       "      <td>20170804</td>\n",
       "      <td>None</td>\n",
       "      <td>a03223e636434f42ac4c3df47e8bac43</td>\n",
       "      <td>NaN</td>\n",
       "    </tr>\n",
       "  </tbody>\n",
       "</table>\n",
       "</div>"
      ],
      "text/plain": [
       "   age  became_member_on gender                                id    income\n",
       "0  118          20170212   None  68be06ca386d4c31939f3a4f0e3dd783       NaN\n",
       "1   55          20170715      F  0610b486422d4921ae7d2bf64640c50b  112000.0\n",
       "2  118          20180712   None  38fe809add3b4fcf9315a9694bb96ff5       NaN\n",
       "3   75          20170509      F  78afa995795e4d85b5d9ceeca43f5fef  100000.0\n",
       "4  118          20170804   None  a03223e636434f42ac4c3df47e8bac43       NaN"
      ]
     },
     "execution_count": 780,
     "metadata": {},
     "output_type": "execute_result"
    }
   ],
   "source": [
    "profile.head()"
   ]
  },
  {
   "cell_type": "code",
   "execution_count": 781,
   "metadata": {},
   "outputs": [
    {
     "data": {
      "text/plain": [
       "age                    0\n",
       "became_member_on       0\n",
       "gender              2175\n",
       "id                     0\n",
       "income              2175\n",
       "dtype: int64"
      ]
     },
     "execution_count": 781,
     "metadata": {},
     "output_type": "execute_result"
    }
   ],
   "source": [
    "profile.isnull().sum()"
   ]
  },
  {
   "cell_type": "code",
   "execution_count": 782,
   "metadata": {},
   "outputs": [],
   "source": [
    "profile = profile.rename(columns={'id':'customer_id'})"
   ]
  },
  {
   "cell_type": "code",
   "execution_count": 783,
   "metadata": {},
   "outputs": [],
   "source": [
    "profile['became_member_on'] = profile.apply(lambda x: pd.to_datetime(str(x['became_member_on']), format='%Y%m%d'), axis = 1)"
   ]
  },
  {
   "cell_type": "code",
   "execution_count": 784,
   "metadata": {},
   "outputs": [],
   "source": [
    "profile['days_since_member'] = (pd.to_datetime(\"today\") - profile['became_member_on']).dt.days"
   ]
  },
  {
   "cell_type": "code",
   "execution_count": 785,
   "metadata": {
    "scrolled": true
   },
   "outputs": [
    {
     "data": {
      "text/plain": [
       "count    17000.000000\n",
       "mean        62.531412\n",
       "std         26.738580\n",
       "min         18.000000\n",
       "25%         45.000000\n",
       "50%         58.000000\n",
       "75%         73.000000\n",
       "max        118.000000\n",
       "Name: age, dtype: float64"
      ]
     },
     "execution_count": 785,
     "metadata": {},
     "output_type": "execute_result"
    }
   ],
   "source": [
    "profile['age'].describe()"
   ]
  },
  {
   "cell_type": "code",
   "execution_count": 786,
   "metadata": {},
   "outputs": [
    {
     "data": {
      "image/png": "[encoded data removed]",
      "text/plain": [
       "<matplotlib.figure.Figure at 0x7f8ed787d160>"
      ]
     },
     "metadata": {
      "needs_background": "light"
     },
     "output_type": "display_data"
    }
   ],
   "source": [
    "plt.hist(profile['age'])\n",
    "plt.show()"
   ]
  },
  {
   "cell_type": "code",
   "execution_count": 787,
   "metadata": {},
   "outputs": [],
   "source": [
    "profile.loc[profile['age'] == 118, 'age'] = np.nan"
   ]
  },
  {
   "cell_type": "code",
   "execution_count": 788,
   "metadata": {},
   "outputs": [
    {
     "data": {
      "text/plain": [
       "count    14825.000000\n",
       "mean        54.393524\n",
       "std         17.383705\n",
       "min         18.000000\n",
       "25%         42.000000\n",
       "50%         55.000000\n",
       "75%         66.000000\n",
       "max        101.000000\n",
       "Name: age, dtype: float64"
      ]
     },
     "execution_count": 788,
     "metadata": {},
     "output_type": "execute_result"
    }
   ],
   "source": [
    "profile.loc[~profile[\"age\"].isnull(), \"age\"].describe()"
   ]
  },
  {
   "cell_type": "code",
   "execution_count": 789,
   "metadata": {},
   "outputs": [
    {
     "data": {
      "image/png": "[encoded data removed]",
      "text/plain": [
       "<matplotlib.figure.Figure at 0x7f8ed7836d30>"
      ]
     },
     "metadata": {
      "needs_background": "light"
     },
     "output_type": "display_data"
    }
   ],
   "source": [
    "plt.hist(profile.loc[~profile[\"age\"].isnull(), \"age\"])\n",
    "plt.show()"
   ]
  },
  {
   "cell_type": "code",
   "execution_count": 790,
   "metadata": {
    "scrolled": false
   },
   "outputs": [],
   "source": [
    "age_5_pct = np.percentile(profile.loc[~profile[\"age\"].isnull(), \"age\"], 5)\n",
    "age_85_pct = np.percentile(profile.loc[~profile[\"age\"].isnull(), \"age\"], 85)"
   ]
  },
  {
   "cell_type": "code",
   "execution_count": 791,
   "metadata": {},
   "outputs": [],
   "source": [
    "profile['age'] = profile['age'].fillna(np.random.randint(age_5_pct, age_85_pct, 1)[0])"
   ]
  },
  {
   "cell_type": "code",
   "execution_count": 792,
   "metadata": {},
   "outputs": [
    {
     "data": {
      "text/plain": [
       "count    17000.000000\n",
       "mean        50.504941\n",
       "std         19.146820\n",
       "min         18.000000\n",
       "25%         33.000000\n",
       "50%         52.000000\n",
       "75%         65.000000\n",
       "max        101.000000\n",
       "Name: age, dtype: float64"
      ]
     },
     "execution_count": 792,
     "metadata": {},
     "output_type": "execute_result"
    }
   ],
   "source": [
    "profile['age'].describe()"
   ]
  },
  {
   "cell_type": "code",
   "execution_count": 793,
   "metadata": {
    "scrolled": true
   },
   "outputs": [
    {
     "data": {
      "image/png": "[encoded data removed]",
      "text/plain": [
       "<matplotlib.figure.Figure at 0x7f8ed7879a20>"
      ]
     },
     "metadata": {
      "needs_background": "light"
     },
     "output_type": "display_data"
    }
   ],
   "source": [
    "plt.hist(profile['age'])\n",
    "plt.show()"
   ]
  },
  {
   "cell_type": "markdown",
   "metadata": {},
   "source": [
    "# Exploratory Analysis"
   ]
  },
  {
   "cell_type": "markdown",
   "metadata": {},
   "source": [
    "## Portfolio"
   ]
  },
  {
   "cell_type": "code",
   "execution_count": 794,
   "metadata": {
    "scrolled": true
   },
   "outputs": [
    {
     "data": {
      "text/html": [
       "<div>\n",
       "<style scoped>\n",
       "    .dataframe tbody tr th:only-of-type {\n",
       "        vertical-align: middle;\n",
       "    }\n",
       "\n",
       "    .dataframe tbody tr th {\n",
       "        vertical-align: top;\n",
       "    }\n",
       "\n",
       "    .dataframe thead th {\n",
       "        text-align: right;\n",
       "    }\n",
       "</style>\n",
       "<table border=\"1\" class=\"dataframe\">\n",
       "  <thead>\n",
       "    <tr style=\"text-align: right;\">\n",
       "      <th></th>\n",
       "      <th>difficulty</th>\n",
       "      <th>duration</th>\n",
       "      <th>portfolio_id</th>\n",
       "      <th>offer_type</th>\n",
       "      <th>reward</th>\n",
       "      <th>channel_web</th>\n",
       "      <th>channel_email</th>\n",
       "      <th>channel_mobile</th>\n",
       "      <th>channel_social</th>\n",
       "    </tr>\n",
       "  </thead>\n",
       "  <tbody>\n",
       "    <tr>\n",
       "      <th>0</th>\n",
       "      <td>10</td>\n",
       "      <td>7</td>\n",
       "      <td>ae264e3637204a6fb9bb56bc8210ddfd</td>\n",
       "      <td>bogo</td>\n",
       "      <td>10</td>\n",
       "      <td>0</td>\n",
       "      <td>1</td>\n",
       "      <td>1</td>\n",
       "      <td>1</td>\n",
       "    </tr>\n",
       "    <tr>\n",
       "      <th>1</th>\n",
       "      <td>10</td>\n",
       "      <td>5</td>\n",
       "      <td>4d5c57ea9a6940dd891ad53e9dbe8da0</td>\n",
       "      <td>bogo</td>\n",
       "      <td>10</td>\n",
       "      <td>1</td>\n",
       "      <td>1</td>\n",
       "      <td>1</td>\n",
       "      <td>1</td>\n",
       "    </tr>\n",
       "    <tr>\n",
       "      <th>2</th>\n",
       "      <td>0</td>\n",
       "      <td>4</td>\n",
       "      <td>3f207df678b143eea3cee63160fa8bed</td>\n",
       "      <td>informational</td>\n",
       "      <td>0</td>\n",
       "      <td>1</td>\n",
       "      <td>1</td>\n",
       "      <td>1</td>\n",
       "      <td>0</td>\n",
       "    </tr>\n",
       "    <tr>\n",
       "      <th>3</th>\n",
       "      <td>5</td>\n",
       "      <td>7</td>\n",
       "      <td>9b98b8c7a33c4b65b9aebfe6a799e6d9</td>\n",
       "      <td>bogo</td>\n",
       "      <td>5</td>\n",
       "      <td>1</td>\n",
       "      <td>1</td>\n",
       "      <td>1</td>\n",
       "      <td>0</td>\n",
       "    </tr>\n",
       "    <tr>\n",
       "      <th>4</th>\n",
       "      <td>20</td>\n",
       "      <td>10</td>\n",
       "      <td>0b1e1539f2cc45b7b9fa7c272da2e1d7</td>\n",
       "      <td>discount</td>\n",
       "      <td>5</td>\n",
       "      <td>1</td>\n",
       "      <td>1</td>\n",
       "      <td>0</td>\n",
       "      <td>0</td>\n",
       "    </tr>\n",
       "  </tbody>\n",
       "</table>\n",
       "</div>"
      ],
      "text/plain": [
       "   difficulty  duration                      portfolio_id     offer_type  \\\n",
       "0          10         7  ae264e3637204a6fb9bb56bc8210ddfd           bogo   \n",
       "1          10         5  4d5c57ea9a6940dd891ad53e9dbe8da0           bogo   \n",
       "2           0         4  3f207df678b143eea3cee63160fa8bed  informational   \n",
       "3           5         7  9b98b8c7a33c4b65b9aebfe6a799e6d9           bogo   \n",
       "4          20        10  0b1e1539f2cc45b7b9fa7c272da2e1d7       discount   \n",
       "\n",
       "   reward  channel_web  channel_email  channel_mobile  channel_social  \n",
       "0      10            0              1               1               1  \n",
       "1      10            1              1               1               1  \n",
       "2       0            1              1               1               0  \n",
       "3       5            1              1               1               0  \n",
       "4       5            1              1               0               0  "
      ]
     },
     "execution_count": 794,
     "metadata": {},
     "output_type": "execute_result"
    }
   ],
   "source": [
    "portfolio.head()"
   ]
  },
  {
   "cell_type": "code",
   "execution_count": 795,
   "metadata": {},
   "outputs": [
    {
     "data": {
      "text/plain": [
       "10"
      ]
     },
     "execution_count": 795,
     "metadata": {},
     "output_type": "execute_result"
    }
   ],
   "source": [
    "len(portfolio[\"portfolio_id\"].unique())"
   ]
  },
  {
   "cell_type": "code",
   "execution_count": 796,
   "metadata": {
    "scrolled": true
   },
   "outputs": [
    {
     "data": {
      "text/plain": [
       "array(['bogo', 'informational', 'discount'], dtype=object)"
      ]
     },
     "execution_count": 796,
     "metadata": {},
     "output_type": "execute_result"
    }
   ],
   "source": [
    "portfolio[\"offer_type\"].unique()"
   ]
  },
  {
   "cell_type": "code",
   "execution_count": 797,
   "metadata": {},
   "outputs": [
    {
     "data": {
      "text/plain": [
       "offer_type\n",
       "bogo             4\n",
       "discount         4\n",
       "informational    2\n",
       "Name: portfolio_id, dtype: int64"
      ]
     },
     "execution_count": 797,
     "metadata": {},
     "output_type": "execute_result"
    }
   ],
   "source": [
    "portfolio.groupby(\"offer_type\")[\"portfolio_id\"].count()"
   ]
  },
  {
   "cell_type": "code",
   "execution_count": 798,
   "metadata": {},
   "outputs": [
    {
     "data": {
      "text/html": [
       "<div>\n",
       "<style scoped>\n",
       "    .dataframe tbody tr th:only-of-type {\n",
       "        vertical-align: middle;\n",
       "    }\n",
       "\n",
       "    .dataframe tbody tr th {\n",
       "        vertical-align: top;\n",
       "    }\n",
       "\n",
       "    .dataframe thead th {\n",
       "        text-align: right;\n",
       "    }\n",
       "</style>\n",
       "<table border=\"1\" class=\"dataframe\">\n",
       "  <thead>\n",
       "    <tr style=\"text-align: right;\">\n",
       "      <th></th>\n",
       "      <th>channel_web</th>\n",
       "      <th>channel_email</th>\n",
       "      <th>channel_mobile</th>\n",
       "      <th>channel_social</th>\n",
       "    </tr>\n",
       "    <tr>\n",
       "      <th>offer_type</th>\n",
       "      <th></th>\n",
       "      <th></th>\n",
       "      <th></th>\n",
       "      <th></th>\n",
       "    </tr>\n",
       "  </thead>\n",
       "  <tbody>\n",
       "    <tr>\n",
       "      <th>bogo</th>\n",
       "      <td>3</td>\n",
       "      <td>4</td>\n",
       "      <td>4</td>\n",
       "      <td>3</td>\n",
       "    </tr>\n",
       "    <tr>\n",
       "      <th>discount</th>\n",
       "      <td>4</td>\n",
       "      <td>4</td>\n",
       "      <td>3</td>\n",
       "      <td>2</td>\n",
       "    </tr>\n",
       "    <tr>\n",
       "      <th>informational</th>\n",
       "      <td>1</td>\n",
       "      <td>2</td>\n",
       "      <td>2</td>\n",
       "      <td>1</td>\n",
       "    </tr>\n",
       "  </tbody>\n",
       "</table>\n",
       "</div>"
      ],
      "text/plain": [
       "               channel_web  channel_email  channel_mobile  channel_social\n",
       "offer_type                                                               \n",
       "bogo                     3              4               4               3\n",
       "discount                 4              4               3               2\n",
       "informational            1              2               2               1"
      ]
     },
     "execution_count": 798,
     "metadata": {},
     "output_type": "execute_result"
    }
   ],
   "source": [
    "portfolio.groupby(\"offer_type\")[[\"channel_web\", \"channel_email\", \"channel_mobile\", \"channel_social\"]].sum()"
   ]
  },
  {
   "cell_type": "code",
   "execution_count": 799,
   "metadata": {},
   "outputs": [
    {
     "data": {
      "text/plain": [
       "count    10.000000\n",
       "mean      7.700000\n",
       "std       5.831905\n",
       "min       0.000000\n",
       "25%       5.000000\n",
       "50%       8.500000\n",
       "75%      10.000000\n",
       "max      20.000000\n",
       "Name: difficulty, dtype: float64"
      ]
     },
     "execution_count": 799,
     "metadata": {},
     "output_type": "execute_result"
    }
   ],
   "source": [
    "portfolio[\"difficulty\"].describe()"
   ]
  },
  {
   "cell_type": "code",
   "execution_count": 800,
   "metadata": {
    "scrolled": true
   },
   "outputs": [
    {
     "data": {
      "text/plain": [
       "count    2.0\n",
       "mean     0.0\n",
       "std      0.0\n",
       "min      0.0\n",
       "25%      0.0\n",
       "50%      0.0\n",
       "75%      0.0\n",
       "max      0.0\n",
       "Name: difficulty, dtype: float64"
      ]
     },
     "execution_count": 800,
     "metadata": {},
     "output_type": "execute_result"
    }
   ],
   "source": [
    "portfolio[portfolio[\"offer_type\"] == \"informational\"][\"difficulty\"].describe()"
   ]
  },
  {
   "cell_type": "code",
   "execution_count": 801,
   "metadata": {
    "scrolled": true
   },
   "outputs": [
    {
     "data": {
      "text/plain": [
       "count     4.000000\n",
       "mean      7.500000\n",
       "std       2.886751\n",
       "min       5.000000\n",
       "25%       5.000000\n",
       "50%       7.500000\n",
       "75%      10.000000\n",
       "max      10.000000\n",
       "Name: difficulty, dtype: float64"
      ]
     },
     "execution_count": 801,
     "metadata": {},
     "output_type": "execute_result"
    }
   ],
   "source": [
    "portfolio[portfolio[\"offer_type\"] == \"bogo\"][\"difficulty\"].describe()"
   ]
  },
  {
   "cell_type": "code",
   "execution_count": 802,
   "metadata": {
    "scrolled": true
   },
   "outputs": [
    {
     "data": {
      "text/plain": [
       "count     4.000000\n",
       "mean     11.750000\n",
       "std       5.678908\n",
       "min       7.000000\n",
       "25%       9.250000\n",
       "50%      10.000000\n",
       "75%      12.500000\n",
       "max      20.000000\n",
       "Name: difficulty, dtype: float64"
      ]
     },
     "execution_count": 802,
     "metadata": {},
     "output_type": "execute_result"
    }
   ],
   "source": [
    "portfolio[portfolio[\"offer_type\"] == \"discount\"][\"difficulty\"].describe()"
   ]
  },
  {
   "cell_type": "code",
   "execution_count": 803,
   "metadata": {},
   "outputs": [],
   "source": [
    "offer_diff_df = portfolio[portfolio[\"offer_type\"] != \"informational\"].groupby('offer_type')['difficulty'].mean().sort_values(ascending = False)"
   ]
  },
  {
   "cell_type": "code",
   "execution_count": 804,
   "metadata": {},
   "outputs": [
    {
     "data": {
      "text/plain": [
       "<Container object of 2 artists>"
      ]
     },
     "execution_count": 804,
     "metadata": {},
     "output_type": "execute_result"
    },
    {
     "data": {
      "image/png": "[encoded data removed]",
      "text/plain": [
       "<matplotlib.figure.Figure at 0x7f8ed7792e48>"
      ]
     },
     "metadata": {
      "needs_background": "light"
     },
     "output_type": "display_data"
    }
   ],
   "source": [
    "plt.barh(offer_diff_df.index, offer_diff_df.values, color='lightblue')"
   ]
  },
  {
   "cell_type": "code",
   "execution_count": 805,
   "metadata": {},
   "outputs": [
    {
     "data": {
      "text/plain": [
       "count    10.000000\n",
       "mean      4.200000\n",
       "std       3.583915\n",
       "min       0.000000\n",
       "25%       2.000000\n",
       "50%       4.000000\n",
       "75%       5.000000\n",
       "max      10.000000\n",
       "Name: reward, dtype: float64"
      ]
     },
     "execution_count": 805,
     "metadata": {},
     "output_type": "execute_result"
    }
   ],
   "source": [
    "portfolio[\"reward\"].describe()"
   ]
  },
  {
   "cell_type": "code",
   "execution_count": 806,
   "metadata": {},
   "outputs": [
    {
     "data": {
      "text/plain": [
       "count    2.0\n",
       "mean     0.0\n",
       "std      0.0\n",
       "min      0.0\n",
       "25%      0.0\n",
       "50%      0.0\n",
       "75%      0.0\n",
       "max      0.0\n",
       "Name: reward, dtype: float64"
      ]
     },
     "execution_count": 806,
     "metadata": {},
     "output_type": "execute_result"
    }
   ],
   "source": [
    "portfolio[portfolio[\"offer_type\"] == \"informational\"][\"reward\"].describe()"
   ]
  },
  {
   "cell_type": "code",
   "execution_count": 807,
   "metadata": {},
   "outputs": [
    {
     "data": {
      "text/plain": [
       "count     4.000000\n",
       "mean      7.500000\n",
       "std       2.886751\n",
       "min       5.000000\n",
       "25%       5.000000\n",
       "50%       7.500000\n",
       "75%      10.000000\n",
       "max      10.000000\n",
       "Name: reward, dtype: float64"
      ]
     },
     "execution_count": 807,
     "metadata": {},
     "output_type": "execute_result"
    }
   ],
   "source": [
    "portfolio[portfolio[\"offer_type\"] == \"bogo\"][\"reward\"].describe()"
   ]
  },
  {
   "cell_type": "code",
   "execution_count": 808,
   "metadata": {},
   "outputs": [
    {
     "data": {
      "text/plain": [
       "count    4.000000\n",
       "mean     3.000000\n",
       "std      1.414214\n",
       "min      2.000000\n",
       "25%      2.000000\n",
       "50%      2.500000\n",
       "75%      3.500000\n",
       "max      5.000000\n",
       "Name: reward, dtype: float64"
      ]
     },
     "execution_count": 808,
     "metadata": {},
     "output_type": "execute_result"
    }
   ],
   "source": [
    "portfolio[portfolio[\"offer_type\"] == \"discount\"][\"reward\"].describe()"
   ]
  },
  {
   "cell_type": "code",
   "execution_count": 809,
   "metadata": {
    "scrolled": true
   },
   "outputs": [
    {
     "data": {
      "text/plain": [
       "<matplotlib.collections.PathCollection at 0x7f8ed7725ac8>"
      ]
     },
     "execution_count": 809,
     "metadata": {},
     "output_type": "execute_result"
    },
    {
     "data": {
      "image/png": "[encoded data removed]",
      "text/plain": [
       "<matplotlib.figure.Figure at 0x7f8ed7773d68>"
      ]
     },
     "metadata": {
      "needs_background": "light"
     },
     "output_type": "display_data"
    }
   ],
   "source": [
    "plt.scatter(portfolio.loc[portfolio[\"offer_type\"] == \"bogo\", \"reward\"], portfolio.loc[portfolio[\"offer_type\"] == \"bogo\", \"difficulty\"], c=\"lightblue\")\n",
    "plt.scatter(portfolio.loc[portfolio[\"offer_type\"] == \"discount\", \"reward\"], portfolio.loc[portfolio[\"offer_type\"] == \"discount\", \"difficulty\"], c=\"coral\")"
   ]
  },
  {
   "cell_type": "code",
   "execution_count": 810,
   "metadata": {},
   "outputs": [
    {
     "data": {
      "text/plain": [
       "0    1.0\n",
       "1    1.0\n",
       "3    1.0\n",
       "8    1.0\n",
       "dtype: float64"
      ]
     },
     "execution_count": 810,
     "metadata": {},
     "output_type": "execute_result"
    }
   ],
   "source": [
    "portfolio.loc[portfolio[\"offer_type\"] == \"bogo\", \"reward\"]/portfolio.loc[portfolio[\"offer_type\"] == \"bogo\", \"difficulty\"].sort_values()"
   ]
  },
  {
   "cell_type": "code",
   "execution_count": 811,
   "metadata": {},
   "outputs": [
    {
     "data": {
      "text/plain": [
       "4    0.250000\n",
       "5    0.428571\n",
       "6    0.200000\n",
       "9    0.200000\n",
       "dtype: float64"
      ]
     },
     "execution_count": 811,
     "metadata": {},
     "output_type": "execute_result"
    }
   ],
   "source": [
    "portfolio.loc[portfolio[\"offer_type\"] == \"discount\", \"reward\"]/portfolio.loc[portfolio[\"offer_type\"] == \"discount\", \"difficulty\"].sort_values()"
   ]
  },
  {
   "cell_type": "code",
   "execution_count": 812,
   "metadata": {
    "scrolled": false
   },
   "outputs": [
    {
     "data": {
      "text/plain": [
       "count    10.000000\n",
       "mean      6.500000\n",
       "std       2.321398\n",
       "min       3.000000\n",
       "25%       5.000000\n",
       "50%       7.000000\n",
       "75%       7.000000\n",
       "max      10.000000\n",
       "Name: duration, dtype: float64"
      ]
     },
     "execution_count": 812,
     "metadata": {},
     "output_type": "execute_result"
    }
   ],
   "source": [
    "portfolio.duration.describe()"
   ]
  },
  {
   "cell_type": "code",
   "execution_count": 813,
   "metadata": {
    "scrolled": true
   },
   "outputs": [
    {
     "data": {
      "text/plain": [
       "count    2.000000\n",
       "mean     3.500000\n",
       "std      0.707107\n",
       "min      3.000000\n",
       "25%      3.250000\n",
       "50%      3.500000\n",
       "75%      3.750000\n",
       "max      4.000000\n",
       "Name: duration, dtype: float64"
      ]
     },
     "execution_count": 813,
     "metadata": {},
     "output_type": "execute_result"
    }
   ],
   "source": [
    "portfolio.loc[portfolio[\"offer_type\"] == \"informational\", \"duration\"].describe()"
   ]
  },
  {
   "cell_type": "code",
   "execution_count": 814,
   "metadata": {
    "scrolled": true
   },
   "outputs": [
    {
     "data": {
      "text/plain": [
       "count    4.000000\n",
       "mean     6.000000\n",
       "std      1.154701\n",
       "min      5.000000\n",
       "25%      5.000000\n",
       "50%      6.000000\n",
       "75%      7.000000\n",
       "max      7.000000\n",
       "Name: duration, dtype: float64"
      ]
     },
     "execution_count": 814,
     "metadata": {},
     "output_type": "execute_result"
    }
   ],
   "source": [
    "portfolio.loc[portfolio[\"offer_type\"] == \"bogo\", \"duration\"].describe()"
   ]
  },
  {
   "cell_type": "code",
   "execution_count": 815,
   "metadata": {},
   "outputs": [
    {
     "data": {
      "text/plain": [
       "count     4.000000\n",
       "mean      8.500000\n",
       "std       1.732051\n",
       "min       7.000000\n",
       "25%       7.000000\n",
       "50%       8.500000\n",
       "75%      10.000000\n",
       "max      10.000000\n",
       "Name: duration, dtype: float64"
      ]
     },
     "execution_count": 815,
     "metadata": {},
     "output_type": "execute_result"
    }
   ],
   "source": [
    "portfolio.loc[portfolio[\"offer_type\"] == \"discount\", \"duration\"].describe()"
   ]
  },
  {
   "cell_type": "code",
   "execution_count": 816,
   "metadata": {
    "scrolled": true
   },
   "outputs": [
    {
     "data": {
      "text/plain": [
       "channel_email     10\n",
       "channel_mobile     9\n",
       "channel_web        8\n",
       "channel_social     6\n",
       "dtype: int64"
      ]
     },
     "execution_count": 816,
     "metadata": {},
     "output_type": "execute_result"
    }
   ],
   "source": [
    "portfolio[['channel_web', 'channel_email', 'channel_mobile', 'channel_social']].sum().sort_values(ascending = False)"
   ]
  },
  {
   "cell_type": "markdown",
   "metadata": {},
   "source": [
    "the most used channels are email and mobile"
   ]
  },
  {
   "cell_type": "code",
   "execution_count": 817,
   "metadata": {
    "scrolled": true
   },
   "outputs": [
    {
     "data": {
      "text/plain": [
       "10.0"
      ]
     },
     "execution_count": 817,
     "metadata": {},
     "output_type": "execute_result"
    }
   ],
   "source": [
    "portfolio.loc[portfolio[\"channel_mobile\"]==0, \"duration\"].mean()"
   ]
  },
  {
   "cell_type": "code",
   "execution_count": 818,
   "metadata": {},
   "outputs": [
    {
     "data": {
      "text/plain": [
       "6.1111111111111107"
      ]
     },
     "execution_count": 818,
     "metadata": {},
     "output_type": "execute_result"
    }
   ],
   "source": [
    "portfolio.loc[portfolio[\"channel_mobile\"]==1, \"duration\"].mean()"
   ]
  },
  {
   "cell_type": "code",
   "execution_count": 819,
   "metadata": {},
   "outputs": [
    {
     "data": {
      "text/plain": [
       "5.0"
      ]
     },
     "execution_count": 819,
     "metadata": {},
     "output_type": "execute_result"
    }
   ],
   "source": [
    "portfolio.loc[portfolio[\"channel_web\"]==0, \"duration\"].mean()"
   ]
  },
  {
   "cell_type": "code",
   "execution_count": 820,
   "metadata": {},
   "outputs": [
    {
     "data": {
      "text/plain": [
       "6.875"
      ]
     },
     "execution_count": 820,
     "metadata": {},
     "output_type": "execute_result"
    }
   ],
   "source": [
    "portfolio.loc[portfolio[\"channel_web\"]==1, \"duration\"].mean()"
   ]
  },
  {
   "cell_type": "code",
   "execution_count": 821,
   "metadata": {},
   "outputs": [
    {
     "data": {
      "text/plain": [
       "7.0"
      ]
     },
     "execution_count": 821,
     "metadata": {},
     "output_type": "execute_result"
    }
   ],
   "source": [
    "portfolio.loc[portfolio[\"channel_social\"]==0, \"duration\"].mean()"
   ]
  },
  {
   "cell_type": "code",
   "execution_count": 822,
   "metadata": {},
   "outputs": [
    {
     "data": {
      "text/plain": [
       "6.166666666666667"
      ]
     },
     "execution_count": 822,
     "metadata": {},
     "output_type": "execute_result"
    }
   ],
   "source": [
    "portfolio.loc[portfolio[\"channel_social\"]==1, \"duration\"].mean()"
   ]
  },
  {
   "cell_type": "markdown",
   "metadata": {},
   "source": [
    "## Profile"
   ]
  },
  {
   "cell_type": "code",
   "execution_count": 823,
   "metadata": {},
   "outputs": [
    {
     "data": {
      "text/html": [
       "<div>\n",
       "<style scoped>\n",
       "    .dataframe tbody tr th:only-of-type {\n",
       "        vertical-align: middle;\n",
       "    }\n",
       "\n",
       "    .dataframe tbody tr th {\n",
       "        vertical-align: top;\n",
       "    }\n",
       "\n",
       "    .dataframe thead th {\n",
       "        text-align: right;\n",
       "    }\n",
       "</style>\n",
       "<table border=\"1\" class=\"dataframe\">\n",
       "  <thead>\n",
       "    <tr style=\"text-align: right;\">\n",
       "      <th></th>\n",
       "      <th>age</th>\n",
       "      <th>became_member_on</th>\n",
       "      <th>gender</th>\n",
       "      <th>customer_id</th>\n",
       "      <th>income</th>\n",
       "      <th>days_since_member</th>\n",
       "    </tr>\n",
       "  </thead>\n",
       "  <tbody>\n",
       "    <tr>\n",
       "      <th>0</th>\n",
       "      <td>24.0</td>\n",
       "      <td>2017-02-12</td>\n",
       "      <td>None</td>\n",
       "      <td>68be06ca386d4c31939f3a4f0e3dd783</td>\n",
       "      <td>NaN</td>\n",
       "      <td>1313</td>\n",
       "    </tr>\n",
       "    <tr>\n",
       "      <th>1</th>\n",
       "      <td>55.0</td>\n",
       "      <td>2017-07-15</td>\n",
       "      <td>F</td>\n",
       "      <td>0610b486422d4921ae7d2bf64640c50b</td>\n",
       "      <td>112000.0</td>\n",
       "      <td>1160</td>\n",
       "    </tr>\n",
       "    <tr>\n",
       "      <th>2</th>\n",
       "      <td>24.0</td>\n",
       "      <td>2018-07-12</td>\n",
       "      <td>None</td>\n",
       "      <td>38fe809add3b4fcf9315a9694bb96ff5</td>\n",
       "      <td>NaN</td>\n",
       "      <td>798</td>\n",
       "    </tr>\n",
       "    <tr>\n",
       "      <th>3</th>\n",
       "      <td>75.0</td>\n",
       "      <td>2017-05-09</td>\n",
       "      <td>F</td>\n",
       "      <td>78afa995795e4d85b5d9ceeca43f5fef</td>\n",
       "      <td>100000.0</td>\n",
       "      <td>1227</td>\n",
       "    </tr>\n",
       "    <tr>\n",
       "      <th>4</th>\n",
       "      <td>24.0</td>\n",
       "      <td>2017-08-04</td>\n",
       "      <td>None</td>\n",
       "      <td>a03223e636434f42ac4c3df47e8bac43</td>\n",
       "      <td>NaN</td>\n",
       "      <td>1140</td>\n",
       "    </tr>\n",
       "  </tbody>\n",
       "</table>\n",
       "</div>"
      ],
      "text/plain": [
       "    age became_member_on gender                       customer_id    income  \\\n",
       "0  24.0       2017-02-12   None  68be06ca386d4c31939f3a4f0e3dd783       NaN   \n",
       "1  55.0       2017-07-15      F  0610b486422d4921ae7d2bf64640c50b  112000.0   \n",
       "2  24.0       2018-07-12   None  38fe809add3b4fcf9315a9694bb96ff5       NaN   \n",
       "3  75.0       2017-05-09      F  78afa995795e4d85b5d9ceeca43f5fef  100000.0   \n",
       "4  24.0       2017-08-04   None  a03223e636434f42ac4c3df47e8bac43       NaN   \n",
       "\n",
       "   days_since_member  \n",
       "0               1313  \n",
       "1               1160  \n",
       "2                798  \n",
       "3               1227  \n",
       "4               1140  "
      ]
     },
     "execution_count": 823,
     "metadata": {},
     "output_type": "execute_result"
    }
   ],
   "source": [
    "profile.head()"
   ]
  },
  {
   "cell_type": "code",
   "execution_count": 824,
   "metadata": {},
   "outputs": [
    {
     "data": {
      "text/plain": [
       "count    17000.000000\n",
       "mean        50.504941\n",
       "std         19.146820\n",
       "min         18.000000\n",
       "25%         33.000000\n",
       "50%         52.000000\n",
       "75%         65.000000\n",
       "max        101.000000\n",
       "Name: age, dtype: float64"
      ]
     },
     "execution_count": 824,
     "metadata": {},
     "output_type": "execute_result"
    }
   ],
   "source": [
    "profile.age.describe()"
   ]
  },
  {
   "cell_type": "code",
   "execution_count": 825,
   "metadata": {
    "scrolled": true
   },
   "outputs": [
    {
     "data": {
      "text/plain": [
       "(array([ 3344.,  1087.,  1462.,  2338.,  2894.,  2490.,  1890.,   917.,\n",
       "          446.,   132.]),\n",
       " array([  18. ,   26.3,   34.6,   42.9,   51.2,   59.5,   67.8,   76.1,\n",
       "          84.4,   92.7,  101. ]),\n",
       " <a list of 10 Patch objects>)"
      ]
     },
     "execution_count": 825,
     "metadata": {},
     "output_type": "execute_result"
    },
    {
     "data": {
      "image/png": "[encoded data removed]",
      "text/plain": [
       "<matplotlib.figure.Figure at 0x7f8ed774e1d0>"
      ]
     },
     "metadata": {
      "needs_background": "light"
     },
     "output_type": "display_data"
    }
   ],
   "source": [
    "plt.hist(profile['age'])"
   ]
  },
  {
   "cell_type": "code",
   "execution_count": 826,
   "metadata": {
    "scrolled": false
   },
   "outputs": [
    {
     "data": {
      "text/plain": [
       "count     14825.000000\n",
       "mean      65404.991568\n",
       "std       21598.299410\n",
       "min       30000.000000\n",
       "25%       49000.000000\n",
       "50%       64000.000000\n",
       "75%       80000.000000\n",
       "max      120000.000000\n",
       "Name: income, dtype: float64"
      ]
     },
     "execution_count": 826,
     "metadata": {},
     "output_type": "execute_result"
    }
   ],
   "source": [
    "profile.income.describe()"
   ]
  },
  {
   "cell_type": "code",
   "execution_count": 827,
   "metadata": {},
   "outputs": [],
   "source": [
    "profile_notnull = profile[~profile[\"income\"].isnull()]"
   ]
  },
  {
   "cell_type": "code",
   "execution_count": 828,
   "metadata": {},
   "outputs": [
    {
     "data": {
      "text/plain": [
       "(array([ 1731.,  1707.,  2234.,  2210.,  2345.,  1435.,  1215.,   990.,\n",
       "          498.,   460.]),\n",
       " array([  30000.,   39000.,   48000.,   57000.,   66000.,   75000.,\n",
       "          84000.,   93000.,  102000.,  111000.,  120000.]),\n",
       " <a list of 10 Patch objects>)"
      ]
     },
     "execution_count": 828,
     "metadata": {},
     "output_type": "execute_result"
    },
    {
     "data": {
      "image/png": "[encoded data removed]",
      "text/plain": [
       "<matplotlib.figure.Figure at 0x7f8ed76cef28>"
      ]
     },
     "metadata": {
      "needs_background": "light"
     },
     "output_type": "display_data"
    }
   ],
   "source": [
    "plt.hist(profile_notnull[\"income\"])"
   ]
  },
  {
   "cell_type": "code",
   "execution_count": 829,
   "metadata": {
    "scrolled": true
   },
   "outputs": [
    {
     "data": {
      "text/plain": [
       "gender\n",
       "F    6129\n",
       "M    8484\n",
       "O     212\n",
       "Name: customer_id, dtype: int64"
      ]
     },
     "execution_count": 829,
     "metadata": {},
     "output_type": "execute_result"
    }
   ],
   "source": [
    "gender_df = profile.groupby('gender')['customer_id'].count()\n",
    "gender_df.head()"
   ]
  },
  {
   "cell_type": "code",
   "execution_count": 830,
   "metadata": {
    "scrolled": true
   },
   "outputs": [
    {
     "data": {
      "text/plain": [
       "<Container object of 3 artists>"
      ]
     },
     "execution_count": 830,
     "metadata": {},
     "output_type": "execute_result"
    },
    {
     "data": {
      "image/png": "[encoded data removed]",
      "text/plain": [
       "<matplotlib.figure.Figure at 0x7f8ed76cbe10>"
      ]
     },
     "metadata": {
      "needs_background": "light"
     },
     "output_type": "display_data"
    }
   ],
   "source": [
    "plt.barh(gender_df.index, gender_df.values)"
   ]
  },
  {
   "cell_type": "code",
   "execution_count": 831,
   "metadata": {},
   "outputs": [],
   "source": [
    "profile['gender'] = profile['gender'].fillna('O')"
   ]
  },
  {
   "cell_type": "code",
   "execution_count": 832,
   "metadata": {
    "scrolled": true
   },
   "outputs": [],
   "source": [
    "gender_df_v2 = profile.groupby('gender')['customer_id'].count().sort_values()"
   ]
  },
  {
   "cell_type": "code",
   "execution_count": 833,
   "metadata": {},
   "outputs": [
    {
     "data": {
      "text/plain": [
       "<Container object of 3 artists>"
      ]
     },
     "execution_count": 833,
     "metadata": {},
     "output_type": "execute_result"
    },
    {
     "data": {
      "image/png": "[encoded data removed]",
      "text/plain": [
       "<matplotlib.figure.Figure at 0x7f8ed768c8d0>"
      ]
     },
     "metadata": {
      "needs_background": "light"
     },
     "output_type": "display_data"
    }
   ],
   "source": [
    "plt.barh(gender_df_v2.index, gender_df_v2.values)"
   ]
  },
  {
   "cell_type": "code",
   "execution_count": 834,
   "metadata": {
    "scrolled": true
   },
   "outputs": [
    {
     "data": {
      "text/plain": [
       "count    17000.000000\n",
       "mean      1301.449882\n",
       "std        411.223904\n",
       "min        784.000000\n",
       "25%        992.000000\n",
       "50%       1142.000000\n",
       "75%       1575.000000\n",
       "max       2607.000000\n",
       "Name: days_since_member, dtype: float64"
      ]
     },
     "execution_count": 834,
     "metadata": {},
     "output_type": "execute_result"
    }
   ],
   "source": [
    "profile['days_since_member'].describe()"
   ]
  },
  {
   "cell_type": "code",
   "execution_count": 835,
   "metadata": {},
   "outputs": [],
   "source": [
    "bins = math.ceil(profile[\"days_since_member\"].max()/365)"
   ]
  },
  {
   "cell_type": "code",
   "execution_count": 836,
   "metadata": {},
   "outputs": [
    {
     "data": {
      "text/plain": [
       "(array([ 4782.,  4761.,  2146.,  2260.,  1743.,   441.,   434.,   433.]),\n",
       " array([  784.   ,  1011.875,  1239.75 ,  1467.625,  1695.5  ,  1923.375,\n",
       "         2151.25 ,  2379.125,  2607.   ]),\n",
       " <a list of 8 Patch objects>)"
      ]
     },
     "execution_count": 836,
     "metadata": {},
     "output_type": "execute_result"
    },
    {
     "data": {
      "image/png": "[encoded data removed]",
      "text/plain": [
       "<matplotlib.figure.Figure at 0x7f8ed76727b8>"
      ]
     },
     "metadata": {
      "needs_background": "light"
     },
     "output_type": "display_data"
    }
   ],
   "source": [
    "plt.hist(profile['days_since_member'], bins = bins)"
   ]
  },
  {
   "cell_type": "markdown",
   "metadata": {},
   "source": [
    "## Transcript"
   ]
  },
  {
   "cell_type": "code",
   "execution_count": 837,
   "metadata": {
    "scrolled": true
   },
   "outputs": [
    {
     "data": {
      "text/html": [
       "<div>\n",
       "<style scoped>\n",
       "    .dataframe tbody tr th:only-of-type {\n",
       "        vertical-align: middle;\n",
       "    }\n",
       "\n",
       "    .dataframe tbody tr th {\n",
       "        vertical-align: top;\n",
       "    }\n",
       "\n",
       "    .dataframe thead th {\n",
       "        text-align: right;\n",
       "    }\n",
       "</style>\n",
       "<table border=\"1\" class=\"dataframe\">\n",
       "  <thead>\n",
       "    <tr style=\"text-align: right;\">\n",
       "      <th></th>\n",
       "      <th>event</th>\n",
       "      <th>customer_id</th>\n",
       "      <th>time</th>\n",
       "      <th>amount</th>\n",
       "      <th>reward</th>\n",
       "      <th>portfolio_id</th>\n",
       "    </tr>\n",
       "  </thead>\n",
       "  <tbody>\n",
       "    <tr>\n",
       "      <th>0</th>\n",
       "      <td>offer received</td>\n",
       "      <td>78afa995795e4d85b5d9ceeca43f5fef</td>\n",
       "      <td>0</td>\n",
       "      <td>0.0</td>\n",
       "      <td>0</td>\n",
       "      <td>9b98b8c7a33c4b65b9aebfe6a799e6d9</td>\n",
       "    </tr>\n",
       "    <tr>\n",
       "      <th>1</th>\n",
       "      <td>offer received</td>\n",
       "      <td>a03223e636434f42ac4c3df47e8bac43</td>\n",
       "      <td>0</td>\n",
       "      <td>0.0</td>\n",
       "      <td>0</td>\n",
       "      <td>0b1e1539f2cc45b7b9fa7c272da2e1d7</td>\n",
       "    </tr>\n",
       "    <tr>\n",
       "      <th>2</th>\n",
       "      <td>offer received</td>\n",
       "      <td>e2127556f4f64592b11af22de27a7932</td>\n",
       "      <td>0</td>\n",
       "      <td>0.0</td>\n",
       "      <td>0</td>\n",
       "      <td>2906b810c7d4411798c6938adc9daaa5</td>\n",
       "    </tr>\n",
       "    <tr>\n",
       "      <th>3</th>\n",
       "      <td>offer received</td>\n",
       "      <td>8ec6ce2a7e7949b1bf142def7d0e0586</td>\n",
       "      <td>0</td>\n",
       "      <td>0.0</td>\n",
       "      <td>0</td>\n",
       "      <td>fafdcd668e3743c1bb461111dcafc2a4</td>\n",
       "    </tr>\n",
       "    <tr>\n",
       "      <th>4</th>\n",
       "      <td>offer received</td>\n",
       "      <td>68617ca6246f4fbc85e91a2a49552598</td>\n",
       "      <td>0</td>\n",
       "      <td>0.0</td>\n",
       "      <td>0</td>\n",
       "      <td>4d5c57ea9a6940dd891ad53e9dbe8da0</td>\n",
       "    </tr>\n",
       "  </tbody>\n",
       "</table>\n",
       "</div>"
      ],
      "text/plain": [
       "            event                       customer_id  time  amount  reward  \\\n",
       "0  offer received  78afa995795e4d85b5d9ceeca43f5fef     0     0.0       0   \n",
       "1  offer received  a03223e636434f42ac4c3df47e8bac43     0     0.0       0   \n",
       "2  offer received  e2127556f4f64592b11af22de27a7932     0     0.0       0   \n",
       "3  offer received  8ec6ce2a7e7949b1bf142def7d0e0586     0     0.0       0   \n",
       "4  offer received  68617ca6246f4fbc85e91a2a49552598     0     0.0       0   \n",
       "\n",
       "                       portfolio_id  \n",
       "0  9b98b8c7a33c4b65b9aebfe6a799e6d9  \n",
       "1  0b1e1539f2cc45b7b9fa7c272da2e1d7  \n",
       "2  2906b810c7d4411798c6938adc9daaa5  \n",
       "3  fafdcd668e3743c1bb461111dcafc2a4  \n",
       "4  4d5c57ea9a6940dd891ad53e9dbe8da0  "
      ]
     },
     "execution_count": 837,
     "metadata": {},
     "output_type": "execute_result"
    }
   ],
   "source": [
    "transcript.head()"
   ]
  },
  {
   "cell_type": "code",
   "execution_count": 838,
   "metadata": {},
   "outputs": [
    {
     "data": {
      "text/plain": [
       "array(['offer received', 'offer viewed', 'transaction', 'offer completed'], dtype=object)"
      ]
     },
     "execution_count": 838,
     "metadata": {},
     "output_type": "execute_result"
    }
   ],
   "source": [
    "transcript[\"event\"].unique()"
   ]
  },
  {
   "cell_type": "code",
   "execution_count": 839,
   "metadata": {},
   "outputs": [],
   "source": [
    "# transcript[\"event\"] = pd.Categorical(transcript[\"event\"], [\"offer received\", \"offer viewed\", \"transaction\", \"offer completed\"])"
   ]
  },
  {
   "cell_type": "code",
   "execution_count": 840,
   "metadata": {},
   "outputs": [
    {
     "data": {
      "text/plain": [
       "array(['78afa995795e4d85b5d9ceeca43f5fef',\n",
       "       'a03223e636434f42ac4c3df47e8bac43',\n",
       "       'e2127556f4f64592b11af22de27a7932', ...,\n",
       "       '912b9f623b9e4b4eb99b6dc919f09a93',\n",
       "       '3045af4e98794a04a5542d3eac939b1f',\n",
       "       'da7a7c0dcfcb41a8acc7864a53cf60fb'], dtype=object)"
      ]
     },
     "execution_count": 840,
     "metadata": {},
     "output_type": "execute_result"
    }
   ],
   "source": [
    "transcript[\"customer_id\"].unique()"
   ]
  },
  {
   "cell_type": "code",
   "execution_count": 841,
   "metadata": {},
   "outputs": [
    {
     "data": {
      "text/plain": [
       "transaction        138953\n",
       "offer received      76277\n",
       "offer viewed        57725\n",
       "offer completed     33579\n",
       "Name: event, dtype: int64"
      ]
     },
     "execution_count": 841,
     "metadata": {},
     "output_type": "execute_result"
    }
   ],
   "source": [
    "transcript[\"event\"].value_counts()"
   ]
  },
  {
   "cell_type": "code",
   "execution_count": 842,
   "metadata": {},
   "outputs": [],
   "source": [
    "offer_by_cus = transcript.groupby(\"portfolio_id\")[\"customer_id\"].unique().reset_index()"
   ]
  },
  {
   "cell_type": "code",
   "execution_count": 843,
   "metadata": {},
   "outputs": [],
   "source": [
    "offer_by_cus[\"cus_num\"] = offer_by_cus[\"customer_id\"].apply(lambda x: len(x))"
   ]
  },
  {
   "cell_type": "code",
   "execution_count": 844,
   "metadata": {},
   "outputs": [
    {
     "data": {
      "text/html": [
       "<div>\n",
       "<style scoped>\n",
       "    .dataframe tbody tr th:only-of-type {\n",
       "        vertical-align: middle;\n",
       "    }\n",
       "\n",
       "    .dataframe tbody tr th {\n",
       "        vertical-align: top;\n",
       "    }\n",
       "\n",
       "    .dataframe thead th {\n",
       "        text-align: right;\n",
       "    }\n",
       "</style>\n",
       "<table border=\"1\" class=\"dataframe\">\n",
       "  <thead>\n",
       "    <tr style=\"text-align: right;\">\n",
       "      <th></th>\n",
       "      <th>portfolio_id</th>\n",
       "      <th>customer_id</th>\n",
       "      <th>cus_num</th>\n",
       "    </tr>\n",
       "  </thead>\n",
       "  <tbody>\n",
       "    <tr>\n",
       "      <th>0</th>\n",
       "      <td>0</td>\n",
       "      <td>[02c083884c7d45b39cc68e1314fec56c, 9fa9ae8f578...</td>\n",
       "      <td>16578</td>\n",
       "    </tr>\n",
       "    <tr>\n",
       "      <th>1</th>\n",
       "      <td>0b1e1539f2cc45b7b9fa7c272da2e1d7</td>\n",
       "      <td>[a03223e636434f42ac4c3df47e8bac43, aa4862eba77...</td>\n",
       "      <td>6374</td>\n",
       "    </tr>\n",
       "    <tr>\n",
       "      <th>2</th>\n",
       "      <td>2298d6c36e964ae4a3e7e9706d1fb8c2</td>\n",
       "      <td>[c4863c7985cf408faee930f111475da3, 9f30b375d7b...</td>\n",
       "      <td>6325</td>\n",
       "    </tr>\n",
       "    <tr>\n",
       "      <th>3</th>\n",
       "      <td>2906b810c7d4411798c6938adc9daaa5</td>\n",
       "      <td>[e2127556f4f64592b11af22de27a7932, 65aba5c6172...</td>\n",
       "      <td>6285</td>\n",
       "    </tr>\n",
       "    <tr>\n",
       "      <th>4</th>\n",
       "      <td>3f207df678b143eea3cee63160fa8bed</td>\n",
       "      <td>[2eeac8d8feae4a8cad5a6af0499a211d, c27e0d6ab72...</td>\n",
       "      <td>6331</td>\n",
       "    </tr>\n",
       "    <tr>\n",
       "      <th>5</th>\n",
       "      <td>4d5c57ea9a6940dd891ad53e9dbe8da0</td>\n",
       "      <td>[68617ca6246f4fbc85e91a2a49552598, 102e9454054...</td>\n",
       "      <td>6330</td>\n",
       "    </tr>\n",
       "    <tr>\n",
       "      <th>6</th>\n",
       "      <td>5a8bc65990b245e5a138643cd4eb9837</td>\n",
       "      <td>[be8a5d1981a2458d90b255ddc7e0d174, a5a6ef2b78a...</td>\n",
       "      <td>6320</td>\n",
       "    </tr>\n",
       "    <tr>\n",
       "      <th>7</th>\n",
       "      <td>9b98b8c7a33c4b65b9aebfe6a799e6d9</td>\n",
       "      <td>[78afa995795e4d85b5d9ceeca43f5fef, ebe7ef46ea6...</td>\n",
       "      <td>6355</td>\n",
       "    </tr>\n",
       "    <tr>\n",
       "      <th>8</th>\n",
       "      <td>ae264e3637204a6fb9bb56bc8210ddfd</td>\n",
       "      <td>[4b0da7e80e5945209a1fdddfe813dbe0, 1e9420836d5...</td>\n",
       "      <td>6374</td>\n",
       "    </tr>\n",
       "    <tr>\n",
       "      <th>9</th>\n",
       "      <td>f19421c1d4aa40978ebb69ca19b0e20d</td>\n",
       "      <td>[389bc3fa690240e798340f5a15918d5c, 6e014185620...</td>\n",
       "      <td>6262</td>\n",
       "    </tr>\n",
       "    <tr>\n",
       "      <th>10</th>\n",
       "      <td>fafdcd668e3743c1bb461111dcafc2a4</td>\n",
       "      <td>[8ec6ce2a7e7949b1bf142def7d0e0586, f806632c011...</td>\n",
       "      <td>6332</td>\n",
       "    </tr>\n",
       "  </tbody>\n",
       "</table>\n",
       "</div>"
      ],
      "text/plain": [
       "                        portfolio_id  \\\n",
       "0                                  0   \n",
       "1   0b1e1539f2cc45b7b9fa7c272da2e1d7   \n",
       "2   2298d6c36e964ae4a3e7e9706d1fb8c2   \n",
       "3   2906b810c7d4411798c6938adc9daaa5   \n",
       "4   3f207df678b143eea3cee63160fa8bed   \n",
       "5   4d5c57ea9a6940dd891ad53e9dbe8da0   \n",
       "6   5a8bc65990b245e5a138643cd4eb9837   \n",
       "7   9b98b8c7a33c4b65b9aebfe6a799e6d9   \n",
       "8   ae264e3637204a6fb9bb56bc8210ddfd   \n",
       "9   f19421c1d4aa40978ebb69ca19b0e20d   \n",
       "10  fafdcd668e3743c1bb461111dcafc2a4   \n",
       "\n",
       "                                          customer_id  cus_num  \n",
       "0   [02c083884c7d45b39cc68e1314fec56c, 9fa9ae8f578...    16578  \n",
       "1   [a03223e636434f42ac4c3df47e8bac43, aa4862eba77...     6374  \n",
       "2   [c4863c7985cf408faee930f111475da3, 9f30b375d7b...     6325  \n",
       "3   [e2127556f4f64592b11af22de27a7932, 65aba5c6172...     6285  \n",
       "4   [2eeac8d8feae4a8cad5a6af0499a211d, c27e0d6ab72...     6331  \n",
       "5   [68617ca6246f4fbc85e91a2a49552598, 102e9454054...     6330  \n",
       "6   [be8a5d1981a2458d90b255ddc7e0d174, a5a6ef2b78a...     6320  \n",
       "7   [78afa995795e4d85b5d9ceeca43f5fef, ebe7ef46ea6...     6355  \n",
       "8   [4b0da7e80e5945209a1fdddfe813dbe0, 1e9420836d5...     6374  \n",
       "9   [389bc3fa690240e798340f5a15918d5c, 6e014185620...     6262  \n",
       "10  [8ec6ce2a7e7949b1bf142def7d0e0586, f806632c011...     6332  "
      ]
     },
     "execution_count": 844,
     "metadata": {},
     "output_type": "execute_result"
    }
   ],
   "source": [
    "offer_by_cus"
   ]
  },
  {
   "cell_type": "code",
   "execution_count": 845,
   "metadata": {},
   "outputs": [],
   "source": [
    "offer_event_by_cus = transcript.groupby([\"portfolio_id\", \"event\"])[\"customer_id\"].unique().reset_index()"
   ]
  },
  {
   "cell_type": "code",
   "execution_count": 846,
   "metadata": {},
   "outputs": [],
   "source": [
    "offer_event_by_cus[\"cus_num\"] = offer_event_by_cus[\"customer_id\"].apply(lambda x: len(x))"
   ]
  },
  {
   "cell_type": "code",
   "execution_count": 847,
   "metadata": {},
   "outputs": [],
   "source": [
    "offer_event_by_cus = offer_event_by_cus.drop(\"customer_id\", axis = 1)"
   ]
  },
  {
   "cell_type": "code",
   "execution_count": 848,
   "metadata": {},
   "outputs": [
    {
     "data": {
      "text/html": [
       "<div>\n",
       "<style scoped>\n",
       "    .dataframe tbody tr th:only-of-type {\n",
       "        vertical-align: middle;\n",
       "    }\n",
       "\n",
       "    .dataframe tbody tr th {\n",
       "        vertical-align: top;\n",
       "    }\n",
       "\n",
       "    .dataframe thead th {\n",
       "        text-align: right;\n",
       "    }\n",
       "</style>\n",
       "<table border=\"1\" class=\"dataframe\">\n",
       "  <thead>\n",
       "    <tr style=\"text-align: right;\">\n",
       "      <th></th>\n",
       "      <th>portfolio_id</th>\n",
       "      <th>event</th>\n",
       "      <th>cus_num</th>\n",
       "    </tr>\n",
       "  </thead>\n",
       "  <tbody>\n",
       "    <tr>\n",
       "      <th>0</th>\n",
       "      <td>0</td>\n",
       "      <td>transaction</td>\n",
       "      <td>16578</td>\n",
       "    </tr>\n",
       "    <tr>\n",
       "      <th>3</th>\n",
       "      <td>0b1e1539f2cc45b7b9fa7c272da2e1d7</td>\n",
       "      <td>offer viewed</td>\n",
       "      <td>2400</td>\n",
       "    </tr>\n",
       "    <tr>\n",
       "      <th>2</th>\n",
       "      <td>0b1e1539f2cc45b7b9fa7c272da2e1d7</td>\n",
       "      <td>offer received</td>\n",
       "      <td>6374</td>\n",
       "    </tr>\n",
       "    <tr>\n",
       "      <th>1</th>\n",
       "      <td>0b1e1539f2cc45b7b9fa7c272da2e1d7</td>\n",
       "      <td>offer completed</td>\n",
       "      <td>2978</td>\n",
       "    </tr>\n",
       "    <tr>\n",
       "      <th>6</th>\n",
       "      <td>2298d6c36e964ae4a3e7e9706d1fb8c2</td>\n",
       "      <td>offer viewed</td>\n",
       "      <td>6122</td>\n",
       "    </tr>\n",
       "    <tr>\n",
       "      <th>5</th>\n",
       "      <td>2298d6c36e964ae4a3e7e9706d1fb8c2</td>\n",
       "      <td>offer received</td>\n",
       "      <td>6325</td>\n",
       "    </tr>\n",
       "    <tr>\n",
       "      <th>4</th>\n",
       "      <td>2298d6c36e964ae4a3e7e9706d1fb8c2</td>\n",
       "      <td>offer completed</td>\n",
       "      <td>4421</td>\n",
       "    </tr>\n",
       "    <tr>\n",
       "      <th>9</th>\n",
       "      <td>2906b810c7d4411798c6938adc9daaa5</td>\n",
       "      <td>offer viewed</td>\n",
       "      <td>3608</td>\n",
       "    </tr>\n",
       "    <tr>\n",
       "      <th>8</th>\n",
       "      <td>2906b810c7d4411798c6938adc9daaa5</td>\n",
       "      <td>offer received</td>\n",
       "      <td>6285</td>\n",
       "    </tr>\n",
       "    <tr>\n",
       "      <th>7</th>\n",
       "      <td>2906b810c7d4411798c6938adc9daaa5</td>\n",
       "      <td>offer completed</td>\n",
       "      <td>3480</td>\n",
       "    </tr>\n",
       "    <tr>\n",
       "      <th>11</th>\n",
       "      <td>3f207df678b143eea3cee63160fa8bed</td>\n",
       "      <td>offer viewed</td>\n",
       "      <td>3635</td>\n",
       "    </tr>\n",
       "    <tr>\n",
       "      <th>10</th>\n",
       "      <td>3f207df678b143eea3cee63160fa8bed</td>\n",
       "      <td>offer received</td>\n",
       "      <td>6331</td>\n",
       "    </tr>\n",
       "    <tr>\n",
       "      <th>14</th>\n",
       "      <td>4d5c57ea9a6940dd891ad53e9dbe8da0</td>\n",
       "      <td>offer viewed</td>\n",
       "      <td>6132</td>\n",
       "    </tr>\n",
       "    <tr>\n",
       "      <th>13</th>\n",
       "      <td>4d5c57ea9a6940dd891ad53e9dbe8da0</td>\n",
       "      <td>offer received</td>\n",
       "      <td>6330</td>\n",
       "    </tr>\n",
       "    <tr>\n",
       "      <th>12</th>\n",
       "      <td>4d5c57ea9a6940dd891ad53e9dbe8da0</td>\n",
       "      <td>offer completed</td>\n",
       "      <td>2885</td>\n",
       "    </tr>\n",
       "    <tr>\n",
       "      <th>16</th>\n",
       "      <td>5a8bc65990b245e5a138643cd4eb9837</td>\n",
       "      <td>offer viewed</td>\n",
       "      <td>5674</td>\n",
       "    </tr>\n",
       "    <tr>\n",
       "      <th>15</th>\n",
       "      <td>5a8bc65990b245e5a138643cd4eb9837</td>\n",
       "      <td>offer received</td>\n",
       "      <td>6320</td>\n",
       "    </tr>\n",
       "    <tr>\n",
       "      <th>19</th>\n",
       "      <td>9b98b8c7a33c4b65b9aebfe6a799e6d9</td>\n",
       "      <td>offer viewed</td>\n",
       "      <td>3658</td>\n",
       "    </tr>\n",
       "    <tr>\n",
       "      <th>18</th>\n",
       "      <td>9b98b8c7a33c4b65b9aebfe6a799e6d9</td>\n",
       "      <td>offer received</td>\n",
       "      <td>6355</td>\n",
       "    </tr>\n",
       "    <tr>\n",
       "      <th>17</th>\n",
       "      <td>9b98b8c7a33c4b65b9aebfe6a799e6d9</td>\n",
       "      <td>offer completed</td>\n",
       "      <td>3784</td>\n",
       "    </tr>\n",
       "    <tr>\n",
       "      <th>22</th>\n",
       "      <td>ae264e3637204a6fb9bb56bc8210ddfd</td>\n",
       "      <td>offer viewed</td>\n",
       "      <td>5696</td>\n",
       "    </tr>\n",
       "    <tr>\n",
       "      <th>21</th>\n",
       "      <td>ae264e3637204a6fb9bb56bc8210ddfd</td>\n",
       "      <td>offer received</td>\n",
       "      <td>6374</td>\n",
       "    </tr>\n",
       "    <tr>\n",
       "      <th>20</th>\n",
       "      <td>ae264e3637204a6fb9bb56bc8210ddfd</td>\n",
       "      <td>offer completed</td>\n",
       "      <td>3177</td>\n",
       "    </tr>\n",
       "    <tr>\n",
       "      <th>25</th>\n",
       "      <td>f19421c1d4aa40978ebb69ca19b0e20d</td>\n",
       "      <td>offer viewed</td>\n",
       "      <td>6060</td>\n",
       "    </tr>\n",
       "    <tr>\n",
       "      <th>24</th>\n",
       "      <td>f19421c1d4aa40978ebb69ca19b0e20d</td>\n",
       "      <td>offer received</td>\n",
       "      <td>6262</td>\n",
       "    </tr>\n",
       "    <tr>\n",
       "      <th>23</th>\n",
       "      <td>f19421c1d4aa40978ebb69ca19b0e20d</td>\n",
       "      <td>offer completed</td>\n",
       "      <td>3741</td>\n",
       "    </tr>\n",
       "    <tr>\n",
       "      <th>28</th>\n",
       "      <td>fafdcd668e3743c1bb461111dcafc2a4</td>\n",
       "      <td>offer viewed</td>\n",
       "      <td>6150</td>\n",
       "    </tr>\n",
       "    <tr>\n",
       "      <th>27</th>\n",
       "      <td>fafdcd668e3743c1bb461111dcafc2a4</td>\n",
       "      <td>offer received</td>\n",
       "      <td>6332</td>\n",
       "    </tr>\n",
       "    <tr>\n",
       "      <th>26</th>\n",
       "      <td>fafdcd668e3743c1bb461111dcafc2a4</td>\n",
       "      <td>offer completed</td>\n",
       "      <td>4530</td>\n",
       "    </tr>\n",
       "  </tbody>\n",
       "</table>\n",
       "</div>"
      ],
      "text/plain": [
       "                        portfolio_id            event  cus_num\n",
       "0                                  0      transaction    16578\n",
       "3   0b1e1539f2cc45b7b9fa7c272da2e1d7     offer viewed     2400\n",
       "2   0b1e1539f2cc45b7b9fa7c272da2e1d7   offer received     6374\n",
       "1   0b1e1539f2cc45b7b9fa7c272da2e1d7  offer completed     2978\n",
       "6   2298d6c36e964ae4a3e7e9706d1fb8c2     offer viewed     6122\n",
       "5   2298d6c36e964ae4a3e7e9706d1fb8c2   offer received     6325\n",
       "4   2298d6c36e964ae4a3e7e9706d1fb8c2  offer completed     4421\n",
       "9   2906b810c7d4411798c6938adc9daaa5     offer viewed     3608\n",
       "8   2906b810c7d4411798c6938adc9daaa5   offer received     6285\n",
       "7   2906b810c7d4411798c6938adc9daaa5  offer completed     3480\n",
       "11  3f207df678b143eea3cee63160fa8bed     offer viewed     3635\n",
       "10  3f207df678b143eea3cee63160fa8bed   offer received     6331\n",
       "14  4d5c57ea9a6940dd891ad53e9dbe8da0     offer viewed     6132\n",
       "13  4d5c57ea9a6940dd891ad53e9dbe8da0   offer received     6330\n",
       "12  4d5c57ea9a6940dd891ad53e9dbe8da0  offer completed     2885\n",
       "16  5a8bc65990b245e5a138643cd4eb9837     offer viewed     5674\n",
       "15  5a8bc65990b245e5a138643cd4eb9837   offer received     6320\n",
       "19  9b98b8c7a33c4b65b9aebfe6a799e6d9     offer viewed     3658\n",
       "18  9b98b8c7a33c4b65b9aebfe6a799e6d9   offer received     6355\n",
       "17  9b98b8c7a33c4b65b9aebfe6a799e6d9  offer completed     3784\n",
       "22  ae264e3637204a6fb9bb56bc8210ddfd     offer viewed     5696\n",
       "21  ae264e3637204a6fb9bb56bc8210ddfd   offer received     6374\n",
       "20  ae264e3637204a6fb9bb56bc8210ddfd  offer completed     3177\n",
       "25  f19421c1d4aa40978ebb69ca19b0e20d     offer viewed     6060\n",
       "24  f19421c1d4aa40978ebb69ca19b0e20d   offer received     6262\n",
       "23  f19421c1d4aa40978ebb69ca19b0e20d  offer completed     3741\n",
       "28  fafdcd668e3743c1bb461111dcafc2a4     offer viewed     6150\n",
       "27  fafdcd668e3743c1bb461111dcafc2a4   offer received     6332\n",
       "26  fafdcd668e3743c1bb461111dcafc2a4  offer completed     4530"
      ]
     },
     "execution_count": 848,
     "metadata": {},
     "output_type": "execute_result"
    }
   ],
   "source": [
    "offer_event_by_cus.sort_values([\"portfolio_id\", \"event\"], ascending = [True, False])"
   ]
  },
  {
   "cell_type": "code",
   "execution_count": 849,
   "metadata": {},
   "outputs": [],
   "source": [
    "offer_event_by_cus_wo_trans = offer_event_by_cus[offer_event_by_cus[\"event\"] != \"transaction\"]"
   ]
  },
  {
   "cell_type": "code",
   "execution_count": 850,
   "metadata": {},
   "outputs": [],
   "source": [
    "# offer_event_by_cus_wo_trans[\"event\"] = pd.Categorical(offer_event_by_cus_wo_trans[\"event\"], [\"offer received\", \"offer viewed\", \"offer completed\"])"
   ]
  },
  {
   "cell_type": "code",
   "execution_count": 851,
   "metadata": {},
   "outputs": [
    {
     "data": {
      "text/html": [
       "<div>\n",
       "<style scoped>\n",
       "    .dataframe tbody tr th:only-of-type {\n",
       "        vertical-align: middle;\n",
       "    }\n",
       "\n",
       "    .dataframe tbody tr th {\n",
       "        vertical-align: top;\n",
       "    }\n",
       "\n",
       "    .dataframe thead th {\n",
       "        text-align: right;\n",
       "    }\n",
       "</style>\n",
       "<table border=\"1\" class=\"dataframe\">\n",
       "  <thead>\n",
       "    <tr style=\"text-align: right;\">\n",
       "      <th></th>\n",
       "      <th>portfolio_id</th>\n",
       "      <th>event</th>\n",
       "      <th>cus_num</th>\n",
       "    </tr>\n",
       "  </thead>\n",
       "  <tbody>\n",
       "    <tr>\n",
       "      <th>1</th>\n",
       "      <td>0b1e1539f2cc45b7b9fa7c272da2e1d7</td>\n",
       "      <td>offer completed</td>\n",
       "      <td>2978</td>\n",
       "    </tr>\n",
       "    <tr>\n",
       "      <th>2</th>\n",
       "      <td>0b1e1539f2cc45b7b9fa7c272da2e1d7</td>\n",
       "      <td>offer received</td>\n",
       "      <td>6374</td>\n",
       "    </tr>\n",
       "    <tr>\n",
       "      <th>3</th>\n",
       "      <td>0b1e1539f2cc45b7b9fa7c272da2e1d7</td>\n",
       "      <td>offer viewed</td>\n",
       "      <td>2400</td>\n",
       "    </tr>\n",
       "    <tr>\n",
       "      <th>4</th>\n",
       "      <td>2298d6c36e964ae4a3e7e9706d1fb8c2</td>\n",
       "      <td>offer completed</td>\n",
       "      <td>4421</td>\n",
       "    </tr>\n",
       "    <tr>\n",
       "      <th>5</th>\n",
       "      <td>2298d6c36e964ae4a3e7e9706d1fb8c2</td>\n",
       "      <td>offer received</td>\n",
       "      <td>6325</td>\n",
       "    </tr>\n",
       "    <tr>\n",
       "      <th>6</th>\n",
       "      <td>2298d6c36e964ae4a3e7e9706d1fb8c2</td>\n",
       "      <td>offer viewed</td>\n",
       "      <td>6122</td>\n",
       "    </tr>\n",
       "    <tr>\n",
       "      <th>7</th>\n",
       "      <td>2906b810c7d4411798c6938adc9daaa5</td>\n",
       "      <td>offer completed</td>\n",
       "      <td>3480</td>\n",
       "    </tr>\n",
       "    <tr>\n",
       "      <th>8</th>\n",
       "      <td>2906b810c7d4411798c6938adc9daaa5</td>\n",
       "      <td>offer received</td>\n",
       "      <td>6285</td>\n",
       "    </tr>\n",
       "    <tr>\n",
       "      <th>9</th>\n",
       "      <td>2906b810c7d4411798c6938adc9daaa5</td>\n",
       "      <td>offer viewed</td>\n",
       "      <td>3608</td>\n",
       "    </tr>\n",
       "    <tr>\n",
       "      <th>10</th>\n",
       "      <td>3f207df678b143eea3cee63160fa8bed</td>\n",
       "      <td>offer received</td>\n",
       "      <td>6331</td>\n",
       "    </tr>\n",
       "    <tr>\n",
       "      <th>11</th>\n",
       "      <td>3f207df678b143eea3cee63160fa8bed</td>\n",
       "      <td>offer viewed</td>\n",
       "      <td>3635</td>\n",
       "    </tr>\n",
       "    <tr>\n",
       "      <th>12</th>\n",
       "      <td>4d5c57ea9a6940dd891ad53e9dbe8da0</td>\n",
       "      <td>offer completed</td>\n",
       "      <td>2885</td>\n",
       "    </tr>\n",
       "    <tr>\n",
       "      <th>13</th>\n",
       "      <td>4d5c57ea9a6940dd891ad53e9dbe8da0</td>\n",
       "      <td>offer received</td>\n",
       "      <td>6330</td>\n",
       "    </tr>\n",
       "    <tr>\n",
       "      <th>14</th>\n",
       "      <td>4d5c57ea9a6940dd891ad53e9dbe8da0</td>\n",
       "      <td>offer viewed</td>\n",
       "      <td>6132</td>\n",
       "    </tr>\n",
       "    <tr>\n",
       "      <th>15</th>\n",
       "      <td>5a8bc65990b245e5a138643cd4eb9837</td>\n",
       "      <td>offer received</td>\n",
       "      <td>6320</td>\n",
       "    </tr>\n",
       "    <tr>\n",
       "      <th>16</th>\n",
       "      <td>5a8bc65990b245e5a138643cd4eb9837</td>\n",
       "      <td>offer viewed</td>\n",
       "      <td>5674</td>\n",
       "    </tr>\n",
       "    <tr>\n",
       "      <th>17</th>\n",
       "      <td>9b98b8c7a33c4b65b9aebfe6a799e6d9</td>\n",
       "      <td>offer completed</td>\n",
       "      <td>3784</td>\n",
       "    </tr>\n",
       "    <tr>\n",
       "      <th>18</th>\n",
       "      <td>9b98b8c7a33c4b65b9aebfe6a799e6d9</td>\n",
       "      <td>offer received</td>\n",
       "      <td>6355</td>\n",
       "    </tr>\n",
       "    <tr>\n",
       "      <th>19</th>\n",
       "      <td>9b98b8c7a33c4b65b9aebfe6a799e6d9</td>\n",
       "      <td>offer viewed</td>\n",
       "      <td>3658</td>\n",
       "    </tr>\n",
       "    <tr>\n",
       "      <th>20</th>\n",
       "      <td>ae264e3637204a6fb9bb56bc8210ddfd</td>\n",
       "      <td>offer completed</td>\n",
       "      <td>3177</td>\n",
       "    </tr>\n",
       "    <tr>\n",
       "      <th>21</th>\n",
       "      <td>ae264e3637204a6fb9bb56bc8210ddfd</td>\n",
       "      <td>offer received</td>\n",
       "      <td>6374</td>\n",
       "    </tr>\n",
       "    <tr>\n",
       "      <th>22</th>\n",
       "      <td>ae264e3637204a6fb9bb56bc8210ddfd</td>\n",
       "      <td>offer viewed</td>\n",
       "      <td>5696</td>\n",
       "    </tr>\n",
       "    <tr>\n",
       "      <th>23</th>\n",
       "      <td>f19421c1d4aa40978ebb69ca19b0e20d</td>\n",
       "      <td>offer completed</td>\n",
       "      <td>3741</td>\n",
       "    </tr>\n",
       "    <tr>\n",
       "      <th>24</th>\n",
       "      <td>f19421c1d4aa40978ebb69ca19b0e20d</td>\n",
       "      <td>offer received</td>\n",
       "      <td>6262</td>\n",
       "    </tr>\n",
       "    <tr>\n",
       "      <th>25</th>\n",
       "      <td>f19421c1d4aa40978ebb69ca19b0e20d</td>\n",
       "      <td>offer viewed</td>\n",
       "      <td>6060</td>\n",
       "    </tr>\n",
       "    <tr>\n",
       "      <th>26</th>\n",
       "      <td>fafdcd668e3743c1bb461111dcafc2a4</td>\n",
       "      <td>offer completed</td>\n",
       "      <td>4530</td>\n",
       "    </tr>\n",
       "    <tr>\n",
       "      <th>27</th>\n",
       "      <td>fafdcd668e3743c1bb461111dcafc2a4</td>\n",
       "      <td>offer received</td>\n",
       "      <td>6332</td>\n",
       "    </tr>\n",
       "    <tr>\n",
       "      <th>28</th>\n",
       "      <td>fafdcd668e3743c1bb461111dcafc2a4</td>\n",
       "      <td>offer viewed</td>\n",
       "      <td>6150</td>\n",
       "    </tr>\n",
       "  </tbody>\n",
       "</table>\n",
       "</div>"
      ],
      "text/plain": [
       "                        portfolio_id            event  cus_num\n",
       "1   0b1e1539f2cc45b7b9fa7c272da2e1d7  offer completed     2978\n",
       "2   0b1e1539f2cc45b7b9fa7c272da2e1d7   offer received     6374\n",
       "3   0b1e1539f2cc45b7b9fa7c272da2e1d7     offer viewed     2400\n",
       "4   2298d6c36e964ae4a3e7e9706d1fb8c2  offer completed     4421\n",
       "5   2298d6c36e964ae4a3e7e9706d1fb8c2   offer received     6325\n",
       "6   2298d6c36e964ae4a3e7e9706d1fb8c2     offer viewed     6122\n",
       "7   2906b810c7d4411798c6938adc9daaa5  offer completed     3480\n",
       "8   2906b810c7d4411798c6938adc9daaa5   offer received     6285\n",
       "9   2906b810c7d4411798c6938adc9daaa5     offer viewed     3608\n",
       "10  3f207df678b143eea3cee63160fa8bed   offer received     6331\n",
       "11  3f207df678b143eea3cee63160fa8bed     offer viewed     3635\n",
       "12  4d5c57ea9a6940dd891ad53e9dbe8da0  offer completed     2885\n",
       "13  4d5c57ea9a6940dd891ad53e9dbe8da0   offer received     6330\n",
       "14  4d5c57ea9a6940dd891ad53e9dbe8da0     offer viewed     6132\n",
       "15  5a8bc65990b245e5a138643cd4eb9837   offer received     6320\n",
       "16  5a8bc65990b245e5a138643cd4eb9837     offer viewed     5674\n",
       "17  9b98b8c7a33c4b65b9aebfe6a799e6d9  offer completed     3784\n",
       "18  9b98b8c7a33c4b65b9aebfe6a799e6d9   offer received     6355\n",
       "19  9b98b8c7a33c4b65b9aebfe6a799e6d9     offer viewed     3658\n",
       "20  ae264e3637204a6fb9bb56bc8210ddfd  offer completed     3177\n",
       "21  ae264e3637204a6fb9bb56bc8210ddfd   offer received     6374\n",
       "22  ae264e3637204a6fb9bb56bc8210ddfd     offer viewed     5696\n",
       "23  f19421c1d4aa40978ebb69ca19b0e20d  offer completed     3741\n",
       "24  f19421c1d4aa40978ebb69ca19b0e20d   offer received     6262\n",
       "25  f19421c1d4aa40978ebb69ca19b0e20d     offer viewed     6060\n",
       "26  fafdcd668e3743c1bb461111dcafc2a4  offer completed     4530\n",
       "27  fafdcd668e3743c1bb461111dcafc2a4   offer received     6332\n",
       "28  fafdcd668e3743c1bb461111dcafc2a4     offer viewed     6150"
      ]
     },
     "execution_count": 851,
     "metadata": {},
     "output_type": "execute_result"
    }
   ],
   "source": [
    "offer_event_by_cus_wo_trans.sort_values([\"portfolio_id\", \"event\"])"
   ]
  },
  {
   "cell_type": "code",
   "execution_count": 852,
   "metadata": {},
   "outputs": [],
   "source": [
    "event_x_cus_pivot = offer_event_by_cus_wo_trans.pivot(index = \"portfolio_id\", columns = \"event\", values = \"cus_num\")"
   ]
  },
  {
   "cell_type": "code",
   "execution_count": 853,
   "metadata": {},
   "outputs": [],
   "source": [
    "new_cols = [\"offer received\", \"offer viewed\", \"offer completed\"]"
   ]
  },
  {
   "cell_type": "code",
   "execution_count": 854,
   "metadata": {},
   "outputs": [],
   "source": [
    "event_x_cus_pivot = event_x_cus_pivot[new_cols]"
   ]
  },
  {
   "cell_type": "code",
   "execution_count": 855,
   "metadata": {},
   "outputs": [
    {
     "data": {
      "text/plain": [
       "Index(['offer received', 'offer viewed', 'offer completed'], dtype='object', name='event')"
      ]
     },
     "execution_count": 855,
     "metadata": {},
     "output_type": "execute_result"
    }
   ],
   "source": [
    "event_x_cus_pivot.columns"
   ]
  },
  {
   "cell_type": "code",
   "execution_count": 856,
   "metadata": {},
   "outputs": [],
   "source": [
    "event_x_cus_pivot[\"offer completed\"] = event_x_cus_pivot[\"offer completed\"].fillna(0)"
   ]
  },
  {
   "cell_type": "code",
   "execution_count": 857,
   "metadata": {},
   "outputs": [],
   "source": [
    "event_x_cus_pivot[\"offer_completed_before_viewed\"] = (event_x_cus_pivot[\"offer completed\"] - event_x_cus_pivot[\"offer viewed\"]).values"
   ]
  },
  {
   "cell_type": "code",
   "execution_count": 858,
   "metadata": {
    "scrolled": true
   },
   "outputs": [
    {
     "data": {
      "text/html": [
       "<div>\n",
       "<style scoped>\n",
       "    .dataframe tbody tr th:only-of-type {\n",
       "        vertical-align: middle;\n",
       "    }\n",
       "\n",
       "    .dataframe tbody tr th {\n",
       "        vertical-align: top;\n",
       "    }\n",
       "\n",
       "    .dataframe thead th {\n",
       "        text-align: right;\n",
       "    }\n",
       "</style>\n",
       "<table border=\"1\" class=\"dataframe\">\n",
       "  <thead>\n",
       "    <tr style=\"text-align: right;\">\n",
       "      <th>event</th>\n",
       "      <th>offer received</th>\n",
       "      <th>offer viewed</th>\n",
       "      <th>offer completed</th>\n",
       "      <th>offer_completed_before_viewed</th>\n",
       "    </tr>\n",
       "    <tr>\n",
       "      <th>portfolio_id</th>\n",
       "      <th></th>\n",
       "      <th></th>\n",
       "      <th></th>\n",
       "      <th></th>\n",
       "    </tr>\n",
       "  </thead>\n",
       "  <tbody>\n",
       "    <tr>\n",
       "      <th>0b1e1539f2cc45b7b9fa7c272da2e1d7</th>\n",
       "      <td>6374.0</td>\n",
       "      <td>2400.0</td>\n",
       "      <td>2978.0</td>\n",
       "      <td>578.0</td>\n",
       "    </tr>\n",
       "    <tr>\n",
       "      <th>2298d6c36e964ae4a3e7e9706d1fb8c2</th>\n",
       "      <td>6325.0</td>\n",
       "      <td>6122.0</td>\n",
       "      <td>4421.0</td>\n",
       "      <td>-1701.0</td>\n",
       "    </tr>\n",
       "    <tr>\n",
       "      <th>2906b810c7d4411798c6938adc9daaa5</th>\n",
       "      <td>6285.0</td>\n",
       "      <td>3608.0</td>\n",
       "      <td>3480.0</td>\n",
       "      <td>-128.0</td>\n",
       "    </tr>\n",
       "    <tr>\n",
       "      <th>3f207df678b143eea3cee63160fa8bed</th>\n",
       "      <td>6331.0</td>\n",
       "      <td>3635.0</td>\n",
       "      <td>0.0</td>\n",
       "      <td>-3635.0</td>\n",
       "    </tr>\n",
       "    <tr>\n",
       "      <th>4d5c57ea9a6940dd891ad53e9dbe8da0</th>\n",
       "      <td>6330.0</td>\n",
       "      <td>6132.0</td>\n",
       "      <td>2885.0</td>\n",
       "      <td>-3247.0</td>\n",
       "    </tr>\n",
       "  </tbody>\n",
       "</table>\n",
       "</div>"
      ],
      "text/plain": [
       "event                             offer received  offer viewed  \\\n",
       "portfolio_id                                                     \n",
       "0b1e1539f2cc45b7b9fa7c272da2e1d7          6374.0        2400.0   \n",
       "2298d6c36e964ae4a3e7e9706d1fb8c2          6325.0        6122.0   \n",
       "2906b810c7d4411798c6938adc9daaa5          6285.0        3608.0   \n",
       "3f207df678b143eea3cee63160fa8bed          6331.0        3635.0   \n",
       "4d5c57ea9a6940dd891ad53e9dbe8da0          6330.0        6132.0   \n",
       "\n",
       "event                             offer completed  \\\n",
       "portfolio_id                                        \n",
       "0b1e1539f2cc45b7b9fa7c272da2e1d7           2978.0   \n",
       "2298d6c36e964ae4a3e7e9706d1fb8c2           4421.0   \n",
       "2906b810c7d4411798c6938adc9daaa5           3480.0   \n",
       "3f207df678b143eea3cee63160fa8bed              0.0   \n",
       "4d5c57ea9a6940dd891ad53e9dbe8da0           2885.0   \n",
       "\n",
       "event                             offer_completed_before_viewed  \n",
       "portfolio_id                                                     \n",
       "0b1e1539f2cc45b7b9fa7c272da2e1d7                          578.0  \n",
       "2298d6c36e964ae4a3e7e9706d1fb8c2                        -1701.0  \n",
       "2906b810c7d4411798c6938adc9daaa5                         -128.0  \n",
       "3f207df678b143eea3cee63160fa8bed                        -3635.0  \n",
       "4d5c57ea9a6940dd891ad53e9dbe8da0                        -3247.0  "
      ]
     },
     "execution_count": 858,
     "metadata": {},
     "output_type": "execute_result"
    }
   ],
   "source": [
    "event_x_cus_pivot.head()"
   ]
  },
  {
   "cell_type": "code",
   "execution_count": 859,
   "metadata": {},
   "outputs": [],
   "source": [
    "event_x_cus_pivot.loc[event_x_cus_pivot[\"offer_completed_before_viewed\"] < 0, \"offer_completed_before_viewed\"] = 0"
   ]
  },
  {
   "cell_type": "code",
   "execution_count": 860,
   "metadata": {},
   "outputs": [
    {
     "data": {
      "text/html": [
       "<div>\n",
       "<style scoped>\n",
       "    .dataframe tbody tr th:only-of-type {\n",
       "        vertical-align: middle;\n",
       "    }\n",
       "\n",
       "    .dataframe tbody tr th {\n",
       "        vertical-align: top;\n",
       "    }\n",
       "\n",
       "    .dataframe thead th {\n",
       "        text-align: right;\n",
       "    }\n",
       "</style>\n",
       "<table border=\"1\" class=\"dataframe\">\n",
       "  <thead>\n",
       "    <tr style=\"text-align: right;\">\n",
       "      <th>event</th>\n",
       "      <th>offer received</th>\n",
       "      <th>offer viewed</th>\n",
       "      <th>offer completed</th>\n",
       "      <th>offer_completed_before_viewed</th>\n",
       "    </tr>\n",
       "    <tr>\n",
       "      <th>portfolio_id</th>\n",
       "      <th></th>\n",
       "      <th></th>\n",
       "      <th></th>\n",
       "      <th></th>\n",
       "    </tr>\n",
       "  </thead>\n",
       "  <tbody>\n",
       "    <tr>\n",
       "      <th>0b1e1539f2cc45b7b9fa7c272da2e1d7</th>\n",
       "      <td>6374.0</td>\n",
       "      <td>2400.0</td>\n",
       "      <td>2978.0</td>\n",
       "      <td>578.0</td>\n",
       "    </tr>\n",
       "    <tr>\n",
       "      <th>2298d6c36e964ae4a3e7e9706d1fb8c2</th>\n",
       "      <td>6325.0</td>\n",
       "      <td>6122.0</td>\n",
       "      <td>4421.0</td>\n",
       "      <td>0.0</td>\n",
       "    </tr>\n",
       "    <tr>\n",
       "      <th>2906b810c7d4411798c6938adc9daaa5</th>\n",
       "      <td>6285.0</td>\n",
       "      <td>3608.0</td>\n",
       "      <td>3480.0</td>\n",
       "      <td>0.0</td>\n",
       "    </tr>\n",
       "    <tr>\n",
       "      <th>3f207df678b143eea3cee63160fa8bed</th>\n",
       "      <td>6331.0</td>\n",
       "      <td>3635.0</td>\n",
       "      <td>0.0</td>\n",
       "      <td>0.0</td>\n",
       "    </tr>\n",
       "    <tr>\n",
       "      <th>4d5c57ea9a6940dd891ad53e9dbe8da0</th>\n",
       "      <td>6330.0</td>\n",
       "      <td>6132.0</td>\n",
       "      <td>2885.0</td>\n",
       "      <td>0.0</td>\n",
       "    </tr>\n",
       "    <tr>\n",
       "      <th>5a8bc65990b245e5a138643cd4eb9837</th>\n",
       "      <td>6320.0</td>\n",
       "      <td>5674.0</td>\n",
       "      <td>0.0</td>\n",
       "      <td>0.0</td>\n",
       "    </tr>\n",
       "    <tr>\n",
       "      <th>9b98b8c7a33c4b65b9aebfe6a799e6d9</th>\n",
       "      <td>6355.0</td>\n",
       "      <td>3658.0</td>\n",
       "      <td>3784.0</td>\n",
       "      <td>126.0</td>\n",
       "    </tr>\n",
       "    <tr>\n",
       "      <th>ae264e3637204a6fb9bb56bc8210ddfd</th>\n",
       "      <td>6374.0</td>\n",
       "      <td>5696.0</td>\n",
       "      <td>3177.0</td>\n",
       "      <td>0.0</td>\n",
       "    </tr>\n",
       "    <tr>\n",
       "      <th>f19421c1d4aa40978ebb69ca19b0e20d</th>\n",
       "      <td>6262.0</td>\n",
       "      <td>6060.0</td>\n",
       "      <td>3741.0</td>\n",
       "      <td>0.0</td>\n",
       "    </tr>\n",
       "    <tr>\n",
       "      <th>fafdcd668e3743c1bb461111dcafc2a4</th>\n",
       "      <td>6332.0</td>\n",
       "      <td>6150.0</td>\n",
       "      <td>4530.0</td>\n",
       "      <td>0.0</td>\n",
       "    </tr>\n",
       "  </tbody>\n",
       "</table>\n",
       "</div>"
      ],
      "text/plain": [
       "event                             offer received  offer viewed  \\\n",
       "portfolio_id                                                     \n",
       "0b1e1539f2cc45b7b9fa7c272da2e1d7          6374.0        2400.0   \n",
       "2298d6c36e964ae4a3e7e9706d1fb8c2          6325.0        6122.0   \n",
       "2906b810c7d4411798c6938adc9daaa5          6285.0        3608.0   \n",
       "3f207df678b143eea3cee63160fa8bed          6331.0        3635.0   \n",
       "4d5c57ea9a6940dd891ad53e9dbe8da0          6330.0        6132.0   \n",
       "5a8bc65990b245e5a138643cd4eb9837          6320.0        5674.0   \n",
       "9b98b8c7a33c4b65b9aebfe6a799e6d9          6355.0        3658.0   \n",
       "ae264e3637204a6fb9bb56bc8210ddfd          6374.0        5696.0   \n",
       "f19421c1d4aa40978ebb69ca19b0e20d          6262.0        6060.0   \n",
       "fafdcd668e3743c1bb461111dcafc2a4          6332.0        6150.0   \n",
       "\n",
       "event                             offer completed  \\\n",
       "portfolio_id                                        \n",
       "0b1e1539f2cc45b7b9fa7c272da2e1d7           2978.0   \n",
       "2298d6c36e964ae4a3e7e9706d1fb8c2           4421.0   \n",
       "2906b810c7d4411798c6938adc9daaa5           3480.0   \n",
       "3f207df678b143eea3cee63160fa8bed              0.0   \n",
       "4d5c57ea9a6940dd891ad53e9dbe8da0           2885.0   \n",
       "5a8bc65990b245e5a138643cd4eb9837              0.0   \n",
       "9b98b8c7a33c4b65b9aebfe6a799e6d9           3784.0   \n",
       "ae264e3637204a6fb9bb56bc8210ddfd           3177.0   \n",
       "f19421c1d4aa40978ebb69ca19b0e20d           3741.0   \n",
       "fafdcd668e3743c1bb461111dcafc2a4           4530.0   \n",
       "\n",
       "event                             offer_completed_before_viewed  \n",
       "portfolio_id                                                     \n",
       "0b1e1539f2cc45b7b9fa7c272da2e1d7                          578.0  \n",
       "2298d6c36e964ae4a3e7e9706d1fb8c2                            0.0  \n",
       "2906b810c7d4411798c6938adc9daaa5                            0.0  \n",
       "3f207df678b143eea3cee63160fa8bed                            0.0  \n",
       "4d5c57ea9a6940dd891ad53e9dbe8da0                            0.0  \n",
       "5a8bc65990b245e5a138643cd4eb9837                            0.0  \n",
       "9b98b8c7a33c4b65b9aebfe6a799e6d9                          126.0  \n",
       "ae264e3637204a6fb9bb56bc8210ddfd                            0.0  \n",
       "f19421c1d4aa40978ebb69ca19b0e20d                            0.0  \n",
       "fafdcd668e3743c1bb461111dcafc2a4                            0.0  "
      ]
     },
     "execution_count": 860,
     "metadata": {},
     "output_type": "execute_result"
    }
   ],
   "source": [
    "event_x_cus_pivot"
   ]
  },
  {
   "cell_type": "code",
   "execution_count": 861,
   "metadata": {},
   "outputs": [],
   "source": [
    "event_x_cus_pivot[\"ctr_received_2_viewed\"] = event_x_cus_pivot[\"offer viewed\"]/event_x_cus_pivot[\"offer received\"]"
   ]
  },
  {
   "cell_type": "code",
   "execution_count": 862,
   "metadata": {},
   "outputs": [],
   "source": [
    "event_x_cus_pivot[\"ctr_viewed_2_completed\"] = event_x_cus_pivot[\"offer completed\"]/event_x_cus_pivot[\"offer viewed\"]"
   ]
  },
  {
   "cell_type": "code",
   "execution_count": 863,
   "metadata": {},
   "outputs": [],
   "source": [
    "event_x_cus_pivot[\"ctr_received_2_completed\"] = event_x_cus_pivot[\"offer completed\"]/event_x_cus_pivot[\"offer received\"]"
   ]
  },
  {
   "cell_type": "code",
   "execution_count": 864,
   "metadata": {},
   "outputs": [],
   "source": [
    "# event_x_cus_pivot = event_x_cus_pivot[[\"offer received\", \"offer viewed\", \"offer completed\", \"offer_completed_before_viewed\", \"ctr_received_2_viewed\", \"ctr_viewed_2_completed\", \"ctr_received_2_completed\"]]"
   ]
  },
  {
   "cell_type": "code",
   "execution_count": 865,
   "metadata": {
    "scrolled": true
   },
   "outputs": [],
   "source": [
    "event_x_cus_pivot = event_x_cus_pivot.sort_values(by=[\"ctr_received_2_completed\", \"ctr_viewed_2_completed\"], ascending = [False, False])"
   ]
  },
  {
   "cell_type": "code",
   "execution_count": 866,
   "metadata": {},
   "outputs": [
    {
     "data": {
      "text/html": [
       "<div>\n",
       "<style scoped>\n",
       "    .dataframe tbody tr th:only-of-type {\n",
       "        vertical-align: middle;\n",
       "    }\n",
       "\n",
       "    .dataframe tbody tr th {\n",
       "        vertical-align: top;\n",
       "    }\n",
       "\n",
       "    .dataframe thead th {\n",
       "        text-align: right;\n",
       "    }\n",
       "</style>\n",
       "<table border=\"1\" class=\"dataframe\">\n",
       "  <thead>\n",
       "    <tr style=\"text-align: right;\">\n",
       "      <th>event</th>\n",
       "      <th>offer received</th>\n",
       "      <th>offer viewed</th>\n",
       "      <th>offer completed</th>\n",
       "      <th>offer_completed_before_viewed</th>\n",
       "      <th>ctr_received_2_viewed</th>\n",
       "      <th>ctr_viewed_2_completed</th>\n",
       "      <th>ctr_received_2_completed</th>\n",
       "    </tr>\n",
       "    <tr>\n",
       "      <th>portfolio_id</th>\n",
       "      <th></th>\n",
       "      <th></th>\n",
       "      <th></th>\n",
       "      <th></th>\n",
       "      <th></th>\n",
       "      <th></th>\n",
       "      <th></th>\n",
       "    </tr>\n",
       "  </thead>\n",
       "  <tbody>\n",
       "    <tr>\n",
       "      <th>fafdcd668e3743c1bb461111dcafc2a4</th>\n",
       "      <td>6332.0</td>\n",
       "      <td>6150.0</td>\n",
       "      <td>4530.0</td>\n",
       "      <td>0.0</td>\n",
       "      <td>0.971257</td>\n",
       "      <td>0.736585</td>\n",
       "      <td>0.715414</td>\n",
       "    </tr>\n",
       "    <tr>\n",
       "      <th>2298d6c36e964ae4a3e7e9706d1fb8c2</th>\n",
       "      <td>6325.0</td>\n",
       "      <td>6122.0</td>\n",
       "      <td>4421.0</td>\n",
       "      <td>0.0</td>\n",
       "      <td>0.967905</td>\n",
       "      <td>0.722150</td>\n",
       "      <td>0.698972</td>\n",
       "    </tr>\n",
       "    <tr>\n",
       "      <th>f19421c1d4aa40978ebb69ca19b0e20d</th>\n",
       "      <td>6262.0</td>\n",
       "      <td>6060.0</td>\n",
       "      <td>3741.0</td>\n",
       "      <td>0.0</td>\n",
       "      <td>0.967742</td>\n",
       "      <td>0.617327</td>\n",
       "      <td>0.597413</td>\n",
       "    </tr>\n",
       "  </tbody>\n",
       "</table>\n",
       "</div>"
      ],
      "text/plain": [
       "event                             offer received  offer viewed  \\\n",
       "portfolio_id                                                     \n",
       "fafdcd668e3743c1bb461111dcafc2a4          6332.0        6150.0   \n",
       "2298d6c36e964ae4a3e7e9706d1fb8c2          6325.0        6122.0   \n",
       "f19421c1d4aa40978ebb69ca19b0e20d          6262.0        6060.0   \n",
       "\n",
       "event                             offer completed  \\\n",
       "portfolio_id                                        \n",
       "fafdcd668e3743c1bb461111dcafc2a4           4530.0   \n",
       "2298d6c36e964ae4a3e7e9706d1fb8c2           4421.0   \n",
       "f19421c1d4aa40978ebb69ca19b0e20d           3741.0   \n",
       "\n",
       "event                             offer_completed_before_viewed  \\\n",
       "portfolio_id                                                      \n",
       "fafdcd668e3743c1bb461111dcafc2a4                            0.0   \n",
       "2298d6c36e964ae4a3e7e9706d1fb8c2                            0.0   \n",
       "f19421c1d4aa40978ebb69ca19b0e20d                            0.0   \n",
       "\n",
       "event                             ctr_received_2_viewed  \\\n",
       "portfolio_id                                              \n",
       "fafdcd668e3743c1bb461111dcafc2a4               0.971257   \n",
       "2298d6c36e964ae4a3e7e9706d1fb8c2               0.967905   \n",
       "f19421c1d4aa40978ebb69ca19b0e20d               0.967742   \n",
       "\n",
       "event                             ctr_viewed_2_completed  \\\n",
       "portfolio_id                                               \n",
       "fafdcd668e3743c1bb461111dcafc2a4                0.736585   \n",
       "2298d6c36e964ae4a3e7e9706d1fb8c2                0.722150   \n",
       "f19421c1d4aa40978ebb69ca19b0e20d                0.617327   \n",
       "\n",
       "event                             ctr_received_2_completed  \n",
       "portfolio_id                                                \n",
       "fafdcd668e3743c1bb461111dcafc2a4                  0.715414  \n",
       "2298d6c36e964ae4a3e7e9706d1fb8c2                  0.698972  \n",
       "f19421c1d4aa40978ebb69ca19b0e20d                  0.597413  "
      ]
     },
     "execution_count": 866,
     "metadata": {},
     "output_type": "execute_result"
    }
   ],
   "source": [
    "event_x_cus_pivot.head(3)"
   ]
  },
  {
   "cell_type": "code",
   "execution_count": 867,
   "metadata": {},
   "outputs": [],
   "source": [
    "top_ctr_rate_offers = event_x_cus_pivot.index[:3].values"
   ]
  },
  {
   "cell_type": "code",
   "execution_count": 868,
   "metadata": {},
   "outputs": [
    {
     "data": {
      "text/html": [
       "<div>\n",
       "<style scoped>\n",
       "    .dataframe tbody tr th:only-of-type {\n",
       "        vertical-align: middle;\n",
       "    }\n",
       "\n",
       "    .dataframe tbody tr th {\n",
       "        vertical-align: top;\n",
       "    }\n",
       "\n",
       "    .dataframe thead th {\n",
       "        text-align: right;\n",
       "    }\n",
       "</style>\n",
       "<table border=\"1\" class=\"dataframe\">\n",
       "  <thead>\n",
       "    <tr style=\"text-align: right;\">\n",
       "      <th></th>\n",
       "      <th>difficulty</th>\n",
       "      <th>duration</th>\n",
       "      <th>portfolio_id</th>\n",
       "      <th>offer_type</th>\n",
       "      <th>reward</th>\n",
       "      <th>channel_web</th>\n",
       "      <th>channel_email</th>\n",
       "      <th>channel_mobile</th>\n",
       "      <th>channel_social</th>\n",
       "    </tr>\n",
       "  </thead>\n",
       "  <tbody>\n",
       "    <tr>\n",
       "      <th>5</th>\n",
       "      <td>7</td>\n",
       "      <td>7</td>\n",
       "      <td>2298d6c36e964ae4a3e7e9706d1fb8c2</td>\n",
       "      <td>discount</td>\n",
       "      <td>3</td>\n",
       "      <td>1</td>\n",
       "      <td>1</td>\n",
       "      <td>1</td>\n",
       "      <td>1</td>\n",
       "    </tr>\n",
       "    <tr>\n",
       "      <th>6</th>\n",
       "      <td>10</td>\n",
       "      <td>10</td>\n",
       "      <td>fafdcd668e3743c1bb461111dcafc2a4</td>\n",
       "      <td>discount</td>\n",
       "      <td>2</td>\n",
       "      <td>1</td>\n",
       "      <td>1</td>\n",
       "      <td>1</td>\n",
       "      <td>1</td>\n",
       "    </tr>\n",
       "    <tr>\n",
       "      <th>8</th>\n",
       "      <td>5</td>\n",
       "      <td>5</td>\n",
       "      <td>f19421c1d4aa40978ebb69ca19b0e20d</td>\n",
       "      <td>bogo</td>\n",
       "      <td>5</td>\n",
       "      <td>1</td>\n",
       "      <td>1</td>\n",
       "      <td>1</td>\n",
       "      <td>1</td>\n",
       "    </tr>\n",
       "  </tbody>\n",
       "</table>\n",
       "</div>"
      ],
      "text/plain": [
       "   difficulty  duration                      portfolio_id offer_type  reward  \\\n",
       "5           7         7  2298d6c36e964ae4a3e7e9706d1fb8c2   discount       3   \n",
       "6          10        10  fafdcd668e3743c1bb461111dcafc2a4   discount       2   \n",
       "8           5         5  f19421c1d4aa40978ebb69ca19b0e20d       bogo       5   \n",
       "\n",
       "   channel_web  channel_email  channel_mobile  channel_social  \n",
       "5            1              1               1               1  \n",
       "6            1              1               1               1  \n",
       "8            1              1               1               1  "
      ]
     },
     "execution_count": 868,
     "metadata": {},
     "output_type": "execute_result"
    }
   ],
   "source": [
    "portfolio[portfolio[\"portfolio_id\"].isin(list(top_ctr_rate_offers))]"
   ]
  },
  {
   "cell_type": "markdown",
   "metadata": {},
   "source": [
    "The top 3 offers have great conversion rates overall. And 2 of them are discount offers. **Discount offers more popular?** "
   ]
  },
  {
   "cell_type": "code",
   "execution_count": 869,
   "metadata": {},
   "outputs": [],
   "source": [
    "con1 = (transcript[\"portfolio_id\"].isin([\"0b1e1539f2cc45b7b9fa7c272da2e1d7\", \"9b98b8c7a33c4b65b9aebfe6a799e6d9\"]))\n",
    "con2 = (transcript[\"event\"].isin([\"offer viewed\", \"offer completed\"]))"
   ]
  },
  {
   "cell_type": "code",
   "execution_count": 870,
   "metadata": {},
   "outputs": [],
   "source": [
    "completed_before_viewed_df1 = transcript.loc[con1 & con2]"
   ]
  },
  {
   "cell_type": "code",
   "execution_count": 871,
   "metadata": {
    "scrolled": true
   },
   "outputs": [
    {
     "name": "stderr",
     "output_type": "stream",
     "text": [
      "/opt/conda/lib/python3.6/site-packages/ipykernel_launcher.py:1: SettingWithCopyWarning: \n",
      "A value is trying to be set on a copy of a slice from a DataFrame.\n",
      "Try using .loc[row_indexer,col_indexer] = value instead\n",
      "\n",
      "See the caveats in the documentation: http://pandas.pydata.org/pandas-docs/stable/indexing.html#indexing-view-versus-copy\n",
      "  \"\"\"Entry point for launching an IPython kernel.\n",
      "/opt/conda/lib/python3.6/site-packages/ipykernel_launcher.py:2: SettingWithCopyWarning: \n",
      "A value is trying to be set on a copy of a slice from a DataFrame.\n",
      "Try using .loc[row_indexer,col_indexer] = value instead\n",
      "\n",
      "See the caveats in the documentation: http://pandas.pydata.org/pandas-docs/stable/indexing.html#indexing-view-versus-copy\n",
      "  \n"
     ]
    }
   ],
   "source": [
    "completed_before_viewed_df1[\"offer_completed\"] = (completed_before_viewed_df1[\"event\"] == 'offer completed').astype(int)\n",
    "completed_before_viewed_df1[\"offer_viewed\"] = (completed_before_viewed_df1[\"event\"] == 'offer viewed').astype(int)"
   ]
  },
  {
   "cell_type": "code",
   "execution_count": 872,
   "metadata": {},
   "outputs": [],
   "source": [
    "completed_before_viewed_df1_agg = completed_before_viewed_df1.groupby([\"portfolio_id\", \"customer_id\"]).agg({\"offer_viewed\":sum, \"offer_completed\":sum}).reset_index()"
   ]
  },
  {
   "cell_type": "code",
   "execution_count": 873,
   "metadata": {
    "scrolled": false
   },
   "outputs": [
    {
     "data": {
      "text/html": [
       "<div>\n",
       "<style scoped>\n",
       "    .dataframe tbody tr th:only-of-type {\n",
       "        vertical-align: middle;\n",
       "    }\n",
       "\n",
       "    .dataframe tbody tr th {\n",
       "        vertical-align: top;\n",
       "    }\n",
       "\n",
       "    .dataframe thead th {\n",
       "        text-align: right;\n",
       "    }\n",
       "</style>\n",
       "<table border=\"1\" class=\"dataframe\">\n",
       "  <thead>\n",
       "    <tr style=\"text-align: right;\">\n",
       "      <th></th>\n",
       "      <th>portfolio_id</th>\n",
       "      <th>customer_id</th>\n",
       "      <th>offer_viewed</th>\n",
       "      <th>offer_completed</th>\n",
       "    </tr>\n",
       "  </thead>\n",
       "  <tbody>\n",
       "    <tr>\n",
       "      <th>0</th>\n",
       "      <td>0b1e1539f2cc45b7b9fa7c272da2e1d7</td>\n",
       "      <td>0011e0d4e6b944f998e987f904e8c1e5</td>\n",
       "      <td>1</td>\n",
       "      <td>1</td>\n",
       "    </tr>\n",
       "    <tr>\n",
       "      <th>1</th>\n",
       "      <td>0b1e1539f2cc45b7b9fa7c272da2e1d7</td>\n",
       "      <td>003d66b6608740288d6cc97a6903f4f0</td>\n",
       "      <td>0</td>\n",
       "      <td>1</td>\n",
       "    </tr>\n",
       "    <tr>\n",
       "      <th>2</th>\n",
       "      <td>0b1e1539f2cc45b7b9fa7c272da2e1d7</td>\n",
       "      <td>0056df74b63b4298809f0b375a304cf4</td>\n",
       "      <td>0</td>\n",
       "      <td>1</td>\n",
       "    </tr>\n",
       "    <tr>\n",
       "      <th>3</th>\n",
       "      <td>0b1e1539f2cc45b7b9fa7c272da2e1d7</td>\n",
       "      <td>0063def0f9c14bc4805322a488839b32</td>\n",
       "      <td>1</td>\n",
       "      <td>0</td>\n",
       "    </tr>\n",
       "    <tr>\n",
       "      <th>4</th>\n",
       "      <td>0b1e1539f2cc45b7b9fa7c272da2e1d7</td>\n",
       "      <td>00715b6e55c3431cb56ff7307eb19675</td>\n",
       "      <td>1</td>\n",
       "      <td>2</td>\n",
       "    </tr>\n",
       "  </tbody>\n",
       "</table>\n",
       "</div>"
      ],
      "text/plain": [
       "                       portfolio_id                       customer_id  \\\n",
       "0  0b1e1539f2cc45b7b9fa7c272da2e1d7  0011e0d4e6b944f998e987f904e8c1e5   \n",
       "1  0b1e1539f2cc45b7b9fa7c272da2e1d7  003d66b6608740288d6cc97a6903f4f0   \n",
       "2  0b1e1539f2cc45b7b9fa7c272da2e1d7  0056df74b63b4298809f0b375a304cf4   \n",
       "3  0b1e1539f2cc45b7b9fa7c272da2e1d7  0063def0f9c14bc4805322a488839b32   \n",
       "4  0b1e1539f2cc45b7b9fa7c272da2e1d7  00715b6e55c3431cb56ff7307eb19675   \n",
       "\n",
       "   offer_viewed  offer_completed  \n",
       "0             1                1  \n",
       "1             0                1  \n",
       "2             0                1  \n",
       "3             1                0  \n",
       "4             1                2  "
      ]
     },
     "execution_count": 873,
     "metadata": {},
     "output_type": "execute_result"
    }
   ],
   "source": [
    "completed_before_viewed_df1_agg.head()"
   ]
  },
  {
   "cell_type": "code",
   "execution_count": 874,
   "metadata": {},
   "outputs": [],
   "source": [
    "con3 = (completed_before_viewed_df1_agg[\"offer_completed\"]>completed_before_viewed_df1_agg[\"offer_viewed\"])\n",
    "con4 = [\"portfolio_id\", \"customer_id\"]"
   ]
  },
  {
   "cell_type": "code",
   "execution_count": 875,
   "metadata": {},
   "outputs": [
    {
     "data": {
      "text/plain": [
       "1667"
      ]
     },
     "execution_count": 875,
     "metadata": {},
     "output_type": "execute_result"
    }
   ],
   "source": [
    "len(completed_before_viewed_df1_agg.loc[con3, con4].groupby(\"portfolio_id\")[\"customer_id\"].unique().values[0])"
   ]
  },
  {
   "cell_type": "code",
   "execution_count": 876,
   "metadata": {
    "scrolled": false
   },
   "outputs": [
    {
     "data": {
      "text/plain": [
       "1468"
      ]
     },
     "execution_count": 876,
     "metadata": {},
     "output_type": "execute_result"
    }
   ],
   "source": [
    "len(completed_before_viewed_df1_agg.loc[con3, con4].groupby(\"portfolio_id\")[\"customer_id\"].unique().values[1])"
   ]
  },
  {
   "cell_type": "markdown",
   "metadata": {},
   "source": [
    "The differences above don't match with the ones I got from the pivot table. Why?"
   ]
  },
  {
   "cell_type": "markdown",
   "metadata": {},
   "source": [
    "Some customers got the offers more than once. Did they take the offer everytime?"
   ]
  },
  {
   "cell_type": "code",
   "execution_count": 877,
   "metadata": {},
   "outputs": [],
   "source": [
    "cus_offer_matrix = transcript.groupby([\"customer_id\", \"portfolio_id\", \"event\"])[\"event\"].count().unstack().reset_index()"
   ]
  },
  {
   "cell_type": "code",
   "execution_count": 878,
   "metadata": {},
   "outputs": [],
   "source": [
    "cus_offer_matrix  = cus_offer_matrix.fillna(0)"
   ]
  },
  {
   "cell_type": "code",
   "execution_count": 879,
   "metadata": {},
   "outputs": [
    {
     "data": {
      "text/html": [
       "<div>\n",
       "<style scoped>\n",
       "    .dataframe tbody tr th:only-of-type {\n",
       "        vertical-align: middle;\n",
       "    }\n",
       "\n",
       "    .dataframe tbody tr th {\n",
       "        vertical-align: top;\n",
       "    }\n",
       "\n",
       "    .dataframe thead th {\n",
       "        text-align: right;\n",
       "    }\n",
       "</style>\n",
       "<table border=\"1\" class=\"dataframe\">\n",
       "  <thead>\n",
       "    <tr style=\"text-align: right;\">\n",
       "      <th>event</th>\n",
       "      <th>customer_id</th>\n",
       "      <th>portfolio_id</th>\n",
       "      <th>offer completed</th>\n",
       "      <th>offer received</th>\n",
       "      <th>offer viewed</th>\n",
       "      <th>transaction</th>\n",
       "    </tr>\n",
       "  </thead>\n",
       "  <tbody>\n",
       "    <tr>\n",
       "      <th>0</th>\n",
       "      <td>0009655768c64bdeb2e877511632db8f</td>\n",
       "      <td>0</td>\n",
       "      <td>0.0</td>\n",
       "      <td>0.0</td>\n",
       "      <td>0.0</td>\n",
       "      <td>8.0</td>\n",
       "    </tr>\n",
       "    <tr>\n",
       "      <th>1</th>\n",
       "      <td>0009655768c64bdeb2e877511632db8f</td>\n",
       "      <td>2906b810c7d4411798c6938adc9daaa5</td>\n",
       "      <td>1.0</td>\n",
       "      <td>1.0</td>\n",
       "      <td>0.0</td>\n",
       "      <td>0.0</td>\n",
       "    </tr>\n",
       "    <tr>\n",
       "      <th>2</th>\n",
       "      <td>0009655768c64bdeb2e877511632db8f</td>\n",
       "      <td>3f207df678b143eea3cee63160fa8bed</td>\n",
       "      <td>0.0</td>\n",
       "      <td>1.0</td>\n",
       "      <td>1.0</td>\n",
       "      <td>0.0</td>\n",
       "    </tr>\n",
       "    <tr>\n",
       "      <th>3</th>\n",
       "      <td>0009655768c64bdeb2e877511632db8f</td>\n",
       "      <td>5a8bc65990b245e5a138643cd4eb9837</td>\n",
       "      <td>0.0</td>\n",
       "      <td>1.0</td>\n",
       "      <td>1.0</td>\n",
       "      <td>0.0</td>\n",
       "    </tr>\n",
       "    <tr>\n",
       "      <th>4</th>\n",
       "      <td>0009655768c64bdeb2e877511632db8f</td>\n",
       "      <td>f19421c1d4aa40978ebb69ca19b0e20d</td>\n",
       "      <td>1.0</td>\n",
       "      <td>1.0</td>\n",
       "      <td>1.0</td>\n",
       "      <td>0.0</td>\n",
       "    </tr>\n",
       "  </tbody>\n",
       "</table>\n",
       "</div>"
      ],
      "text/plain": [
       "event                       customer_id                      portfolio_id  \\\n",
       "0      0009655768c64bdeb2e877511632db8f                                 0   \n",
       "1      0009655768c64bdeb2e877511632db8f  2906b810c7d4411798c6938adc9daaa5   \n",
       "2      0009655768c64bdeb2e877511632db8f  3f207df678b143eea3cee63160fa8bed   \n",
       "3      0009655768c64bdeb2e877511632db8f  5a8bc65990b245e5a138643cd4eb9837   \n",
       "4      0009655768c64bdeb2e877511632db8f  f19421c1d4aa40978ebb69ca19b0e20d   \n",
       "\n",
       "event  offer completed  offer received  offer viewed  transaction  \n",
       "0                  0.0             0.0           0.0          8.0  \n",
       "1                  1.0             1.0           0.0          0.0  \n",
       "2                  0.0             1.0           1.0          0.0  \n",
       "3                  0.0             1.0           1.0          0.0  \n",
       "4                  1.0             1.0           1.0          0.0  "
      ]
     },
     "execution_count": 879,
     "metadata": {},
     "output_type": "execute_result"
    }
   ],
   "source": [
    "cus_offer_matrix.head()"
   ]
  },
  {
   "cell_type": "code",
   "execution_count": 880,
   "metadata": {},
   "outputs": [
    {
     "data": {
      "text/plain": [
       "11718"
      ]
     },
     "execution_count": 880,
     "metadata": {},
     "output_type": "execute_result"
    }
   ],
   "source": [
    "cus_offer_matrix.loc[cus_offer_matrix[\"offer received\"] > 1, \\\n",
    "                     [\"customer_id\", \"portfolio_id\"]].drop_duplicates().count()[0]"
   ]
  },
  {
   "cell_type": "code",
   "execution_count": 881,
   "metadata": {
    "scrolled": true
   },
   "outputs": [
    {
     "data": {
      "text/plain": [
       "7686"
      ]
     },
     "execution_count": 881,
     "metadata": {},
     "output_type": "execute_result"
    }
   ],
   "source": [
    "cus_offer_matrix.loc[(cus_offer_matrix[\"offer received\"] > 1) \\\n",
    "                 & (cus_offer_matrix[\"offer completed\"] < cus_offer_matrix[\"offer received\"]), \\\n",
    "                     [\"customer_id\", \"portfolio_id\"]].drop_duplicates().count()[0]"
   ]
  },
  {
   "cell_type": "code",
   "execution_count": 882,
   "metadata": {
    "scrolled": true
   },
   "outputs": [
    {
     "name": "stdout",
     "output_type": "stream",
     "text": [
      "Within the customers who received an offer multiple times,65.59% of them complete all the offers\n"
     ]
    }
   ],
   "source": [
    "print(\"Within the customers who received an offer multiple times,{}% of \\\n",
    "them complete all the offers\".format(str(round((7686/11718)*100, 2))))"
   ]
  },
  {
   "cell_type": "code",
   "execution_count": 883,
   "metadata": {},
   "outputs": [],
   "source": [
    "cus_complete_all_offers = cus_offer_matrix.loc[(cus_offer_matrix[\"offer received\"] > 1) \\\n",
    "                 & (cus_offer_matrix[\"offer completed\"] == cus_offer_matrix[\"offer received\"]), \\\n",
    "                     [\"customer_id\", \"portfolio_id\"]].drop_duplicates()[\"customer_id\"].unique()"
   ]
  },
  {
   "cell_type": "code",
   "execution_count": 884,
   "metadata": {},
   "outputs": [],
   "source": [
    "cus_complete_all_offers = list(cus_complete_all_offers)"
   ]
  },
  {
   "cell_type": "code",
   "execution_count": 885,
   "metadata": {},
   "outputs": [
    {
     "data": {
      "text/plain": [
       "['0020c2b971eb4e9188eac86d93036a77',\n",
       " '003d66b6608740288d6cc97a6903f4f0',\n",
       " '004c5799adbf42868b9cff0396190900',\n",
       " '00715b6e55c3431cb56ff7307eb19675',\n",
       " '0082fd87c18f45f2be70dbcbb0fb8aad',\n",
       " '0091d2b6a5ea4defaa8393e4e816db60',\n",
       " '00ae03011f9f49b8a4b3e6d416678b0b',\n",
       " '00b18b535d6d4f779dea4dc9ac451478',\n",
       " '00bc42a62f884b41a13cc595856cf7c3',\n",
       " '00c91f31f5f74e769fa7a359b63e1a9f']"
      ]
     },
     "execution_count": 885,
     "metadata": {},
     "output_type": "execute_result"
    }
   ],
   "source": [
    "cus_complete_all_offers[:10]"
   ]
  },
  {
   "cell_type": "code",
   "execution_count": 886,
   "metadata": {
    "scrolled": true
   },
   "outputs": [
    {
     "data": {
      "text/plain": [
       "8.0276367501126344"
      ]
     },
     "execution_count": 886,
     "metadata": {},
     "output_type": "execute_result"
    }
   ],
   "source": [
    "transcript.loc[transcript[\"customer_id\"].isin(cus_complete_all_offers), \"amount\"].mean()"
   ]
  },
  {
   "cell_type": "code",
   "execution_count": 887,
   "metadata": {
    "scrolled": false
   },
   "outputs": [
    {
     "data": {
      "text/plain": [
       "4.9122641166335557"
      ]
     },
     "execution_count": 887,
     "metadata": {},
     "output_type": "execute_result"
    }
   ],
   "source": [
    "transcript.loc[~transcript[\"customer_id\"].isin(cus_complete_all_offers), \"amount\"].mean()"
   ]
  },
  {
   "cell_type": "markdown",
   "metadata": {},
   "source": [
    "The customers who finished all the offers spend 2 times as the customers didn't finish all the offers. But the 20% top customers are not the same as the customers who finish all the offers."
   ]
  },
  {
   "cell_type": "code",
   "execution_count": 888,
   "metadata": {
    "scrolled": true
   },
   "outputs": [
    {
     "data": {
      "text/plain": [
       "array([ 28.08,  13.57,  27.89, ...,  18.35,  25.14,   3.61])"
      ]
     },
     "execution_count": 888,
     "metadata": {},
     "output_type": "execute_result"
    }
   ],
   "source": [
    "transcript.loc[transcript[\"customer_id\"].isin(cus_complete_all_offers) \\\n",
    "               & transcript[\"amount\"] > 0\n",
    "               , \"amount\"].values"
   ]
  },
  {
   "cell_type": "code",
   "execution_count": 889,
   "metadata": {},
   "outputs": [],
   "source": [
    "diff_cus_type_trans = pd.DataFrame()"
   ]
  },
  {
   "cell_type": "code",
   "execution_count": 890,
   "metadata": {},
   "outputs": [],
   "source": [
    "diff_cus_type_trans = transcript.loc[(transcript[\"amount\"]> 0) & (transcript[\"amount\"] <= 10), [\"customer_id\", \"amount\"]]"
   ]
  },
  {
   "cell_type": "code",
   "execution_count": 891,
   "metadata": {},
   "outputs": [],
   "source": [
    "diff_cus_type_trans[\"freq_cus_yn\"] = transcript[\"customer_id\"].isin(cus_complete_all_offers)"
   ]
  },
  {
   "cell_type": "code",
   "execution_count": 892,
   "metadata": {},
   "outputs": [],
   "source": [
    "# plt.axvline(x=lower_bound, color = 'red'); # where our sample mean falls on null dist\n",
    "# plt.axvline(x=upper_bound, color = 'red');"
   ]
  },
  {
   "cell_type": "code",
   "execution_count": 893,
   "metadata": {},
   "outputs": [],
   "source": [
    "# fre_customer_trans = transcript.loc[transcript[\"customer_id\"].isin(cus_complete_all_offers) \\\n",
    "#                & transcript[\"amount\"] > 0\n",
    "#                , \"amount\"].values\n",
    "# non_fre_customer_trans = transcript.loc[~transcript[\"customer_id\"].isin(cus_complete_all_offers) \\\n",
    "#                & transcript[\"amount\"] > 0\n",
    "#                , \"amount\"].values"
   ]
  },
  {
   "cell_type": "code",
   "execution_count": 894,
   "metadata": {
    "scrolled": true
   },
   "outputs": [
    {
     "data": {
      "text/plain": [
       "event           478\n",
       "customer_id     478\n",
       "time            478\n",
       "amount          478\n",
       "reward          478\n",
       "portfolio_id    478\n",
       "dtype: int64"
      ]
     },
     "execution_count": 894,
     "metadata": {},
     "output_type": "execute_result"
    }
   ],
   "source": [
    "transcript[transcript[\"amount\"]>100].count()"
   ]
  },
  {
   "cell_type": "code",
   "execution_count": 895,
   "metadata": {},
   "outputs": [
    {
     "data": {
      "text/plain": [
       "event           306534\n",
       "customer_id     306534\n",
       "time            306534\n",
       "amount          306534\n",
       "reward          306534\n",
       "portfolio_id    306534\n",
       "dtype: int64"
      ]
     },
     "execution_count": 895,
     "metadata": {},
     "output_type": "execute_result"
    }
   ],
   "source": [
    "transcript.count()"
   ]
  },
  {
   "cell_type": "code",
   "execution_count": 896,
   "metadata": {
    "scrolled": true
   },
   "outputs": [
    {
     "data": {
      "text/plain": [
       "event           0.212929\n",
       "customer_id     0.212929\n",
       "time            0.212929\n",
       "amount          0.212929\n",
       "reward          0.212929\n",
       "portfolio_id    0.212929\n",
       "dtype: float64"
      ]
     },
     "execution_count": 896,
     "metadata": {},
     "output_type": "execute_result"
    }
   ],
   "source": [
    "transcript[transcript[\"amount\"]>10].count()/transcript.count()"
   ]
  },
  {
   "cell_type": "code",
   "execution_count": 897,
   "metadata": {
    "scrolled": true
   },
   "outputs": [
    {
     "data": {
      "text/plain": [
       "0.84736740583300596"
      ]
     },
     "execution_count": 897,
     "metadata": {},
     "output_type": "execute_result"
    }
   ],
   "source": [
    "transcript.loc[transcript[\"amount\"]>10, \"amount\"].sum()/transcript[\"amount\"].sum()"
   ]
  },
  {
   "cell_type": "markdown",
   "metadata": {},
   "source": [
    "Top 20% customer contributed 80% transaction amount."
   ]
  },
  {
   "cell_type": "code",
   "execution_count": 898,
   "metadata": {
    "scrolled": true
   },
   "outputs": [
    {
     "data": {
      "text/plain": [
       "event           26956\n",
       "customer_id     26956\n",
       "time            26956\n",
       "amount          26956\n",
       "reward          26956\n",
       "portfolio_id    26956\n",
       "dtype: int64"
      ]
     },
     "execution_count": 898,
     "metadata": {},
     "output_type": "execute_result"
    }
   ],
   "source": [
    "transcript[(transcript[\"amount\"]>10) & (transcript[\"customer_id\"].isin(cus_complete_all_offers))].count()"
   ]
  },
  {
   "cell_type": "code",
   "execution_count": 899,
   "metadata": {},
   "outputs": [
    {
     "data": {
      "text/plain": [
       "event           0.412992\n",
       "customer_id     0.412992\n",
       "time            0.412992\n",
       "amount          0.412992\n",
       "reward          0.412992\n",
       "portfolio_id    0.412992\n",
       "dtype: float64"
      ]
     },
     "execution_count": 899,
     "metadata": {},
     "output_type": "execute_result"
    }
   ],
   "source": [
    "transcript[(transcript[\"amount\"]>10) & (transcript[\"customer_id\"].isin(cus_complete_all_offers))].count()/ \\\n",
    "transcript[transcript[\"amount\"]>10].count()"
   ]
  },
  {
   "cell_type": "code",
   "execution_count": 900,
   "metadata": {},
   "outputs": [
    {
     "data": {
      "text/plain": [
       "0.4193077752083732"
      ]
     },
     "execution_count": 900,
     "metadata": {},
     "output_type": "execute_result"
    }
   ],
   "source": [
    "transcript.loc[(transcript[\"amount\"]>10) & (transcript[\"customer_id\"].isin(cus_complete_all_offers)), \"amount\"].sum()/ \\\n",
    "transcript.loc[transcript[\"amount\"]>10, \"amount\"].sum()"
   ]
  },
  {
   "cell_type": "markdown",
   "metadata": {},
   "source": [
    "The customers who complete all the offers account for 41% of the top 20% customers and 41% of the 80% revenue. Does this mean about 60% the most valued customers are not very sensitive to the offer? How to approve?"
   ]
  },
  {
   "cell_type": "code",
   "execution_count": 901,
   "metadata": {
    "scrolled": true
   },
   "outputs": [
    {
     "data": {
      "text/plain": [
       "count    73650.000000\n",
       "mean         3.674974\n",
       "std          2.724833\n",
       "min          0.050000\n",
       "25%          1.400000\n",
       "50%          2.980000\n",
       "75%          5.580000\n",
       "max          9.990000\n",
       "Name: amount, dtype: float64"
      ]
     },
     "execution_count": 901,
     "metadata": {},
     "output_type": "execute_result"
    }
   ],
   "source": [
    "diff_cus_type_trans.loc[diff_cus_type_trans[\"amount\"] < 10, \"amount\"].describe()"
   ]
  },
  {
   "cell_type": "code",
   "execution_count": 902,
   "metadata": {},
   "outputs": [],
   "source": [
    "freq_cus = diff_cus_type_trans.loc[diff_cus_type_trans[\"freq_cus_yn\"] == True, \"amount\"].mean()\n",
    "non_freq_cus = diff_cus_type_trans.loc[diff_cus_type_trans[\"freq_cus_yn\"] == False, \"amount\"].mean()"
   ]
  },
  {
   "cell_type": "code",
   "execution_count": 903,
   "metadata": {
    "scrolled": true
   },
   "outputs": [
    {
     "data": {
      "image/png": "[encoded data removed]",
      "text/plain": [
       "<matplotlib.figure.Figure at 0x7f8ed77a38d0>"
      ]
     },
     "metadata": {
      "needs_background": "light"
     },
     "output_type": "display_data"
    }
   ],
   "source": [
    "plt.hist(diff_cus_type_trans[\"amount\"])\n",
    "plt.axvline(x=freq_cus, color = 'red'); # where our sample mean falls on null dist\n",
    "plt.axvline(x=non_freq_cus, color = 'black');"
   ]
  },
  {
   "cell_type": "code",
   "execution_count": 904,
   "metadata": {},
   "outputs": [
    {
     "data": {
      "text/plain": [
       "<matplotlib.lines.Line2D at 0x7f8ed782cc18>"
      ]
     },
     "execution_count": 904,
     "metadata": {},
     "output_type": "execute_result"
    },
    {
     "data": {
      "image/png": "[encoded data removed]",
      "text/plain": [
       "<matplotlib.figure.Figure at 0x7f8ee5ad2400>"
      ]
     },
     "metadata": {
      "needs_background": "light"
     },
     "output_type": "display_data"
    }
   ],
   "source": [
    "high_m_cus = transcript.loc[transcript[\"amount\"]>10, \"amount\"]\n",
    "high_m_cus_mean = high_m_cus.mean()\n",
    "plt.hist(high_m_cus)\n",
    "plt.axvline(x=freq_cus, color = 'black');\n",
    "plt.axvline(x=high_m_cus_mean, color='coral')\n",
    "# plt.xscale(\"log\")\n",
    "# plt.yscale(\"log\")"
   ]
  },
  {
   "cell_type": "code",
   "execution_count": 905,
   "metadata": {},
   "outputs": [],
   "source": [
    "cus_rm_df = transcript.groupby(\"customer_id\").agg({\"time\":max, \"amount\":sum}).reset_index()\n",
    "cus_f_df = transcript[transcript[\"amount\"] > 0].groupby(\"customer_id\")[\"event\"].count().reset_index()"
   ]
  },
  {
   "cell_type": "code",
   "execution_count": 906,
   "metadata": {},
   "outputs": [
    {
     "data": {
      "text/plain": [
       "422"
      ]
     },
     "execution_count": 906,
     "metadata": {},
     "output_type": "execute_result"
    }
   ],
   "source": [
    "cus_rm_df.loc[cus_rm_df[\"amount\"] == 0, \"customer_id\"].count()"
   ]
  },
  {
   "cell_type": "code",
   "execution_count": 907,
   "metadata": {},
   "outputs": [
    {
     "data": {
      "text/plain": [
       "422"
      ]
     },
     "execution_count": 907,
     "metadata": {},
     "output_type": "execute_result"
    }
   ],
   "source": [
    "len(cus_rm_df[\"customer_id\"].unique()) - len(cus_f_df[\"customer_id\"].unique())"
   ]
  },
  {
   "cell_type": "code",
   "execution_count": 908,
   "metadata": {},
   "outputs": [],
   "source": [
    "cus_wo_purchase = cus_rm_df.loc[cus_rm_df[\"amount\"] == 0, \"customer_id\"]"
   ]
  },
  {
   "cell_type": "code",
   "execution_count": 909,
   "metadata": {},
   "outputs": [],
   "source": [
    "cus_rfm_df = cus_rm_df.merge(cus_f_df, on= \"customer_id\", how=\"left\")"
   ]
  },
  {
   "cell_type": "code",
   "execution_count": 910,
   "metadata": {},
   "outputs": [],
   "source": [
    "cus_rfm_df.columns = [\"customer_id\", \"recency\", \"monetary\", \"frequency\"]"
   ]
  },
  {
   "cell_type": "code",
   "execution_count": 911,
   "metadata": {},
   "outputs": [
    {
     "data": {
      "text/plain": [
       "customer_id      0\n",
       "recency          0\n",
       "monetary         0\n",
       "frequency      422\n",
       "dtype: int64"
      ]
     },
     "execution_count": 911,
     "metadata": {},
     "output_type": "execute_result"
    }
   ],
   "source": [
    "cus_rfm_df.isnull().sum()"
   ]
  },
  {
   "cell_type": "code",
   "execution_count": 912,
   "metadata": {
    "scrolled": true
   },
   "outputs": [
    {
     "data": {
      "text/html": [
       "<div>\n",
       "<style scoped>\n",
       "    .dataframe tbody tr th:only-of-type {\n",
       "        vertical-align: middle;\n",
       "    }\n",
       "\n",
       "    .dataframe tbody tr th {\n",
       "        vertical-align: top;\n",
       "    }\n",
       "\n",
       "    .dataframe thead th {\n",
       "        text-align: right;\n",
       "    }\n",
       "</style>\n",
       "<table border=\"1\" class=\"dataframe\">\n",
       "  <thead>\n",
       "    <tr style=\"text-align: right;\">\n",
       "      <th></th>\n",
       "      <th>customer_id</th>\n",
       "      <th>recency</th>\n",
       "      <th>monetary</th>\n",
       "      <th>frequency</th>\n",
       "    </tr>\n",
       "  </thead>\n",
       "  <tbody>\n",
       "    <tr>\n",
       "      <th>0</th>\n",
       "      <td>0009655768c64bdeb2e877511632db8f</td>\n",
       "      <td>696</td>\n",
       "      <td>127.60</td>\n",
       "      <td>8.0</td>\n",
       "    </tr>\n",
       "    <tr>\n",
       "      <th>1</th>\n",
       "      <td>00116118485d4dfda04fdbaba9a87b5c</td>\n",
       "      <td>630</td>\n",
       "      <td>4.09</td>\n",
       "      <td>3.0</td>\n",
       "    </tr>\n",
       "    <tr>\n",
       "      <th>2</th>\n",
       "      <td>0011e0d4e6b944f998e987f904e8c1e5</td>\n",
       "      <td>654</td>\n",
       "      <td>79.46</td>\n",
       "      <td>5.0</td>\n",
       "    </tr>\n",
       "    <tr>\n",
       "      <th>3</th>\n",
       "      <td>0020c2b971eb4e9188eac86d93036a77</td>\n",
       "      <td>708</td>\n",
       "      <td>196.86</td>\n",
       "      <td>8.0</td>\n",
       "    </tr>\n",
       "    <tr>\n",
       "      <th>4</th>\n",
       "      <td>0020ccbbb6d84e358d3414a3ff76cffd</td>\n",
       "      <td>672</td>\n",
       "      <td>154.05</td>\n",
       "      <td>12.0</td>\n",
       "    </tr>\n",
       "  </tbody>\n",
       "</table>\n",
       "</div>"
      ],
      "text/plain": [
       "                        customer_id  recency  monetary  frequency\n",
       "0  0009655768c64bdeb2e877511632db8f      696    127.60        8.0\n",
       "1  00116118485d4dfda04fdbaba9a87b5c      630      4.09        3.0\n",
       "2  0011e0d4e6b944f998e987f904e8c1e5      654     79.46        5.0\n",
       "3  0020c2b971eb4e9188eac86d93036a77      708    196.86        8.0\n",
       "4  0020ccbbb6d84e358d3414a3ff76cffd      672    154.05       12.0"
      ]
     },
     "execution_count": 912,
     "metadata": {},
     "output_type": "execute_result"
    }
   ],
   "source": [
    "cus_rfm_df.head()"
   ]
  },
  {
   "cell_type": "code",
   "execution_count": 913,
   "metadata": {},
   "outputs": [],
   "source": [
    "cus_rfm_df[\"frequency\"] = cus_rfm_df[\"frequency\"].fillna(0)"
   ]
  },
  {
   "cell_type": "code",
   "execution_count": 914,
   "metadata": {
    "scrolled": true
   },
   "outputs": [
    {
     "data": {
      "text/plain": [
       "customer_id    0\n",
       "recency        0\n",
       "monetary       0\n",
       "frequency      0\n",
       "dtype: int64"
      ]
     },
     "execution_count": 914,
     "metadata": {},
     "output_type": "execute_result"
    }
   ],
   "source": [
    "cus_rfm_df.isnull().sum()"
   ]
  },
  {
   "cell_type": "code",
   "execution_count": 915,
   "metadata": {
    "scrolled": true
   },
   "outputs": [
    {
     "data": {
      "text/html": [
       "<div>\n",
       "<style scoped>\n",
       "    .dataframe tbody tr th:only-of-type {\n",
       "        vertical-align: middle;\n",
       "    }\n",
       "\n",
       "    .dataframe tbody tr th {\n",
       "        vertical-align: top;\n",
       "    }\n",
       "\n",
       "    .dataframe thead th {\n",
       "        text-align: right;\n",
       "    }\n",
       "</style>\n",
       "<table border=\"1\" class=\"dataframe\">\n",
       "  <thead>\n",
       "    <tr style=\"text-align: right;\">\n",
       "      <th></th>\n",
       "      <th>customer_id</th>\n",
       "      <th>recency</th>\n",
       "      <th>monetary</th>\n",
       "      <th>frequency</th>\n",
       "    </tr>\n",
       "  </thead>\n",
       "  <tbody>\n",
       "    <tr>\n",
       "      <th>0</th>\n",
       "      <td>0009655768c64bdeb2e877511632db8f</td>\n",
       "      <td>696</td>\n",
       "      <td>127.60</td>\n",
       "      <td>8.0</td>\n",
       "    </tr>\n",
       "    <tr>\n",
       "      <th>1</th>\n",
       "      <td>00116118485d4dfda04fdbaba9a87b5c</td>\n",
       "      <td>630</td>\n",
       "      <td>4.09</td>\n",
       "      <td>3.0</td>\n",
       "    </tr>\n",
       "    <tr>\n",
       "      <th>2</th>\n",
       "      <td>0011e0d4e6b944f998e987f904e8c1e5</td>\n",
       "      <td>654</td>\n",
       "      <td>79.46</td>\n",
       "      <td>5.0</td>\n",
       "    </tr>\n",
       "    <tr>\n",
       "      <th>3</th>\n",
       "      <td>0020c2b971eb4e9188eac86d93036a77</td>\n",
       "      <td>708</td>\n",
       "      <td>196.86</td>\n",
       "      <td>8.0</td>\n",
       "    </tr>\n",
       "    <tr>\n",
       "      <th>4</th>\n",
       "      <td>0020ccbbb6d84e358d3414a3ff76cffd</td>\n",
       "      <td>672</td>\n",
       "      <td>154.05</td>\n",
       "      <td>12.0</td>\n",
       "    </tr>\n",
       "  </tbody>\n",
       "</table>\n",
       "</div>"
      ],
      "text/plain": [
       "                        customer_id  recency  monetary  frequency\n",
       "0  0009655768c64bdeb2e877511632db8f      696    127.60        8.0\n",
       "1  00116118485d4dfda04fdbaba9a87b5c      630      4.09        3.0\n",
       "2  0011e0d4e6b944f998e987f904e8c1e5      654     79.46        5.0\n",
       "3  0020c2b971eb4e9188eac86d93036a77      708    196.86        8.0\n",
       "4  0020ccbbb6d84e358d3414a3ff76cffd      672    154.05       12.0"
      ]
     },
     "execution_count": 915,
     "metadata": {},
     "output_type": "execute_result"
    }
   ],
   "source": [
    "cus_rfm_df.head()"
   ]
  },
  {
   "cell_type": "code",
   "execution_count": 916,
   "metadata": {
    "scrolled": false
   },
   "outputs": [
    {
     "name": "stdout",
     "output_type": "stream",
     "text": [
      "     recency  monetary  frequency\n",
      "0.8    696.0   168.652       12.0\n"
     ]
    }
   ],
   "source": [
    "quantiles = cus_rfm_df.quantile(q=[0.8])\n",
    "print(quantiles)"
   ]
  },
  {
   "cell_type": "code",
   "execution_count": 917,
   "metadata": {},
   "outputs": [],
   "source": [
    "cus_rfm_df[\"R\"] = np.where(cus_rfm_df[\"recency\"]<=int(quantiles[\"recency\"].values), 2, 1)\n",
    "cus_rfm_df[\"F\"] = np.where(cus_rfm_df[\"frequency\"]<=int(quantiles[\"frequency\"].values), 2, 1)\n",
    "cus_rfm_df[\"M\"] = np.where(cus_rfm_df[\"monetary\"]<=int(quantiles[\"monetary\"].values), 2, 1)"
   ]
  },
  {
   "cell_type": "code",
   "execution_count": 918,
   "metadata": {
    "scrolled": true
   },
   "outputs": [
    {
     "data": {
      "text/html": [
       "<div>\n",
       "<style scoped>\n",
       "    .dataframe tbody tr th:only-of-type {\n",
       "        vertical-align: middle;\n",
       "    }\n",
       "\n",
       "    .dataframe tbody tr th {\n",
       "        vertical-align: top;\n",
       "    }\n",
       "\n",
       "    .dataframe thead th {\n",
       "        text-align: right;\n",
       "    }\n",
       "</style>\n",
       "<table border=\"1\" class=\"dataframe\">\n",
       "  <thead>\n",
       "    <tr style=\"text-align: right;\">\n",
       "      <th></th>\n",
       "      <th>customer_id</th>\n",
       "      <th>recency</th>\n",
       "      <th>monetary</th>\n",
       "      <th>frequency</th>\n",
       "      <th>R</th>\n",
       "      <th>F</th>\n",
       "      <th>M</th>\n",
       "    </tr>\n",
       "  </thead>\n",
       "  <tbody>\n",
       "    <tr>\n",
       "      <th>0</th>\n",
       "      <td>0009655768c64bdeb2e877511632db8f</td>\n",
       "      <td>696</td>\n",
       "      <td>127.60</td>\n",
       "      <td>8.0</td>\n",
       "      <td>2</td>\n",
       "      <td>2</td>\n",
       "      <td>2</td>\n",
       "    </tr>\n",
       "    <tr>\n",
       "      <th>1</th>\n",
       "      <td>00116118485d4dfda04fdbaba9a87b5c</td>\n",
       "      <td>630</td>\n",
       "      <td>4.09</td>\n",
       "      <td>3.0</td>\n",
       "      <td>2</td>\n",
       "      <td>2</td>\n",
       "      <td>2</td>\n",
       "    </tr>\n",
       "    <tr>\n",
       "      <th>2</th>\n",
       "      <td>0011e0d4e6b944f998e987f904e8c1e5</td>\n",
       "      <td>654</td>\n",
       "      <td>79.46</td>\n",
       "      <td>5.0</td>\n",
       "      <td>2</td>\n",
       "      <td>2</td>\n",
       "      <td>2</td>\n",
       "    </tr>\n",
       "    <tr>\n",
       "      <th>3</th>\n",
       "      <td>0020c2b971eb4e9188eac86d93036a77</td>\n",
       "      <td>708</td>\n",
       "      <td>196.86</td>\n",
       "      <td>8.0</td>\n",
       "      <td>1</td>\n",
       "      <td>2</td>\n",
       "      <td>1</td>\n",
       "    </tr>\n",
       "    <tr>\n",
       "      <th>4</th>\n",
       "      <td>0020ccbbb6d84e358d3414a3ff76cffd</td>\n",
       "      <td>672</td>\n",
       "      <td>154.05</td>\n",
       "      <td>12.0</td>\n",
       "      <td>2</td>\n",
       "      <td>2</td>\n",
       "      <td>2</td>\n",
       "    </tr>\n",
       "  </tbody>\n",
       "</table>\n",
       "</div>"
      ],
      "text/plain": [
       "                        customer_id  recency  monetary  frequency  R  F  M\n",
       "0  0009655768c64bdeb2e877511632db8f      696    127.60        8.0  2  2  2\n",
       "1  00116118485d4dfda04fdbaba9a87b5c      630      4.09        3.0  2  2  2\n",
       "2  0011e0d4e6b944f998e987f904e8c1e5      654     79.46        5.0  2  2  2\n",
       "3  0020c2b971eb4e9188eac86d93036a77      708    196.86        8.0  1  2  1\n",
       "4  0020ccbbb6d84e358d3414a3ff76cffd      672    154.05       12.0  2  2  2"
      ]
     },
     "execution_count": 918,
     "metadata": {},
     "output_type": "execute_result"
    }
   ],
   "source": [
    "cus_rfm_df.head()"
   ]
  },
  {
   "cell_type": "code",
   "execution_count": 919,
   "metadata": {},
   "outputs": [],
   "source": [
    "cus_rfm_df[\"RFMScore\"] = cus_rfm_df[\"M\"].map(str)  + cus_rfm_df[\"R\"].map(str) + cus_rfm_df[\"F\"].map(str)\n",
    "# cus_rfm_df[\"RFMScore\"] = cus_rfm_df[\"M\"].map(str)  + cus_rfm_df[\"R\"].map(str)"
   ]
  },
  {
   "cell_type": "code",
   "execution_count": 920,
   "metadata": {
    "scrolled": false
   },
   "outputs": [
    {
     "data": {
      "text/html": [
       "<div>\n",
       "<style scoped>\n",
       "    .dataframe tbody tr th:only-of-type {\n",
       "        vertical-align: middle;\n",
       "    }\n",
       "\n",
       "    .dataframe tbody tr th {\n",
       "        vertical-align: top;\n",
       "    }\n",
       "\n",
       "    .dataframe thead th {\n",
       "        text-align: right;\n",
       "    }\n",
       "</style>\n",
       "<table border=\"1\" class=\"dataframe\">\n",
       "  <thead>\n",
       "    <tr style=\"text-align: right;\">\n",
       "      <th></th>\n",
       "      <th>customer_id</th>\n",
       "      <th>recency</th>\n",
       "      <th>monetary</th>\n",
       "      <th>frequency</th>\n",
       "      <th>R</th>\n",
       "      <th>F</th>\n",
       "      <th>M</th>\n",
       "      <th>RFMScore</th>\n",
       "    </tr>\n",
       "  </thead>\n",
       "  <tbody>\n",
       "    <tr>\n",
       "      <th>9291</th>\n",
       "      <td>8b9658d02943407d8e014a9bc971a3d5</td>\n",
       "      <td>708</td>\n",
       "      <td>297.33</td>\n",
       "      <td>18.0</td>\n",
       "      <td>1</td>\n",
       "      <td>1</td>\n",
       "      <td>1</td>\n",
       "      <td>111</td>\n",
       "    </tr>\n",
       "    <tr>\n",
       "      <th>4712</th>\n",
       "      <td>46a8553f78b0444c859579017100c0ae</td>\n",
       "      <td>702</td>\n",
       "      <td>289.20</td>\n",
       "      <td>17.0</td>\n",
       "      <td>1</td>\n",
       "      <td>1</td>\n",
       "      <td>1</td>\n",
       "      <td>111</td>\n",
       "    </tr>\n",
       "    <tr>\n",
       "      <th>10381</th>\n",
       "      <td>9b4b02ab6a744385ae6007e4c95099cc</td>\n",
       "      <td>708</td>\n",
       "      <td>201.12</td>\n",
       "      <td>20.0</td>\n",
       "      <td>1</td>\n",
       "      <td>1</td>\n",
       "      <td>1</td>\n",
       "      <td>111</td>\n",
       "    </tr>\n",
       "    <tr>\n",
       "      <th>4725</th>\n",
       "      <td>46c83dc0af064389b29ccf97d9c7ed57</td>\n",
       "      <td>702</td>\n",
       "      <td>362.07</td>\n",
       "      <td>17.0</td>\n",
       "      <td>1</td>\n",
       "      <td>1</td>\n",
       "      <td>1</td>\n",
       "      <td>111</td>\n",
       "    </tr>\n",
       "    <tr>\n",
       "      <th>4774</th>\n",
       "      <td>478f3d690f8640e8b017e13a794936a0</td>\n",
       "      <td>714</td>\n",
       "      <td>239.80</td>\n",
       "      <td>22.0</td>\n",
       "      <td>1</td>\n",
       "      <td>1</td>\n",
       "      <td>1</td>\n",
       "      <td>111</td>\n",
       "    </tr>\n",
       "  </tbody>\n",
       "</table>\n",
       "</div>"
      ],
      "text/plain": [
       "                            customer_id  recency  monetary  frequency  R  F  \\\n",
       "9291   8b9658d02943407d8e014a9bc971a3d5      708    297.33       18.0  1  1   \n",
       "4712   46a8553f78b0444c859579017100c0ae      702    289.20       17.0  1  1   \n",
       "10381  9b4b02ab6a744385ae6007e4c95099cc      708    201.12       20.0  1  1   \n",
       "4725   46c83dc0af064389b29ccf97d9c7ed57      702    362.07       17.0  1  1   \n",
       "4774   478f3d690f8640e8b017e13a794936a0      714    239.80       22.0  1  1   \n",
       "\n",
       "       M RFMScore  \n",
       "9291   1      111  \n",
       "4712   1      111  \n",
       "10381  1      111  \n",
       "4725   1      111  \n",
       "4774   1      111  "
      ]
     },
     "execution_count": 920,
     "metadata": {},
     "output_type": "execute_result"
    }
   ],
   "source": [
    "cus_rfm_df.sort_values(\"RFMScore\").head()"
   ]
  },
  {
   "cell_type": "markdown",
   "metadata": {},
   "source": [
    "Generate FRMScore and use it to classify customer. Use is as new feature and feed into the model. Need to compare with the results of Clustering"
   ]
  },
  {
   "cell_type": "code",
   "execution_count": 921,
   "metadata": {},
   "outputs": [],
   "source": [
    "FRMScore_df = cus_rfm_df[[\"customer_id\", \"RFMScore\"]]"
   ]
  },
  {
   "cell_type": "code",
   "execution_count": 922,
   "metadata": {
    "scrolled": false
   },
   "outputs": [
    {
     "data": {
      "text/plain": [
       "count    306534.000000\n",
       "mean        366.382940\n",
       "std         200.326314\n",
       "min           0.000000\n",
       "25%         186.000000\n",
       "50%         408.000000\n",
       "75%         528.000000\n",
       "max         714.000000\n",
       "Name: time, dtype: float64"
      ]
     },
     "execution_count": 922,
     "metadata": {},
     "output_type": "execute_result"
    }
   ],
   "source": [
    "transcript[\"time\"].describe()"
   ]
  },
  {
   "cell_type": "code",
   "execution_count": 923,
   "metadata": {},
   "outputs": [],
   "source": [
    "initial_date = pd.Timestamp(\"05/01/2020\")"
   ]
  },
  {
   "cell_type": "code",
   "execution_count": 924,
   "metadata": {},
   "outputs": [],
   "source": [
    "transcript[\"datetime\"] = initial_date + pd.to_timedelta(transcript[\"time\"], unit='h')"
   ]
  },
  {
   "cell_type": "code",
   "execution_count": 925,
   "metadata": {},
   "outputs": [
    {
     "data": {
      "text/html": [
       "<div>\n",
       "<style scoped>\n",
       "    .dataframe tbody tr th:only-of-type {\n",
       "        vertical-align: middle;\n",
       "    }\n",
       "\n",
       "    .dataframe tbody tr th {\n",
       "        vertical-align: top;\n",
       "    }\n",
       "\n",
       "    .dataframe thead th {\n",
       "        text-align: right;\n",
       "    }\n",
       "</style>\n",
       "<table border=\"1\" class=\"dataframe\">\n",
       "  <thead>\n",
       "    <tr style=\"text-align: right;\">\n",
       "      <th></th>\n",
       "      <th>portfolio_id</th>\n",
       "      <th>duration</th>\n",
       "    </tr>\n",
       "  </thead>\n",
       "  <tbody>\n",
       "    <tr>\n",
       "      <th>0</th>\n",
       "      <td>ae264e3637204a6fb9bb56bc8210ddfd</td>\n",
       "      <td>7</td>\n",
       "    </tr>\n",
       "    <tr>\n",
       "      <th>1</th>\n",
       "      <td>4d5c57ea9a6940dd891ad53e9dbe8da0</td>\n",
       "      <td>5</td>\n",
       "    </tr>\n",
       "    <tr>\n",
       "      <th>2</th>\n",
       "      <td>3f207df678b143eea3cee63160fa8bed</td>\n",
       "      <td>4</td>\n",
       "    </tr>\n",
       "    <tr>\n",
       "      <th>3</th>\n",
       "      <td>9b98b8c7a33c4b65b9aebfe6a799e6d9</td>\n",
       "      <td>7</td>\n",
       "    </tr>\n",
       "    <tr>\n",
       "      <th>4</th>\n",
       "      <td>0b1e1539f2cc45b7b9fa7c272da2e1d7</td>\n",
       "      <td>10</td>\n",
       "    </tr>\n",
       "  </tbody>\n",
       "</table>\n",
       "</div>"
      ],
      "text/plain": [
       "                       portfolio_id  duration\n",
       "0  ae264e3637204a6fb9bb56bc8210ddfd         7\n",
       "1  4d5c57ea9a6940dd891ad53e9dbe8da0         5\n",
       "2  3f207df678b143eea3cee63160fa8bed         4\n",
       "3  9b98b8c7a33c4b65b9aebfe6a799e6d9         7\n",
       "4  0b1e1539f2cc45b7b9fa7c272da2e1d7        10"
      ]
     },
     "execution_count": 925,
     "metadata": {},
     "output_type": "execute_result"
    }
   ],
   "source": [
    "portfolio[[\"portfolio_id\", \"duration\"]].head()"
   ]
  },
  {
   "cell_type": "code",
   "execution_count": 926,
   "metadata": {},
   "outputs": [],
   "source": [
    "# offer_received_df = transcript[transcript[\"event\"]==\"offer received\"].merge(portfolio[[\"portfolio_id\", \"duration\"]], how = \"left\", on =\"portfolio_id\")"
   ]
  },
  {
   "cell_type": "code",
   "execution_count": 927,
   "metadata": {},
   "outputs": [],
   "source": [
    "trans_x_pf_df = transcript.merge(portfolio[[\"portfolio_id\", \"duration\"]], how = \"left\", on =\"portfolio_id\")"
   ]
  },
  {
   "cell_type": "code",
   "execution_count": 928,
   "metadata": {},
   "outputs": [],
   "source": [
    "trans_x_pf_df[\"offer_end_date\"] = trans_x_pf_df.loc[trans_x_pf_df[\"event\"] == \"offer received\", \"datetime\"] + \\\n",
    "pd.to_timedelta(trans_x_pf_df[\"duration\"], unit='d')"
   ]
  },
  {
   "cell_type": "code",
   "execution_count": 929,
   "metadata": {
    "scrolled": false
   },
   "outputs": [],
   "source": [
    "trans_x_pf_df = trans_x_pf_df.drop(columns = [\"duration\", \"time\"])"
   ]
  },
  {
   "cell_type": "code",
   "execution_count": 930,
   "metadata": {},
   "outputs": [
    {
     "data": {
      "text/html": [
       "<div>\n",
       "<style scoped>\n",
       "    .dataframe tbody tr th:only-of-type {\n",
       "        vertical-align: middle;\n",
       "    }\n",
       "\n",
       "    .dataframe tbody tr th {\n",
       "        vertical-align: top;\n",
       "    }\n",
       "\n",
       "    .dataframe thead th {\n",
       "        text-align: right;\n",
       "    }\n",
       "</style>\n",
       "<table border=\"1\" class=\"dataframe\">\n",
       "  <thead>\n",
       "    <tr style=\"text-align: right;\">\n",
       "      <th></th>\n",
       "      <th>event</th>\n",
       "      <th>customer_id</th>\n",
       "      <th>amount</th>\n",
       "      <th>reward</th>\n",
       "      <th>portfolio_id</th>\n",
       "      <th>datetime</th>\n",
       "      <th>offer_end_date</th>\n",
       "    </tr>\n",
       "  </thead>\n",
       "  <tbody>\n",
       "    <tr>\n",
       "      <th>89291</th>\n",
       "      <td>transaction</td>\n",
       "      <td>0009655768c64bdeb2e877511632db8f</td>\n",
       "      <td>22.16</td>\n",
       "      <td>0</td>\n",
       "      <td>0</td>\n",
       "      <td>2020-05-10 12:00:00</td>\n",
       "      <td>NaT</td>\n",
       "    </tr>\n",
       "    <tr>\n",
       "      <th>168412</th>\n",
       "      <td>transaction</td>\n",
       "      <td>0009655768c64bdeb2e877511632db8f</td>\n",
       "      <td>8.57</td>\n",
       "      <td>0</td>\n",
       "      <td>0</td>\n",
       "      <td>2020-05-18 06:00:00</td>\n",
       "      <td>NaT</td>\n",
       "    </tr>\n",
       "    <tr>\n",
       "      <th>228422</th>\n",
       "      <td>transaction</td>\n",
       "      <td>0009655768c64bdeb2e877511632db8f</td>\n",
       "      <td>14.11</td>\n",
       "      <td>0</td>\n",
       "      <td>0</td>\n",
       "      <td>2020-05-23 00:00:00</td>\n",
       "      <td>NaT</td>\n",
       "    </tr>\n",
       "    <tr>\n",
       "      <th>237784</th>\n",
       "      <td>transaction</td>\n",
       "      <td>0009655768c64bdeb2e877511632db8f</td>\n",
       "      <td>13.56</td>\n",
       "      <td>0</td>\n",
       "      <td>0</td>\n",
       "      <td>2020-05-24 00:00:00</td>\n",
       "      <td>NaT</td>\n",
       "    </tr>\n",
       "    <tr>\n",
       "      <th>258883</th>\n",
       "      <td>transaction</td>\n",
       "      <td>0009655768c64bdeb2e877511632db8f</td>\n",
       "      <td>10.27</td>\n",
       "      <td>0</td>\n",
       "      <td>0</td>\n",
       "      <td>2020-05-25 00:00:00</td>\n",
       "      <td>NaT</td>\n",
       "    </tr>\n",
       "  </tbody>\n",
       "</table>\n",
       "</div>"
      ],
      "text/plain": [
       "              event                       customer_id  amount  reward  \\\n",
       "89291   transaction  0009655768c64bdeb2e877511632db8f   22.16       0   \n",
       "168412  transaction  0009655768c64bdeb2e877511632db8f    8.57       0   \n",
       "228422  transaction  0009655768c64bdeb2e877511632db8f   14.11       0   \n",
       "237784  transaction  0009655768c64bdeb2e877511632db8f   13.56       0   \n",
       "258883  transaction  0009655768c64bdeb2e877511632db8f   10.27       0   \n",
       "\n",
       "       portfolio_id            datetime offer_end_date  \n",
       "89291             0 2020-05-10 12:00:00            NaT  \n",
       "168412            0 2020-05-18 06:00:00            NaT  \n",
       "228422            0 2020-05-23 00:00:00            NaT  \n",
       "237784            0 2020-05-24 00:00:00            NaT  \n",
       "258883            0 2020-05-25 00:00:00            NaT  "
      ]
     },
     "execution_count": 930,
     "metadata": {},
     "output_type": "execute_result"
    }
   ],
   "source": [
    "trans_x_pf_df.sort_values(by=[\"customer_id\", \"portfolio_id\", \"datetime\"]).head()"
   ]
  },
  {
   "cell_type": "code",
   "execution_count": 931,
   "metadata": {},
   "outputs": [],
   "source": [
    "trans_offer_df = trans_x_pf_df.loc[trans_x_pf_df[\"event\"] != \"transaction\", [\"customer_id\", \"portfolio_id\", \"event\", \"datetime\", \"offer_end_date\"]]"
   ]
  },
  {
   "cell_type": "code",
   "execution_count": 932,
   "metadata": {},
   "outputs": [],
   "source": [
    "trans_trans_df = trans_x_pf_df.loc[trans_x_pf_df[\"event\"] == \"transaction\", [\"customer_id\", \"portfolio_id\", \"event\", \"datetime\"]]"
   ]
  },
  {
   "cell_type": "code",
   "execution_count": 933,
   "metadata": {},
   "outputs": [],
   "source": [
    "# trans_offer_rank = trans_offer_df.groupby([\"customer_id\", \"portfolio_id\", \"event\"])[\"datetime\"].rank()"
   ]
  },
  {
   "cell_type": "code",
   "execution_count": 934,
   "metadata": {},
   "outputs": [],
   "source": [
    "trans_offer_df = trans_offer_df.sort_values(by=[\"customer_id\", \"portfolio_id\", \"datetime\"]).fillna(method = \"ffill\")"
   ]
  },
  {
   "cell_type": "code",
   "execution_count": 935,
   "metadata": {},
   "outputs": [
    {
     "data": {
      "text/html": [
       "<div>\n",
       "<style scoped>\n",
       "    .dataframe tbody tr th:only-of-type {\n",
       "        vertical-align: middle;\n",
       "    }\n",
       "\n",
       "    .dataframe tbody tr th {\n",
       "        vertical-align: top;\n",
       "    }\n",
       "\n",
       "    .dataframe thead th {\n",
       "        text-align: right;\n",
       "    }\n",
       "</style>\n",
       "<table border=\"1\" class=\"dataframe\">\n",
       "  <thead>\n",
       "    <tr style=\"text-align: right;\">\n",
       "      <th></th>\n",
       "      <th>customer_id</th>\n",
       "      <th>portfolio_id</th>\n",
       "      <th>event</th>\n",
       "      <th>datetime</th>\n",
       "      <th>offer_end_date</th>\n",
       "    </tr>\n",
       "  </thead>\n",
       "  <tbody>\n",
       "    <tr>\n",
       "      <th>247879</th>\n",
       "      <td>0009655768c64bdeb2e877511632db8f</td>\n",
       "      <td>2906b810c7d4411798c6938adc9daaa5</td>\n",
       "      <td>offer received</td>\n",
       "      <td>2020-05-25 00:00:00</td>\n",
       "      <td>2020-06-01</td>\n",
       "    </tr>\n",
       "    <tr>\n",
       "      <th>258884</th>\n",
       "      <td>0009655768c64bdeb2e877511632db8f</td>\n",
       "      <td>2906b810c7d4411798c6938adc9daaa5</td>\n",
       "      <td>offer completed</td>\n",
       "      <td>2020-05-25 00:00:00</td>\n",
       "      <td>2020-06-01</td>\n",
       "    </tr>\n",
       "    <tr>\n",
       "      <th>113605</th>\n",
       "      <td>0009655768c64bdeb2e877511632db8f</td>\n",
       "      <td>3f207df678b143eea3cee63160fa8bed</td>\n",
       "      <td>offer received</td>\n",
       "      <td>2020-05-15 00:00:00</td>\n",
       "      <td>2020-05-19</td>\n",
       "    </tr>\n",
       "    <tr>\n",
       "      <th>139992</th>\n",
       "      <td>0009655768c64bdeb2e877511632db8f</td>\n",
       "      <td>3f207df678b143eea3cee63160fa8bed</td>\n",
       "      <td>offer viewed</td>\n",
       "      <td>2020-05-16 12:00:00</td>\n",
       "      <td>2020-05-19</td>\n",
       "    </tr>\n",
       "    <tr>\n",
       "      <th>55972</th>\n",
       "      <td>0009655768c64bdeb2e877511632db8f</td>\n",
       "      <td>5a8bc65990b245e5a138643cd4eb9837</td>\n",
       "      <td>offer received</td>\n",
       "      <td>2020-05-08 00:00:00</td>\n",
       "      <td>2020-05-11</td>\n",
       "    </tr>\n",
       "  </tbody>\n",
       "</table>\n",
       "</div>"
      ],
      "text/plain": [
       "                             customer_id                      portfolio_id  \\\n",
       "247879  0009655768c64bdeb2e877511632db8f  2906b810c7d4411798c6938adc9daaa5   \n",
       "258884  0009655768c64bdeb2e877511632db8f  2906b810c7d4411798c6938adc9daaa5   \n",
       "113605  0009655768c64bdeb2e877511632db8f  3f207df678b143eea3cee63160fa8bed   \n",
       "139992  0009655768c64bdeb2e877511632db8f  3f207df678b143eea3cee63160fa8bed   \n",
       "55972   0009655768c64bdeb2e877511632db8f  5a8bc65990b245e5a138643cd4eb9837   \n",
       "\n",
       "                  event            datetime offer_end_date  \n",
       "247879   offer received 2020-05-25 00:00:00     2020-06-01  \n",
       "258884  offer completed 2020-05-25 00:00:00     2020-06-01  \n",
       "113605   offer received 2020-05-15 00:00:00     2020-05-19  \n",
       "139992     offer viewed 2020-05-16 12:00:00     2020-05-19  \n",
       "55972    offer received 2020-05-08 00:00:00     2020-05-11  "
      ]
     },
     "execution_count": 935,
     "metadata": {},
     "output_type": "execute_result"
    }
   ],
   "source": [
    "trans_offer_df.head()"
   ]
  },
  {
   "cell_type": "code",
   "execution_count": 936,
   "metadata": {},
   "outputs": [],
   "source": [
    "# trans_offer_rank_df = pd.concat([trans_offer_df, trans_offer_rank], axis = 1)\n",
    "# trans_offer_rank_df.columns = [\"customer_id\", \"portfolio_id\", \"event\", \"datetime\", \"offer_end_date\", \"num\"]"
   ]
  },
  {
   "cell_type": "code",
   "execution_count": 937,
   "metadata": {},
   "outputs": [],
   "source": [
    "# trans_offer_rank_df = trans_offer_rank_df[[\"customer_id\", \"portfolio_id\", \"num\", \"event\", \"datetime\", \"offer_end_date\"]]"
   ]
  },
  {
   "cell_type": "code",
   "execution_count": 938,
   "metadata": {},
   "outputs": [],
   "source": [
    "trans_offer_rank_df = trans_offer_df[[\"customer_id\", \"portfolio_id\", \"event\", \"datetime\", \"offer_end_date\"]]"
   ]
  },
  {
   "cell_type": "code",
   "execution_count": 939,
   "metadata": {},
   "outputs": [],
   "source": [
    "# trans_offer_df[(trans_offer_df[\"customer_id\"] == \"ffff82501cea40309d5fdd7edcca4a07\") & \\\n",
    "#                (trans_offer_df[\"portfolio_id\"] == \"0b1e1539f2cc45b7b9fa7c272da2e1d7\")]"
   ]
  },
  {
   "cell_type": "code",
   "execution_count": 940,
   "metadata": {},
   "outputs": [],
   "source": [
    "trans_offer_rank_matrix = trans_offer_rank_df.groupby([\"customer_id\", \"portfolio_id\", \"offer_end_date\", \"event\"]).agg({\"datetime\":min}).unstack()"
   ]
  },
  {
   "cell_type": "code",
   "execution_count": 941,
   "metadata": {},
   "outputs": [],
   "source": [
    "trans_offer_rank_matrix = trans_offer_rank_matrix.reset_index()"
   ]
  },
  {
   "cell_type": "code",
   "execution_count": 942,
   "metadata": {},
   "outputs": [],
   "source": [
    "trans_offer_tm_df = pd.DataFrame()"
   ]
  },
  {
   "cell_type": "code",
   "execution_count": 943,
   "metadata": {},
   "outputs": [],
   "source": [
    "trans_offer_tm_df[\"customer_id\"] = trans_offer_rank_matrix[\"customer_id\"]\n",
    "trans_offer_tm_df[\"offer_start_date\"] = trans_offer_rank_matrix[\"datetime\"][\"offer received\"]\n",
    "trans_offer_tm_df[\"offer_end_date\"] = trans_offer_rank_matrix[\"offer_end_date\"]\n",
    "trans_offer_tm_df[\"offer_viewed_date\"] = trans_offer_rank_matrix[\"datetime\"][\"offer viewed\"]\n",
    "trans_offer_tm_df[\"offer_completed_date\"] = trans_offer_rank_matrix[\"datetime\"][\"offer completed\"]"
   ]
  },
  {
   "cell_type": "code",
   "execution_count": 944,
   "metadata": {
    "scrolled": false
   },
   "outputs": [
    {
     "data": {
      "text/html": [
       "<div>\n",
       "<style scoped>\n",
       "    .dataframe tbody tr th:only-of-type {\n",
       "        vertical-align: middle;\n",
       "    }\n",
       "\n",
       "    .dataframe tbody tr th {\n",
       "        vertical-align: top;\n",
       "    }\n",
       "\n",
       "    .dataframe thead th {\n",
       "        text-align: right;\n",
       "    }\n",
       "</style>\n",
       "<table border=\"1\" class=\"dataframe\">\n",
       "  <thead>\n",
       "    <tr style=\"text-align: right;\">\n",
       "      <th></th>\n",
       "      <th>customer_id</th>\n",
       "      <th>offer_start_date</th>\n",
       "      <th>offer_end_date</th>\n",
       "      <th>offer_viewed_date</th>\n",
       "      <th>offer_completed_date</th>\n",
       "    </tr>\n",
       "  </thead>\n",
       "  <tbody>\n",
       "    <tr>\n",
       "      <th>0</th>\n",
       "      <td>0009655768c64bdeb2e877511632db8f</td>\n",
       "      <td>2020-05-25</td>\n",
       "      <td>2020-06-01</td>\n",
       "      <td>NaT</td>\n",
       "      <td>2020-05-25 00:00:00</td>\n",
       "    </tr>\n",
       "    <tr>\n",
       "      <th>1</th>\n",
       "      <td>0009655768c64bdeb2e877511632db8f</td>\n",
       "      <td>2020-05-15</td>\n",
       "      <td>2020-05-19</td>\n",
       "      <td>2020-05-16 12:00:00</td>\n",
       "      <td>NaT</td>\n",
       "    </tr>\n",
       "    <tr>\n",
       "      <th>2</th>\n",
       "      <td>0009655768c64bdeb2e877511632db8f</td>\n",
       "      <td>2020-05-08</td>\n",
       "      <td>2020-05-11</td>\n",
       "      <td>2020-05-09 00:00:00</td>\n",
       "      <td>NaT</td>\n",
       "    </tr>\n",
       "    <tr>\n",
       "      <th>3</th>\n",
       "      <td>0009655768c64bdeb2e877511632db8f</td>\n",
       "      <td>2020-05-18</td>\n",
       "      <td>2020-05-23</td>\n",
       "      <td>2020-05-20 00:00:00</td>\n",
       "      <td>2020-05-18 06:00:00</td>\n",
       "    </tr>\n",
       "    <tr>\n",
       "      <th>4</th>\n",
       "      <td>0009655768c64bdeb2e877511632db8f</td>\n",
       "      <td>2020-05-22</td>\n",
       "      <td>2020-06-01</td>\n",
       "      <td>2020-05-23 12:00:00</td>\n",
       "      <td>2020-05-23 00:00:00</td>\n",
       "    </tr>\n",
       "  </tbody>\n",
       "</table>\n",
       "</div>"
      ],
      "text/plain": [
       "                        customer_id offer_start_date offer_end_date  \\\n",
       "0  0009655768c64bdeb2e877511632db8f       2020-05-25     2020-06-01   \n",
       "1  0009655768c64bdeb2e877511632db8f       2020-05-15     2020-05-19   \n",
       "2  0009655768c64bdeb2e877511632db8f       2020-05-08     2020-05-11   \n",
       "3  0009655768c64bdeb2e877511632db8f       2020-05-18     2020-05-23   \n",
       "4  0009655768c64bdeb2e877511632db8f       2020-05-22     2020-06-01   \n",
       "\n",
       "    offer_viewed_date offer_completed_date  \n",
       "0                 NaT  2020-05-25 00:00:00  \n",
       "1 2020-05-16 12:00:00                  NaT  \n",
       "2 2020-05-09 00:00:00                  NaT  \n",
       "3 2020-05-20 00:00:00  2020-05-18 06:00:00  \n",
       "4 2020-05-23 12:00:00  2020-05-23 00:00:00  "
      ]
     },
     "execution_count": 944,
     "metadata": {},
     "output_type": "execute_result"
    }
   ],
   "source": [
    "trans_offer_tm_df.head()"
   ]
  },
  {
   "cell_type": "code",
   "execution_count": 945,
   "metadata": {},
   "outputs": [],
   "source": [
    "trans_trans_df[\"purchased_yn\"] = True"
   ]
  },
  {
   "cell_type": "code",
   "execution_count": 946,
   "metadata": {},
   "outputs": [],
   "source": [
    "trans_trans_matrix = trans_trans_df.groupby([\"datetime\", \"customer_id\"]).agg({\"purchased_yn\":min}).unstack()"
   ]
  },
  {
   "cell_type": "code",
   "execution_count": 947,
   "metadata": {},
   "outputs": [],
   "source": [
    "trans_offer_tm_nc_df = trans_offer_tm_df.loc[trans_offer_tm_df[\"offer_completed_date\"].isnull(), \\\n",
    "                                             [\"customer_id\", \"offer_start_date\", \"offer_end_date\"]]"
   ]
  },
  {
   "cell_type": "code",
   "execution_count": 948,
   "metadata": {
    "scrolled": true
   },
   "outputs": [
    {
     "data": {
      "text/plain": [
       "DatetimeIndex(['2020-05-01 00:00:00', '2020-05-01 06:00:00',\n",
       "               '2020-05-01 12:00:00', '2020-05-01 18:00:00',\n",
       "               '2020-05-02 00:00:00', '2020-05-02 06:00:00',\n",
       "               '2020-05-02 12:00:00', '2020-05-02 18:00:00',\n",
       "               '2020-05-03 00:00:00', '2020-05-03 06:00:00',\n",
       "               ...\n",
       "               '2020-05-28 12:00:00', '2020-05-28 18:00:00',\n",
       "               '2020-05-29 00:00:00', '2020-05-29 06:00:00',\n",
       "               '2020-05-29 12:00:00', '2020-05-29 18:00:00',\n",
       "               '2020-05-30 00:00:00', '2020-05-30 06:00:00',\n",
       "               '2020-05-30 12:00:00', '2020-05-30 18:00:00'],\n",
       "              dtype='datetime64[ns]', name='datetime', length=120, freq=None)"
      ]
     },
     "execution_count": 948,
     "metadata": {},
     "output_type": "execute_result"
    }
   ],
   "source": [
    "trans_trans_matrix.index"
   ]
  },
  {
   "cell_type": "code",
   "execution_count": 949,
   "metadata": {
    "scrolled": true
   },
   "outputs": [
    {
     "data": {
      "text/html": [
       "<div>\n",
       "<style scoped>\n",
       "    .dataframe tbody tr th:only-of-type {\n",
       "        vertical-align: middle;\n",
       "    }\n",
       "\n",
       "    .dataframe tbody tr th {\n",
       "        vertical-align: top;\n",
       "    }\n",
       "\n",
       "    .dataframe thead th {\n",
       "        text-align: right;\n",
       "    }\n",
       "</style>\n",
       "<table border=\"1\" class=\"dataframe\">\n",
       "  <thead>\n",
       "    <tr style=\"text-align: right;\">\n",
       "      <th></th>\n",
       "      <th>customer_id</th>\n",
       "      <th>offer_start_date</th>\n",
       "      <th>offer_end_date</th>\n",
       "    </tr>\n",
       "  </thead>\n",
       "  <tbody>\n",
       "    <tr>\n",
       "      <th>1</th>\n",
       "      <td>0009655768c64bdeb2e877511632db8f</td>\n",
       "      <td>2020-05-15</td>\n",
       "      <td>2020-05-19</td>\n",
       "    </tr>\n",
       "    <tr>\n",
       "      <th>2</th>\n",
       "      <td>0009655768c64bdeb2e877511632db8f</td>\n",
       "      <td>2020-05-08</td>\n",
       "      <td>2020-05-11</td>\n",
       "    </tr>\n",
       "    <tr>\n",
       "      <th>5</th>\n",
       "      <td>00116118485d4dfda04fdbaba9a87b5c</td>\n",
       "      <td>2020-05-08</td>\n",
       "      <td>2020-05-13</td>\n",
       "    </tr>\n",
       "    <tr>\n",
       "      <th>6</th>\n",
       "      <td>00116118485d4dfda04fdbaba9a87b5c</td>\n",
       "      <td>2020-05-25</td>\n",
       "      <td>2020-05-30</td>\n",
       "    </tr>\n",
       "    <tr>\n",
       "      <th>9</th>\n",
       "      <td>0011e0d4e6b944f998e987f904e8c1e5</td>\n",
       "      <td>2020-05-01</td>\n",
       "      <td>2020-05-05</td>\n",
       "    </tr>\n",
       "  </tbody>\n",
       "</table>\n",
       "</div>"
      ],
      "text/plain": [
       "                        customer_id offer_start_date offer_end_date\n",
       "1  0009655768c64bdeb2e877511632db8f       2020-05-15     2020-05-19\n",
       "2  0009655768c64bdeb2e877511632db8f       2020-05-08     2020-05-11\n",
       "5  00116118485d4dfda04fdbaba9a87b5c       2020-05-08     2020-05-13\n",
       "6  00116118485d4dfda04fdbaba9a87b5c       2020-05-25     2020-05-30\n",
       "9  0011e0d4e6b944f998e987f904e8c1e5       2020-05-01     2020-05-05"
      ]
     },
     "execution_count": 949,
     "metadata": {},
     "output_type": "execute_result"
    }
   ],
   "source": [
    "trans_offer_tm_nc_df.head()"
   ]
  },
  {
   "cell_type": "code",
   "execution_count": 950,
   "metadata": {
    "scrolled": true
   },
   "outputs": [
    {
     "data": {
      "text/plain": [
       "Timestamp('2020-05-15 00:00:00')"
      ]
     },
     "execution_count": 950,
     "metadata": {},
     "output_type": "execute_result"
    }
   ],
   "source": [
    "trans_offer_tm_nc_df.iloc[0, 1]"
   ]
  },
  {
   "cell_type": "code",
   "execution_count": 951,
   "metadata": {},
   "outputs": [],
   "source": [
    "trans_offer_tm_nc_df[\"purchased_yn\"] = 0"
   ]
  },
  {
   "cell_type": "code",
   "execution_count": 952,
   "metadata": {},
   "outputs": [
    {
     "data": {
      "text/html": [
       "<div>\n",
       "<style scoped>\n",
       "    .dataframe tbody tr th:only-of-type {\n",
       "        vertical-align: middle;\n",
       "    }\n",
       "\n",
       "    .dataframe tbody tr th {\n",
       "        vertical-align: top;\n",
       "    }\n",
       "\n",
       "    .dataframe thead th {\n",
       "        text-align: right;\n",
       "    }\n",
       "</style>\n",
       "<table border=\"1\" class=\"dataframe\">\n",
       "  <thead>\n",
       "    <tr style=\"text-align: right;\">\n",
       "      <th></th>\n",
       "      <th>customer_id</th>\n",
       "      <th>offer_start_date</th>\n",
       "      <th>offer_end_date</th>\n",
       "      <th>purchased_yn</th>\n",
       "    </tr>\n",
       "  </thead>\n",
       "  <tbody>\n",
       "    <tr>\n",
       "      <th>1</th>\n",
       "      <td>0009655768c64bdeb2e877511632db8f</td>\n",
       "      <td>2020-05-15</td>\n",
       "      <td>2020-05-19</td>\n",
       "      <td>0</td>\n",
       "    </tr>\n",
       "    <tr>\n",
       "      <th>2</th>\n",
       "      <td>0009655768c64bdeb2e877511632db8f</td>\n",
       "      <td>2020-05-08</td>\n",
       "      <td>2020-05-11</td>\n",
       "      <td>0</td>\n",
       "    </tr>\n",
       "    <tr>\n",
       "      <th>5</th>\n",
       "      <td>00116118485d4dfda04fdbaba9a87b5c</td>\n",
       "      <td>2020-05-08</td>\n",
       "      <td>2020-05-13</td>\n",
       "      <td>0</td>\n",
       "    </tr>\n",
       "    <tr>\n",
       "      <th>6</th>\n",
       "      <td>00116118485d4dfda04fdbaba9a87b5c</td>\n",
       "      <td>2020-05-25</td>\n",
       "      <td>2020-05-30</td>\n",
       "      <td>0</td>\n",
       "    </tr>\n",
       "    <tr>\n",
       "      <th>9</th>\n",
       "      <td>0011e0d4e6b944f998e987f904e8c1e5</td>\n",
       "      <td>2020-05-01</td>\n",
       "      <td>2020-05-05</td>\n",
       "      <td>0</td>\n",
       "    </tr>\n",
       "  </tbody>\n",
       "</table>\n",
       "</div>"
      ],
      "text/plain": [
       "                        customer_id offer_start_date offer_end_date  \\\n",
       "1  0009655768c64bdeb2e877511632db8f       2020-05-15     2020-05-19   \n",
       "2  0009655768c64bdeb2e877511632db8f       2020-05-08     2020-05-11   \n",
       "5  00116118485d4dfda04fdbaba9a87b5c       2020-05-08     2020-05-13   \n",
       "6  00116118485d4dfda04fdbaba9a87b5c       2020-05-25     2020-05-30   \n",
       "9  0011e0d4e6b944f998e987f904e8c1e5       2020-05-01     2020-05-05   \n",
       "\n",
       "   purchased_yn  \n",
       "1             0  \n",
       "2             0  \n",
       "5             0  \n",
       "6             0  \n",
       "9             0  "
      ]
     },
     "execution_count": 952,
     "metadata": {},
     "output_type": "execute_result"
    }
   ],
   "source": [
    "trans_offer_tm_nc_df.head()"
   ]
  },
  {
   "cell_type": "code",
   "execution_count": 953,
   "metadata": {},
   "outputs": [],
   "source": [
    "inds = trans_offer_tm_nc_df.index.tolist()"
   ]
  },
  {
   "cell_type": "code",
   "execution_count": 954,
   "metadata": {},
   "outputs": [
    {
     "data": {
      "text/plain": [
       "43176"
      ]
     },
     "execution_count": 954,
     "metadata": {},
     "output_type": "execute_result"
    }
   ],
   "source": [
    "len(inds)"
   ]
  },
  {
   "cell_type": "code",
   "execution_count": 955,
   "metadata": {},
   "outputs": [],
   "source": [
    "amt_x_time = transcript.groupby(\"datetime\")[\"amount\"].sum().reset_index()"
   ]
  },
  {
   "cell_type": "code",
   "execution_count": 956,
   "metadata": {},
   "outputs": [
    {
     "data": {
      "text/html": [
       "<div>\n",
       "<style scoped>\n",
       "    .dataframe tbody tr th:only-of-type {\n",
       "        vertical-align: middle;\n",
       "    }\n",
       "\n",
       "    .dataframe tbody tr th {\n",
       "        vertical-align: top;\n",
       "    }\n",
       "\n",
       "    .dataframe thead th {\n",
       "        text-align: right;\n",
       "    }\n",
       "</style>\n",
       "<table border=\"1\" class=\"dataframe\">\n",
       "  <thead>\n",
       "    <tr style=\"text-align: right;\">\n",
       "      <th></th>\n",
       "      <th>datetime</th>\n",
       "      <th>amount</th>\n",
       "    </tr>\n",
       "  </thead>\n",
       "  <tbody>\n",
       "    <tr>\n",
       "      <th>0</th>\n",
       "      <td>2020-05-01 00:00:00</td>\n",
       "      <td>7305.57</td>\n",
       "    </tr>\n",
       "    <tr>\n",
       "      <th>1</th>\n",
       "      <td>2020-05-01 06:00:00</td>\n",
       "      <td>9923.66</td>\n",
       "    </tr>\n",
       "    <tr>\n",
       "      <th>2</th>\n",
       "      <td>2020-05-01 12:00:00</td>\n",
       "      <td>12859.51</td>\n",
       "    </tr>\n",
       "    <tr>\n",
       "      <th>3</th>\n",
       "      <td>2020-05-01 18:00:00</td>\n",
       "      <td>13961.60</td>\n",
       "    </tr>\n",
       "    <tr>\n",
       "      <th>4</th>\n",
       "      <td>2020-05-02 00:00:00</td>\n",
       "      <td>11559.57</td>\n",
       "    </tr>\n",
       "  </tbody>\n",
       "</table>\n",
       "</div>"
      ],
      "text/plain": [
       "             datetime    amount\n",
       "0 2020-05-01 00:00:00   7305.57\n",
       "1 2020-05-01 06:00:00   9923.66\n",
       "2 2020-05-01 12:00:00  12859.51\n",
       "3 2020-05-01 18:00:00  13961.60\n",
       "4 2020-05-02 00:00:00  11559.57"
      ]
     },
     "execution_count": 956,
     "metadata": {},
     "output_type": "execute_result"
    }
   ],
   "source": [
    "amt_x_time.head()"
   ]
  },
  {
   "cell_type": "code",
   "execution_count": 957,
   "metadata": {
    "scrolled": false
   },
   "outputs": [
    {
     "data": {
      "text/plain": [
       "[<matplotlib.lines.Line2D at 0x7f8ed71382b0>]"
      ]
     },
     "execution_count": 957,
     "metadata": {},
     "output_type": "execute_result"
    },
    {
     "data": {
      "image/png": "[encoded data removed]",
      "text/plain": [
       "<matplotlib.figure.Figure at 0x7f8ed7112e48>"
      ]
     },
     "metadata": {
      "needs_background": "light"
     },
     "output_type": "display_data"
    }
   ],
   "source": [
    "plt.plot(amt_x_time[\"datetime\"], amt_x_time[\"amount\"])"
   ]
  },
  {
   "cell_type": "code",
   "execution_count": 958,
   "metadata": {},
   "outputs": [],
   "source": [
    "cusnum_x_time = transcript.groupby(\"datetime\")[\"customer_id\"].unique().reset_index()"
   ]
  },
  {
   "cell_type": "code",
   "execution_count": 959,
   "metadata": {},
   "outputs": [],
   "source": [
    "cusnum_x_time[\"cus_num\"] = cusnum_x_time[\"customer_id\"].apply(lambda x: len(x))"
   ]
  },
  {
   "cell_type": "code",
   "execution_count": 960,
   "metadata": {
    "scrolled": false
   },
   "outputs": [
    {
     "data": {
      "text/html": [
       "<div>\n",
       "<style scoped>\n",
       "    .dataframe tbody tr th:only-of-type {\n",
       "        vertical-align: middle;\n",
       "    }\n",
       "\n",
       "    .dataframe tbody tr th {\n",
       "        vertical-align: top;\n",
       "    }\n",
       "\n",
       "    .dataframe thead th {\n",
       "        text-align: right;\n",
       "    }\n",
       "</style>\n",
       "<table border=\"1\" class=\"dataframe\">\n",
       "  <thead>\n",
       "    <tr style=\"text-align: right;\">\n",
       "      <th></th>\n",
       "      <th>datetime</th>\n",
       "      <th>customer_id</th>\n",
       "      <th>cus_num</th>\n",
       "    </tr>\n",
       "  </thead>\n",
       "  <tbody>\n",
       "    <tr>\n",
       "      <th>0</th>\n",
       "      <td>2020-05-01 00:00:00</td>\n",
       "      <td>[78afa995795e4d85b5d9ceeca43f5fef, a03223e6364...</td>\n",
       "      <td>12761</td>\n",
       "    </tr>\n",
       "    <tr>\n",
       "      <th>1</th>\n",
       "      <td>2020-05-01 06:00:00</td>\n",
       "      <td>[78afa995795e4d85b5d9ceeca43f5fef, a03223e6364...</td>\n",
       "      <td>2068</td>\n",
       "    </tr>\n",
       "    <tr>\n",
       "      <th>2</th>\n",
       "      <td>2020-05-01 12:00:00</td>\n",
       "      <td>[8ec6ce2a7e7949b1bf142def7d0e0586, f082d80f0aa...</td>\n",
       "      <td>1811</td>\n",
       "    </tr>\n",
       "    <tr>\n",
       "      <th>3</th>\n",
       "      <td>2020-05-01 18:00:00</td>\n",
       "      <td>[0610b486422d4921ae7d2bf64640c50b, e2127556f4f...</td>\n",
       "      <td>1666</td>\n",
       "    </tr>\n",
       "    <tr>\n",
       "      <th>4</th>\n",
       "      <td>2020-05-02 00:00:00</td>\n",
       "      <td>[c4863c7985cf408faee930f111475da3, d1ede868e29...</td>\n",
       "      <td>1586</td>\n",
       "    </tr>\n",
       "  </tbody>\n",
       "</table>\n",
       "</div>"
      ],
      "text/plain": [
       "             datetime                                        customer_id  \\\n",
       "0 2020-05-01 00:00:00  [78afa995795e4d85b5d9ceeca43f5fef, a03223e6364...   \n",
       "1 2020-05-01 06:00:00  [78afa995795e4d85b5d9ceeca43f5fef, a03223e6364...   \n",
       "2 2020-05-01 12:00:00  [8ec6ce2a7e7949b1bf142def7d0e0586, f082d80f0aa...   \n",
       "3 2020-05-01 18:00:00  [0610b486422d4921ae7d2bf64640c50b, e2127556f4f...   \n",
       "4 2020-05-02 00:00:00  [c4863c7985cf408faee930f111475da3, d1ede868e29...   \n",
       "\n",
       "   cus_num  \n",
       "0    12761  \n",
       "1     2068  \n",
       "2     1811  \n",
       "3     1666  \n",
       "4     1586  "
      ]
     },
     "execution_count": 960,
     "metadata": {},
     "output_type": "execute_result"
    }
   ],
   "source": [
    "cusnum_x_time.head()"
   ]
  },
  {
   "cell_type": "code",
   "execution_count": 961,
   "metadata": {},
   "outputs": [
    {
     "data": {
      "text/plain": [
       "count                     120\n",
       "unique                    120\n",
       "top       2020-05-29 00:00:00\n",
       "freq                        1\n",
       "first     2020-05-01 00:00:00\n",
       "last      2020-05-30 18:00:00\n",
       "Name: datetime, dtype: object"
      ]
     },
     "execution_count": 961,
     "metadata": {},
     "output_type": "execute_result"
    }
   ],
   "source": [
    "cusnum_x_time[\"datetime\"].describe()"
   ]
  },
  {
   "cell_type": "code",
   "execution_count": 962,
   "metadata": {
    "scrolled": false
   },
   "outputs": [
    {
     "data": {
      "text/plain": [
       "[<matplotlib.lines.Line2D at 0x7f8ed70e86d8>]"
      ]
     },
     "execution_count": 962,
     "metadata": {},
     "output_type": "execute_result"
    },
    {
     "data": {
      "image/png": "[encoded data removed]",
      "text/plain": [
       "<matplotlib.figure.Figure at 0x7f8ed7129438>"
      ]
     },
     "metadata": {
      "needs_background": "light"
     },
     "output_type": "display_data"
    }
   ],
   "source": [
    "plt.plot(cusnum_x_time[\"datetime\"], cusnum_x_time[\"cus_num\"], c = 'lightblue')\n",
    "# plt.yscale('log')"
   ]
  },
  {
   "cell_type": "code",
   "execution_count": 963,
   "metadata": {},
   "outputs": [],
   "source": [
    "p_x_time = transcript[transcript[\"portfolio_id\"] != 0].groupby(\"datetime\")[\"portfolio_id\"].unique().reset_index()"
   ]
  },
  {
   "cell_type": "code",
   "execution_count": 964,
   "metadata": {},
   "outputs": [],
   "source": [
    "p_x_time[\"port_num\"] = p_x_time[\"portfolio_id\"].apply(lambda x: len(x))"
   ]
  },
  {
   "cell_type": "code",
   "execution_count": 965,
   "metadata": {},
   "outputs": [
    {
     "data": {
      "text/plain": [
       "array(['9b98b8c7a33c4b65b9aebfe6a799e6d9',\n",
       "       '0b1e1539f2cc45b7b9fa7c272da2e1d7',\n",
       "       '2906b810c7d4411798c6938adc9daaa5',\n",
       "       'fafdcd668e3743c1bb461111dcafc2a4',\n",
       "       '4d5c57ea9a6940dd891ad53e9dbe8da0',\n",
       "       'f19421c1d4aa40978ebb69ca19b0e20d',\n",
       "       '2298d6c36e964ae4a3e7e9706d1fb8c2',\n",
       "       '3f207df678b143eea3cee63160fa8bed',\n",
       "       'ae264e3637204a6fb9bb56bc8210ddfd',\n",
       "       '5a8bc65990b245e5a138643cd4eb9837'], dtype=object)"
      ]
     },
     "execution_count": 965,
     "metadata": {},
     "output_type": "execute_result"
    }
   ],
   "source": [
    "p_x_time[\"portfolio_id\"][0]"
   ]
  },
  {
   "cell_type": "code",
   "execution_count": 966,
   "metadata": {
    "scrolled": true
   },
   "outputs": [
    {
     "data": {
      "text/plain": [
       "[<matplotlib.lines.Line2D at 0x7f8ed70862e8>]"
      ]
     },
     "execution_count": 966,
     "metadata": {},
     "output_type": "execute_result"
    },
    {
     "data": {
      "image/png": "[encoded data removed]",
      "text/plain": [
       "<matplotlib.figure.Figure at 0x7f8ee55ab320>"
      ]
     },
     "metadata": {
      "needs_background": "light"
     },
     "output_type": "display_data"
    }
   ],
   "source": [
    "plt.plot(p_x_time[\"datetime\"], p_x_time[\"port_num\"], c = 'coral')"
   ]
  },
  {
   "cell_type": "code",
   "execution_count": 967,
   "metadata": {},
   "outputs": [
    {
     "data": {
      "text/html": [
       "<div>\n",
       "<style scoped>\n",
       "    .dataframe tbody tr th:only-of-type {\n",
       "        vertical-align: middle;\n",
       "    }\n",
       "\n",
       "    .dataframe tbody tr th {\n",
       "        vertical-align: top;\n",
       "    }\n",
       "\n",
       "    .dataframe thead tr th {\n",
       "        text-align: left;\n",
       "    }\n",
       "\n",
       "    .dataframe thead tr:last-of-type th {\n",
       "        text-align: right;\n",
       "    }\n",
       "</style>\n",
       "<table border=\"1\" class=\"dataframe\">\n",
       "  <thead>\n",
       "    <tr>\n",
       "      <th></th>\n",
       "      <th colspan=\"2\" halign=\"left\">datetime</th>\n",
       "    </tr>\n",
       "    <tr>\n",
       "      <th></th>\n",
       "      <th>min</th>\n",
       "      <th>max</th>\n",
       "    </tr>\n",
       "    <tr>\n",
       "      <th>portfolio_id</th>\n",
       "      <th></th>\n",
       "      <th></th>\n",
       "    </tr>\n",
       "  </thead>\n",
       "  <tbody>\n",
       "    <tr>\n",
       "      <th>0</th>\n",
       "      <td>2020-05-01</td>\n",
       "      <td>2020-05-30 18:00:00</td>\n",
       "    </tr>\n",
       "    <tr>\n",
       "      <th>0b1e1539f2cc45b7b9fa7c272da2e1d7</th>\n",
       "      <td>2020-05-01</td>\n",
       "      <td>2020-05-30 18:00:00</td>\n",
       "    </tr>\n",
       "    <tr>\n",
       "      <th>2298d6c36e964ae4a3e7e9706d1fb8c2</th>\n",
       "      <td>2020-05-01</td>\n",
       "      <td>2020-05-30 18:00:00</td>\n",
       "    </tr>\n",
       "    <tr>\n",
       "      <th>2906b810c7d4411798c6938adc9daaa5</th>\n",
       "      <td>2020-05-01</td>\n",
       "      <td>2020-05-30 18:00:00</td>\n",
       "    </tr>\n",
       "    <tr>\n",
       "      <th>3f207df678b143eea3cee63160fa8bed</th>\n",
       "      <td>2020-05-01</td>\n",
       "      <td>2020-05-30 18:00:00</td>\n",
       "    </tr>\n",
       "    <tr>\n",
       "      <th>4d5c57ea9a6940dd891ad53e9dbe8da0</th>\n",
       "      <td>2020-05-01</td>\n",
       "      <td>2020-05-30 18:00:00</td>\n",
       "    </tr>\n",
       "    <tr>\n",
       "      <th>5a8bc65990b245e5a138643cd4eb9837</th>\n",
       "      <td>2020-05-01</td>\n",
       "      <td>2020-05-30 18:00:00</td>\n",
       "    </tr>\n",
       "    <tr>\n",
       "      <th>9b98b8c7a33c4b65b9aebfe6a799e6d9</th>\n",
       "      <td>2020-05-01</td>\n",
       "      <td>2020-05-30 18:00:00</td>\n",
       "    </tr>\n",
       "    <tr>\n",
       "      <th>ae264e3637204a6fb9bb56bc8210ddfd</th>\n",
       "      <td>2020-05-01</td>\n",
       "      <td>2020-05-30 18:00:00</td>\n",
       "    </tr>\n",
       "    <tr>\n",
       "      <th>f19421c1d4aa40978ebb69ca19b0e20d</th>\n",
       "      <td>2020-05-01</td>\n",
       "      <td>2020-05-30 18:00:00</td>\n",
       "    </tr>\n",
       "    <tr>\n",
       "      <th>fafdcd668e3743c1bb461111dcafc2a4</th>\n",
       "      <td>2020-05-01</td>\n",
       "      <td>2020-05-30 18:00:00</td>\n",
       "    </tr>\n",
       "  </tbody>\n",
       "</table>\n",
       "</div>"
      ],
      "text/plain": [
       "                                   datetime                    \n",
       "                                        min                 max\n",
       "portfolio_id                                                   \n",
       "0                                2020-05-01 2020-05-30 18:00:00\n",
       "0b1e1539f2cc45b7b9fa7c272da2e1d7 2020-05-01 2020-05-30 18:00:00\n",
       "2298d6c36e964ae4a3e7e9706d1fb8c2 2020-05-01 2020-05-30 18:00:00\n",
       "2906b810c7d4411798c6938adc9daaa5 2020-05-01 2020-05-30 18:00:00\n",
       "3f207df678b143eea3cee63160fa8bed 2020-05-01 2020-05-30 18:00:00\n",
       "4d5c57ea9a6940dd891ad53e9dbe8da0 2020-05-01 2020-05-30 18:00:00\n",
       "5a8bc65990b245e5a138643cd4eb9837 2020-05-01 2020-05-30 18:00:00\n",
       "9b98b8c7a33c4b65b9aebfe6a799e6d9 2020-05-01 2020-05-30 18:00:00\n",
       "ae264e3637204a6fb9bb56bc8210ddfd 2020-05-01 2020-05-30 18:00:00\n",
       "f19421c1d4aa40978ebb69ca19b0e20d 2020-05-01 2020-05-30 18:00:00\n",
       "fafdcd668e3743c1bb461111dcafc2a4 2020-05-01 2020-05-30 18:00:00"
      ]
     },
     "execution_count": 967,
     "metadata": {},
     "output_type": "execute_result"
    }
   ],
   "source": [
    "transcript.groupby(\"portfolio_id\").agg({\"datetime\": [min, max]})"
   ]
  },
  {
   "cell_type": "code",
   "execution_count": 968,
   "metadata": {},
   "outputs": [
    {
     "data": {
      "text/plain": [
       "count    17000.000000\n",
       "mean       104.438351\n",
       "std        125.922619\n",
       "min          0.000000\n",
       "25%         21.820000\n",
       "50%         69.405000\n",
       "75%        148.782500\n",
       "max       1608.690000\n",
       "Name: amount, dtype: float64"
      ]
     },
     "execution_count": 968,
     "metadata": {},
     "output_type": "execute_result"
    }
   ],
   "source": [
    "transcript.groupby(\"customer_id\")[\"amount\"].sum().describe()"
   ]
  },
  {
   "cell_type": "code",
   "execution_count": 969,
   "metadata": {},
   "outputs": [
    {
     "data": {
      "text/plain": [
       "(array([  33579.,       0.,       0.,   76277.,       0.,       0.,\n",
       "          57725.,       0.,       0.,  138953.]),\n",
       " array([ 0. ,  0.3,  0.6,  0.9,  1.2,  1.5,  1.8,  2.1,  2.4,  2.7,  3. ]),\n",
       " <a list of 10 Patch objects>)"
      ]
     },
     "execution_count": 969,
     "metadata": {},
     "output_type": "execute_result"
    },
    {
     "data": {
      "image/png": "[encoded data removed]",
      "text/plain": [
       "<matplotlib.figure.Figure at 0x7f8ed7046e80>"
      ]
     },
     "metadata": {
      "needs_background": "light"
     },
     "output_type": "display_data"
    }
   ],
   "source": [
    "plt.hist(transcript[\"event\"])"
   ]
  },
  {
   "cell_type": "code",
   "execution_count": 970,
   "metadata": {},
   "outputs": [
    {
     "data": {
      "text/plain": [
       "event\n",
       "offer completed     33579\n",
       "offer received      76277\n",
       "offer viewed        57725\n",
       "transaction        138953\n",
       "Name: event, dtype: int64"
      ]
     },
     "execution_count": 970,
     "metadata": {},
     "output_type": "execute_result"
    }
   ],
   "source": [
    "transcript.groupby(\"event\")[\"event\"].count()"
   ]
  },
  {
   "cell_type": "code",
   "execution_count": 971,
   "metadata": {},
   "outputs": [
    {
     "data": {
      "text/plain": [
       "count    306534.000000\n",
       "mean          5.792023\n",
       "std          21.337137\n",
       "min           0.000000\n",
       "25%           0.000000\n",
       "50%           0.000000\n",
       "75%           7.100000\n",
       "max        1062.280000\n",
       "Name: amount, dtype: float64"
      ]
     },
     "execution_count": 971,
     "metadata": {},
     "output_type": "execute_result"
    }
   ],
   "source": [
    "transcript[\"amount\"].describe()"
   ]
  },
  {
   "cell_type": "code",
   "execution_count": 972,
   "metadata": {},
   "outputs": [
    {
     "data": {
      "text/plain": [
       "(array([  3.06078000e+05,   9.20000000e+01,   6.10000000e+01,\n",
       "          7.20000000e+01,   6.70000000e+01,   5.50000000e+01,\n",
       "          4.70000000e+01,   3.60000000e+01,   1.70000000e+01,\n",
       "          9.00000000e+00]),\n",
       " array([    0.   ,   106.228,   212.456,   318.684,   424.912,   531.14 ,\n",
       "          637.368,   743.596,   849.824,   956.052,  1062.28 ]),\n",
       " <a list of 10 Patch objects>)"
      ]
     },
     "execution_count": 972,
     "metadata": {},
     "output_type": "execute_result"
    },
    {
     "data": {
      "image/png": "[encoded data removed]",
      "text/plain": [
       "<matplotlib.figure.Figure at 0x7f8ed5e9f5c0>"
      ]
     },
     "metadata": {
      "needs_background": "light"
     },
     "output_type": "display_data"
    }
   ],
   "source": [
    "plt.hist(transcript[\"amount\"])"
   ]
  },
  {
   "cell_type": "code",
   "execution_count": 973,
   "metadata": {
    "scrolled": true
   },
   "outputs": [
    {
     "data": {
      "text/plain": [
       "{'whiskers': [<matplotlib.lines.Line2D at 0x7f8ed5e2ebe0>,\n",
       "  <matplotlib.lines.Line2D at 0x7f8ed5e325c0>],\n",
       " 'caps': [<matplotlib.lines.Line2D at 0x7f8ed5e32d30>,\n",
       "  <matplotlib.lines.Line2D at 0x7f8ed5e344e0>],\n",
       " 'boxes': [<matplotlib.lines.Line2D at 0x7f8ed5e2e7b8>],\n",
       " 'medians': [<matplotlib.lines.Line2D at 0x7f8ed5e34b70>],\n",
       " 'fliers': [<matplotlib.lines.Line2D at 0x7f8ed5e384a8>],\n",
       " 'means': []}"
      ]
     },
     "execution_count": 973,
     "metadata": {},
     "output_type": "execute_result"
    },
    {
     "data": {
      "image/png": "[encoded data removed]",
      "text/plain": [
       "<matplotlib.figure.Figure at 0x7f8ed5dff908>"
      ]
     },
     "metadata": {
      "needs_background": "light"
     },
     "output_type": "display_data"
    }
   ],
   "source": [
    "plt.boxplot(transcript[\"amount\"])"
   ]
  },
  {
   "cell_type": "code",
   "execution_count": 974,
   "metadata": {
    "scrolled": true
   },
   "outputs": [
    {
     "data": {
      "text/plain": [
       "(-53.114000000000004, 200)"
      ]
     },
     "execution_count": 974,
     "metadata": {},
     "output_type": "execute_result"
    },
    {
     "data": {
      "image/png": "[encoded data removed]",
      "text/plain": [
       "<matplotlib.figure.Figure at 0x7f8ed5dbf710>"
      ]
     },
     "metadata": {
      "needs_background": "light"
     },
     "output_type": "display_data"
    }
   ],
   "source": [
    "plt.boxplot(transcript['amount'])\n",
    "plt.ylim(top=200)"
   ]
  },
  {
   "cell_type": "code",
   "execution_count": 975,
   "metadata": {
    "scrolled": true
   },
   "outputs": [
    {
     "data": {
      "text/plain": [
       "count    306534.000000\n",
       "mean          0.537219\n",
       "std           1.805208\n",
       "min           0.000000\n",
       "25%           0.000000\n",
       "50%           0.000000\n",
       "75%           0.000000\n",
       "max          10.000000\n",
       "Name: reward, dtype: float64"
      ]
     },
     "execution_count": 975,
     "metadata": {},
     "output_type": "execute_result"
    }
   ],
   "source": [
    "transcript[\"reward\"].describe()"
   ]
  },
  {
   "cell_type": "code",
   "execution_count": 976,
   "metadata": {},
   "outputs": [],
   "source": [
    "reward_x_time = transcript.groupby(\"datetime\")[\"reward\"].sum().reset_index()"
   ]
  },
  {
   "cell_type": "code",
   "execution_count": 977,
   "metadata": {
    "scrolled": true
   },
   "outputs": [
    {
     "data": {
      "text/html": [
       "<div>\n",
       "<style scoped>\n",
       "    .dataframe tbody tr th:only-of-type {\n",
       "        vertical-align: middle;\n",
       "    }\n",
       "\n",
       "    .dataframe tbody tr th {\n",
       "        vertical-align: top;\n",
       "    }\n",
       "\n",
       "    .dataframe thead th {\n",
       "        text-align: right;\n",
       "    }\n",
       "</style>\n",
       "<table border=\"1\" class=\"dataframe\">\n",
       "  <thead>\n",
       "    <tr style=\"text-align: right;\">\n",
       "      <th></th>\n",
       "      <th>datetime</th>\n",
       "      <th>reward</th>\n",
       "    </tr>\n",
       "  </thead>\n",
       "  <tbody>\n",
       "    <tr>\n",
       "      <th>0</th>\n",
       "      <td>2020-05-01 00:00:00</td>\n",
       "      <td>1092</td>\n",
       "    </tr>\n",
       "    <tr>\n",
       "      <th>1</th>\n",
       "      <td>2020-05-01 06:00:00</td>\n",
       "      <td>1394</td>\n",
       "    </tr>\n",
       "    <tr>\n",
       "      <th>2</th>\n",
       "      <td>2020-05-01 12:00:00</td>\n",
       "      <td>1438</td>\n",
       "    </tr>\n",
       "    <tr>\n",
       "      <th>3</th>\n",
       "      <td>2020-05-01 18:00:00</td>\n",
       "      <td>1189</td>\n",
       "    </tr>\n",
       "    <tr>\n",
       "      <th>4</th>\n",
       "      <td>2020-05-02 00:00:00</td>\n",
       "      <td>1325</td>\n",
       "    </tr>\n",
       "  </tbody>\n",
       "</table>\n",
       "</div>"
      ],
      "text/plain": [
       "             datetime  reward\n",
       "0 2020-05-01 00:00:00    1092\n",
       "1 2020-05-01 06:00:00    1394\n",
       "2 2020-05-01 12:00:00    1438\n",
       "3 2020-05-01 18:00:00    1189\n",
       "4 2020-05-02 00:00:00    1325"
      ]
     },
     "execution_count": 977,
     "metadata": {},
     "output_type": "execute_result"
    }
   ],
   "source": [
    "reward_x_time.head()"
   ]
  },
  {
   "cell_type": "code",
   "execution_count": 978,
   "metadata": {
    "scrolled": true
   },
   "outputs": [
    {
     "data": {
      "text/plain": [
       "[<matplotlib.lines.Line2D at 0x7f8ed5da7ac8>]"
      ]
     },
     "execution_count": 978,
     "metadata": {},
     "output_type": "execute_result"
    },
    {
     "data": {
      "image/png": "[encoded data removed]",
      "text/plain": [
       "<matplotlib.figure.Figure at 0x7f8ed5dd9630>"
      ]
     },
     "metadata": {
      "needs_background": "light"
     },
     "output_type": "display_data"
    }
   ],
   "source": [
    "plt.plot(reward_x_time[\"datetime\"], reward_x_time[\"reward\"], color = \"coral\")"
   ]
  },
  {
   "cell_type": "code",
   "execution_count": 979,
   "metadata": {
    "scrolled": true
   },
   "outputs": [
    {
     "data": {
      "text/plain": [
       "[<matplotlib.lines.Line2D at 0x7f8ed5d987f0>]"
      ]
     },
     "execution_count": 979,
     "metadata": {},
     "output_type": "execute_result"
    },
    {
     "data": {
      "image/png": "[encoded data removed]",
      "text/plain": [
       "<matplotlib.figure.Figure at 0x7f8ed5d96fd0>"
      ]
     },
     "metadata": {
      "needs_background": "light"
     },
     "output_type": "display_data"
    }
   ],
   "source": [
    "plt.plot(amt_x_time[\"datetime\"], amt_x_time[\"amount\"], color = 'lightblue')\n",
    "plt.plot(reward_x_time[\"datetime\"], reward_x_time[\"reward\"], color = \"coral\")\n",
    "# plt.yscale('log')"
   ]
  },
  {
   "cell_type": "code",
   "execution_count": 980,
   "metadata": {
    "scrolled": true
   },
   "outputs": [
    {
     "data": {
      "text/plain": [
       "array([[ 1.        , -0.08078297],\n",
       "       [-0.08078297,  1.        ]])"
      ]
     },
     "execution_count": 980,
     "metadata": {},
     "output_type": "execute_result"
    }
   ],
   "source": [
    "np.corrcoef(transcript[\"reward\"], transcript[\"amount\"])"
   ]
  },
  {
   "cell_type": "code",
   "execution_count": 981,
   "metadata": {
    "scrolled": true
   },
   "outputs": [
    {
     "data": {
      "text/plain": [
       "16578"
      ]
     },
     "execution_count": 981,
     "metadata": {},
     "output_type": "execute_result"
    }
   ],
   "source": [
    "sum(transcript.groupby(\"customer_id\")['amount'].sum().sort_values(ascending = False) > 0)"
   ]
  },
  {
   "cell_type": "code",
   "execution_count": 982,
   "metadata": {},
   "outputs": [
    {
     "data": {
      "text/plain": [
       "17000"
      ]
     },
     "execution_count": 982,
     "metadata": {},
     "output_type": "execute_result"
    }
   ],
   "source": [
    "len(transcript[\"customer_id\"].unique())"
   ]
  },
  {
   "cell_type": "code",
   "execution_count": 983,
   "metadata": {
    "scrolled": true
   },
   "outputs": [
    {
     "data": {
      "text/plain": [
       "0.9751764705882353"
      ]
     },
     "execution_count": 983,
     "metadata": {},
     "output_type": "execute_result"
    }
   ],
   "source": [
    "16578/17000"
   ]
  },
  {
   "cell_type": "markdown",
   "metadata": {},
   "source": [
    "## Define offer related transactions"
   ]
  },
  {
   "cell_type": "code",
   "execution_count": 984,
   "metadata": {},
   "outputs": [
    {
     "data": {
      "text/plain": [
       "array(['offer received', 'offer viewed', 'transaction', 'offer completed'], dtype=object)"
      ]
     },
     "execution_count": 984,
     "metadata": {},
     "output_type": "execute_result"
    }
   ],
   "source": [
    "transcript[\"event\"].unique()"
   ]
  },
  {
   "cell_type": "code",
   "execution_count": 985,
   "metadata": {},
   "outputs": [
    {
     "data": {
      "text/plain": [
       "Index(['event', 'customer_id', 'time', 'amount', 'reward', 'portfolio_id',\n",
       "       'datetime'],\n",
       "      dtype='object')"
      ]
     },
     "execution_count": 985,
     "metadata": {},
     "output_type": "execute_result"
    }
   ],
   "source": [
    "transcript.columns"
   ]
  },
  {
   "cell_type": "code",
   "execution_count": 986,
   "metadata": {},
   "outputs": [],
   "source": [
    "event = [\"offer received\", \"transaction\", \"offer completed\"]\n",
    "columns = [\"customer_id\", \"portfolio_id\", \"event\", \"time\", \"amount\"]"
   ]
  },
  {
   "cell_type": "code",
   "execution_count": 987,
   "metadata": {},
   "outputs": [],
   "source": [
    "transcript_new = transcript.loc[transcript[\"event\"].isin(event), columns]"
   ]
  },
  {
   "cell_type": "code",
   "execution_count": 988,
   "metadata": {},
   "outputs": [
    {
     "data": {
      "text/html": [
       "<div>\n",
       "<style scoped>\n",
       "    .dataframe tbody tr th:only-of-type {\n",
       "        vertical-align: middle;\n",
       "    }\n",
       "\n",
       "    .dataframe tbody tr th {\n",
       "        vertical-align: top;\n",
       "    }\n",
       "\n",
       "    .dataframe thead th {\n",
       "        text-align: right;\n",
       "    }\n",
       "</style>\n",
       "<table border=\"1\" class=\"dataframe\">\n",
       "  <thead>\n",
       "    <tr style=\"text-align: right;\">\n",
       "      <th></th>\n",
       "      <th>difficulty</th>\n",
       "      <th>duration</th>\n",
       "      <th>portfolio_id</th>\n",
       "      <th>offer_type</th>\n",
       "      <th>reward</th>\n",
       "      <th>channel_web</th>\n",
       "      <th>channel_email</th>\n",
       "      <th>channel_mobile</th>\n",
       "      <th>channel_social</th>\n",
       "    </tr>\n",
       "  </thead>\n",
       "  <tbody>\n",
       "    <tr>\n",
       "      <th>0</th>\n",
       "      <td>10</td>\n",
       "      <td>7</td>\n",
       "      <td>ae264e3637204a6fb9bb56bc8210ddfd</td>\n",
       "      <td>bogo</td>\n",
       "      <td>10</td>\n",
       "      <td>0</td>\n",
       "      <td>1</td>\n",
       "      <td>1</td>\n",
       "      <td>1</td>\n",
       "    </tr>\n",
       "    <tr>\n",
       "      <th>1</th>\n",
       "      <td>10</td>\n",
       "      <td>5</td>\n",
       "      <td>4d5c57ea9a6940dd891ad53e9dbe8da0</td>\n",
       "      <td>bogo</td>\n",
       "      <td>10</td>\n",
       "      <td>1</td>\n",
       "      <td>1</td>\n",
       "      <td>1</td>\n",
       "      <td>1</td>\n",
       "    </tr>\n",
       "    <tr>\n",
       "      <th>2</th>\n",
       "      <td>0</td>\n",
       "      <td>4</td>\n",
       "      <td>3f207df678b143eea3cee63160fa8bed</td>\n",
       "      <td>informational</td>\n",
       "      <td>0</td>\n",
       "      <td>1</td>\n",
       "      <td>1</td>\n",
       "      <td>1</td>\n",
       "      <td>0</td>\n",
       "    </tr>\n",
       "    <tr>\n",
       "      <th>3</th>\n",
       "      <td>5</td>\n",
       "      <td>7</td>\n",
       "      <td>9b98b8c7a33c4b65b9aebfe6a799e6d9</td>\n",
       "      <td>bogo</td>\n",
       "      <td>5</td>\n",
       "      <td>1</td>\n",
       "      <td>1</td>\n",
       "      <td>1</td>\n",
       "      <td>0</td>\n",
       "    </tr>\n",
       "    <tr>\n",
       "      <th>4</th>\n",
       "      <td>20</td>\n",
       "      <td>10</td>\n",
       "      <td>0b1e1539f2cc45b7b9fa7c272da2e1d7</td>\n",
       "      <td>discount</td>\n",
       "      <td>5</td>\n",
       "      <td>1</td>\n",
       "      <td>1</td>\n",
       "      <td>0</td>\n",
       "      <td>0</td>\n",
       "    </tr>\n",
       "  </tbody>\n",
       "</table>\n",
       "</div>"
      ],
      "text/plain": [
       "   difficulty  duration                      portfolio_id     offer_type  \\\n",
       "0          10         7  ae264e3637204a6fb9bb56bc8210ddfd           bogo   \n",
       "1          10         5  4d5c57ea9a6940dd891ad53e9dbe8da0           bogo   \n",
       "2           0         4  3f207df678b143eea3cee63160fa8bed  informational   \n",
       "3           5         7  9b98b8c7a33c4b65b9aebfe6a799e6d9           bogo   \n",
       "4          20        10  0b1e1539f2cc45b7b9fa7c272da2e1d7       discount   \n",
       "\n",
       "   reward  channel_web  channel_email  channel_mobile  channel_social  \n",
       "0      10            0              1               1               1  \n",
       "1      10            1              1               1               1  \n",
       "2       0            1              1               1               0  \n",
       "3       5            1              1               1               0  \n",
       "4       5            1              1               0               0  "
      ]
     },
     "execution_count": 988,
     "metadata": {},
     "output_type": "execute_result"
    }
   ],
   "source": [
    "portfolio.head()"
   ]
  },
  {
   "cell_type": "code",
   "execution_count": 989,
   "metadata": {},
   "outputs": [],
   "source": [
    "transcript_new = transcript_new.merge(portfolio, on=\"portfolio_id\", how=\"left\")[[\"customer_id\", \"portfolio_id\", \"event\", \"time\",\\\n",
    "                                                               \"amount\", \"duration\", \"offer_type\"]]"
   ]
  },
  {
   "cell_type": "code",
   "execution_count": 990,
   "metadata": {},
   "outputs": [],
   "source": [
    "transcript_new[\"duration\"] = transcript_new[\"duration\"] * 24"
   ]
  },
  {
   "cell_type": "code",
   "execution_count": 991,
   "metadata": {},
   "outputs": [
    {
     "data": {
      "text/html": [
       "<div>\n",
       "<style scoped>\n",
       "    .dataframe tbody tr th:only-of-type {\n",
       "        vertical-align: middle;\n",
       "    }\n",
       "\n",
       "    .dataframe tbody tr th {\n",
       "        vertical-align: top;\n",
       "    }\n",
       "\n",
       "    .dataframe thead th {\n",
       "        text-align: right;\n",
       "    }\n",
       "</style>\n",
       "<table border=\"1\" class=\"dataframe\">\n",
       "  <thead>\n",
       "    <tr style=\"text-align: right;\">\n",
       "      <th></th>\n",
       "      <th>customer_id</th>\n",
       "      <th>portfolio_id</th>\n",
       "      <th>event</th>\n",
       "      <th>time</th>\n",
       "      <th>amount</th>\n",
       "      <th>duration</th>\n",
       "      <th>offer_type</th>\n",
       "    </tr>\n",
       "  </thead>\n",
       "  <tbody>\n",
       "    <tr>\n",
       "      <th>0</th>\n",
       "      <td>78afa995795e4d85b5d9ceeca43f5fef</td>\n",
       "      <td>9b98b8c7a33c4b65b9aebfe6a799e6d9</td>\n",
       "      <td>offer received</td>\n",
       "      <td>0</td>\n",
       "      <td>0.0</td>\n",
       "      <td>168.0</td>\n",
       "      <td>bogo</td>\n",
       "    </tr>\n",
       "    <tr>\n",
       "      <th>1</th>\n",
       "      <td>a03223e636434f42ac4c3df47e8bac43</td>\n",
       "      <td>0b1e1539f2cc45b7b9fa7c272da2e1d7</td>\n",
       "      <td>offer received</td>\n",
       "      <td>0</td>\n",
       "      <td>0.0</td>\n",
       "      <td>240.0</td>\n",
       "      <td>discount</td>\n",
       "    </tr>\n",
       "    <tr>\n",
       "      <th>2</th>\n",
       "      <td>e2127556f4f64592b11af22de27a7932</td>\n",
       "      <td>2906b810c7d4411798c6938adc9daaa5</td>\n",
       "      <td>offer received</td>\n",
       "      <td>0</td>\n",
       "      <td>0.0</td>\n",
       "      <td>168.0</td>\n",
       "      <td>discount</td>\n",
       "    </tr>\n",
       "    <tr>\n",
       "      <th>3</th>\n",
       "      <td>8ec6ce2a7e7949b1bf142def7d0e0586</td>\n",
       "      <td>fafdcd668e3743c1bb461111dcafc2a4</td>\n",
       "      <td>offer received</td>\n",
       "      <td>0</td>\n",
       "      <td>0.0</td>\n",
       "      <td>240.0</td>\n",
       "      <td>discount</td>\n",
       "    </tr>\n",
       "    <tr>\n",
       "      <th>4</th>\n",
       "      <td>68617ca6246f4fbc85e91a2a49552598</td>\n",
       "      <td>4d5c57ea9a6940dd891ad53e9dbe8da0</td>\n",
       "      <td>offer received</td>\n",
       "      <td>0</td>\n",
       "      <td>0.0</td>\n",
       "      <td>120.0</td>\n",
       "      <td>bogo</td>\n",
       "    </tr>\n",
       "  </tbody>\n",
       "</table>\n",
       "</div>"
      ],
      "text/plain": [
       "                        customer_id                      portfolio_id  \\\n",
       "0  78afa995795e4d85b5d9ceeca43f5fef  9b98b8c7a33c4b65b9aebfe6a799e6d9   \n",
       "1  a03223e636434f42ac4c3df47e8bac43  0b1e1539f2cc45b7b9fa7c272da2e1d7   \n",
       "2  e2127556f4f64592b11af22de27a7932  2906b810c7d4411798c6938adc9daaa5   \n",
       "3  8ec6ce2a7e7949b1bf142def7d0e0586  fafdcd668e3743c1bb461111dcafc2a4   \n",
       "4  68617ca6246f4fbc85e91a2a49552598  4d5c57ea9a6940dd891ad53e9dbe8da0   \n",
       "\n",
       "            event  time  amount  duration offer_type  \n",
       "0  offer received     0     0.0     168.0       bogo  \n",
       "1  offer received     0     0.0     240.0   discount  \n",
       "2  offer received     0     0.0     168.0   discount  \n",
       "3  offer received     0     0.0     240.0   discount  \n",
       "4  offer received     0     0.0     120.0       bogo  "
      ]
     },
     "execution_count": 991,
     "metadata": {},
     "output_type": "execute_result"
    }
   ],
   "source": [
    "transcript_new.head()"
   ]
  },
  {
   "cell_type": "code",
   "execution_count": 992,
   "metadata": {},
   "outputs": [],
   "source": [
    "eva_df = transcript_new[transcript_new[\"event\"] == \"offer received\"].groupby([\"customer_id\", \"portfolio_id\", \"offer_type\"])\\\n",
    ".agg({\"time\":pd.Series.nunique}).reset_index()"
   ]
  },
  {
   "cell_type": "code",
   "execution_count": 993,
   "metadata": {
    "scrolled": true
   },
   "outputs": [
    {
     "data": {
      "text/html": [
       "<div>\n",
       "<style scoped>\n",
       "    .dataframe tbody tr th:only-of-type {\n",
       "        vertical-align: middle;\n",
       "    }\n",
       "\n",
       "    .dataframe tbody tr th {\n",
       "        vertical-align: top;\n",
       "    }\n",
       "\n",
       "    .dataframe thead th {\n",
       "        text-align: right;\n",
       "    }\n",
       "</style>\n",
       "<table border=\"1\" class=\"dataframe\">\n",
       "  <thead>\n",
       "    <tr style=\"text-align: right;\">\n",
       "      <th></th>\n",
       "      <th>customer_id</th>\n",
       "      <th>portfolio_id</th>\n",
       "      <th>offer_type</th>\n",
       "      <th>time</th>\n",
       "    </tr>\n",
       "  </thead>\n",
       "  <tbody>\n",
       "    <tr>\n",
       "      <th>0</th>\n",
       "      <td>0009655768c64bdeb2e877511632db8f</td>\n",
       "      <td>2906b810c7d4411798c6938adc9daaa5</td>\n",
       "      <td>discount</td>\n",
       "      <td>1</td>\n",
       "    </tr>\n",
       "    <tr>\n",
       "      <th>1</th>\n",
       "      <td>0009655768c64bdeb2e877511632db8f</td>\n",
       "      <td>3f207df678b143eea3cee63160fa8bed</td>\n",
       "      <td>informational</td>\n",
       "      <td>1</td>\n",
       "    </tr>\n",
       "    <tr>\n",
       "      <th>2</th>\n",
       "      <td>0009655768c64bdeb2e877511632db8f</td>\n",
       "      <td>5a8bc65990b245e5a138643cd4eb9837</td>\n",
       "      <td>informational</td>\n",
       "      <td>1</td>\n",
       "    </tr>\n",
       "    <tr>\n",
       "      <th>3</th>\n",
       "      <td>0009655768c64bdeb2e877511632db8f</td>\n",
       "      <td>f19421c1d4aa40978ebb69ca19b0e20d</td>\n",
       "      <td>bogo</td>\n",
       "      <td>1</td>\n",
       "    </tr>\n",
       "    <tr>\n",
       "      <th>4</th>\n",
       "      <td>0009655768c64bdeb2e877511632db8f</td>\n",
       "      <td>fafdcd668e3743c1bb461111dcafc2a4</td>\n",
       "      <td>discount</td>\n",
       "      <td>1</td>\n",
       "    </tr>\n",
       "  </tbody>\n",
       "</table>\n",
       "</div>"
      ],
      "text/plain": [
       "                        customer_id                      portfolio_id  \\\n",
       "0  0009655768c64bdeb2e877511632db8f  2906b810c7d4411798c6938adc9daaa5   \n",
       "1  0009655768c64bdeb2e877511632db8f  3f207df678b143eea3cee63160fa8bed   \n",
       "2  0009655768c64bdeb2e877511632db8f  5a8bc65990b245e5a138643cd4eb9837   \n",
       "3  0009655768c64bdeb2e877511632db8f  f19421c1d4aa40978ebb69ca19b0e20d   \n",
       "4  0009655768c64bdeb2e877511632db8f  fafdcd668e3743c1bb461111dcafc2a4   \n",
       "\n",
       "      offer_type  time  \n",
       "0       discount     1  \n",
       "1  informational     1  \n",
       "2  informational     1  \n",
       "3           bogo     1  \n",
       "4       discount     1  "
      ]
     },
     "execution_count": 993,
     "metadata": {},
     "output_type": "execute_result"
    }
   ],
   "source": [
    "eva_df.head()"
   ]
  },
  {
   "cell_type": "code",
   "execution_count": 994,
   "metadata": {},
   "outputs": [
    {
     "data": {
      "text/plain": [
       "array(['bogo', 'discount', 'informational'], dtype=object)"
      ]
     },
     "execution_count": 994,
     "metadata": {},
     "output_type": "execute_result"
    }
   ],
   "source": [
    "eva_df.loc[eva_df[\"time\"]>1, \"offer_type\"].unique()"
   ]
  },
  {
   "cell_type": "markdown",
   "metadata": {},
   "source": [
    "# Split the data by offer type. Set assumptions below:\n",
    "1. bogo offers count the transactions when the offer completed (The same time as offer completed)\n",
    "2. discount offers need to complete sub-tasks before complete the offer. The transactions between offer received and offer completed/offer ends\n",
    "3. info offers count the transactions between offer received and offer ends"
   ]
  },
  {
   "cell_type": "code",
   "execution_count": 995,
   "metadata": {},
   "outputs": [
    {
     "data": {
      "text/plain": [
       "array(['bogo', 'discount', 'informational', nan], dtype=object)"
      ]
     },
     "execution_count": 995,
     "metadata": {},
     "output_type": "execute_result"
    }
   ],
   "source": [
    "transcript_new[\"offer_type\"].unique()"
   ]
  },
  {
   "cell_type": "code",
   "execution_count": 996,
   "metadata": {},
   "outputs": [],
   "source": [
    "transcript_bogo_df = transcript_new[transcript_new[\"offer_type\"] == \"bogo\"]\n",
    "transcript_disc_df = transcript_new[transcript_new[\"offer_type\"] == \"discount\"]\n",
    "transcript_info_df = transcript_new[transcript_new[\"offer_type\"] == \"informational\"]"
   ]
  },
  {
   "cell_type": "code",
   "execution_count": 997,
   "metadata": {},
   "outputs": [],
   "source": [
    "transcript_info_received_df = transcript_info_df[transcript_info_df[\"event\"] == \"offer received\"]\n",
    "transcript_disc_received_df = transcript_disc_df[transcript_disc_df[\"event\"] == \"offer received\"]\n",
    "transcript_bogo_received_df = transcript_bogo_df[transcript_bogo_df[\"event\"] == \"offer received\"]"
   ]
  },
  {
   "cell_type": "code",
   "execution_count": 998,
   "metadata": {},
   "outputs": [
    {
     "name": "stderr",
     "output_type": "stream",
     "text": [
      "/opt/conda/lib/python3.6/site-packages/ipykernel_launcher.py:2: SettingWithCopyWarning: \n",
      "A value is trying to be set on a copy of a slice from a DataFrame.\n",
      "Try using .loc[row_indexer,col_indexer] = value instead\n",
      "\n",
      "See the caveats in the documentation: http://pandas.pydata.org/pandas-docs/stable/indexing.html#indexing-view-versus-copy\n",
      "  \n",
      "/opt/conda/lib/python3.6/site-packages/ipykernel_launcher.py:3: SettingWithCopyWarning: \n",
      "A value is trying to be set on a copy of a slice from a DataFrame.\n",
      "Try using .loc[row_indexer,col_indexer] = value instead\n",
      "\n",
      "See the caveats in the documentation: http://pandas.pydata.org/pandas-docs/stable/indexing.html#indexing-view-versus-copy\n",
      "  This is separate from the ipykernel package so we can avoid doing imports until\n"
     ]
    }
   ],
   "source": [
    "transcript_info_received_df[\"offer_end_time\"] = transcript_info_received_df[\"time\"] + transcript_info_received_df[\"duration\"]\n",
    "transcript_disc_received_df[\"offer_end_time\"] = transcript_disc_received_df[\"time\"] + transcript_disc_received_df[\"duration\"]\n",
    "transcript_bogo_received_df[\"offer_end_time\"] = transcript_bogo_received_df[\"time\"] + transcript_bogo_received_df[\"duration\"]"
   ]
  },
  {
   "cell_type": "code",
   "execution_count": 999,
   "metadata": {},
   "outputs": [],
   "source": [
    "transcript_info_received_df = transcript_info_received_df.rename(columns = {\"time\":\"offer_received_time\"})\n",
    "transcript_disc_received_df = transcript_disc_received_df.rename(columns = {\"time\":\"offer_received_time\"})\n",
    "transcript_bogo_received_df = transcript_bogo_received_df.rename(columns = {\"time\":\"offer_received_time\"})"
   ]
  },
  {
   "cell_type": "code",
   "execution_count": 1000,
   "metadata": {},
   "outputs": [],
   "source": [
    "transcript_disc_completed_df = transcript_disc_df[transcript_disc_df[\"event\"] == \"offer completed\"]\n",
    "transcript_bogo_completed_df = transcript_bogo_df[transcript_bogo_df[\"event\"] == \"offer completed\"]"
   ]
  },
  {
   "cell_type": "code",
   "execution_count": 1001,
   "metadata": {},
   "outputs": [],
   "source": [
    "transcript_bogo_completed_df = transcript_bogo_completed_df.rename(columns = {\"time\":\"offer_completed_time\"})\n",
    "transcript_disc_completed_df = transcript_disc_completed_df.rename(columns = {\"time\":\"offer_completed_time\"})"
   ]
  },
  {
   "cell_type": "code",
   "execution_count": 1002,
   "metadata": {},
   "outputs": [],
   "source": [
    "transcript_bogo_final_df_temp = transcript_bogo_received_df.merge(transcript_bogo_completed_df, how = \"left\", on = [\"customer_id\", \"portfolio_id\"])"
   ]
  },
  {
   "cell_type": "code",
   "execution_count": 1003,
   "metadata": {},
   "outputs": [],
   "source": [
    "transcript_disc_final_df_temp = transcript_disc_received_df.merge(transcript_disc_completed_df, how = \"left\", on = [\"customer_id\", \"portfolio_id\"])"
   ]
  },
  {
   "cell_type": "code",
   "execution_count": 1004,
   "metadata": {},
   "outputs": [],
   "source": [
    "transcript_bogo_final_df_temp = transcript_bogo_final_df_temp[((transcript_bogo_final_df_temp[\"offer_completed_time\"] >= \\\n",
    "                                 transcript_bogo_final_df_temp[\"offer_received_time\"]) &\n",
    "                                 (transcript_bogo_final_df_temp[\"offer_completed_time\"] <= \\\n",
    "                                 transcript_bogo_final_df_temp[\"offer_end_time\"])\n",
    "                                ) | (transcript_bogo_final_df_temp[\"offer_completed_time\"].isnull())]"
   ]
  },
  {
   "cell_type": "code",
   "execution_count": 1005,
   "metadata": {
    "scrolled": true
   },
   "outputs": [
    {
     "data": {
      "text/html": [
       "<div>\n",
       "<style scoped>\n",
       "    .dataframe tbody tr th:only-of-type {\n",
       "        vertical-align: middle;\n",
       "    }\n",
       "\n",
       "    .dataframe tbody tr th {\n",
       "        vertical-align: top;\n",
       "    }\n",
       "\n",
       "    .dataframe thead th {\n",
       "        text-align: right;\n",
       "    }\n",
       "</style>\n",
       "<table border=\"1\" class=\"dataframe\">\n",
       "  <thead>\n",
       "    <tr style=\"text-align: right;\">\n",
       "      <th></th>\n",
       "      <th>customer_id</th>\n",
       "      <th>portfolio_id</th>\n",
       "      <th>event_x</th>\n",
       "      <th>offer_received_time</th>\n",
       "      <th>amount_x</th>\n",
       "      <th>duration_x</th>\n",
       "      <th>offer_type_x</th>\n",
       "      <th>offer_end_time</th>\n",
       "      <th>event_y</th>\n",
       "      <th>offer_completed_time</th>\n",
       "      <th>amount_y</th>\n",
       "      <th>duration_y</th>\n",
       "      <th>offer_type_y</th>\n",
       "    </tr>\n",
       "  </thead>\n",
       "  <tbody>\n",
       "    <tr>\n",
       "      <th>0</th>\n",
       "      <td>78afa995795e4d85b5d9ceeca43f5fef</td>\n",
       "      <td>9b98b8c7a33c4b65b9aebfe6a799e6d9</td>\n",
       "      <td>offer received</td>\n",
       "      <td>0</td>\n",
       "      <td>0.0</td>\n",
       "      <td>168.0</td>\n",
       "      <td>bogo</td>\n",
       "      <td>168.0</td>\n",
       "      <td>offer completed</td>\n",
       "      <td>132.0</td>\n",
       "      <td>0.0</td>\n",
       "      <td>168.0</td>\n",
       "      <td>bogo</td>\n",
       "    </tr>\n",
       "    <tr>\n",
       "      <th>1</th>\n",
       "      <td>68617ca6246f4fbc85e91a2a49552598</td>\n",
       "      <td>4d5c57ea9a6940dd891ad53e9dbe8da0</td>\n",
       "      <td>offer received</td>\n",
       "      <td>0</td>\n",
       "      <td>0.0</td>\n",
       "      <td>120.0</td>\n",
       "      <td>bogo</td>\n",
       "      <td>120.0</td>\n",
       "      <td>NaN</td>\n",
       "      <td>NaN</td>\n",
       "      <td>NaN</td>\n",
       "      <td>NaN</td>\n",
       "      <td>NaN</td>\n",
       "    </tr>\n",
       "    <tr>\n",
       "      <th>2</th>\n",
       "      <td>389bc3fa690240e798340f5a15918d5c</td>\n",
       "      <td>f19421c1d4aa40978ebb69ca19b0e20d</td>\n",
       "      <td>offer received</td>\n",
       "      <td>0</td>\n",
       "      <td>0.0</td>\n",
       "      <td>120.0</td>\n",
       "      <td>bogo</td>\n",
       "      <td>120.0</td>\n",
       "      <td>offer completed</td>\n",
       "      <td>60.0</td>\n",
       "      <td>0.0</td>\n",
       "      <td>120.0</td>\n",
       "      <td>bogo</td>\n",
       "    </tr>\n",
       "    <tr>\n",
       "      <th>5</th>\n",
       "      <td>ebe7ef46ea6f4963a7dd49f501b26779</td>\n",
       "      <td>9b98b8c7a33c4b65b9aebfe6a799e6d9</td>\n",
       "      <td>offer received</td>\n",
       "      <td>0</td>\n",
       "      <td>0.0</td>\n",
       "      <td>168.0</td>\n",
       "      <td>bogo</td>\n",
       "      <td>168.0</td>\n",
       "      <td>NaN</td>\n",
       "      <td>NaN</td>\n",
       "      <td>NaN</td>\n",
       "      <td>NaN</td>\n",
       "      <td>NaN</td>\n",
       "    </tr>\n",
       "    <tr>\n",
       "      <th>6</th>\n",
       "      <td>1e9420836d554513ab90eba98552d0a9</td>\n",
       "      <td>ae264e3637204a6fb9bb56bc8210ddfd</td>\n",
       "      <td>offer received</td>\n",
       "      <td>0</td>\n",
       "      <td>0.0</td>\n",
       "      <td>168.0</td>\n",
       "      <td>bogo</td>\n",
       "      <td>168.0</td>\n",
       "      <td>NaN</td>\n",
       "      <td>NaN</td>\n",
       "      <td>NaN</td>\n",
       "      <td>NaN</td>\n",
       "      <td>NaN</td>\n",
       "    </tr>\n",
       "  </tbody>\n",
       "</table>\n",
       "</div>"
      ],
      "text/plain": [
       "                        customer_id                      portfolio_id  \\\n",
       "0  78afa995795e4d85b5d9ceeca43f5fef  9b98b8c7a33c4b65b9aebfe6a799e6d9   \n",
       "1  68617ca6246f4fbc85e91a2a49552598  4d5c57ea9a6940dd891ad53e9dbe8da0   \n",
       "2  389bc3fa690240e798340f5a15918d5c  f19421c1d4aa40978ebb69ca19b0e20d   \n",
       "5  ebe7ef46ea6f4963a7dd49f501b26779  9b98b8c7a33c4b65b9aebfe6a799e6d9   \n",
       "6  1e9420836d554513ab90eba98552d0a9  ae264e3637204a6fb9bb56bc8210ddfd   \n",
       "\n",
       "          event_x  offer_received_time  amount_x  duration_x offer_type_x  \\\n",
       "0  offer received                    0       0.0       168.0         bogo   \n",
       "1  offer received                    0       0.0       120.0         bogo   \n",
       "2  offer received                    0       0.0       120.0         bogo   \n",
       "5  offer received                    0       0.0       168.0         bogo   \n",
       "6  offer received                    0       0.0       168.0         bogo   \n",
       "\n",
       "   offer_end_time          event_y  offer_completed_time  amount_y  \\\n",
       "0           168.0  offer completed                 132.0       0.0   \n",
       "1           120.0              NaN                   NaN       NaN   \n",
       "2           120.0  offer completed                  60.0       0.0   \n",
       "5           168.0              NaN                   NaN       NaN   \n",
       "6           168.0              NaN                   NaN       NaN   \n",
       "\n",
       "   duration_y offer_type_y  \n",
       "0       168.0         bogo  \n",
       "1         NaN          NaN  \n",
       "2       120.0         bogo  \n",
       "5         NaN          NaN  \n",
       "6         NaN          NaN  "
      ]
     },
     "execution_count": 1005,
     "metadata": {},
     "output_type": "execute_result"
    }
   ],
   "source": [
    "transcript_bogo_final_df_temp.head()"
   ]
  },
  {
   "cell_type": "markdown",
   "metadata": {},
   "source": [
    "Work on clean up discount offer related data"
   ]
  },
  {
   "cell_type": "code",
   "execution_count": 1006,
   "metadata": {},
   "outputs": [],
   "source": [
    "transcript_disc_final_df_temp = transcript_disc_final_df_temp[((transcript_disc_final_df_temp[\"offer_completed_time\"] >= \\\n",
    "                                 transcript_disc_final_df_temp[\"offer_received_time\"]) &\n",
    "                                 (transcript_disc_final_df_temp[\"offer_completed_time\"] <= \\\n",
    "                                 transcript_disc_final_df_temp[\"offer_end_time\"])\n",
    "                                ) | (transcript_disc_final_df_temp[\"offer_completed_time\"].isnull())]"
   ]
  },
  {
   "cell_type": "code",
   "execution_count": 1007,
   "metadata": {
    "scrolled": true
   },
   "outputs": [],
   "source": [
    "transcript_disc_final_df_temp = transcript_disc_final_df_temp.drop_duplicates()"
   ]
  },
  {
   "cell_type": "code",
   "execution_count": 1008,
   "metadata": {},
   "outputs": [],
   "source": [
    "transcript_disc_final_completed_df_temp = transcript_disc_final_df_temp[~transcript_disc_final_df_temp[\"offer_completed_time\"].isnull()]"
   ]
  },
  {
   "cell_type": "code",
   "execution_count": 1009,
   "metadata": {},
   "outputs": [
    {
     "data": {
      "text/html": [
       "<div>\n",
       "<style scoped>\n",
       "    .dataframe tbody tr th:only-of-type {\n",
       "        vertical-align: middle;\n",
       "    }\n",
       "\n",
       "    .dataframe tbody tr th {\n",
       "        vertical-align: top;\n",
       "    }\n",
       "\n",
       "    .dataframe thead th {\n",
       "        text-align: right;\n",
       "    }\n",
       "</style>\n",
       "<table border=\"1\" class=\"dataframe\">\n",
       "  <thead>\n",
       "    <tr style=\"text-align: right;\">\n",
       "      <th></th>\n",
       "      <th>customer_id</th>\n",
       "      <th>portfolio_id</th>\n",
       "      <th>event_x</th>\n",
       "      <th>offer_received_time</th>\n",
       "      <th>amount_x</th>\n",
       "      <th>duration_x</th>\n",
       "      <th>offer_type_x</th>\n",
       "      <th>offer_end_time</th>\n",
       "      <th>event_y</th>\n",
       "      <th>offer_completed_time</th>\n",
       "      <th>amount_y</th>\n",
       "      <th>duration_y</th>\n",
       "      <th>offer_type_y</th>\n",
       "    </tr>\n",
       "  </thead>\n",
       "  <tbody>\n",
       "    <tr>\n",
       "      <th>8</th>\n",
       "      <td>d53717f5400c4e84affdaeda9dd926b3</td>\n",
       "      <td>0b1e1539f2cc45b7b9fa7c272da2e1d7</td>\n",
       "      <td>offer received</td>\n",
       "      <td>0</td>\n",
       "      <td>0.0</td>\n",
       "      <td>240.0</td>\n",
       "      <td>discount</td>\n",
       "      <td>240.0</td>\n",
       "      <td>offer completed</td>\n",
       "      <td>30.0</td>\n",
       "      <td>0.0</td>\n",
       "      <td>240.0</td>\n",
       "      <td>discount</td>\n",
       "    </tr>\n",
       "    <tr>\n",
       "      <th>10</th>\n",
       "      <td>f806632c011441378d4646567f357a21</td>\n",
       "      <td>fafdcd668e3743c1bb461111dcafc2a4</td>\n",
       "      <td>offer received</td>\n",
       "      <td>0</td>\n",
       "      <td>0.0</td>\n",
       "      <td>240.0</td>\n",
       "      <td>discount</td>\n",
       "      <td>240.0</td>\n",
       "      <td>offer completed</td>\n",
       "      <td>126.0</td>\n",
       "      <td>0.0</td>\n",
       "      <td>240.0</td>\n",
       "      <td>discount</td>\n",
       "    </tr>\n",
       "    <tr>\n",
       "      <th>12</th>\n",
       "      <td>d058f73bf8674a26a95227db098147b1</td>\n",
       "      <td>0b1e1539f2cc45b7b9fa7c272da2e1d7</td>\n",
       "      <td>offer received</td>\n",
       "      <td>0</td>\n",
       "      <td>0.0</td>\n",
       "      <td>240.0</td>\n",
       "      <td>discount</td>\n",
       "      <td>240.0</td>\n",
       "      <td>offer completed</td>\n",
       "      <td>192.0</td>\n",
       "      <td>0.0</td>\n",
       "      <td>240.0</td>\n",
       "      <td>discount</td>\n",
       "    </tr>\n",
       "    <tr>\n",
       "      <th>15</th>\n",
       "      <td>868317b9be554cb18e50bc68484749a2</td>\n",
       "      <td>2906b810c7d4411798c6938adc9daaa5</td>\n",
       "      <td>offer received</td>\n",
       "      <td>0</td>\n",
       "      <td>0.0</td>\n",
       "      <td>168.0</td>\n",
       "      <td>discount</td>\n",
       "      <td>168.0</td>\n",
       "      <td>offer completed</td>\n",
       "      <td>132.0</td>\n",
       "      <td>0.0</td>\n",
       "      <td>168.0</td>\n",
       "      <td>discount</td>\n",
       "    </tr>\n",
       "    <tr>\n",
       "      <th>16</th>\n",
       "      <td>4beeb3ed64dd4898b0edf2f6b67426d3</td>\n",
       "      <td>2906b810c7d4411798c6938adc9daaa5</td>\n",
       "      <td>offer received</td>\n",
       "      <td>0</td>\n",
       "      <td>0.0</td>\n",
       "      <td>168.0</td>\n",
       "      <td>discount</td>\n",
       "      <td>168.0</td>\n",
       "      <td>offer completed</td>\n",
       "      <td>120.0</td>\n",
       "      <td>0.0</td>\n",
       "      <td>168.0</td>\n",
       "      <td>discount</td>\n",
       "    </tr>\n",
       "  </tbody>\n",
       "</table>\n",
       "</div>"
      ],
      "text/plain": [
       "                         customer_id                      portfolio_id  \\\n",
       "8   d53717f5400c4e84affdaeda9dd926b3  0b1e1539f2cc45b7b9fa7c272da2e1d7   \n",
       "10  f806632c011441378d4646567f357a21  fafdcd668e3743c1bb461111dcafc2a4   \n",
       "12  d058f73bf8674a26a95227db098147b1  0b1e1539f2cc45b7b9fa7c272da2e1d7   \n",
       "15  868317b9be554cb18e50bc68484749a2  2906b810c7d4411798c6938adc9daaa5   \n",
       "16  4beeb3ed64dd4898b0edf2f6b67426d3  2906b810c7d4411798c6938adc9daaa5   \n",
       "\n",
       "           event_x  offer_received_time  amount_x  duration_x offer_type_x  \\\n",
       "8   offer received                    0       0.0       240.0     discount   \n",
       "10  offer received                    0       0.0       240.0     discount   \n",
       "12  offer received                    0       0.0       240.0     discount   \n",
       "15  offer received                    0       0.0       168.0     discount   \n",
       "16  offer received                    0       0.0       168.0     discount   \n",
       "\n",
       "    offer_end_time          event_y  offer_completed_time  amount_y  \\\n",
       "8            240.0  offer completed                  30.0       0.0   \n",
       "10           240.0  offer completed                 126.0       0.0   \n",
       "12           240.0  offer completed                 192.0       0.0   \n",
       "15           168.0  offer completed                 132.0       0.0   \n",
       "16           168.0  offer completed                 120.0       0.0   \n",
       "\n",
       "    duration_y offer_type_y  \n",
       "8        240.0     discount  \n",
       "10       240.0     discount  \n",
       "12       240.0     discount  \n",
       "15       168.0     discount  \n",
       "16       168.0     discount  "
      ]
     },
     "execution_count": 1009,
     "metadata": {},
     "output_type": "execute_result"
    }
   ],
   "source": [
    "transcript_disc_final_completed_df_temp.head()"
   ]
  },
  {
   "cell_type": "code",
   "execution_count": 1010,
   "metadata": {
    "scrolled": true
   },
   "outputs": [
    {
     "name": "stderr",
     "output_type": "stream",
     "text": [
      "/opt/conda/lib/python3.6/site-packages/ipykernel_launcher.py:1: SettingWithCopyWarning: \n",
      "A value is trying to be set on a copy of a slice from a DataFrame.\n",
      "Try using .loc[row_indexer,col_indexer] = value instead\n",
      "\n",
      "See the caveats in the documentation: http://pandas.pydata.org/pandas-docs/stable/indexing.html#indexing-view-versus-copy\n",
      "  \"\"\"Entry point for launching an IPython kernel.\n"
     ]
    }
   ],
   "source": [
    "transcript_disc_final_completed_df_temp[\"offer_end_time_new\"] = transcript_disc_final_completed_df_temp[\"offer_completed_time\"]"
   ]
  },
  {
   "cell_type": "code",
   "execution_count": 1011,
   "metadata": {
    "scrolled": true
   },
   "outputs": [
    {
     "data": {
      "text/html": [
       "<div>\n",
       "<style scoped>\n",
       "    .dataframe tbody tr th:only-of-type {\n",
       "        vertical-align: middle;\n",
       "    }\n",
       "\n",
       "    .dataframe tbody tr th {\n",
       "        vertical-align: top;\n",
       "    }\n",
       "\n",
       "    .dataframe thead th {\n",
       "        text-align: right;\n",
       "    }\n",
       "</style>\n",
       "<table border=\"1\" class=\"dataframe\">\n",
       "  <thead>\n",
       "    <tr style=\"text-align: right;\">\n",
       "      <th></th>\n",
       "      <th>customer_id</th>\n",
       "      <th>portfolio_id</th>\n",
       "      <th>event_x</th>\n",
       "      <th>offer_received_time</th>\n",
       "      <th>amount_x</th>\n",
       "      <th>duration_x</th>\n",
       "      <th>offer_type_x</th>\n",
       "      <th>offer_end_time</th>\n",
       "      <th>event_y</th>\n",
       "      <th>offer_completed_time</th>\n",
       "      <th>amount_y</th>\n",
       "      <th>duration_y</th>\n",
       "      <th>offer_type_y</th>\n",
       "      <th>offer_end_time_new</th>\n",
       "    </tr>\n",
       "  </thead>\n",
       "  <tbody>\n",
       "    <tr>\n",
       "      <th>8</th>\n",
       "      <td>d53717f5400c4e84affdaeda9dd926b3</td>\n",
       "      <td>0b1e1539f2cc45b7b9fa7c272da2e1d7</td>\n",
       "      <td>offer received</td>\n",
       "      <td>0</td>\n",
       "      <td>0.0</td>\n",
       "      <td>240.0</td>\n",
       "      <td>discount</td>\n",
       "      <td>240.0</td>\n",
       "      <td>offer completed</td>\n",
       "      <td>30.0</td>\n",
       "      <td>0.0</td>\n",
       "      <td>240.0</td>\n",
       "      <td>discount</td>\n",
       "      <td>30.0</td>\n",
       "    </tr>\n",
       "    <tr>\n",
       "      <th>10</th>\n",
       "      <td>f806632c011441378d4646567f357a21</td>\n",
       "      <td>fafdcd668e3743c1bb461111dcafc2a4</td>\n",
       "      <td>offer received</td>\n",
       "      <td>0</td>\n",
       "      <td>0.0</td>\n",
       "      <td>240.0</td>\n",
       "      <td>discount</td>\n",
       "      <td>240.0</td>\n",
       "      <td>offer completed</td>\n",
       "      <td>126.0</td>\n",
       "      <td>0.0</td>\n",
       "      <td>240.0</td>\n",
       "      <td>discount</td>\n",
       "      <td>126.0</td>\n",
       "    </tr>\n",
       "    <tr>\n",
       "      <th>12</th>\n",
       "      <td>d058f73bf8674a26a95227db098147b1</td>\n",
       "      <td>0b1e1539f2cc45b7b9fa7c272da2e1d7</td>\n",
       "      <td>offer received</td>\n",
       "      <td>0</td>\n",
       "      <td>0.0</td>\n",
       "      <td>240.0</td>\n",
       "      <td>discount</td>\n",
       "      <td>240.0</td>\n",
       "      <td>offer completed</td>\n",
       "      <td>192.0</td>\n",
       "      <td>0.0</td>\n",
       "      <td>240.0</td>\n",
       "      <td>discount</td>\n",
       "      <td>192.0</td>\n",
       "    </tr>\n",
       "    <tr>\n",
       "      <th>15</th>\n",
       "      <td>868317b9be554cb18e50bc68484749a2</td>\n",
       "      <td>2906b810c7d4411798c6938adc9daaa5</td>\n",
       "      <td>offer received</td>\n",
       "      <td>0</td>\n",
       "      <td>0.0</td>\n",
       "      <td>168.0</td>\n",
       "      <td>discount</td>\n",
       "      <td>168.0</td>\n",
       "      <td>offer completed</td>\n",
       "      <td>132.0</td>\n",
       "      <td>0.0</td>\n",
       "      <td>168.0</td>\n",
       "      <td>discount</td>\n",
       "      <td>132.0</td>\n",
       "    </tr>\n",
       "    <tr>\n",
       "      <th>16</th>\n",
       "      <td>4beeb3ed64dd4898b0edf2f6b67426d3</td>\n",
       "      <td>2906b810c7d4411798c6938adc9daaa5</td>\n",
       "      <td>offer received</td>\n",
       "      <td>0</td>\n",
       "      <td>0.0</td>\n",
       "      <td>168.0</td>\n",
       "      <td>discount</td>\n",
       "      <td>168.0</td>\n",
       "      <td>offer completed</td>\n",
       "      <td>120.0</td>\n",
       "      <td>0.0</td>\n",
       "      <td>168.0</td>\n",
       "      <td>discount</td>\n",
       "      <td>120.0</td>\n",
       "    </tr>\n",
       "  </tbody>\n",
       "</table>\n",
       "</div>"
      ],
      "text/plain": [
       "                         customer_id                      portfolio_id  \\\n",
       "8   d53717f5400c4e84affdaeda9dd926b3  0b1e1539f2cc45b7b9fa7c272da2e1d7   \n",
       "10  f806632c011441378d4646567f357a21  fafdcd668e3743c1bb461111dcafc2a4   \n",
       "12  d058f73bf8674a26a95227db098147b1  0b1e1539f2cc45b7b9fa7c272da2e1d7   \n",
       "15  868317b9be554cb18e50bc68484749a2  2906b810c7d4411798c6938adc9daaa5   \n",
       "16  4beeb3ed64dd4898b0edf2f6b67426d3  2906b810c7d4411798c6938adc9daaa5   \n",
       "\n",
       "           event_x  offer_received_time  amount_x  duration_x offer_type_x  \\\n",
       "8   offer received                    0       0.0       240.0     discount   \n",
       "10  offer received                    0       0.0       240.0     discount   \n",
       "12  offer received                    0       0.0       240.0     discount   \n",
       "15  offer received                    0       0.0       168.0     discount   \n",
       "16  offer received                    0       0.0       168.0     discount   \n",
       "\n",
       "    offer_end_time          event_y  offer_completed_time  amount_y  \\\n",
       "8            240.0  offer completed                  30.0       0.0   \n",
       "10           240.0  offer completed                 126.0       0.0   \n",
       "12           240.0  offer completed                 192.0       0.0   \n",
       "15           168.0  offer completed                 132.0       0.0   \n",
       "16           168.0  offer completed                 120.0       0.0   \n",
       "\n",
       "    duration_y offer_type_y  offer_end_time_new  \n",
       "8        240.0     discount                30.0  \n",
       "10       240.0     discount               126.0  \n",
       "12       240.0     discount               192.0  \n",
       "15       168.0     discount               132.0  \n",
       "16       168.0     discount               120.0  "
      ]
     },
     "execution_count": 1011,
     "metadata": {},
     "output_type": "execute_result"
    }
   ],
   "source": [
    "transcript_disc_final_completed_df_temp.head()"
   ]
  },
  {
   "cell_type": "code",
   "execution_count": 1012,
   "metadata": {},
   "outputs": [],
   "source": [
    "transcript_disct_final_non_completed_df_temp = transcript_disc_final_df_temp.loc[transcript_disc_final_df_temp[\"offer_completed_time\"].isnull(), \\\n",
    "                                  [\"customer_id\", \"portfolio_id\", \"offer_received_time\", \"duration_x\", \"offer_end_time\"]]"
   ]
  },
  {
   "cell_type": "code",
   "execution_count": 1013,
   "metadata": {},
   "outputs": [
    {
     "data": {
      "text/html": [
       "<div>\n",
       "<style scoped>\n",
       "    .dataframe tbody tr th:only-of-type {\n",
       "        vertical-align: middle;\n",
       "    }\n",
       "\n",
       "    .dataframe tbody tr th {\n",
       "        vertical-align: top;\n",
       "    }\n",
       "\n",
       "    .dataframe thead th {\n",
       "        text-align: right;\n",
       "    }\n",
       "</style>\n",
       "<table border=\"1\" class=\"dataframe\">\n",
       "  <thead>\n",
       "    <tr style=\"text-align: right;\">\n",
       "      <th></th>\n",
       "      <th>customer_id</th>\n",
       "      <th>portfolio_id</th>\n",
       "      <th>offer_received_time</th>\n",
       "      <th>duration_x</th>\n",
       "      <th>offer_end_time</th>\n",
       "    </tr>\n",
       "  </thead>\n",
       "  <tbody>\n",
       "    <tr>\n",
       "      <th>0</th>\n",
       "      <td>a03223e636434f42ac4c3df47e8bac43</td>\n",
       "      <td>0b1e1539f2cc45b7b9fa7c272da2e1d7</td>\n",
       "      <td>0</td>\n",
       "      <td>240.0</td>\n",
       "      <td>240.0</td>\n",
       "    </tr>\n",
       "    <tr>\n",
       "      <th>1</th>\n",
       "      <td>e2127556f4f64592b11af22de27a7932</td>\n",
       "      <td>2906b810c7d4411798c6938adc9daaa5</td>\n",
       "      <td>0</td>\n",
       "      <td>168.0</td>\n",
       "      <td>168.0</td>\n",
       "    </tr>\n",
       "    <tr>\n",
       "      <th>2</th>\n",
       "      <td>8ec6ce2a7e7949b1bf142def7d0e0586</td>\n",
       "      <td>fafdcd668e3743c1bb461111dcafc2a4</td>\n",
       "      <td>0</td>\n",
       "      <td>240.0</td>\n",
       "      <td>240.0</td>\n",
       "    </tr>\n",
       "    <tr>\n",
       "      <th>3</th>\n",
       "      <td>c4863c7985cf408faee930f111475da3</td>\n",
       "      <td>2298d6c36e964ae4a3e7e9706d1fb8c2</td>\n",
       "      <td>0</td>\n",
       "      <td>168.0</td>\n",
       "      <td>168.0</td>\n",
       "    </tr>\n",
       "    <tr>\n",
       "      <th>4</th>\n",
       "      <td>aa4862eba776480b8bb9c68455b8c2e1</td>\n",
       "      <td>0b1e1539f2cc45b7b9fa7c272da2e1d7</td>\n",
       "      <td>0</td>\n",
       "      <td>240.0</td>\n",
       "      <td>240.0</td>\n",
       "    </tr>\n",
       "  </tbody>\n",
       "</table>\n",
       "</div>"
      ],
      "text/plain": [
       "                        customer_id                      portfolio_id  \\\n",
       "0  a03223e636434f42ac4c3df47e8bac43  0b1e1539f2cc45b7b9fa7c272da2e1d7   \n",
       "1  e2127556f4f64592b11af22de27a7932  2906b810c7d4411798c6938adc9daaa5   \n",
       "2  8ec6ce2a7e7949b1bf142def7d0e0586  fafdcd668e3743c1bb461111dcafc2a4   \n",
       "3  c4863c7985cf408faee930f111475da3  2298d6c36e964ae4a3e7e9706d1fb8c2   \n",
       "4  aa4862eba776480b8bb9c68455b8c2e1  0b1e1539f2cc45b7b9fa7c272da2e1d7   \n",
       "\n",
       "   offer_received_time  duration_x  offer_end_time  \n",
       "0                    0       240.0           240.0  \n",
       "1                    0       168.0           168.0  \n",
       "2                    0       240.0           240.0  \n",
       "3                    0       168.0           168.0  \n",
       "4                    0       240.0           240.0  "
      ]
     },
     "execution_count": 1013,
     "metadata": {},
     "output_type": "execute_result"
    }
   ],
   "source": [
    "transcript_disct_final_non_completed_df_temp.head()"
   ]
  },
  {
   "cell_type": "code",
   "execution_count": 1014,
   "metadata": {},
   "outputs": [],
   "source": [
    "transcript_disc_final_completed_df_temp = transcript_disc_final_completed_df_temp[[\"customer_id\", \"portfolio_id\", \\\n",
    "\"offer_received_time\", \"duration_x\", \"offer_end_time_new\"]]"
   ]
  },
  {
   "cell_type": "code",
   "execution_count": 1015,
   "metadata": {},
   "outputs": [],
   "source": [
    "transcript_disc_final_completed_df_temp = transcript_disc_final_completed_df_temp.rename(columns = {\"offer_end_time_new\":\"offer_end_time\"})"
   ]
  },
  {
   "cell_type": "code",
   "execution_count": 1016,
   "metadata": {},
   "outputs": [
    {
     "data": {
      "text/html": [
       "<div>\n",
       "<style scoped>\n",
       "    .dataframe tbody tr th:only-of-type {\n",
       "        vertical-align: middle;\n",
       "    }\n",
       "\n",
       "    .dataframe tbody tr th {\n",
       "        vertical-align: top;\n",
       "    }\n",
       "\n",
       "    .dataframe thead th {\n",
       "        text-align: right;\n",
       "    }\n",
       "</style>\n",
       "<table border=\"1\" class=\"dataframe\">\n",
       "  <thead>\n",
       "    <tr style=\"text-align: right;\">\n",
       "      <th></th>\n",
       "      <th>customer_id</th>\n",
       "      <th>portfolio_id</th>\n",
       "      <th>offer_received_time</th>\n",
       "      <th>duration_x</th>\n",
       "      <th>offer_end_time</th>\n",
       "    </tr>\n",
       "  </thead>\n",
       "  <tbody>\n",
       "    <tr>\n",
       "      <th>8</th>\n",
       "      <td>d53717f5400c4e84affdaeda9dd926b3</td>\n",
       "      <td>0b1e1539f2cc45b7b9fa7c272da2e1d7</td>\n",
       "      <td>0</td>\n",
       "      <td>240.0</td>\n",
       "      <td>30.0</td>\n",
       "    </tr>\n",
       "    <tr>\n",
       "      <th>10</th>\n",
       "      <td>f806632c011441378d4646567f357a21</td>\n",
       "      <td>fafdcd668e3743c1bb461111dcafc2a4</td>\n",
       "      <td>0</td>\n",
       "      <td>240.0</td>\n",
       "      <td>126.0</td>\n",
       "    </tr>\n",
       "    <tr>\n",
       "      <th>12</th>\n",
       "      <td>d058f73bf8674a26a95227db098147b1</td>\n",
       "      <td>0b1e1539f2cc45b7b9fa7c272da2e1d7</td>\n",
       "      <td>0</td>\n",
       "      <td>240.0</td>\n",
       "      <td>192.0</td>\n",
       "    </tr>\n",
       "    <tr>\n",
       "      <th>15</th>\n",
       "      <td>868317b9be554cb18e50bc68484749a2</td>\n",
       "      <td>2906b810c7d4411798c6938adc9daaa5</td>\n",
       "      <td>0</td>\n",
       "      <td>168.0</td>\n",
       "      <td>132.0</td>\n",
       "    </tr>\n",
       "    <tr>\n",
       "      <th>16</th>\n",
       "      <td>4beeb3ed64dd4898b0edf2f6b67426d3</td>\n",
       "      <td>2906b810c7d4411798c6938adc9daaa5</td>\n",
       "      <td>0</td>\n",
       "      <td>168.0</td>\n",
       "      <td>120.0</td>\n",
       "    </tr>\n",
       "  </tbody>\n",
       "</table>\n",
       "</div>"
      ],
      "text/plain": [
       "                         customer_id                      portfolio_id  \\\n",
       "8   d53717f5400c4e84affdaeda9dd926b3  0b1e1539f2cc45b7b9fa7c272da2e1d7   \n",
       "10  f806632c011441378d4646567f357a21  fafdcd668e3743c1bb461111dcafc2a4   \n",
       "12  d058f73bf8674a26a95227db098147b1  0b1e1539f2cc45b7b9fa7c272da2e1d7   \n",
       "15  868317b9be554cb18e50bc68484749a2  2906b810c7d4411798c6938adc9daaa5   \n",
       "16  4beeb3ed64dd4898b0edf2f6b67426d3  2906b810c7d4411798c6938adc9daaa5   \n",
       "\n",
       "    offer_received_time  duration_x  offer_end_time  \n",
       "8                     0       240.0            30.0  \n",
       "10                    0       240.0           126.0  \n",
       "12                    0       240.0           192.0  \n",
       "15                    0       168.0           132.0  \n",
       "16                    0       168.0           120.0  "
      ]
     },
     "execution_count": 1016,
     "metadata": {},
     "output_type": "execute_result"
    }
   ],
   "source": [
    "transcript_disc_final_completed_df_temp.head()"
   ]
  },
  {
   "cell_type": "code",
   "execution_count": 1017,
   "metadata": {},
   "outputs": [],
   "source": [
    "transcript_disc_final_df = pd.concat([transcript_disc_final_completed_df_temp, transcript_disct_final_non_completed_df_temp])"
   ]
  },
  {
   "cell_type": "code",
   "execution_count": 1018,
   "metadata": {},
   "outputs": [],
   "source": [
    "transcript_disc_final_df = transcript_disc_final_df.rename(columns = {\"duration_x\":\"duration\"})"
   ]
  },
  {
   "cell_type": "code",
   "execution_count": 1019,
   "metadata": {},
   "outputs": [],
   "source": [
    "transcript_disc_val_df = transcript_disc_final_df.groupby([\"customer_id\", \"portfolio_id\", \"offer_received_time\"]).\\\n",
    "agg({\"offer_end_time\":pd.Series.nunique}).reset_index()\n",
    "transcript_disc_val_problemic_df = transcript_disc_val_df.loc[transcript_disc_val_df[\"offer_end_time\"]>1, \\\n",
    "                                                          [\"customer_id\", \"portfolio_id\", \"offer_received_time\"]]"
   ]
  },
  {
   "cell_type": "code",
   "execution_count": 1020,
   "metadata": {},
   "outputs": [],
   "source": [
    "transcript_disc_val_problemic_df = transcript_disc_val_problemic_df.drop_duplicates()"
   ]
  },
  {
   "cell_type": "code",
   "execution_count": 1021,
   "metadata": {
    "scrolled": true
   },
   "outputs": [],
   "source": [
    "transcript_disc_problemic_df = transcript_disc_final_df[(transcript_disc_final_df[\"customer_id\"].isin(transcript_disc_val_problemic_df[\"customer_id\"]))\\\n",
    "                        & (transcript_disc_final_df[\"portfolio_id\"].isin(transcript_disc_val_problemic_df[\"portfolio_id\"]))\\\n",
    "                        & (transcript_disc_final_df[\"offer_received_time\"].isin(transcript_disc_val_problemic_df[\"offer_received_time\"]))\\\n",
    "                        ]"
   ]
  },
  {
   "cell_type": "code",
   "execution_count": 1022,
   "metadata": {},
   "outputs": [],
   "source": [
    "transcript_disc_clean_df = transcript_disc_final_df[~(transcript_disc_final_df[\"customer_id\"].isin(transcript_disc_val_problemic_df[\"customer_id\"]))\\\n",
    "                        & (transcript_disc_final_df[\"portfolio_id\"].isin(transcript_disc_val_problemic_df[\"portfolio_id\"]))\\\n",
    "                        & (transcript_disc_final_df[\"offer_received_time\"].isin(transcript_disc_val_problemic_df[\"offer_received_time\"]))\\\n",
    "                        ]"
   ]
  },
  {
   "cell_type": "code",
   "execution_count": 1023,
   "metadata": {},
   "outputs": [
    {
     "data": {
      "text/plain": [
       "((2406, 5), (27692, 5))"
      ]
     },
     "execution_count": 1023,
     "metadata": {},
     "output_type": "execute_result"
    }
   ],
   "source": [
    "transcript_disc_problemic_df.shape, transcript_disc_clean_df.shape"
   ]
  },
  {
   "cell_type": "code",
   "execution_count": 1024,
   "metadata": {
    "scrolled": false
   },
   "outputs": [
    {
     "data": {
      "text/html": [
       "<div>\n",
       "<style scoped>\n",
       "    .dataframe tbody tr th:only-of-type {\n",
       "        vertical-align: middle;\n",
       "    }\n",
       "\n",
       "    .dataframe tbody tr th {\n",
       "        vertical-align: top;\n",
       "    }\n",
       "\n",
       "    .dataframe thead th {\n",
       "        text-align: right;\n",
       "    }\n",
       "</style>\n",
       "<table border=\"1\" class=\"dataframe\">\n",
       "  <thead>\n",
       "    <tr style=\"text-align: right;\">\n",
       "      <th></th>\n",
       "      <th>customer_id</th>\n",
       "      <th>portfolio_id</th>\n",
       "      <th>offer_received_time</th>\n",
       "      <th>duration</th>\n",
       "      <th>offer_end_time</th>\n",
       "    </tr>\n",
       "  </thead>\n",
       "  <tbody>\n",
       "    <tr>\n",
       "      <th>24</th>\n",
       "      <td>2e87ba0fba1a4d1a8614af771f07a94d</td>\n",
       "      <td>2298d6c36e964ae4a3e7e9706d1fb8c2</td>\n",
       "      <td>0</td>\n",
       "      <td>168.0</td>\n",
       "      <td>54.0</td>\n",
       "    </tr>\n",
       "    <tr>\n",
       "      <th>25</th>\n",
       "      <td>2e87ba0fba1a4d1a8614af771f07a94d</td>\n",
       "      <td>2298d6c36e964ae4a3e7e9706d1fb8c2</td>\n",
       "      <td>0</td>\n",
       "      <td>168.0</td>\n",
       "      <td>168.0</td>\n",
       "    </tr>\n",
       "    <tr>\n",
       "      <th>80</th>\n",
       "      <td>307245a5204947e5a9f952daffcad5f2</td>\n",
       "      <td>fafdcd668e3743c1bb461111dcafc2a4</td>\n",
       "      <td>0</td>\n",
       "      <td>240.0</td>\n",
       "      <td>84.0</td>\n",
       "    </tr>\n",
       "    <tr>\n",
       "      <th>81</th>\n",
       "      <td>307245a5204947e5a9f952daffcad5f2</td>\n",
       "      <td>fafdcd668e3743c1bb461111dcafc2a4</td>\n",
       "      <td>0</td>\n",
       "      <td>240.0</td>\n",
       "      <td>180.0</td>\n",
       "    </tr>\n",
       "    <tr>\n",
       "      <th>90</th>\n",
       "      <td>c894971c9e414a358b84255199727636</td>\n",
       "      <td>2298d6c36e964ae4a3e7e9706d1fb8c2</td>\n",
       "      <td>0</td>\n",
       "      <td>168.0</td>\n",
       "      <td>60.0</td>\n",
       "    </tr>\n",
       "  </tbody>\n",
       "</table>\n",
       "</div>"
      ],
      "text/plain": [
       "                         customer_id                      portfolio_id  \\\n",
       "24  2e87ba0fba1a4d1a8614af771f07a94d  2298d6c36e964ae4a3e7e9706d1fb8c2   \n",
       "25  2e87ba0fba1a4d1a8614af771f07a94d  2298d6c36e964ae4a3e7e9706d1fb8c2   \n",
       "80  307245a5204947e5a9f952daffcad5f2  fafdcd668e3743c1bb461111dcafc2a4   \n",
       "81  307245a5204947e5a9f952daffcad5f2  fafdcd668e3743c1bb461111dcafc2a4   \n",
       "90  c894971c9e414a358b84255199727636  2298d6c36e964ae4a3e7e9706d1fb8c2   \n",
       "\n",
       "    offer_received_time  duration  offer_end_time  \n",
       "24                    0     168.0            54.0  \n",
       "25                    0     168.0           168.0  \n",
       "80                    0     240.0            84.0  \n",
       "81                    0     240.0           180.0  \n",
       "90                    0     168.0            60.0  "
      ]
     },
     "execution_count": 1024,
     "metadata": {},
     "output_type": "execute_result"
    }
   ],
   "source": [
    "transcript_disc_problemic_df.head()"
   ]
  },
  {
   "cell_type": "code",
   "execution_count": 1025,
   "metadata": {},
   "outputs": [],
   "source": [
    "transcript_disc_pro_cleaned_df = transcript_disc_problemic_df.groupby([\"customer_id\", \"portfolio_id\"])\\\n",
    ".agg({\"offer_received_time\":min, \"offer_end_time\":max}).reset_index()"
   ]
  },
  {
   "cell_type": "code",
   "execution_count": 1026,
   "metadata": {},
   "outputs": [
    {
     "data": {
      "text/plain": [
       "array([False], dtype=bool)"
      ]
     },
     "execution_count": 1026,
     "metadata": {},
     "output_type": "execute_result"
    }
   ],
   "source": [
    "(transcript_disc_pro_cleaned_df.groupby([\"customer_id\", \"portfolio_id\"])\\\n",
    "['offer_end_time'].count().reset_index()[\"offer_end_time\"] > 1).unique()"
   ]
  },
  {
   "cell_type": "code",
   "execution_count": 1027,
   "metadata": {},
   "outputs": [
    {
     "name": "stderr",
     "output_type": "stream",
     "text": [
      "/opt/conda/lib/python3.6/site-packages/ipykernel_launcher.py:1: FutureWarning: Sorting because non-concatenation axis is not aligned. A future version\n",
      "of pandas will change to not sort by default.\n",
      "\n",
      "To accept the future behavior, pass 'sort=False'.\n",
      "\n",
      "To retain the current behavior and silence the warning, pass 'sort=True'.\n",
      "\n",
      "  \"\"\"Entry point for launching an IPython kernel.\n"
     ]
    }
   ],
   "source": [
    "transcript_disc_final_df_v2 = pd.concat([transcript_disc_pro_cleaned_df, transcript_disc_clean_df])"
   ]
  },
  {
   "cell_type": "code",
   "execution_count": 1028,
   "metadata": {},
   "outputs": [
    {
     "data": {
      "text/plain": [
       "array([False], dtype=bool)"
      ]
     },
     "execution_count": 1028,
     "metadata": {},
     "output_type": "execute_result"
    }
   ],
   "source": [
    "(transcript_disc_final_df_v2.groupby([\"customer_id\", \"portfolio_id\", \"offer_received_time\"])\\\n",
    "['offer_end_time'].count().reset_index()[\"offer_end_time\"] > 1).unique()"
   ]
  },
  {
   "cell_type": "code",
   "execution_count": 1029,
   "metadata": {},
   "outputs": [
    {
     "data": {
      "text/plain": [
       "array([False,  True], dtype=bool)"
      ]
     },
     "execution_count": 1029,
     "metadata": {},
     "output_type": "execute_result"
    }
   ],
   "source": [
    "(transcript_disc_final_df_v2.groupby([\"customer_id\", \"portfolio_id\"])\\\n",
    "['offer_end_time'].count().reset_index()[\"offer_end_time\"] > 1).unique()"
   ]
  },
  {
   "cell_type": "code",
   "execution_count": 1030,
   "metadata": {},
   "outputs": [],
   "source": [
    "transcript_disc_final_df_v2 = transcript_disc_final_df_v2.drop(columns = [\"duration\"])"
   ]
  },
  {
   "cell_type": "code",
   "execution_count": 1031,
   "metadata": {},
   "outputs": [
    {
     "data": {
      "text/html": [
       "<div>\n",
       "<style scoped>\n",
       "    .dataframe tbody tr th:only-of-type {\n",
       "        vertical-align: middle;\n",
       "    }\n",
       "\n",
       "    .dataframe tbody tr th {\n",
       "        vertical-align: top;\n",
       "    }\n",
       "\n",
       "    .dataframe thead th {\n",
       "        text-align: right;\n",
       "    }\n",
       "</style>\n",
       "<table border=\"1\" class=\"dataframe\">\n",
       "  <thead>\n",
       "    <tr style=\"text-align: right;\">\n",
       "      <th></th>\n",
       "      <th>event</th>\n",
       "      <th>customer_id</th>\n",
       "      <th>time</th>\n",
       "      <th>amount</th>\n",
       "      <th>reward</th>\n",
       "      <th>portfolio_id</th>\n",
       "      <th>datetime</th>\n",
       "    </tr>\n",
       "  </thead>\n",
       "  <tbody>\n",
       "    <tr>\n",
       "      <th>0</th>\n",
       "      <td>offer received</td>\n",
       "      <td>78afa995795e4d85b5d9ceeca43f5fef</td>\n",
       "      <td>0</td>\n",
       "      <td>0.0</td>\n",
       "      <td>0</td>\n",
       "      <td>9b98b8c7a33c4b65b9aebfe6a799e6d9</td>\n",
       "      <td>2020-05-01</td>\n",
       "    </tr>\n",
       "    <tr>\n",
       "      <th>1</th>\n",
       "      <td>offer received</td>\n",
       "      <td>a03223e636434f42ac4c3df47e8bac43</td>\n",
       "      <td>0</td>\n",
       "      <td>0.0</td>\n",
       "      <td>0</td>\n",
       "      <td>0b1e1539f2cc45b7b9fa7c272da2e1d7</td>\n",
       "      <td>2020-05-01</td>\n",
       "    </tr>\n",
       "    <tr>\n",
       "      <th>2</th>\n",
       "      <td>offer received</td>\n",
       "      <td>e2127556f4f64592b11af22de27a7932</td>\n",
       "      <td>0</td>\n",
       "      <td>0.0</td>\n",
       "      <td>0</td>\n",
       "      <td>2906b810c7d4411798c6938adc9daaa5</td>\n",
       "      <td>2020-05-01</td>\n",
       "    </tr>\n",
       "    <tr>\n",
       "      <th>3</th>\n",
       "      <td>offer received</td>\n",
       "      <td>8ec6ce2a7e7949b1bf142def7d0e0586</td>\n",
       "      <td>0</td>\n",
       "      <td>0.0</td>\n",
       "      <td>0</td>\n",
       "      <td>fafdcd668e3743c1bb461111dcafc2a4</td>\n",
       "      <td>2020-05-01</td>\n",
       "    </tr>\n",
       "    <tr>\n",
       "      <th>4</th>\n",
       "      <td>offer received</td>\n",
       "      <td>68617ca6246f4fbc85e91a2a49552598</td>\n",
       "      <td>0</td>\n",
       "      <td>0.0</td>\n",
       "      <td>0</td>\n",
       "      <td>4d5c57ea9a6940dd891ad53e9dbe8da0</td>\n",
       "      <td>2020-05-01</td>\n",
       "    </tr>\n",
       "  </tbody>\n",
       "</table>\n",
       "</div>"
      ],
      "text/plain": [
       "            event                       customer_id  time  amount  reward  \\\n",
       "0  offer received  78afa995795e4d85b5d9ceeca43f5fef     0     0.0       0   \n",
       "1  offer received  a03223e636434f42ac4c3df47e8bac43     0     0.0       0   \n",
       "2  offer received  e2127556f4f64592b11af22de27a7932     0     0.0       0   \n",
       "3  offer received  8ec6ce2a7e7949b1bf142def7d0e0586     0     0.0       0   \n",
       "4  offer received  68617ca6246f4fbc85e91a2a49552598     0     0.0       0   \n",
       "\n",
       "                       portfolio_id   datetime  \n",
       "0  9b98b8c7a33c4b65b9aebfe6a799e6d9 2020-05-01  \n",
       "1  0b1e1539f2cc45b7b9fa7c272da2e1d7 2020-05-01  \n",
       "2  2906b810c7d4411798c6938adc9daaa5 2020-05-01  \n",
       "3  fafdcd668e3743c1bb461111dcafc2a4 2020-05-01  \n",
       "4  4d5c57ea9a6940dd891ad53e9dbe8da0 2020-05-01  "
      ]
     },
     "execution_count": 1031,
     "metadata": {},
     "output_type": "execute_result"
    }
   ],
   "source": [
    "transcript.head()"
   ]
  },
  {
   "cell_type": "code",
   "execution_count": 1032,
   "metadata": {},
   "outputs": [],
   "source": [
    "transaction_disc_df = \\\n",
    "transcript.loc[(transcript[\"event\"] == \"transaction\") & \\\n",
    "               (transcript[\"customer_id\"].isin(transcript_disc_final_df_v2[\"customer_id\"].unique())),\\\n",
    "              [\"customer_id\", \"time\", \"amount\"]]"
   ]
  },
  {
   "cell_type": "code",
   "execution_count": 1033,
   "metadata": {},
   "outputs": [],
   "source": [
    "transaction_disc_final_df = transaction_disc_df.groupby([\"customer_id\", \"time\"])[\"amount\"].sum().reset_index()"
   ]
  },
  {
   "cell_type": "code",
   "execution_count": 1034,
   "metadata": {
    "scrolled": false
   },
   "outputs": [
    {
     "data": {
      "text/html": [
       "<div>\n",
       "<style scoped>\n",
       "    .dataframe tbody tr th:only-of-type {\n",
       "        vertical-align: middle;\n",
       "    }\n",
       "\n",
       "    .dataframe tbody tr th {\n",
       "        vertical-align: top;\n",
       "    }\n",
       "\n",
       "    .dataframe thead th {\n",
       "        text-align: right;\n",
       "    }\n",
       "</style>\n",
       "<table border=\"1\" class=\"dataframe\">\n",
       "  <thead>\n",
       "    <tr style=\"text-align: right;\">\n",
       "      <th></th>\n",
       "      <th>customer_id</th>\n",
       "      <th>time</th>\n",
       "      <th>amount</th>\n",
       "    </tr>\n",
       "  </thead>\n",
       "  <tbody>\n",
       "    <tr>\n",
       "      <th>0</th>\n",
       "      <td>0009655768c64bdeb2e877511632db8f</td>\n",
       "      <td>228</td>\n",
       "      <td>22.16</td>\n",
       "    </tr>\n",
       "    <tr>\n",
       "      <th>1</th>\n",
       "      <td>0009655768c64bdeb2e877511632db8f</td>\n",
       "      <td>414</td>\n",
       "      <td>8.57</td>\n",
       "    </tr>\n",
       "    <tr>\n",
       "      <th>2</th>\n",
       "      <td>0009655768c64bdeb2e877511632db8f</td>\n",
       "      <td>528</td>\n",
       "      <td>14.11</td>\n",
       "    </tr>\n",
       "    <tr>\n",
       "      <th>3</th>\n",
       "      <td>0009655768c64bdeb2e877511632db8f</td>\n",
       "      <td>552</td>\n",
       "      <td>13.56</td>\n",
       "    </tr>\n",
       "    <tr>\n",
       "      <th>4</th>\n",
       "      <td>0009655768c64bdeb2e877511632db8f</td>\n",
       "      <td>576</td>\n",
       "      <td>10.27</td>\n",
       "    </tr>\n",
       "  </tbody>\n",
       "</table>\n",
       "</div>"
      ],
      "text/plain": [
       "                        customer_id  time  amount\n",
       "0  0009655768c64bdeb2e877511632db8f   228   22.16\n",
       "1  0009655768c64bdeb2e877511632db8f   414    8.57\n",
       "2  0009655768c64bdeb2e877511632db8f   528   14.11\n",
       "3  0009655768c64bdeb2e877511632db8f   552   13.56\n",
       "4  0009655768c64bdeb2e877511632db8f   576   10.27"
      ]
     },
     "execution_count": 1034,
     "metadata": {},
     "output_type": "execute_result"
    }
   ],
   "source": [
    "transaction_disc_final_df.head()"
   ]
  },
  {
   "cell_type": "code",
   "execution_count": 1035,
   "metadata": {},
   "outputs": [],
   "source": [
    "trans_disc_full_final_df_temp = transcript_disc_final_df_v2.merge(transaction_disc_final_df, on=\"customer_id\", how=\"left\")"
   ]
  },
  {
   "cell_type": "code",
   "execution_count": 1036,
   "metadata": {
    "scrolled": true
   },
   "outputs": [
    {
     "data": {
      "text/html": [
       "<div>\n",
       "<style scoped>\n",
       "    .dataframe tbody tr th:only-of-type {\n",
       "        vertical-align: middle;\n",
       "    }\n",
       "\n",
       "    .dataframe tbody tr th {\n",
       "        vertical-align: top;\n",
       "    }\n",
       "\n",
       "    .dataframe thead th {\n",
       "        text-align: right;\n",
       "    }\n",
       "</style>\n",
       "<table border=\"1\" class=\"dataframe\">\n",
       "  <thead>\n",
       "    <tr style=\"text-align: right;\">\n",
       "      <th></th>\n",
       "      <th>customer_id</th>\n",
       "      <th>offer_end_time</th>\n",
       "      <th>offer_received_time</th>\n",
       "      <th>portfolio_id</th>\n",
       "      <th>time</th>\n",
       "      <th>amount</th>\n",
       "    </tr>\n",
       "  </thead>\n",
       "  <tbody>\n",
       "    <tr>\n",
       "      <th>0</th>\n",
       "      <td>00e20b4ca129458aaab0f4727ef3513a</td>\n",
       "      <td>618.0</td>\n",
       "      <td>408</td>\n",
       "      <td>fafdcd668e3743c1bb461111dcafc2a4</td>\n",
       "      <td>36.0</td>\n",
       "      <td>6.24</td>\n",
       "    </tr>\n",
       "    <tr>\n",
       "      <th>1</th>\n",
       "      <td>00e20b4ca129458aaab0f4727ef3513a</td>\n",
       "      <td>618.0</td>\n",
       "      <td>408</td>\n",
       "      <td>fafdcd668e3743c1bb461111dcafc2a4</td>\n",
       "      <td>96.0</td>\n",
       "      <td>2.04</td>\n",
       "    </tr>\n",
       "    <tr>\n",
       "      <th>2</th>\n",
       "      <td>00e20b4ca129458aaab0f4727ef3513a</td>\n",
       "      <td>618.0</td>\n",
       "      <td>408</td>\n",
       "      <td>fafdcd668e3743c1bb461111dcafc2a4</td>\n",
       "      <td>174.0</td>\n",
       "      <td>4.61</td>\n",
       "    </tr>\n",
       "    <tr>\n",
       "      <th>3</th>\n",
       "      <td>00e20b4ca129458aaab0f4727ef3513a</td>\n",
       "      <td>618.0</td>\n",
       "      <td>408</td>\n",
       "      <td>fafdcd668e3743c1bb461111dcafc2a4</td>\n",
       "      <td>246.0</td>\n",
       "      <td>4.85</td>\n",
       "    </tr>\n",
       "    <tr>\n",
       "      <th>4</th>\n",
       "      <td>00e20b4ca129458aaab0f4727ef3513a</td>\n",
       "      <td>618.0</td>\n",
       "      <td>408</td>\n",
       "      <td>fafdcd668e3743c1bb461111dcafc2a4</td>\n",
       "      <td>270.0</td>\n",
       "      <td>5.72</td>\n",
       "    </tr>\n",
       "  </tbody>\n",
       "</table>\n",
       "</div>"
      ],
      "text/plain": [
       "                        customer_id  offer_end_time  offer_received_time  \\\n",
       "0  00e20b4ca129458aaab0f4727ef3513a           618.0                  408   \n",
       "1  00e20b4ca129458aaab0f4727ef3513a           618.0                  408   \n",
       "2  00e20b4ca129458aaab0f4727ef3513a           618.0                  408   \n",
       "3  00e20b4ca129458aaab0f4727ef3513a           618.0                  408   \n",
       "4  00e20b4ca129458aaab0f4727ef3513a           618.0                  408   \n",
       "\n",
       "                       portfolio_id   time  amount  \n",
       "0  fafdcd668e3743c1bb461111dcafc2a4   36.0    6.24  \n",
       "1  fafdcd668e3743c1bb461111dcafc2a4   96.0    2.04  \n",
       "2  fafdcd668e3743c1bb461111dcafc2a4  174.0    4.61  \n",
       "3  fafdcd668e3743c1bb461111dcafc2a4  246.0    4.85  \n",
       "4  fafdcd668e3743c1bb461111dcafc2a4  270.0    5.72  "
      ]
     },
     "execution_count": 1036,
     "metadata": {},
     "output_type": "execute_result"
    }
   ],
   "source": [
    "trans_disc_full_final_df_temp.head()"
   ]
  },
  {
   "cell_type": "code",
   "execution_count": 1037,
   "metadata": {},
   "outputs": [],
   "source": [
    "trans_disc_full_final_df_temp = trans_disc_full_final_df_temp[((trans_disc_full_final_df_temp[\"time\"] >= \\\n",
    "                              trans_disc_full_final_df_temp[\"offer_received_time\"]) \\\n",
    "                             & (trans_disc_full_final_df_temp[\"time\"] <= \\\n",
    "                              trans_disc_full_final_df_temp[\"offer_end_time\"])) \\\n",
    "                              | (trans_disc_full_final_df_temp[\"time\"].isnull())\n",
    "                             ].sort_values([\"customer_id\", \"portfolio_id\", \"time\"])"
   ]
  },
  {
   "cell_type": "code",
   "execution_count": 1038,
   "metadata": {},
   "outputs": [],
   "source": [
    "trans_disc_full_final_df = trans_disc_full_final_df_temp[[\"customer_id\", \"portfolio_id\", \"amount\"]]"
   ]
  },
  {
   "cell_type": "code",
   "execution_count": 1039,
   "metadata": {},
   "outputs": [],
   "source": [
    "trans_disc_full_final_df = trans_disc_full_final_df.groupby([\"customer_id\", \"portfolio_id\"])[\"amount\"].sum().reset_index()"
   ]
  },
  {
   "cell_type": "code",
   "execution_count": 1040,
   "metadata": {},
   "outputs": [
    {
     "data": {
      "text/html": [
       "<div>\n",
       "<style scoped>\n",
       "    .dataframe tbody tr th:only-of-type {\n",
       "        vertical-align: middle;\n",
       "    }\n",
       "\n",
       "    .dataframe tbody tr th {\n",
       "        vertical-align: top;\n",
       "    }\n",
       "\n",
       "    .dataframe thead th {\n",
       "        text-align: right;\n",
       "    }\n",
       "</style>\n",
       "<table border=\"1\" class=\"dataframe\">\n",
       "  <thead>\n",
       "    <tr style=\"text-align: right;\">\n",
       "      <th></th>\n",
       "      <th>customer_id</th>\n",
       "      <th>portfolio_id</th>\n",
       "      <th>amount</th>\n",
       "    </tr>\n",
       "  </thead>\n",
       "  <tbody>\n",
       "    <tr>\n",
       "      <th>0</th>\n",
       "      <td>0009655768c64bdeb2e877511632db8f</td>\n",
       "      <td>2906b810c7d4411798c6938adc9daaa5</td>\n",
       "      <td>10.27</td>\n",
       "    </tr>\n",
       "    <tr>\n",
       "      <th>1</th>\n",
       "      <td>0009655768c64bdeb2e877511632db8f</td>\n",
       "      <td>fafdcd668e3743c1bb461111dcafc2a4</td>\n",
       "      <td>14.11</td>\n",
       "    </tr>\n",
       "    <tr>\n",
       "      <th>2</th>\n",
       "      <td>0011e0d4e6b944f998e987f904e8c1e5</td>\n",
       "      <td>0b1e1539f2cc45b7b9fa7c272da2e1d7</td>\n",
       "      <td>22.05</td>\n",
       "    </tr>\n",
       "    <tr>\n",
       "      <th>3</th>\n",
       "      <td>0011e0d4e6b944f998e987f904e8c1e5</td>\n",
       "      <td>2298d6c36e964ae4a3e7e9706d1fb8c2</td>\n",
       "      <td>11.93</td>\n",
       "    </tr>\n",
       "    <tr>\n",
       "      <th>4</th>\n",
       "      <td>0020c2b971eb4e9188eac86d93036a77</td>\n",
       "      <td>fafdcd668e3743c1bb461111dcafc2a4</td>\n",
       "      <td>34.87</td>\n",
       "    </tr>\n",
       "  </tbody>\n",
       "</table>\n",
       "</div>"
      ],
      "text/plain": [
       "                        customer_id                      portfolio_id  amount\n",
       "0  0009655768c64bdeb2e877511632db8f  2906b810c7d4411798c6938adc9daaa5   10.27\n",
       "1  0009655768c64bdeb2e877511632db8f  fafdcd668e3743c1bb461111dcafc2a4   14.11\n",
       "2  0011e0d4e6b944f998e987f904e8c1e5  0b1e1539f2cc45b7b9fa7c272da2e1d7   22.05\n",
       "3  0011e0d4e6b944f998e987f904e8c1e5  2298d6c36e964ae4a3e7e9706d1fb8c2   11.93\n",
       "4  0020c2b971eb4e9188eac86d93036a77  fafdcd668e3743c1bb461111dcafc2a4   34.87"
      ]
     },
     "execution_count": 1040,
     "metadata": {},
     "output_type": "execute_result"
    }
   ],
   "source": [
    "trans_disc_full_final_df.head()"
   ]
  },
  {
   "cell_type": "markdown",
   "metadata": {},
   "source": [
    "Finish clean the discout offers related data"
   ]
  },
  {
   "cell_type": "markdown",
   "metadata": {},
   "source": [
    "Work on clean up info offer related data"
   ]
  },
  {
   "cell_type": "code",
   "execution_count": 1041,
   "metadata": {
    "scrolled": true
   },
   "outputs": [
    {
     "data": {
      "text/html": [
       "<div>\n",
       "<style scoped>\n",
       "    .dataframe tbody tr th:only-of-type {\n",
       "        vertical-align: middle;\n",
       "    }\n",
       "\n",
       "    .dataframe tbody tr th {\n",
       "        vertical-align: top;\n",
       "    }\n",
       "\n",
       "    .dataframe thead th {\n",
       "        text-align: right;\n",
       "    }\n",
       "</style>\n",
       "<table border=\"1\" class=\"dataframe\">\n",
       "  <thead>\n",
       "    <tr style=\"text-align: right;\">\n",
       "      <th></th>\n",
       "      <th>customer_id</th>\n",
       "      <th>portfolio_id</th>\n",
       "      <th>event</th>\n",
       "      <th>offer_received_time</th>\n",
       "      <th>amount</th>\n",
       "      <th>duration</th>\n",
       "      <th>offer_type</th>\n",
       "      <th>offer_end_time</th>\n",
       "    </tr>\n",
       "  </thead>\n",
       "  <tbody>\n",
       "    <tr>\n",
       "      <th>7</th>\n",
       "      <td>2eeac8d8feae4a8cad5a6af0499a211d</td>\n",
       "      <td>3f207df678b143eea3cee63160fa8bed</td>\n",
       "      <td>offer received</td>\n",
       "      <td>0</td>\n",
       "      <td>0.0</td>\n",
       "      <td>96.0</td>\n",
       "      <td>informational</td>\n",
       "      <td>96.0</td>\n",
       "    </tr>\n",
       "    <tr>\n",
       "      <th>13</th>\n",
       "      <td>c27e0d6ab72c455a8bb66d980963de60</td>\n",
       "      <td>3f207df678b143eea3cee63160fa8bed</td>\n",
       "      <td>offer received</td>\n",
       "      <td>0</td>\n",
       "      <td>0.0</td>\n",
       "      <td>96.0</td>\n",
       "      <td>informational</td>\n",
       "      <td>96.0</td>\n",
       "    </tr>\n",
       "    <tr>\n",
       "      <th>31</th>\n",
       "      <td>be8a5d1981a2458d90b255ddc7e0d174</td>\n",
       "      <td>5a8bc65990b245e5a138643cd4eb9837</td>\n",
       "      <td>offer received</td>\n",
       "      <td>0</td>\n",
       "      <td>0.0</td>\n",
       "      <td>72.0</td>\n",
       "      <td>informational</td>\n",
       "      <td>72.0</td>\n",
       "    </tr>\n",
       "    <tr>\n",
       "      <th>44</th>\n",
       "      <td>a5a6ef2b78a04ddc9f374dd7c7f60bff</td>\n",
       "      <td>5a8bc65990b245e5a138643cd4eb9837</td>\n",
       "      <td>offer received</td>\n",
       "      <td>0</td>\n",
       "      <td>0.0</td>\n",
       "      <td>72.0</td>\n",
       "      <td>informational</td>\n",
       "      <td>72.0</td>\n",
       "    </tr>\n",
       "    <tr>\n",
       "      <th>53</th>\n",
       "      <td>6e04a90a0e074496b5f229eb1f553433</td>\n",
       "      <td>5a8bc65990b245e5a138643cd4eb9837</td>\n",
       "      <td>offer received</td>\n",
       "      <td>0</td>\n",
       "      <td>0.0</td>\n",
       "      <td>72.0</td>\n",
       "      <td>informational</td>\n",
       "      <td>72.0</td>\n",
       "    </tr>\n",
       "  </tbody>\n",
       "</table>\n",
       "</div>"
      ],
      "text/plain": [
       "                         customer_id                      portfolio_id  \\\n",
       "7   2eeac8d8feae4a8cad5a6af0499a211d  3f207df678b143eea3cee63160fa8bed   \n",
       "13  c27e0d6ab72c455a8bb66d980963de60  3f207df678b143eea3cee63160fa8bed   \n",
       "31  be8a5d1981a2458d90b255ddc7e0d174  5a8bc65990b245e5a138643cd4eb9837   \n",
       "44  a5a6ef2b78a04ddc9f374dd7c7f60bff  5a8bc65990b245e5a138643cd4eb9837   \n",
       "53  6e04a90a0e074496b5f229eb1f553433  5a8bc65990b245e5a138643cd4eb9837   \n",
       "\n",
       "             event  offer_received_time  amount  duration     offer_type  \\\n",
       "7   offer received                    0     0.0      96.0  informational   \n",
       "13  offer received                    0     0.0      96.0  informational   \n",
       "31  offer received                    0     0.0      72.0  informational   \n",
       "44  offer received                    0     0.0      72.0  informational   \n",
       "53  offer received                    0     0.0      72.0  informational   \n",
       "\n",
       "    offer_end_time  \n",
       "7             96.0  \n",
       "13            96.0  \n",
       "31            72.0  \n",
       "44            72.0  \n",
       "53            72.0  "
      ]
     },
     "execution_count": 1041,
     "metadata": {},
     "output_type": "execute_result"
    }
   ],
   "source": [
    "transcript_info_received_df.head()"
   ]
  },
  {
   "cell_type": "markdown",
   "metadata": {},
   "source": [
    "Check if any customer had the same offer multiple times"
   ]
  },
  {
   "cell_type": "code",
   "execution_count": 1042,
   "metadata": {},
   "outputs": [
    {
     "data": {
      "text/plain": [
       "2584"
      ]
     },
     "execution_count": 1042,
     "metadata": {},
     "output_type": "execute_result"
    }
   ],
   "source": [
    "transcript_info_received_df[[\"customer_id\", \"portfolio_id\"]].duplicated().sum()"
   ]
  },
  {
   "cell_type": "code",
   "execution_count": 1043,
   "metadata": {},
   "outputs": [
    {
     "data": {
      "text/plain": [
       "(15235, 8)"
      ]
     },
     "execution_count": 1043,
     "metadata": {},
     "output_type": "execute_result"
    }
   ],
   "source": [
    "transcript_info_received_df.shape"
   ]
  },
  {
   "cell_type": "code",
   "execution_count": 1044,
   "metadata": {},
   "outputs": [
    {
     "data": {
      "text/plain": [
       "0.16960945191992124"
      ]
     },
     "execution_count": 1044,
     "metadata": {},
     "output_type": "execute_result"
    }
   ],
   "source": [
    "transcript_info_received_df[[\"customer_id\", \"portfolio_id\"]].duplicated().sum()/transcript_info_received_df.shape[0]"
   ]
  },
  {
   "cell_type": "code",
   "execution_count": 1045,
   "metadata": {},
   "outputs": [],
   "source": [
    "transaction_info_df = \\\n",
    "transcript.loc[(transcript[\"event\"] == \"transaction\") & \\\n",
    "               (transcript[\"customer_id\"].isin(transcript_info_received_df[\"customer_id\"].unique())),\\\n",
    "              [\"customer_id\", \"time\", \"amount\"]]"
   ]
  },
  {
   "cell_type": "code",
   "execution_count": 1046,
   "metadata": {},
   "outputs": [],
   "source": [
    "transaction_info_final_df = transaction_info_df.groupby([\"customer_id\", \"time\"])[\"amount\"].sum().reset_index()"
   ]
  },
  {
   "cell_type": "code",
   "execution_count": 1047,
   "metadata": {},
   "outputs": [],
   "source": [
    "trans_info_full_final_df_temp = transcript_info_received_df.merge(transaction_info_final_df, on=\"customer_id\", how=\"left\")"
   ]
  },
  {
   "cell_type": "code",
   "execution_count": 1048,
   "metadata": {},
   "outputs": [],
   "source": [
    "trans_info_full_final_df_temp = trans_info_full_final_df_temp[((trans_info_full_final_df_temp[\"time\"] >= \\\n",
    "                              trans_info_full_final_df_temp[\"offer_received_time\"]) \\\n",
    "                             & (trans_info_full_final_df_temp[\"time\"] <= \\\n",
    "                              trans_info_full_final_df_temp[\"offer_end_time\"])) \\\n",
    "                              | (trans_info_full_final_df_temp[\"time\"].isnull())\n",
    "                             ].sort_values([\"customer_id\", \"portfolio_id\", \"time\"])"
   ]
  },
  {
   "cell_type": "code",
   "execution_count": 1049,
   "metadata": {},
   "outputs": [
    {
     "data": {
      "text/html": [
       "<div>\n",
       "<style scoped>\n",
       "    .dataframe tbody tr th:only-of-type {\n",
       "        vertical-align: middle;\n",
       "    }\n",
       "\n",
       "    .dataframe tbody tr th {\n",
       "        vertical-align: top;\n",
       "    }\n",
       "\n",
       "    .dataframe thead th {\n",
       "        text-align: right;\n",
       "    }\n",
       "</style>\n",
       "<table border=\"1\" class=\"dataframe\">\n",
       "  <thead>\n",
       "    <tr style=\"text-align: right;\">\n",
       "      <th></th>\n",
       "      <th>customer_id</th>\n",
       "      <th>portfolio_id</th>\n",
       "      <th>event</th>\n",
       "      <th>offer_received_time</th>\n",
       "      <th>amount_x</th>\n",
       "      <th>duration</th>\n",
       "      <th>offer_type</th>\n",
       "      <th>offer_end_time</th>\n",
       "      <th>time</th>\n",
       "      <th>amount_y</th>\n",
       "    </tr>\n",
       "  </thead>\n",
       "  <tbody>\n",
       "    <tr>\n",
       "      <th>44845</th>\n",
       "      <td>0009655768c64bdeb2e877511632db8f</td>\n",
       "      <td>3f207df678b143eea3cee63160fa8bed</td>\n",
       "      <td>offer received</td>\n",
       "      <td>336</td>\n",
       "      <td>0.0</td>\n",
       "      <td>96.0</td>\n",
       "      <td>informational</td>\n",
       "      <td>432.0</td>\n",
       "      <td>414.0</td>\n",
       "      <td>8.57</td>\n",
       "    </tr>\n",
       "    <tr>\n",
       "      <th>24225</th>\n",
       "      <td>0009655768c64bdeb2e877511632db8f</td>\n",
       "      <td>5a8bc65990b245e5a138643cd4eb9837</td>\n",
       "      <td>offer received</td>\n",
       "      <td>168</td>\n",
       "      <td>0.0</td>\n",
       "      <td>72.0</td>\n",
       "      <td>informational</td>\n",
       "      <td>240.0</td>\n",
       "      <td>228.0</td>\n",
       "      <td>22.16</td>\n",
       "    </tr>\n",
       "    <tr>\n",
       "      <th>84143</th>\n",
       "      <td>0020c2b971eb4e9188eac86d93036a77</td>\n",
       "      <td>5a8bc65990b245e5a138643cd4eb9837</td>\n",
       "      <td>offer received</td>\n",
       "      <td>504</td>\n",
       "      <td>0.0</td>\n",
       "      <td>72.0</td>\n",
       "      <td>informational</td>\n",
       "      <td>576.0</td>\n",
       "      <td>510.0</td>\n",
       "      <td>17.24</td>\n",
       "    </tr>\n",
       "    <tr>\n",
       "      <th>84144</th>\n",
       "      <td>0020c2b971eb4e9188eac86d93036a77</td>\n",
       "      <td>5a8bc65990b245e5a138643cd4eb9837</td>\n",
       "      <td>offer received</td>\n",
       "      <td>504</td>\n",
       "      <td>0.0</td>\n",
       "      <td>72.0</td>\n",
       "      <td>informational</td>\n",
       "      <td>576.0</td>\n",
       "      <td>540.0</td>\n",
       "      <td>33.86</td>\n",
       "    </tr>\n",
       "    <tr>\n",
       "      <th>70570</th>\n",
       "      <td>0020ccbbb6d84e358d3414a3ff76cffd</td>\n",
       "      <td>5a8bc65990b245e5a138643cd4eb9837</td>\n",
       "      <td>offer received</td>\n",
       "      <td>408</td>\n",
       "      <td>0.0</td>\n",
       "      <td>72.0</td>\n",
       "      <td>informational</td>\n",
       "      <td>480.0</td>\n",
       "      <td>426.0</td>\n",
       "      <td>8.93</td>\n",
       "    </tr>\n",
       "    <tr>\n",
       "      <th>70571</th>\n",
       "      <td>0020ccbbb6d84e358d3414a3ff76cffd</td>\n",
       "      <td>5a8bc65990b245e5a138643cd4eb9837</td>\n",
       "      <td>offer received</td>\n",
       "      <td>408</td>\n",
       "      <td>0.0</td>\n",
       "      <td>72.0</td>\n",
       "      <td>informational</td>\n",
       "      <td>480.0</td>\n",
       "      <td>432.0</td>\n",
       "      <td>20.08</td>\n",
       "    </tr>\n",
       "    <tr>\n",
       "      <th>70572</th>\n",
       "      <td>0020ccbbb6d84e358d3414a3ff76cffd</td>\n",
       "      <td>5a8bc65990b245e5a138643cd4eb9837</td>\n",
       "      <td>offer received</td>\n",
       "      <td>408</td>\n",
       "      <td>0.0</td>\n",
       "      <td>72.0</td>\n",
       "      <td>informational</td>\n",
       "      <td>480.0</td>\n",
       "      <td>450.0</td>\n",
       "      <td>10.76</td>\n",
       "    </tr>\n",
       "    <tr>\n",
       "      <th>70573</th>\n",
       "      <td>0020ccbbb6d84e358d3414a3ff76cffd</td>\n",
       "      <td>5a8bc65990b245e5a138643cd4eb9837</td>\n",
       "      <td>offer received</td>\n",
       "      <td>408</td>\n",
       "      <td>0.0</td>\n",
       "      <td>72.0</td>\n",
       "      <td>informational</td>\n",
       "      <td>480.0</td>\n",
       "      <td>462.0</td>\n",
       "      <td>19.10</td>\n",
       "    </tr>\n",
       "    <tr>\n",
       "      <th>44638</th>\n",
       "      <td>003d66b6608740288d6cc97a6903f4f0</td>\n",
       "      <td>3f207df678b143eea3cee63160fa8bed</td>\n",
       "      <td>offer received</td>\n",
       "      <td>336</td>\n",
       "      <td>0.0</td>\n",
       "      <td>96.0</td>\n",
       "      <td>informational</td>\n",
       "      <td>432.0</td>\n",
       "      <td>360.0</td>\n",
       "      <td>2.19</td>\n",
       "    </tr>\n",
       "    <tr>\n",
       "      <th>44639</th>\n",
       "      <td>003d66b6608740288d6cc97a6903f4f0</td>\n",
       "      <td>3f207df678b143eea3cee63160fa8bed</td>\n",
       "      <td>offer received</td>\n",
       "      <td>336</td>\n",
       "      <td>0.0</td>\n",
       "      <td>96.0</td>\n",
       "      <td>informational</td>\n",
       "      <td>432.0</td>\n",
       "      <td>384.0</td>\n",
       "      <td>3.66</td>\n",
       "    </tr>\n",
       "  </tbody>\n",
       "</table>\n",
       "</div>"
      ],
      "text/plain": [
       "                            customer_id                      portfolio_id  \\\n",
       "44845  0009655768c64bdeb2e877511632db8f  3f207df678b143eea3cee63160fa8bed   \n",
       "24225  0009655768c64bdeb2e877511632db8f  5a8bc65990b245e5a138643cd4eb9837   \n",
       "84143  0020c2b971eb4e9188eac86d93036a77  5a8bc65990b245e5a138643cd4eb9837   \n",
       "84144  0020c2b971eb4e9188eac86d93036a77  5a8bc65990b245e5a138643cd4eb9837   \n",
       "70570  0020ccbbb6d84e358d3414a3ff76cffd  5a8bc65990b245e5a138643cd4eb9837   \n",
       "70571  0020ccbbb6d84e358d3414a3ff76cffd  5a8bc65990b245e5a138643cd4eb9837   \n",
       "70572  0020ccbbb6d84e358d3414a3ff76cffd  5a8bc65990b245e5a138643cd4eb9837   \n",
       "70573  0020ccbbb6d84e358d3414a3ff76cffd  5a8bc65990b245e5a138643cd4eb9837   \n",
       "44638  003d66b6608740288d6cc97a6903f4f0  3f207df678b143eea3cee63160fa8bed   \n",
       "44639  003d66b6608740288d6cc97a6903f4f0  3f207df678b143eea3cee63160fa8bed   \n",
       "\n",
       "                event  offer_received_time  amount_x  duration     offer_type  \\\n",
       "44845  offer received                  336       0.0      96.0  informational   \n",
       "24225  offer received                  168       0.0      72.0  informational   \n",
       "84143  offer received                  504       0.0      72.0  informational   \n",
       "84144  offer received                  504       0.0      72.0  informational   \n",
       "70570  offer received                  408       0.0      72.0  informational   \n",
       "70571  offer received                  408       0.0      72.0  informational   \n",
       "70572  offer received                  408       0.0      72.0  informational   \n",
       "70573  offer received                  408       0.0      72.0  informational   \n",
       "44638  offer received                  336       0.0      96.0  informational   \n",
       "44639  offer received                  336       0.0      96.0  informational   \n",
       "\n",
       "       offer_end_time   time  amount_y  \n",
       "44845           432.0  414.0      8.57  \n",
       "24225           240.0  228.0     22.16  \n",
       "84143           576.0  510.0     17.24  \n",
       "84144           576.0  540.0     33.86  \n",
       "70570           480.0  426.0      8.93  \n",
       "70571           480.0  432.0     20.08  \n",
       "70572           480.0  450.0     10.76  \n",
       "70573           480.0  462.0     19.10  \n",
       "44638           432.0  360.0      2.19  \n",
       "44639           432.0  384.0      3.66  "
      ]
     },
     "execution_count": 1049,
     "metadata": {},
     "output_type": "execute_result"
    }
   ],
   "source": [
    "trans_info_full_final_df_temp.head(10)"
   ]
  },
  {
   "cell_type": "code",
   "execution_count": 1050,
   "metadata": {},
   "outputs": [],
   "source": [
    "trans_info_full_final_df = trans_info_full_final_df_temp[[\"customer_id\", \"portfolio_id\", \"amount_y\"]]"
   ]
  },
  {
   "cell_type": "code",
   "execution_count": 1051,
   "metadata": {},
   "outputs": [],
   "source": [
    "trans_info_full_final_df = trans_info_full_final_df.groupby([\"customer_id\", \"portfolio_id\"])[\"amount_y\"].sum().reset_index()"
   ]
  },
  {
   "cell_type": "code",
   "execution_count": 1052,
   "metadata": {},
   "outputs": [],
   "source": [
    "trans_info_full_final_df = trans_info_full_final_df.rename(columns = {\"amount_y\":\"amount\"})"
   ]
  },
  {
   "cell_type": "code",
   "execution_count": 1053,
   "metadata": {
    "scrolled": true
   },
   "outputs": [
    {
     "data": {
      "text/html": [
       "<div>\n",
       "<style scoped>\n",
       "    .dataframe tbody tr th:only-of-type {\n",
       "        vertical-align: middle;\n",
       "    }\n",
       "\n",
       "    .dataframe tbody tr th {\n",
       "        vertical-align: top;\n",
       "    }\n",
       "\n",
       "    .dataframe thead th {\n",
       "        text-align: right;\n",
       "    }\n",
       "</style>\n",
       "<table border=\"1\" class=\"dataframe\">\n",
       "  <thead>\n",
       "    <tr style=\"text-align: right;\">\n",
       "      <th></th>\n",
       "      <th>customer_id</th>\n",
       "      <th>portfolio_id</th>\n",
       "      <th>amount</th>\n",
       "    </tr>\n",
       "  </thead>\n",
       "  <tbody>\n",
       "    <tr>\n",
       "      <th>0</th>\n",
       "      <td>0009655768c64bdeb2e877511632db8f</td>\n",
       "      <td>3f207df678b143eea3cee63160fa8bed</td>\n",
       "      <td>8.57</td>\n",
       "    </tr>\n",
       "    <tr>\n",
       "      <th>1</th>\n",
       "      <td>0009655768c64bdeb2e877511632db8f</td>\n",
       "      <td>5a8bc65990b245e5a138643cd4eb9837</td>\n",
       "      <td>22.16</td>\n",
       "    </tr>\n",
       "    <tr>\n",
       "      <th>2</th>\n",
       "      <td>0020c2b971eb4e9188eac86d93036a77</td>\n",
       "      <td>5a8bc65990b245e5a138643cd4eb9837</td>\n",
       "      <td>51.10</td>\n",
       "    </tr>\n",
       "    <tr>\n",
       "      <th>3</th>\n",
       "      <td>0020ccbbb6d84e358d3414a3ff76cffd</td>\n",
       "      <td>5a8bc65990b245e5a138643cd4eb9837</td>\n",
       "      <td>58.87</td>\n",
       "    </tr>\n",
       "    <tr>\n",
       "      <th>4</th>\n",
       "      <td>003d66b6608740288d6cc97a6903f4f0</td>\n",
       "      <td>3f207df678b143eea3cee63160fa8bed</td>\n",
       "      <td>12.27</td>\n",
       "    </tr>\n",
       "  </tbody>\n",
       "</table>\n",
       "</div>"
      ],
      "text/plain": [
       "                        customer_id                      portfolio_id  amount\n",
       "0  0009655768c64bdeb2e877511632db8f  3f207df678b143eea3cee63160fa8bed    8.57\n",
       "1  0009655768c64bdeb2e877511632db8f  5a8bc65990b245e5a138643cd4eb9837   22.16\n",
       "2  0020c2b971eb4e9188eac86d93036a77  5a8bc65990b245e5a138643cd4eb9837   51.10\n",
       "3  0020ccbbb6d84e358d3414a3ff76cffd  5a8bc65990b245e5a138643cd4eb9837   58.87\n",
       "4  003d66b6608740288d6cc97a6903f4f0  3f207df678b143eea3cee63160fa8bed   12.27"
      ]
     },
     "execution_count": 1053,
     "metadata": {},
     "output_type": "execute_result"
    }
   ],
   "source": [
    "trans_info_full_final_df.head()"
   ]
  },
  {
   "cell_type": "markdown",
   "metadata": {},
   "source": [
    "Finish clean the info offers related data"
   ]
  },
  {
   "cell_type": "markdown",
   "metadata": {},
   "source": [
    "Work on the bogo offers related data"
   ]
  },
  {
   "cell_type": "code",
   "execution_count": 1054,
   "metadata": {
    "scrolled": true
   },
   "outputs": [
    {
     "data": {
      "text/html": [
       "<div>\n",
       "<style scoped>\n",
       "    .dataframe tbody tr th:only-of-type {\n",
       "        vertical-align: middle;\n",
       "    }\n",
       "\n",
       "    .dataframe tbody tr th {\n",
       "        vertical-align: top;\n",
       "    }\n",
       "\n",
       "    .dataframe thead th {\n",
       "        text-align: right;\n",
       "    }\n",
       "</style>\n",
       "<table border=\"1\" class=\"dataframe\">\n",
       "  <thead>\n",
       "    <tr style=\"text-align: right;\">\n",
       "      <th></th>\n",
       "      <th>customer_id</th>\n",
       "      <th>portfolio_id</th>\n",
       "      <th>event_x</th>\n",
       "      <th>offer_received_time</th>\n",
       "      <th>amount_x</th>\n",
       "      <th>duration_x</th>\n",
       "      <th>offer_type_x</th>\n",
       "      <th>offer_end_time</th>\n",
       "      <th>event_y</th>\n",
       "      <th>offer_completed_time</th>\n",
       "      <th>amount_y</th>\n",
       "      <th>duration_y</th>\n",
       "      <th>offer_type_y</th>\n",
       "    </tr>\n",
       "  </thead>\n",
       "  <tbody>\n",
       "    <tr>\n",
       "      <th>0</th>\n",
       "      <td>78afa995795e4d85b5d9ceeca43f5fef</td>\n",
       "      <td>9b98b8c7a33c4b65b9aebfe6a799e6d9</td>\n",
       "      <td>offer received</td>\n",
       "      <td>0</td>\n",
       "      <td>0.0</td>\n",
       "      <td>168.0</td>\n",
       "      <td>bogo</td>\n",
       "      <td>168.0</td>\n",
       "      <td>offer completed</td>\n",
       "      <td>132.0</td>\n",
       "      <td>0.0</td>\n",
       "      <td>168.0</td>\n",
       "      <td>bogo</td>\n",
       "    </tr>\n",
       "    <tr>\n",
       "      <th>1</th>\n",
       "      <td>68617ca6246f4fbc85e91a2a49552598</td>\n",
       "      <td>4d5c57ea9a6940dd891ad53e9dbe8da0</td>\n",
       "      <td>offer received</td>\n",
       "      <td>0</td>\n",
       "      <td>0.0</td>\n",
       "      <td>120.0</td>\n",
       "      <td>bogo</td>\n",
       "      <td>120.0</td>\n",
       "      <td>NaN</td>\n",
       "      <td>NaN</td>\n",
       "      <td>NaN</td>\n",
       "      <td>NaN</td>\n",
       "      <td>NaN</td>\n",
       "    </tr>\n",
       "    <tr>\n",
       "      <th>2</th>\n",
       "      <td>389bc3fa690240e798340f5a15918d5c</td>\n",
       "      <td>f19421c1d4aa40978ebb69ca19b0e20d</td>\n",
       "      <td>offer received</td>\n",
       "      <td>0</td>\n",
       "      <td>0.0</td>\n",
       "      <td>120.0</td>\n",
       "      <td>bogo</td>\n",
       "      <td>120.0</td>\n",
       "      <td>offer completed</td>\n",
       "      <td>60.0</td>\n",
       "      <td>0.0</td>\n",
       "      <td>120.0</td>\n",
       "      <td>bogo</td>\n",
       "    </tr>\n",
       "    <tr>\n",
       "      <th>5</th>\n",
       "      <td>ebe7ef46ea6f4963a7dd49f501b26779</td>\n",
       "      <td>9b98b8c7a33c4b65b9aebfe6a799e6d9</td>\n",
       "      <td>offer received</td>\n",
       "      <td>0</td>\n",
       "      <td>0.0</td>\n",
       "      <td>168.0</td>\n",
       "      <td>bogo</td>\n",
       "      <td>168.0</td>\n",
       "      <td>NaN</td>\n",
       "      <td>NaN</td>\n",
       "      <td>NaN</td>\n",
       "      <td>NaN</td>\n",
       "      <td>NaN</td>\n",
       "    </tr>\n",
       "    <tr>\n",
       "      <th>6</th>\n",
       "      <td>1e9420836d554513ab90eba98552d0a9</td>\n",
       "      <td>ae264e3637204a6fb9bb56bc8210ddfd</td>\n",
       "      <td>offer received</td>\n",
       "      <td>0</td>\n",
       "      <td>0.0</td>\n",
       "      <td>168.0</td>\n",
       "      <td>bogo</td>\n",
       "      <td>168.0</td>\n",
       "      <td>NaN</td>\n",
       "      <td>NaN</td>\n",
       "      <td>NaN</td>\n",
       "      <td>NaN</td>\n",
       "      <td>NaN</td>\n",
       "    </tr>\n",
       "  </tbody>\n",
       "</table>\n",
       "</div>"
      ],
      "text/plain": [
       "                        customer_id                      portfolio_id  \\\n",
       "0  78afa995795e4d85b5d9ceeca43f5fef  9b98b8c7a33c4b65b9aebfe6a799e6d9   \n",
       "1  68617ca6246f4fbc85e91a2a49552598  4d5c57ea9a6940dd891ad53e9dbe8da0   \n",
       "2  389bc3fa690240e798340f5a15918d5c  f19421c1d4aa40978ebb69ca19b0e20d   \n",
       "5  ebe7ef46ea6f4963a7dd49f501b26779  9b98b8c7a33c4b65b9aebfe6a799e6d9   \n",
       "6  1e9420836d554513ab90eba98552d0a9  ae264e3637204a6fb9bb56bc8210ddfd   \n",
       "\n",
       "          event_x  offer_received_time  amount_x  duration_x offer_type_x  \\\n",
       "0  offer received                    0       0.0       168.0         bogo   \n",
       "1  offer received                    0       0.0       120.0         bogo   \n",
       "2  offer received                    0       0.0       120.0         bogo   \n",
       "5  offer received                    0       0.0       168.0         bogo   \n",
       "6  offer received                    0       0.0       168.0         bogo   \n",
       "\n",
       "   offer_end_time          event_y  offer_completed_time  amount_y  \\\n",
       "0           168.0  offer completed                 132.0       0.0   \n",
       "1           120.0              NaN                   NaN       NaN   \n",
       "2           120.0  offer completed                  60.0       0.0   \n",
       "5           168.0              NaN                   NaN       NaN   \n",
       "6           168.0              NaN                   NaN       NaN   \n",
       "\n",
       "   duration_y offer_type_y  \n",
       "0       168.0         bogo  \n",
       "1         NaN          NaN  \n",
       "2       120.0         bogo  \n",
       "5         NaN          NaN  \n",
       "6         NaN          NaN  "
      ]
     },
     "execution_count": 1054,
     "metadata": {},
     "output_type": "execute_result"
    }
   ],
   "source": [
    "transcript_bogo_final_df_temp.head()"
   ]
  },
  {
   "cell_type": "code",
   "execution_count": 1055,
   "metadata": {},
   "outputs": [
    {
     "data": {
      "text/plain": [
       "4540"
      ]
     },
     "execution_count": 1055,
     "metadata": {},
     "output_type": "execute_result"
    }
   ],
   "source": [
    "transcript_bogo_final_df_temp[[\"customer_id\", \"portfolio_id\"]].duplicated().sum()"
   ]
  },
  {
   "cell_type": "code",
   "execution_count": 1056,
   "metadata": {},
   "outputs": [
    {
     "data": {
      "text/plain": [
       "(29861, 13)"
      ]
     },
     "execution_count": 1056,
     "metadata": {},
     "output_type": "execute_result"
    }
   ],
   "source": [
    "transcript_bogo_final_df_temp.shape"
   ]
  },
  {
   "cell_type": "code",
   "execution_count": 1057,
   "metadata": {},
   "outputs": [
    {
     "data": {
      "text/plain": [
       "0.15203777502427915"
      ]
     },
     "execution_count": 1057,
     "metadata": {},
     "output_type": "execute_result"
    }
   ],
   "source": [
    "transcript_bogo_final_df_temp[[\"customer_id\", \"portfolio_id\"]].duplicated().sum()/transcript_bogo_final_df_temp.shape[0]"
   ]
  },
  {
   "cell_type": "code",
   "execution_count": 1058,
   "metadata": {},
   "outputs": [],
   "source": [
    "transcript_bogo_final_df_temp = transcript_bogo_final_df_temp.drop_duplicates()"
   ]
  },
  {
   "cell_type": "code",
   "execution_count": 1059,
   "metadata": {},
   "outputs": [],
   "source": [
    "transcript_bogo_completed_df_temp = transcript_bogo_final_df_temp[~transcript_bogo_final_df_temp[\"offer_completed_time\"].isnull()]"
   ]
  },
  {
   "cell_type": "code",
   "execution_count": 1060,
   "metadata": {
    "scrolled": true
   },
   "outputs": [
    {
     "data": {
      "text/html": [
       "<div>\n",
       "<style scoped>\n",
       "    .dataframe tbody tr th:only-of-type {\n",
       "        vertical-align: middle;\n",
       "    }\n",
       "\n",
       "    .dataframe tbody tr th {\n",
       "        vertical-align: top;\n",
       "    }\n",
       "\n",
       "    .dataframe thead th {\n",
       "        text-align: right;\n",
       "    }\n",
       "</style>\n",
       "<table border=\"1\" class=\"dataframe\">\n",
       "  <thead>\n",
       "    <tr style=\"text-align: right;\">\n",
       "      <th></th>\n",
       "      <th>customer_id</th>\n",
       "      <th>portfolio_id</th>\n",
       "      <th>event_x</th>\n",
       "      <th>offer_received_time</th>\n",
       "      <th>amount_x</th>\n",
       "      <th>duration_x</th>\n",
       "      <th>offer_type_x</th>\n",
       "      <th>offer_end_time</th>\n",
       "      <th>event_y</th>\n",
       "      <th>offer_completed_time</th>\n",
       "      <th>amount_y</th>\n",
       "      <th>duration_y</th>\n",
       "      <th>offer_type_y</th>\n",
       "    </tr>\n",
       "  </thead>\n",
       "  <tbody>\n",
       "    <tr>\n",
       "      <th>0</th>\n",
       "      <td>78afa995795e4d85b5d9ceeca43f5fef</td>\n",
       "      <td>9b98b8c7a33c4b65b9aebfe6a799e6d9</td>\n",
       "      <td>offer received</td>\n",
       "      <td>0</td>\n",
       "      <td>0.0</td>\n",
       "      <td>168.0</td>\n",
       "      <td>bogo</td>\n",
       "      <td>168.0</td>\n",
       "      <td>offer completed</td>\n",
       "      <td>132.0</td>\n",
       "      <td>0.0</td>\n",
       "      <td>168.0</td>\n",
       "      <td>bogo</td>\n",
       "    </tr>\n",
       "    <tr>\n",
       "      <th>2</th>\n",
       "      <td>389bc3fa690240e798340f5a15918d5c</td>\n",
       "      <td>f19421c1d4aa40978ebb69ca19b0e20d</td>\n",
       "      <td>offer received</td>\n",
       "      <td>0</td>\n",
       "      <td>0.0</td>\n",
       "      <td>120.0</td>\n",
       "      <td>bogo</td>\n",
       "      <td>120.0</td>\n",
       "      <td>offer completed</td>\n",
       "      <td>60.0</td>\n",
       "      <td>0.0</td>\n",
       "      <td>120.0</td>\n",
       "      <td>bogo</td>\n",
       "    </tr>\n",
       "    <tr>\n",
       "      <th>7</th>\n",
       "      <td>f082d80f0aac47a99173ba8ef8fc1909</td>\n",
       "      <td>9b98b8c7a33c4b65b9aebfe6a799e6d9</td>\n",
       "      <td>offer received</td>\n",
       "      <td>0</td>\n",
       "      <td>0.0</td>\n",
       "      <td>168.0</td>\n",
       "      <td>bogo</td>\n",
       "      <td>168.0</td>\n",
       "      <td>offer completed</td>\n",
       "      <td>12.0</td>\n",
       "      <td>0.0</td>\n",
       "      <td>168.0</td>\n",
       "      <td>bogo</td>\n",
       "    </tr>\n",
       "    <tr>\n",
       "      <th>8</th>\n",
       "      <td>102e9454054946fda62242d2e176fdce</td>\n",
       "      <td>4d5c57ea9a6940dd891ad53e9dbe8da0</td>\n",
       "      <td>offer received</td>\n",
       "      <td>0</td>\n",
       "      <td>0.0</td>\n",
       "      <td>120.0</td>\n",
       "      <td>bogo</td>\n",
       "      <td>120.0</td>\n",
       "      <td>offer completed</td>\n",
       "      <td>6.0</td>\n",
       "      <td>0.0</td>\n",
       "      <td>120.0</td>\n",
       "      <td>bogo</td>\n",
       "    </tr>\n",
       "    <tr>\n",
       "      <th>9</th>\n",
       "      <td>6e014185620b49bd98749f728747572f</td>\n",
       "      <td>f19421c1d4aa40978ebb69ca19b0e20d</td>\n",
       "      <td>offer received</td>\n",
       "      <td>0</td>\n",
       "      <td>0.0</td>\n",
       "      <td>120.0</td>\n",
       "      <td>bogo</td>\n",
       "      <td>120.0</td>\n",
       "      <td>offer completed</td>\n",
       "      <td>66.0</td>\n",
       "      <td>0.0</td>\n",
       "      <td>120.0</td>\n",
       "      <td>bogo</td>\n",
       "    </tr>\n",
       "  </tbody>\n",
       "</table>\n",
       "</div>"
      ],
      "text/plain": [
       "                        customer_id                      portfolio_id  \\\n",
       "0  78afa995795e4d85b5d9ceeca43f5fef  9b98b8c7a33c4b65b9aebfe6a799e6d9   \n",
       "2  389bc3fa690240e798340f5a15918d5c  f19421c1d4aa40978ebb69ca19b0e20d   \n",
       "7  f082d80f0aac47a99173ba8ef8fc1909  9b98b8c7a33c4b65b9aebfe6a799e6d9   \n",
       "8  102e9454054946fda62242d2e176fdce  4d5c57ea9a6940dd891ad53e9dbe8da0   \n",
       "9  6e014185620b49bd98749f728747572f  f19421c1d4aa40978ebb69ca19b0e20d   \n",
       "\n",
       "          event_x  offer_received_time  amount_x  duration_x offer_type_x  \\\n",
       "0  offer received                    0       0.0       168.0         bogo   \n",
       "2  offer received                    0       0.0       120.0         bogo   \n",
       "7  offer received                    0       0.0       168.0         bogo   \n",
       "8  offer received                    0       0.0       120.0         bogo   \n",
       "9  offer received                    0       0.0       120.0         bogo   \n",
       "\n",
       "   offer_end_time          event_y  offer_completed_time  amount_y  \\\n",
       "0           168.0  offer completed                 132.0       0.0   \n",
       "2           120.0  offer completed                  60.0       0.0   \n",
       "7           168.0  offer completed                  12.0       0.0   \n",
       "8           120.0  offer completed                   6.0       0.0   \n",
       "9           120.0  offer completed                  66.0       0.0   \n",
       "\n",
       "   duration_y offer_type_y  \n",
       "0       168.0         bogo  \n",
       "2       120.0         bogo  \n",
       "7       168.0         bogo  \n",
       "8       120.0         bogo  \n",
       "9       120.0         bogo  "
      ]
     },
     "execution_count": 1060,
     "metadata": {},
     "output_type": "execute_result"
    }
   ],
   "source": [
    "transcript_bogo_completed_df_temp.head()"
   ]
  },
  {
   "cell_type": "code",
   "execution_count": 1061,
   "metadata": {},
   "outputs": [
    {
     "name": "stderr",
     "output_type": "stream",
     "text": [
      "/opt/conda/lib/python3.6/site-packages/ipykernel_launcher.py:1: SettingWithCopyWarning: \n",
      "A value is trying to be set on a copy of a slice from a DataFrame.\n",
      "Try using .loc[row_indexer,col_indexer] = value instead\n",
      "\n",
      "See the caveats in the documentation: http://pandas.pydata.org/pandas-docs/stable/indexing.html#indexing-view-versus-copy\n",
      "  \"\"\"Entry point for launching an IPython kernel.\n"
     ]
    }
   ],
   "source": [
    "transcript_bogo_completed_df_temp[\"offer_end_time_new\"] = transcript_bogo_completed_df_temp[\"offer_completed_time\"]"
   ]
  },
  {
   "cell_type": "code",
   "execution_count": 1062,
   "metadata": {},
   "outputs": [
    {
     "data": {
      "text/html": [
       "<div>\n",
       "<style scoped>\n",
       "    .dataframe tbody tr th:only-of-type {\n",
       "        vertical-align: middle;\n",
       "    }\n",
       "\n",
       "    .dataframe tbody tr th {\n",
       "        vertical-align: top;\n",
       "    }\n",
       "\n",
       "    .dataframe thead th {\n",
       "        text-align: right;\n",
       "    }\n",
       "</style>\n",
       "<table border=\"1\" class=\"dataframe\">\n",
       "  <thead>\n",
       "    <tr style=\"text-align: right;\">\n",
       "      <th></th>\n",
       "      <th>customer_id</th>\n",
       "      <th>portfolio_id</th>\n",
       "      <th>event_x</th>\n",
       "      <th>offer_received_time</th>\n",
       "      <th>amount_x</th>\n",
       "      <th>duration_x</th>\n",
       "      <th>offer_type_x</th>\n",
       "      <th>offer_end_time</th>\n",
       "      <th>event_y</th>\n",
       "      <th>offer_completed_time</th>\n",
       "      <th>amount_y</th>\n",
       "      <th>duration_y</th>\n",
       "      <th>offer_type_y</th>\n",
       "      <th>offer_end_time_new</th>\n",
       "    </tr>\n",
       "  </thead>\n",
       "  <tbody>\n",
       "    <tr>\n",
       "      <th>0</th>\n",
       "      <td>78afa995795e4d85b5d9ceeca43f5fef</td>\n",
       "      <td>9b98b8c7a33c4b65b9aebfe6a799e6d9</td>\n",
       "      <td>offer received</td>\n",
       "      <td>0</td>\n",
       "      <td>0.0</td>\n",
       "      <td>168.0</td>\n",
       "      <td>bogo</td>\n",
       "      <td>168.0</td>\n",
       "      <td>offer completed</td>\n",
       "      <td>132.0</td>\n",
       "      <td>0.0</td>\n",
       "      <td>168.0</td>\n",
       "      <td>bogo</td>\n",
       "      <td>132.0</td>\n",
       "    </tr>\n",
       "    <tr>\n",
       "      <th>2</th>\n",
       "      <td>389bc3fa690240e798340f5a15918d5c</td>\n",
       "      <td>f19421c1d4aa40978ebb69ca19b0e20d</td>\n",
       "      <td>offer received</td>\n",
       "      <td>0</td>\n",
       "      <td>0.0</td>\n",
       "      <td>120.0</td>\n",
       "      <td>bogo</td>\n",
       "      <td>120.0</td>\n",
       "      <td>offer completed</td>\n",
       "      <td>60.0</td>\n",
       "      <td>0.0</td>\n",
       "      <td>120.0</td>\n",
       "      <td>bogo</td>\n",
       "      <td>60.0</td>\n",
       "    </tr>\n",
       "    <tr>\n",
       "      <th>7</th>\n",
       "      <td>f082d80f0aac47a99173ba8ef8fc1909</td>\n",
       "      <td>9b98b8c7a33c4b65b9aebfe6a799e6d9</td>\n",
       "      <td>offer received</td>\n",
       "      <td>0</td>\n",
       "      <td>0.0</td>\n",
       "      <td>168.0</td>\n",
       "      <td>bogo</td>\n",
       "      <td>168.0</td>\n",
       "      <td>offer completed</td>\n",
       "      <td>12.0</td>\n",
       "      <td>0.0</td>\n",
       "      <td>168.0</td>\n",
       "      <td>bogo</td>\n",
       "      <td>12.0</td>\n",
       "    </tr>\n",
       "    <tr>\n",
       "      <th>8</th>\n",
       "      <td>102e9454054946fda62242d2e176fdce</td>\n",
       "      <td>4d5c57ea9a6940dd891ad53e9dbe8da0</td>\n",
       "      <td>offer received</td>\n",
       "      <td>0</td>\n",
       "      <td>0.0</td>\n",
       "      <td>120.0</td>\n",
       "      <td>bogo</td>\n",
       "      <td>120.0</td>\n",
       "      <td>offer completed</td>\n",
       "      <td>6.0</td>\n",
       "      <td>0.0</td>\n",
       "      <td>120.0</td>\n",
       "      <td>bogo</td>\n",
       "      <td>6.0</td>\n",
       "    </tr>\n",
       "    <tr>\n",
       "      <th>9</th>\n",
       "      <td>6e014185620b49bd98749f728747572f</td>\n",
       "      <td>f19421c1d4aa40978ebb69ca19b0e20d</td>\n",
       "      <td>offer received</td>\n",
       "      <td>0</td>\n",
       "      <td>0.0</td>\n",
       "      <td>120.0</td>\n",
       "      <td>bogo</td>\n",
       "      <td>120.0</td>\n",
       "      <td>offer completed</td>\n",
       "      <td>66.0</td>\n",
       "      <td>0.0</td>\n",
       "      <td>120.0</td>\n",
       "      <td>bogo</td>\n",
       "      <td>66.0</td>\n",
       "    </tr>\n",
       "  </tbody>\n",
       "</table>\n",
       "</div>"
      ],
      "text/plain": [
       "                        customer_id                      portfolio_id  \\\n",
       "0  78afa995795e4d85b5d9ceeca43f5fef  9b98b8c7a33c4b65b9aebfe6a799e6d9   \n",
       "2  389bc3fa690240e798340f5a15918d5c  f19421c1d4aa40978ebb69ca19b0e20d   \n",
       "7  f082d80f0aac47a99173ba8ef8fc1909  9b98b8c7a33c4b65b9aebfe6a799e6d9   \n",
       "8  102e9454054946fda62242d2e176fdce  4d5c57ea9a6940dd891ad53e9dbe8da0   \n",
       "9  6e014185620b49bd98749f728747572f  f19421c1d4aa40978ebb69ca19b0e20d   \n",
       "\n",
       "          event_x  offer_received_time  amount_x  duration_x offer_type_x  \\\n",
       "0  offer received                    0       0.0       168.0         bogo   \n",
       "2  offer received                    0       0.0       120.0         bogo   \n",
       "7  offer received                    0       0.0       168.0         bogo   \n",
       "8  offer received                    0       0.0       120.0         bogo   \n",
       "9  offer received                    0       0.0       120.0         bogo   \n",
       "\n",
       "   offer_end_time          event_y  offer_completed_time  amount_y  \\\n",
       "0           168.0  offer completed                 132.0       0.0   \n",
       "2           120.0  offer completed                  60.0       0.0   \n",
       "7           168.0  offer completed                  12.0       0.0   \n",
       "8           120.0  offer completed                   6.0       0.0   \n",
       "9           120.0  offer completed                  66.0       0.0   \n",
       "\n",
       "   duration_y offer_type_y  offer_end_time_new  \n",
       "0       168.0         bogo               132.0  \n",
       "2       120.0         bogo                60.0  \n",
       "7       168.0         bogo                12.0  \n",
       "8       120.0         bogo                 6.0  \n",
       "9       120.0         bogo                66.0  "
      ]
     },
     "execution_count": 1062,
     "metadata": {},
     "output_type": "execute_result"
    }
   ],
   "source": [
    "transcript_bogo_completed_df_temp.head()"
   ]
  },
  {
   "cell_type": "code",
   "execution_count": 1063,
   "metadata": {},
   "outputs": [],
   "source": [
    "transcript_bogo_final_non_completed_df_temp = transcript_bogo_final_df_temp.loc[transcript_bogo_final_df_temp[\"offer_completed_time\"].isnull(), \\\n",
    "                                  [\"customer_id\", \"portfolio_id\", \"offer_received_time\", \"duration_x\", \"offer_end_time\"]]"
   ]
  },
  {
   "cell_type": "code",
   "execution_count": 1064,
   "metadata": {
    "scrolled": true
   },
   "outputs": [
    {
     "data": {
      "text/html": [
       "<div>\n",
       "<style scoped>\n",
       "    .dataframe tbody tr th:only-of-type {\n",
       "        vertical-align: middle;\n",
       "    }\n",
       "\n",
       "    .dataframe tbody tr th {\n",
       "        vertical-align: top;\n",
       "    }\n",
       "\n",
       "    .dataframe thead th {\n",
       "        text-align: right;\n",
       "    }\n",
       "</style>\n",
       "<table border=\"1\" class=\"dataframe\">\n",
       "  <thead>\n",
       "    <tr style=\"text-align: right;\">\n",
       "      <th></th>\n",
       "      <th>customer_id</th>\n",
       "      <th>portfolio_id</th>\n",
       "      <th>offer_received_time</th>\n",
       "      <th>duration_x</th>\n",
       "      <th>offer_end_time</th>\n",
       "    </tr>\n",
       "  </thead>\n",
       "  <tbody>\n",
       "    <tr>\n",
       "      <th>1</th>\n",
       "      <td>68617ca6246f4fbc85e91a2a49552598</td>\n",
       "      <td>4d5c57ea9a6940dd891ad53e9dbe8da0</td>\n",
       "      <td>0</td>\n",
       "      <td>120.0</td>\n",
       "      <td>120.0</td>\n",
       "    </tr>\n",
       "    <tr>\n",
       "      <th>5</th>\n",
       "      <td>ebe7ef46ea6f4963a7dd49f501b26779</td>\n",
       "      <td>9b98b8c7a33c4b65b9aebfe6a799e6d9</td>\n",
       "      <td>0</td>\n",
       "      <td>168.0</td>\n",
       "      <td>168.0</td>\n",
       "    </tr>\n",
       "    <tr>\n",
       "      <th>6</th>\n",
       "      <td>1e9420836d554513ab90eba98552d0a9</td>\n",
       "      <td>ae264e3637204a6fb9bb56bc8210ddfd</td>\n",
       "      <td>0</td>\n",
       "      <td>168.0</td>\n",
       "      <td>168.0</td>\n",
       "    </tr>\n",
       "    <tr>\n",
       "      <th>10</th>\n",
       "      <td>02c083884c7d45b39cc68e1314fec56c</td>\n",
       "      <td>ae264e3637204a6fb9bb56bc8210ddfd</td>\n",
       "      <td>0</td>\n",
       "      <td>168.0</td>\n",
       "      <td>168.0</td>\n",
       "    </tr>\n",
       "    <tr>\n",
       "      <th>12</th>\n",
       "      <td>57dd18ec5ddc46828afb81ec5977bef2</td>\n",
       "      <td>9b98b8c7a33c4b65b9aebfe6a799e6d9</td>\n",
       "      <td>0</td>\n",
       "      <td>168.0</td>\n",
       "      <td>168.0</td>\n",
       "    </tr>\n",
       "  </tbody>\n",
       "</table>\n",
       "</div>"
      ],
      "text/plain": [
       "                         customer_id                      portfolio_id  \\\n",
       "1   68617ca6246f4fbc85e91a2a49552598  4d5c57ea9a6940dd891ad53e9dbe8da0   \n",
       "5   ebe7ef46ea6f4963a7dd49f501b26779  9b98b8c7a33c4b65b9aebfe6a799e6d9   \n",
       "6   1e9420836d554513ab90eba98552d0a9  ae264e3637204a6fb9bb56bc8210ddfd   \n",
       "10  02c083884c7d45b39cc68e1314fec56c  ae264e3637204a6fb9bb56bc8210ddfd   \n",
       "12  57dd18ec5ddc46828afb81ec5977bef2  9b98b8c7a33c4b65b9aebfe6a799e6d9   \n",
       "\n",
       "    offer_received_time  duration_x  offer_end_time  \n",
       "1                     0       120.0           120.0  \n",
       "5                     0       168.0           168.0  \n",
       "6                     0       168.0           168.0  \n",
       "10                    0       168.0           168.0  \n",
       "12                    0       168.0           168.0  "
      ]
     },
     "execution_count": 1064,
     "metadata": {},
     "output_type": "execute_result"
    }
   ],
   "source": [
    "transcript_bogo_final_non_completed_df_temp.head()"
   ]
  },
  {
   "cell_type": "code",
   "execution_count": 1065,
   "metadata": {},
   "outputs": [],
   "source": [
    "transcript_bogo_completed_df_temp = transcript_bogo_completed_df_temp[[\"customer_id\", \"portfolio_id\", \\\n",
    "\"offer_received_time\", \"duration_x\", \"offer_end_time_new\"]]"
   ]
  },
  {
   "cell_type": "code",
   "execution_count": 1066,
   "metadata": {},
   "outputs": [],
   "source": [
    "transcript_bogo_completed_df_temp = transcript_bogo_completed_df_temp.rename(columns = {\"offer_end_time_new\":\"offer_end_time\"})"
   ]
  },
  {
   "cell_type": "code",
   "execution_count": 1067,
   "metadata": {},
   "outputs": [
    {
     "data": {
      "text/html": [
       "<div>\n",
       "<style scoped>\n",
       "    .dataframe tbody tr th:only-of-type {\n",
       "        vertical-align: middle;\n",
       "    }\n",
       "\n",
       "    .dataframe tbody tr th {\n",
       "        vertical-align: top;\n",
       "    }\n",
       "\n",
       "    .dataframe thead th {\n",
       "        text-align: right;\n",
       "    }\n",
       "</style>\n",
       "<table border=\"1\" class=\"dataframe\">\n",
       "  <thead>\n",
       "    <tr style=\"text-align: right;\">\n",
       "      <th></th>\n",
       "      <th>customer_id</th>\n",
       "      <th>portfolio_id</th>\n",
       "      <th>offer_received_time</th>\n",
       "      <th>duration_x</th>\n",
       "      <th>offer_end_time</th>\n",
       "    </tr>\n",
       "  </thead>\n",
       "  <tbody>\n",
       "    <tr>\n",
       "      <th>0</th>\n",
       "      <td>78afa995795e4d85b5d9ceeca43f5fef</td>\n",
       "      <td>9b98b8c7a33c4b65b9aebfe6a799e6d9</td>\n",
       "      <td>0</td>\n",
       "      <td>168.0</td>\n",
       "      <td>132.0</td>\n",
       "    </tr>\n",
       "    <tr>\n",
       "      <th>2</th>\n",
       "      <td>389bc3fa690240e798340f5a15918d5c</td>\n",
       "      <td>f19421c1d4aa40978ebb69ca19b0e20d</td>\n",
       "      <td>0</td>\n",
       "      <td>120.0</td>\n",
       "      <td>60.0</td>\n",
       "    </tr>\n",
       "    <tr>\n",
       "      <th>7</th>\n",
       "      <td>f082d80f0aac47a99173ba8ef8fc1909</td>\n",
       "      <td>9b98b8c7a33c4b65b9aebfe6a799e6d9</td>\n",
       "      <td>0</td>\n",
       "      <td>168.0</td>\n",
       "      <td>12.0</td>\n",
       "    </tr>\n",
       "    <tr>\n",
       "      <th>8</th>\n",
       "      <td>102e9454054946fda62242d2e176fdce</td>\n",
       "      <td>4d5c57ea9a6940dd891ad53e9dbe8da0</td>\n",
       "      <td>0</td>\n",
       "      <td>120.0</td>\n",
       "      <td>6.0</td>\n",
       "    </tr>\n",
       "    <tr>\n",
       "      <th>9</th>\n",
       "      <td>6e014185620b49bd98749f728747572f</td>\n",
       "      <td>f19421c1d4aa40978ebb69ca19b0e20d</td>\n",
       "      <td>0</td>\n",
       "      <td>120.0</td>\n",
       "      <td>66.0</td>\n",
       "    </tr>\n",
       "  </tbody>\n",
       "</table>\n",
       "</div>"
      ],
      "text/plain": [
       "                        customer_id                      portfolio_id  \\\n",
       "0  78afa995795e4d85b5d9ceeca43f5fef  9b98b8c7a33c4b65b9aebfe6a799e6d9   \n",
       "2  389bc3fa690240e798340f5a15918d5c  f19421c1d4aa40978ebb69ca19b0e20d   \n",
       "7  f082d80f0aac47a99173ba8ef8fc1909  9b98b8c7a33c4b65b9aebfe6a799e6d9   \n",
       "8  102e9454054946fda62242d2e176fdce  4d5c57ea9a6940dd891ad53e9dbe8da0   \n",
       "9  6e014185620b49bd98749f728747572f  f19421c1d4aa40978ebb69ca19b0e20d   \n",
       "\n",
       "   offer_received_time  duration_x  offer_end_time  \n",
       "0                    0       168.0           132.0  \n",
       "2                    0       120.0            60.0  \n",
       "7                    0       168.0            12.0  \n",
       "8                    0       120.0             6.0  \n",
       "9                    0       120.0            66.0  "
      ]
     },
     "execution_count": 1067,
     "metadata": {},
     "output_type": "execute_result"
    }
   ],
   "source": [
    "transcript_bogo_completed_df_temp.head()"
   ]
  },
  {
   "cell_type": "code",
   "execution_count": 1068,
   "metadata": {},
   "outputs": [],
   "source": [
    "transcript_bogo_final_df = pd.concat([transcript_bogo_completed_df_temp, transcript_bogo_final_non_completed_df_temp])"
   ]
  },
  {
   "cell_type": "code",
   "execution_count": 1069,
   "metadata": {},
   "outputs": [],
   "source": [
    "transcript_bogo_final_df = transcript_bogo_final_df.rename(columns = {\"duration_x\":\"duration\"})"
   ]
  },
  {
   "cell_type": "code",
   "execution_count": 1070,
   "metadata": {},
   "outputs": [],
   "source": [
    "transcript_bogo_val_df = transcript_bogo_final_df.groupby([\"customer_id\", \"portfolio_id\", \"offer_received_time\"]).\\\n",
    "agg({\"offer_end_time\":pd.Series.nunique}).reset_index()"
   ]
  },
  {
   "cell_type": "code",
   "execution_count": 1071,
   "metadata": {},
   "outputs": [],
   "source": [
    "transcript_bogo_val_problemic_df = transcript_bogo_val_df.loc[transcript_bogo_val_df[\"offer_end_time\"]>1, \\\n",
    "                                                          [\"customer_id\", \"portfolio_id\", \"offer_received_time\"]]"
   ]
  },
  {
   "cell_type": "code",
   "execution_count": 1072,
   "metadata": {},
   "outputs": [],
   "source": [
    "transcript_bogo_val_problemic_df = transcript_bogo_val_problemic_df.drop_duplicates()"
   ]
  },
  {
   "cell_type": "code",
   "execution_count": 1073,
   "metadata": {},
   "outputs": [],
   "source": [
    "transcript_bogo_problemic_df = transcript_bogo_final_df[(transcript_bogo_final_df[\"customer_id\"].isin(transcript_bogo_val_problemic_df[\"customer_id\"]))\\\n",
    "                        & (transcript_bogo_final_df[\"portfolio_id\"].isin(transcript_bogo_val_problemic_df[\"portfolio_id\"]))\\\n",
    "                        & (transcript_bogo_final_df[\"offer_received_time\"].isin(transcript_bogo_val_problemic_df[\"offer_received_time\"]))\\\n",
    "                        ]"
   ]
  },
  {
   "cell_type": "code",
   "execution_count": 1074,
   "metadata": {},
   "outputs": [],
   "source": [
    "transcript_bogo_clean_df = transcript_bogo_final_df[~(transcript_bogo_final_df[\"customer_id\"].isin(transcript_bogo_val_problemic_df[\"customer_id\"]))\\\n",
    "                        & (transcript_bogo_final_df[\"portfolio_id\"].isin(transcript_bogo_val_problemic_df[\"portfolio_id\"]))\\\n",
    "                        & (transcript_bogo_final_df[\"offer_received_time\"].isin(transcript_bogo_val_problemic_df[\"offer_received_time\"]))\\\n",
    "                        ]"
   ]
  },
  {
   "cell_type": "code",
   "execution_count": 1075,
   "metadata": {},
   "outputs": [
    {
     "data": {
      "text/plain": [
       "((951, 5), (23715, 5))"
      ]
     },
     "execution_count": 1075,
     "metadata": {},
     "output_type": "execute_result"
    }
   ],
   "source": [
    "transcript_bogo_problemic_df.shape, transcript_bogo_clean_df.shape"
   ]
  },
  {
   "cell_type": "code",
   "execution_count": 1076,
   "metadata": {
    "scrolled": true
   },
   "outputs": [
    {
     "data": {
      "text/html": [
       "<div>\n",
       "<style scoped>\n",
       "    .dataframe tbody tr th:only-of-type {\n",
       "        vertical-align: middle;\n",
       "    }\n",
       "\n",
       "    .dataframe tbody tr th {\n",
       "        vertical-align: top;\n",
       "    }\n",
       "\n",
       "    .dataframe thead th {\n",
       "        text-align: right;\n",
       "    }\n",
       "</style>\n",
       "<table border=\"1\" class=\"dataframe\">\n",
       "  <thead>\n",
       "    <tr style=\"text-align: right;\">\n",
       "      <th></th>\n",
       "      <th>customer_id</th>\n",
       "      <th>portfolio_id</th>\n",
       "      <th>offer_received_time</th>\n",
       "      <th>duration</th>\n",
       "      <th>offer_end_time</th>\n",
       "    </tr>\n",
       "  </thead>\n",
       "  <tbody>\n",
       "    <tr>\n",
       "      <th>38</th>\n",
       "      <td>f8aedd0cbea0419c806842b4265b82e5</td>\n",
       "      <td>ae264e3637204a6fb9bb56bc8210ddfd</td>\n",
       "      <td>0</td>\n",
       "      <td>168.0</td>\n",
       "      <td>30.0</td>\n",
       "    </tr>\n",
       "    <tr>\n",
       "      <th>39</th>\n",
       "      <td>f8aedd0cbea0419c806842b4265b82e5</td>\n",
       "      <td>ae264e3637204a6fb9bb56bc8210ddfd</td>\n",
       "      <td>0</td>\n",
       "      <td>168.0</td>\n",
       "      <td>168.0</td>\n",
       "    </tr>\n",
       "    <tr>\n",
       "      <th>45</th>\n",
       "      <td>93e67942586e43fb87d5ffb1ead8db41</td>\n",
       "      <td>4d5c57ea9a6940dd891ad53e9dbe8da0</td>\n",
       "      <td>0</td>\n",
       "      <td>120.0</td>\n",
       "      <td>24.0</td>\n",
       "    </tr>\n",
       "    <tr>\n",
       "      <th>111</th>\n",
       "      <td>8b5ae6d6547745d5adae0b0828de3f7d</td>\n",
       "      <td>f19421c1d4aa40978ebb69ca19b0e20d</td>\n",
       "      <td>0</td>\n",
       "      <td>120.0</td>\n",
       "      <td>66.0</td>\n",
       "    </tr>\n",
       "    <tr>\n",
       "      <th>129</th>\n",
       "      <td>7da4476ec7234c0fa8f05d2336669212</td>\n",
       "      <td>ae264e3637204a6fb9bb56bc8210ddfd</td>\n",
       "      <td>0</td>\n",
       "      <td>168.0</td>\n",
       "      <td>36.0</td>\n",
       "    </tr>\n",
       "  </tbody>\n",
       "</table>\n",
       "</div>"
      ],
      "text/plain": [
       "                          customer_id                      portfolio_id  \\\n",
       "38   f8aedd0cbea0419c806842b4265b82e5  ae264e3637204a6fb9bb56bc8210ddfd   \n",
       "39   f8aedd0cbea0419c806842b4265b82e5  ae264e3637204a6fb9bb56bc8210ddfd   \n",
       "45   93e67942586e43fb87d5ffb1ead8db41  4d5c57ea9a6940dd891ad53e9dbe8da0   \n",
       "111  8b5ae6d6547745d5adae0b0828de3f7d  f19421c1d4aa40978ebb69ca19b0e20d   \n",
       "129  7da4476ec7234c0fa8f05d2336669212  ae264e3637204a6fb9bb56bc8210ddfd   \n",
       "\n",
       "     offer_received_time  duration  offer_end_time  \n",
       "38                     0     168.0            30.0  \n",
       "39                     0     168.0           168.0  \n",
       "45                     0     120.0            24.0  \n",
       "111                    0     120.0            66.0  \n",
       "129                    0     168.0            36.0  "
      ]
     },
     "execution_count": 1076,
     "metadata": {},
     "output_type": "execute_result"
    }
   ],
   "source": [
    "transcript_bogo_problemic_df.head()"
   ]
  },
  {
   "cell_type": "code",
   "execution_count": 1077,
   "metadata": {},
   "outputs": [],
   "source": [
    "transcript_bogo_pro_cleaned_df = transcript_bogo_problemic_df.groupby([\"customer_id\", \"portfolio_id\"])\\\n",
    ".agg({\"offer_received_time\":min, \"offer_end_time\":max}).reset_index()"
   ]
  },
  {
   "cell_type": "code",
   "execution_count": 1078,
   "metadata": {},
   "outputs": [
    {
     "data": {
      "text/plain": [
       "array([False], dtype=bool)"
      ]
     },
     "execution_count": 1078,
     "metadata": {},
     "output_type": "execute_result"
    }
   ],
   "source": [
    "(transcript_bogo_pro_cleaned_df.groupby([\"customer_id\", \"portfolio_id\"])\\\n",
    "['offer_end_time'].count().reset_index()[\"offer_end_time\"] > 1).unique()"
   ]
  },
  {
   "cell_type": "code",
   "execution_count": 1079,
   "metadata": {},
   "outputs": [
    {
     "name": "stderr",
     "output_type": "stream",
     "text": [
      "/opt/conda/lib/python3.6/site-packages/ipykernel_launcher.py:1: FutureWarning: Sorting because non-concatenation axis is not aligned. A future version\n",
      "of pandas will change to not sort by default.\n",
      "\n",
      "To accept the future behavior, pass 'sort=False'.\n",
      "\n",
      "To retain the current behavior and silence the warning, pass 'sort=True'.\n",
      "\n",
      "  \"\"\"Entry point for launching an IPython kernel.\n"
     ]
    }
   ],
   "source": [
    "transcript_bogo_final_df_v2 = pd.concat([transcript_bogo_pro_cleaned_df, transcript_bogo_clean_df])"
   ]
  },
  {
   "cell_type": "code",
   "execution_count": 1080,
   "metadata": {},
   "outputs": [
    {
     "data": {
      "text/plain": [
       "array([False], dtype=bool)"
      ]
     },
     "execution_count": 1080,
     "metadata": {},
     "output_type": "execute_result"
    }
   ],
   "source": [
    "(transcript_bogo_final_df_v2.groupby([\"customer_id\", \"portfolio_id\", \"offer_received_time\"])\\\n",
    "['offer_end_time'].count().reset_index()[\"offer_end_time\"] > 1).unique()"
   ]
  },
  {
   "cell_type": "code",
   "execution_count": 1081,
   "metadata": {},
   "outputs": [
    {
     "data": {
      "text/plain": [
       "array([False,  True], dtype=bool)"
      ]
     },
     "execution_count": 1081,
     "metadata": {},
     "output_type": "execute_result"
    }
   ],
   "source": [
    "(transcript_bogo_final_df_v2.groupby([\"customer_id\", \"portfolio_id\"])\\\n",
    "['offer_end_time'].count().reset_index()[\"offer_end_time\"] > 1).unique()"
   ]
  },
  {
   "cell_type": "code",
   "execution_count": 1082,
   "metadata": {},
   "outputs": [
    {
     "data": {
      "text/html": [
       "<div>\n",
       "<style scoped>\n",
       "    .dataframe tbody tr th:only-of-type {\n",
       "        vertical-align: middle;\n",
       "    }\n",
       "\n",
       "    .dataframe tbody tr th {\n",
       "        vertical-align: top;\n",
       "    }\n",
       "\n",
       "    .dataframe thead th {\n",
       "        text-align: right;\n",
       "    }\n",
       "</style>\n",
       "<table border=\"1\" class=\"dataframe\">\n",
       "  <thead>\n",
       "    <tr style=\"text-align: right;\">\n",
       "      <th></th>\n",
       "      <th>customer_id</th>\n",
       "      <th>duration</th>\n",
       "      <th>offer_end_time</th>\n",
       "      <th>offer_received_time</th>\n",
       "      <th>portfolio_id</th>\n",
       "    </tr>\n",
       "  </thead>\n",
       "  <tbody>\n",
       "    <tr>\n",
       "      <th>5749</th>\n",
       "      <td>0861b9ca31b741bb8b411b18f82d18f6</td>\n",
       "      <td>120.0</td>\n",
       "      <td>180.0</td>\n",
       "      <td>168</td>\n",
       "      <td>f19421c1d4aa40978ebb69ca19b0e20d</td>\n",
       "    </tr>\n",
       "    <tr>\n",
       "      <th>5752</th>\n",
       "      <td>d3f146b615514c6380b168bb3df5f05b</td>\n",
       "      <td>120.0</td>\n",
       "      <td>234.0</td>\n",
       "      <td>168</td>\n",
       "      <td>f19421c1d4aa40978ebb69ca19b0e20d</td>\n",
       "    </tr>\n",
       "    <tr>\n",
       "      <th>5775</th>\n",
       "      <td>81e9ad5fa55a4884b65e01a5db8f1b4e</td>\n",
       "      <td>168.0</td>\n",
       "      <td>174.0</td>\n",
       "      <td>168</td>\n",
       "      <td>ae264e3637204a6fb9bb56bc8210ddfd</td>\n",
       "    </tr>\n",
       "    <tr>\n",
       "      <th>5797</th>\n",
       "      <td>d1a6fe4c241e4dbf8a4da6fd6c714ac5</td>\n",
       "      <td>168.0</td>\n",
       "      <td>258.0</td>\n",
       "      <td>168</td>\n",
       "      <td>9b98b8c7a33c4b65b9aebfe6a799e6d9</td>\n",
       "    </tr>\n",
       "    <tr>\n",
       "      <th>5826</th>\n",
       "      <td>da6c95e567f94dfdb54c16073807fcfe</td>\n",
       "      <td>168.0</td>\n",
       "      <td>288.0</td>\n",
       "      <td>168</td>\n",
       "      <td>9b98b8c7a33c4b65b9aebfe6a799e6d9</td>\n",
       "    </tr>\n",
       "  </tbody>\n",
       "</table>\n",
       "</div>"
      ],
      "text/plain": [
       "                           customer_id  duration  offer_end_time  \\\n",
       "5749  0861b9ca31b741bb8b411b18f82d18f6     120.0           180.0   \n",
       "5752  d3f146b615514c6380b168bb3df5f05b     120.0           234.0   \n",
       "5775  81e9ad5fa55a4884b65e01a5db8f1b4e     168.0           174.0   \n",
       "5797  d1a6fe4c241e4dbf8a4da6fd6c714ac5     168.0           258.0   \n",
       "5826  da6c95e567f94dfdb54c16073807fcfe     168.0           288.0   \n",
       "\n",
       "      offer_received_time                      portfolio_id  \n",
       "5749                  168  f19421c1d4aa40978ebb69ca19b0e20d  \n",
       "5752                  168  f19421c1d4aa40978ebb69ca19b0e20d  \n",
       "5775                  168  ae264e3637204a6fb9bb56bc8210ddfd  \n",
       "5797                  168  9b98b8c7a33c4b65b9aebfe6a799e6d9  \n",
       "5826                  168  9b98b8c7a33c4b65b9aebfe6a799e6d9  "
      ]
     },
     "execution_count": 1082,
     "metadata": {},
     "output_type": "execute_result"
    }
   ],
   "source": [
    "transcript_bogo_final_df_v2[transcript_bogo_final_df_v2[[\"customer_id\", \"portfolio_id\"]].duplicated()].head()"
   ]
  },
  {
   "cell_type": "code",
   "execution_count": 1083,
   "metadata": {},
   "outputs": [
    {
     "data": {
      "text/html": [
       "<div>\n",
       "<style scoped>\n",
       "    .dataframe tbody tr th:only-of-type {\n",
       "        vertical-align: middle;\n",
       "    }\n",
       "\n",
       "    .dataframe tbody tr th {\n",
       "        vertical-align: top;\n",
       "    }\n",
       "\n",
       "    .dataframe thead th {\n",
       "        text-align: right;\n",
       "    }\n",
       "</style>\n",
       "<table border=\"1\" class=\"dataframe\">\n",
       "  <thead>\n",
       "    <tr style=\"text-align: right;\">\n",
       "      <th></th>\n",
       "      <th>customer_id</th>\n",
       "      <th>duration</th>\n",
       "      <th>offer_end_time</th>\n",
       "      <th>offer_received_time</th>\n",
       "      <th>portfolio_id</th>\n",
       "    </tr>\n",
       "  </thead>\n",
       "  <tbody>\n",
       "    <tr>\n",
       "      <th>117</th>\n",
       "      <td>0861b9ca31b741bb8b411b18f82d18f6</td>\n",
       "      <td>120.0</td>\n",
       "      <td>36.0</td>\n",
       "      <td>0</td>\n",
       "      <td>f19421c1d4aa40978ebb69ca19b0e20d</td>\n",
       "    </tr>\n",
       "    <tr>\n",
       "      <th>5749</th>\n",
       "      <td>0861b9ca31b741bb8b411b18f82d18f6</td>\n",
       "      <td>120.0</td>\n",
       "      <td>180.0</td>\n",
       "      <td>168</td>\n",
       "      <td>f19421c1d4aa40978ebb69ca19b0e20d</td>\n",
       "    </tr>\n",
       "    <tr>\n",
       "      <th>17537</th>\n",
       "      <td>0861b9ca31b741bb8b411b18f82d18f6</td>\n",
       "      <td>120.0</td>\n",
       "      <td>408.0</td>\n",
       "      <td>408</td>\n",
       "      <td>f19421c1d4aa40978ebb69ca19b0e20d</td>\n",
       "    </tr>\n",
       "  </tbody>\n",
       "</table>\n",
       "</div>"
      ],
      "text/plain": [
       "                            customer_id  duration  offer_end_time  \\\n",
       "117    0861b9ca31b741bb8b411b18f82d18f6     120.0            36.0   \n",
       "5749   0861b9ca31b741bb8b411b18f82d18f6     120.0           180.0   \n",
       "17537  0861b9ca31b741bb8b411b18f82d18f6     120.0           408.0   \n",
       "\n",
       "       offer_received_time                      portfolio_id  \n",
       "117                      0  f19421c1d4aa40978ebb69ca19b0e20d  \n",
       "5749                   168  f19421c1d4aa40978ebb69ca19b0e20d  \n",
       "17537                  408  f19421c1d4aa40978ebb69ca19b0e20d  "
      ]
     },
     "execution_count": 1083,
     "metadata": {},
     "output_type": "execute_result"
    }
   ],
   "source": [
    "transcript_bogo_final_df_v2[(transcript_bogo_final_df_v2[\"customer_id\"] == \"0861b9ca31b741bb8b411b18f82d18f6\") &\\\n",
    "                           (transcript_bogo_final_df_v2[\"portfolio_id\"] == \"f19421c1d4aa40978ebb69ca19b0e20d\")\n",
    "                           ]"
   ]
  },
  {
   "cell_type": "code",
   "execution_count": 1084,
   "metadata": {},
   "outputs": [],
   "source": [
    "transcript_bogo_final_df_v2 = transcript_bogo_final_df_v2.drop(columns = [\"duration\"])"
   ]
  },
  {
   "cell_type": "code",
   "execution_count": 1085,
   "metadata": {},
   "outputs": [],
   "source": [
    "transaction_bogo_df = \\\n",
    "transcript.loc[(transcript[\"event\"] == \"transaction\") & \\\n",
    "               (transcript[\"customer_id\"].isin(transcript_bogo_final_df_v2[\"customer_id\"].unique())),\\\n",
    "              [\"customer_id\", \"time\", \"amount\"]]"
   ]
  },
  {
   "cell_type": "code",
   "execution_count": 1086,
   "metadata": {},
   "outputs": [],
   "source": [
    "transaction_bogo_final_df = transaction_bogo_df.groupby([\"customer_id\", \"time\"])[\"amount\"].sum().reset_index()"
   ]
  },
  {
   "cell_type": "code",
   "execution_count": 1087,
   "metadata": {},
   "outputs": [],
   "source": [
    "trans_bogo_full_final_df_temp = transcript_bogo_final_df_v2.merge(transaction_bogo_final_df, on=\"customer_id\", how=\"left\")"
   ]
  },
  {
   "cell_type": "code",
   "execution_count": 1088,
   "metadata": {},
   "outputs": [
    {
     "data": {
      "text/html": [
       "<div>\n",
       "<style scoped>\n",
       "    .dataframe tbody tr th:only-of-type {\n",
       "        vertical-align: middle;\n",
       "    }\n",
       "\n",
       "    .dataframe tbody tr th {\n",
       "        vertical-align: top;\n",
       "    }\n",
       "\n",
       "    .dataframe thead th {\n",
       "        text-align: right;\n",
       "    }\n",
       "</style>\n",
       "<table border=\"1\" class=\"dataframe\">\n",
       "  <thead>\n",
       "    <tr style=\"text-align: right;\">\n",
       "      <th></th>\n",
       "      <th>customer_id</th>\n",
       "      <th>offer_end_time</th>\n",
       "      <th>offer_received_time</th>\n",
       "      <th>portfolio_id</th>\n",
       "      <th>time</th>\n",
       "      <th>amount</th>\n",
       "    </tr>\n",
       "  </thead>\n",
       "  <tbody>\n",
       "    <tr>\n",
       "      <th>0</th>\n",
       "      <td>0082fd87c18f45f2be70dbcbb0fb8aad</td>\n",
       "      <td>450.0</td>\n",
       "      <td>336</td>\n",
       "      <td>9b98b8c7a33c4b65b9aebfe6a799e6d9</td>\n",
       "      <td>72.0</td>\n",
       "      <td>24.59</td>\n",
       "    </tr>\n",
       "    <tr>\n",
       "      <th>1</th>\n",
       "      <td>0082fd87c18f45f2be70dbcbb0fb8aad</td>\n",
       "      <td>450.0</td>\n",
       "      <td>336</td>\n",
       "      <td>9b98b8c7a33c4b65b9aebfe6a799e6d9</td>\n",
       "      <td>252.0</td>\n",
       "      <td>15.50</td>\n",
       "    </tr>\n",
       "    <tr>\n",
       "      <th>2</th>\n",
       "      <td>0082fd87c18f45f2be70dbcbb0fb8aad</td>\n",
       "      <td>450.0</td>\n",
       "      <td>336</td>\n",
       "      <td>9b98b8c7a33c4b65b9aebfe6a799e6d9</td>\n",
       "      <td>324.0</td>\n",
       "      <td>19.63</td>\n",
       "    </tr>\n",
       "    <tr>\n",
       "      <th>3</th>\n",
       "      <td>0082fd87c18f45f2be70dbcbb0fb8aad</td>\n",
       "      <td>450.0</td>\n",
       "      <td>336</td>\n",
       "      <td>9b98b8c7a33c4b65b9aebfe6a799e6d9</td>\n",
       "      <td>366.0</td>\n",
       "      <td>19.24</td>\n",
       "    </tr>\n",
       "    <tr>\n",
       "      <th>4</th>\n",
       "      <td>0082fd87c18f45f2be70dbcbb0fb8aad</td>\n",
       "      <td>450.0</td>\n",
       "      <td>336</td>\n",
       "      <td>9b98b8c7a33c4b65b9aebfe6a799e6d9</td>\n",
       "      <td>450.0</td>\n",
       "      <td>8.95</td>\n",
       "    </tr>\n",
       "  </tbody>\n",
       "</table>\n",
       "</div>"
      ],
      "text/plain": [
       "                        customer_id  offer_end_time  offer_received_time  \\\n",
       "0  0082fd87c18f45f2be70dbcbb0fb8aad           450.0                  336   \n",
       "1  0082fd87c18f45f2be70dbcbb0fb8aad           450.0                  336   \n",
       "2  0082fd87c18f45f2be70dbcbb0fb8aad           450.0                  336   \n",
       "3  0082fd87c18f45f2be70dbcbb0fb8aad           450.0                  336   \n",
       "4  0082fd87c18f45f2be70dbcbb0fb8aad           450.0                  336   \n",
       "\n",
       "                       portfolio_id   time  amount  \n",
       "0  9b98b8c7a33c4b65b9aebfe6a799e6d9   72.0   24.59  \n",
       "1  9b98b8c7a33c4b65b9aebfe6a799e6d9  252.0   15.50  \n",
       "2  9b98b8c7a33c4b65b9aebfe6a799e6d9  324.0   19.63  \n",
       "3  9b98b8c7a33c4b65b9aebfe6a799e6d9  366.0   19.24  \n",
       "4  9b98b8c7a33c4b65b9aebfe6a799e6d9  450.0    8.95  "
      ]
     },
     "execution_count": 1088,
     "metadata": {},
     "output_type": "execute_result"
    }
   ],
   "source": [
    "trans_bogo_full_final_df_temp.head()"
   ]
  },
  {
   "cell_type": "code",
   "execution_count": 1089,
   "metadata": {},
   "outputs": [],
   "source": [
    "trans_bogo_full_final_df_temp = trans_bogo_full_final_df_temp[((trans_bogo_full_final_df_temp[\"time\"] >= \\\n",
    "                              trans_bogo_full_final_df_temp[\"offer_received_time\"]) \\\n",
    "                             & (trans_bogo_full_final_df_temp[\"time\"] <= \\\n",
    "                              trans_bogo_full_final_df_temp[\"offer_end_time\"])) \\\n",
    "                              | (trans_bogo_full_final_df_temp[\"time\"].isnull())\n",
    "                             ].sort_values([\"customer_id\", \"portfolio_id\", \"time\"])"
   ]
  },
  {
   "cell_type": "code",
   "execution_count": 1090,
   "metadata": {},
   "outputs": [],
   "source": [
    "trans_bogo_full_final_df = trans_bogo_full_final_df_temp[[\"customer_id\", \"portfolio_id\", \"amount\"]]"
   ]
  },
  {
   "cell_type": "code",
   "execution_count": 1091,
   "metadata": {},
   "outputs": [],
   "source": [
    "trans_bogo_full_final_df = trans_bogo_full_final_df.groupby([\"customer_id\", \"portfolio_id\"])[\"amount\"].sum().reset_index()"
   ]
  },
  {
   "cell_type": "code",
   "execution_count": 1092,
   "metadata": {
    "scrolled": true
   },
   "outputs": [
    {
     "data": {
      "text/html": [
       "<div>\n",
       "<style scoped>\n",
       "    .dataframe tbody tr th:only-of-type {\n",
       "        vertical-align: middle;\n",
       "    }\n",
       "\n",
       "    .dataframe tbody tr th {\n",
       "        vertical-align: top;\n",
       "    }\n",
       "\n",
       "    .dataframe thead th {\n",
       "        text-align: right;\n",
       "    }\n",
       "</style>\n",
       "<table border=\"1\" class=\"dataframe\">\n",
       "  <thead>\n",
       "    <tr style=\"text-align: right;\">\n",
       "      <th></th>\n",
       "      <th>customer_id</th>\n",
       "      <th>portfolio_id</th>\n",
       "      <th>amount</th>\n",
       "    </tr>\n",
       "  </thead>\n",
       "  <tbody>\n",
       "    <tr>\n",
       "      <th>0</th>\n",
       "      <td>0009655768c64bdeb2e877511632db8f</td>\n",
       "      <td>f19421c1d4aa40978ebb69ca19b0e20d</td>\n",
       "      <td>8.57</td>\n",
       "    </tr>\n",
       "    <tr>\n",
       "      <th>1</th>\n",
       "      <td>0011e0d4e6b944f998e987f904e8c1e5</td>\n",
       "      <td>9b98b8c7a33c4b65b9aebfe6a799e6d9</td>\n",
       "      <td>22.05</td>\n",
       "    </tr>\n",
       "    <tr>\n",
       "      <th>2</th>\n",
       "      <td>0020c2b971eb4e9188eac86d93036a77</td>\n",
       "      <td>4d5c57ea9a6940dd891ad53e9dbe8da0</td>\n",
       "      <td>17.24</td>\n",
       "    </tr>\n",
       "    <tr>\n",
       "      <th>3</th>\n",
       "      <td>0020ccbbb6d84e358d3414a3ff76cffd</td>\n",
       "      <td>9b98b8c7a33c4b65b9aebfe6a799e6d9</td>\n",
       "      <td>10.32</td>\n",
       "    </tr>\n",
       "    <tr>\n",
       "      <th>4</th>\n",
       "      <td>0020ccbbb6d84e358d3414a3ff76cffd</td>\n",
       "      <td>f19421c1d4aa40978ebb69ca19b0e20d</td>\n",
       "      <td>14.53</td>\n",
       "    </tr>\n",
       "  </tbody>\n",
       "</table>\n",
       "</div>"
      ],
      "text/plain": [
       "                        customer_id                      portfolio_id  amount\n",
       "0  0009655768c64bdeb2e877511632db8f  f19421c1d4aa40978ebb69ca19b0e20d    8.57\n",
       "1  0011e0d4e6b944f998e987f904e8c1e5  9b98b8c7a33c4b65b9aebfe6a799e6d9   22.05\n",
       "2  0020c2b971eb4e9188eac86d93036a77  4d5c57ea9a6940dd891ad53e9dbe8da0   17.24\n",
       "3  0020ccbbb6d84e358d3414a3ff76cffd  9b98b8c7a33c4b65b9aebfe6a799e6d9   10.32\n",
       "4  0020ccbbb6d84e358d3414a3ff76cffd  f19421c1d4aa40978ebb69ca19b0e20d   14.53"
      ]
     },
     "execution_count": 1092,
     "metadata": {},
     "output_type": "execute_result"
    }
   ],
   "source": [
    "trans_bogo_full_final_df.head()"
   ]
  },
  {
   "cell_type": "markdown",
   "metadata": {},
   "source": [
    "Concat all the final df together to generate a dataframe with all customers' offer related transaction amount"
   ]
  },
  {
   "cell_type": "code",
   "execution_count": 1093,
   "metadata": {},
   "outputs": [],
   "source": [
    "offer_trans_final_df = pd.concat([trans_bogo_full_final_df, trans_info_full_final_df, trans_disc_full_final_df])"
   ]
  },
  {
   "cell_type": "code",
   "execution_count": 1094,
   "metadata": {
    "scrolled": false
   },
   "outputs": [
    {
     "data": {
      "text/html": [
       "<div>\n",
       "<style scoped>\n",
       "    .dataframe tbody tr th:only-of-type {\n",
       "        vertical-align: middle;\n",
       "    }\n",
       "\n",
       "    .dataframe tbody tr th {\n",
       "        vertical-align: top;\n",
       "    }\n",
       "\n",
       "    .dataframe thead th {\n",
       "        text-align: right;\n",
       "    }\n",
       "</style>\n",
       "<table border=\"1\" class=\"dataframe\">\n",
       "  <thead>\n",
       "    <tr style=\"text-align: right;\">\n",
       "      <th></th>\n",
       "      <th>customer_id</th>\n",
       "      <th>portfolio_id</th>\n",
       "      <th>amount</th>\n",
       "    </tr>\n",
       "  </thead>\n",
       "  <tbody>\n",
       "    <tr>\n",
       "      <th>0</th>\n",
       "      <td>0009655768c64bdeb2e877511632db8f</td>\n",
       "      <td>f19421c1d4aa40978ebb69ca19b0e20d</td>\n",
       "      <td>8.57</td>\n",
       "    </tr>\n",
       "    <tr>\n",
       "      <th>1</th>\n",
       "      <td>0011e0d4e6b944f998e987f904e8c1e5</td>\n",
       "      <td>9b98b8c7a33c4b65b9aebfe6a799e6d9</td>\n",
       "      <td>22.05</td>\n",
       "    </tr>\n",
       "    <tr>\n",
       "      <th>2</th>\n",
       "      <td>0020c2b971eb4e9188eac86d93036a77</td>\n",
       "      <td>4d5c57ea9a6940dd891ad53e9dbe8da0</td>\n",
       "      <td>17.24</td>\n",
       "    </tr>\n",
       "    <tr>\n",
       "      <th>3</th>\n",
       "      <td>0020ccbbb6d84e358d3414a3ff76cffd</td>\n",
       "      <td>9b98b8c7a33c4b65b9aebfe6a799e6d9</td>\n",
       "      <td>10.32</td>\n",
       "    </tr>\n",
       "    <tr>\n",
       "      <th>4</th>\n",
       "      <td>0020ccbbb6d84e358d3414a3ff76cffd</td>\n",
       "      <td>f19421c1d4aa40978ebb69ca19b0e20d</td>\n",
       "      <td>14.53</td>\n",
       "    </tr>\n",
       "  </tbody>\n",
       "</table>\n",
       "</div>"
      ],
      "text/plain": [
       "                        customer_id                      portfolio_id  amount\n",
       "0  0009655768c64bdeb2e877511632db8f  f19421c1d4aa40978ebb69ca19b0e20d    8.57\n",
       "1  0011e0d4e6b944f998e987f904e8c1e5  9b98b8c7a33c4b65b9aebfe6a799e6d9   22.05\n",
       "2  0020c2b971eb4e9188eac86d93036a77  4d5c57ea9a6940dd891ad53e9dbe8da0   17.24\n",
       "3  0020ccbbb6d84e358d3414a3ff76cffd  9b98b8c7a33c4b65b9aebfe6a799e6d9   10.32\n",
       "4  0020ccbbb6d84e358d3414a3ff76cffd  f19421c1d4aa40978ebb69ca19b0e20d   14.53"
      ]
     },
     "execution_count": 1094,
     "metadata": {},
     "output_type": "execute_result"
    }
   ],
   "source": [
    "offer_trans_final_df.head()"
   ]
  },
  {
   "cell_type": "markdown",
   "metadata": {},
   "source": [
    "Get all the transactions that are not offer related"
   ]
  },
  {
   "cell_type": "code",
   "execution_count": 1095,
   "metadata": {},
   "outputs": [
    {
     "data": {
      "text/plain": [
       "((116727, 3), (34853, 6))"
      ]
     },
     "execution_count": 1095,
     "metadata": {},
     "output_type": "execute_result"
    }
   ],
   "source": [
    "transaction_bogo_df.shape, trans_bogo_full_final_df_temp.shape"
   ]
  },
  {
   "cell_type": "code",
   "execution_count": 1096,
   "metadata": {},
   "outputs": [],
   "source": [
    "transaction_non_bogo_df = transaction_bogo_df[~((transaction_bogo_df[\"customer_id\"].isin(trans_bogo_full_final_df_temp[\"customer_id\"].unique()))\\\n",
    "                & (transaction_bogo_df[\"time\"].isin(trans_bogo_full_final_df_temp[\"time\"].unique())))]"
   ]
  },
  {
   "cell_type": "code",
   "execution_count": 1097,
   "metadata": {},
   "outputs": [
    {
     "data": {
      "text/html": [
       "<div>\n",
       "<style scoped>\n",
       "    .dataframe tbody tr th:only-of-type {\n",
       "        vertical-align: middle;\n",
       "    }\n",
       "\n",
       "    .dataframe tbody tr th {\n",
       "        vertical-align: top;\n",
       "    }\n",
       "\n",
       "    .dataframe thead th {\n",
       "        text-align: right;\n",
       "    }\n",
       "</style>\n",
       "<table border=\"1\" class=\"dataframe\">\n",
       "  <thead>\n",
       "    <tr style=\"text-align: right;\">\n",
       "      <th></th>\n",
       "      <th>customer_id</th>\n",
       "      <th>time</th>\n",
       "      <th>amount</th>\n",
       "    </tr>\n",
       "  </thead>\n",
       "  <tbody>\n",
       "    <tr>\n",
       "      <th>12914</th>\n",
       "      <td>ad18ad432f5a40c7b8ccce4be4fb530c</td>\n",
       "      <td>0</td>\n",
       "      <td>17.00</td>\n",
       "    </tr>\n",
       "    <tr>\n",
       "      <th>13091</th>\n",
       "      <td>be01dde700574797b5dc59b0ad45242f</td>\n",
       "      <td>0</td>\n",
       "      <td>11.62</td>\n",
       "    </tr>\n",
       "    <tr>\n",
       "      <th>13117</th>\n",
       "      <td>3f7ac208f7e844cab207ceb8e42177ba</td>\n",
       "      <td>0</td>\n",
       "      <td>0.23</td>\n",
       "    </tr>\n",
       "    <tr>\n",
       "      <th>13202</th>\n",
       "      <td>d08a73ea06f441009a2710c5cb2f6327</td>\n",
       "      <td>0</td>\n",
       "      <td>8.55</td>\n",
       "    </tr>\n",
       "    <tr>\n",
       "      <th>13213</th>\n",
       "      <td>08579355f46b49efa8412ddacc4ac832</td>\n",
       "      <td>0</td>\n",
       "      <td>24.72</td>\n",
       "    </tr>\n",
       "  </tbody>\n",
       "</table>\n",
       "</div>"
      ],
      "text/plain": [
       "                            customer_id  time  amount\n",
       "12914  ad18ad432f5a40c7b8ccce4be4fb530c     0   17.00\n",
       "13091  be01dde700574797b5dc59b0ad45242f     0   11.62\n",
       "13117  3f7ac208f7e844cab207ceb8e42177ba     0    0.23\n",
       "13202  d08a73ea06f441009a2710c5cb2f6327     0    8.55\n",
       "13213  08579355f46b49efa8412ddacc4ac832     0   24.72"
      ]
     },
     "execution_count": 1097,
     "metadata": {},
     "output_type": "execute_result"
    }
   ],
   "source": [
    "transaction_non_bogo_df.head()"
   ]
  },
  {
   "cell_type": "code",
   "execution_count": 1098,
   "metadata": {
    "scrolled": false
   },
   "outputs": [
    {
     "data": {
      "text/html": [
       "<div>\n",
       "<style scoped>\n",
       "    .dataframe tbody tr th:only-of-type {\n",
       "        vertical-align: middle;\n",
       "    }\n",
       "\n",
       "    .dataframe tbody tr th {\n",
       "        vertical-align: top;\n",
       "    }\n",
       "\n",
       "    .dataframe thead th {\n",
       "        text-align: right;\n",
       "    }\n",
       "</style>\n",
       "<table border=\"1\" class=\"dataframe\">\n",
       "  <thead>\n",
       "    <tr style=\"text-align: right;\">\n",
       "      <th></th>\n",
       "      <th>customer_id</th>\n",
       "      <th>offer_end_time</th>\n",
       "      <th>offer_received_time</th>\n",
       "      <th>portfolio_id</th>\n",
       "      <th>time</th>\n",
       "      <th>amount</th>\n",
       "    </tr>\n",
       "  </thead>\n",
       "  <tbody>\n",
       "  </tbody>\n",
       "</table>\n",
       "</div>"
      ],
      "text/plain": [
       "Empty DataFrame\n",
       "Columns: [customer_id, offer_end_time, offer_received_time, portfolio_id, time, amount]\n",
       "Index: []"
      ]
     },
     "execution_count": 1098,
     "metadata": {},
     "output_type": "execute_result"
    }
   ],
   "source": [
    "trans_bogo_full_final_df_temp[(trans_bogo_full_final_df_temp[\"customer_id\"] == \"08579355f46b49efa8412ddacc4ac832\") \\\n",
    "                             & (trans_bogo_full_final_df_temp[\"time\"] == 0)\n",
    "                             ]"
   ]
  },
  {
   "cell_type": "code",
   "execution_count": 1099,
   "metadata": {},
   "outputs": [
    {
     "data": {
      "text/html": [
       "<div>\n",
       "<style scoped>\n",
       "    .dataframe tbody tr th:only-of-type {\n",
       "        vertical-align: middle;\n",
       "    }\n",
       "\n",
       "    .dataframe tbody tr th {\n",
       "        vertical-align: top;\n",
       "    }\n",
       "\n",
       "    .dataframe thead th {\n",
       "        text-align: right;\n",
       "    }\n",
       "</style>\n",
       "<table border=\"1\" class=\"dataframe\">\n",
       "  <thead>\n",
       "    <tr style=\"text-align: right;\">\n",
       "      <th></th>\n",
       "      <th>customer_id</th>\n",
       "      <th>offer_end_time</th>\n",
       "      <th>offer_received_time</th>\n",
       "      <th>portfolio_id</th>\n",
       "      <th>time</th>\n",
       "      <th>amount</th>\n",
       "    </tr>\n",
       "  </thead>\n",
       "  <tbody>\n",
       "    <tr>\n",
       "      <th>156214</th>\n",
       "      <td>0009655768c64bdeb2e877511632db8f</td>\n",
       "      <td>576.0</td>\n",
       "      <td>576</td>\n",
       "      <td>2906b810c7d4411798c6938adc9daaa5</td>\n",
       "      <td>576.0</td>\n",
       "      <td>10.27</td>\n",
       "    </tr>\n",
       "    <tr>\n",
       "      <th>129835</th>\n",
       "      <td>0009655768c64bdeb2e877511632db8f</td>\n",
       "      <td>528.0</td>\n",
       "      <td>504</td>\n",
       "      <td>fafdcd668e3743c1bb461111dcafc2a4</td>\n",
       "      <td>528.0</td>\n",
       "      <td>14.11</td>\n",
       "    </tr>\n",
       "    <tr>\n",
       "      <th>102414</th>\n",
       "      <td>0011e0d4e6b944f998e987f904e8c1e5</td>\n",
       "      <td>576.0</td>\n",
       "      <td>408</td>\n",
       "      <td>0b1e1539f2cc45b7b9fa7c272da2e1d7</td>\n",
       "      <td>576.0</td>\n",
       "      <td>22.05</td>\n",
       "    </tr>\n",
       "    <tr>\n",
       "      <th>46977</th>\n",
       "      <td>0011e0d4e6b944f998e987f904e8c1e5</td>\n",
       "      <td>252.0</td>\n",
       "      <td>168</td>\n",
       "      <td>2298d6c36e964ae4a3e7e9706d1fb8c2</td>\n",
       "      <td>252.0</td>\n",
       "      <td>11.93</td>\n",
       "    </tr>\n",
       "    <tr>\n",
       "      <th>16572</th>\n",
       "      <td>0020c2b971eb4e9188eac86d93036a77</td>\n",
       "      <td>54.0</td>\n",
       "      <td>0</td>\n",
       "      <td>fafdcd668e3743c1bb461111dcafc2a4</td>\n",
       "      <td>54.0</td>\n",
       "      <td>17.63</td>\n",
       "    </tr>\n",
       "  </tbody>\n",
       "</table>\n",
       "</div>"
      ],
      "text/plain": [
       "                             customer_id  offer_end_time  offer_received_time  \\\n",
       "156214  0009655768c64bdeb2e877511632db8f           576.0                  576   \n",
       "129835  0009655768c64bdeb2e877511632db8f           528.0                  504   \n",
       "102414  0011e0d4e6b944f998e987f904e8c1e5           576.0                  408   \n",
       "46977   0011e0d4e6b944f998e987f904e8c1e5           252.0                  168   \n",
       "16572   0020c2b971eb4e9188eac86d93036a77            54.0                    0   \n",
       "\n",
       "                            portfolio_id   time  amount  \n",
       "156214  2906b810c7d4411798c6938adc9daaa5  576.0   10.27  \n",
       "129835  fafdcd668e3743c1bb461111dcafc2a4  528.0   14.11  \n",
       "102414  0b1e1539f2cc45b7b9fa7c272da2e1d7  576.0   22.05  \n",
       "46977   2298d6c36e964ae4a3e7e9706d1fb8c2  252.0   11.93  \n",
       "16572   fafdcd668e3743c1bb461111dcafc2a4   54.0   17.63  "
      ]
     },
     "execution_count": 1099,
     "metadata": {},
     "output_type": "execute_result"
    }
   ],
   "source": [
    "trans_disc_full_final_df_temp.head()"
   ]
  },
  {
   "cell_type": "code",
   "execution_count": 1100,
   "metadata": {},
   "outputs": [],
   "source": [
    "transaction_non_disc_df = transaction_disc_df[~((transaction_disc_df[\"customer_id\"].isin(trans_disc_full_final_df_temp[\"customer_id\"].unique()))\\\n",
    "                & (transaction_disc_df[\"time\"].isin(trans_disc_full_final_df_temp[\"time\"].unique())))]"
   ]
  },
  {
   "cell_type": "code",
   "execution_count": 1101,
   "metadata": {},
   "outputs": [
    {
     "data": {
      "text/html": [
       "<div>\n",
       "<style scoped>\n",
       "    .dataframe tbody tr th:only-of-type {\n",
       "        vertical-align: middle;\n",
       "    }\n",
       "\n",
       "    .dataframe tbody tr th {\n",
       "        vertical-align: top;\n",
       "    }\n",
       "\n",
       "    .dataframe thead th {\n",
       "        text-align: right;\n",
       "    }\n",
       "</style>\n",
       "<table border=\"1\" class=\"dataframe\">\n",
       "  <thead>\n",
       "    <tr style=\"text-align: right;\">\n",
       "      <th></th>\n",
       "      <th>customer_id</th>\n",
       "      <th>time</th>\n",
       "      <th>amount</th>\n",
       "    </tr>\n",
       "  </thead>\n",
       "  <tbody>\n",
       "    <tr>\n",
       "      <th>12779</th>\n",
       "      <td>b860d355ef6e4c66b5d5a837c56ef32d</td>\n",
       "      <td>0</td>\n",
       "      <td>38.38</td>\n",
       "    </tr>\n",
       "    <tr>\n",
       "      <th>13105</th>\n",
       "      <td>310481d911904e7893fac7229a608be8</td>\n",
       "      <td>0</td>\n",
       "      <td>13.42</td>\n",
       "    </tr>\n",
       "    <tr>\n",
       "      <th>13173</th>\n",
       "      <td>917c006586784776a1d11ba0e7671158</td>\n",
       "      <td>0</td>\n",
       "      <td>2.04</td>\n",
       "    </tr>\n",
       "    <tr>\n",
       "      <th>13184</th>\n",
       "      <td>2d4ece84e65741a68e02656bddf4d336</td>\n",
       "      <td>0</td>\n",
       "      <td>2.08</td>\n",
       "    </tr>\n",
       "    <tr>\n",
       "      <th>13460</th>\n",
       "      <td>029e063479234fb1b6c8727c3d45de62</td>\n",
       "      <td>0</td>\n",
       "      <td>37.34</td>\n",
       "    </tr>\n",
       "  </tbody>\n",
       "</table>\n",
       "</div>"
      ],
      "text/plain": [
       "                            customer_id  time  amount\n",
       "12779  b860d355ef6e4c66b5d5a837c56ef32d     0   38.38\n",
       "13105  310481d911904e7893fac7229a608be8     0   13.42\n",
       "13173  917c006586784776a1d11ba0e7671158     0    2.04\n",
       "13184  2d4ece84e65741a68e02656bddf4d336     0    2.08\n",
       "13460  029e063479234fb1b6c8727c3d45de62     0   37.34"
      ]
     },
     "execution_count": 1101,
     "metadata": {},
     "output_type": "execute_result"
    }
   ],
   "source": [
    "transaction_non_disc_df.head()"
   ]
  },
  {
   "cell_type": "code",
   "execution_count": 1102,
   "metadata": {},
   "outputs": [
    {
     "data": {
      "text/html": [
       "<div>\n",
       "<style scoped>\n",
       "    .dataframe tbody tr th:only-of-type {\n",
       "        vertical-align: middle;\n",
       "    }\n",
       "\n",
       "    .dataframe tbody tr th {\n",
       "        vertical-align: top;\n",
       "    }\n",
       "\n",
       "    .dataframe thead th {\n",
       "        text-align: right;\n",
       "    }\n",
       "</style>\n",
       "<table border=\"1\" class=\"dataframe\">\n",
       "  <thead>\n",
       "    <tr style=\"text-align: right;\">\n",
       "      <th></th>\n",
       "      <th>customer_id</th>\n",
       "      <th>offer_end_time</th>\n",
       "      <th>offer_received_time</th>\n",
       "      <th>portfolio_id</th>\n",
       "      <th>time</th>\n",
       "      <th>amount</th>\n",
       "    </tr>\n",
       "  </thead>\n",
       "  <tbody>\n",
       "  </tbody>\n",
       "</table>\n",
       "</div>"
      ],
      "text/plain": [
       "Empty DataFrame\n",
       "Columns: [customer_id, offer_end_time, offer_received_time, portfolio_id, time, amount]\n",
       "Index: []"
      ]
     },
     "execution_count": 1102,
     "metadata": {},
     "output_type": "execute_result"
    }
   ],
   "source": [
    "trans_disc_full_final_df_temp[(trans_disc_full_final_df_temp[\"customer_id\"] == \"b860d355ef6e4c66b5d5a837c56ef32d\") \\\n",
    "                             & (trans_disc_full_final_df_temp[\"time\"] == 0)\n",
    "                             ]"
   ]
  },
  {
   "cell_type": "code",
   "execution_count": 1103,
   "metadata": {},
   "outputs": [],
   "source": [
    "transaction_non_info_df = transaction_info_df[~((transaction_info_df[\"customer_id\"].isin(trans_info_full_final_df_temp[\"customer_id\"].unique()))\\\n",
    "                & (transaction_info_df[\"time\"].isin(trans_info_full_final_df_temp[\"time\"].unique())))]"
   ]
  },
  {
   "cell_type": "code",
   "execution_count": 1104,
   "metadata": {
    "scrolled": true
   },
   "outputs": [
    {
     "data": {
      "text/html": [
       "<div>\n",
       "<style scoped>\n",
       "    .dataframe tbody tr th:only-of-type {\n",
       "        vertical-align: middle;\n",
       "    }\n",
       "\n",
       "    .dataframe tbody tr th {\n",
       "        vertical-align: top;\n",
       "    }\n",
       "\n",
       "    .dataframe thead th {\n",
       "        text-align: right;\n",
       "    }\n",
       "</style>\n",
       "<table border=\"1\" class=\"dataframe\">\n",
       "  <thead>\n",
       "    <tr style=\"text-align: right;\">\n",
       "      <th></th>\n",
       "      <th>customer_id</th>\n",
       "      <th>time</th>\n",
       "      <th>amount</th>\n",
       "    </tr>\n",
       "  </thead>\n",
       "  <tbody>\n",
       "    <tr>\n",
       "      <th>12678</th>\n",
       "      <td>629fc02d56414d91bca360decdfa9288</td>\n",
       "      <td>0</td>\n",
       "      <td>33.90</td>\n",
       "    </tr>\n",
       "    <tr>\n",
       "      <th>12716</th>\n",
       "      <td>227f2d69e46a4899b70d48182822cff6</td>\n",
       "      <td>0</td>\n",
       "      <td>28.39</td>\n",
       "    </tr>\n",
       "    <tr>\n",
       "      <th>12779</th>\n",
       "      <td>b860d355ef6e4c66b5d5a837c56ef32d</td>\n",
       "      <td>0</td>\n",
       "      <td>38.38</td>\n",
       "    </tr>\n",
       "    <tr>\n",
       "      <th>12849</th>\n",
       "      <td>098d124614df4e4b862d678160b98638</td>\n",
       "      <td>0</td>\n",
       "      <td>1.21</td>\n",
       "    </tr>\n",
       "    <tr>\n",
       "      <th>12934</th>\n",
       "      <td>1b710ab9262c480380b05b9e3578f618</td>\n",
       "      <td>0</td>\n",
       "      <td>3.45</td>\n",
       "    </tr>\n",
       "  </tbody>\n",
       "</table>\n",
       "</div>"
      ],
      "text/plain": [
       "                            customer_id  time  amount\n",
       "12678  629fc02d56414d91bca360decdfa9288     0   33.90\n",
       "12716  227f2d69e46a4899b70d48182822cff6     0   28.39\n",
       "12779  b860d355ef6e4c66b5d5a837c56ef32d     0   38.38\n",
       "12849  098d124614df4e4b862d678160b98638     0    1.21\n",
       "12934  1b710ab9262c480380b05b9e3578f618     0    3.45"
      ]
     },
     "execution_count": 1104,
     "metadata": {},
     "output_type": "execute_result"
    }
   ],
   "source": [
    "transaction_non_info_df.head()"
   ]
  },
  {
   "cell_type": "code",
   "execution_count": 1105,
   "metadata": {},
   "outputs": [
    {
     "data": {
      "text/html": [
       "<div>\n",
       "<style scoped>\n",
       "    .dataframe tbody tr th:only-of-type {\n",
       "        vertical-align: middle;\n",
       "    }\n",
       "\n",
       "    .dataframe tbody tr th {\n",
       "        vertical-align: top;\n",
       "    }\n",
       "\n",
       "    .dataframe thead th {\n",
       "        text-align: right;\n",
       "    }\n",
       "</style>\n",
       "<table border=\"1\" class=\"dataframe\">\n",
       "  <thead>\n",
       "    <tr style=\"text-align: right;\">\n",
       "      <th></th>\n",
       "      <th>customer_id</th>\n",
       "      <th>offer_end_time</th>\n",
       "      <th>offer_received_time</th>\n",
       "      <th>portfolio_id</th>\n",
       "      <th>time</th>\n",
       "      <th>amount</th>\n",
       "    </tr>\n",
       "  </thead>\n",
       "  <tbody>\n",
       "  </tbody>\n",
       "</table>\n",
       "</div>"
      ],
      "text/plain": [
       "Empty DataFrame\n",
       "Columns: [customer_id, offer_end_time, offer_received_time, portfolio_id, time, amount]\n",
       "Index: []"
      ]
     },
     "execution_count": 1105,
     "metadata": {},
     "output_type": "execute_result"
    }
   ],
   "source": [
    "trans_disc_full_final_df_temp[(trans_disc_full_final_df_temp[\"customer_id\"] == \"629fc02d56414d91bca360decdfa9288\") \\\n",
    "                             & (trans_disc_full_final_df_temp[\"time\"] == 0)\n",
    "                             ]"
   ]
  },
  {
   "cell_type": "code",
   "execution_count": 1106,
   "metadata": {},
   "outputs": [],
   "source": [
    "non_offer_trans_final_df = pd.concat([transaction_non_bogo_df, transaction_non_disc_df, transaction_non_info_df])"
   ]
  },
  {
   "cell_type": "code",
   "execution_count": 1107,
   "metadata": {},
   "outputs": [],
   "source": [
    "non_offer_trans_final_df = non_offer_trans_final_df.drop_duplicates()"
   ]
  },
  {
   "cell_type": "code",
   "execution_count": 1108,
   "metadata": {
    "scrolled": false
   },
   "outputs": [
    {
     "data": {
      "text/html": [
       "<div>\n",
       "<style scoped>\n",
       "    .dataframe tbody tr th:only-of-type {\n",
       "        vertical-align: middle;\n",
       "    }\n",
       "\n",
       "    .dataframe tbody tr th {\n",
       "        vertical-align: top;\n",
       "    }\n",
       "\n",
       "    .dataframe thead th {\n",
       "        text-align: right;\n",
       "    }\n",
       "</style>\n",
       "<table border=\"1\" class=\"dataframe\">\n",
       "  <thead>\n",
       "    <tr style=\"text-align: right;\">\n",
       "      <th></th>\n",
       "      <th>customer_id</th>\n",
       "      <th>time</th>\n",
       "      <th>amount</th>\n",
       "    </tr>\n",
       "  </thead>\n",
       "  <tbody>\n",
       "    <tr>\n",
       "      <th>12914</th>\n",
       "      <td>ad18ad432f5a40c7b8ccce4be4fb530c</td>\n",
       "      <td>0</td>\n",
       "      <td>17.00</td>\n",
       "    </tr>\n",
       "    <tr>\n",
       "      <th>13091</th>\n",
       "      <td>be01dde700574797b5dc59b0ad45242f</td>\n",
       "      <td>0</td>\n",
       "      <td>11.62</td>\n",
       "    </tr>\n",
       "    <tr>\n",
       "      <th>13117</th>\n",
       "      <td>3f7ac208f7e844cab207ceb8e42177ba</td>\n",
       "      <td>0</td>\n",
       "      <td>0.23</td>\n",
       "    </tr>\n",
       "    <tr>\n",
       "      <th>13202</th>\n",
       "      <td>d08a73ea06f441009a2710c5cb2f6327</td>\n",
       "      <td>0</td>\n",
       "      <td>8.55</td>\n",
       "    </tr>\n",
       "    <tr>\n",
       "      <th>13213</th>\n",
       "      <td>08579355f46b49efa8412ddacc4ac832</td>\n",
       "      <td>0</td>\n",
       "      <td>24.72</td>\n",
       "    </tr>\n",
       "  </tbody>\n",
       "</table>\n",
       "</div>"
      ],
      "text/plain": [
       "                            customer_id  time  amount\n",
       "12914  ad18ad432f5a40c7b8ccce4be4fb530c     0   17.00\n",
       "13091  be01dde700574797b5dc59b0ad45242f     0   11.62\n",
       "13117  3f7ac208f7e844cab207ceb8e42177ba     0    0.23\n",
       "13202  d08a73ea06f441009a2710c5cb2f6327     0    8.55\n",
       "13213  08579355f46b49efa8412ddacc4ac832     0   24.72"
      ]
     },
     "execution_count": 1108,
     "metadata": {},
     "output_type": "execute_result"
    }
   ],
   "source": [
    "non_offer_trans_final_df.head()"
   ]
  },
  {
   "cell_type": "markdown",
   "metadata": {},
   "source": [
    "Get offer & customer info into the final transaction dataframe"
   ]
  },
  {
   "cell_type": "code",
   "execution_count": 1109,
   "metadata": {
    "scrolled": false
   },
   "outputs": [
    {
     "data": {
      "text/html": [
       "<div>\n",
       "<style scoped>\n",
       "    .dataframe tbody tr th:only-of-type {\n",
       "        vertical-align: middle;\n",
       "    }\n",
       "\n",
       "    .dataframe tbody tr th {\n",
       "        vertical-align: top;\n",
       "    }\n",
       "\n",
       "    .dataframe thead th {\n",
       "        text-align: right;\n",
       "    }\n",
       "</style>\n",
       "<table border=\"1\" class=\"dataframe\">\n",
       "  <thead>\n",
       "    <tr style=\"text-align: right;\">\n",
       "      <th></th>\n",
       "      <th>customer_id</th>\n",
       "      <th>portfolio_id</th>\n",
       "      <th>amount</th>\n",
       "    </tr>\n",
       "  </thead>\n",
       "  <tbody>\n",
       "    <tr>\n",
       "      <th>0</th>\n",
       "      <td>0009655768c64bdeb2e877511632db8f</td>\n",
       "      <td>f19421c1d4aa40978ebb69ca19b0e20d</td>\n",
       "      <td>8.57</td>\n",
       "    </tr>\n",
       "    <tr>\n",
       "      <th>1</th>\n",
       "      <td>0011e0d4e6b944f998e987f904e8c1e5</td>\n",
       "      <td>9b98b8c7a33c4b65b9aebfe6a799e6d9</td>\n",
       "      <td>22.05</td>\n",
       "    </tr>\n",
       "    <tr>\n",
       "      <th>2</th>\n",
       "      <td>0020c2b971eb4e9188eac86d93036a77</td>\n",
       "      <td>4d5c57ea9a6940dd891ad53e9dbe8da0</td>\n",
       "      <td>17.24</td>\n",
       "    </tr>\n",
       "    <tr>\n",
       "      <th>3</th>\n",
       "      <td>0020ccbbb6d84e358d3414a3ff76cffd</td>\n",
       "      <td>9b98b8c7a33c4b65b9aebfe6a799e6d9</td>\n",
       "      <td>10.32</td>\n",
       "    </tr>\n",
       "    <tr>\n",
       "      <th>4</th>\n",
       "      <td>0020ccbbb6d84e358d3414a3ff76cffd</td>\n",
       "      <td>f19421c1d4aa40978ebb69ca19b0e20d</td>\n",
       "      <td>14.53</td>\n",
       "    </tr>\n",
       "  </tbody>\n",
       "</table>\n",
       "</div>"
      ],
      "text/plain": [
       "                        customer_id                      portfolio_id  amount\n",
       "0  0009655768c64bdeb2e877511632db8f  f19421c1d4aa40978ebb69ca19b0e20d    8.57\n",
       "1  0011e0d4e6b944f998e987f904e8c1e5  9b98b8c7a33c4b65b9aebfe6a799e6d9   22.05\n",
       "2  0020c2b971eb4e9188eac86d93036a77  4d5c57ea9a6940dd891ad53e9dbe8da0   17.24\n",
       "3  0020ccbbb6d84e358d3414a3ff76cffd  9b98b8c7a33c4b65b9aebfe6a799e6d9   10.32\n",
       "4  0020ccbbb6d84e358d3414a3ff76cffd  f19421c1d4aa40978ebb69ca19b0e20d   14.53"
      ]
     },
     "execution_count": 1109,
     "metadata": {},
     "output_type": "execute_result"
    }
   ],
   "source": [
    "offer_trans_final_df.head()"
   ]
  },
  {
   "cell_type": "code",
   "execution_count": 1110,
   "metadata": {},
   "outputs": [
    {
     "data": {
      "text/html": [
       "<div>\n",
       "<style scoped>\n",
       "    .dataframe tbody tr th:only-of-type {\n",
       "        vertical-align: middle;\n",
       "    }\n",
       "\n",
       "    .dataframe tbody tr th {\n",
       "        vertical-align: top;\n",
       "    }\n",
       "\n",
       "    .dataframe thead th {\n",
       "        text-align: right;\n",
       "    }\n",
       "</style>\n",
       "<table border=\"1\" class=\"dataframe\">\n",
       "  <thead>\n",
       "    <tr style=\"text-align: right;\">\n",
       "      <th></th>\n",
       "      <th>difficulty</th>\n",
       "      <th>duration</th>\n",
       "      <th>portfolio_id</th>\n",
       "      <th>offer_type</th>\n",
       "      <th>reward</th>\n",
       "      <th>channel_web</th>\n",
       "      <th>channel_email</th>\n",
       "      <th>channel_mobile</th>\n",
       "      <th>channel_social</th>\n",
       "    </tr>\n",
       "  </thead>\n",
       "  <tbody>\n",
       "    <tr>\n",
       "      <th>0</th>\n",
       "      <td>10</td>\n",
       "      <td>7</td>\n",
       "      <td>ae264e3637204a6fb9bb56bc8210ddfd</td>\n",
       "      <td>bogo</td>\n",
       "      <td>10</td>\n",
       "      <td>0</td>\n",
       "      <td>1</td>\n",
       "      <td>1</td>\n",
       "      <td>1</td>\n",
       "    </tr>\n",
       "    <tr>\n",
       "      <th>1</th>\n",
       "      <td>10</td>\n",
       "      <td>5</td>\n",
       "      <td>4d5c57ea9a6940dd891ad53e9dbe8da0</td>\n",
       "      <td>bogo</td>\n",
       "      <td>10</td>\n",
       "      <td>1</td>\n",
       "      <td>1</td>\n",
       "      <td>1</td>\n",
       "      <td>1</td>\n",
       "    </tr>\n",
       "    <tr>\n",
       "      <th>2</th>\n",
       "      <td>0</td>\n",
       "      <td>4</td>\n",
       "      <td>3f207df678b143eea3cee63160fa8bed</td>\n",
       "      <td>informational</td>\n",
       "      <td>0</td>\n",
       "      <td>1</td>\n",
       "      <td>1</td>\n",
       "      <td>1</td>\n",
       "      <td>0</td>\n",
       "    </tr>\n",
       "    <tr>\n",
       "      <th>3</th>\n",
       "      <td>5</td>\n",
       "      <td>7</td>\n",
       "      <td>9b98b8c7a33c4b65b9aebfe6a799e6d9</td>\n",
       "      <td>bogo</td>\n",
       "      <td>5</td>\n",
       "      <td>1</td>\n",
       "      <td>1</td>\n",
       "      <td>1</td>\n",
       "      <td>0</td>\n",
       "    </tr>\n",
       "    <tr>\n",
       "      <th>4</th>\n",
       "      <td>20</td>\n",
       "      <td>10</td>\n",
       "      <td>0b1e1539f2cc45b7b9fa7c272da2e1d7</td>\n",
       "      <td>discount</td>\n",
       "      <td>5</td>\n",
       "      <td>1</td>\n",
       "      <td>1</td>\n",
       "      <td>0</td>\n",
       "      <td>0</td>\n",
       "    </tr>\n",
       "  </tbody>\n",
       "</table>\n",
       "</div>"
      ],
      "text/plain": [
       "   difficulty  duration                      portfolio_id     offer_type  \\\n",
       "0          10         7  ae264e3637204a6fb9bb56bc8210ddfd           bogo   \n",
       "1          10         5  4d5c57ea9a6940dd891ad53e9dbe8da0           bogo   \n",
       "2           0         4  3f207df678b143eea3cee63160fa8bed  informational   \n",
       "3           5         7  9b98b8c7a33c4b65b9aebfe6a799e6d9           bogo   \n",
       "4          20        10  0b1e1539f2cc45b7b9fa7c272da2e1d7       discount   \n",
       "\n",
       "   reward  channel_web  channel_email  channel_mobile  channel_social  \n",
       "0      10            0              1               1               1  \n",
       "1      10            1              1               1               1  \n",
       "2       0            1              1               1               0  \n",
       "3       5            1              1               1               0  \n",
       "4       5            1              1               0               0  "
      ]
     },
     "execution_count": 1110,
     "metadata": {},
     "output_type": "execute_result"
    }
   ],
   "source": [
    "portfolio.head()"
   ]
  },
  {
   "cell_type": "code",
   "execution_count": 1111,
   "metadata": {},
   "outputs": [],
   "source": [
    "offer_trans_port_new_df = offer_trans_final_df.\\\n",
    "merge(portfolio[[\"portfolio_id\", \"offer_type\", \"reward\", \"difficulty\", \"duration\"]], on = \"portfolio_id\", how = \"left\")"
   ]
  },
  {
   "cell_type": "code",
   "execution_count": 1112,
   "metadata": {
    "scrolled": false
   },
   "outputs": [
    {
     "data": {
      "text/html": [
       "<div>\n",
       "<style scoped>\n",
       "    .dataframe tbody tr th:only-of-type {\n",
       "        vertical-align: middle;\n",
       "    }\n",
       "\n",
       "    .dataframe tbody tr th {\n",
       "        vertical-align: top;\n",
       "    }\n",
       "\n",
       "    .dataframe thead th {\n",
       "        text-align: right;\n",
       "    }\n",
       "</style>\n",
       "<table border=\"1\" class=\"dataframe\">\n",
       "  <thead>\n",
       "    <tr style=\"text-align: right;\">\n",
       "      <th></th>\n",
       "      <th>customer_id</th>\n",
       "      <th>portfolio_id</th>\n",
       "      <th>amount</th>\n",
       "      <th>offer_type</th>\n",
       "      <th>reward</th>\n",
       "      <th>difficulty</th>\n",
       "      <th>duration</th>\n",
       "    </tr>\n",
       "  </thead>\n",
       "  <tbody>\n",
       "    <tr>\n",
       "      <th>0</th>\n",
       "      <td>0009655768c64bdeb2e877511632db8f</td>\n",
       "      <td>f19421c1d4aa40978ebb69ca19b0e20d</td>\n",
       "      <td>8.57</td>\n",
       "      <td>bogo</td>\n",
       "      <td>5</td>\n",
       "      <td>5</td>\n",
       "      <td>5</td>\n",
       "    </tr>\n",
       "    <tr>\n",
       "      <th>1</th>\n",
       "      <td>0011e0d4e6b944f998e987f904e8c1e5</td>\n",
       "      <td>9b98b8c7a33c4b65b9aebfe6a799e6d9</td>\n",
       "      <td>22.05</td>\n",
       "      <td>bogo</td>\n",
       "      <td>5</td>\n",
       "      <td>5</td>\n",
       "      <td>7</td>\n",
       "    </tr>\n",
       "    <tr>\n",
       "      <th>2</th>\n",
       "      <td>0020c2b971eb4e9188eac86d93036a77</td>\n",
       "      <td>4d5c57ea9a6940dd891ad53e9dbe8da0</td>\n",
       "      <td>17.24</td>\n",
       "      <td>bogo</td>\n",
       "      <td>10</td>\n",
       "      <td>10</td>\n",
       "      <td>5</td>\n",
       "    </tr>\n",
       "    <tr>\n",
       "      <th>3</th>\n",
       "      <td>0020ccbbb6d84e358d3414a3ff76cffd</td>\n",
       "      <td>9b98b8c7a33c4b65b9aebfe6a799e6d9</td>\n",
       "      <td>10.32</td>\n",
       "      <td>bogo</td>\n",
       "      <td>5</td>\n",
       "      <td>5</td>\n",
       "      <td>7</td>\n",
       "    </tr>\n",
       "    <tr>\n",
       "      <th>4</th>\n",
       "      <td>0020ccbbb6d84e358d3414a3ff76cffd</td>\n",
       "      <td>f19421c1d4aa40978ebb69ca19b0e20d</td>\n",
       "      <td>14.53</td>\n",
       "      <td>bogo</td>\n",
       "      <td>5</td>\n",
       "      <td>5</td>\n",
       "      <td>5</td>\n",
       "    </tr>\n",
       "  </tbody>\n",
       "</table>\n",
       "</div>"
      ],
      "text/plain": [
       "                        customer_id                      portfolio_id  amount  \\\n",
       "0  0009655768c64bdeb2e877511632db8f  f19421c1d4aa40978ebb69ca19b0e20d    8.57   \n",
       "1  0011e0d4e6b944f998e987f904e8c1e5  9b98b8c7a33c4b65b9aebfe6a799e6d9   22.05   \n",
       "2  0020c2b971eb4e9188eac86d93036a77  4d5c57ea9a6940dd891ad53e9dbe8da0   17.24   \n",
       "3  0020ccbbb6d84e358d3414a3ff76cffd  9b98b8c7a33c4b65b9aebfe6a799e6d9   10.32   \n",
       "4  0020ccbbb6d84e358d3414a3ff76cffd  f19421c1d4aa40978ebb69ca19b0e20d   14.53   \n",
       "\n",
       "  offer_type  reward  difficulty  duration  \n",
       "0       bogo       5           5         5  \n",
       "1       bogo       5           5         7  \n",
       "2       bogo      10          10         5  \n",
       "3       bogo       5           5         7  \n",
       "4       bogo       5           5         5  "
      ]
     },
     "execution_count": 1112,
     "metadata": {},
     "output_type": "execute_result"
    }
   ],
   "source": [
    "offer_trans_port_new_df.head()"
   ]
  },
  {
   "cell_type": "code",
   "execution_count": 1113,
   "metadata": {},
   "outputs": [
    {
     "data": {
      "text/plain": [
       "array(['bogo', 'informational', 'discount'], dtype=object)"
      ]
     },
     "execution_count": 1113,
     "metadata": {},
     "output_type": "execute_result"
    }
   ],
   "source": [
    "offer_trans_port_new_df.offer_type.unique()"
   ]
  },
  {
   "cell_type": "code",
   "execution_count": 1114,
   "metadata": {},
   "outputs": [],
   "source": [
    "offer_trans_by_type_pct = offer_trans_port_new_df.groupby(\"offer_type\")\\\n",
    "[\"amount\"].sum()/offer_trans_port_new_df[\"amount\"].sum()"
   ]
  },
  {
   "cell_type": "code",
   "execution_count": 1115,
   "metadata": {},
   "outputs": [],
   "source": [
    "offer_trans_by_type_pct = offer_trans_by_type_pct.reset_index()"
   ]
  },
  {
   "cell_type": "code",
   "execution_count": 1116,
   "metadata": {},
   "outputs": [
    {
     "data": {
      "text/html": [
       "<div>\n",
       "<style scoped>\n",
       "    .dataframe tbody tr th:only-of-type {\n",
       "        vertical-align: middle;\n",
       "    }\n",
       "\n",
       "    .dataframe tbody tr th {\n",
       "        vertical-align: top;\n",
       "    }\n",
       "\n",
       "    .dataframe thead th {\n",
       "        text-align: right;\n",
       "    }\n",
       "</style>\n",
       "<table border=\"1\" class=\"dataframe\">\n",
       "  <thead>\n",
       "    <tr style=\"text-align: right;\">\n",
       "      <th></th>\n",
       "      <th>offer_type</th>\n",
       "      <th>amount</th>\n",
       "    </tr>\n",
       "  </thead>\n",
       "  <tbody>\n",
       "    <tr>\n",
       "      <th>0</th>\n",
       "      <td>bogo</td>\n",
       "      <td>0.331324</td>\n",
       "    </tr>\n",
       "    <tr>\n",
       "      <th>1</th>\n",
       "      <td>discount</td>\n",
       "      <td>0.464137</td>\n",
       "    </tr>\n",
       "    <tr>\n",
       "      <th>2</th>\n",
       "      <td>informational</td>\n",
       "      <td>0.204539</td>\n",
       "    </tr>\n",
       "  </tbody>\n",
       "</table>\n",
       "</div>"
      ],
      "text/plain": [
       "      offer_type    amount\n",
       "0           bogo  0.331324\n",
       "1       discount  0.464137\n",
       "2  informational  0.204539"
      ]
     },
     "execution_count": 1116,
     "metadata": {},
     "output_type": "execute_result"
    }
   ],
   "source": [
    "offer_trans_by_type_pct"
   ]
  },
  {
   "cell_type": "code",
   "execution_count": 1117,
   "metadata": {
    "scrolled": false
   },
   "outputs": [
    {
     "data": {
      "text/plain": [
       "Text(0,0.5,'Total Sales')"
      ]
     },
     "execution_count": 1117,
     "metadata": {},
     "output_type": "execute_result"
    },
    {
     "data": {
      "image/png": "[encoded data removed]",
      "text/plain": [
       "<matplotlib.figure.Figure at 0x7f8ed5d91080>"
      ]
     },
     "metadata": {
      "needs_background": "light"
     },
     "output_type": "display_data"
    }
   ],
   "source": [
    "fig, ax = plt.subplots()\n",
    "ax.bar(offer_trans_by_type_pct[\"offer_type\"], offer_trans_by_type_pct[\"amount\"])\n",
    "ax.set_xticklabels(offer_trans_by_type_pct[\"offer_type\"], rotation = 90)\n",
    "ax.set_xlabel(\"Offer Type\")\n",
    "ax.set_ylabel(\"Total Sales\")"
   ]
  },
  {
   "cell_type": "code",
   "execution_count": 1118,
   "metadata": {
    "scrolled": true
   },
   "outputs": [],
   "source": [
    "# FRMScore_df.head()"
   ]
  },
  {
   "cell_type": "code",
   "execution_count": 1119,
   "metadata": {},
   "outputs": [],
   "source": [
    "# FRMScore_df.groupby(\"customer_id\").agg({\"RFMScore\":pd.Series.nunique}).reset_index()[\"RFMScore\"].unique()"
   ]
  },
  {
   "cell_type": "code",
   "execution_count": 1120,
   "metadata": {},
   "outputs": [],
   "source": [
    "offer_trans_final_temp_df = offer_trans_port_new_df.merge(profile, on = \"customer_id\", how=\"left\")"
   ]
  },
  {
   "cell_type": "code",
   "execution_count": 1121,
   "metadata": {
    "scrolled": false
   },
   "outputs": [
    {
     "data": {
      "text/html": [
       "<div>\n",
       "<style scoped>\n",
       "    .dataframe tbody tr th:only-of-type {\n",
       "        vertical-align: middle;\n",
       "    }\n",
       "\n",
       "    .dataframe tbody tr th {\n",
       "        vertical-align: top;\n",
       "    }\n",
       "\n",
       "    .dataframe thead th {\n",
       "        text-align: right;\n",
       "    }\n",
       "</style>\n",
       "<table border=\"1\" class=\"dataframe\">\n",
       "  <thead>\n",
       "    <tr style=\"text-align: right;\">\n",
       "      <th></th>\n",
       "      <th>customer_id</th>\n",
       "      <th>portfolio_id</th>\n",
       "      <th>amount</th>\n",
       "      <th>offer_type</th>\n",
       "      <th>reward</th>\n",
       "      <th>difficulty</th>\n",
       "      <th>duration</th>\n",
       "      <th>age</th>\n",
       "      <th>became_member_on</th>\n",
       "      <th>gender</th>\n",
       "      <th>income</th>\n",
       "      <th>days_since_member</th>\n",
       "    </tr>\n",
       "  </thead>\n",
       "  <tbody>\n",
       "    <tr>\n",
       "      <th>0</th>\n",
       "      <td>0009655768c64bdeb2e877511632db8f</td>\n",
       "      <td>f19421c1d4aa40978ebb69ca19b0e20d</td>\n",
       "      <td>8.57</td>\n",
       "      <td>bogo</td>\n",
       "      <td>5</td>\n",
       "      <td>5</td>\n",
       "      <td>5</td>\n",
       "      <td>33.0</td>\n",
       "      <td>2017-04-21</td>\n",
       "      <td>M</td>\n",
       "      <td>72000.0</td>\n",
       "      <td>1245</td>\n",
       "    </tr>\n",
       "    <tr>\n",
       "      <th>1</th>\n",
       "      <td>0011e0d4e6b944f998e987f904e8c1e5</td>\n",
       "      <td>9b98b8c7a33c4b65b9aebfe6a799e6d9</td>\n",
       "      <td>22.05</td>\n",
       "      <td>bogo</td>\n",
       "      <td>5</td>\n",
       "      <td>5</td>\n",
       "      <td>7</td>\n",
       "      <td>40.0</td>\n",
       "      <td>2018-01-09</td>\n",
       "      <td>O</td>\n",
       "      <td>57000.0</td>\n",
       "      <td>982</td>\n",
       "    </tr>\n",
       "    <tr>\n",
       "      <th>2</th>\n",
       "      <td>0020c2b971eb4e9188eac86d93036a77</td>\n",
       "      <td>4d5c57ea9a6940dd891ad53e9dbe8da0</td>\n",
       "      <td>17.24</td>\n",
       "      <td>bogo</td>\n",
       "      <td>10</td>\n",
       "      <td>10</td>\n",
       "      <td>5</td>\n",
       "      <td>59.0</td>\n",
       "      <td>2016-03-04</td>\n",
       "      <td>F</td>\n",
       "      <td>90000.0</td>\n",
       "      <td>1658</td>\n",
       "    </tr>\n",
       "    <tr>\n",
       "      <th>3</th>\n",
       "      <td>0020ccbbb6d84e358d3414a3ff76cffd</td>\n",
       "      <td>9b98b8c7a33c4b65b9aebfe6a799e6d9</td>\n",
       "      <td>10.32</td>\n",
       "      <td>bogo</td>\n",
       "      <td>5</td>\n",
       "      <td>5</td>\n",
       "      <td>7</td>\n",
       "      <td>24.0</td>\n",
       "      <td>2016-11-11</td>\n",
       "      <td>F</td>\n",
       "      <td>60000.0</td>\n",
       "      <td>1406</td>\n",
       "    </tr>\n",
       "    <tr>\n",
       "      <th>4</th>\n",
       "      <td>0020ccbbb6d84e358d3414a3ff76cffd</td>\n",
       "      <td>f19421c1d4aa40978ebb69ca19b0e20d</td>\n",
       "      <td>14.53</td>\n",
       "      <td>bogo</td>\n",
       "      <td>5</td>\n",
       "      <td>5</td>\n",
       "      <td>5</td>\n",
       "      <td>24.0</td>\n",
       "      <td>2016-11-11</td>\n",
       "      <td>F</td>\n",
       "      <td>60000.0</td>\n",
       "      <td>1406</td>\n",
       "    </tr>\n",
       "  </tbody>\n",
       "</table>\n",
       "</div>"
      ],
      "text/plain": [
       "                        customer_id                      portfolio_id  amount  \\\n",
       "0  0009655768c64bdeb2e877511632db8f  f19421c1d4aa40978ebb69ca19b0e20d    8.57   \n",
       "1  0011e0d4e6b944f998e987f904e8c1e5  9b98b8c7a33c4b65b9aebfe6a799e6d9   22.05   \n",
       "2  0020c2b971eb4e9188eac86d93036a77  4d5c57ea9a6940dd891ad53e9dbe8da0   17.24   \n",
       "3  0020ccbbb6d84e358d3414a3ff76cffd  9b98b8c7a33c4b65b9aebfe6a799e6d9   10.32   \n",
       "4  0020ccbbb6d84e358d3414a3ff76cffd  f19421c1d4aa40978ebb69ca19b0e20d   14.53   \n",
       "\n",
       "  offer_type  reward  difficulty  duration   age became_member_on gender  \\\n",
       "0       bogo       5           5         5  33.0       2017-04-21      M   \n",
       "1       bogo       5           5         7  40.0       2018-01-09      O   \n",
       "2       bogo      10          10         5  59.0       2016-03-04      F   \n",
       "3       bogo       5           5         7  24.0       2016-11-11      F   \n",
       "4       bogo       5           5         5  24.0       2016-11-11      F   \n",
       "\n",
       "    income  days_since_member  \n",
       "0  72000.0               1245  \n",
       "1  57000.0                982  \n",
       "2  90000.0               1658  \n",
       "3  60000.0               1406  \n",
       "4  60000.0               1406  "
      ]
     },
     "execution_count": 1121,
     "metadata": {},
     "output_type": "execute_result"
    }
   ],
   "source": [
    "offer_trans_final_temp_df.head()"
   ]
  },
  {
   "cell_type": "code",
   "execution_count": 1122,
   "metadata": {},
   "outputs": [],
   "source": [
    "# offer_trans_final_temp_df = offer_trans_final_temp_df.merge(FRMScore_df, how = \"left\", on = \"customer_id\")"
   ]
  },
  {
   "cell_type": "code",
   "execution_count": 1123,
   "metadata": {},
   "outputs": [],
   "source": [
    "offer_trans_final_df = offer_trans_final_temp_df.drop(columns = [\"portfolio_id\", \"customer_id\"])"
   ]
  },
  {
   "cell_type": "code",
   "execution_count": 1124,
   "metadata": {
    "scrolled": true
   },
   "outputs": [
    {
     "data": {
      "text/html": [
       "<div>\n",
       "<style scoped>\n",
       "    .dataframe tbody tr th:only-of-type {\n",
       "        vertical-align: middle;\n",
       "    }\n",
       "\n",
       "    .dataframe tbody tr th {\n",
       "        vertical-align: top;\n",
       "    }\n",
       "\n",
       "    .dataframe thead th {\n",
       "        text-align: right;\n",
       "    }\n",
       "</style>\n",
       "<table border=\"1\" class=\"dataframe\">\n",
       "  <thead>\n",
       "    <tr style=\"text-align: right;\">\n",
       "      <th></th>\n",
       "      <th>amount</th>\n",
       "      <th>offer_type</th>\n",
       "      <th>reward</th>\n",
       "      <th>difficulty</th>\n",
       "      <th>duration</th>\n",
       "      <th>age</th>\n",
       "      <th>became_member_on</th>\n",
       "      <th>gender</th>\n",
       "      <th>income</th>\n",
       "      <th>days_since_member</th>\n",
       "    </tr>\n",
       "  </thead>\n",
       "  <tbody>\n",
       "    <tr>\n",
       "      <th>0</th>\n",
       "      <td>8.57</td>\n",
       "      <td>bogo</td>\n",
       "      <td>5</td>\n",
       "      <td>5</td>\n",
       "      <td>5</td>\n",
       "      <td>33.0</td>\n",
       "      <td>2017-04-21</td>\n",
       "      <td>M</td>\n",
       "      <td>72000.0</td>\n",
       "      <td>1245</td>\n",
       "    </tr>\n",
       "    <tr>\n",
       "      <th>1</th>\n",
       "      <td>22.05</td>\n",
       "      <td>bogo</td>\n",
       "      <td>5</td>\n",
       "      <td>5</td>\n",
       "      <td>7</td>\n",
       "      <td>40.0</td>\n",
       "      <td>2018-01-09</td>\n",
       "      <td>O</td>\n",
       "      <td>57000.0</td>\n",
       "      <td>982</td>\n",
       "    </tr>\n",
       "    <tr>\n",
       "      <th>2</th>\n",
       "      <td>17.24</td>\n",
       "      <td>bogo</td>\n",
       "      <td>10</td>\n",
       "      <td>10</td>\n",
       "      <td>5</td>\n",
       "      <td>59.0</td>\n",
       "      <td>2016-03-04</td>\n",
       "      <td>F</td>\n",
       "      <td>90000.0</td>\n",
       "      <td>1658</td>\n",
       "    </tr>\n",
       "    <tr>\n",
       "      <th>3</th>\n",
       "      <td>10.32</td>\n",
       "      <td>bogo</td>\n",
       "      <td>5</td>\n",
       "      <td>5</td>\n",
       "      <td>7</td>\n",
       "      <td>24.0</td>\n",
       "      <td>2016-11-11</td>\n",
       "      <td>F</td>\n",
       "      <td>60000.0</td>\n",
       "      <td>1406</td>\n",
       "    </tr>\n",
       "    <tr>\n",
       "      <th>4</th>\n",
       "      <td>14.53</td>\n",
       "      <td>bogo</td>\n",
       "      <td>5</td>\n",
       "      <td>5</td>\n",
       "      <td>5</td>\n",
       "      <td>24.0</td>\n",
       "      <td>2016-11-11</td>\n",
       "      <td>F</td>\n",
       "      <td>60000.0</td>\n",
       "      <td>1406</td>\n",
       "    </tr>\n",
       "  </tbody>\n",
       "</table>\n",
       "</div>"
      ],
      "text/plain": [
       "   amount offer_type  reward  difficulty  duration   age became_member_on  \\\n",
       "0    8.57       bogo       5           5         5  33.0       2017-04-21   \n",
       "1   22.05       bogo       5           5         7  40.0       2018-01-09   \n",
       "2   17.24       bogo      10          10         5  59.0       2016-03-04   \n",
       "3   10.32       bogo       5           5         7  24.0       2016-11-11   \n",
       "4   14.53       bogo       5           5         5  24.0       2016-11-11   \n",
       "\n",
       "  gender   income  days_since_member  \n",
       "0      M  72000.0               1245  \n",
       "1      O  57000.0                982  \n",
       "2      F  90000.0               1658  \n",
       "3      F  60000.0               1406  \n",
       "4      F  60000.0               1406  "
      ]
     },
     "execution_count": 1124,
     "metadata": {},
     "output_type": "execute_result"
    }
   ],
   "source": [
    "offer_trans_final_df.head()"
   ]
  },
  {
   "cell_type": "code",
   "execution_count": 1125,
   "metadata": {},
   "outputs": [],
   "source": [
    "offer_trans_by_gender_pct = offer_trans_final_df.groupby(\"gender\")[\"amount\"].sum()/offer_trans_final_df[\"amount\"].sum()"
   ]
  },
  {
   "cell_type": "code",
   "execution_count": 1126,
   "metadata": {
    "scrolled": false
   },
   "outputs": [
    {
     "data": {
      "text/plain": [
       "Text(0,0.5,'Total Sales')"
      ]
     },
     "execution_count": 1126,
     "metadata": {},
     "output_type": "execute_result"
    },
    {
     "data": {
      "image/png": "[encoded data removed]",
      "text/plain": [
       "<matplotlib.figure.Figure at 0x7f8ed7786860>"
      ]
     },
     "metadata": {
      "needs_background": "light"
     },
     "output_type": "display_data"
    }
   ],
   "source": [
    "fig, ax = plt.subplots()\n",
    "ax.bar(offer_trans_by_gender_pct.index, offer_trans_by_gender_pct.values)\n",
    "ax.set_xticklabels(offer_trans_by_gender_pct.index, rotation = 90)\n",
    "ax.set_xlabel(\"Gender\")\n",
    "ax.set_ylabel(\"Total Sales\")"
   ]
  },
  {
   "cell_type": "code",
   "execution_count": 1127,
   "metadata": {
    "scrolled": true
   },
   "outputs": [
    {
     "data": {
      "text/html": [
       "<div>\n",
       "<style scoped>\n",
       "    .dataframe tbody tr th:only-of-type {\n",
       "        vertical-align: middle;\n",
       "    }\n",
       "\n",
       "    .dataframe tbody tr th {\n",
       "        vertical-align: top;\n",
       "    }\n",
       "\n",
       "    .dataframe thead th {\n",
       "        text-align: right;\n",
       "    }\n",
       "</style>\n",
       "<table border=\"1\" class=\"dataframe\">\n",
       "  <thead>\n",
       "    <tr style=\"text-align: right;\">\n",
       "      <th></th>\n",
       "      <th>amount</th>\n",
       "      <th>offer_type</th>\n",
       "      <th>reward</th>\n",
       "      <th>difficulty</th>\n",
       "      <th>duration</th>\n",
       "      <th>age</th>\n",
       "      <th>became_member_on</th>\n",
       "      <th>gender</th>\n",
       "      <th>income</th>\n",
       "      <th>days_since_member</th>\n",
       "    </tr>\n",
       "  </thead>\n",
       "  <tbody>\n",
       "    <tr>\n",
       "      <th>0</th>\n",
       "      <td>8.57</td>\n",
       "      <td>bogo</td>\n",
       "      <td>5</td>\n",
       "      <td>5</td>\n",
       "      <td>5</td>\n",
       "      <td>33.0</td>\n",
       "      <td>2017-04-21</td>\n",
       "      <td>M</td>\n",
       "      <td>72000.0</td>\n",
       "      <td>1245</td>\n",
       "    </tr>\n",
       "    <tr>\n",
       "      <th>1</th>\n",
       "      <td>22.05</td>\n",
       "      <td>bogo</td>\n",
       "      <td>5</td>\n",
       "      <td>5</td>\n",
       "      <td>7</td>\n",
       "      <td>40.0</td>\n",
       "      <td>2018-01-09</td>\n",
       "      <td>O</td>\n",
       "      <td>57000.0</td>\n",
       "      <td>982</td>\n",
       "    </tr>\n",
       "    <tr>\n",
       "      <th>2</th>\n",
       "      <td>17.24</td>\n",
       "      <td>bogo</td>\n",
       "      <td>10</td>\n",
       "      <td>10</td>\n",
       "      <td>5</td>\n",
       "      <td>59.0</td>\n",
       "      <td>2016-03-04</td>\n",
       "      <td>F</td>\n",
       "      <td>90000.0</td>\n",
       "      <td>1658</td>\n",
       "    </tr>\n",
       "    <tr>\n",
       "      <th>3</th>\n",
       "      <td>10.32</td>\n",
       "      <td>bogo</td>\n",
       "      <td>5</td>\n",
       "      <td>5</td>\n",
       "      <td>7</td>\n",
       "      <td>24.0</td>\n",
       "      <td>2016-11-11</td>\n",
       "      <td>F</td>\n",
       "      <td>60000.0</td>\n",
       "      <td>1406</td>\n",
       "    </tr>\n",
       "    <tr>\n",
       "      <th>4</th>\n",
       "      <td>14.53</td>\n",
       "      <td>bogo</td>\n",
       "      <td>5</td>\n",
       "      <td>5</td>\n",
       "      <td>5</td>\n",
       "      <td>24.0</td>\n",
       "      <td>2016-11-11</td>\n",
       "      <td>F</td>\n",
       "      <td>60000.0</td>\n",
       "      <td>1406</td>\n",
       "    </tr>\n",
       "  </tbody>\n",
       "</table>\n",
       "</div>"
      ],
      "text/plain": [
       "   amount offer_type  reward  difficulty  duration   age became_member_on  \\\n",
       "0    8.57       bogo       5           5         5  33.0       2017-04-21   \n",
       "1   22.05       bogo       5           5         7  40.0       2018-01-09   \n",
       "2   17.24       bogo      10          10         5  59.0       2016-03-04   \n",
       "3   10.32       bogo       5           5         7  24.0       2016-11-11   \n",
       "4   14.53       bogo       5           5         5  24.0       2016-11-11   \n",
       "\n",
       "  gender   income  days_since_member  \n",
       "0      M  72000.0               1245  \n",
       "1      O  57000.0                982  \n",
       "2      F  90000.0               1658  \n",
       "3      F  60000.0               1406  \n",
       "4      F  60000.0               1406  "
      ]
     },
     "execution_count": 1127,
     "metadata": {},
     "output_type": "execute_result"
    }
   ],
   "source": [
    "offer_trans_final_df.head()"
   ]
  },
  {
   "cell_type": "code",
   "execution_count": 1128,
   "metadata": {
    "scrolled": true
   },
   "outputs": [
    {
     "data": {
      "text/plain": [
       "[Text(0,0,'amount'),\n",
       " Text(0,0,'reward'),\n",
       " Text(0,0,'difficulty'),\n",
       " Text(0,0,'duration'),\n",
       " Text(0,0,'age'),\n",
       " Text(0,0,'income'),\n",
       " Text(0,0,'days_since_member')]"
      ]
     },
     "execution_count": 1128,
     "metadata": {},
     "output_type": "execute_result"
    },
    {
     "data": {
      "image/png": "[encoded data removed]",
      "text/plain": [
       "<matplotlib.figure.Figure at 0x7f8ed5d54128>"
      ]
     },
     "metadata": {
      "needs_background": "light"
     },
     "output_type": "display_data"
    }
   ],
   "source": [
    "corr = offer_trans_final_df.corr()\n",
    "fig, ax = plt.subplots()\n",
    "# ax = fig.add_subplot(111)\n",
    "cax = ax.matshow(corr,cmap='coolwarm', vmin=-1, vmax=1)\n",
    "fig.colorbar(cax)\n",
    "ticks = np.arange(0,len(offer_trans_final_df.corr().columns),1)\n",
    "ax.set_xticks(ticks)\n",
    "plt.xticks(rotation=90)\n",
    "ax.set_yticks(ticks)\n",
    "ax.set_xticklabels(offer_trans_final_df.corr().columns)\n",
    "ax.set_yticklabels(offer_trans_final_df.corr().columns)"
   ]
  },
  {
   "cell_type": "markdown",
   "metadata": {},
   "source": [
    "difficulty has week correlation with reward and strong relation with duration. Drop difficulty column"
   ]
  },
  {
   "cell_type": "code",
   "execution_count": 1129,
   "metadata": {},
   "outputs": [],
   "source": [
    "offer_trans_final_df.drop(columns =[\"difficulty\"], inplace=True)"
   ]
  },
  {
   "cell_type": "code",
   "execution_count": 1130,
   "metadata": {
    "scrolled": true
   },
   "outputs": [
    {
     "data": {
      "text/plain": [
       "[Text(0,0,'amount'),\n",
       " Text(0,0,'reward'),\n",
       " Text(0,0,'duration'),\n",
       " Text(0,0,'age'),\n",
       " Text(0,0,'income'),\n",
       " Text(0,0,'days_since_member')]"
      ]
     },
     "execution_count": 1130,
     "metadata": {},
     "output_type": "execute_result"
    },
    {
     "data": {
      "image/png": "[encoded data removed]",
      "text/plain": [
       "<matplotlib.figure.Figure at 0x7f8ed5d28710>"
      ]
     },
     "metadata": {
      "needs_background": "light"
     },
     "output_type": "display_data"
    }
   ],
   "source": [
    "corr = offer_trans_final_df.corr()\n",
    "fig, ax = plt.subplots()\n",
    "# ax = fig.add_subplot(111)\n",
    "cax = ax.matshow(corr,cmap='coolwarm', vmin=-1, vmax=1)\n",
    "fig.colorbar(cax)\n",
    "ticks = np.arange(0,len(offer_trans_final_df.corr().columns),1)\n",
    "ax.set_xticks(ticks)\n",
    "plt.xticks(rotation=90)\n",
    "ax.set_yticks(ticks)\n",
    "ax.set_xticklabels(offer_trans_final_df.corr().columns)\n",
    "ax.set_yticklabels(offer_trans_final_df.corr().columns)"
   ]
  },
  {
   "cell_type": "code",
   "execution_count": 1131,
   "metadata": {
    "scrolled": true
   },
   "outputs": [
    {
     "data": {
      "text/html": [
       "<div>\n",
       "<style scoped>\n",
       "    .dataframe tbody tr th:only-of-type {\n",
       "        vertical-align: middle;\n",
       "    }\n",
       "\n",
       "    .dataframe tbody tr th {\n",
       "        vertical-align: top;\n",
       "    }\n",
       "\n",
       "    .dataframe thead th {\n",
       "        text-align: right;\n",
       "    }\n",
       "</style>\n",
       "<table border=\"1\" class=\"dataframe\">\n",
       "  <thead>\n",
       "    <tr style=\"text-align: right;\">\n",
       "      <th></th>\n",
       "      <th>amount</th>\n",
       "      <th>offer_type</th>\n",
       "      <th>reward</th>\n",
       "      <th>duration</th>\n",
       "      <th>age</th>\n",
       "      <th>became_member_on</th>\n",
       "      <th>gender</th>\n",
       "      <th>income</th>\n",
       "      <th>days_since_member</th>\n",
       "    </tr>\n",
       "  </thead>\n",
       "  <tbody>\n",
       "    <tr>\n",
       "      <th>0</th>\n",
       "      <td>8.57</td>\n",
       "      <td>bogo</td>\n",
       "      <td>5</td>\n",
       "      <td>5</td>\n",
       "      <td>33.0</td>\n",
       "      <td>2017-04-21</td>\n",
       "      <td>M</td>\n",
       "      <td>72000.0</td>\n",
       "      <td>1245</td>\n",
       "    </tr>\n",
       "    <tr>\n",
       "      <th>1</th>\n",
       "      <td>22.05</td>\n",
       "      <td>bogo</td>\n",
       "      <td>5</td>\n",
       "      <td>7</td>\n",
       "      <td>40.0</td>\n",
       "      <td>2018-01-09</td>\n",
       "      <td>O</td>\n",
       "      <td>57000.0</td>\n",
       "      <td>982</td>\n",
       "    </tr>\n",
       "    <tr>\n",
       "      <th>2</th>\n",
       "      <td>17.24</td>\n",
       "      <td>bogo</td>\n",
       "      <td>10</td>\n",
       "      <td>5</td>\n",
       "      <td>59.0</td>\n",
       "      <td>2016-03-04</td>\n",
       "      <td>F</td>\n",
       "      <td>90000.0</td>\n",
       "      <td>1658</td>\n",
       "    </tr>\n",
       "    <tr>\n",
       "      <th>3</th>\n",
       "      <td>10.32</td>\n",
       "      <td>bogo</td>\n",
       "      <td>5</td>\n",
       "      <td>7</td>\n",
       "      <td>24.0</td>\n",
       "      <td>2016-11-11</td>\n",
       "      <td>F</td>\n",
       "      <td>60000.0</td>\n",
       "      <td>1406</td>\n",
       "    </tr>\n",
       "    <tr>\n",
       "      <th>4</th>\n",
       "      <td>14.53</td>\n",
       "      <td>bogo</td>\n",
       "      <td>5</td>\n",
       "      <td>5</td>\n",
       "      <td>24.0</td>\n",
       "      <td>2016-11-11</td>\n",
       "      <td>F</td>\n",
       "      <td>60000.0</td>\n",
       "      <td>1406</td>\n",
       "    </tr>\n",
       "  </tbody>\n",
       "</table>\n",
       "</div>"
      ],
      "text/plain": [
       "   amount offer_type  reward  duration   age became_member_on gender   income  \\\n",
       "0    8.57       bogo       5         5  33.0       2017-04-21      M  72000.0   \n",
       "1   22.05       bogo       5         7  40.0       2018-01-09      O  57000.0   \n",
       "2   17.24       bogo      10         5  59.0       2016-03-04      F  90000.0   \n",
       "3   10.32       bogo       5         7  24.0       2016-11-11      F  60000.0   \n",
       "4   14.53       bogo       5         5  24.0       2016-11-11      F  60000.0   \n",
       "\n",
       "   days_since_member  \n",
       "0               1245  \n",
       "1                982  \n",
       "2               1658  \n",
       "3               1406  \n",
       "4               1406  "
      ]
     },
     "execution_count": 1131,
     "metadata": {},
     "output_type": "execute_result"
    }
   ],
   "source": [
    "offer_trans_final_df.head()"
   ]
  },
  {
   "cell_type": "markdown",
   "metadata": {},
   "source": [
    "Generate a df for clustering analysis"
   ]
  },
  {
   "cell_type": "code",
   "execution_count": 1132,
   "metadata": {},
   "outputs": [],
   "source": [
    "offer_trans_final_kmeans_df = offer_trans_final_df[[\"amount\", \"offer_type\", \"gender\", \"age\", \"days_since_member\"]]"
   ]
  },
  {
   "cell_type": "code",
   "execution_count": 1133,
   "metadata": {},
   "outputs": [],
   "source": [
    "offer_trans_final_kmeans_final_df = pd.concat([offer_trans_final_kmeans_df, pd.get_dummies(offer_trans_final_kmeans_df[[\"offer_type\", \"gender\"]])], axis=1)"
   ]
  },
  {
   "cell_type": "code",
   "execution_count": 1134,
   "metadata": {},
   "outputs": [
    {
     "data": {
      "text/html": [
       "<div>\n",
       "<style scoped>\n",
       "    .dataframe tbody tr th:only-of-type {\n",
       "        vertical-align: middle;\n",
       "    }\n",
       "\n",
       "    .dataframe tbody tr th {\n",
       "        vertical-align: top;\n",
       "    }\n",
       "\n",
       "    .dataframe thead th {\n",
       "        text-align: right;\n",
       "    }\n",
       "</style>\n",
       "<table border=\"1\" class=\"dataframe\">\n",
       "  <thead>\n",
       "    <tr style=\"text-align: right;\">\n",
       "      <th></th>\n",
       "      <th>amount</th>\n",
       "      <th>offer_type</th>\n",
       "      <th>gender</th>\n",
       "      <th>age</th>\n",
       "      <th>days_since_member</th>\n",
       "      <th>offer_type_bogo</th>\n",
       "      <th>offer_type_discount</th>\n",
       "      <th>offer_type_informational</th>\n",
       "      <th>gender_F</th>\n",
       "      <th>gender_M</th>\n",
       "      <th>gender_O</th>\n",
       "    </tr>\n",
       "  </thead>\n",
       "  <tbody>\n",
       "    <tr>\n",
       "      <th>0</th>\n",
       "      <td>8.57</td>\n",
       "      <td>bogo</td>\n",
       "      <td>M</td>\n",
       "      <td>33.0</td>\n",
       "      <td>1245</td>\n",
       "      <td>1</td>\n",
       "      <td>0</td>\n",
       "      <td>0</td>\n",
       "      <td>0</td>\n",
       "      <td>1</td>\n",
       "      <td>0</td>\n",
       "    </tr>\n",
       "    <tr>\n",
       "      <th>1</th>\n",
       "      <td>22.05</td>\n",
       "      <td>bogo</td>\n",
       "      <td>O</td>\n",
       "      <td>40.0</td>\n",
       "      <td>982</td>\n",
       "      <td>1</td>\n",
       "      <td>0</td>\n",
       "      <td>0</td>\n",
       "      <td>0</td>\n",
       "      <td>0</td>\n",
       "      <td>1</td>\n",
       "    </tr>\n",
       "    <tr>\n",
       "      <th>2</th>\n",
       "      <td>17.24</td>\n",
       "      <td>bogo</td>\n",
       "      <td>F</td>\n",
       "      <td>59.0</td>\n",
       "      <td>1658</td>\n",
       "      <td>1</td>\n",
       "      <td>0</td>\n",
       "      <td>0</td>\n",
       "      <td>1</td>\n",
       "      <td>0</td>\n",
       "      <td>0</td>\n",
       "    </tr>\n",
       "    <tr>\n",
       "      <th>3</th>\n",
       "      <td>10.32</td>\n",
       "      <td>bogo</td>\n",
       "      <td>F</td>\n",
       "      <td>24.0</td>\n",
       "      <td>1406</td>\n",
       "      <td>1</td>\n",
       "      <td>0</td>\n",
       "      <td>0</td>\n",
       "      <td>1</td>\n",
       "      <td>0</td>\n",
       "      <td>0</td>\n",
       "    </tr>\n",
       "    <tr>\n",
       "      <th>4</th>\n",
       "      <td>14.53</td>\n",
       "      <td>bogo</td>\n",
       "      <td>F</td>\n",
       "      <td>24.0</td>\n",
       "      <td>1406</td>\n",
       "      <td>1</td>\n",
       "      <td>0</td>\n",
       "      <td>0</td>\n",
       "      <td>1</td>\n",
       "      <td>0</td>\n",
       "      <td>0</td>\n",
       "    </tr>\n",
       "  </tbody>\n",
       "</table>\n",
       "</div>"
      ],
      "text/plain": [
       "   amount offer_type gender   age  days_since_member  offer_type_bogo  \\\n",
       "0    8.57       bogo      M  33.0               1245                1   \n",
       "1   22.05       bogo      O  40.0                982                1   \n",
       "2   17.24       bogo      F  59.0               1658                1   \n",
       "3   10.32       bogo      F  24.0               1406                1   \n",
       "4   14.53       bogo      F  24.0               1406                1   \n",
       "\n",
       "   offer_type_discount  offer_type_informational  gender_F  gender_M  gender_O  \n",
       "0                    0                         0         0         1         0  \n",
       "1                    0                         0         0         0         1  \n",
       "2                    0                         0         1         0         0  \n",
       "3                    0                         0         1         0         0  \n",
       "4                    0                         0         1         0         0  "
      ]
     },
     "execution_count": 1134,
     "metadata": {},
     "output_type": "execute_result"
    }
   ],
   "source": [
    "offer_trans_final_kmeans_final_df.head()"
   ]
  },
  {
   "cell_type": "code",
   "execution_count": 1135,
   "metadata": {},
   "outputs": [],
   "source": [
    "offer_trans_final_kmeans_final_df.drop(columns=[\"offer_type\", \"gender\"], inplace=True)"
   ]
  },
  {
   "cell_type": "code",
   "execution_count": 1136,
   "metadata": {
    "scrolled": false
   },
   "outputs": [
    {
     "data": {
      "text/html": [
       "<div>\n",
       "<style scoped>\n",
       "    .dataframe tbody tr th:only-of-type {\n",
       "        vertical-align: middle;\n",
       "    }\n",
       "\n",
       "    .dataframe tbody tr th {\n",
       "        vertical-align: top;\n",
       "    }\n",
       "\n",
       "    .dataframe thead th {\n",
       "        text-align: right;\n",
       "    }\n",
       "</style>\n",
       "<table border=\"1\" class=\"dataframe\">\n",
       "  <thead>\n",
       "    <tr style=\"text-align: right;\">\n",
       "      <th></th>\n",
       "      <th>amount</th>\n",
       "      <th>age</th>\n",
       "      <th>days_since_member</th>\n",
       "      <th>offer_type_bogo</th>\n",
       "      <th>offer_type_discount</th>\n",
       "      <th>offer_type_informational</th>\n",
       "      <th>gender_F</th>\n",
       "      <th>gender_M</th>\n",
       "      <th>gender_O</th>\n",
       "    </tr>\n",
       "  </thead>\n",
       "  <tbody>\n",
       "    <tr>\n",
       "      <th>0</th>\n",
       "      <td>8.57</td>\n",
       "      <td>33.0</td>\n",
       "      <td>1245</td>\n",
       "      <td>1</td>\n",
       "      <td>0</td>\n",
       "      <td>0</td>\n",
       "      <td>0</td>\n",
       "      <td>1</td>\n",
       "      <td>0</td>\n",
       "    </tr>\n",
       "    <tr>\n",
       "      <th>1</th>\n",
       "      <td>22.05</td>\n",
       "      <td>40.0</td>\n",
       "      <td>982</td>\n",
       "      <td>1</td>\n",
       "      <td>0</td>\n",
       "      <td>0</td>\n",
       "      <td>0</td>\n",
       "      <td>0</td>\n",
       "      <td>1</td>\n",
       "    </tr>\n",
       "    <tr>\n",
       "      <th>2</th>\n",
       "      <td>17.24</td>\n",
       "      <td>59.0</td>\n",
       "      <td>1658</td>\n",
       "      <td>1</td>\n",
       "      <td>0</td>\n",
       "      <td>0</td>\n",
       "      <td>1</td>\n",
       "      <td>0</td>\n",
       "      <td>0</td>\n",
       "    </tr>\n",
       "    <tr>\n",
       "      <th>3</th>\n",
       "      <td>10.32</td>\n",
       "      <td>24.0</td>\n",
       "      <td>1406</td>\n",
       "      <td>1</td>\n",
       "      <td>0</td>\n",
       "      <td>0</td>\n",
       "      <td>1</td>\n",
       "      <td>0</td>\n",
       "      <td>0</td>\n",
       "    </tr>\n",
       "    <tr>\n",
       "      <th>4</th>\n",
       "      <td>14.53</td>\n",
       "      <td>24.0</td>\n",
       "      <td>1406</td>\n",
       "      <td>1</td>\n",
       "      <td>0</td>\n",
       "      <td>0</td>\n",
       "      <td>1</td>\n",
       "      <td>0</td>\n",
       "      <td>0</td>\n",
       "    </tr>\n",
       "  </tbody>\n",
       "</table>\n",
       "</div>"
      ],
      "text/plain": [
       "   amount   age  days_since_member  offer_type_bogo  offer_type_discount  \\\n",
       "0    8.57  33.0               1245                1                    0   \n",
       "1   22.05  40.0                982                1                    0   \n",
       "2   17.24  59.0               1658                1                    0   \n",
       "3   10.32  24.0               1406                1                    0   \n",
       "4   14.53  24.0               1406                1                    0   \n",
       "\n",
       "   offer_type_informational  gender_F  gender_M  gender_O  \n",
       "0                         0         0         1         0  \n",
       "1                         0         0         0         1  \n",
       "2                         0         1         0         0  \n",
       "3                         0         1         0         0  \n",
       "4                         0         1         0         0  "
      ]
     },
     "execution_count": 1136,
     "metadata": {},
     "output_type": "execute_result"
    }
   ],
   "source": [
    "offer_trans_final_kmeans_final_df.head()"
   ]
  },
  {
   "cell_type": "code",
   "execution_count": 1137,
   "metadata": {},
   "outputs": [],
   "source": [
    "offer_trans_final_kmeans_final_norm_df = offer_trans_final_kmeans_final_df.copy()"
   ]
  },
  {
   "cell_type": "code",
   "execution_count": 1138,
   "metadata": {},
   "outputs": [],
   "source": [
    "offer_trans_final_kmeans_final_norm_df[\"amount\"] = whiten(offer_trans_final_kmeans_final_df[\"amount\"])\n",
    "offer_trans_final_kmeans_final_norm_df[\"age\"] = whiten(offer_trans_final_kmeans_final_df[\"age\"])\n",
    "offer_trans_final_kmeans_final_norm_df[\"days_since_member\"] = whiten(offer_trans_final_kmeans_final_df[\"days_since_member\"])"
   ]
  },
  {
   "cell_type": "code",
   "execution_count": 1139,
   "metadata": {},
   "outputs": [
    {
     "data": {
      "text/html": [
       "<div>\n",
       "<style scoped>\n",
       "    .dataframe tbody tr th:only-of-type {\n",
       "        vertical-align: middle;\n",
       "    }\n",
       "\n",
       "    .dataframe tbody tr th {\n",
       "        vertical-align: top;\n",
       "    }\n",
       "\n",
       "    .dataframe thead th {\n",
       "        text-align: right;\n",
       "    }\n",
       "</style>\n",
       "<table border=\"1\" class=\"dataframe\">\n",
       "  <thead>\n",
       "    <tr style=\"text-align: right;\">\n",
       "      <th></th>\n",
       "      <th>amount</th>\n",
       "      <th>age</th>\n",
       "      <th>days_since_member</th>\n",
       "      <th>offer_type_bogo</th>\n",
       "      <th>offer_type_discount</th>\n",
       "      <th>offer_type_informational</th>\n",
       "      <th>gender_F</th>\n",
       "      <th>gender_M</th>\n",
       "      <th>gender_O</th>\n",
       "    </tr>\n",
       "  </thead>\n",
       "  <tbody>\n",
       "    <tr>\n",
       "      <th>0</th>\n",
       "      <td>0.215010</td>\n",
       "      <td>1.725264</td>\n",
       "      <td>2.985241</td>\n",
       "      <td>1</td>\n",
       "      <td>0</td>\n",
       "      <td>0</td>\n",
       "      <td>0</td>\n",
       "      <td>1</td>\n",
       "      <td>0</td>\n",
       "    </tr>\n",
       "    <tr>\n",
       "      <th>1</th>\n",
       "      <td>0.553205</td>\n",
       "      <td>2.091229</td>\n",
       "      <td>2.354624</td>\n",
       "      <td>1</td>\n",
       "      <td>0</td>\n",
       "      <td>0</td>\n",
       "      <td>0</td>\n",
       "      <td>0</td>\n",
       "      <td>1</td>\n",
       "    </tr>\n",
       "    <tr>\n",
       "      <th>2</th>\n",
       "      <td>0.432529</td>\n",
       "      <td>3.084563</td>\n",
       "      <td>3.975525</td>\n",
       "      <td>1</td>\n",
       "      <td>0</td>\n",
       "      <td>0</td>\n",
       "      <td>1</td>\n",
       "      <td>0</td>\n",
       "      <td>0</td>\n",
       "    </tr>\n",
       "    <tr>\n",
       "      <th>3</th>\n",
       "      <td>0.258915</td>\n",
       "      <td>1.254737</td>\n",
       "      <td>3.371284</td>\n",
       "      <td>1</td>\n",
       "      <td>0</td>\n",
       "      <td>0</td>\n",
       "      <td>1</td>\n",
       "      <td>0</td>\n",
       "      <td>0</td>\n",
       "    </tr>\n",
       "    <tr>\n",
       "      <th>4</th>\n",
       "      <td>0.364538</td>\n",
       "      <td>1.254737</td>\n",
       "      <td>3.371284</td>\n",
       "      <td>1</td>\n",
       "      <td>0</td>\n",
       "      <td>0</td>\n",
       "      <td>1</td>\n",
       "      <td>0</td>\n",
       "      <td>0</td>\n",
       "    </tr>\n",
       "  </tbody>\n",
       "</table>\n",
       "</div>"
      ],
      "text/plain": [
       "     amount       age  days_since_member  offer_type_bogo  \\\n",
       "0  0.215010  1.725264           2.985241                1   \n",
       "1  0.553205  2.091229           2.354624                1   \n",
       "2  0.432529  3.084563           3.975525                1   \n",
       "3  0.258915  1.254737           3.371284                1   \n",
       "4  0.364538  1.254737           3.371284                1   \n",
       "\n",
       "   offer_type_discount  offer_type_informational  gender_F  gender_M  gender_O  \n",
       "0                    0                         0         0         1         0  \n",
       "1                    0                         0         0         0         1  \n",
       "2                    0                         0         1         0         0  \n",
       "3                    0                         0         1         0         0  \n",
       "4                    0                         0         1         0         0  "
      ]
     },
     "execution_count": 1139,
     "metadata": {},
     "output_type": "execute_result"
    }
   ],
   "source": [
    "offer_trans_final_kmeans_final_norm_df.head()"
   ]
  },
  {
   "cell_type": "code",
   "execution_count": 1140,
   "metadata": {
    "scrolled": false
   },
   "outputs": [
    {
     "data": {
      "text/plain": [
       "([<matplotlib.axis.XTick at 0x7f8ed5c1a4a8>,\n",
       "  <matplotlib.axis.XTick at 0x7f8ed5c1a080>,\n",
       "  <matplotlib.axis.XTick at 0x7f8ed5c1d518>,\n",
       "  <matplotlib.axis.XTick at 0x7f8ed5bc17b8>,\n",
       "  <matplotlib.axis.XTick at 0x7f8ed5bc42b0>,\n",
       "  <matplotlib.axis.XTick at 0x7f8ed5bc4e48>],\n",
       " <a list of 6 Text xticklabel objects>)"
      ]
     },
     "execution_count": 1140,
     "metadata": {},
     "output_type": "execute_result"
    },
    {
     "data": {
      "image/png": "[encoded data removed]",
      "text/plain": [
       "<matplotlib.figure.Figure at 0x7f8ed5c80ba8>"
      ]
     },
     "metadata": {
      "needs_background": "light"
     },
     "output_type": "display_data"
    }
   ],
   "source": [
    "distortions = []\n",
    "num_clusters = range(1, 7)\n",
    "\n",
    "# Create a list of distortions from the kmeans function\n",
    "for i in num_clusters:\n",
    "    cluster_centers, distortion = kmeans(offer_trans_final_kmeans_final_norm_df, i)\n",
    "    distortions.append(distortion)\n",
    "\n",
    "# Create a data frame with two lists - num_clusters, distortions\n",
    "elbow_plot = pd.DataFrame({'num_clusters': num_clusters, 'distortions': distortions})\n",
    "\n",
    "# Creat a line plot of num_clusters and distortions\n",
    "plt.plot(elbow_plot[\"num_clusters\"], elbow_plot[\"distortions\"])\n",
    "plt.xticks(elbow_plot[\"num_clusters\"])"
   ]
  },
  {
   "cell_type": "code",
   "execution_count": 1141,
   "metadata": {},
   "outputs": [],
   "source": [
    "cluster_centers, distortion = kmeans(offer_trans_final_kmeans_final_norm_df, 3)"
   ]
  },
  {
   "cell_type": "code",
   "execution_count": 1142,
   "metadata": {},
   "outputs": [],
   "source": [
    "offer_trans_final_kmeans_final_norm_df['cluster_labels'], distortion_list = vq(offer_trans_final_kmeans_final_norm_df, cluster_centers)"
   ]
  },
  {
   "cell_type": "code",
   "execution_count": 1143,
   "metadata": {
    "scrolled": true
   },
   "outputs": [
    {
     "data": {
      "text/html": [
       "<div>\n",
       "<style scoped>\n",
       "    .dataframe tbody tr th:only-of-type {\n",
       "        vertical-align: middle;\n",
       "    }\n",
       "\n",
       "    .dataframe tbody tr th {\n",
       "        vertical-align: top;\n",
       "    }\n",
       "\n",
       "    .dataframe thead th {\n",
       "        text-align: right;\n",
       "    }\n",
       "</style>\n",
       "<table border=\"1\" class=\"dataframe\">\n",
       "  <thead>\n",
       "    <tr style=\"text-align: right;\">\n",
       "      <th></th>\n",
       "      <th>amount</th>\n",
       "      <th>age</th>\n",
       "      <th>days_since_member</th>\n",
       "      <th>offer_type_bogo</th>\n",
       "      <th>offer_type_discount</th>\n",
       "      <th>offer_type_informational</th>\n",
       "      <th>gender_F</th>\n",
       "      <th>gender_M</th>\n",
       "      <th>gender_O</th>\n",
       "    </tr>\n",
       "    <tr>\n",
       "      <th>cluster_labels</th>\n",
       "      <th></th>\n",
       "      <th></th>\n",
       "      <th></th>\n",
       "      <th></th>\n",
       "      <th></th>\n",
       "      <th></th>\n",
       "      <th></th>\n",
       "      <th></th>\n",
       "      <th></th>\n",
       "    </tr>\n",
       "  </thead>\n",
       "  <tbody>\n",
       "    <tr>\n",
       "      <th>0</th>\n",
       "      <td>16029</td>\n",
       "      <td>16029</td>\n",
       "      <td>16029</td>\n",
       "      <td>16029</td>\n",
       "      <td>16029</td>\n",
       "      <td>16029</td>\n",
       "      <td>16029</td>\n",
       "      <td>16029</td>\n",
       "      <td>16029</td>\n",
       "    </tr>\n",
       "    <tr>\n",
       "      <th>1</th>\n",
       "      <td>12699</td>\n",
       "      <td>12699</td>\n",
       "      <td>12699</td>\n",
       "      <td>12699</td>\n",
       "      <td>12699</td>\n",
       "      <td>12699</td>\n",
       "      <td>12699</td>\n",
       "      <td>12699</td>\n",
       "      <td>12699</td>\n",
       "    </tr>\n",
       "    <tr>\n",
       "      <th>2</th>\n",
       "      <td>20938</td>\n",
       "      <td>20938</td>\n",
       "      <td>20938</td>\n",
       "      <td>20938</td>\n",
       "      <td>20938</td>\n",
       "      <td>20938</td>\n",
       "      <td>20938</td>\n",
       "      <td>20938</td>\n",
       "      <td>20938</td>\n",
       "    </tr>\n",
       "  </tbody>\n",
       "</table>\n",
       "</div>"
      ],
      "text/plain": [
       "                amount    age  days_since_member  offer_type_bogo  \\\n",
       "cluster_labels                                                      \n",
       "0                16029  16029              16029            16029   \n",
       "1                12699  12699              12699            12699   \n",
       "2                20938  20938              20938            20938   \n",
       "\n",
       "                offer_type_discount  offer_type_informational  gender_F  \\\n",
       "cluster_labels                                                            \n",
       "0                             16029                     16029     16029   \n",
       "1                             12699                     12699     12699   \n",
       "2                             20938                     20938     20938   \n",
       "\n",
       "                gender_M  gender_O  \n",
       "cluster_labels                      \n",
       "0                  16029     16029  \n",
       "1                  12699     12699  \n",
       "2                  20938     20938  "
      ]
     },
     "execution_count": 1143,
     "metadata": {},
     "output_type": "execute_result"
    }
   ],
   "source": [
    "offer_trans_final_kmeans_final_norm_df.groupby('cluster_labels').count()"
   ]
  },
  {
   "cell_type": "code",
   "execution_count": 1149,
   "metadata": {
    "scrolled": true
   },
   "outputs": [
    {
     "data": {
      "text/html": [
       "<div>\n",
       "<style scoped>\n",
       "    .dataframe tbody tr th:only-of-type {\n",
       "        vertical-align: middle;\n",
       "    }\n",
       "\n",
       "    .dataframe tbody tr th {\n",
       "        vertical-align: top;\n",
       "    }\n",
       "\n",
       "    .dataframe thead th {\n",
       "        text-align: right;\n",
       "    }\n",
       "</style>\n",
       "<table border=\"1\" class=\"dataframe\">\n",
       "  <thead>\n",
       "    <tr style=\"text-align: right;\">\n",
       "      <th></th>\n",
       "      <th>offer_type_bogo</th>\n",
       "      <th>offer_type_discount</th>\n",
       "      <th>offer_type_informational</th>\n",
       "      <th>amount</th>\n",
       "      <th>age</th>\n",
       "      <th>days_since_member</th>\n",
       "      <th>gender_F</th>\n",
       "      <th>gender_M</th>\n",
       "      <th>gender_O</th>\n",
       "    </tr>\n",
       "    <tr>\n",
       "      <th>cluster_labels</th>\n",
       "      <th></th>\n",
       "      <th></th>\n",
       "      <th></th>\n",
       "      <th></th>\n",
       "      <th></th>\n",
       "      <th></th>\n",
       "      <th></th>\n",
       "      <th></th>\n",
       "      <th></th>\n",
       "    </tr>\n",
       "  </thead>\n",
       "  <tbody>\n",
       "    <tr>\n",
       "      <th>0</th>\n",
       "      <td>6007.0</td>\n",
       "      <td>7315.0</td>\n",
       "      <td>2707.0</td>\n",
       "      <td>4576.631741</td>\n",
       "      <td>1.527338</td>\n",
       "      <td>2.832186</td>\n",
       "      <td>2966.0</td>\n",
       "      <td>6996.0</td>\n",
       "      <td>6067.0</td>\n",
       "    </tr>\n",
       "    <tr>\n",
       "      <th>1</th>\n",
       "      <td>4698.0</td>\n",
       "      <td>5661.0</td>\n",
       "      <td>2340.0</td>\n",
       "      <td>9418.849453</td>\n",
       "      <td>2.858087</td>\n",
       "      <td>4.521217</td>\n",
       "      <td>4785.0</td>\n",
       "      <td>7626.0</td>\n",
       "      <td>288.0</td>\n",
       "    </tr>\n",
       "    <tr>\n",
       "      <th>2</th>\n",
       "      <td>7703.0</td>\n",
       "      <td>9633.0</td>\n",
       "      <td>3602.0</td>\n",
       "      <td>11798.206109</td>\n",
       "      <td>3.338328</td>\n",
       "      <td>2.659326</td>\n",
       "      <td>10155.0</td>\n",
       "      <td>10482.0</td>\n",
       "      <td>301.0</td>\n",
       "    </tr>\n",
       "  </tbody>\n",
       "</table>\n",
       "</div>"
      ],
      "text/plain": [
       "                offer_type_bogo  offer_type_discount  \\\n",
       "cluster_labels                                         \n",
       "0                        6007.0               7315.0   \n",
       "1                        4698.0               5661.0   \n",
       "2                        7703.0               9633.0   \n",
       "\n",
       "                offer_type_informational        amount       age  \\\n",
       "cluster_labels                                                     \n",
       "0                                 2707.0   4576.631741  1.527338   \n",
       "1                                 2340.0   9418.849453  2.858087   \n",
       "2                                 3602.0  11798.206109  3.338328   \n",
       "\n",
       "                days_since_member  gender_F  gender_M  gender_O  \n",
       "cluster_labels                                                   \n",
       "0                        2.832186    2966.0    6996.0    6067.0  \n",
       "1                        4.521217    4785.0    7626.0     288.0  \n",
       "2                        2.659326   10155.0   10482.0     301.0  "
      ]
     },
     "execution_count": 1149,
     "metadata": {},
     "output_type": "execute_result"
    }
   ],
   "source": [
    "offer_trans_final_kmeans_final_norm_df.groupby('cluster_labels').\\\n",
    "agg({\"offer_type_bogo\":sum, \"offer_type_discount\":sum, \"offer_type_informational\":sum, \"amount\":sum,\\\n",
    "    \"age\":np.mean, \"days_since_member\":np.mean, \"gender_F\":sum, \"gender_M\":sum, \"gender_O\":sum\\\n",
    "    })"
   ]
  },
  {
   "cell_type": "markdown",
   "metadata": {},
   "source": [
    "Clustering Analysis can't tell me what types of customers are preferred what offer. Try trees"
   ]
  },
  {
   "cell_type": "markdown",
   "metadata": {},
   "source": [
    "# TODOs: Validate the data"
   ]
  }
 ],
 "metadata": {
  "kernelspec": {
   "display_name": "Python 3",
   "language": "python",
   "name": "python3"
  },
  "language_info": {
   "codemirror_mode": {
    "name": "ipython",
    "version": 3
   },
   "file_extension": ".py",
   "mimetype": "text/x-python",
   "name": "python",
   "nbconvert_exporter": "python",
   "pygments_lexer": "ipython3",
   "version": "3.6.3"
  }
 },
 "nbformat": 4,
 "nbformat_minor": 2
}
